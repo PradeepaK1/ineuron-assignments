{
 "cells": [
  {
   "cell_type": "markdown",
   "id": "a486a990-8ffa-4057-a9d8-93f2fb2c40dd",
   "metadata": {},
   "source": [
    "1.What exactly is []?\n",
    "\n",
    "This is a notation to denonte list and here it is an empty list"
   ]
  },
  {
   "cell_type": "code",
   "execution_count": null,
   "id": "3bc4bc41-0371-4c4c-8ef4-ae63b65ea8e2",
   "metadata": {},
   "outputs": [],
   "source": []
  },
  {
   "cell_type": "markdown",
   "id": "dd4979c8-aceb-47fe-ac1a-92a46f653440",
   "metadata": {},
   "source": [
    "2.In a list of values stored in a variable called spam, how would you assign the value 'hello' as the third value? (Assume [2, 4, 6, 8, 10] are in spam.)\n",
    " \n",
    "As list index starts from 0 so 0,1,2 is the third element so will place spam[2] as hello"
   ]
  },
  {
   "cell_type": "code",
   "execution_count": 1,
   "id": "240fb4c6-da6e-4ccd-9d20-2e1e2f52ebbf",
   "metadata": {},
   "outputs": [
    {
     "name": "stdout",
     "output_type": "stream",
     "text": [
      "[2, 4, 'hello', 8, 10]\n"
     ]
    }
   ],
   "source": [
    "spam = [2, 4, 6, 8, 10]\n",
    "spam[2]='hello'\n",
    "print(spam)"
   ]
  },
  {
   "cell_type": "code",
   "execution_count": null,
   "id": "80f15b43-f510-460e-8855-4fcea6191de2",
   "metadata": {},
   "outputs": [],
   "source": []
  },
  {
   "cell_type": "markdown",
   "id": "1c8e60e8-946b-499c-99d0-6c18813ab865",
   "metadata": {},
   "source": [
    "Let's pretend the spam includes the list ['a', 'b', 'c', 'd'] for the next three queries.\n",
    "\n",
    "3.What is the value of spam[int(int('3' * 2) / 11)]?\n",
    "\n",
    "Let us take spam=['a', 'b', 'c', 'd']\n",
    "\n",
    "first let us try to evaluate \n",
    "\n",
    "int(int('3' * 2) / 11) = int(int('33') / 11) = int(33 / 11) = 3\n",
    "\n",
    "so in spam\n",
    "\n",
    "  0    1    2    3\n",
    "\n",
    "['a', 'b', 'c', 'd']\n",
    "\n",
    "4th element d is printed"
   ]
  },
  {
   "cell_type": "code",
   "execution_count": 3,
   "id": "32443195-9022-41aa-8564-d83b22ae3244",
   "metadata": {},
   "outputs": [
    {
     "data": {
      "text/plain": [
       "'d'"
      ]
     },
     "execution_count": 3,
     "metadata": {},
     "output_type": "execute_result"
    }
   ],
   "source": [
    "spam=['a', 'b', 'c', 'd']\n",
    "spam[int(int('3' * 2) / 11)]"
   ]
  },
  {
   "cell_type": "code",
   "execution_count": null,
   "id": "4a872b74-364e-4637-86c6-9bfe595bc0e4",
   "metadata": {},
   "outputs": [],
   "source": []
  },
  {
   "cell_type": "markdown",
   "id": "daf92930-31f3-4db4-b0eb-1cc7c5824212",
   "metadata": {},
   "source": [
    "4.What is the value of spam[-1]?\n",
    "\n",
    "Negative indexes count from backwards so the first element from the last is 'd'"
   ]
  },
  {
   "cell_type": "code",
   "execution_count": 4,
   "id": "644d8b13-8014-4c94-bf33-9fd21be2fac8",
   "metadata": {},
   "outputs": [
    {
     "data": {
      "text/plain": [
       "'d'"
      ]
     },
     "execution_count": 4,
     "metadata": {},
     "output_type": "execute_result"
    }
   ],
   "source": [
    "spam[-1]"
   ]
  },
  {
   "cell_type": "code",
   "execution_count": null,
   "id": "18f1fe07-9831-4d4e-becd-6677b5b990b7",
   "metadata": {},
   "outputs": [],
   "source": []
  },
  {
   "cell_type": "markdown",
   "id": "3b1361bb-c83a-4aeb-bef0-dc1a63684d90",
   "metadata": {},
   "source": [
    "5.What is the value of spam[:2]?\n",
    "\n",
    "General list indexes specification will be like [start:stop:increment/decrement]\n",
    "\n",
    "So here as it is given as [:2] it means start from 0th index (as default start is 0), stop at 2 which means 2-1th index \n",
    "\n",
    "Hence the elements would 0th and 1st"
   ]
  },
  {
   "cell_type": "code",
   "execution_count": 5,
   "id": "5768180c-637a-4b62-8180-129d2cf6091d",
   "metadata": {},
   "outputs": [
    {
     "data": {
      "text/plain": [
       "['a', 'b']"
      ]
     },
     "execution_count": 5,
     "metadata": {},
     "output_type": "execute_result"
    }
   ],
   "source": [
    "spam[:2]"
   ]
  },
  {
   "cell_type": "code",
   "execution_count": null,
   "id": "c156e544-65e8-4dc2-95b4-15959a387cae",
   "metadata": {},
   "outputs": [],
   "source": []
  },
  {
   "cell_type": "markdown",
   "id": "198723c9-8eef-46d6-9366-03d39e98dca2",
   "metadata": {},
   "source": [
    "Let's pretend bacon has the list [3.14, 'cat,' 11, 'cat,' True] for the next three questions.\n",
    "\n",
    "6.What is the value of bacon.index('cat')?\n",
    "\n",
    "The first appearance of cat in the bacon list is at the 1st position (indexing starts from 0) hence that is printed"
   ]
  },
  {
   "cell_type": "markdown",
   "id": "97c1d2a8-2276-4139-b36a-d5b9b5d6b1d9",
   "metadata": {},
   "source": [
    "bacon = [3.14, 'cat', 11, 'cat', True]\n",
    "bacon.index('cat')"
   ]
  },
  {
   "cell_type": "code",
   "execution_count": null,
   "id": "c1083a0d-737d-4908-8766-28c015438c4d",
   "metadata": {},
   "outputs": [],
   "source": []
  },
  {
   "cell_type": "markdown",
   "id": "c624cf18-2fec-4ede-8916-f61407b37876",
   "metadata": {},
   "source": [
    "7.How does bacon.append(99) change the look of the list value in bacon?\n",
    "\n",
    "Append function adds the mentioned element towards the last of the list without changing the positions of other elements"
   ]
  },
  {
   "cell_type": "code",
   "execution_count": 18,
   "id": "4753deda-7686-4586-aee4-9ff888c8cda1",
   "metadata": {},
   "outputs": [
    {
     "name": "stdout",
     "output_type": "stream",
     "text": [
      "[3.14, 'cat', 11, 'cat', True, 99]\n"
     ]
    }
   ],
   "source": [
    "bacon = [3.14, 'cat', 11, 'cat', True]\n",
    "bacon.append(99)\n",
    "print(bacon)"
   ]
  },
  {
   "cell_type": "code",
   "execution_count": null,
   "id": "488adbdd-8e56-41c0-ba61-1248fd63eef6",
   "metadata": {},
   "outputs": [],
   "source": []
  },
  {
   "cell_type": "markdown",
   "id": "eb890a52-0f1b-4fe1-8c01-445550fb36cf",
   "metadata": {},
   "source": [
    "8.How does bacon.remove('cat') change the look of the list in bacon?\n",
    "\n",
    "Remove function removes the specified element given in the brackets from the list mentioned"
   ]
  },
  {
   "cell_type": "code",
   "execution_count": 21,
   "id": "0101b1df-f04f-42b6-b12f-c831d6348c97",
   "metadata": {},
   "outputs": [
    {
     "name": "stdout",
     "output_type": "stream",
     "text": [
      "[3.14, 11, True, 99]\n"
     ]
    }
   ],
   "source": [
    "bacon.remove('cat')\n",
    "print(bacon)"
   ]
  },
  {
   "cell_type": "code",
   "execution_count": null,
   "id": "fdf28516-53be-4209-adde-8794ad652f7a",
   "metadata": {},
   "outputs": [],
   "source": []
  },
  {
   "cell_type": "markdown",
   "id": "4921b1c2-d65c-4879-a939-bbabe2593e27",
   "metadata": {},
   "source": [
    "9.What are the list concatenation and list replication operators?\n",
    "\n",
    "Concatenation is done with + operator which adds two or lists \n",
    "\n",
    "Replication operator is * which multiplies the list specified times \n",
    "\n",
    "For example"
   ]
  },
  {
   "cell_type": "code",
   "execution_count": 22,
   "id": "83048d21-06b0-4e8d-9a34-6a187e0917df",
   "metadata": {},
   "outputs": [
    {
     "name": "stdout",
     "output_type": "stream",
     "text": [
      "[1, 2, 3]\n",
      "[1, 2, 1, 2]\n"
     ]
    }
   ],
   "source": [
    "l1=[1,2]\n",
    "l2=[3]\n",
    "print(l1+l2)\n",
    "print(l1*2)"
   ]
  },
  {
   "cell_type": "code",
   "execution_count": null,
   "id": "ede2d2cf-bcbe-4c05-ba1c-e9e288c46da2",
   "metadata": {},
   "outputs": [],
   "source": []
  },
  {
   "cell_type": "markdown",
   "id": "dd71a707-6ce0-4ef8-ae86-7077e8fc3d3c",
   "metadata": {},
   "source": [
    "10.What is difference between the list methods append() and insert()?\n",
    "\n",
    "Append method can add elements only at the end of the list no specific positions can be given\n",
    "\n",
    "Insert methods allows us to add elements in specific positions mentioned"
   ]
  },
  {
   "cell_type": "code",
   "execution_count": 25,
   "id": "b4c8286e-2434-43d4-b1a0-bc4bce504770",
   "metadata": {},
   "outputs": [],
   "source": [
    "l1.append(7)\n",
    "l1.insert(1,8)"
   ]
  },
  {
   "cell_type": "code",
   "execution_count": 26,
   "id": "171f62d1-29b0-4e34-84ee-bbf449b6626d",
   "metadata": {},
   "outputs": [
    {
     "name": "stdout",
     "output_type": "stream",
     "text": [
      "[1, 8, 2, 7]\n"
     ]
    }
   ],
   "source": [
    "print(l1)"
   ]
  },
  {
   "cell_type": "code",
   "execution_count": null,
   "id": "4ad1aacb-867a-47f1-97c8-bf18f3089988",
   "metadata": {},
   "outputs": [],
   "source": []
  },
  {
   "cell_type": "markdown",
   "id": "a7a66872-ca44-47a8-9b35-b246d5698ac6",
   "metadata": {},
   "source": [
    "11.What are the two methods for removing items from a list?\n",
    "\n",
    "Remove and pop area few methods to remove items from list"
   ]
  },
  {
   "cell_type": "code",
   "execution_count": 29,
   "id": "54c4d9c8-4ef9-469f-9842-78287e75979a",
   "metadata": {},
   "outputs": [
    {
     "name": "stdout",
     "output_type": "stream",
     "text": [
      "[8, 2]\n"
     ]
    }
   ],
   "source": [
    "l1=[1,8,2,7]\n",
    "l1.remove(1)\n",
    "l1.pop()\n",
    "print(l1)"
   ]
  },
  {
   "cell_type": "code",
   "execution_count": null,
   "id": "ee794cc6-1944-47b0-bcc3-ee1a25c95659",
   "metadata": {},
   "outputs": [],
   "source": []
  },
  {
   "cell_type": "markdown",
   "id": "7867cd7b-3082-48d3-9128-75508ad0e903",
   "metadata": {},
   "source": [
    "12. Describe how list values and string values are identical.\n",
    "\n",
    "list and string share a common set of operations like \n",
    "\n",
    "len method can be used \n",
    "\n",
    "They can be iterated through loops\n",
    "\n",
    "Indexing is done on both\n",
    "\n",
    "+ and * operators can be used"
   ]
  },
  {
   "cell_type": "code",
   "execution_count": 30,
   "id": "7fa856d6-a910-4fb2-9cd4-55a6a0a328c6",
   "metadata": {},
   "outputs": [
    {
     "name": "stdout",
     "output_type": "stream",
     "text": [
      "1\n",
      "2\n",
      "3\n",
      "s\n",
      "t\n",
      "r\n",
      "i\n",
      "n\n",
      "g\n",
      "[1, 2, 3, 1, 2, 3]\n",
      "stringstring\n"
     ]
    }
   ],
   "source": [
    "s = 'string'\n",
    "l=[1,2,3]\n",
    "len(s)\n",
    "len(l)\n",
    "for i in l:\n",
    "    print(i)\n",
    "for i in s:\n",
    "    print(i)\n",
    "print(l+l)\n",
    "print(s*2)"
   ]
  },
  {
   "cell_type": "code",
   "execution_count": null,
   "id": "6bbfcf6f-d2f8-4170-8294-91f8cbef2165",
   "metadata": {},
   "outputs": [],
   "source": []
  },
  {
   "cell_type": "markdown",
   "id": "fdc2c26a-7616-48fe-b825-97ca9edeee3a",
   "metadata": {},
   "source": [
    "13.What's the difference between tuples and lists?\n",
    "\n",
    "Tuples are denoted by () and they are immutable, values cannot be changed, removed or added\n",
    "\n",
    "lists are denoted by[] and they are mutable append, remove, replace using indexes can be done"
   ]
  },
  {
   "cell_type": "code",
   "execution_count": 33,
   "id": "0e59015a-3954-4942-a477-0bc19a10fa56",
   "metadata": {},
   "outputs": [
    {
     "ename": "AttributeError",
     "evalue": "'tuple' object has no attribute 'append'",
     "output_type": "error",
     "traceback": [
      "\u001b[1;31m---------------------------------------------------------------------------\u001b[0m",
      "\u001b[1;31mAttributeError\u001b[0m                            Traceback (most recent call last)",
      "\u001b[1;32m<ipython-input-33-6f4abeaf72c6>\u001b[0m in \u001b[0;36m<module>\u001b[1;34m\u001b[0m\n\u001b[0;32m      1\u001b[0m \u001b[0mli\u001b[0m\u001b[1;33m=\u001b[0m\u001b[1;33m[\u001b[0m\u001b[1;36m1\u001b[0m\u001b[1;33m,\u001b[0m\u001b[1;36m2\u001b[0m\u001b[1;33m]\u001b[0m\u001b[1;33m\u001b[0m\u001b[1;33m\u001b[0m\u001b[0m\n\u001b[0;32m      2\u001b[0m \u001b[0mli\u001b[0m\u001b[1;33m=\u001b[0m\u001b[1;33m(\u001b[0m\u001b[1;36m1\u001b[0m\u001b[1;33m,\u001b[0m\u001b[1;36m2\u001b[0m\u001b[1;33m)\u001b[0m\u001b[1;33m\u001b[0m\u001b[1;33m\u001b[0m\u001b[0m\n\u001b[1;32m----> 3\u001b[1;33m \u001b[0mli\u001b[0m\u001b[1;33m.\u001b[0m\u001b[0mappend\u001b[0m\u001b[1;33m(\u001b[0m\u001b[1;36m3\u001b[0m\u001b[1;33m)\u001b[0m\u001b[1;33m\u001b[0m\u001b[1;33m\u001b[0m\u001b[0m\n\u001b[0m\u001b[0;32m      4\u001b[0m \u001b[0mli\u001b[0m\u001b[1;33m.\u001b[0m\u001b[0mremove\u001b[0m\u001b[1;33m(\u001b[0m\u001b[1;36m2\u001b[0m\u001b[1;33m)\u001b[0m\u001b[1;33m\u001b[0m\u001b[1;33m\u001b[0m\u001b[0m\n\u001b[0;32m      5\u001b[0m \u001b[0mli\u001b[0m\u001b[1;33m[\u001b[0m\u001b[1;36m1\u001b[0m\u001b[1;33m]\u001b[0m\u001b[1;33m=\u001b[0m\u001b[1;36m9\u001b[0m\u001b[1;33m\u001b[0m\u001b[1;33m\u001b[0m\u001b[0m\n",
      "\u001b[1;31mAttributeError\u001b[0m: 'tuple' object has no attribute 'append'"
     ]
    }
   ],
   "source": [
    "li=[1,2]\n",
    "li=(1,2)\n",
    "li.append(3)\n",
    "li.remove(2)\n",
    "li[1]=9\n",
    "print (li)\n",
    "//possible\n",
    "tu.append(3)\n",
    "tu.remove(2)\n",
    "tu[1]=9\n",
    "//impossible"
   ]
  },
  {
   "cell_type": "code",
   "execution_count": null,
   "id": "24ad5b4e-2194-4851-9868-40d802802056",
   "metadata": {},
   "outputs": [],
   "source": []
  },
  {
   "cell_type": "markdown",
   "id": "c7e4e48d-f3ab-443a-ab80-586637da9b98",
   "metadata": {},
   "source": [
    "14.How do you type a tuple value that only contains the integer 42?\n",
    "\n",
    "For one element tuple it is neccessary to add a , at the end like\n",
    "\n",
    "tuple=(42,)\n",
    "\n",
    "Multi-valued tuple its not needed for a trailing comma"
   ]
  },
  {
   "cell_type": "code",
   "execution_count": null,
   "id": "75b939c0-7702-4582-b3bc-86d52689ccdf",
   "metadata": {},
   "outputs": [],
   "source": []
  },
  {
   "cell_type": "markdown",
   "id": "baf3d0b6-7df1-41fa-bb74-2dbf4bc4d798",
   "metadata": {},
   "source": [
    "15.How do you get a list value's tuple form? How do you get a tuple value's list form?\n",
    "\n",
    "We can call list(tuple) and tuple(list)\n",
    "\n",
    "Like for example"
   ]
  },
  {
   "cell_type": "code",
   "execution_count": 35,
   "id": "a922110f-e514-41b0-887c-6dbdb4274797",
   "metadata": {},
   "outputs": [
    {
     "name": "stdout",
     "output_type": "stream",
     "text": [
      "[3, 4] (1, 2)\n"
     ]
    }
   ],
   "source": [
    "l=[1,2]\n",
    "t=(3,4)\n",
    "tt=tuple(l)\n",
    "ll=list(t)\n",
    "print(ll,tt)"
   ]
  },
  {
   "cell_type": "code",
   "execution_count": null,
   "id": "4b2ed237-745b-4916-848a-abe5c0e0f68e",
   "metadata": {},
   "outputs": [],
   "source": []
  },
  {
   "cell_type": "markdown",
   "id": "93b8c848-3137-4d28-92a6-2aaafd391e0f",
   "metadata": {},
   "source": [
    "16.Variables that \"contain\" list values are not necessarily lists themselves. Instead, what do they contain?\n",
    "\n",
    "The whole list is mapped to a variable and not individual elements of the list hence it can be called as a whole list reference variable"
   ]
  },
  {
   "cell_type": "code",
   "execution_count": null,
   "id": "158e88d2-7542-4694-b30a-5142a5fb4a68",
   "metadata": {},
   "outputs": [],
   "source": []
  },
  {
   "cell_type": "markdown",
   "id": "72e494e5-f9fa-4c8a-b98d-d9841a474ecf",
   "metadata": {},
   "source": [
    "17. How do you distinguish between copy.copy() and copy.deepcopy()?\n",
    "\n",
    "copy.copy() is shallow copying of list that is when a change is made to a list that also is copied\n",
    "\n",
    "copy.deepcopt() will duplicate any lists inside the list,  that is when a change is made to a list that is not copied"
   ]
  },
  {
   "cell_type": "code",
   "execution_count": 46,
   "id": "21fe9355-2afa-4f18-805a-e6bd0abea082",
   "metadata": {},
   "outputs": [
    {
     "name": "stdout",
     "output_type": "stream",
     "text": [
      "[1, 2, [1, 8]] [1, 2, [1, 8]] [1, 2, [0, 8]]\n"
     ]
    }
   ],
   "source": [
    "import  copy\n",
    "l1=[1,2,[0,8]]\n",
    "l2=copy.copy(l1)\n",
    "l3=copy.deepcopy(l1)\n",
    "l1[2][0]=1\n",
    "print(l1,l2,l3)"
   ]
  },
  {
   "cell_type": "code",
   "execution_count": null,
   "id": "eb98e67e-7eda-40c5-8d25-bbbeb237bf2e",
   "metadata": {},
   "outputs": [],
   "source": []
  }
 ],
 "metadata": {
  "kernelspec": {
   "display_name": "Python 3",
   "language": "python",
   "name": "python3"
  },
  "language_info": {
   "codemirror_mode": {
    "name": "ipython",
    "version": 3
   },
   "file_extension": ".py",
   "mimetype": "text/x-python",
   "name": "python",
   "nbconvert_exporter": "python",
   "pygments_lexer": "ipython3",
   "version": "3.8.8"
  }
 },
 "nbformat": 4,
 "nbformat_minor": 5
}
