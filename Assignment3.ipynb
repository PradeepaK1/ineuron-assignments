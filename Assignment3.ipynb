{
 "cells": [
  {
   "cell_type": "markdown",
   "id": "d6b1a147-4b33-474a-a0c2-3ff46fea2485",
   "metadata": {},
   "source": [
    "1.Why are functions advantageous to have in your programs?\n",
    "\n",
    "Inside functions we can keep repetitive code block that a program has and it eliminates code redundancy\n",
    "\n",
    "Also functions improve code readability\n",
    "\n",
    "Reduces code length \n",
    "\n",
    "Removing duplication of code.\n",
    "\n",
    "It improves modular programming \n",
    "\n",
    "Increases clarity of the code.\n",
    "\n",
    "Reusing of code can be done\n",
    "\n",
    "Eg.\n",
    "\n",
    "def add(a):\n",
    "    \n",
    "    return (a+1)\n",
    "\n",
    "print(add(7))\n",
    "\n",
    "Output:\n",
    "    \n",
    "    8"
   ]
  },
  {
   "cell_type": "code",
   "execution_count": null,
   "id": "7345b8ed-56bf-4447-969a-86aa57e53453",
   "metadata": {},
   "outputs": [],
   "source": []
  },
  {
   "cell_type": "markdown",
   "id": "d64287eb-fdd9-477d-95a2-534a61ffa64f",
   "metadata": {},
   "source": [
    "2.When does the code in a function run: when it's specified or when it's called?\n",
    "    \n",
    "The code runs in a function when its called not when specified\n",
    "\n",
    "def add(a):\n",
    "    \n",
    "    return (a+1)\n",
    "\n",
    "There will be no output as the function is only specified\n",
    "\n",
    "print(add(7))\n",
    "\n",
    "Output:\n",
    "    \n",
    "    8\n",
    "    \n",
    "After calling inside print statement only executes"
   ]
  },
  {
   "cell_type": "code",
   "execution_count": null,
   "id": "e2d57198-4151-4604-9fab-3f9cf4892125",
   "metadata": {},
   "outputs": [],
   "source": []
  },
  {
   "cell_type": "markdown",
   "id": "705ebd15-bedc-4434-a26d-30aa24569258",
   "metadata": {},
   "source": [
    "3.What statement creates a function?\n",
    "\n",
    "def key word along with the function_name with its parameters in bracket starts or creates a function under which lines to be executed are mentioned\n",
    "\n",
    "def function_name(parameter1,parameter2):\n",
    "\n",
    "    //executable lines\n",
    "    \n",
    "Eg.\n",
    "\n",
    "def add(a):\n",
    "    \n",
    "    return (a+1)\n",
    "\n",
    "print(add(7))"
   ]
  },
  {
   "cell_type": "code",
   "execution_count": null,
   "id": "9b22c392-7f59-46f9-8363-d438a96b3ccd",
   "metadata": {},
   "outputs": [],
   "source": []
  },
  {
   "cell_type": "markdown",
   "id": "e36d5d33-2d7e-435a-a90c-f5a22703f304",
   "metadata": {},
   "source": [
    "4.What is the difference between a function and a function call?\n",
    "\n",
    "This is a function which starts with a def key word along with the function_name with its parameters in bracket starts or creates a function under which lines to be executed are mentioned\n",
    "\n",
    "This is called function definition or specification\n",
    "\n",
    "def add(a):\n",
    "    \n",
    "    return (a+1)\n",
    "\n",
    "There will be no output as the function is only specified\n",
    "\n",
    "Here we actually call the function where the function we defined is executed\n",
    "\n",
    "print(add(7))\n",
    "\n",
    "Output:\n",
    "    \n",
    "    8\n",
    "    \n",
    "After calling inside print statement only executes"
   ]
  },
  {
   "cell_type": "code",
   "execution_count": null,
   "id": "98b977b5-dbd8-4c0c-acf7-07d698361a3c",
   "metadata": {},
   "outputs": [],
   "source": []
  },
  {
   "cell_type": "markdown",
   "id": "77c295aa-8349-494c-a060-41d9a46e1d46",
   "metadata": {},
   "source": [
    "5.How many global scopes are there in a Python program? How many local scopes?\n",
    "\n",
    "There is one global scope in a python program it is either the start of the progam lines without any specific class or function or under the __main__ class\n",
    "\n",
    "There can be many local scope or function scope as it is a scope created at function calls. Each time a function is called, a local scope of that function is created"
   ]
  },
  {
   "cell_type": "code",
   "execution_count": null,
   "id": "22a9d6f8-aa9b-496d-9933-b635bf6f7f6e",
   "metadata": {},
   "outputs": [],
   "source": []
  },
  {
   "cell_type": "markdown",
   "id": "d7bb1bb5-cf0b-4ac3-9890-d04bae9c5fd5",
   "metadata": {},
   "source": [
    "6.What happens to variables in a local scope when the function call returns?\n",
    "\n",
    "All the variables inside a local scope is erased from memory when the function ends or function call ends"
   ]
  },
  {
   "cell_type": "code",
   "execution_count": null,
   "id": "786507bb-ef78-48ce-827f-47989550bb15",
   "metadata": {},
   "outputs": [],
   "source": []
  },
  {
   "cell_type": "markdown",
   "id": "ef0ffb9d-218f-425c-89c4-6d563d8438f7",
   "metadata": {},
   "source": [
    "7.What is the concept of a return value? Is it possible to have a return value in an expression?\n",
    "\n",
    "return value holds the function's execution output.\n",
    "\n",
    "When a function is created to solve a very purpose like any evaluation of statments then that is stored in the return value\n",
    "\n",
    "Yes, an expression can be in a return value\n",
    "\n",
    "Eg. return(a+b)"
   ]
  },
  {
   "cell_type": "code",
   "execution_count": null,
   "id": "ec8bd741-0f93-4e4f-8417-f16837d78629",
   "metadata": {},
   "outputs": [],
   "source": []
  },
  {
   "cell_type": "markdown",
   "id": "60e21490-563c-4504-8b57-17516b60c1fa",
   "metadata": {},
   "source": [
    "8.If a function does not have a return statement, what is the return value of a call to that function?\n",
    "\n",
    "If a function has no return statement then it is a void function and the return value of a call to that function would be None\n",
    "\n",
    "Example as follows"
   ]
  },
  {
   "cell_type": "code",
   "execution_count": null,
   "id": "39987be5-c2b8-4ceb-b365-b05ee040c6af",
   "metadata": {},
   "outputs": [],
   "source": []
  },
  {
   "cell_type": "code",
   "execution_count": 11,
   "id": "731ad4e7-0048-43e2-a763-87349ed8db14",
   "metadata": {},
   "outputs": [
    {
     "data": {
      "text/plain": [
       "NoneType"
      ]
     },
     "execution_count": 11,
     "metadata": {},
     "output_type": "execute_result"
    }
   ],
   "source": [
    "def func():\n",
    "        a=9\n",
    "        op=9+1\n",
    "type(func())"
   ]
  },
  {
   "cell_type": "code",
   "execution_count": null,
   "id": "625c95fc-fbaa-4479-b37b-b3cda0f8ca48",
   "metadata": {},
   "outputs": [],
   "source": []
  },
  {
   "cell_type": "markdown",
   "id": "eeb1d7e2-1224-43c8-aa91-ffecad4d3b57",
   "metadata": {},
   "source": [
    "9.How do you make a function variable refer to the global variable?\n",
    "\n",
    "We can use the global key word to make a variable with global scope"
   ]
  },
  {
   "cell_type": "code",
   "execution_count": 12,
   "id": "5a73b1b2-0a7f-4ecb-8c54-553c1bb4bece",
   "metadata": {},
   "outputs": [
    {
     "name": "stdout",
     "output_type": "stream",
     "text": [
      "2\n"
     ]
    }
   ],
   "source": [
    "x=1\n",
    "def funct():\n",
    "    global x\n",
    "    return(x+1)\n",
    "print(funct())"
   ]
  },
  {
   "cell_type": "code",
   "execution_count": null,
   "id": "5b2ac142-7560-47b9-9311-d3d6d8e0e004",
   "metadata": {},
   "outputs": [],
   "source": []
  },
  {
   "cell_type": "markdown",
   "id": "7a75bf27-0f9e-4185-8811-54f05f1bd8d0",
   "metadata": {},
   "source": [
    "10.What is the data type of None?\n",
    "NoneType"
   ]
  },
  {
   "cell_type": "code",
   "execution_count": 13,
   "id": "5272feee-460e-4ab5-acc7-afbb09d7c7e4",
   "metadata": {},
   "outputs": [
    {
     "data": {
      "text/plain": [
       "NoneType"
      ]
     },
     "execution_count": 13,
     "metadata": {},
     "output_type": "execute_result"
    }
   ],
   "source": [
    "type(None)"
   ]
  },
  {
   "cell_type": "code",
   "execution_count": null,
   "id": "26dc42b9-2c11-48e7-ad39-d38e4af40112",
   "metadata": {},
   "outputs": [],
   "source": []
  },
  {
   "cell_type": "markdown",
   "id": "68e5c211-702f-4ddb-9412-fb284df606d5",
   "metadata": {},
   "source": [
    "11.What does the sentence import areallyourpetsnamederic do?\n",
    "\n",
    "If there is any class file of Python named areallyourpetsnamederic then that files, functions and variables are imported to the importing or existing python file which can be later used in the code like,\n",
    "\n",
    "import areallyourpetsnamederic\n",
    "\n",
    "areallyourpetsnamederic.anyfunction()"
   ]
  },
  {
   "cell_type": "code",
   "execution_count": null,
   "id": "4485dafc-16b9-4b0c-b2aa-951044dd2bdf",
   "metadata": {},
   "outputs": [],
   "source": []
  },
  {
   "cell_type": "markdown",
   "id": "e811335a-36c5-4c9a-bd52-3af1f8afc378",
   "metadata": {},
   "source": [
    "12.If you had a bacon() feature in a spam module, what would you call it after importing spam?\n",
    "\n",
    "import spam\n",
    "\n",
    "spam.bacon()"
   ]
  },
  {
   "cell_type": "code",
   "execution_count": null,
   "id": "5273a49a-51f6-4ca3-9c85-1c2d916832c3",
   "metadata": {},
   "outputs": [],
   "source": []
  },
  {
   "cell_type": "markdown",
   "id": "b7546928-4a7a-424e-bd2d-ff2c19fab546",
   "metadata": {},
   "source": [
    "13.What can you do to save a programme from crashing if it encounters an error?\n",
    "\n",
    "Usage of try catch block can prevent the program from crashing - We should keep the error causing line in the try block and execute\n",
    "\n",
    "For example like below"
   ]
  },
  {
   "cell_type": "code",
   "execution_count": 14,
   "id": "ac6ff0b2-07e4-45ca-a938-5550dbcb5e0e",
   "metadata": {},
   "outputs": [
    {
     "name": "stdout",
     "output_type": "stream",
     "text": [
      "4.0\n",
      "Not possible\n"
     ]
    }
   ],
   "source": [
    "b=0\n",
    "s=1\n",
    "try:\n",
    "    c=4/1\n",
    "    print(c)\n",
    "    a=4/b\n",
    "    print(a)\n",
    "except:\n",
    "    print(\"Not possible\")"
   ]
  },
  {
   "cell_type": "markdown",
   "id": "bd208c63-90d2-4e5c-978a-38ecf1668f7f",
   "metadata": {},
   "source": [
    "14.What is the purpose of the try clause? What is the purpose of the except clause?\n",
    "\n",
    "Usage of try catch block can prevent the program from crashing - We should keep the error causing line in the try block and execute\n",
    "\n",
    "When a code executes in try block and an error is found then it moves to the except block and executes the prevention statements or exception statements there\n",
    "\n",
    "For example like below"
   ]
  },
  {
   "cell_type": "code",
   "execution_count": 15,
   "id": "73be4723-cb42-4b02-b797-315561dc6423",
   "metadata": {},
   "outputs": [
    {
     "name": "stdout",
     "output_type": "stream",
     "text": [
      "4.0\n",
      "Not possible\n"
     ]
    }
   ],
   "source": [
    "b=0\n",
    "s=1\n",
    "try:\n",
    "    c=4/1\n",
    "    print(c)\n",
    "    a=4/b\n",
    "    print(a)\n",
    "except:\n",
    "    print(\"Not possible\")"
   ]
  },
  {
   "cell_type": "code",
   "execution_count": null,
   "id": "9574daf3-a6b4-4da2-9022-7ca8b05f02fd",
   "metadata": {},
   "outputs": [],
   "source": []
  }
 ],
 "metadata": {
  "kernelspec": {
   "display_name": "Python 3",
   "language": "python",
   "name": "python3"
  },
  "language_info": {
   "codemirror_mode": {
    "name": "ipython",
    "version": 3
   },
   "file_extension": ".py",
   "mimetype": "text/x-python",
   "name": "python",
   "nbconvert_exporter": "python",
   "pygments_lexer": "ipython3",
   "version": "3.8.8"
  }
 },
 "nbformat": 4,
 "nbformat_minor": 5
}
