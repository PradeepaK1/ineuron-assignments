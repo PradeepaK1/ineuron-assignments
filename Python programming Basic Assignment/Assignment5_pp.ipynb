{
 "cells": [
  {
   "cell_type": "code",
   "execution_count": null,
   "id": "5ab2cd3c-8f45-4bf1-87ea-ab37868a3844",
   "metadata": {},
   "outputs": [],
   "source": [
    "1.\tWrite a Python Program to Find LCM?"
   ]
  },
  {
   "cell_type": "code",
   "execution_count": 2,
   "id": "ead2e271-bc7a-4f92-9187-9f9aa85c4617",
   "metadata": {},
   "outputs": [
    {
     "name": "stdin",
     "output_type": "stream",
     "text": [
      "enter number 1 6\n",
      "enter number 2 8\n"
     ]
    },
    {
     "name": "stdout",
     "output_type": "stream",
     "text": [
      "LCM of  6 8  is  24\n"
     ]
    }
   ],
   "source": [
    "def lcm(x,y):\n",
    "    if x > y:\n",
    "        g = x\n",
    "    else:\n",
    "        g = y\n",
    "    while(True):\n",
    "        if((g%x==0) and (g%y==0)):\n",
    "            ans = g\n",
    "            break\n",
    "        g += 1\n",
    "    return ans\n",
    "x = int(input(\"enter number 1\"))\n",
    "y = int(input(\"enter number 2\"))\n",
    "print(\"LCM of \",x,y,\" is \",lcm(x, y))"
   ]
  },
  {
   "cell_type": "code",
   "execution_count": null,
   "id": "9f2d03d6-1492-4fc8-b76e-2e0299424e3f",
   "metadata": {},
   "outputs": [],
   "source": [
    "2.\tWrite a Python Program to Find HCF?"
   ]
  },
  {
   "cell_type": "code",
   "execution_count": 3,
   "id": "9a4191c0-a782-4d03-bfcb-66621033283b",
   "metadata": {},
   "outputs": [
    {
     "name": "stdin",
     "output_type": "stream",
     "text": [
      "enter number 1 6\n",
      "enter number 2 8\n"
     ]
    },
    {
     "name": "stdout",
     "output_type": "stream",
     "text": [
      "HCF of  6 8  is  2\n"
     ]
    }
   ],
   "source": [
    "def hcf(x, y):\n",
    "    if x > y:\n",
    "        s = y\n",
    "    else:\n",
    "        s = x\n",
    "    for i in range(1, s+1):\n",
    "        if((x % i == 0) and (y % i == 0)):\n",
    "            ans = i \n",
    "    return ans\n",
    "x = int(input(\"enter number 1\"))\n",
    "y = int(input(\"enter number 2\"))\n",
    "print(\"HCF of \",x,y,\" is \",hcf(x, y))\n"
   ]
  },
  {
   "cell_type": "code",
   "execution_count": null,
   "id": "c09281df-aafc-493e-a8a2-d3104acede15",
   "metadata": {},
   "outputs": [],
   "source": [
    "3.\tWrite a Python Program to Convert Decimal to Binary, Octal and Hexadecimal?"
   ]
  },
  {
   "cell_type": "code",
   "execution_count": 5,
   "id": "c1d4b3cd-763e-43c0-98ff-f02da70c72c2",
   "metadata": {},
   "outputs": [
    {
     "name": "stdin",
     "output_type": "stream",
     "text": [
      "enter a value 21\n"
     ]
    },
    {
     "name": "stdout",
     "output_type": "stream",
     "text": [
      "Decimal -  21\n",
      "Binary -  0b10101\n",
      "Octal -  0o25\n",
      "Hexadecimal -  0x15\n"
     ]
    }
   ],
   "source": [
    "n=int(input(\"enter a value\"))\n",
    "print(\"Decimal - \", n)\n",
    "print(\"Binary - \",bin(n))\n",
    "print(\"Octal - \", oct(n))\n",
    "print(\"Hexadecimal - \", hex(n))\n"
   ]
  },
  {
   "cell_type": "code",
   "execution_count": null,
   "id": "044570be-3858-48d7-a15b-db794673488f",
   "metadata": {},
   "outputs": [],
   "source": [
    "4.\tWrite a Python Program To Find ASCII value of a character?"
   ]
  },
  {
   "cell_type": "code",
   "execution_count": 11,
   "id": "3ae3549f-6588-4511-bff8-8ca7144eea5b",
   "metadata": {},
   "outputs": [
    {
     "name": "stdin",
     "output_type": "stream",
     "text": [
      "enter a character p\n"
     ]
    },
    {
     "name": "stdout",
     "output_type": "stream",
     "text": [
      "ASCII value of p is 112\n"
     ]
    }
   ],
   "source": [
    "x=input(\"enter a character\")\n",
    "print(\"ASCII value of \" + x + \" is\", ord(x))"
   ]
  },
  {
   "cell_type": "code",
   "execution_count": null,
   "id": "1872133d-790a-48a2-acc3-3ebd9d361657",
   "metadata": {},
   "outputs": [],
   "source": [
    "5.\tWrite a Python Program to Make a Simple Calculator with 4 basic mathematical operations?"
   ]
  },
  {
   "cell_type": "code",
   "execution_count": 5,
   "id": "bbda53f6-4403-4a19-a8e9-3ce1d81e3fd0",
   "metadata": {},
   "outputs": [
    {
     "name": "stdin",
     "output_type": "stream",
     "text": [
      "enter operand 1 6\n",
      "enter operand 2 7\n",
      "enter 1 for addition\n",
      "enter 2 for subtraction\n",
      "enter 3 for multiplication\n",
      "enter 4 for division\n",
      "enter any other input for exiting 4\n"
     ]
    },
    {
     "name": "stdout",
     "output_type": "stream",
     "text": [
      "Division output of  6  /  7  is  0.8571428571428571\n"
     ]
    }
   ],
   "source": [
    "a=int(input(\"enter operand 1\"))\n",
    "b=int(input(\"enter operand 2\"))\n",
    "c=int(input(\"enter 1 for addition\\nenter 2 for subtraction\\nenter 3 for multiplication\\nenter 4 for division\\nenter any other input for exiting\"))\n",
    "if c==1:\n",
    "    print(\"Addition output of \",a,\" + \",b, \" is \",a+b)\n",
    "elif c==2:\n",
    "    print(\"Subtraction output of \",a,\" - \",b, \" is \",a-b)\n",
    "elif c==3:\n",
    "    print(\"Multiplication output of \",a,\" * \",b, \" is \",a*b)\n",
    "elif c==4:\n",
    "    print(\"Division output of \",a,\" / \",b, \" is \",a/b)\n",
    "else:\n",
    "    exit()\n",
    "    "
   ]
  },
  {
   "cell_type": "code",
   "execution_count": null,
   "id": "a6554487-8cdd-4d4b-a6d0-02487394c573",
   "metadata": {},
   "outputs": [],
   "source": []
  }
 ],
 "metadata": {
  "kernelspec": {
   "display_name": "Python 3",
   "language": "python",
   "name": "python3"
  },
  "language_info": {
   "codemirror_mode": {
    "name": "ipython",
    "version": 3
   },
   "file_extension": ".py",
   "mimetype": "text/x-python",
   "name": "python",
   "nbconvert_exporter": "python",
   "pygments_lexer": "ipython3",
   "version": "3.8.8"
  }
 },
 "nbformat": 4,
 "nbformat_minor": 5
}
