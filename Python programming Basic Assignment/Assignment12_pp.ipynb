{
 "cells": [
  {
   "cell_type": "markdown",
   "id": "416a436f-93bf-4b09-8487-6c9db0f3e14f",
   "metadata": {},
   "source": [
    "1.\tWrite a Python program to Extract Unique values dictionary values?"
   ]
  },
  {
   "cell_type": "code",
   "execution_count": 37,
   "id": "c8a776b4-207c-4a9b-a33e-fe2802575abf",
   "metadata": {},
   "outputs": [
    {
     "name": "stdout",
     "output_type": "stream",
     "text": [
      "The original dictionary is :  {'A': [1, 2, 3, 4], 'B': [4, 5, 6, 7]}\n",
      "unique values are :  [1, 2, 3, 4, 5, 6, 7]\n"
     ]
    }
   ],
   "source": [
    "dict1 = {'A' : [1, 2,3, 4], 'B' : [4,5, 6, 7]}\n",
    "print(\"The original dictionary is : \" ,dict1)\n",
    "r = list(sorted({ele for val in dict1.values() for ele in val}))\n",
    "print(\"unique values are : \" , r) "
   ]
  },
  {
   "cell_type": "markdown",
   "id": "63c8c996-f1b6-44c3-b87d-4aabe50ddd77",
   "metadata": {},
   "source": [
    "2.\tWrite a Python program to find the sum of all items in a dictionary?"
   ]
  },
  {
   "cell_type": "code",
   "execution_count": 38,
   "id": "9f9c8e70-5107-4cc8-8b91-693c0ad7e93d",
   "metadata": {},
   "outputs": [
    {
     "name": "stdout",
     "output_type": "stream",
     "text": [
      "Sum : 6\n"
     ]
    }
   ],
   "source": [
    "def returnSum(myDict):\n",
    "    list = []\n",
    "    for i in myDict:\n",
    "        list.append(myDict[i])\n",
    "    final = sum(list)\n",
    "    return final\n",
    "dict = {'A' : 1, 'B':2, 'C':3}\n",
    "print(\"Sum :\", returnSum(dict))\n"
   ]
  },
  {
   "cell_type": "markdown",
   "id": "2261757c-5e0d-4b1a-8ef7-50e89ce724dc",
   "metadata": {},
   "source": [
    "3.\tWrite a Python program to Merging two Dictionaries?"
   ]
  },
  {
   "cell_type": "code",
   "execution_count": 39,
   "id": "9e61ad2b-1f3a-4836-981c-73bade320666",
   "metadata": {},
   "outputs": [
    {
     "name": "stdout",
     "output_type": "stream",
     "text": [
      "{'A': 1, 'B': 2, 'C': 3, 'D': 4, 'E': 5, 'F': 6}\n"
     ]
    }
   ],
   "source": [
    "dict2 = {'A' : 1, 'B':2, 'C':3}\n",
    "dict1 = {'D' : 4, 'E':5, 'F':6}\n",
    "dict2.update(dict1)\n",
    "print(dict2)"
   ]
  },
  {
   "cell_type": "markdown",
   "id": "b9da2a29-cfe4-451e-b9c2-8ff51c5076e5",
   "metadata": {},
   "source": [
    "4.\tWrite a Python program to convert key-values list to flat dictionary?"
   ]
  },
  {
   "cell_type": "code",
   "execution_count": 40,
   "id": "314a1776-b5c7-423b-8463-95452e806031",
   "metadata": {},
   "outputs": [
    {
     "name": "stdout",
     "output_type": "stream",
     "text": [
      "Original dictionary:\n",
      "{'mercury': 1, 'venus': 2, 'earth': 3, 'mars': 4}\n",
      "Flattened Dictionary:\n",
      "['mercury', 'venus', 'earth', 'mars']\n"
     ]
    }
   ],
   "source": [
    "def fun(d):\n",
    "      return list(d.keys())\n",
    "d = {'mercury': 1,\n",
    "  'venus': 2,\n",
    "  'earth': 3,\n",
    "  'mars': 4\n",
    "}\n",
    "print(\"Original dictionary:\")\n",
    "print(d)\n",
    "print(\"Flattened Dictionary:\")\n",
    "print(fun(d))"
   ]
  },
  {
   "cell_type": "markdown",
   "id": "d47b70d4-0ad6-4787-b1d8-4be4b8bfa80a",
   "metadata": {},
   "source": [
    "5.\tWrite a Python program to insertion at the beginning in OrderedDict?"
   ]
  },
  {
   "cell_type": "code",
   "execution_count": 41,
   "id": "c4564b29-8a3e-4001-9180-81003a6594f0",
   "metadata": {},
   "outputs": [
    {
     "name": "stdout",
     "output_type": "stream",
     "text": [
      "OrderedDict : OrderedDict([('mercury', '1'), ('venus', '2'), ('earth', '3')])\n"
     ]
    }
   ],
   "source": [
    "from collections import OrderedDict\n",
    "id = OrderedDict([('venus', '2'), ('earth', '3')])\n",
    "id.update({'mercury':'1'})\n",
    "id.move_to_end('mercury', last = False)\n",
    "print (\"OrderedDict : \"+str(id))"
   ]
  },
  {
   "cell_type": "code",
   "execution_count": null,
   "id": "a58d580d-bc53-4a99-bb21-e4ebedae4eda",
   "metadata": {},
   "outputs": [],
   "source": [
    "6.\tWrite a Python program to check order of character in string using OrderedDict()?"
   ]
  },
  {
   "cell_type": "code",
   "execution_count": 31,
   "id": "7e0cd6ee-4ed5-4b77-862e-459562d54505",
   "metadata": {},
   "outputs": [
    {
     "name": "stdin",
     "output_type": "stream",
     "text": [
      "enter string Hi this is me pradeepa \n",
      "enter pattern prad\n"
     ]
    },
    {
     "name": "stdout",
     "output_type": "stream",
     "text": [
      "The string is \n",
      "Hi this is me pradeepa \n",
      "The input pattern is \n",
      "prad\n",
      "The order of pattern is correct\n"
     ]
    }
   ],
   "source": [
    "from collections import OrderedDict\n",
    "def chk(s, p):\n",
    "    d = OrderedDict.fromkeys(s)\n",
    "    pl = 0\n",
    "    for k,v in d.items():\n",
    "        if (k == p[pl]):\n",
    "            pl += 1\n",
    "        if (pl == (len(p))):\n",
    "            return 'The order of pattern is correct'\n",
    "    return 'The order of pattern is incorrect'\n",
    "s = input(\"enter string\")\n",
    "p = input(\"enter pattern\")\n",
    "print(\"The string is \")\n",
    "print(s)\n",
    "print(\"The input pattern is \")\n",
    "print(p)\n",
    "print(chk(s,p))"
   ]
  },
  {
   "cell_type": "code",
   "execution_count": null,
   "id": "9a2a995e-002e-4506-a2eb-2c09ab1459fb",
   "metadata": {},
   "outputs": [],
   "source": [
    "7.\tWrite a Python program to sort Python Dictionaries by Key or Value?"
   ]
  },
  {
   "cell_type": "code",
   "execution_count": 36,
   "id": "802abc18-83a2-4ae6-89c5-b0312e38fbc6",
   "metadata": {},
   "outputs": [
    {
     "name": "stdout",
     "output_type": "stream",
     "text": [
      "[(1, 2), (2, 1), (3, 4), (4, 3), (5, 7), (6, 5)]\n",
      "sort by keys\n",
      "[1, 2, 3, 4, 5, 6]\n",
      "sort by values\n",
      "[1, 2, 3, 4, 5, 7]\n"
     ]
    }
   ],
   "source": [
    "print(sorted(a.items()))\n",
    "a = {1:2 ,2:1 ,4:3 ,3:4 ,6:5 ,5:6 }\n",
    "print(\"sort by keys\")\n",
    "print(sorted(a.keys()))\n",
    "print(\"sort by values\")\n",
    "a = {1:2 ,2:1 ,4:3 ,3:4 ,6:5 ,5:7 }\n",
    "print(sorted(a.values()))"
   ]
  },
  {
   "cell_type": "code",
   "execution_count": null,
   "id": "d154d1e9-b5f3-44ed-b336-b87e245e64ea",
   "metadata": {},
   "outputs": [],
   "source": []
  }
 ],
 "metadata": {
  "kernelspec": {
   "display_name": "Python 3",
   "language": "python",
   "name": "python3"
  },
  "language_info": {
   "codemirror_mode": {
    "name": "ipython",
    "version": 3
   },
   "file_extension": ".py",
   "mimetype": "text/x-python",
   "name": "python",
   "nbconvert_exporter": "python",
   "pygments_lexer": "ipython3",
   "version": "3.8.8"
  }
 },
 "nbformat": 4,
 "nbformat_minor": 5
}
