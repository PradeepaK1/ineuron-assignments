{
 "cells": [
  {
   "cell_type": "markdown",
   "id": "27b36e31-21cb-44b9-9f95-ac5ff7c9bb26",
   "metadata": {},
   "source": [
    "Question 1\n",
    "\n",
    "Create a function that takes a number as an argument and returns True or False depending on whether the number is symmetrical or not. A number is symmetrical when it is the same as its reverse.\n",
    "\n",
    "Examples\n",
    "\n",
    "is_symmetrical(7227) ➞ True\n",
    "\n",
    "is_symmetrical(12567) ➞ False\n",
    "\n",
    "is_symmetrical(44444444) ➞ True\n",
    "\n",
    "is_symmetrical(9939) ➞ False\n",
    "\n",
    "is_symmetrical(1112111) ➞ True"
   ]
  },
  {
   "cell_type": "code",
   "execution_count": 2,
   "id": "9a2497cc-ea85-41e6-8e50-24a73136db3a",
   "metadata": {},
   "outputs": [
    {
     "name": "stdout",
     "output_type": "stream",
     "text": [
      "is_symmetrical(7227) ➞ True\n",
      "is_symmetrical(12567) ➞ False\n",
      "is_symmetrical(44444444) ➞ True\n",
      "is_symmetrical(9939) ➞ False\n",
      "is_symmetrical(1112111) ➞ True\n"
     ]
    }
   ],
   "source": [
    "def is_symmetrical(n):\n",
    "    print(\"is_symmetrical({}) ➞ {}\".format(n,str(n) == str(n)[::-1]))\n",
    "is_symmetrical(7227)\n",
    "is_symmetrical(12567)\n",
    "is_symmetrical(44444444)\n",
    "is_symmetrical(9939)\n",
    "is_symmetrical(1112111)"
   ]
  },
  {
   "cell_type": "markdown",
   "id": "de72910a-df7e-4bd6-b754-38f0dc71c036",
   "metadata": {},
   "source": [
    "Question 2\n",
    "\n",
    "Given a string of numbers separated by a comma and space, return the product of the numbers.\n",
    "\n",
    "Examples\n",
    "\n",
    "multiply_nums(\"2, 3\") ➞ 6\n",
    "\n",
    "multiply_nums(\"1, 2, 3, 4\") ➞ 24\n",
    "\n",
    "multiply_nums(\"54, 75, 453, 0\") ➞ 0\n",
    "\n",
    "multiply_nums(\"10, -2\") ➞ -20"
   ]
  },
  {
   "cell_type": "code",
   "execution_count": 2,
   "id": "b9e66202-f677-48ec-9bb5-bf544af68a62",
   "metadata": {},
   "outputs": [
    {
     "name": "stdout",
     "output_type": "stream",
     "text": [
      "multiply_nums(2, 3) ➞ 6\n",
      "multiply_nums(1, 2, 3, 4) ➞ 24\n",
      "multiply_nums(54, 75, 453, 0) ➞ 0\n",
      "multiply_nums(10, -2) ➞ -20\n"
     ]
    }
   ],
   "source": [
    "def multiply_nums(s):\n",
    "    l=list(s.split(','))\n",
    "    m=1\n",
    "    for i in l:\n",
    "        m*=int(i)\n",
    "    print(\"multiply_nums({}) ➞ {}\".format(s,m))\n",
    "multiply_nums(\"2, 3\")\n",
    "multiply_nums(\"1, 2, 3, 4\") \n",
    "multiply_nums(\"54, 75, 453, 0\")\n",
    "multiply_nums(\"10, -2\")  "
   ]
  },
  {
   "cell_type": "markdown",
   "id": "0b7854a2-f1f9-4da6-b0af-63c14455e41c",
   "metadata": {},
   "source": [
    "Question 3\n",
    "\n",
    "Create a function that squares every digit of a number.\n",
    "\n",
    "Examples\n",
    "\n",
    "square_digits(9119) ➞ 811181\n",
    "\n",
    "square_digits(2483) ➞ 416649\n",
    "\n",
    "square_digits(3212) ➞ 9414\n",
    "\n",
    "Notes\n",
    "\n",
    "The function receives an integer and must return an integer."
   ]
  },
  {
   "cell_type": "code",
   "execution_count": 3,
   "id": "2b1ac6c1-1cf8-44ae-9b0e-22788dd29113",
   "metadata": {},
   "outputs": [
    {
     "name": "stdout",
     "output_type": "stream",
     "text": [
      "square_digits(9119) ➞ 811181\n",
      "square_digits(2483) ➞ 416649\n",
      "square_digits(3212) ➞ 9414\n"
     ]
    }
   ],
   "source": [
    "def square_digits(n):\n",
    "    a=\"\"\n",
    "    for i in str(n):\n",
    "        j=int(i)**2\n",
    "        a+=str(j)\n",
    "    a=int(a)\n",
    "    print(\"square_digits({}) ➞ {}\".format(n,a))\n",
    "square_digits(9119) \n",
    "square_digits(2483)\n",
    "square_digits(3212)"
   ]
  },
  {
   "cell_type": "markdown",
   "id": "486457a5-e100-4ada-835b-a16dd034684a",
   "metadata": {},
   "source": [
    "Question 4\n",
    "\n",
    "Create a function that sorts a list and removes all duplicate items from it.\n",
    "\n",
    "Examples\n",
    "\n",
    "setify([1, 3, 3, 5, 5]) ➞ [1, 3, 5]\n",
    "\n",
    "setify([4, 4, 4, 4]) ➞ [4]\n",
    "\n",
    "setify([5, 7, 8, 9, 10, 15]) ➞ [5, 7, 8, 9, 10, 15]\n",
    "\n",
    "setify([3, 3, 3, 2, 1]) ➞ [1, 2, 3]"
   ]
  },
  {
   "cell_type": "code",
   "execution_count": 6,
   "id": "470090e0-a76e-4d23-afa7-4893ff331a59",
   "metadata": {},
   "outputs": [
    {
     "name": "stdout",
     "output_type": "stream",
     "text": [
      "setify([1, 3, 3, 5, 5]) ➞ [1, 3, 5]\n",
      "setify([4, 4, 4, 4]) ➞ [4]\n",
      "setify([5, 7, 8, 9, 10, 15]) ➞ [5, 7, 8, 9, 10, 15]\n",
      "setify([3, 3, 3, 2, 1]) ➞ [1, 2, 3]\n"
     ]
    }
   ],
   "source": [
    "def setify(l):\n",
    "    s=list(set(l))\n",
    "    print(\"setify({}) ➞ {}\".format(l,s))\n",
    "setify([1, 3, 3, 5, 5])\n",
    "setify([4, 4, 4, 4])\n",
    "setify([5, 7, 8, 9, 10, 15]) \n",
    "setify([3, 3, 3, 2, 1])"
   ]
  },
  {
   "cell_type": "markdown",
   "id": "0709a12a-100f-44ef-914f-edb8f8e43532",
   "metadata": {},
   "source": [
    "Question 5\n",
    "\n",
    "Create a function that returns the mean of all digits.\n",
    "\n",
    "Examples\n",
    "\n",
    "mean(42) ➞ 3\n",
    "\n",
    "mean(12345) ➞ 3\n",
    "\n",
    "mean(666) ➞ 6\n",
    "\n",
    "Notes\n",
    "\n",
    "•\tThe mean of all digits is the sum of digits / how many digits there are (e.g. mean of digits in 512 is (5+1+2)/3(number of digits) = 8/3=2).\n",
    "\n",
    "•\tThe mean will always be an integer."
   ]
  },
  {
   "cell_type": "code",
   "execution_count": 8,
   "id": "2239c84d-2520-48ed-bec6-223ca7c0a927",
   "metadata": {},
   "outputs": [
    {
     "name": "stdout",
     "output_type": "stream",
     "text": [
      "mean(42) ➞ 3\n",
      "mean(12345) ➞ 3\n",
      "mean(666) ➞ 6\n"
     ]
    }
   ],
   "source": [
    "def mean(x):\n",
    "    s = str(x)\n",
    "    print(\"mean({}) ➞ {}\".format(x,int(sum((ord(c) - ord('0')) for c in s) / len(s))))\n",
    "mean(42)\n",
    "mean(12345)\n",
    "mean(666)"
   ]
  },
  {
   "cell_type": "code",
   "execution_count": null,
   "id": "e82f8121-2346-4daf-b14e-6229c7e1f7a0",
   "metadata": {},
   "outputs": [],
   "source": []
  }
 ],
 "metadata": {
  "kernelspec": {
   "display_name": "Python 3",
   "language": "python",
   "name": "python3"
  },
  "language_info": {
   "codemirror_mode": {
    "name": "ipython",
    "version": 3
   },
   "file_extension": ".py",
   "mimetype": "text/x-python",
   "name": "python",
   "nbconvert_exporter": "python",
   "pygments_lexer": "ipython3",
   "version": "3.8.8"
  }
 },
 "nbformat": 4,
 "nbformat_minor": 5
}
