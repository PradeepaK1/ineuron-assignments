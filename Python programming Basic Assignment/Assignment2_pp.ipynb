{
 "cells": [
  {
   "cell_type": "markdown",
   "id": "08102fd6-be36-4d9f-865e-666753ef35b4",
   "metadata": {},
   "source": [
    "1.\tWrite a Python program to convert kilometers to miles?"
   ]
  },
  {
   "cell_type": "code",
   "execution_count": 1,
   "id": "53c14053-0e6c-4dba-95a0-296decc7b222",
   "metadata": {},
   "outputs": [
    {
     "name": "stdin",
     "output_type": "stream",
     "text": [
      "enter km 3.5\n"
     ]
    },
    {
     "name": "stdout",
     "output_type": "stream",
     "text": [
      "Miles is  2.1747985\n"
     ]
    }
   ],
   "source": [
    "km = float(input(\"enter km\"))\n",
    "conv_fac = 0.621371\n",
    "m = km * conv_fac\n",
    "print(\"Miles is \",m)"
   ]
  },
  {
   "cell_type": "markdown",
   "id": "55fb92ce-1646-4a72-84e5-8abda627d2eb",
   "metadata": {},
   "source": [
    "2.\tWrite a Python program to convert Celsius to Fahrenheit?"
   ]
  },
  {
   "cell_type": "code",
   "execution_count": 3,
   "id": "42a56e77-1bdf-4b4d-bcb9-edbe90f542e6",
   "metadata": {},
   "outputs": [
    {
     "name": "stdin",
     "output_type": "stream",
     "text": [
      "enter celsius:  34\n"
     ]
    },
    {
     "name": "stdout",
     "output_type": "stream",
     "text": [
      "Fahrenheit value is  93.2\n"
     ]
    }
   ],
   "source": [
    "c = float(input(\"enter celsius: \" ))  \n",
    "f = (c * 1.8) + 32    \n",
    "print(\"Fahrenheit value is \",f)  "
   ]
  },
  {
   "cell_type": "markdown",
   "id": "20710b27-dba5-46cc-9332-3afbabd0c4e6",
   "metadata": {},
   "source": [
    "3.\tWrite a Python program to display calendar?"
   ]
  },
  {
   "cell_type": "code",
   "execution_count": 4,
   "id": "56f06e20-dafe-491a-a57f-fec61800ccc0",
   "metadata": {},
   "outputs": [
    {
     "name": "stdin",
     "output_type": "stream",
     "text": [
      "enter year 1999\n",
      "enter month 11\n"
     ]
    },
    {
     "name": "stdout",
     "output_type": "stream",
     "text": [
      "   November 1999\n",
      "Mo Tu We Th Fr Sa Su\n",
      " 1  2  3  4  5  6  7\n",
      " 8  9 10 11 12 13 14\n",
      "15 16 17 18 19 20 21\n",
      "22 23 24 25 26 27 28\n",
      "29 30\n",
      "\n"
     ]
    }
   ],
   "source": [
    "import calendar\n",
    "y = int(input(\"enter year\"))\n",
    "m = int(input(\"enter month\"))\n",
    "print(calendar.month(y, m))"
   ]
  },
  {
   "cell_type": "markdown",
   "id": "6bdf0b80-d7b1-4593-81b0-f77712a951fd",
   "metadata": {},
   "source": [
    "4.\tWrite a Python program to solve quadratic equation?"
   ]
  },
  {
   "cell_type": "code",
   "execution_count": 7,
   "id": "98a079d3-15be-4b63-a0aa-21ee1ac0af5d",
   "metadata": {},
   "outputs": [
    {
     "name": "stdin",
     "output_type": "stream",
     "text": [
      "enter a 1\n",
      "enter b 4\n",
      "enter c 5\n"
     ]
    },
    {
     "name": "stdout",
     "output_type": "stream",
     "text": [
      "Solutions are  (-2-1j) ,  (-2+1j)\n"
     ]
    }
   ],
   "source": [
    "import cmath\n",
    "a = int(input(\"enter a\"))\n",
    "b = int(input(\"enter b\"))\n",
    "c = int(input(\"enter c\"))\n",
    "d = (b**2) - (4*a*c)\n",
    "s1 = (-b-cmath.sqrt(d))/(2*a)\n",
    "s2 = (-b+cmath.sqrt(d))/(2*a)\n",
    "print(\"Solutions are \",s1,\", \",s2)\n"
   ]
  },
  {
   "cell_type": "markdown",
   "id": "cef007be-50ba-4479-9c89-cae24b531d52",
   "metadata": {},
   "source": [
    "5.\tWrite a Python program to swap two variables without temp variable?"
   ]
  },
  {
   "cell_type": "code",
   "execution_count": 9,
   "id": "019dec1f-4a8e-4be2-8a59-940edf1539ee",
   "metadata": {},
   "outputs": [
    {
     "name": "stdin",
     "output_type": "stream",
     "text": [
      "enter a 1\n",
      "enter b 2\n"
     ]
    },
    {
     "name": "stdout",
     "output_type": "stream",
     "text": [
      "2 1\n"
     ]
    }
   ],
   "source": [
    "a=int(input(\"enter a\"))\n",
    "b=int(input(\"enter b\"))\n",
    "a=a+b\n",
    "b=a-b\n",
    "a=a-b\n",
    "print(a,b)"
   ]
  },
  {
   "cell_type": "code",
   "execution_count": null,
   "id": "165619dc-90fa-40a4-a17b-b479d6fdbeb7",
   "metadata": {},
   "outputs": [],
   "source": []
  }
 ],
 "metadata": {
  "kernelspec": {
   "display_name": "Python 3",
   "language": "python",
   "name": "python3"
  },
  "language_info": {
   "codemirror_mode": {
    "name": "ipython",
    "version": 3
   },
   "file_extension": ".py",
   "mimetype": "text/x-python",
   "name": "python",
   "nbconvert_exporter": "python",
   "pygments_lexer": "ipython3",
   "version": "3.8.8"
  }
 },
 "nbformat": 4,
 "nbformat_minor": 5
}
