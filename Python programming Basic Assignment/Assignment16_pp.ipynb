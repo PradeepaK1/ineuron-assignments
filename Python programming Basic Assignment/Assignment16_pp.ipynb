{
 "cells": [
  {
   "cell_type": "markdown",
   "id": "77541ceb-58b1-49d4-a5cf-de0fbc888442",
   "metadata": {},
   "source": [
    "Question1. Write a function that stutters a word as if someone is struggling to read it. The first two letters are repeated twice with an ellipsis ... and space after each, and then the word is pronounced with a question mark ?.\n",
    "\n",
    "Examples\n",
    "\n",
    "stutter(\"incredible\") ➞ \"in... in... incredible?\"\n",
    "\n",
    "stutter(\"enthusiastic\") ➞ \"en... en... enthusiastic?\"\n",
    "\n",
    "stutter(\"outstanding\") ➞ \"ou... ou... outstanding?\"\n",
    "\n",
    "Hint :- Assume all input is in lower case and at least two characters long."
   ]
  },
  {
   "cell_type": "code",
   "execution_count": 3,
   "id": "288fd646-7fd5-46a6-b7f5-1c2a6041cfae",
   "metadata": {},
   "outputs": [
    {
     "name": "stdin",
     "output_type": "stream",
     "text": [
      " outstanding\n"
     ]
    },
    {
     "name": "stdout",
     "output_type": "stream",
     "text": [
      "ou... ou... outstanding?"
     ]
    }
   ],
   "source": [
    "def stutter(w):\n",
    "    print(w[0:2],end=\"... \")\n",
    "    print(w[0:2],end=\"... \")\n",
    "    print(w,end=\"?\")\n",
    "w=input()\n",
    "stutter(w)"
   ]
  },
  {
   "cell_type": "markdown",
   "id": "df9081c4-7152-47f8-a4a8-ae8c3ba6c374",
   "metadata": {},
   "source": [
    "Question 2.Create a function that takes an angle in radians and returns the corresponding angle in degrees rounded to one decimal place.\n",
    "\n",
    "Examples\n",
    "\n",
    "radians_to_degrees(1) ➞ 57.3\n",
    "\n",
    "radians_to_degrees(20) ➞ 1145.9\n",
    "\n",
    "radians_to_degrees(50) ➞ 2864.8"
   ]
  },
  {
   "cell_type": "code",
   "execution_count": 17,
   "id": "d0fbd4d0-883e-48b0-bf74-a3de99d04d88",
   "metadata": {},
   "outputs": [
    {
     "name": "stdin",
     "output_type": "stream",
     "text": [
      " 50\n"
     ]
    },
    {
     "name": "stdout",
     "output_type": "stream",
     "text": [
      "radians_to_degrees(50) -> 2864.8\n"
     ]
    }
   ],
   "source": [
    "def deg(r):\n",
    "    pi=3.14159\n",
    "    d=r*(180/pi)\n",
    "    return d\n",
    "r=float(input())\n",
    "d=deg(r)\n",
    "print(\"radians_to_degrees(%d) -> %.1f\" % (r,d))"
   ]
  },
  {
   "cell_type": "markdown",
   "id": "ba2325c3-e082-495f-a983-e444d421b6a8",
   "metadata": {},
   "source": [
    "Question 3. In this challenge, establish if a given integer num is a Curzon number. If 1 plus 2 elevated to num is exactly divisible by 1 plus 2 multiplied by num, then num is a Curzon number.\n",
    "Given a non-negative integer num, implement a function that returns True if num is a Curzon number, or False otherwise.\n",
    "\n",
    "Examples\n",
    "\n",
    "is_curzon(5) ➞ True\n",
    "\n",
    "2 ** 5 + 1 = 33\n",
    "\n",
    "2 * 5 + 1 = 11\n",
    "\n",
    "33 is a multiple of 11\n",
    "\n",
    "is_curzon(10) ➞ False\n",
    "\n",
    "2 ** 10 + 1 = 1025\n",
    "\n",
    "2 * 10 + 1 = 21\n",
    "\n",
    "1025 is not a multiple of 21\n",
    "\n",
    "is_curzon(14) ➞ True\n",
    "\n",
    "2 ** 14 + 1 = 16385\n",
    "\n",
    "2 * 14 + 1 = 29\n",
    "\n",
    "16385 is a multiple of 29"
   ]
  },
  {
   "cell_type": "code",
   "execution_count": 20,
   "id": "bb600126-1d3f-46a9-8c55-be96bc7d68ed",
   "metadata": {},
   "outputs": [
    {
     "name": "stdin",
     "output_type": "stream",
     "text": [
      " 14\n"
     ]
    },
    {
     "name": "stdout",
     "output_type": "stream",
     "text": [
      "is_curzon(14) -> True\n"
     ]
    }
   ],
   "source": [
    "def cur(n):\n",
    "    powe=0\n",
    "    mul=0\n",
    "    powe=pow(2,n)+1\n",
    "    mul=2*n+1\n",
    "    if(powe%mul==0):\n",
    "        print(\"is_curzon(%d) -> %s\" % (n,True))\n",
    "    else:\n",
    "        print(\"is_curzon(%d) -> %s\" % (n,False))\n",
    "n=int(input())\n",
    "cur(n)"
   ]
  },
  {
   "cell_type": "markdown",
   "id": "033c4d7f-7d60-4227-81f1-167f8fd3ba07",
   "metadata": {},
   "source": [
    "Question 4.Given the side length x find the area of a hexagon.\n",
    " \n",
    "Examples\n",
    "\n",
    "area_of_hexagon(1) ➞ 2.6\n",
    "\n",
    "area_of_hexagon(2) ➞ 10.4\n",
    "\n",
    "area_of_hexagon(3) ➞ 23.4"
   ]
  },
  {
   "cell_type": "code",
   "execution_count": 22,
   "id": "2559dd47-f827-4fe8-9898-6406bb2d40df",
   "metadata": {},
   "outputs": [
    {
     "name": "stdin",
     "output_type": "stream",
     "text": [
      " 3\n"
     ]
    },
    {
     "name": "stdout",
     "output_type": "stream",
     "text": [
      "area_of_hexagon(3) -> 23.4\n"
     ]
    }
   ],
   "source": [
    "import math\n",
    "def area(s):\n",
    "    return((3*math.sqrt(3)*(s*s))/2)\n",
    "s=int(input())\n",
    "print(\"area_of_hexagon(%d) -> %.1f\" % (s,area(s)))"
   ]
  },
  {
   "cell_type": "markdown",
   "id": "d6848139-1780-4222-b0ed-47dd72f3754f",
   "metadata": {},
   "source": [
    "Question 5. Create a function that returns a base-2 (binary) representation of a base-10 (decimal) string number. To convert is simple: ((2) means base-2 and (10) means base-10) 010101001(2) = 1 + 8 + 32 + 128.\n",
    "Going from right to left, the value of the most right bit is 1, now from that every bit to the left will be x2 the value, value of an 8 bit binary numbers are (256, 128, 64, 32, 16, 8, 4, 2, 1).\n",
    "\n",
    "Examples\n",
    "\n",
    "binary(1) ➞ \"1\"\n",
    "\n",
    "1*1 = 1\n",
    "\n",
    "binary(5) ➞ \"101\"\n",
    "\n",
    "1*1 + 1*4 = 5\n",
    "\n",
    "binary(10) ➞ \"1010\"\n",
    "\n",
    "1*2 + 1*8 = 10\n"
   ]
  },
  {
   "cell_type": "code",
   "execution_count": 27,
   "id": "783ef7e1-6b0b-4bf5-9838-70d2c0fb590c",
   "metadata": {},
   "outputs": [
    {
     "name": "stdin",
     "output_type": "stream",
     "text": [
      " 10\n"
     ]
    },
    {
     "name": "stdout",
     "output_type": "stream",
     "text": [
      "binary(10) -> 1010\n"
     ]
    }
   ],
   "source": [
    "def bin(m):\n",
    "    return \"{0:b}\".format(int(m))\n",
    "m=int(input())\n",
    "print(\"binary(%d) -> %s\" % (m,bin(m)))"
   ]
  },
  {
   "cell_type": "code",
   "execution_count": null,
   "id": "654352c2-115d-443c-b7f5-c9f5d16d6d33",
   "metadata": {},
   "outputs": [],
   "source": []
  }
 ],
 "metadata": {
  "kernelspec": {
   "display_name": "Python 3",
   "language": "python",
   "name": "python3"
  },
  "language_info": {
   "codemirror_mode": {
    "name": "ipython",
    "version": 3
   },
   "file_extension": ".py",
   "mimetype": "text/x-python",
   "name": "python",
   "nbconvert_exporter": "python",
   "pygments_lexer": "ipython3",
   "version": "3.8.8"
  }
 },
 "nbformat": 4,
 "nbformat_minor": 5
}
