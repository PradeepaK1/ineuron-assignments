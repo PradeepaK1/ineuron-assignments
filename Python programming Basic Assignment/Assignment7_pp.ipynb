{
 "cells": [
  {
   "cell_type": "markdown",
   "id": "bf841ae6-336f-4593-959a-7eadea670099",
   "metadata": {},
   "source": [
    "1.\tWrite a Python Program to find sum of array?"
   ]
  },
  {
   "cell_type": "code",
   "execution_count": 5,
   "id": "2382fdc1-3767-4996-8f7f-f5d78d5c2cd9",
   "metadata": {},
   "outputs": [
    {
     "name": "stdin",
     "output_type": "stream",
     "text": [
      "enter the number of elements 5\n",
      "enter elements  1\n"
     ]
    },
    {
     "name": "stdout",
     "output_type": "stream",
     "text": [
      "1\n"
     ]
    },
    {
     "name": "stdin",
     "output_type": "stream",
     "text": [
      "enter elements  2\n"
     ]
    },
    {
     "name": "stdout",
     "output_type": "stream",
     "text": [
      "2\n"
     ]
    },
    {
     "name": "stdin",
     "output_type": "stream",
     "text": [
      "enter elements  3\n"
     ]
    },
    {
     "name": "stdout",
     "output_type": "stream",
     "text": [
      "3\n"
     ]
    },
    {
     "name": "stdin",
     "output_type": "stream",
     "text": [
      "enter elements  4\n"
     ]
    },
    {
     "name": "stdout",
     "output_type": "stream",
     "text": [
      "4\n"
     ]
    },
    {
     "name": "stdin",
     "output_type": "stream",
     "text": [
      "enter elements  5\n"
     ]
    },
    {
     "name": "stdout",
     "output_type": "stream",
     "text": [
      "5\n",
      "sum of array is  15\n"
     ]
    }
   ],
   "source": [
    "a=[]\n",
    "s=0\n",
    "n=int(input(\"enter the number of elements\"))\n",
    "for i in range(0,n):\n",
    "    k=int(input(\"enter elements \"))\n",
    "    a.append(k)\n",
    "    print(k)\n",
    "    s+=a[i]\n",
    "print(\"sum of array is \",s)"
   ]
  },
  {
   "cell_type": "markdown",
   "id": "56645fe7-725a-4ac1-99cc-64dbff32f444",
   "metadata": {},
   "source": [
    "2.\tWrite a Python Program to find largest element in an array?"
   ]
  },
  {
   "cell_type": "code",
   "execution_count": 8,
   "id": "92c932aa-ec95-4d2a-8989-3abdc59225d2",
   "metadata": {},
   "outputs": [
    {
     "name": "stdin",
     "output_type": "stream",
     "text": [
      "enter the number of elements 5\n",
      "enter elements  78748\n",
      "enter elements  837493\n",
      "enter elements  4833\n",
      "enter elements  4839493\n",
      "enter elements  0\n"
     ]
    },
    {
     "name": "stdout",
     "output_type": "stream",
     "text": [
      "largest element in the array is  4839493\n"
     ]
    }
   ],
   "source": [
    "a=[]\n",
    "s=0\n",
    "n=int(input(\"enter the number of elements\"))\n",
    "for i in range(0,n):\n",
    "    k=int(input(\"enter elements \"))\n",
    "    a.append(k)\n",
    "for i in a:\n",
    "    if s<i:\n",
    "        s=i\n",
    "print(\"largest element in the array is \",s)"
   ]
  },
  {
   "cell_type": "code",
   "execution_count": null,
   "id": "d8f4642a-ddff-43b4-9192-2c080fe31130",
   "metadata": {},
   "outputs": [],
   "source": [
    "3.\tWrite a Python Program for array rotation?"
   ]
  },
  {
   "cell_type": "code",
   "execution_count": 14,
   "id": "d1dac10a-d875-4230-953b-e2d5f95d1188",
   "metadata": {},
   "outputs": [
    {
     "name": "stdin",
     "output_type": "stream",
     "text": [
      "enter the number of elements 5\n",
      "enter elements  1\n",
      "enter elements  2\n",
      "enter elements  3\n",
      "enter elements  4\n",
      "enter elements  5\n",
      "enter distance of rotation 2\n"
     ]
    },
    {
     "name": "stdout",
     "output_type": "stream",
     "text": [
      "Rotated array :  [3, 4, 5, 1, 2]\n"
     ]
    }
   ],
   "source": [
    "def fun(ar,d):\n",
    "    t = []\n",
    "    for i in range(d,n):\n",
    "        t.append(ar[i])\n",
    "    i = 0\n",
    "    for i in range (0,d):\n",
    "        t.append(ar[i])\n",
    "    ar=t.copy()\n",
    "    return ar\n",
    "ar=[]\n",
    "n=int(input(\"enter the number of elements\"))\n",
    "for i in range(0,n):\n",
    "    l=int(input(\"enter elements \"))\n",
    "    ar.append(l)\n",
    "d=int(input(\"enter distance of rotation\"))\n",
    "print(\"Rotated array : \", end=' ')\n",
    "print(fun(ar,d))"
   ]
  },
  {
   "cell_type": "code",
   "execution_count": null,
   "id": "07622654-88c5-48a2-bc12-3106afce5244",
   "metadata": {},
   "outputs": [],
   "source": [
    "4.\tWrite a Python Program to Split the array and add the first part to the end?"
   ]
  },
  {
   "cell_type": "code",
   "execution_count": 17,
   "id": "e791ce33-73ba-487a-a9f4-5e423f3fc83b",
   "metadata": {},
   "outputs": [
    {
     "name": "stdin",
     "output_type": "stream",
     "text": [
      "enter the number of elements 5\n",
      "enter elements  1\n",
      "enter elements  2\n",
      "enter elements  3\n",
      "enter elements  4\n",
      "enter elements  5\n",
      "enter distance of splitting position 2\n"
     ]
    },
    {
     "name": "stdout",
     "output_type": "stream",
     "text": [
      "3 4 5 1 2 "
     ]
    }
   ],
   "source": [
    "def funn(arr, n, d):\n",
    "    for i in range(0, d):\n",
    "        x = arr[0]\n",
    "        for j in range(0, n-1):\n",
    "            arr[j] = arr[j + 1]\n",
    "        arr[n-1] = x\n",
    "arr=[]\n",
    "n=int(input(\"enter the number of elements\"))\n",
    "for i in range(0,n):\n",
    "    l=int(input(\"enter elements \"))\n",
    "    arr.append(l)\n",
    "d=int(input(\"enter distance of splitting position\"))\n",
    "funn(arr, n, d)\n",
    "for i in range(0, n):\n",
    "    print(arr[i], end = ' ')"
   ]
  },
  {
   "cell_type": "code",
   "execution_count": null,
   "id": "eee1a505-4827-4b92-9aff-b167e5160c98",
   "metadata": {},
   "outputs": [],
   "source": [
    "5.\tWrite a Python Program to check if given array is Monotonic?"
   ]
  },
  {
   "cell_type": "code",
   "execution_count": 23,
   "id": "ad0cba10-3a13-4a6d-a265-6b9e508c5fb8",
   "metadata": {},
   "outputs": [
    {
     "name": "stdin",
     "output_type": "stream",
     "text": [
      "enter the number of elements 5\n",
      "enter elements  1\n",
      "enter elements  2\n",
      "enter elements  3\n",
      "enter elements  4\n",
      "enter elements  5\n"
     ]
    },
    {
     "name": "stdout",
     "output_type": "stream",
     "text": [
      "True\n"
     ]
    }
   ],
   "source": [
    "def funmon(arrr):\n",
    "    return (all(arrr[i] <= arrr[i + 1] for i in range(len(arrr) - 1)) or all(arrr[i] >= arrr[i + 1] for i in range(len(arrr) - 1)))\n",
    "arrr=[]\n",
    "n=int(input(\"enter the number of elements\"))\n",
    "for i in range(0,n):\n",
    "    l=int(input(\"enter elements \"))\n",
    "    arrr.append(l)\n",
    "print(funmon(arrr))"
   ]
  },
  {
   "cell_type": "code",
   "execution_count": null,
   "id": "00dd5e6e-170a-4cc5-8f60-05bbb528f743",
   "metadata": {},
   "outputs": [],
   "source": []
  }
 ],
 "metadata": {
  "kernelspec": {
   "display_name": "Python 3",
   "language": "python",
   "name": "python3"
  },
  "language_info": {
   "codemirror_mode": {
    "name": "ipython",
    "version": 3
   },
   "file_extension": ".py",
   "mimetype": "text/x-python",
   "name": "python",
   "nbconvert_exporter": "python",
   "pygments_lexer": "ipython3",
   "version": "3.8.8"
  }
 },
 "nbformat": 4,
 "nbformat_minor": 5
}
