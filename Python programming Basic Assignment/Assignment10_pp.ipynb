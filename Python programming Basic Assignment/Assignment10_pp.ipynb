{
 "cells": [
  {
   "cell_type": "markdown",
   "id": "ecbb16e2-8097-4d47-b07a-ee1537f8fe1b",
   "metadata": {},
   "source": [
    "1.\tWrite a Python program to find sum of elements in list?"
   ]
  },
  {
   "cell_type": "code",
   "execution_count": 1,
   "id": "f4d13eac-5872-4d94-8d5c-1646df60c42a",
   "metadata": {},
   "outputs": [
    {
     "name": "stdin",
     "output_type": "stream",
     "text": [
      "enter the number of elements 5\n",
      "enter elements  1\n"
     ]
    },
    {
     "name": "stdout",
     "output_type": "stream",
     "text": [
      "1\n"
     ]
    },
    {
     "name": "stdin",
     "output_type": "stream",
     "text": [
      "enter elements  2\n"
     ]
    },
    {
     "name": "stdout",
     "output_type": "stream",
     "text": [
      "2\n"
     ]
    },
    {
     "name": "stdin",
     "output_type": "stream",
     "text": [
      "enter elements  3\n"
     ]
    },
    {
     "name": "stdout",
     "output_type": "stream",
     "text": [
      "3\n"
     ]
    },
    {
     "name": "stdin",
     "output_type": "stream",
     "text": [
      "enter elements  4\n"
     ]
    },
    {
     "name": "stdout",
     "output_type": "stream",
     "text": [
      "4\n"
     ]
    },
    {
     "name": "stdin",
     "output_type": "stream",
     "text": [
      "enter elements  5\n"
     ]
    },
    {
     "name": "stdout",
     "output_type": "stream",
     "text": [
      "5\n",
      "sum of list is  15\n"
     ]
    }
   ],
   "source": [
    "a=[]\n",
    "s=0\n",
    "n=int(input(\"enter the number of elements\"))\n",
    "for i in range(0,n):\n",
    "    k=int(input(\"enter elements \"))\n",
    "    a.append(k)\n",
    "    print(k)\n",
    "    s+=a[i]\n",
    "print(\"sum of list is \",s)"
   ]
  },
  {
   "cell_type": "markdown",
   "id": "79c2c704-e7b8-42d4-bf8a-8727176dc89a",
   "metadata": {},
   "source": [
    "2.\tWrite a Python program to  Multiply all numbers in the list?"
   ]
  },
  {
   "cell_type": "code",
   "execution_count": 37,
   "id": "831d0110-1c97-4afc-a34e-ff191f0759a0",
   "metadata": {},
   "outputs": [
    {
     "name": "stdin",
     "output_type": "stream",
     "text": [
      "enter the number of elements 5\n",
      "enter elements  1\n"
     ]
    },
    {
     "name": "stdout",
     "output_type": "stream",
     "text": [
      "1\n"
     ]
    },
    {
     "name": "stdin",
     "output_type": "stream",
     "text": [
      "enter elements  2\n"
     ]
    },
    {
     "name": "stdout",
     "output_type": "stream",
     "text": [
      "2\n"
     ]
    },
    {
     "name": "stdin",
     "output_type": "stream",
     "text": [
      "enter elements  3\n"
     ]
    },
    {
     "name": "stdout",
     "output_type": "stream",
     "text": [
      "3\n"
     ]
    },
    {
     "name": "stdin",
     "output_type": "stream",
     "text": [
      "enter elements  4\n"
     ]
    },
    {
     "name": "stdout",
     "output_type": "stream",
     "text": [
      "4\n"
     ]
    },
    {
     "name": "stdin",
     "output_type": "stream",
     "text": [
      "enter elements  5\n"
     ]
    },
    {
     "name": "stdout",
     "output_type": "stream",
     "text": [
      "5\n",
      "product of list is  120\n"
     ]
    }
   ],
   "source": [
    "a=[]\n",
    "s=1\n",
    "n=int(input(\"enter the number of elements\"))\n",
    "for i in range(0,n):\n",
    "    k=int(input(\"enter elements \"))\n",
    "    a.append(k)\n",
    "    print(k)\n",
    "    s*=a[i]\n",
    "print(\"product of list is \",s)"
   ]
  },
  {
   "cell_type": "markdown",
   "id": "1cccd15c-2d19-4465-b169-d2369fc476c9",
   "metadata": {},
   "source": [
    "3.\tWrite a Python program to find smallest number in a list?"
   ]
  },
  {
   "cell_type": "code",
   "execution_count": 12,
   "id": "8f5e927f-eb51-4642-947c-9c0499c72fde",
   "metadata": {},
   "outputs": [
    {
     "name": "stdin",
     "output_type": "stream",
     "text": [
      "enter the number of elements 5\n",
      "enter elements  8\n",
      "enter elements  12\n",
      "enter elements  1\n",
      "enter elements  9\n",
      "enter elements  5\n"
     ]
    },
    {
     "name": "stdout",
     "output_type": "stream",
     "text": [
      "smallest element in the list is  1\n"
     ]
    }
   ],
   "source": [
    "a=[]\n",
    "n=int(input(\"enter the number of elements\"))\n",
    "for i in range(0,n):\n",
    "    k=int(input(\"enter elements \"))\n",
    "    a.append(k)\n",
    "a.sort()\n",
    "print(\"smallest element in the list is \",a[0])"
   ]
  },
  {
   "cell_type": "markdown",
   "id": "8b187673-b4bb-4c66-b015-2dd772868378",
   "metadata": {},
   "source": [
    "4.\tWrite a Python program to find largest number in a list?"
   ]
  },
  {
   "cell_type": "code",
   "execution_count": 13,
   "id": "3d9a21d1-727d-478e-a169-93d265ca5ba8",
   "metadata": {},
   "outputs": [
    {
     "name": "stdin",
     "output_type": "stream",
     "text": [
      "enter the number of elements 5\n",
      "enter elements  8\n",
      "enter elements  12\n",
      "enter elements  1\n",
      "enter elements  9\n",
      "enter elements  5\n"
     ]
    },
    {
     "name": "stdout",
     "output_type": "stream",
     "text": [
      "largest element in the list is  12\n"
     ]
    }
   ],
   "source": [
    "a=[]\n",
    "n=int(input(\"enter the number of elements\"))\n",
    "for i in range(0,n):\n",
    "    k=int(input(\"enter elements \"))\n",
    "    a.append(k)\n",
    "a.sort()\n",
    "print(\"largest element in the list is \",a[-1])"
   ]
  },
  {
   "cell_type": "markdown",
   "id": "5e12063a-0bf5-448f-a0ca-a8b8eeaed4b6",
   "metadata": {},
   "source": [
    "5.\tWrite a Python program to find second largest number in a list?"
   ]
  },
  {
   "cell_type": "code",
   "execution_count": 39,
   "id": "d5fdeb87-6b00-4ec5-b85e-c8b355eb8790",
   "metadata": {},
   "outputs": [
    {
     "name": "stdin",
     "output_type": "stream",
     "text": [
      "enter the number of elements 5\n",
      "enter elements  7\n",
      "enter elements  9\n",
      "enter elements  8\n",
      "enter elements  1\n",
      "enter elements  6\n"
     ]
    },
    {
     "name": "stdout",
     "output_type": "stream",
     "text": [
      "second largest element in the array is  8\n"
     ]
    }
   ],
   "source": [
    "a=[]\n",
    "n=int(input(\"enter the number of elements\"))\n",
    "for i in range(0,n):\n",
    "    k=int(input(\"enter elements \"))\n",
    "    a.append(k)\n",
    "a.sort()\n",
    "print(\"second largest element in the array is \",a[-2])"
   ]
  },
  {
   "cell_type": "markdown",
   "id": "e4c76866-65cf-45ba-af0d-53e2242fcf34",
   "metadata": {},
   "source": [
    "6.\tWrite a Python program to find N largest elements from a list?"
   ]
  },
  {
   "cell_type": "code",
   "execution_count": 40,
   "id": "da2b5ac6-b8a2-49d6-981a-f230f9058607",
   "metadata": {},
   "outputs": [
    {
     "name": "stdin",
     "output_type": "stream",
     "text": [
      "enter the N value 3\n",
      "enter the number of elements 5\n",
      "enter elements  7\n",
      "enter elements  9\n",
      "enter elements  8\n",
      "enter elements  4\n",
      "enter elements  3\n"
     ]
    },
    {
     "name": "stdout",
     "output_type": "stream",
     "text": [
      "top  3  largest element in the array is  [7, 8, 9]\n"
     ]
    }
   ],
   "source": [
    "a=[]\n",
    "N=int(input(\"enter the N value\"))\n",
    "s=0\n",
    "n=int(input(\"enter the number of elements\"))\n",
    "for i in range(0,n):\n",
    "    k=int(input(\"enter elements \"))\n",
    "    a.append(k)\n",
    "a.sort()\n",
    "print(\"top \",N,\" largest element in the array is \",a[-N:])"
   ]
  },
  {
   "cell_type": "markdown",
   "id": "ae6c69cd-a1bb-49bc-b681-036555926a3d",
   "metadata": {},
   "source": [
    "7.\tWrite a Python program to print even numbers in a list?"
   ]
  },
  {
   "cell_type": "code",
   "execution_count": 25,
   "id": "a5655e44-e2ea-4f39-ba11-02a0cdfdd22e",
   "metadata": {},
   "outputs": [
    {
     "name": "stdin",
     "output_type": "stream",
     "text": [
      "enter the number of elements 5\n",
      "enter elements  2\n",
      "enter elements  4\n",
      "enter elements  7\n",
      "enter elements  8\n",
      "enter elements  9\n"
     ]
    },
    {
     "name": "stdout",
     "output_type": "stream",
     "text": [
      "2 is Even Number\n",
      "4 is Even Number\n",
      "8 is Even Number\n"
     ]
    }
   ],
   "source": [
    "a=[]\n",
    "n=int(input(\"enter the number of elements\"))\n",
    "for i in range(0,n):\n",
    "    k=int(input(\"enter elements \"))\n",
    "    a.append(k)\n",
    "for i in a:\n",
    "    if(i%2 ==0):\n",
    "        print(i, \"is Even Number\")"
   ]
  },
  {
   "cell_type": "markdown",
   "id": "fa651691-ddf7-4f2b-b409-80fe1552faa5",
   "metadata": {},
   "source": [
    "8.\tWrite a Python program to print odd numbers in a List?"
   ]
  },
  {
   "cell_type": "code",
   "execution_count": 27,
   "id": "a7fea411-e60d-485e-8d2b-2e0d63c3483c",
   "metadata": {},
   "outputs": [
    {
     "name": "stdin",
     "output_type": "stream",
     "text": [
      "enter the number of elements 5\n",
      "enter elements  2\n",
      "enter elements  4\n",
      "enter elements  7\n",
      "enter elements  8\n",
      "enter elements  9\n"
     ]
    },
    {
     "name": "stdout",
     "output_type": "stream",
     "text": [
      "7 is Odd Number\n",
      "9 is Odd Number\n"
     ]
    }
   ],
   "source": [
    "a=[]\n",
    "n=int(input(\"enter the number of elements\"))\n",
    "for i in range(0,n):\n",
    "    k=int(input(\"enter elements \"))\n",
    "    a.append(k)\n",
    "for i in a:\n",
    "    if(i%2 !=0):\n",
    "        print(i, \"is Odd Number\")"
   ]
  },
  {
   "cell_type": "markdown",
   "id": "f8748350-a7d6-497e-8897-dd01f2d0c069",
   "metadata": {},
   "source": [
    "9.\tWrite a Python program to Remove empty List from List?"
   ]
  },
  {
   "cell_type": "code",
   "execution_count": 30,
   "id": "ab303545-b88c-4e83-aadc-f5180b03cd58",
   "metadata": {},
   "outputs": [
    {
     "name": "stdin",
     "output_type": "stream",
     "text": [
      "enter the number of elements 9\n",
      "enter elements  []\n",
      "enter elements  k\n",
      "enter elements  hjh\n",
      "enter elements  ,\n",
      "enter elements  9\n",
      "enter elements  2\n",
      "enter elements  4\n",
      "enter elements  2\n",
      "enter elements  1\n"
     ]
    },
    {
     "name": "stdout",
     "output_type": "stream",
     "text": [
      "list is : ['[]', 'k', 'hjh', ',', '9', '2', '4', '2', '1']\n",
      "List after removal : ['k', 'hjh', ',', '9', '2', '4', '2', '1']\n"
     ]
    }
   ],
   "source": [
    "a=[]\n",
    "n=int(input(\"enter the number of elements\"))\n",
    "for i in range(0,n):\n",
    "    k=input(\"enter elements \")\n",
    "    a.append(k)\n",
    "print(\"list is : \" + str(a))\n",
    "r = [i for i in a if i != '[]']\n",
    "print (\"List after removal : \" + str(r))"
   ]
  },
  {
   "cell_type": "markdown",
   "id": "1b41c20c-a012-43e1-8b9a-8d01525c2bc2",
   "metadata": {},
   "source": [
    "10.\tWrite a Python program to Cloning or Copying a list?"
   ]
  },
  {
   "cell_type": "code",
   "execution_count": 31,
   "id": "9abc5989-5779-4319-a357-721fc311cac8",
   "metadata": {},
   "outputs": [
    {
     "name": "stdin",
     "output_type": "stream",
     "text": [
      "enter the number of elements 4\n",
      "enter elements  1\n",
      "enter elements  3\n",
      "enter elements  5\n",
      "enter elements  2\n"
     ]
    },
    {
     "name": "stdout",
     "output_type": "stream",
     "text": [
      "Original List: ['1', '3', '5', '2']\n",
      "Cloned list: ['1', '3', '5', '2']\n"
     ]
    }
   ],
   "source": [
    "def clone(l1):\n",
    "    lc =[]\n",
    "    lc = l1.copy()\n",
    "    return lc\n",
    "l1=[]\n",
    "n=int(input(\"enter the number of elements\"))\n",
    "for i in range(0,n):\n",
    "    k=input(\"enter elements \")\n",
    "    l1.append(k)\n",
    "l2 = clone(l1)\n",
    "print(\"Original List:\", l1)\n",
    "print(\"Cloned list:\", l2)\n"
   ]
  },
  {
   "cell_type": "markdown",
   "id": "328c3c5a-31cc-4696-8e58-51a7f62a0157",
   "metadata": {},
   "source": [
    "11.\tWrite a Python program to Count occurrences of an element in a list?"
   ]
  },
  {
   "cell_type": "code",
   "execution_count": 36,
   "id": "8d2a49bb-79a0-4f5a-9265-5bc4514986a0",
   "metadata": {},
   "outputs": [
    {
     "name": "stdin",
     "output_type": "stream",
     "text": [
      "enter the number of elements 4\n",
      "enter elements  1\n",
      "enter elements  2\n",
      "enter elements  2\n",
      "enter elements  3\n",
      "enter the element to be counted 2\n"
     ]
    },
    {
     "name": "stdout",
     "output_type": "stream",
     "text": [
      "2 has occurred 2 times\n"
     ]
    }
   ],
   "source": [
    "def c(l, f):\n",
    "    cc = 0\n",
    "    for i in l:\n",
    "        if (i == f):\n",
    "            cc += 1\n",
    "    return cc\n",
    "l=[]\n",
    "n=int(input(\"enter the number of elements\"))\n",
    "for i in range(0,n):\n",
    "    k=input(\"enter elements \")\n",
    "    l.append(k)\n",
    "f=input(\"enter the element to be counted\")\n",
    "print('{} has occurred {} times'.format(f, c(l, f)))"
   ]
  },
  {
   "cell_type": "code",
   "execution_count": null,
   "id": "ca454ae6-8da2-4800-acd0-f081462a5047",
   "metadata": {},
   "outputs": [],
   "source": []
  }
 ],
 "metadata": {
  "kernelspec": {
   "display_name": "Python 3",
   "language": "python",
   "name": "python3"
  },
  "language_info": {
   "codemirror_mode": {
    "name": "ipython",
    "version": 3
   },
   "file_extension": ".py",
   "mimetype": "text/x-python",
   "name": "python",
   "nbconvert_exporter": "python",
   "pygments_lexer": "ipython3",
   "version": "3.8.8"
  }
 },
 "nbformat": 4,
 "nbformat_minor": 5
}
