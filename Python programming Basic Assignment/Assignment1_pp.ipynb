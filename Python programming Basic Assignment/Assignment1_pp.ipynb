{
 "cells": [
  {
   "cell_type": "markdown",
   "id": "4212fe04-d270-4422-a136-db8e63ad8d93",
   "metadata": {},
   "source": [
    "1.\tWrite a Python program to print \"Hello Python\"?"
   ]
  },
  {
   "cell_type": "code",
   "execution_count": 1,
   "id": "76a5efba-9396-40e4-9953-236f7d750a39",
   "metadata": {},
   "outputs": [
    {
     "name": "stdout",
     "output_type": "stream",
     "text": [
      "Hello Python\n"
     ]
    }
   ],
   "source": [
    "print(\"Hello Python\")"
   ]
  },
  {
   "cell_type": "markdown",
   "id": "1d96fd67-6a2e-4f1c-a55c-60ebe676580b",
   "metadata": {},
   "source": [
    "2.\tWrite a Python program to do arithmetical operations addition and division.?"
   ]
  },
  {
   "cell_type": "code",
   "execution_count": 3,
   "id": "63cfb5f1-744f-410b-b948-d0b7cb8799a9",
   "metadata": {},
   "outputs": [
    {
     "name": "stdin",
     "output_type": "stream",
     "text": [
      " 1\n",
      " 2\n",
      "Enter 0 for addition, 1 for division 1\n"
     ]
    },
    {
     "name": "stdout",
     "output_type": "stream",
     "text": [
      "0.5\n"
     ]
    }
   ],
   "source": [
    "a=float(input())\n",
    "b=float(input())\n",
    "c=int(input(\"Enter 0 for addition, 1 for division\"))\n",
    "if (c==0):\n",
    "    print(a+b)\n",
    "elif (c==1):\n",
    "    print(a/b)\n",
    "else:\n",
    "    print(\"enter 0 or 1\")"
   ]
  },
  {
   "cell_type": "markdown",
   "id": "eb7aaf73-0bec-496d-a528-57d57bf7ff19",
   "metadata": {},
   "source": [
    "3.\tWrite a Python program to find the area of a triangle?"
   ]
  },
  {
   "cell_type": "code",
   "execution_count": 6,
   "id": "17b76ec6-7b47-44ed-adca-fec2d68702d9",
   "metadata": {},
   "outputs": [
    {
     "name": "stdin",
     "output_type": "stream",
     "text": [
      "enter base 8\n",
      "enter height 9\n"
     ]
    },
    {
     "name": "stdout",
     "output_type": "stream",
     "text": [
      "area is  36.0\n"
     ]
    }
   ],
   "source": [
    "b=float(input(\"enter base\"))\n",
    "h=float(input(\"enter height\"))\n",
    "print(\"area is \",(0.5*b*h))"
   ]
  },
  {
   "cell_type": "markdown",
   "id": "3ebe0646-ba1b-4718-94de-f3943d871753",
   "metadata": {},
   "source": [
    "4.\tWrite a Python program to swap two variables?"
   ]
  },
  {
   "cell_type": "code",
   "execution_count": 9,
   "id": "c6c742d3-0630-4bae-819a-03a53e6225e2",
   "metadata": {},
   "outputs": [
    {
     "name": "stdin",
     "output_type": "stream",
     "text": [
      "enter a 1\n",
      "enter b 2\n"
     ]
    },
    {
     "name": "stdout",
     "output_type": "stream",
     "text": [
      "2 1\n"
     ]
    }
   ],
   "source": [
    "a=input(\"enter a\")\n",
    "b=input(\"enter b\")\n",
    "c=a\n",
    "a=b\n",
    "b=c\n",
    "print(a,b)"
   ]
  },
  {
   "cell_type": "markdown",
   "id": "c94ce1d5-0e65-4cec-99c8-8b18565906d6",
   "metadata": {},
   "source": [
    "5.\tWrite a Python program to generate a random number?"
   ]
  },
  {
   "cell_type": "code",
   "execution_count": 10,
   "id": "794fd94b-f857-403a-b34b-b5f873d5b5ff",
   "metadata": {},
   "outputs": [
    {
     "name": "stdout",
     "output_type": "stream",
     "text": [
      "0.5789919326178596\n"
     ]
    }
   ],
   "source": [
    "import random\n",
    "n = random.random()\n",
    "print(n)"
   ]
  },
  {
   "cell_type": "code",
   "execution_count": null,
   "id": "8e89a48c-0527-4851-80cc-7600bbf716ee",
   "metadata": {},
   "outputs": [],
   "source": []
  }
 ],
 "metadata": {
  "kernelspec": {
   "display_name": "Python 3",
   "language": "python",
   "name": "python3"
  },
  "language_info": {
   "codemirror_mode": {
    "name": "ipython",
    "version": 3
   },
   "file_extension": ".py",
   "mimetype": "text/x-python",
   "name": "python",
   "nbconvert_exporter": "python",
   "pygments_lexer": "ipython3",
   "version": "3.8.8"
  }
 },
 "nbformat": 4,
 "nbformat_minor": 5
}
