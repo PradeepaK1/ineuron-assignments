{
 "cells": [
  {
   "cell_type": "markdown",
   "id": "c6d2dccd-ee58-447c-b7e2-42edcc671db0",
   "metadata": {},
   "source": [
    "Question 1\n",
    "\n",
    "Create a function that takes a list of non-negative integers and strings and return a new list without the strings.\n",
    "\n",
    "Examples\n",
    "\n",
    "filter_list([1, 2, \"a\", \"b\"]) ➞ [1, 2]\n",
    "\n",
    "filter_list([1, \"a\", \"b\", 0, 15]) ➞ [1, 0, 15]\n",
    "\n",
    "filter_list([1, 2, \"aasf\", \"1\", \"123\", 123]) ➞ [1, 2, 123]"
   ]
  },
  {
   "cell_type": "code",
   "execution_count": 20,
   "id": "a5ea9584-85d3-44cb-8e83-287b30b71ff4",
   "metadata": {},
   "outputs": [
    {
     "name": "stdout",
     "output_type": "stream",
     "text": [
      "filter_list( [1, 2, 'a', 'b'] ) ➞  [1, 2]\n",
      "filter_list( [1, 'a', 'b', 0, 15] ) ➞  [1, 0, 15]\n",
      "filter_list( [1, 2, 'aasf', '1', '123', 123] ) ➞  [1, 2, 123]\n"
     ]
    }
   ],
   "source": [
    "def filter_list(l):\n",
    "    rl=[]\n",
    "    for i in l:\n",
    "        if type(i)==int and int(i)>=0:\n",
    "            rl.append(i)\n",
    "    print(\"filter_list(\",l,\") ➞ \",rl)\n",
    "filter_list([1,2,\"a\",\"b\"])\n",
    "filter_list([1, \"a\", \"b\", 0, 15])\n",
    "filter_list([1, 2, \"aasf\", \"1\", \"123\", 123]) "
   ]
  },
  {
   "cell_type": "markdown",
   "id": "572e8248-9905-4df3-8f19-b57b47a443c1",
   "metadata": {},
   "source": [
    "Question 2\n",
    "\n",
    "The \"Reverser\" takes a string as input and returns that string in reverse order, with the opposite case.\n",
    "\n",
    "Examples\n",
    "\n",
    "reverse(\"Hello World\") ➞ \"DLROw OLLEh\"\n",
    "\n",
    "reverse(\"ReVeRsE\") ➞ \"eSrEvEr\"\n",
    "\n",
    "reverse(\"Radar\") ➞ \"RADAr\""
   ]
  },
  {
   "cell_type": "code",
   "execution_count": 8,
   "id": "9846c7c5-a1e2-4f31-84c3-452771d752aa",
   "metadata": {},
   "outputs": [
    {
     "name": "stdout",
     "output_type": "stream",
     "text": [
      "reverse(Hello World) ➞ DLROw OLLEh\n",
      "reverse(ReVeRsE) ➞ eSrEvEr\n",
      "reverse(Radar) ➞ RADAr\n"
     ]
    }
   ],
   "source": [
    "def reverse(s):\n",
    "    rs=s[::-1].swapcase()\n",
    "    print(\"reverse(%s) ➞ %s\" % (s,rs))\n",
    "reverse(\"Hello World\")\n",
    "reverse(\"ReVeRsE\")\n",
    "reverse(\"Radar\") "
   ]
  },
  {
   "cell_type": "markdown",
   "id": "b9004045-7381-4e58-923f-789d51ad2514",
   "metadata": {},
   "source": [
    "Question 3\n",
    "\n",
    "You can assign variables from lists like this:\n",
    "\n",
    "lst = [1, 2, 3, 4, 5, 6]\n",
    "\n",
    "first = lst[0]\n",
    "\n",
    "middle = lst[1:-1]\n",
    "\n",
    "last = lst[-1]\n",
    "\n",
    "print(first) ➞ outputs 1\n",
    "\n",
    "print(middle) ➞ outputs [2, 3, 4, 5]\n",
    "\n",
    "print(last) ➞ outputs 6\n",
    "\n",
    "With Python 3, you can assign variables from lists in a much more succinct way. Create variables first, middle and last from the given list using destructuring assignment (check the Resources tab for some examples), where:\n",
    "\n",
    "first  ➞ 1\n",
    "\n",
    "middle ➞ [2, 3, 4, 5]\n",
    "\n",
    "last ➞ 6\n",
    "\n",
    "Your task is to unpack the list writeyourcodehere into three variables, being first, middle, and last, with middle being everything in between the first and last element. Then print all three variables."
   ]
  },
  {
   "cell_type": "code",
   "execution_count": 9,
   "id": "1d185ad3-8ca0-4204-97cf-617a45418e01",
   "metadata": {},
   "outputs": [
    {
     "name": "stdout",
     "output_type": "stream",
     "text": [
      "first ➞ 1\n",
      "middle ➞ [2, 3, 4, 5]\n",
      "last ➞ 6\n"
     ]
    }
   ],
   "source": [
    "def spl(l):\n",
    "    first=l[0]\n",
    "    middle=l[1:-1]\n",
    "    last=l[-1]\n",
    "    print(\"first ➞ {}\".format(first))\n",
    "    print(\"middle ➞ {}\".format(middle))\n",
    "    print(\"last ➞ {}\".format(last))\n",
    "spl([1,2,3,4,5,6])"
   ]
  },
  {
   "cell_type": "markdown",
   "id": "a88818b0-38ea-4069-8752-9f814c26e731",
   "metadata": {},
   "source": [
    "Question 4\n",
    "\n",
    "Write a function that calculates the factorial of a number recursively.\n",
    "\n",
    "Examples\n",
    "\n",
    "factorial(5) ➞ 120\n",
    "\n",
    "factorial(3) ➞ 6\n",
    "\n",
    "factorial(1) ➞ 1\n",
    "\n",
    "factorial(0) ➞ 1"
   ]
  },
  {
   "cell_type": "code",
   "execution_count": 11,
   "id": "f74c6613-1619-4674-b766-b6c5b49c1cff",
   "metadata": {},
   "outputs": [
    {
     "name": "stdout",
     "output_type": "stream",
     "text": [
      "factorial(5) -> 120\n",
      "factorial(3) -> 6\n",
      "factorial(1) -> 1\n",
      "factorial(0) -> 1\n"
     ]
    }
   ],
   "source": [
    "def factorial(n):\n",
    "    if n==0:\n",
    "        return 1\n",
    "    return n*factorial(n-1)\n",
    "print(\"factorial(%d) -> %d\" % (5,factorial(5)))\n",
    "print(\"factorial(%d) -> %d\" % (3,factorial(3)))\n",
    "print(\"factorial(%d) -> %d\" % (1,factorial(1)))\n",
    "print(\"factorial(%d) -> %d\" % (0,factorial(0)))"
   ]
  },
  {
   "cell_type": "markdown",
   "id": "6e073ed4-4046-4242-a06f-bd3cc2f31967",
   "metadata": {},
   "source": [
    "Question 5\n",
    "\n",
    "Write a function that moves all elements of one type to the end of the list.\n",
    "\n",
    "Examples\n",
    "\n",
    "move_to_end([1, 3, 2, 4, 4, 1], 1) ➞ [3, 2, 4, 4, 1, 1]\n",
    "\n",
    "Move all the 1s to the end of the array.\n",
    "\n",
    "move_to_end([7, 8, 9, 1, 2, 3, 4], 9) ➞ [7, 8, 1, 2, 3, 4, 9]\n",
    "\n",
    "move_to_end([\"a\", \"a\", \"a\", \"b\"], \"a\") ➞ [\"b\", \"a\", \"a\", \"a\"]"
   ]
  },
  {
   "cell_type": "code",
   "execution_count": 19,
   "id": "0bda4b5c-250f-40b3-b8c4-35e846ad5e23",
   "metadata": {},
   "outputs": [
    {
     "name": "stdout",
     "output_type": "stream",
     "text": [
      "move_to_end([1, 3, 2, 4, 4, 1], 1) ➞ [3, 2, 4, 4, 1, 1]\n",
      "move_to_end([7, 8, 9, 1, 2, 3, 4], 9) ➞ [7, 8, 1, 2, 3, 4, 9]\n",
      "move_to_end([\"a\", \"a\", \"a\", \"b\"], \"a\") ➞ ['b', 'a', 'a', 'a']\n"
     ]
    }
   ],
   "source": [
    "def move_to_end(l,n):\n",
    "    a = []\n",
    "    b = []\n",
    "    for i in l:\n",
    "        if i == n:\n",
    "            b.append(i)\n",
    "        else:\n",
    "            a.append(i)\n",
    "    a.extend(b)\n",
    "    return a\n",
    "print(\"move_to_end([1, 3, 2, 4, 4, 1], 1) ➞ {}\".format (move_to_end([1, 3, 2, 4, 4, 1], 1)))\n",
    "print(\"move_to_end([7, 8, 9, 1, 2, 3, 4], 9) ➞ {}\".format (move_to_end([7, 8, 9, 1, 2, 3, 4], 9)))\n",
    "print('move_to_end([\"a\", \"a\", \"a\", \"b\"], \"a\") ➞ {}'.format (move_to_end([\"a\", \"a\", \"a\", \"b\"], \"a\")))    "
   ]
  },
  {
   "cell_type": "code",
   "execution_count": null,
   "id": "2d128b0f-d0e5-4d31-bff1-48ac6dba8f59",
   "metadata": {},
   "outputs": [],
   "source": []
  }
 ],
 "metadata": {
  "kernelspec": {
   "display_name": "Python 3",
   "language": "python",
   "name": "python3"
  },
  "language_info": {
   "codemirror_mode": {
    "name": "ipython",
    "version": 3
   },
   "file_extension": ".py",
   "mimetype": "text/x-python",
   "name": "python",
   "nbconvert_exporter": "python",
   "pygments_lexer": "ipython3",
   "version": "3.8.8"
  }
 },
 "nbformat": 4,
 "nbformat_minor": 5
}
