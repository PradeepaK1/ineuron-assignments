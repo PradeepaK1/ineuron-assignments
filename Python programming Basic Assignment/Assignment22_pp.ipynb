{
 "cells": [
  {
   "cell_type": "markdown",
   "id": "1bed10eb-1d94-407f-ac3f-9f620beb0ef0",
   "metadata": {},
   "source": [
    "Question1\n",
    "\n",
    "Create a function that takes three parameters where:\n",
    "\n",
    "•\tx is the start of the range (inclusive).\n",
    "\n",
    "•\ty is the end of the range (inclusive).\n",
    "\n",
    "•\tn is the divisor to be checked against.\n",
    "\n",
    "Return an ordered list with numbers in the range that are divisible by the third parameter n. Return an empty list if there are no numbers that are divisible by n.\n",
    "\n",
    "Examples\n",
    "\n",
    "list_operation(1, 10, 3) ➞ [3, 6, 9]\n",
    "\n",
    "list_operation(7, 9, 2) ➞ [8]\n",
    "\n",
    "list_operation(15, 20, 7) ➞ []"
   ]
  },
  {
   "cell_type": "code",
   "execution_count": 9,
   "id": "155de8aa-ea42-4506-b51f-802b156b8844",
   "metadata": {},
   "outputs": [
    {
     "name": "stdout",
     "output_type": "stream",
     "text": [
      "list_operation(1, 10, 3) ➞ [3, 6, 9]\n",
      "list_operation(7, 9, 2) ➞ [8]\n",
      "list_operation(15, 20, 7) ➞ []\n"
     ]
    }
   ],
   "source": [
    "def list_operation(a,b,c):\n",
    "    l=[]\n",
    "    rl=[]\n",
    "    for i in range(a,b+1):\n",
    "        l.append(i)\n",
    "    for i in l:\n",
    "        if(i%c==0):\n",
    "            rl.append(i)\n",
    "    print(\"list_operation({}, {}, {}) ➞ {}\".format(a,b,c,rl))\n",
    "list_operation(1, 10, 3)\n",
    "list_operation(7, 9, 2)\n",
    "list_operation(15, 20, 7)"
   ]
  },
  {
   "cell_type": "markdown",
   "id": "c6f4322e-c421-4d6a-bcaa-a6c615eef280",
   "metadata": {},
   "source": [
    "Question2\n",
    "\n",
    "Create a function that takes in two lists and returns True if the second list follows the first list by one element, and False otherwise. In other words, determine if the second list is the first list shifted to the right by 1.\n",
    "\n",
    "Examples\n",
    "\n",
    "simon_says([1, 2], [5, 1]) ➞ True\n",
    "\n",
    "simon_says([1, 2], [5, 5]) ➞ False\n",
    "\n",
    "simon_says([1, 2, 3, 4, 5], [0, 1, 2, 3, 4]) ➞ True\n",
    "\n",
    "simon_says([1, 2, 3, 4, 5], [5, 5, 1, 2, 3]) ➞ False\n",
    "\n",
    "Notes\n",
    "\n",
    "•\tBoth input lists will be of the same length, and will have a minimum length of 2.\n",
    "\n",
    "•\tThe values of the 0-indexed element in the second list and the n-1th indexed element in the first list do not matter."
   ]
  },
  {
   "cell_type": "code",
   "execution_count": 12,
   "id": "4dc67c58-6413-4f1b-b515-f11c7b78e248",
   "metadata": {},
   "outputs": [
    {
     "name": "stdout",
     "output_type": "stream",
     "text": [
      "simon_says([1, 2], [5, 1]) ➞ True\n",
      "simon_says([1, 2], [5, 5]) ➞ False\n",
      "simon_says([1, 2, 3, 4, 5], [0, 1, 2, 3, 4]) ➞ True\n",
      "simon_says([1, 2, 3, 4, 5], [5, 5, 1, 2, 3]) ➞ False\n"
     ]
    }
   ],
   "source": [
    "def simon_says(l1,l2):\n",
    "    if len(l1)==len(l2) and len(l1)>=2:\n",
    "        if(l1[:-1]==l2[1:]):\n",
    "            print(\"simon_says({}, {}) ➞ {}\".format(l1,l2,True))\n",
    "        else:\n",
    "            print(\"simon_says({}, {}) ➞ {}\".format(l1,l2,False))\n",
    "simon_says([1, 2], [5, 1])\n",
    "simon_says([1, 2], [5, 5]) \n",
    "simon_says([1, 2, 3, 4, 5], [0, 1, 2, 3, 4])     \n",
    "simon_says([1, 2, 3, 4, 5], [5, 5, 1, 2, 3])"
   ]
  },
  {
   "cell_type": "markdown",
   "id": "1f91440c-1bf2-4ba5-8457-c24e29f542ce",
   "metadata": {},
   "source": [
    "Question3\n",
    "\n",
    "A group of friends have decided to start a secret society. The name will be the first letter of each of their names, sorted in alphabetical order.\n",
    "\n",
    "Create a function that takes in a list of names and returns the name of the secret society.\n",
    "\n",
    "Examples\n",
    "\n",
    "society_name([\"Adam\", \"Sarah\", \"Malcolm\"]) ➞ \"AMS\"\n",
    "\n",
    "society_name([\"Harry\", \"Newt\", \"Luna\", \"Cho\"]) ➞ \"CHLN\"\n",
    "\n",
    "society_name([\"Phoebe\", \"Chandler\", \"Rachel\", \"Ross\", \"Monica\", \"Joey\"])"
   ]
  },
  {
   "cell_type": "code",
   "execution_count": 14,
   "id": "2c4be686-9da9-45d2-a60d-90f0d6c2b794",
   "metadata": {},
   "outputs": [
    {
     "name": "stdout",
     "output_type": "stream",
     "text": [
      "society_name(['Adam', 'Sarah', 'Malcolm']) ➞ AMS\n",
      "society_name(['Harry', 'Newt', 'Luna', 'Cho']) ➞ CHLN\n",
      "society_name(['Phoebe', 'Chandler', 'Rachel', 'Ross', 'Monica', 'Joey']) ➞ CJMPRR\n"
     ]
    }
   ],
   "source": [
    "def society_name(l):\n",
    "    s=\"\"\n",
    "    for i in l:\n",
    "        s+=i[0]\n",
    "    s=''.join(sorted(s))\n",
    "    print(\"society_name({}) ➞ {}\".format(l,s))\n",
    "society_name([\"Adam\", \"Sarah\", \"Malcolm\"])\n",
    "society_name([\"Harry\", \"Newt\", \"Luna\", \"Cho\"])\n",
    "society_name([\"Phoebe\", \"Chandler\", \"Rachel\", \"Ross\", \"Monica\", \"Joey\"])"
   ]
  },
  {
   "cell_type": "markdown",
   "id": "91068f6d-4f80-484b-a8f8-6d4539dfb276",
   "metadata": {},
   "source": [
    "Question4\n",
    "\n",
    "An isogram is a word that has no duplicate letters. Create a function that takes a string and returns either True or False depending on whether or not it's an \"isogram\".\n",
    "\n",
    "Examples\n",
    "\n",
    "is_isogram(\"Algorism\") ➞ True\n",
    "\n",
    "is_isogram(\"PasSword\") ➞ False\n",
    "\n",
    "Not case sensitive.\n",
    "\n",
    "is_isogram(\"Consecutive\") ➞ False\n",
    "\n",
    "Notes\n",
    "\n",
    "•\tIgnore letter case (should not be case sensitive).\n",
    "\n",
    "•\tAll test cases contain valid one word strings."
   ]
  },
  {
   "cell_type": "code",
   "execution_count": 16,
   "id": "cbe2f96a-b77a-4258-98c2-338fa04c3bb6",
   "metadata": {},
   "outputs": [
    {
     "name": "stdout",
     "output_type": "stream",
     "text": [
      "is_isogram(Algorism) ➞ True\n",
      "is_isogram(PasSword) ➞ False\n",
      "is_isogram(Consecutive) ➞ False\n"
     ]
    }
   ],
   "source": [
    "def is_isogram(s):\n",
    "    r = s.lower()\n",
    "    if len(r) == len(set(r)):\n",
    "        print(\"is_isogram({}) ➞ {}\".format(s,True))\n",
    "    else:\n",
    "        print(\"is_isogram({}) ➞ {}\".format(s,False))\n",
    "is_isogram(\"Algorism\")\n",
    "is_isogram(\"PasSword\")\n",
    "is_isogram(\"Consecutive\")"
   ]
  },
  {
   "cell_type": "markdown",
   "id": "c54847b2-7e28-4d79-8b62-2f787378ec27",
   "metadata": {},
   "source": [
    "Question5\n",
    "\n",
    "Create a function that takes a string and returns True or False, depending on whether the characters are in order or not.\n",
    "\n",
    "Examples\n",
    "\n",
    "is_in_order(\"abc\") ➞ True\n",
    "\n",
    "is_in_order(\"edabit\") ➞ False\n",
    "\n",
    "is_in_order(\"123\") ➞ True\n",
    "\n",
    "is_in_order(\"xyzz\") ➞ True\n",
    "\n",
    "Notes\n",
    "\n",
    "You don't have to handle empty strings."
   ]
  },
  {
   "cell_type": "code",
   "execution_count": 17,
   "id": "d8335276-1b9d-4e94-936d-e4dcc83258d5",
   "metadata": {},
   "outputs": [
    {
     "name": "stdout",
     "output_type": "stream",
     "text": [
      "is_in_order(abc) ➞ True\n",
      "is_in_order(edabit) ➞ False\n",
      "is_in_order(123) ➞ True\n",
      "is_in_order(xyzz) ➞ True\n"
     ]
    }
   ],
   "source": [
    "def is_in_order(s):\n",
    "    ss = ''.join(sorted(s))\n",
    "    if s == ss:\n",
    "        print(\"is_in_order({}) ➞ {}\".format(s,True))\n",
    "    else:\n",
    "        print(\"is_in_order({}) ➞ {}\".format(s,False))\n",
    "is_in_order(\"abc\")\n",
    "is_in_order(\"edabit\")\n",
    "is_in_order(\"123\")\n",
    "is_in_order(\"xyzz\")"
   ]
  },
  {
   "cell_type": "code",
   "execution_count": null,
   "id": "17491ca1-0191-403c-8e07-74db9e7af039",
   "metadata": {},
   "outputs": [],
   "source": []
  }
 ],
 "metadata": {
  "kernelspec": {
   "display_name": "Python 3",
   "language": "python",
   "name": "python3"
  },
  "language_info": {
   "codemirror_mode": {
    "name": "ipython",
    "version": 3
   },
   "file_extension": ".py",
   "mimetype": "text/x-python",
   "name": "python",
   "nbconvert_exporter": "python",
   "pygments_lexer": "ipython3",
   "version": "3.8.8"
  }
 },
 "nbformat": 4,
 "nbformat_minor": 5
}
