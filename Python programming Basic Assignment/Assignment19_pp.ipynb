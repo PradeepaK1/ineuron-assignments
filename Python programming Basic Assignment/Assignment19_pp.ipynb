{
 "cells": [
  {
   "cell_type": "markdown",
   "id": "7aaacf65-8ad9-4bb5-b634-57b9f3cf2887",
   "metadata": {},
   "source": [
    "Question1\n",
    "\n",
    "Create a function that takes a string and returns a string in which each character is repeated once.\n",
    "\n",
    "Examples\n",
    "\n",
    "double_char(\"String\") ➞ \"SSttrriinngg\"\n",
    "\n",
    "double_char(\"Hello World!\") ➞ \"HHeelllloo  WWoorrlldd!!\"\n",
    "\n",
    "double_char(\"1234!_ \") ➞ \"11223344!!__  \""
   ]
  },
  {
   "cell_type": "code",
   "execution_count": 23,
   "id": "d92ddad1-d34d-4343-a620-05e278c8af8c",
   "metadata": {},
   "outputs": [
    {
     "name": "stdout",
     "output_type": "stream",
     "text": [
      "double_char(String) ➞ SSttrriinngg\n",
      "double_char(Hello World!) ➞ HHeelllloo  WWoorrlldd!!\n",
      "double_char(1234!_ ) ➞ 11223344!!__  \n"
     ]
    }
   ],
   "source": [
    "def double_char(s):\n",
    "    ss=[]\n",
    "    for i in s:\n",
    "        ss.append(str(i)+str(i))\n",
    "    print(\"double_char({}) ➞ {}\".format(s,''.join(ss)))\n",
    "double_char(\"String\")\n",
    "double_char(\"Hello World!\")\n",
    "double_char(\"1234!_ \")"
   ]
  },
  {
   "cell_type": "markdown",
   "id": "e6155658-634a-448a-b266-5ae440f69f7f",
   "metadata": {},
   "source": [
    "Question2\n",
    "\n",
    "Create a function that reverses a boolean value and returns the string \"boolean expected\" if another variable type is given.\n",
    "\n",
    "Examples\n",
    "\n",
    "reverse(True) ➞ False\n",
    "\n",
    "reverse(False) ➞ True\n",
    "\n",
    "reverse(0) ➞ \"boolean expected\"\n",
    "\n",
    "reverse(None) ➞ \"boolean expected\""
   ]
  },
  {
   "cell_type": "code",
   "execution_count": 24,
   "id": "1d6a9187-bd2f-4191-bd7b-754b55c54250",
   "metadata": {},
   "outputs": [
    {
     "name": "stdout",
     "output_type": "stream",
     "text": [
      "reverse(True) ➞ False\n",
      "reverse(False) ➞ True\n",
      "reverse(0) ➞ boolean expected\n",
      "reverse(None) ➞ boolean expected\n"
     ]
    }
   ],
   "source": [
    "def reverse(b):\n",
    "    if type(b)==bool:\n",
    "        print(\"reverse({}) ➞ {}\".format(b, not(b)))\n",
    "    else: \n",
    "        print(\"reverse({}) ➞ boolean expected\".format(b))\n",
    "reverse(True)\n",
    "reverse(False)\n",
    "reverse(0)\n",
    "reverse(None)"
   ]
  },
  {
   "cell_type": "markdown",
   "id": "3d711d53-f716-47cd-a71d-cec135671aee",
   "metadata": {},
   "source": [
    "Question3\n",
    "\n",
    "Create a function that returns the thickness (in meters) of a piece of paper after folding it n number of times. The paper starts off with a thickness of 0.5mm.\n",
    "\n",
    "Examples\n",
    "\n",
    "num_layers(1) ➞ \"0.001m\"\n",
    "\n",
    "Paper folded once is 1mm (equal to 0.001m)\n",
    "\n",
    "num_layers(4) ➞ \"0.008m\"\n",
    "\n",
    "Paper folded 4 times is 8mm (equal to 0.008m)\n",
    "\n",
    "num_layers(21) ➞ \"1048.576m\"\n",
    "\n",
    "Paper folded 21 times is 1048576mm (equal to 1048.576m)"
   ]
  },
  {
   "cell_type": "code",
   "execution_count": 25,
   "id": "2c2bf658-8207-47d0-b9ec-13d52fb4316d",
   "metadata": {},
   "outputs": [
    {
     "name": "stdout",
     "output_type": "stream",
     "text": [
      "num_layers(1) ➞ 0.001m\n",
      "num_layers(4) ➞ 0.008m\n",
      "num_layers(21) ➞ 1048.576m\n"
     ]
    }
   ],
   "source": [
    "def num_layers(n):\n",
    "    a = 0.5\n",
    "    for i in range(n):\n",
    "        a *= 2\n",
    "    print(\"num_layers({}) ➞ {}m\".format(n,a/1000))\n",
    "num_layers(1)\n",
    "num_layers(4)\n",
    "num_layers(21)"
   ]
  },
  {
   "cell_type": "markdown",
   "id": "c5159290-4b59-4498-a867-9ff69a9c29ac",
   "metadata": {},
   "source": [
    "Question4\n",
    "\n",
    "Create a function that takes a single string as argument and returns an ordered list containing the indices of all capital letters in the string.\n",
    "\n",
    "Examples\n",
    "\n",
    "index_of_caps(\"eDaBiT\") ➞ [1, 3, 5]\n",
    "\n",
    "index_of_caps(\"eQuINoX\") ➞ [1, 3, 4, 6]\n",
    "\n",
    "index_of_caps(\"determine\") ➞ []\n",
    "\n",
    "index_of_caps(\"STRIKE\") ➞ [0, 1, 2, 3, 4, 5]\n",
    "\n",
    "index_of_caps(\"sUn\") ➞ [1]"
   ]
  },
  {
   "cell_type": "code",
   "execution_count": 26,
   "id": "20ab46e3-b196-4ead-bb4c-87550ffc6c85",
   "metadata": {},
   "outputs": [
    {
     "name": "stdout",
     "output_type": "stream",
     "text": [
      "index_of_caps(eDaBiT) ➞ [1, 3, 5]\n",
      "index_of_caps(eQuINoX) ➞ [1, 3, 4, 6]\n",
      "index_of_caps(determine) ➞ []\n",
      "index_of_caps(STRIKE) ➞ [0, 1, 2, 3, 4, 5]\n",
      "index_of_caps(sUn) ➞ [1]\n"
     ]
    }
   ],
   "source": [
    "def index_of_caps(s):\n",
    "    a = []\n",
    "    for i in s:\n",
    "        if i.isupper():\n",
    "            a.append(s.index(i))\n",
    "    print(\"index_of_caps({}) ➞ {}\".format(s,a))\n",
    "index_of_caps(\"eDaBiT\")\n",
    "index_of_caps(\"eQuINoX\")\n",
    "index_of_caps(\"determine\")\n",
    "index_of_caps(\"STRIKE\")\n",
    "index_of_caps(\"sUn\")"
   ]
  },
  {
   "cell_type": "markdown",
   "id": "b5c62f76-d3bb-4009-a7cb-1a87b155dac2",
   "metadata": {},
   "source": [
    "Question5\n",
    "\n",
    "Using list comprehensions, create a function that finds all even numbers from 1 to the given number.\n",
    "\n",
    "Examples\n",
    "\n",
    "find_even_nums(8) ➞ [2, 4, 6, 8]\n",
    "\n",
    "find_even_nums(4) ➞ [2, 4]\n",
    "\n",
    "find_even_nums(2) ➞ [2]"
   ]
  },
  {
   "cell_type": "code",
   "execution_count": 29,
   "id": "143ba68e-94d1-44f3-a331-bf3da7c72187",
   "metadata": {},
   "outputs": [
    {
     "name": "stdout",
     "output_type": "stream",
     "text": [
      "find_even_nums(8) ➞ [2, 4, 6, 8]\n",
      "find_even_nums(4) ➞ [2, 4]\n",
      "find_even_nums(2) ➞ [2]\n"
     ]
    }
   ],
   "source": [
    "def find_even_nums(n):\n",
    "    e=[]\n",
    "    for i in range(n+1):\n",
    "        if i%2==0 and i!=0:\n",
    "            e.append(i)\n",
    "    print(\"find_even_nums({}) ➞ {}\".format(n,e))\n",
    "find_even_nums(8)\n",
    "find_even_nums(4)\n",
    "find_even_nums(2)"
   ]
  },
  {
   "cell_type": "code",
   "execution_count": null,
   "id": "fecce679-b829-4f9b-827f-8ce1c288a582",
   "metadata": {},
   "outputs": [],
   "source": []
  }
 ],
 "metadata": {
  "kernelspec": {
   "display_name": "Python 3",
   "language": "python",
   "name": "python3"
  },
  "language_info": {
   "codemirror_mode": {
    "name": "ipython",
    "version": 3
   },
   "file_extension": ".py",
   "mimetype": "text/x-python",
   "name": "python",
   "nbconvert_exporter": "python",
   "pygments_lexer": "ipython3",
   "version": "3.8.8"
  }
 },
 "nbformat": 4,
 "nbformat_minor": 5
}
