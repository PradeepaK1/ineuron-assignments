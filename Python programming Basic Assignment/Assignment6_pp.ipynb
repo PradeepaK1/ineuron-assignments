{
 "cells": [
  {
   "cell_type": "markdown",
   "id": "061f9665-d7e1-47b9-8f6b-3f1131fcebe9",
   "metadata": {},
   "source": [
    "1.\tWrite a Python Program to Display Fibonacci Sequence Using Recursion?"
   ]
  },
  {
   "cell_type": "code",
   "execution_count": 1,
   "id": "d6d7515e-36ed-4ff9-93cc-3cc11ed832ca",
   "metadata": {},
   "outputs": [
    {
     "name": "stdin",
     "output_type": "stream",
     "text": [
      "enter a number 7\n"
     ]
    },
    {
     "name": "stdout",
     "output_type": "stream",
     "text": [
      "Sequence for  7  is:\n",
      "0\n",
      "1\n",
      "1\n",
      "2\n",
      "3\n",
      "5\n",
      "8\n"
     ]
    }
   ],
   "source": [
    "def fib(n):\n",
    "    if n<=1:\n",
    "        return n\n",
    "    else:\n",
    "        return(fib(n-1) + fib(n-2))\n",
    "n = int(input(\"enter a number\"))\n",
    "print(\"Sequence for \",n,\" is:\")\n",
    "for i in range(n):\n",
    "    print(fib(i))"
   ]
  },
  {
   "cell_type": "markdown",
   "id": "59b79723-6869-4da2-a139-d2577acd5f08",
   "metadata": {},
   "source": [
    "2.\tWrite a Python Program to Find Factorial of Number Using Recursion?"
   ]
  },
  {
   "cell_type": "code",
   "execution_count": 2,
   "id": "2cbac2e0-63be-4479-add7-c30e71fe109a",
   "metadata": {},
   "outputs": [
    {
     "name": "stdin",
     "output_type": "stream",
     "text": [
      "enter a number 5\n"
     ]
    },
    {
     "name": "stdout",
     "output_type": "stream",
     "text": [
      "120\n"
     ]
    }
   ],
   "source": [
    "def f(n):\n",
    "    if (n==1):\n",
    "        return n\n",
    "    else:\n",
    "        return(n*f(n-1))\n",
    "n=int(input(\"enter a number\"))\n",
    "print(f(n))"
   ]
  },
  {
   "cell_type": "markdown",
   "id": "8a587561-7efe-44db-9788-8d381b645587",
   "metadata": {},
   "source": [
    "3.\tWrite a Python Program to calculate your Body Mass Index?"
   ]
  },
  {
   "cell_type": "code",
   "execution_count": 5,
   "id": "117a7418-12de-433a-9a4c-5bbd0d64712c",
   "metadata": {},
   "outputs": [
    {
     "name": "stdin",
     "output_type": "stream",
     "text": [
      "Height in Cm:  155\n",
      "Weight in Kg:  57\n"
     ]
    },
    {
     "name": "stdout",
     "output_type": "stream",
     "text": [
      "BMI:  23.725286160249738\n",
      "Healthy\n"
     ]
    }
   ],
   "source": [
    "h = float(input(\"Height in Cm: \"))\n",
    "w = float(input(\"Weight in Kg: \"))\n",
    "bmi = w / (h/100)**2\n",
    "print(\"BMI: \", bmi)\n",
    "if (bmi < 18.5):\n",
    "    print(\"underweight\")\n",
    "elif ( bmi >= 18.5 and bmi < 24.9):\n",
    "    print(\"Healthy\")\n",
    "elif ( bmi >= 24.9 and bmi < 30):\n",
    "    print(\"overweight\")\n",
    "elif ( bmi >=30):\n",
    "    print(\"Suffering from Obesity\")"
   ]
  },
  {
   "cell_type": "markdown",
   "id": "9d9083ca-d90d-46fd-af41-0ac79a271ed9",
   "metadata": {},
   "source": [
    "4.\tWrite a Python Program to calculate the natural logarithm of any number?"
   ]
  },
  {
   "cell_type": "code",
   "execution_count": 8,
   "id": "34fa795c-dc9f-4908-9094-131380873196",
   "metadata": {},
   "outputs": [
    {
     "name": "stdin",
     "output_type": "stream",
     "text": [
      "enter a number  21\n"
     ]
    },
    {
     "name": "stdout",
     "output_type": "stream",
     "text": [
      "Natural logarithm of  21  is : 3.044522437723423\n"
     ]
    }
   ],
   "source": [
    "import math\n",
    "a=int(input(\"enter a number \"))\n",
    "print (\"Natural logarithm of \",a,\" is : \", end=\"\")\n",
    "print (math.log(a))"
   ]
  },
  {
   "cell_type": "markdown",
   "id": "1eaeb85b-5bd1-4b8a-83fe-b125bdd78b70",
   "metadata": {},
   "source": [
    "5.\tWrite a Python Program for cube sum of first n natural numbers?"
   ]
  },
  {
   "cell_type": "code",
   "execution_count": 9,
   "id": "5a123906-da52-48f7-8ff3-b49c3adb5b54",
   "metadata": {},
   "outputs": [
    {
     "name": "stdin",
     "output_type": "stream",
     "text": [
      "enter a number 5\n"
     ]
    },
    {
     "name": "stdout",
     "output_type": "stream",
     "text": [
      "225\n"
     ]
    }
   ],
   "source": [
    "def cubesum(n):\n",
    "    s = 0\n",
    "    for i in range(1, n+1):\n",
    "        s +=i*i*i\n",
    "    return s\n",
    "n = int(input(\"enter a number\"))\n",
    "print(cubesum(n))"
   ]
  },
  {
   "cell_type": "code",
   "execution_count": null,
   "id": "f342af2d-52dc-4d26-b235-ea6fc402aac8",
   "metadata": {},
   "outputs": [],
   "source": []
  }
 ],
 "metadata": {
  "kernelspec": {
   "display_name": "Python 3",
   "language": "python",
   "name": "python3"
  },
  "language_info": {
   "codemirror_mode": {
    "name": "ipython",
    "version": 3
   },
   "file_extension": ".py",
   "mimetype": "text/x-python",
   "name": "python",
   "nbconvert_exporter": "python",
   "pygments_lexer": "ipython3",
   "version": "3.8.8"
  }
 },
 "nbformat": 4,
 "nbformat_minor": 5
}
