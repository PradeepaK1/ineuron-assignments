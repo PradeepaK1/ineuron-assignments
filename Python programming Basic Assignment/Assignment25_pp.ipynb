{
 "cells": [
  {
   "cell_type": "markdown",
   "id": "c0c6d7bd-ccda-4278-98b5-f9c3becd00ee",
   "metadata": {},
   "source": [
    "Question1\n",
    "\n",
    "Create a function that takes three integer arguments (a, b, c) and returns the amount of integers which are of equal value.\n",
    "\n",
    "Examples\n",
    "\n",
    "equal(3, 4, 3) ➞ 2\n",
    "\n",
    "equal(1, 1, 1) ➞ 3\n",
    "\n",
    "equal(3, 4, 1) ➞ 0 \n",
    "\n",
    "Notes\n",
    "\n",
    "Your function must return 0, 2 or 3."
   ]
  },
  {
   "cell_type": "code",
   "execution_count": 24,
   "id": "28cda9b4-967a-4dc8-b2ae-a2d86a47447a",
   "metadata": {},
   "outputs": [
    {
     "name": "stdout",
     "output_type": "stream",
     "text": [
      "equal(3,4,3) ➞ 2\n",
      "equal(1,1,1) ➞ 3\n",
      "equal(3,4,1) ➞ 0\n"
     ]
    }
   ],
   "source": [
    "def equal(a,b,c):\n",
    "    if a==b==c:\n",
    "        print(\"equal({},{},{}) ➞ {}\".format(a,b,c,3))\n",
    "    elif a==b or a==c:\n",
    "        print(\"equal({},{},{}) ➞ {}\".format(a,b,c,2))\n",
    "    else:\n",
    "        print(\"equal({},{},{}) ➞ {}\".format(a,b,c,0))\n",
    "equal(3, 4, 3) \n",
    "equal(1, 1, 1)\n",
    "equal(3, 4, 1) "
   ]
  },
  {
   "cell_type": "markdown",
   "id": "2ff7602d-32ea-42a8-941a-0c8609b0ab46",
   "metadata": {},
   "source": [
    "Question2\n",
    "\n",
    "Write a function that converts a dictionary into a list of keys-values tuples.\n",
    "\n",
    "Examples\n",
    "\n",
    "dict_to_list({\n",
    "  \"D\": 1,\n",
    "  \"B\": 2,\n",
    "  \"C\": 3\n",
    "}) ➞ [(\"B\", 2), (\"C\", 3), (\"D\", 1)]\n",
    "\n",
    "dict_to_list({\n",
    "  \"likes\": 2,\n",
    "  \"dislikes\": 3,\n",
    "  \"followers\": 10\n",
    "}) ➞ [(\"dislikes\", 3), (\"followers\", 10), (\"likes\", 2)]\n",
    "\n",
    "Notes\n",
    "\n",
    "Return the elements in the list in alphabetical order."
   ]
  },
  {
   "cell_type": "code",
   "execution_count": 25,
   "id": "4f60e36d-0173-4b81-8b24-8333c1916589",
   "metadata": {},
   "outputs": [
    {
     "name": "stdout",
     "output_type": "stream",
     "text": [
      "dict_to_list({'D': 1, 'B': 2, 'C': 3}) ➞ [('B', 2), ('C', 3), ('D', 1)]\n",
      "dict_to_list({'likes': 2, 'dislikes': 3, 'followers': 10}) ➞ [('dislikes', 3), ('followers', 10), ('likes', 2)]\n"
     ]
    }
   ],
   "source": [
    "def dict_to_list(d):\n",
    "    l=sorted(list(d.items()))\n",
    "    print(\"dict_to_list({}) ➞ {}\".format(d,l))\n",
    "dict_to_list({\n",
    "  \"D\": 1,\n",
    "  \"B\": 2,\n",
    "  \"C\": 3\n",
    "}) \n",
    "dict_to_list({\n",
    "  \"likes\": 2,\n",
    "  \"dislikes\": 3,\n",
    "  \"followers\": 10\n",
    "}) "
   ]
  },
  {
   "cell_type": "markdown",
   "id": "71ade896-f95f-43e6-91f8-29d59221c117",
   "metadata": {},
   "source": [
    "Question3\n",
    "\n",
    "Write a function that creates a dictionary with each (key, value) pair being the (lower case, upper case) versions of a letter, respectively.\n",
    "\n",
    "Examples\n",
    "\n",
    "mapping([\"p\", \"s\"]) ➞ { \"p\": \"P\", \"s\": \"S\" }\n",
    "\n",
    "mapping([\"a\", \"b\", \"c\"]) ➞ { \"a\": \"A\", \"b\": \"B\", \"c\": \"C\" }\n",
    "\n",
    "mapping([\"a\", \"v\", \"y\", \"z\"]) ➞ { \"a\": \"A\", \"v\": \"V\", \"y\": \"Y\", \"z\": \"Z\" }\n",
    "\n",
    "Notes\n",
    "\n",
    "All of the letters in the input list will always be lowercase."
   ]
  },
  {
   "cell_type": "code",
   "execution_count": 26,
   "id": "9e3fff6a-9966-42c3-b775-8641540780b7",
   "metadata": {},
   "outputs": [
    {
     "name": "stdout",
     "output_type": "stream",
     "text": [
      "mapping(['p', 's']) ➞ {'p': 'P', 's': 'S'}\n",
      "mapping(['a', 'b', 'c']) ➞ {'a': 'A', 'b': 'B', 'c': 'C'}\n",
      "mapping(['a', 'v', 'y', 'z']) ➞ {'a': 'A', 'v': 'V', 'y': 'Y', 'z': 'Z'}\n"
     ]
    }
   ],
   "source": [
    "def mapping(l):\n",
    "    a= {i.lower():i.upper() for i in l}\n",
    "    print(\"mapping({}) ➞ {}\".format(l,a))\n",
    "mapping([\"p\", \"s\"]) \n",
    "mapping([\"a\", \"b\", \"c\"]) \n",
    "mapping([\"a\", \"v\", \"y\", \"z\"])"
   ]
  },
  {
   "cell_type": "markdown",
   "id": "b5c3b419-fa9a-4bca-958d-4b11e93fc5d4",
   "metadata": {},
   "source": [
    "Question4\n",
    "\n",
    "Write a function, that replaces all vowels in a string with a specified vowel.\n",
    "\n",
    "Examples\n",
    "\n",
    "vow_replace(\"apples and bananas\", \"u\") ➞ \"upplus und bununus\"\n",
    "\n",
    "vow_replace(\"cheese casserole\", \"o\") ➞ \"chooso cossorolo\"\n",
    "\n",
    "vow_replace(\"stuffed jalapeno poppers\", \"e\") ➞ \"steffed jelepene peppers\"\n",
    "\n",
    "Notes\n",
    "\n",
    "All words will be lowercase. Y is not considered a vowel."
   ]
  },
  {
   "cell_type": "code",
   "execution_count": 27,
   "id": "fb455d95-b49d-419b-9c03-8ea31420277f",
   "metadata": {},
   "outputs": [
    {
     "name": "stdout",
     "output_type": "stream",
     "text": [
      "vow_replace(\"apples and bananas\", \"u\") ➞ upplus und bununus\n",
      "vow_replace(\"cheese casserole\") ➞ chooso cossorolo\n",
      "vow_replace(\"stuffed jalapeno poppers\", \"e\") ➞ steffed jelepene peppers\n"
     ]
    }
   ],
   "source": [
    "def vow_replace(s, a):\n",
    "    rl = []\n",
    "    v = 'aeiouAEIOU'\n",
    "    for i in range(len(s)):\n",
    "        if s[i] in v:\n",
    "            rl.append(a)\n",
    "        else:\n",
    "            rl.append(s[i])\n",
    "    return ''.join(rl)\n",
    "print('vow_replace(\"apples and bananas\", \"u\") ➞ {}'.format(vow_replace(\"apples and bananas\", \"u\")))\n",
    "print('vow_replace(\"cheese casserole\") ➞ {}'.format(vow_replace(\"cheese casserole\", \"o\")))\n",
    "print('vow_replace(\"stuffed jalapeno poppers\", \"e\") ➞ {}'.format(vow_replace(\"stuffed jalapeno poppers\", \"e\")))"
   ]
  },
  {
   "cell_type": "markdown",
   "id": "3ece76aa-4584-4e4b-a8c9-79434b93c790",
   "metadata": {},
   "source": [
    "Question5\n",
    "\n",
    "Create a function that takes a string as input and capitalizes a letter if its ASCII code is even and returns its lower case version if its ASCII code is odd.\n",
    "\n",
    "Examples\n",
    "\n",
    "ascii_capitalize(\"to be or not to be!\") ➞ \"To Be oR NoT To Be!\"\n",
    "\n",
    "ascii_capitalize(\"THE LITTLE MERMAID\") ➞ \"THe LiTTLe meRmaiD\"\n",
    "\n",
    "ascii_capitalize(\"Oh what a beautiful morning.\") ➞ \"oH wHaT a BeauTiFuL moRNiNg.\""
   ]
  },
  {
   "cell_type": "code",
   "execution_count": 28,
   "id": "807daf88-818b-4476-a25e-88a105077f3a",
   "metadata": {},
   "outputs": [
    {
     "name": "stdout",
     "output_type": "stream",
     "text": [
      "ascii_capitalize(\"to be or not to be!\") ➞ To Be oR NoT To Be!\n",
      "ascii_capitalize(\"THE LITTLE MERMAID\") ➞ THe LiTTLe meRmaiD\n",
      "ascii_capitalize(\"Oh what a beautiful morning.\") ➞ oH wHaT a BeauTiFuL moRNiNg.\n"
     ]
    }
   ],
   "source": [
    "def ascii_capitalize(string):\n",
    "    l = []\n",
    "    for i in range(len(string)):\n",
    "        if ord(string[i]) % 2 == 0:\n",
    "            l.append(string[i].upper())\n",
    "        else:\n",
    "            l.append(string[i].lower())\n",
    "    return \"\".join((l))\n",
    "print('ascii_capitalize(\"to be or not to be!\") ➞ {}'.format(ascii_capitalize(\"to be or not to be!\")))\n",
    "print('ascii_capitalize(\"THE LITTLE MERMAID\") ➞ {}'.format(ascii_capitalize(\"THE LITTLE MERMAID\")))\n",
    "print('ascii_capitalize(\"Oh what a beautiful morning.\") ➞ {}'.format(ascii_capitalize(\"Oh what a beautiful morning.\")))"
   ]
  },
  {
   "cell_type": "code",
   "execution_count": null,
   "id": "a0be2789-f2a3-4aff-92f3-ec44e21fa4f8",
   "metadata": {},
   "outputs": [],
   "source": []
  },
  {
   "cell_type": "code",
   "execution_count": null,
   "id": "06fc8009-775f-47bb-95ac-3f3f7d2c1cd4",
   "metadata": {},
   "outputs": [],
   "source": []
  }
 ],
 "metadata": {
  "kernelspec": {
   "display_name": "Python 3",
   "language": "python",
   "name": "python3"
  },
  "language_info": {
   "codemirror_mode": {
    "name": "ipython",
    "version": 3
   },
   "file_extension": ".py",
   "mimetype": "text/x-python",
   "name": "python",
   "nbconvert_exporter": "python",
   "pygments_lexer": "ipython3",
   "version": "3.8.8"
  }
 },
 "nbformat": 4,
 "nbformat_minor": 5
}
