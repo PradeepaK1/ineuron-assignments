{
 "cells": [
  {
   "cell_type": "markdown",
   "id": "3c606cd0-e3d9-4c07-abc6-1738179b39b3",
   "metadata": {},
   "source": [
    "Question1\n",
    "\n",
    "Create a function that takes a list of strings and integers, and filters out the list so that it returns a list of integers only.\n",
    "\n",
    "Examples\n",
    "\n",
    "filter_list([1, 2, 3, \"a\", \"b\", 4]) ➞ [1, 2, 3, 4]\n",
    "\n",
    "filter_list([\"A\", 0, \"Edabit\", 1729, \"Python\", \"1729\"]) ➞ [0, 1729]\n",
    "\n",
    "filter_list([\"Nothing\", \"here\"]) ➞ []"
   ]
  },
  {
   "cell_type": "code",
   "execution_count": 1,
   "id": "f3b48749-9838-4b8f-a9d2-11a9f5a39fb0",
   "metadata": {},
   "outputs": [
    {
     "name": "stdout",
     "output_type": "stream",
     "text": [
      "filter_list( [1, 2, 3, 'a', 'b', 4] ) ➞  [1, 2, 3, 4]\n",
      "filter_list( ['A', 0, 'Edabit', 1729, 'Python', '1729'] ) ➞  [0, 1729]\n",
      "filter_list( ['Nothing', 'here'] ) ➞  []\n"
     ]
    }
   ],
   "source": [
    "def filter_list(l):\n",
    "    rl=[]\n",
    "    for i in l:\n",
    "        if type(i)==int and int(i)>=0:\n",
    "            rl.append(i)\n",
    "    print(\"filter_list(\",l,\") ➞ \",rl)\n",
    "filter_list([1, 2, 3, \"a\", \"b\", 4])\n",
    "filter_list([\"A\", 0, \"Edabit\", 1729, \"Python\", \"1729\"])\n",
    "filter_list([\"Nothing\", \"here\"]) "
   ]
  },
  {
   "cell_type": "markdown",
   "id": "5f395c2c-324e-4afd-ba81-4b1f9f06ad59",
   "metadata": {},
   "source": [
    "Question2\n",
    "\n",
    "Given a list of numbers, create a function which returns the list but with each element's index in the list added to itself. This means you add 0 to the number at index 0, add 1 to the number at index 1, etc...\n",
    "\n",
    "Examples\n",
    "\n",
    "add_indexes([0, 0, 0, 0, 0]) ➞ [0, 1, 2, 3, 4]\n",
    "\n",
    "add_indexes([1, 2, 3, 4, 5]) ➞ [1, 3, 5, 7, 9]\n",
    "\n",
    "add_indexes([5, 4, 3, 2, 1]) ➞ [5, 5, 5, 5, 5]"
   ]
  },
  {
   "cell_type": "code",
   "execution_count": 2,
   "id": "abf5ee98-a8c1-401b-b2ed-a8e70aead22a",
   "metadata": {},
   "outputs": [
    {
     "name": "stdout",
     "output_type": "stream",
     "text": [
      "add_indexes( [0, 0, 0, 0, 0] ) ➞  [0, 1, 2, 3, 4]\n",
      "add_indexes( [1, 2, 3, 4, 5] ) ➞  [1, 3, 5, 7, 9]\n",
      "add_indexes( [5, 4, 3, 2, 1] ) ➞  [5, 5, 5, 5, 5]\n"
     ]
    }
   ],
   "source": [
    "def add_indexes(l):\n",
    "    al=[]\n",
    "    for i in range(len(l)):\n",
    "        s=i+l[i]\n",
    "        al.append(s)\n",
    "    print(\"add_indexes(\",l,\") ➞ \",al)\n",
    "add_indexes([0, 0, 0, 0, 0])\n",
    "add_indexes([1, 2, 3, 4, 5])\n",
    "add_indexes([5, 4, 3, 2, 1])        "
   ]
  },
  {
   "cell_type": "markdown",
   "id": "bc2da392-6894-42ee-adf3-cd9e6ee8d289",
   "metadata": {},
   "source": [
    "Question3\n",
    "\n",
    "Create a function that takes the height and radius of a cone as arguments and returns the volume of the cone rounded to the nearest hundredth. See the resources tab for the formula.\n",
    " \n",
    "Examples\n",
    "\n",
    "cone_volume(3, 2) ➞ 12.57\n",
    "\n",
    "cone_volume(15, 6) ➞ 565.49\n",
    "\n",
    "cone_volume(18, 0) ➞ 0"
   ]
  },
  {
   "cell_type": "code",
   "execution_count": 10,
   "id": "26688a54-a6a8-4384-b7cb-87a3fff25176",
   "metadata": {},
   "outputs": [
    {
     "name": "stdout",
     "output_type": "stream",
     "text": [
      "cone_volume(3, 2) ➞ 12.57\n",
      "cone_volume(15, 6) ➞ 565.49\n",
      "cone_volume(18, 0) ➞ 0\n"
     ]
    }
   ],
   "source": [
    "import math\n",
    "def cone_volume(h,r):\n",
    "    a=((math.pi)*pow(r,2))*(h/3)\n",
    "    if a==0:\n",
    "        a=int(a)\n",
    "        print(\"cone_volume(%d, %d) ➞ %d\" % (h,r,a))\n",
    "    else:\n",
    "        print(\"cone_volume(%d, %d) ➞ %.2f\" % (h,r,a))\n",
    "cone_volume(3,2)\n",
    "cone_volume(15,6)\n",
    "cone_volume(18,0)"
   ]
  },
  {
   "cell_type": "markdown",
   "id": "e1087fe2-9708-4176-8d32-afcff2f6d6e4",
   "metadata": {},
   "source": [
    "Question4\n",
    "\n",
    "This Triangular Number Sequence is generated from a pattern of dots that form a triangle. The first 5 numbers of the sequence, or dots, are: \n",
    "\n",
    "    1, 3, 6, 10, 15\n",
    "\n",
    "This means that the first triangle has just one dot, the second one has three dots, the third one has 6 dots and so on.\n",
    "\n",
    "Write a function that gives the number of dots with its corresponding triangle number of the sequence.\n",
    "\n",
    "Examples\n",
    "\n",
    "triangle(1) ➞ 1\n",
    "\n",
    "triangle(6) ➞ 21\n",
    "\n",
    "triangle(215) ➞ 23220"
   ]
  },
  {
   "cell_type": "code",
   "execution_count": 6,
   "id": "ea4d53a7-4741-4026-8577-0d0d0b87f944",
   "metadata": {},
   "outputs": [
    {
     "name": "stdout",
     "output_type": "stream",
     "text": [
      "triangle(1) ➞ 1\n",
      "triangle(6) ➞ 21\n",
      "triangle(215) ➞ 23220\n"
     ]
    }
   ],
   "source": [
    "def triangle(a):\n",
    "    o=int((a)*((a+1)/2))\n",
    "    print(\"triangle(%d) ➞ %d\" % (a,o))\n",
    "triangle(1)\n",
    "triangle(6)\n",
    "triangle(215)"
   ]
  },
  {
   "cell_type": "markdown",
   "id": "2b5b8d93-709c-4693-bcef-42f8083ba5d8",
   "metadata": {},
   "source": [
    "Question5\n",
    "\n",
    "Create a function that takes a list of numbers between 1 and 10 (excluding one number) and returns the missing number.\n",
    "\n",
    "Examples\n",
    "\n",
    "missing_num([1, 2, 3, 4, 6, 7, 8, 9, 10]) ➞ 5\n",
    "\n",
    "missing_num([7, 2, 3, 6, 5, 9, 1, 4, 8]) ➞ 10\n",
    "\n",
    "missing_num([10, 5, 1, 2, 4, 6, 8, 3, 9]) ➞ 7"
   ]
  },
  {
   "cell_type": "code",
   "execution_count": 7,
   "id": "be6755c7-4639-4e66-b67d-0d521316f334",
   "metadata": {},
   "outputs": [
    {
     "name": "stdout",
     "output_type": "stream",
     "text": [
      "missing_num([1, 2, 3, 4, 6, 7, 8, 9, 10]) ➞ 5\n",
      "missing_num([7, 2, 3, 6, 5, 9, 1, 4, 8]) ➞ 10\n",
      "missing_num([10, 5, 1, 2, 4, 6, 8, 3, 9]) ➞ 7\n"
     ]
    }
   ],
   "source": [
    "def missing_num(l):\n",
    "    for i in range(1,11):\n",
    "        if i not in l:\n",
    "            print(\"missing_num({}) ➞ {}\".format(l,i))\n",
    "missing_num([1, 2, 3, 4, 6, 7, 8, 9, 10])\n",
    "missing_num([7, 2, 3, 6, 5, 9, 1, 4, 8])\n",
    "missing_num([10, 5, 1, 2, 4, 6, 8, 3, 9])"
   ]
  },
  {
   "cell_type": "code",
   "execution_count": null,
   "id": "0663d8d7-46ab-4de4-bab4-f00c7c70d85d",
   "metadata": {},
   "outputs": [],
   "source": []
  }
 ],
 "metadata": {
  "kernelspec": {
   "display_name": "Python 3",
   "language": "python",
   "name": "python3"
  },
  "language_info": {
   "codemirror_mode": {
    "name": "ipython",
    "version": 3
   },
   "file_extension": ".py",
   "mimetype": "text/x-python",
   "name": "python",
   "nbconvert_exporter": "python",
   "pygments_lexer": "ipython3",
   "version": "3.8.8"
  }
 },
 "nbformat": 4,
 "nbformat_minor": 5
}
