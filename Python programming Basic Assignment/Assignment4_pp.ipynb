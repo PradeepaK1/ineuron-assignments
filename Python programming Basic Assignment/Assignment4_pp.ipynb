{
 "cells": [
  {
   "cell_type": "markdown",
   "id": "9fb16104-5c60-48da-aedf-8408029472b8",
   "metadata": {},
   "source": [
    "1.\tWrite a Python Program to Find the Factorial of a Number?"
   ]
  },
  {
   "cell_type": "code",
   "execution_count": 3,
   "id": "064083c1-fc2c-49dc-9449-e5ab6c528ea7",
   "metadata": {},
   "outputs": [
    {
     "name": "stdin",
     "output_type": "stream",
     "text": [
      "enter a number 6\n"
     ]
    },
    {
     "name": "stdout",
     "output_type": "stream",
     "text": [
      "720\n"
     ]
    }
   ],
   "source": [
    "def f(n):\n",
    "    if (n==1):\n",
    "        return n\n",
    "    else:\n",
    "        return(n*f(n-1))\n",
    "n=int(input(\"enter a number\"))\n",
    "print(f(n))"
   ]
  },
  {
   "cell_type": "markdown",
   "id": "a0000262-9a36-43ae-b5c6-5c3f9ced268b",
   "metadata": {},
   "source": [
    "2.\tWrite a Python Program to Display the multiplication Table?"
   ]
  },
  {
   "cell_type": "code",
   "execution_count": 4,
   "id": "4cdd0fb3-b11e-44c3-bb65-14050df424da",
   "metadata": {},
   "outputs": [
    {
     "name": "stdin",
     "output_type": "stream",
     "text": [
      "enter a number 9\n"
     ]
    },
    {
     "name": "stdout",
     "output_type": "stream",
     "text": [
      "1  *  9  =  9\n",
      "2  *  9  =  18\n",
      "3  *  9  =  27\n",
      "4  *  9  =  36\n",
      "5  *  9  =  45\n",
      "6  *  9  =  54\n",
      "7  *  9  =  63\n",
      "8  *  9  =  72\n",
      "9  *  9  =  81\n",
      "10  *  9  =  90\n",
      "11  *  9  =  99\n",
      "12  *  9  =  108\n",
      "13  *  9  =  117\n",
      "14  *  9  =  126\n",
      "15  *  9  =  135\n",
      "16  *  9  =  144\n"
     ]
    }
   ],
   "source": [
    "n=int(input(\"enter a number\"))\n",
    "for i in range(1,17):\n",
    "    print(i, \" * \", n, \" = \", i*n)"
   ]
  },
  {
   "cell_type": "markdown",
   "id": "cc73b3b1-863a-41cb-bbda-7f1de6a4c024",
   "metadata": {},
   "source": [
    "3.\tWrite a Python Program to Print the Fibonacci sequence?"
   ]
  },
  {
   "cell_type": "code",
   "execution_count": 8,
   "id": "c89f9995-2907-49a8-b4e9-3a00f52cbcef",
   "metadata": {},
   "outputs": [
    {
     "name": "stdout",
     "output_type": "stream",
     "text": [
      "0\n",
      "1\n",
      "1\n",
      "2\n",
      "3\n",
      "5\n",
      "8\n",
      "13\n",
      "21\n"
     ]
    }
   ],
   "source": [
    "def fib(n):\n",
    "    a=0\n",
    "    b=1\n",
    "    print(a)\n",
    "    print(b)\n",
    "    for i in range(n-2):\n",
    "        c=a+b\n",
    "        a=b\n",
    "        b=c\n",
    "        print (c)\n",
    "n=int(input(\"enter a number\"))\n",
    "fib(n)"
   ]
  },
  {
   "cell_type": "markdown",
   "id": "228fde2b-9e02-4327-9872-5ed24ea27e35",
   "metadata": {},
   "source": [
    "4.\tWrite a Python Program to Check Armstrong Number"
   ]
  },
  {
   "cell_type": "code",
   "execution_count": 15,
   "id": "041ab697-6ccd-4d0d-9363-3a7290b406d9",
   "metadata": {},
   "outputs": [
    {
     "name": "stdin",
     "output_type": "stream",
     "text": [
      "enter a number 153\n"
     ]
    },
    {
     "name": "stdout",
     "output_type": "stream",
     "text": [
      "153  is an Armstrong number\n"
     ]
    }
   ],
   "source": [
    "n= int(input(\"enter a number\"))\n",
    "s = 0\n",
    "t= n\n",
    "while (t > 0):\n",
    "   d = t % 10\n",
    "   s += d ** 3\n",
    "   t //= 10\n",
    "if n == s:\n",
    "   print(n,\" is an Armstrong number\")\n",
    "else:\n",
    "   print(n, \"is Not an Armstrong number\")\n"
   ]
  },
  {
   "cell_type": "markdown",
   "id": "153da4ce-4811-4b67-a838-026a2b097a31",
   "metadata": {},
   "source": [
    "5.\tWrite a Python Program to Find Armstrong Number in an Interval?"
   ]
  },
  {
   "cell_type": "code",
   "execution_count": 16,
   "id": "6071dd14-1394-4536-b66a-707a44a7b960",
   "metadata": {},
   "outputs": [
    {
     "name": "stdin",
     "output_type": "stream",
     "text": [
      "enter start 1\n",
      "enter end 167\n"
     ]
    },
    {
     "name": "stdout",
     "output_type": "stream",
     "text": [
      "1  is an Armstrong number\n",
      "2 is Not an Armstrong number\n",
      "3 is Not an Armstrong number\n",
      "4 is Not an Armstrong number\n",
      "5 is Not an Armstrong number\n",
      "6 is Not an Armstrong number\n",
      "7 is Not an Armstrong number\n",
      "8 is Not an Armstrong number\n",
      "9 is Not an Armstrong number\n",
      "10 is Not an Armstrong number\n",
      "11 is Not an Armstrong number\n",
      "12 is Not an Armstrong number\n",
      "13 is Not an Armstrong number\n",
      "14 is Not an Armstrong number\n",
      "15 is Not an Armstrong number\n",
      "16 is Not an Armstrong number\n",
      "17 is Not an Armstrong number\n",
      "18 is Not an Armstrong number\n",
      "19 is Not an Armstrong number\n",
      "20 is Not an Armstrong number\n",
      "21 is Not an Armstrong number\n",
      "22 is Not an Armstrong number\n",
      "23 is Not an Armstrong number\n",
      "24 is Not an Armstrong number\n",
      "25 is Not an Armstrong number\n",
      "26 is Not an Armstrong number\n",
      "27 is Not an Armstrong number\n",
      "28 is Not an Armstrong number\n",
      "29 is Not an Armstrong number\n",
      "30 is Not an Armstrong number\n",
      "31 is Not an Armstrong number\n",
      "32 is Not an Armstrong number\n",
      "33 is Not an Armstrong number\n",
      "34 is Not an Armstrong number\n",
      "35 is Not an Armstrong number\n",
      "36 is Not an Armstrong number\n",
      "37 is Not an Armstrong number\n",
      "38 is Not an Armstrong number\n",
      "39 is Not an Armstrong number\n",
      "40 is Not an Armstrong number\n",
      "41 is Not an Armstrong number\n",
      "42 is Not an Armstrong number\n",
      "43 is Not an Armstrong number\n",
      "44 is Not an Armstrong number\n",
      "45 is Not an Armstrong number\n",
      "46 is Not an Armstrong number\n",
      "47 is Not an Armstrong number\n",
      "48 is Not an Armstrong number\n",
      "49 is Not an Armstrong number\n",
      "50 is Not an Armstrong number\n",
      "51 is Not an Armstrong number\n",
      "52 is Not an Armstrong number\n",
      "53 is Not an Armstrong number\n",
      "54 is Not an Armstrong number\n",
      "55 is Not an Armstrong number\n",
      "56 is Not an Armstrong number\n",
      "57 is Not an Armstrong number\n",
      "58 is Not an Armstrong number\n",
      "59 is Not an Armstrong number\n",
      "60 is Not an Armstrong number\n",
      "61 is Not an Armstrong number\n",
      "62 is Not an Armstrong number\n",
      "63 is Not an Armstrong number\n",
      "64 is Not an Armstrong number\n",
      "65 is Not an Armstrong number\n",
      "66 is Not an Armstrong number\n",
      "67 is Not an Armstrong number\n",
      "68 is Not an Armstrong number\n",
      "69 is Not an Armstrong number\n",
      "70 is Not an Armstrong number\n",
      "71 is Not an Armstrong number\n",
      "72 is Not an Armstrong number\n",
      "73 is Not an Armstrong number\n",
      "74 is Not an Armstrong number\n",
      "75 is Not an Armstrong number\n",
      "76 is Not an Armstrong number\n",
      "77 is Not an Armstrong number\n",
      "78 is Not an Armstrong number\n",
      "79 is Not an Armstrong number\n",
      "80 is Not an Armstrong number\n",
      "81 is Not an Armstrong number\n",
      "82 is Not an Armstrong number\n",
      "83 is Not an Armstrong number\n",
      "84 is Not an Armstrong number\n",
      "85 is Not an Armstrong number\n",
      "86 is Not an Armstrong number\n",
      "87 is Not an Armstrong number\n",
      "88 is Not an Armstrong number\n",
      "89 is Not an Armstrong number\n",
      "90 is Not an Armstrong number\n",
      "91 is Not an Armstrong number\n",
      "92 is Not an Armstrong number\n",
      "93 is Not an Armstrong number\n",
      "94 is Not an Armstrong number\n",
      "95 is Not an Armstrong number\n",
      "96 is Not an Armstrong number\n",
      "97 is Not an Armstrong number\n",
      "98 is Not an Armstrong number\n",
      "99 is Not an Armstrong number\n",
      "100 is Not an Armstrong number\n",
      "101 is Not an Armstrong number\n",
      "102 is Not an Armstrong number\n",
      "103 is Not an Armstrong number\n",
      "104 is Not an Armstrong number\n",
      "105 is Not an Armstrong number\n",
      "106 is Not an Armstrong number\n",
      "107 is Not an Armstrong number\n",
      "108 is Not an Armstrong number\n",
      "109 is Not an Armstrong number\n",
      "110 is Not an Armstrong number\n",
      "111 is Not an Armstrong number\n",
      "112 is Not an Armstrong number\n",
      "113 is Not an Armstrong number\n",
      "114 is Not an Armstrong number\n",
      "115 is Not an Armstrong number\n",
      "116 is Not an Armstrong number\n",
      "117 is Not an Armstrong number\n",
      "118 is Not an Armstrong number\n",
      "119 is Not an Armstrong number\n",
      "120 is Not an Armstrong number\n",
      "121 is Not an Armstrong number\n",
      "122 is Not an Armstrong number\n",
      "123 is Not an Armstrong number\n",
      "124 is Not an Armstrong number\n",
      "125 is Not an Armstrong number\n",
      "126 is Not an Armstrong number\n",
      "127 is Not an Armstrong number\n",
      "128 is Not an Armstrong number\n",
      "129 is Not an Armstrong number\n",
      "130 is Not an Armstrong number\n",
      "131 is Not an Armstrong number\n",
      "132 is Not an Armstrong number\n",
      "133 is Not an Armstrong number\n",
      "134 is Not an Armstrong number\n",
      "135 is Not an Armstrong number\n",
      "136 is Not an Armstrong number\n",
      "137 is Not an Armstrong number\n",
      "138 is Not an Armstrong number\n",
      "139 is Not an Armstrong number\n",
      "140 is Not an Armstrong number\n",
      "141 is Not an Armstrong number\n",
      "142 is Not an Armstrong number\n",
      "143 is Not an Armstrong number\n",
      "144 is Not an Armstrong number\n",
      "145 is Not an Armstrong number\n",
      "146 is Not an Armstrong number\n",
      "147 is Not an Armstrong number\n",
      "148 is Not an Armstrong number\n",
      "149 is Not an Armstrong number\n",
      "150 is Not an Armstrong number\n",
      "151 is Not an Armstrong number\n",
      "152 is Not an Armstrong number\n",
      "153  is an Armstrong number\n",
      "154 is Not an Armstrong number\n",
      "155 is Not an Armstrong number\n",
      "156 is Not an Armstrong number\n",
      "157 is Not an Armstrong number\n",
      "158 is Not an Armstrong number\n",
      "159 is Not an Armstrong number\n",
      "160 is Not an Armstrong number\n",
      "161 is Not an Armstrong number\n",
      "162 is Not an Armstrong number\n",
      "163 is Not an Armstrong number\n",
      "164 is Not an Armstrong number\n",
      "165 is Not an Armstrong number\n",
      "166 is Not an Armstrong number\n",
      "167 is Not an Armstrong number\n"
     ]
    }
   ],
   "source": [
    "r=int(input(\"enter start\"))\n",
    "f=int(input(\"enter end\"))\n",
    "for n in range(r,f+1):\n",
    "    s = 0\n",
    "    t= n\n",
    "    while (t > 0):\n",
    "       d = t % 10\n",
    "       s += d ** 3\n",
    "       t //= 10\n",
    "    if n == s:\n",
    "        print(n,\" is an Armstrong number\")\n",
    "    else:\n",
    "        print(n, \"is Not an Armstrong number\")\n"
   ]
  },
  {
   "cell_type": "markdown",
   "id": "5fe347ed-3649-4927-b9b6-fdc5ab00a209",
   "metadata": {},
   "source": [
    "6.\tWrite a Python Program to Find the Sum of Natural Numbers?"
   ]
  },
  {
   "cell_type": "code",
   "execution_count": 18,
   "id": "652042b7-248a-47a7-bc99-0e3a478a9c40",
   "metadata": {},
   "outputs": [
    {
     "name": "stdin",
     "output_type": "stream",
     "text": [
      "enter a number 16\n"
     ]
    },
    {
     "name": "stdout",
     "output_type": "stream",
     "text": [
      "136.0\n"
     ]
    }
   ],
   "source": [
    "n=int(input(\"enter a number\"))\n",
    "s=(n*(n+1))/2\n",
    "print(s)"
   ]
  },
  {
   "cell_type": "code",
   "execution_count": null,
   "id": "d06c5ae5-fc22-47ad-bbbe-0085be653b8a",
   "metadata": {},
   "outputs": [],
   "source": []
  }
 ],
 "metadata": {
  "kernelspec": {
   "display_name": "Python 3",
   "language": "python",
   "name": "python3"
  },
  "language_info": {
   "codemirror_mode": {
    "name": "ipython",
    "version": 3
   },
   "file_extension": ".py",
   "mimetype": "text/x-python",
   "name": "python",
   "nbconvert_exporter": "python",
   "pygments_lexer": "ipython3",
   "version": "3.8.8"
  }
 },
 "nbformat": 4,
 "nbformat_minor": 5
}
