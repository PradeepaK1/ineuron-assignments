{
 "cells": [
  {
   "cell_type": "markdown",
   "id": "66da71d5-6740-443e-93ec-7344ff706144",
   "metadata": {},
   "source": [
    "Question 1:\n",
    "\n",
    "Define a class with a generator which can iterate the numbers, which are divisible by 7, between a given range 0 and n."
   ]
  },
  {
   "cell_type": "code",
   "execution_count": 12,
   "id": "3e35d181-d7e1-4db4-b3cf-7a755b2fa432",
   "metadata": {},
   "outputs": [
    {
     "name": "stdout",
     "output_type": "stream",
     "text": [
      "7\n",
      "14\n",
      "21\n"
     ]
    }
   ],
   "source": [
    "class genclass:\n",
    "    def gen(n):\n",
    "        for i in range(0,n):\n",
    "            if(i%7==0 and i!=0):\n",
    "                yield (i)\n",
    "n=22\n",
    "i=genclass.gen(n)\n",
    "print(next(i))\n",
    "print(next(i))\n",
    "print(next(i))"
   ]
  },
  {
   "cell_type": "markdown",
   "id": "b18cfb2e-8f61-4aab-b5e5-622d2ac3c87f",
   "metadata": {},
   "source": [
    "Question 2:\n",
    "\n",
    "Write a program to compute the frequency of the words from the input. The output should output after sorting the key alphanumerically. \n",
    "\n",
    "Suppose the following input is supplied to the program:\n",
    "\n",
    "New to Python or choosing between Python 2 and Python 3? Read Python 2 or Python 3.\n",
    "\n",
    "Then, the output should be:\n",
    "\n",
    "2:2\n",
    "\n",
    "3.:1\n",
    "\n",
    "3?:1\n",
    "\n",
    "New:1\n",
    "\n",
    "Python:5\n",
    "\n",
    "Read:1\n",
    "\n",
    "and:1\n",
    "\n",
    "between:1\n",
    "\n",
    "choosing:1\n",
    "\n",
    "or:2\n",
    "\n",
    "to:1"
   ]
  },
  {
   "cell_type": "code",
   "execution_count": 2,
   "id": "d2d30ca6-ca82-4cf6-97f9-0d873ef6ad01",
   "metadata": {},
   "outputs": [
    {
     "name": "stdin",
     "output_type": "stream",
     "text": [
      " New to Python or choosing between Python 2 and Python 3? Read Python 2 or Python 3.\n"
     ]
    },
    {
     "name": "stdout",
     "output_type": "stream",
     "text": [
      "2:1\n",
      "\n",
      "3.:1\n",
      "\n",
      "3?:1\n",
      "\n",
      "New:1\n",
      "\n",
      "Python:1\n",
      "\n",
      "Read:1\n",
      "\n",
      "and:1\n",
      "\n",
      "between:1\n",
      "\n",
      "choosing:1\n",
      "\n",
      "or:1\n",
      "\n",
      "to:1\n",
      "\n"
     ]
    }
   ],
   "source": [
    "s=input()\n",
    "l=set(s.split(\" \"))\n",
    "ll=list(l)\n",
    "ll.sort()\n",
    "for i in ll:\n",
    "    print(i,end='')\n",
    "    print(\":\",end='')\n",
    "    print(ll.count(i))\n",
    "    print('')"
   ]
  },
  {
   "cell_type": "markdown",
   "id": "d628099a-cf4c-470a-8f20-429e5a45e0b7",
   "metadata": {},
   "source": [
    "Question 3:\n",
    "\n",
    "Define a class Person and its two child classes: Male and Female. All classes have a method \"getGender\" which can print \"Male\" for Male class and \"Female\" for Female class."
   ]
  },
  {
   "cell_type": "code",
   "execution_count": 4,
   "id": "1da71f84-c0bc-4a22-bd00-61735298c440",
   "metadata": {},
   "outputs": [
    {
     "name": "stdout",
     "output_type": "stream",
     "text": [
      "Male\n",
      "Female\n"
     ]
    }
   ],
   "source": [
    "class Person(object):\n",
    "    def getGender(self):\n",
    "        return \"Gender\"\n",
    "class Male(Person):\n",
    "    def getGender(self):\n",
    "        return \"Male\"\n",
    "class Female(Person):\n",
    "    def getGender(self):\n",
    "        return \"Female\"\n",
    "m=Male()\n",
    "f=Female()\n",
    "print(m.getGender())\n",
    "print(f.getGender())"
   ]
  },
  {
   "cell_type": "markdown",
   "id": "dd36d691-d1de-4624-bcee-90b7642004f7",
   "metadata": {},
   "source": [
    "Question 4:\n",
    "    \n",
    "Please write a program to generate all sentences where subject is in [\"I\", \"You\"] and verb is in [\"Play\", \"Love\"] and the object is in [\"Hockey\",\"Football\"]."
   ]
  },
  {
   "cell_type": "code",
   "execution_count": 6,
   "id": "815c32be-afaa-4424-95a5-828df6bc6bf5",
   "metadata": {},
   "outputs": [
    {
     "name": "stdout",
     "output_type": "stream",
     "text": [
      "I Play Hockey\n",
      "I Play Football\n",
      "I Love Hockey\n",
      "I Love Football\n",
      "You Play Hockey\n",
      "You Play Football\n",
      "You Love Hockey\n",
      "You Love Football\n"
     ]
    }
   ],
   "source": [
    "subjects=[\"I\",\"You\"]\n",
    "verbs=[\"Play\",\"Love\"]\n",
    "objects=[\"Hockey\",\"Football\"]\n",
    "l = [[i, j, k] for i in subjects  for j in verbs for k in objects] \n",
    "for n in l:\n",
    "    print(\" \".join(n))"
   ]
  },
  {
   "cell_type": "markdown",
   "id": "87cfd234-176c-4ebf-9453-f9b5a0e1ad7c",
   "metadata": {},
   "source": [
    "Question 5:\n",
    "\n",
    "Please write a program to compress and decompress the string \"hello world!hello world!hello world!hello world!\"."
   ]
  },
  {
   "cell_type": "code",
   "execution_count": 7,
   "id": "6525ba1a-5e11-4dcf-98df-5f5021c1bbe1",
   "metadata": {},
   "outputs": [
    {
     "name": "stdout",
     "output_type": "stream",
     "text": [
      "b'x\\x9c\\xcbH\\xcd\\xc9\\xc9W(\\xcf/\\xcaIQ\\xcc \\x82\\r\\x00\\xbd[\\x11\\xf5'\n",
      "b'hello world!hello world!hello world!hello world!'\n"
     ]
    }
   ],
   "source": [
    "import zlib\n",
    "s = 'hello world!hello world!hello world!hello world!'.encode()\n",
    "n = zlib.compress(s)\n",
    "print(n)\n",
    "print(zlib.decompress(n))"
   ]
  },
  {
   "cell_type": "markdown",
   "id": "67ea89de-bf31-4a5b-aa81-5495eaf7e3b0",
   "metadata": {},
   "source": [
    "Question 6:\n",
    "\n",
    "Please write a binary search function which searches an item in a sorted list. The function should return the index of element to be searched in the list."
   ]
  },
  {
   "cell_type": "code",
   "execution_count": 19,
   "id": "8aeb2671-6d35-46a6-8552-f7f711bf3365",
   "metadata": {},
   "outputs": [
    {
     "name": "stdin",
     "output_type": "stream",
     "text": [
      "Enter total number of elements 5\n",
      " 1\n",
      " 3\n",
      " 4\n",
      " 5\n",
      " 7\n",
      "enter search element 5\n"
     ]
    },
    {
     "name": "stdout",
     "output_type": "stream",
     "text": [
      "Element is present at index  3\n"
     ]
    }
   ],
   "source": [
    "def binsear(a, l, r, x):\n",
    "    if r >= l:\n",
    "        mid = l + (r - l) // 2\n",
    "        if a[mid] == x:\n",
    "            return mid\n",
    "        elif a[mid] > x:\n",
    "            return binsear(a, l, mid-1, x)\n",
    "        else:\n",
    "            return binsear(a, mid + 1, r, x)\n",
    "    else:\n",
    "        return -1\n",
    "a = []\n",
    "n=int(input(\"Enter total number of elements\"))\n",
    "for i in range(n):\n",
    "    o=int(input())\n",
    "    a.append(o)\n",
    "f = 0\n",
    "if(a == sorted(a)):\n",
    "    f = 1\n",
    "if f!=1:\n",
    "    print(\"List is not sorted\")\n",
    "else:\n",
    "    x=int(input(\"enter search element\"))\n",
    "    ans = binsear(a, 0, len(a)-1, x)\n",
    "    if ans != -1:\n",
    "        print(\"Element is present at index % d\" % ans)\n",
    "    else:\n",
    "        print(\"Element is not present in array\")\n"
   ]
  },
  {
   "cell_type": "code",
   "execution_count": null,
   "id": "36b33d82-3721-4f50-b7b5-641fd48f65c4",
   "metadata": {},
   "outputs": [],
   "source": []
  }
 ],
 "metadata": {
  "kernelspec": {
   "display_name": "Python 3",
   "language": "python",
   "name": "python3"
  },
  "language_info": {
   "codemirror_mode": {
    "name": "ipython",
    "version": 3
   },
   "file_extension": ".py",
   "mimetype": "text/x-python",
   "name": "python",
   "nbconvert_exporter": "python",
   "pygments_lexer": "ipython3",
   "version": "3.8.8"
  }
 },
 "nbformat": 4,
 "nbformat_minor": 5
}
