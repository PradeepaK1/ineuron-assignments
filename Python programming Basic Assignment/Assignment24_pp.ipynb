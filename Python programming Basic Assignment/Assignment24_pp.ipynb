{
 "cells": [
  {
   "cell_type": "markdown",
   "id": "052612d1-9a46-4a48-b90c-0ffdfafa6aeb",
   "metadata": {},
   "source": [
    "Question1\n",
    "\n",
    "Create a function that takes an integer and returns a list from 1 to the given number, where:\n",
    "\n",
    "1.\tIf the number can be divided evenly by 4, amplify it by 10 (i.e. return 10 times the number).\n",
    "\n",
    "2.\tIf the number cannot be divided evenly by 4, simply return the number.\n",
    "\n",
    "Examples\n",
    "\n",
    "amplify(4) ➞ [1, 2, 3, 40]\n",
    "\n",
    "amplify(3) ➞ [1, 2, 3]\n",
    "\n",
    "amplify(25) ➞ [1, 2, 3, 40, 5, 6, 7, 80, 9, 10, 11, 120, 13, 14, 15, 160, 17, 18, 19, 200, 21, 22, 23, 240, 25]\n",
    "\n",
    "Notes\n",
    "\n",
    "•\tThe given integer will always be equal to or greater than 1.\n",
    "\n",
    "•\tInclude the number (see example above).\n",
    "\n",
    "•\tTo perform this problem with its intended purpose, try doing it with list comprehensions. If that's too difficult, just solve the challenge any way you can."
   ]
  },
  {
   "cell_type": "code",
   "execution_count": 3,
   "id": "79ef9e89-09fa-49f4-888b-929aa13ff843",
   "metadata": {},
   "outputs": [
    {
     "name": "stdout",
     "output_type": "stream",
     "text": [
      "amplify(4) ➞ [1, 2, 3, 40]\n",
      "amplify(3) ➞ [1, 2, 3]\n",
      "amplify(25) ➞ [1, 2, 3, 40, 5, 6, 7, 80, 9, 10, 11, 120, 13, 14, 15, 160, 17, 18, 19, 200, 21, 22, 23, 240, 25]\n"
     ]
    }
   ],
   "source": [
    "def amplify(l):\n",
    "    a = []\n",
    "    for i in range(1,l+1):\n",
    "        if i%4 == 0:\n",
    "            a.append(i*10)\n",
    "        else:\n",
    "            a.append(i)\n",
    "    print(\"amplify({}) ➞ {}\".format(l,a)) \n",
    "amplify(4)\n",
    "amplify(3)\n",
    "amplify(25)"
   ]
  },
  {
   "cell_type": "markdown",
   "id": "746fc604-3ef2-4e1c-aacd-812380ac1fa3",
   "metadata": {},
   "source": [
    "Question2\n",
    "\n",
    "Create a function that takes a list of numbers and return the number that's unique.\n",
    "\n",
    "Examples\n",
    "\n",
    "unique([3, 3, 3, 7, 3, 3]) ➞ 7\n",
    "\n",
    "unique([0, 0, 0.77, 0, 0]) ➞ 0.77\n",
    "\n",
    "unique([0, 1, 1, 1, 1, 1, 1, 1]) ➞ 0\n",
    "\n",
    "Notes\n",
    "\n",
    "Test cases will always have exactly one unique number while all others are the same."
   ]
  },
  {
   "cell_type": "code",
   "execution_count": 4,
   "id": "23fc037b-a48c-47fa-b18f-68ead98f6db0",
   "metadata": {},
   "outputs": [
    {
     "name": "stdout",
     "output_type": "stream",
     "text": [
      "unique([3, 3, 3, 7, 3, 3]) ➞ 7\n",
      "unique([0, 0, 0.77, 0, 0]) ➞ 0.77\n",
      "unique([0, 1, 1, 1, 1, 1, 1, 1]) ➞ 0\n"
     ]
    }
   ],
   "source": [
    "def unique(l):\n",
    "    a = ''\n",
    "    for i in set(l):\n",
    "        if l.count(i) == 1:\n",
    "            a = i\n",
    "    print(\"unique({}) ➞ {}\".format(l,a))\n",
    "unique([3, 3, 3, 7, 3, 3])\n",
    "unique([0, 0, 0.77, 0, 0])\n",
    "unique([0, 1, 1, 1, 1, 1, 1, 1])"
   ]
  },
  {
   "cell_type": "markdown",
   "id": "09fca00b-8830-467e-9331-95ab9684a092",
   "metadata": {},
   "source": [
    "Question3\n",
    "\n",
    "Your task is to create a Circle constructor that creates a circle with a radius provided by an argument. The circles constructed must have two getters getArea() (PIr^2) and getPerimeter() (2PI*r) which give both respective areas and perimeter (circumference).\n",
    "\n",
    "For help with this class, I have provided you with a Rectangle constructor which you can use as a base example.\n",
    "\n",
    "Examples\n",
    "\n",
    "circy = Circle(11)\n",
    "\n",
    "circy.getArea()\n",
    "\n",
    "Should return 380.132711084365\n",
    "\n",
    "circy = Circle(4.44)\n",
    "\n",
    "circy.getPerimeter()\n",
    "\n",
    "Should return 27.897342763877365\n",
    "\n",
    "Notes\n",
    "\n",
    "Round results up to the nearest integer."
   ]
  },
  {
   "cell_type": "code",
   "execution_count": 7,
   "id": "6e557963-9519-419f-867c-8915349ac8cb",
   "metadata": {},
   "outputs": [
    {
     "name": "stdout",
     "output_type": "stream",
     "text": [
      "Area ➞ 380\n",
      "Perimeter ➞ 28\n"
     ]
    }
   ],
   "source": [
    "import math\n",
    "class Circle:\n",
    "    def __init__(self, r):\n",
    "        self.radius = r\n",
    "    def getArea(self):\n",
    "        print(\"Area ➞ {}\".format(round(math.pi*self.radius*self.radius)))\n",
    "    def getPerimeter(self):\n",
    "        print(\"Perimeter ➞ {}\".format(round(2*math.pi*self.radius)))  \n",
    "circy = Circle(11)\n",
    "circy.getArea()\n",
    "circy = Circle(4.44)\n",
    "circy.getPerimeter()"
   ]
  },
  {
   "cell_type": "markdown",
   "id": "1a03835d-b804-4358-b474-91c87ccaebe8",
   "metadata": {},
   "source": [
    "Question4\n",
    "\n",
    "Create a function that takes a list of strings and return a list, sorted from shortest to longest.\n",
    "\n",
    "Examples\n",
    "\n",
    "sort_by_length([\"Google\", \"Apple\", \"Microsoft\"])\n",
    "➞ [\"Apple\", \"Google\", \"Microsoft\"]\n",
    "\n",
    "sort_by_length([\"Leonardo\", \"Michelangelo\", \"Raphael\", \"Donatello\"])\n",
    "➞ [\"Raphael\", \"Leonardo\", \"Donatello\", \"Michelangelo\"]\n",
    "\n",
    "sort_by_length([\"Turing\", \"Einstein\", \"Jung\"])\n",
    "➞ [\"Jung\", \"Turing\", \"Einstein\"]\n",
    "\n",
    "Notes\n",
    "\n",
    "All test cases contain lists with strings of different lengths, so you won't have to deal with multiple strings of the same length."
   ]
  },
  {
   "cell_type": "code",
   "execution_count": 9,
   "id": "586428a8-2ea1-4c66-926f-7a594c6b5444",
   "metadata": {},
   "outputs": [
    {
     "name": "stdout",
     "output_type": "stream",
     "text": [
      "sort_by_length(['Google', 'Apple', 'Microsoft']) ➞ ['Apple', 'Google', 'Microsoft']\n",
      "sort_by_length(['Leonardo', 'Michelangelo', 'Raphael', 'Donatello']) ➞ ['Raphael', 'Leonardo', 'Donatello', 'Michelangelo']\n",
      "sort_by_length(['Turing', 'Einstein', 'Jung']) ➞ ['Jung', 'Turing', 'Einstein']\n"
     ]
    }
   ],
   "source": [
    "def sort_by_length(l):\n",
    "    print(\"sort_by_length({}) ➞ {}\".format(l,sorted(l,key=len)))\n",
    "sort_by_length([\"Google\", \"Apple\", \"Microsoft\"])\n",
    "sort_by_length([\"Leonardo\", \"Michelangelo\", \"Raphael\", \"Donatello\"])\n",
    "sort_by_length([\"Turing\", \"Einstein\", \"Jung\"])"
   ]
  },
  {
   "cell_type": "markdown",
   "id": "86c92113-cda1-4930-9ee7-cdc2992d0725",
   "metadata": {},
   "source": [
    "Question5\n",
    "\n",
    "Create a function that validates whether three given integers form a Pythagorean triplet. The sum of the squares of the two smallest integers must equal the square of the largest number to be validated.\n",
    "\n",
    "Examples\n",
    "\n",
    "is_triplet(3, 4, 5) ➞ True\n",
    "\n",
    "3² + 4² = 25\n",
    "\n",
    "5² = 25\n",
    "\n",
    "is_triplet(13, 5, 12) ➞ True\n",
    "\n",
    "5² + 12² = 169\n",
    "\n",
    "13² = 169\n",
    "\n",
    "is_triplet(1, 2, 3) ➞ False\n",
    "\n",
    "1² + 2² = 5\n",
    "\n",
    "3² = 9\n",
    "\n",
    "Notes\n",
    "\n",
    "Numbers may not be given in a sorted order."
   ]
  },
  {
   "cell_type": "code",
   "execution_count": 10,
   "id": "ff94247c-c089-452c-835f-167e18dba525",
   "metadata": {},
   "outputs": [
    {
     "name": "stdout",
     "output_type": "stream",
     "text": [
      "is_triplet(3,4,5) ➞ True\n",
      "is_triplet(3,4,5) ➞ True\n",
      "is_triplet(1,2,3) ➞ False\n"
     ]
    }
   ],
   "source": [
    "def is_triplet(a,b,c):\n",
    "    if ((a**2+b**2) == (c**2)):\n",
    "        print(\"is_triplet({},{},{}) ➞ {}\".format(a,b,c,True))\n",
    "    else:\n",
    "        print(\"is_triplet({},{},{}) ➞ {}\".format(a,b,c,False))\n",
    "is_triplet(3, 4, 5)\n",
    "is_triplet(3, 4, 5)\n",
    "is_triplet(1, 2, 3)"
   ]
  },
  {
   "cell_type": "code",
   "execution_count": null,
   "id": "f377a805-4622-4620-8b2a-ae16ba1c7dd3",
   "metadata": {},
   "outputs": [],
   "source": []
  }
 ],
 "metadata": {
  "kernelspec": {
   "display_name": "Python 3",
   "language": "python",
   "name": "python3"
  },
  "language_info": {
   "codemirror_mode": {
    "name": "ipython",
    "version": 3
   },
   "file_extension": ".py",
   "mimetype": "text/x-python",
   "name": "python",
   "nbconvert_exporter": "python",
   "pygments_lexer": "ipython3",
   "version": "3.8.8"
  }
 },
 "nbformat": 4,
 "nbformat_minor": 5
}
