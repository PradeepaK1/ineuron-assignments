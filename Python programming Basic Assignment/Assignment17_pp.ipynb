{
 "cells": [
  {
   "cell_type": "markdown",
   "id": "3ce00af2-64a5-4220-94d9-afcc03443a90",
   "metadata": {},
   "source": [
    "Question1. Create a function that takes three arguments a, b, c and returns the sum of the numbers that are evenly divided by c from the range a, b inclusive.\n",
    "\n",
    "Examples\n",
    "\n",
    "evenly_divisible(1, 10, 20) ➞ 0\n",
    "\n",
    "No number between 1 and 10 can be evenly divided by 20.\n",
    "\n",
    "evenly_divisible(1, 10, 2) ➞ 30\n",
    "\n",
    "2 + 4 + 6 + 8 + 10 = 30\n",
    "\n",
    "evenly_divisible(1, 10, 3) ➞ 18\n",
    "\n",
    "3 + 6 + 9 = 18\n"
   ]
  },
  {
   "cell_type": "code",
   "execution_count": 14,
   "id": "b8af9d81-4997-4889-be91-0484d7421b88",
   "metadata": {},
   "outputs": [
    {
     "name": "stdin",
     "output_type": "stream",
     "text": [
      " 1\n",
      " 10\n",
      " 2\n"
     ]
    },
    {
     "name": "stdout",
     "output_type": "stream",
     "text": [
      "evenly_divisible(1, 10, 2) -> 30\n"
     ]
    }
   ],
   "source": [
    "def evenly_divisible(a,b,c):\n",
    "    s=0\n",
    "    for i in range(a,b+1):\n",
    "        if i%c==0:\n",
    "            s+=i\n",
    "    return s\n",
    "a=int(input())\n",
    "b=int(input())\n",
    "c=int(input())\n",
    "print(\"evenly_divisible(%d, %d, %d) -> %d\" % (a,b,c,evenly_divisible(a,b,c)))"
   ]
  },
  {
   "cell_type": "markdown",
   "id": "f0b17556-9efa-421e-8ce5-ae6eb81fe97e",
   "metadata": {},
   "source": [
    "Question2. Create a function that returns True if a given inequality expression is correct and False otherwise.\n",
    "\n",
    "Examples\n",
    "\n",
    "correct_signs(\"3 < 7 < 11\") ➞ True\n",
    "\n",
    "correct_signs(\"13 > 44 > 33 > 1\") ➞ False\n",
    "\n",
    "correct_signs(\"1 < 2 < 6 < 9 > 3\") ➞ True"
   ]
  },
  {
   "cell_type": "code",
   "execution_count": 17,
   "id": "f37f96ae-7fef-4934-ac3d-a2aa441bb933",
   "metadata": {},
   "outputs": [
    {
     "name": "stdin",
     "output_type": "stream",
     "text": [
      " 3 < 7 < 11\n"
     ]
    },
    {
     "name": "stdout",
     "output_type": "stream",
     "text": [
      "correct_signs(3 < 7 < 11) -> True\n"
     ]
    }
   ],
   "source": [
    "def correct_signs():\n",
    "    s = input()\n",
    "    a = eval(s)\n",
    "    print(\"correct_signs(%s) -> %s\" % (s,a))\n",
    "correct_signs()"
   ]
  },
  {
   "cell_type": "markdown",
   "id": "2eec5c87-f5db-4c3c-ae58-6cb7a63c2592",
   "metadata": {},
   "source": [
    "Question3. Create a function that replaces all the vowels in a string with a specified character.\n",
    "\n",
    "Examples\n",
    "\n",
    "replace_vowels(\"the aardvark\", \"#\") ➞ \"th# ##rdv#rk\"\n",
    "\n",
    "replace_vowels(\"minnie mouse\", \"?\") ➞ \"m?nn?? m??s?\"\n",
    "\n",
    "replace_vowels(\"shakespeare\", \"*\") ➞ \"sh*k*sp**r*\""
   ]
  },
  {
   "cell_type": "code",
   "execution_count": 20,
   "id": "586f06f3-c3aa-46b8-836f-6645b740e311",
   "metadata": {},
   "outputs": [
    {
     "name": "stdin",
     "output_type": "stream",
     "text": [
      " the aardvark\n",
      " #\n"
     ]
    },
    {
     "name": "stdout",
     "output_type": "stream",
     "text": [
      "replace_vowels(the aardvark, #) -> th# ##rdv#rk\n"
     ]
    }
   ],
   "source": [
    "def replace_vowels():\n",
    "    v = ['a','e','i','o','u','A','E','I','O','U']\n",
    "    s = input()\n",
    "    a = s\n",
    "    i = input()\n",
    "    for j in s:\n",
    "        if j in v:\n",
    "            s = s.replace(j,i)\n",
    "    print(\"replace_vowels(%s, %s) -> %s\" % (a,i,s))\n",
    "replace_vowels()"
   ]
  },
  {
   "cell_type": "code",
   "execution_count": null,
   "id": "524c3834-7abd-4289-9c00-99635130418b",
   "metadata": {},
   "outputs": [],
   "source": [
    "Question4. Write a function that calculates the factorial of a number recursively.\n",
    "\n",
    "Examples\n",
    "\n",
    "factorial(5) ➞ 120\n",
    "\n",
    "factorial(3) ➞ 6\n",
    "\n",
    "factorial(1) ➞ 1\n",
    "\n",
    "factorial(0) ➞ 1"
   ]
  },
  {
   "cell_type": "code",
   "execution_count": 22,
   "id": "afc29577-7230-4a0e-8ffd-f14a74a6628d",
   "metadata": {},
   "outputs": [
    {
     "name": "stdin",
     "output_type": "stream",
     "text": [
      " 5\n"
     ]
    },
    {
     "name": "stdout",
     "output_type": "stream",
     "text": [
      "factorial(5) -> 120\n"
     ]
    }
   ],
   "source": [
    "def factorial(n):\n",
    "    if n==0:\n",
    "        return 1\n",
    "    return n*factorial(n-1)\n",
    "n=int(input())\n",
    "print(\"factorial(%d) -> %d\" % (n,factorial(n)))"
   ]
  },
  {
   "cell_type": "code",
   "execution_count": null,
   "id": "28024f73-377e-42bf-8018-24a1c0586b51",
   "metadata": {},
   "outputs": [],
   "source": [
    "Question 5\n",
    "\n",
    "Hamming distance is the number of characters that differ between two strings.\n",
    "\n",
    "To illustrate:\n",
    "\n",
    "    String1: \"abcbba\"\n",
    "\n",
    "    String2: \"abcbda\"\n",
    "\n",
    "\n",
    "Hamming Distance: 1 - \"b\" vs. \"d\" is the only difference.\n",
    "\n",
    "Create a function that computes the hamming distance between two strings.\n",
    "\n",
    "Examples\n",
    "\n",
    "hamming_distance(\"abcde\", \"bcdef\") ➞ 5\n",
    "\n",
    "hamming_distance(\"abcde\", \"abcde\") ➞ 0\n",
    "\n",
    "hamming_distance(\"strong\", \"strung\") ➞ 1"
   ]
  },
  {
   "cell_type": "code",
   "execution_count": 26,
   "id": "1e2e860a-6e51-423d-a9cd-50935cfe0574",
   "metadata": {},
   "outputs": [
    {
     "name": "stdin",
     "output_type": "stream",
     "text": [
      " abcde\n",
      " bcdef\n"
     ]
    },
    {
     "name": "stdout",
     "output_type": "stream",
     "text": [
      "hamming_distance(abcde, bcdef) -> 5\n"
     ]
    }
   ],
   "source": [
    "def hamming_distance():\n",
    "    a = input()\n",
    "    b = input()\n",
    "    if len(a) == len(b):\n",
    "        c = 0\n",
    "        for i in range(len(a)):\n",
    "            if a[i] != b[i]:\n",
    "                c+=1\n",
    "        print(\"hamming_distance(%s, %s) -> %d\" % (a,b,c))\n",
    "    else:\n",
    "        print(\"hamming_distance(%s, %s) -> %d\" % (a,b,0))\n",
    "hamming_distance()\n"
   ]
  },
  {
   "cell_type": "code",
   "execution_count": null,
   "id": "ee1f0a7c-b3cb-4636-8ef3-7a3089b5e70b",
   "metadata": {},
   "outputs": [],
   "source": []
  }
 ],
 "metadata": {
  "kernelspec": {
   "display_name": "Python 3",
   "language": "python",
   "name": "python3"
  },
  "language_info": {
   "codemirror_mode": {
    "name": "ipython",
    "version": 3
   },
   "file_extension": ".py",
   "mimetype": "text/x-python",
   "name": "python",
   "nbconvert_exporter": "python",
   "pygments_lexer": "ipython3",
   "version": "3.8.8"
  }
 },
 "nbformat": 4,
 "nbformat_minor": 5
}
