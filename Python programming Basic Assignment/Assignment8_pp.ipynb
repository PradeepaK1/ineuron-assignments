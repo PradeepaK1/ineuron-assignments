{
 "cells": [
  {
   "cell_type": "markdown",
   "id": "f946769f-aafc-4c91-b5fa-c90e333ede1f",
   "metadata": {},
   "source": [
    "1.\tWrite a Python Program to Add Two Matrices?"
   ]
  },
  {
   "cell_type": "code",
   "execution_count": 11,
   "id": "f8d3a235-06e4-49b5-ac6e-fb6dba8f5813",
   "metadata": {},
   "outputs": [
    {
     "name": "stdin",
     "output_type": "stream",
     "text": [
      "Rows :  3\n",
      "Columns:  3\n"
     ]
    },
    {
     "name": "stdout",
     "output_type": "stream",
     "text": [
      "Enter First Matrix:\n"
     ]
    },
    {
     "name": "stdin",
     "output_type": "stream",
     "text": [
      " 1\n",
      " 2\n",
      " 3\n",
      " 4\n",
      " 5\n",
      " 6\n",
      " 7\n",
      " 8\n",
      " 9\n"
     ]
    },
    {
     "name": "stdout",
     "output_type": "stream",
     "text": [
      "First Matrix: \n",
      "[1, 2, 3]\n",
      "[4, 5, 6]\n",
      "[7, 8, 9]\n",
      "Enter Second Matrix:\n"
     ]
    },
    {
     "name": "stdin",
     "output_type": "stream",
     "text": [
      " 1\n",
      " 2\n",
      " 3\n",
      " 4\n",
      " 5\n",
      " 6\n",
      " 7\n",
      " 8\n",
      " 9\n"
     ]
    },
    {
     "name": "stdout",
     "output_type": "stream",
     "text": [
      "[1, 2, 3]\n",
      "[4, 5, 6]\n",
      "[7, 8, 9]\n",
      "Sum of two Matrices is : \n",
      "[2, 4, 6]\n",
      "[8, 10, 12]\n",
      "[14, 16, 18]\n"
     ]
    }
   ],
   "source": [
    "r = int(input(\"Rows : \" ))\n",
    "c = int(input(\"Columns: \"))\n",
    "print(\"Enter First Matrix:\")\n",
    "a= [[int(input()) for i in range(c)] for i in range(r)]\n",
    "print(\"First Matrix: \")\n",
    "for n in a:\n",
    "    print(n)\n",
    "print(\"Enter Second Matrix:\")\n",
    "b= [[int(input()) for i in range(c)] for i in range(r)]\n",
    "for n in b:\n",
    "    print(n)\n",
    "res=[[0 for i in range(c)] for i in range(r)]\n",
    "for i in range(r):\n",
    "    for j in range(c):\n",
    "        res[i][j] = a[i][j]+b[i][j]\n",
    "print(\"Sum of two Matrices is : \")\n",
    "for r in res:\n",
    "    print(r)"
   ]
  },
  {
   "cell_type": "markdown",
   "id": "787550ae-ad43-40d3-9313-1d41b461de07",
   "metadata": {},
   "source": [
    "2.\tWrite a Python Program to Multiply Two Matrices?"
   ]
  },
  {
   "cell_type": "code",
   "execution_count": 12,
   "id": "7b406d96-8656-429d-8669-17f5cb396d63",
   "metadata": {},
   "outputs": [
    {
     "name": "stdin",
     "output_type": "stream",
     "text": [
      "Rows :  2\n",
      "Columns:  2\n"
     ]
    },
    {
     "name": "stdout",
     "output_type": "stream",
     "text": [
      "Enter First Matrix:\n"
     ]
    },
    {
     "name": "stdin",
     "output_type": "stream",
     "text": [
      " 1\n",
      " 2\n",
      " 1\n",
      " 2\n"
     ]
    },
    {
     "name": "stdout",
     "output_type": "stream",
     "text": [
      "First Matrix: \n",
      "[1, 2]\n",
      "[1, 2]\n",
      "Enter Second Matrix:\n"
     ]
    },
    {
     "name": "stdin",
     "output_type": "stream",
     "text": [
      " 1\n",
      " 2\n",
      " 1\n",
      " 2\n"
     ]
    },
    {
     "name": "stdout",
     "output_type": "stream",
     "text": [
      "[1, 2]\n",
      "[1, 2]\n",
      "Result: \n",
      "[3, 6]\n",
      "[3, 6]\n"
     ]
    }
   ],
   "source": [
    "def Multiply(a,b):\n",
    "    result=[[0 for i in range(c)] for i in range(r)]\n",
    "    for i in range(len(a)):\n",
    "        for j in range(len(b[0])):\n",
    "            for k in range(len(b)):\n",
    "                result[i][j] += a[i][k] * b[k][j]\n",
    "    for p in result:\n",
    "        print(p)\n",
    "r = int(input(\"Rows : \" ))\n",
    "c = int(input(\"Columns: \"))\n",
    "print(\"Enter First Matrix:\")\n",
    "a= [[int(input()) for i in range(c)] for i in range(r)]\n",
    "print(\"First Matrix: \")\n",
    "for n in a:\n",
    "    print(n)\n",
    "print(\"Enter Second Matrix:\")\n",
    "b= [[int(input()) for i in range(c)] for i in range(r)]\n",
    "for n in b:\n",
    "    print(n)\n",
    "print(\"Result: \")\n",
    "Multiply(a,b)"
   ]
  },
  {
   "cell_type": "markdown",
   "id": "f0e78281-a0a1-4b04-91d9-47dac559f43e",
   "metadata": {},
   "source": [
    "3.\tWrite a Python Program to Transpose a Matrix?"
   ]
  },
  {
   "cell_type": "code",
   "execution_count": 13,
   "id": "9f4f198e-225d-4392-80ac-062f283d1645",
   "metadata": {},
   "outputs": [
    {
     "name": "stdin",
     "output_type": "stream",
     "text": [
      "Rows :  2\n",
      "Columns:  2\n"
     ]
    },
    {
     "name": "stdout",
     "output_type": "stream",
     "text": [
      "Enter  Matrix:\n"
     ]
    },
    {
     "name": "stdin",
     "output_type": "stream",
     "text": [
      " 5\n",
      " 7\n",
      " 8\n",
      " 9\n"
     ]
    },
    {
     "name": "stdout",
     "output_type": "stream",
     "text": [
      "[5, 7]\n",
      "[8, 9]\n",
      "[5, 8]\n",
      "[7, 9]\n"
     ]
    }
   ],
   "source": [
    "r = int(input(\"Rows : \" ))\n",
    "c = int(input(\"Columns: \"))\n",
    "print(\"Enter  Matrix:\")\n",
    "m= [[int(input()) for i in range(c)] for i in range(r)]\n",
    "for n in m:\n",
    "    print(n)\n",
    "res=[[0 for i in range(c)] for i in range(r)]\n",
    "for i in range(len(m)):\n",
    "    for j in range(len(m[0])):\n",
    "        res[j][i] = m[i][j]\n",
    "for r in res:\n",
    "    print(r)"
   ]
  },
  {
   "cell_type": "markdown",
   "id": "a991e6ac-2cdf-4ac0-bdf6-d478fbc650e1",
   "metadata": {},
   "source": [
    "4.\tWrite a Python Program to Sort Words in Alphabetic Order?"
   ]
  },
  {
   "cell_type": "code",
   "execution_count": 9,
   "id": "874a3f16-9e7c-4029-b3d8-566ce58cc67a",
   "metadata": {},
   "outputs": [
    {
     "name": "stdin",
     "output_type": "stream",
     "text": [
      "Enter string:  Hi This is ineuron assignmemnt\n"
     ]
    },
    {
     "name": "stdout",
     "output_type": "stream",
     "text": [
      "Sorted Order:\n",
      "assignmemnt\n",
      "hi\n",
      "ineuron\n",
      "is\n",
      "this\n"
     ]
    }
   ],
   "source": [
    "s = input(\"Enter string: \")\n",
    "ww = [w.lower() for w in s.split()]\n",
    "ww.sort()\n",
    "print(\"Sorted Order:\")\n",
    "for w in ww:\n",
    "    print(w)"
   ]
  },
  {
   "cell_type": "code",
   "execution_count": null,
   "id": "7e29d085-8ebf-44f2-98c3-1cacd3a334db",
   "metadata": {},
   "outputs": [],
   "source": [
    "5.\tWrite a Python Program to Remove Punctuation From a String?"
   ]
  },
  {
   "cell_type": "code",
   "execution_count": 10,
   "id": "9776c1de-f027-4b60-b242-b8056242ecae",
   "metadata": {},
   "outputs": [
    {
     "name": "stdin",
     "output_type": "stream",
     "text": [
      "Enter string:  Jids'.m*78?\n"
     ]
    },
    {
     "name": "stdout",
     "output_type": "stream",
     "text": [
      "Jidsm78\n"
     ]
    }
   ],
   "source": [
    "p = '''!()-[]{};:'\"\\,<>./?@#$%^&*_~'''\n",
    "s = input(\"Enter string: \")\n",
    "np = \"\"\n",
    "for c in s:\n",
    "    if c not in p:\n",
    "        np = np + c\n",
    "print(np)"
   ]
  },
  {
   "cell_type": "code",
   "execution_count": null,
   "id": "4d0c1536-c1a1-4b72-b1ee-d8f642642912",
   "metadata": {},
   "outputs": [],
   "source": []
  }
 ],
 "metadata": {
  "kernelspec": {
   "display_name": "Python 3",
   "language": "python",
   "name": "python3"
  },
  "language_info": {
   "codemirror_mode": {
    "name": "ipython",
    "version": 3
   },
   "file_extension": ".py",
   "mimetype": "text/x-python",
   "name": "python",
   "nbconvert_exporter": "python",
   "pygments_lexer": "ipython3",
   "version": "3.8.8"
  }
 },
 "nbformat": 4,
 "nbformat_minor": 5
}
