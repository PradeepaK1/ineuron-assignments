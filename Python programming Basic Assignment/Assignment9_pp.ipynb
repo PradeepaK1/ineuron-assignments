{
 "cells": [
  {
   "cell_type": "code",
   "execution_count": null,
   "id": "66c6ca5d-a9f8-4025-a002-fd2ac2c4b69f",
   "metadata": {},
   "outputs": [],
   "source": [
    "1.\tWrite a Python program to check if the given number is a Disarium Number?"
   ]
  },
  {
   "cell_type": "code",
   "execution_count": 9,
   "id": "2e832a3f-9243-4de5-835a-241448d132cc",
   "metadata": {},
   "outputs": [
    {
     "name": "stdin",
     "output_type": "stream",
     "text": [
      "enter a number 175\n"
     ]
    },
    {
     "name": "stdout",
     "output_type": "stream",
     "text": [
      "175 is a disarium number\n"
     ]
    }
   ],
   "source": [
    "def dis(n):    \n",
    "    ll = 0\n",
    "    while(n != 0):    \n",
    "        ll += 1  \n",
    "        n =n//10  \n",
    "    return ll\n",
    "nu =int(input(\"enter a number\"))    \n",
    "r = s = 0    \n",
    "l = dis(nu)   \n",
    "n = nu\n",
    "while(nu > 0):    \n",
    "    r = nu%10   \n",
    "    s = s + int(r**l)   \n",
    "    nu = nu//10\n",
    "    l-= 1\n",
    "if(s == n):    \n",
    "    print(str(n) + \" is a disarium number\")\n",
    "else:    \n",
    "    print(str(n) + \" is not a disarium number\")"
   ]
  },
  {
   "cell_type": "code",
   "execution_count": null,
   "id": "8601295f-a6d1-4ee6-9cc7-f63bfa6ccfbe",
   "metadata": {},
   "outputs": [],
   "source": [
    "2.\tWrite a Python program to print all disarium numbers between 1 to 100?"
   ]
  },
  {
   "cell_type": "code",
   "execution_count": 13,
   "id": "35b20573-e56f-4937-ad84-b455339526d9",
   "metadata": {},
   "outputs": [
    {
     "name": "stdout",
     "output_type": "stream",
     "text": [
      "Disarium numbers between 1 and 100 are\n",
      "1\n",
      "2\n",
      "3\n",
      "4\n",
      "5\n",
      "6\n",
      "7\n",
      "8\n",
      "9\n",
      "89\n"
     ]
    }
   ],
   "source": [
    "def dis(n):    \n",
    "    ll = 0    \n",
    "    while(n != 0):    \n",
    "        ll += 1    \n",
    "        n = n//10    \n",
    "    return ll \n",
    "def sod(nu):    \n",
    "    r = s = 0    \n",
    "    l = dis(nu)   \n",
    "    while(nu > 0):    \n",
    "        r = nu%10\n",
    "        s = s + (r**l)  \n",
    "        nu = nu//10\n",
    "        l -= 1    \n",
    "    return s\n",
    "rr = 0 \n",
    "print(\"Disarium numbers between 1 and 100 are\")\n",
    "for i in range(1, 101):    \n",
    "    rr = sod(i)\n",
    "    if(rr == i):    \n",
    "        print(i)"
   ]
  },
  {
   "cell_type": "code",
   "execution_count": null,
   "id": "ab3e0c7d-cc66-401b-b722-63925b480546",
   "metadata": {},
   "outputs": [],
   "source": [
    "3.\tWrite a Python program to check if the given number is Happy Number?"
   ]
  },
  {
   "cell_type": "code",
   "execution_count": 19,
   "id": "ec7ba07f-3904-4801-a521-3c52626ca994",
   "metadata": {},
   "outputs": [
    {
     "name": "stdin",
     "output_type": "stream",
     "text": [
      " 932\n"
     ]
    },
    {
     "name": "stdout",
     "output_type": "stream",
     "text": [
      "932  is a happy number\n"
     ]
    }
   ],
   "source": [
    "def happynum(n):    \n",
    "    r = s = 0;    \n",
    "    while(n > 0):    \n",
    "        r = n%10    \n",
    "        s += r**2  \n",
    "        n //= 10    \n",
    "    return s  \n",
    "n = int(input())    \n",
    "res = n\n",
    "while(res != 1 and res != 4):    \n",
    "    res = happynum(res)    \n",
    "if(res == 1):    \n",
    "    print(n,\" is a happy number\")\n",
    "elif(res == 4):    \n",
    "    print(n, \" is not a happy number\") "
   ]
  },
  {
   "cell_type": "code",
   "execution_count": null,
   "id": "2b04a047-a75c-4a10-b043-3e00ad64dd7f",
   "metadata": {},
   "outputs": [],
   "source": [
    "4.\tWrite a Python program to print all happy numbers between 1 and 100?"
   ]
  },
  {
   "cell_type": "code",
   "execution_count": 1,
   "id": "3131d005-a602-4dca-8ae1-418498572822",
   "metadata": {},
   "outputs": [
    {
     "name": "stdout",
     "output_type": "stream",
     "text": [
      "1  is a happy number\n",
      "2  is not a happy number\n",
      "3  is not a happy number\n",
      "4  is not a happy number\n",
      "5  is not a happy number\n",
      "6  is not a happy number\n",
      "7  is a happy number\n",
      "8  is not a happy number\n",
      "9  is not a happy number\n",
      "10  is a happy number\n",
      "11  is not a happy number\n",
      "12  is not a happy number\n",
      "13  is a happy number\n",
      "14  is not a happy number\n",
      "15  is not a happy number\n",
      "16  is not a happy number\n",
      "17  is not a happy number\n",
      "18  is not a happy number\n",
      "19  is a happy number\n",
      "20  is not a happy number\n",
      "21  is not a happy number\n",
      "22  is not a happy number\n",
      "23  is a happy number\n",
      "24  is not a happy number\n",
      "25  is not a happy number\n",
      "26  is not a happy number\n",
      "27  is not a happy number\n",
      "28  is a happy number\n",
      "29  is not a happy number\n",
      "30  is not a happy number\n",
      "31  is a happy number\n",
      "32  is a happy number\n",
      "33  is not a happy number\n",
      "34  is not a happy number\n",
      "35  is not a happy number\n",
      "36  is not a happy number\n",
      "37  is not a happy number\n",
      "38  is not a happy number\n",
      "39  is not a happy number\n",
      "40  is not a happy number\n",
      "41  is not a happy number\n",
      "42  is not a happy number\n",
      "43  is not a happy number\n",
      "44  is a happy number\n",
      "45  is not a happy number\n",
      "46  is not a happy number\n",
      "47  is not a happy number\n",
      "48  is not a happy number\n",
      "49  is a happy number\n",
      "50  is not a happy number\n",
      "51  is not a happy number\n",
      "52  is not a happy number\n",
      "53  is not a happy number\n",
      "54  is not a happy number\n",
      "55  is not a happy number\n",
      "56  is not a happy number\n",
      "57  is not a happy number\n",
      "58  is not a happy number\n",
      "59  is not a happy number\n",
      "60  is not a happy number\n",
      "61  is not a happy number\n",
      "62  is not a happy number\n",
      "63  is not a happy number\n",
      "64  is not a happy number\n",
      "65  is not a happy number\n",
      "66  is not a happy number\n",
      "67  is not a happy number\n",
      "68  is a happy number\n",
      "69  is not a happy number\n",
      "70  is a happy number\n",
      "71  is not a happy number\n",
      "72  is not a happy number\n",
      "73  is not a happy number\n",
      "74  is not a happy number\n",
      "75  is not a happy number\n",
      "76  is not a happy number\n",
      "77  is not a happy number\n",
      "78  is not a happy number\n",
      "79  is a happy number\n",
      "80  is not a happy number\n",
      "81  is not a happy number\n",
      "82  is a happy number\n",
      "83  is not a happy number\n",
      "84  is not a happy number\n",
      "85  is not a happy number\n",
      "86  is a happy number\n",
      "87  is not a happy number\n",
      "88  is not a happy number\n",
      "89  is not a happy number\n",
      "90  is not a happy number\n",
      "91  is a happy number\n",
      "92  is not a happy number\n",
      "93  is not a happy number\n",
      "94  is a happy number\n",
      "95  is not a happy number\n",
      "96  is not a happy number\n",
      "97  is a happy number\n",
      "98  is not a happy number\n",
      "99  is not a happy number\n",
      "100  is a happy number\n"
     ]
    }
   ],
   "source": [
    "def happynum(n):    \n",
    "    r = s = 0  \n",
    "    while(n > 0):    \n",
    "        r = n%10    \n",
    "        s += r**2  \n",
    "        n //= 10    \n",
    "    return s  \n",
    "for n in range(1,101):\n",
    "    res = n\n",
    "    while(res != 1 and res != 4):    \n",
    "        res = happynum(res)    \n",
    "    if(res == 1):    \n",
    "        print(n,\" is a happy number\")\n",
    "    elif(res == 4):    \n",
    "        print(n, \" is not a happy number\") "
   ]
  },
  {
   "cell_type": "code",
   "execution_count": null,
   "id": "17240ad8-7f42-4e77-a6cd-0e40fb5774ac",
   "metadata": {},
   "outputs": [],
   "source": [
    "5.\tWrite a Python program to determine whether the given number is a Harshad Number?"
   ]
  },
  {
   "cell_type": "code",
   "execution_count": 2,
   "id": "97bccbfa-d3a9-4e64-b913-51803a9616b1",
   "metadata": {},
   "outputs": [
    {
     "name": "stdin",
     "output_type": "stream",
     "text": [
      "enter a number 156\n"
     ]
    },
    {
     "name": "stdout",
     "output_type": "stream",
     "text": [
      "156 is a harshad number\n"
     ]
    }
   ],
   "source": [
    "num = int(input(\"enter a number\"))   \n",
    "rem = sum = 0 \n",
    "n = num\n",
    "while(num > 0):    \n",
    "    rem = num%10\n",
    "    sum = sum + rem   \n",
    "    num = num//10      \n",
    "if(n%sum == 0):    \n",
    "    print(str(n) + \" is a harshad number\")  \n",
    "else:    \n",
    "    print(str(n) + \" is not a harshad number\")    "
   ]
  },
  {
   "cell_type": "code",
   "execution_count": null,
   "id": "92b5b0b2-2434-43db-8a5d-5b5452577434",
   "metadata": {},
   "outputs": [],
   "source": [
    "6.\tWrite a Python program to print all pronic numbers between 1 and 100?"
   ]
  },
  {
   "cell_type": "code",
   "execution_count": 3,
   "id": "23cf2994-d06b-404e-be6f-0084344a4d0c",
   "metadata": {},
   "outputs": [
    {
     "name": "stdout",
     "output_type": "stream",
     "text": [
      "Pronic numbers between 1 and 100: \n",
      "2\n",
      "6\n",
      "12\n",
      "20\n",
      "30\n",
      "42\n",
      "56\n",
      "72\n",
      "90\n"
     ]
    }
   ],
   "source": [
    "def isPronicNumber(num):    \n",
    "    flag = False\n",
    "    for j in range(1, num+1):    \n",
    "        if((j*(j+1)) == num):    \n",
    "            flag = True    \n",
    "            break    \n",
    "    return flag      \n",
    "print(\"Pronic numbers between 1 and 100: \")   \n",
    "for i in range(1, 101):    \n",
    "    if(isPronicNumber(i)):    \n",
    "        print(i)"
   ]
  },
  {
   "cell_type": "code",
   "execution_count": null,
   "id": "c70c4821-3732-4399-914f-282aa3aa05e0",
   "metadata": {},
   "outputs": [],
   "source": []
  }
 ],
 "metadata": {
  "kernelspec": {
   "display_name": "Python 3",
   "language": "python",
   "name": "python3"
  },
  "language_info": {
   "codemirror_mode": {
    "name": "ipython",
    "version": 3
   },
   "file_extension": ".py",
   "mimetype": "text/x-python",
   "name": "python",
   "nbconvert_exporter": "python",
   "pygments_lexer": "ipython3",
   "version": "3.8.8"
  }
 },
 "nbformat": 4,
 "nbformat_minor": 5
}
