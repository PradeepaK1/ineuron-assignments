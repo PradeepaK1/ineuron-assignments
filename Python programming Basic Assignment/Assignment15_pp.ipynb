{
 "cells": [
  {
   "cell_type": "markdown",
   "id": "90ba96a5-cb4d-4cf1-af6e-49eb4885ee05",
   "metadata": {},
   "source": [
    "Question 1:\n",
    "    \n",
    "Please write a program using generator to print the numbers which can be divisible by 5 and 7 between 0 and n in comma separated form while n is input by console.\n",
    "\n",
    "Example:\n",
    "\n",
    "    If the following n is given as input to the program:\n",
    "        \n",
    "100\n",
    "\n",
    "Then, the output of the program should be:\n",
    "\n",
    "    0,35,70"
   ]
  },
  {
   "cell_type": "code",
   "execution_count": 21,
   "id": "2b58182b-0e2b-418d-a06d-7f94139b12fc",
   "metadata": {},
   "outputs": [
    {
     "name": "stdin",
     "output_type": "stream",
     "text": [
      " 100\n"
     ]
    },
    {
     "name": "stdout",
     "output_type": "stream",
     "text": [
      "0,35,70\n"
     ]
    }
   ],
   "source": [
    "class genclass:\n",
    "    def gen(n):\n",
    "        for i in range(0,n):\n",
    "            if(i%7==0 and i%5==0):\n",
    "                yield (i)\n",
    "n=int(input())\n",
    "l=[]\n",
    "for i in genclass.gen(n+1):\n",
    "    l.append(i)\n",
    "for i in range(len(l)):\n",
    "    if i==(len(l)-1):\n",
    "        print(l[i])\n",
    "    else:\n",
    "        print(l[i],end=',')"
   ]
  },
  {
   "cell_type": "markdown",
   "id": "643be77f-d680-4e9e-9178-e138605db466",
   "metadata": {},
   "source": [
    "Question 2:\n",
    "    \n",
    "Please write a program using generator to print the even numbers between 0 and n in comma separated form while n is input by console.\n",
    "\n",
    "Example:\n",
    "\n",
    "If the following n is given as input to the program:\n",
    "\n",
    "    10\n",
    "\n",
    "Then, the output of the program should be:\n",
    "\n",
    "    0,2,4,6,8,10"
   ]
  },
  {
   "cell_type": "code",
   "execution_count": 13,
   "id": "4ccb93fc-04d9-4da3-8638-9aa98d36eb39",
   "metadata": {},
   "outputs": [
    {
     "name": "stdin",
     "output_type": "stream",
     "text": [
      " 10\n"
     ]
    },
    {
     "name": "stdout",
     "output_type": "stream",
     "text": [
      "0,2,4,6,8,10\n"
     ]
    }
   ],
   "source": [
    "class genclass:\n",
    "    def gen(n):\n",
    "        for i in range(0,n):\n",
    "            if(i%2==0):\n",
    "                yield (i)\n",
    "n=int(input())\n",
    "for i in genclass.gen(n+1):\n",
    "    if i==n:\n",
    "        print(i)\n",
    "    else:\n",
    "        print(i,end=',')"
   ]
  },
  {
   "cell_type": "markdown",
   "id": "385c12f8-253e-4121-8eb0-6a619b18a8d7",
   "metadata": {},
   "source": [
    "Question 3:\n",
    "    \n",
    "\n",
    "The Fibonacci Sequence is computed based on the following formula:\n",
    "\n",
    "f(n)=0 if n=0\n",
    "\n",
    "f(n)=1 if n=1\n",
    "\n",
    "f(n)=f(n-1)+f(n-2) if n>1\n",
    "\n",
    "Please write a program using list comprehension to print the Fibonacci Sequence in comma separated form with a given n input by console.\n",
    "\n",
    "Example:\n",
    "\n",
    "If the following n is given as input to the program:\n",
    "\n",
    "7\n",
    "\n",
    "Then, the output of the program should be:\n",
    "\n",
    "0,1,1,2,3,5,8,13"
   ]
  },
  {
   "cell_type": "code",
   "execution_count": 23,
   "id": "7d60547f-5eec-4f4b-8592-b3f893362ff1",
   "metadata": {},
   "outputs": [
    {
     "name": "stdin",
     "output_type": "stream",
     "text": [
      " 7\n"
     ]
    },
    {
     "name": "stdout",
     "output_type": "stream",
     "text": [
      "0,1,1,2,3,5,8,13\n"
     ]
    }
   ],
   "source": [
    "n=int(input())\n",
    "fib=[0,1]\n",
    "[fib.append(fib[-2]+fib[-1]) for n in range(n-1)]\n",
    "for i in range(len(fib)):\n",
    "    if i==(len(fib)-1):\n",
    "        print(fib[i])\n",
    "    else:\n",
    "        print(fib[i],end=',')"
   ]
  },
  {
   "cell_type": "markdown",
   "id": "7e2ccdf2-3f53-4d4f-9227-aafcb7b0c627",
   "metadata": {},
   "source": [
    "Question 4:\n",
    "\n",
    "    Assuming that we have some email addresses in the \"username@companyname.com\" format, please write program to print the user name of a given email address. Both user names and company names are composed of letters only.\n",
    "\n",
    "Example:\n",
    "\n",
    "    If the following email address is given as input to the program:\n",
    "\n",
    "        john@google.com\n",
    "\n",
    "Then, the output of the program should be:\n",
    "\n",
    "john"
   ]
  },
  {
   "cell_type": "code",
   "execution_count": 26,
   "id": "03f3e525-079a-437c-9d85-cfc1d3fd6822",
   "metadata": {},
   "outputs": [
    {
     "name": "stdin",
     "output_type": "stream",
     "text": [
      " john@google.com\n"
     ]
    },
    {
     "name": "stdout",
     "output_type": "stream",
     "text": [
      "john\n"
     ]
    }
   ],
   "source": [
    "n=input()\n",
    "l=n.split('@')\n",
    "print(l[0])"
   ]
  },
  {
   "cell_type": "markdown",
   "id": "5f9825f0-b5f3-47d2-aaaf-be80ff766ed4",
   "metadata": {},
   "source": [
    "\n",
    "Question 5:\n",
    "Define a class named Shape and its subclass Square. The Square class has an init function which takes a length as argument. Both classes have a area function which can print the area of the shape where Shape's area is 0 by default."
   ]
  },
  {
   "cell_type": "code",
   "execution_count": 34,
   "id": "62568be9-9931-42c5-8be4-49d49e854f89",
   "metadata": {},
   "outputs": [
    {
     "name": "stdin",
     "output_type": "stream",
     "text": [
      " 4\n"
     ]
    },
    {
     "name": "stdout",
     "output_type": "stream",
     "text": [
      "16\n"
     ]
    }
   ],
   "source": [
    "class Shape(object):\n",
    "    def __init__(self):\n",
    "        pass\n",
    "    def area(self):\n",
    "        return 0\n",
    "class Square(Shape):\n",
    "    def __init__(self, l):\n",
    "        Shape.__init__(self)\n",
    "        self.length = l\n",
    "    def area(self):\n",
    "        return self.length*self.length\n",
    "a=int(input())\n",
    "n= Square(a)\n",
    "print (n.area())"
   ]
  },
  {
   "cell_type": "code",
   "execution_count": null,
   "id": "bc12c12d-cae6-412f-ad1b-725b59fdcfee",
   "metadata": {},
   "outputs": [],
   "source": []
  },
  {
   "cell_type": "code",
   "execution_count": null,
   "id": "14bb24e3-ac72-4871-a36f-92d091c6d0aa",
   "metadata": {},
   "outputs": [],
   "source": []
  },
  {
   "cell_type": "code",
   "execution_count": null,
   "id": "cfa55b1a-09f0-4e5b-833b-dc4a7a501c02",
   "metadata": {},
   "outputs": [],
   "source": []
  },
  {
   "cell_type": "code",
   "execution_count": null,
   "id": "0e783f95-754f-4865-9a58-376a9d8eee32",
   "metadata": {},
   "outputs": [],
   "source": []
  }
 ],
 "metadata": {
  "kernelspec": {
   "display_name": "Python 3",
   "language": "python",
   "name": "python3"
  },
  "language_info": {
   "codemirror_mode": {
    "name": "ipython",
    "version": 3
   },
   "file_extension": ".py",
   "mimetype": "text/x-python",
   "name": "python",
   "nbconvert_exporter": "python",
   "pygments_lexer": "ipython3",
   "version": "3.8.8"
  }
 },
 "nbformat": 4,
 "nbformat_minor": 5
}
