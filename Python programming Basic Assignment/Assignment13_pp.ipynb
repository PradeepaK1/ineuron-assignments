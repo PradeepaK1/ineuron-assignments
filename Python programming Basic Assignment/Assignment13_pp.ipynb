{
 "cells": [
  {
   "cell_type": "markdown",
   "id": "56d845f7-ea91-4a01-8e16-89050c6db351",
   "metadata": {},
   "source": [
    "Question 1:\n",
    "\n",
    "Write a program that calculates and prints the value according to the given formula:\n",
    "\n",
    "Q = Square root of [(2 * C * D)/H]\n",
    "\n",
    "Following are the fixed values of C and H:\n",
    "\n",
    "C is 50. H is 30.\n",
    "\n",
    "D is the variable whose values should be input to your program in a comma-separated sequence.\n",
    "\n",
    "Example\n",
    "\n",
    "Let us assume the following comma separated input sequence is given to the program:\n",
    "\n",
    "100,150,180\n",
    "\n",
    "The output of the program should be:\n",
    "\n",
    "18,22,24\n",
    "\n"
   ]
  },
  {
   "cell_type": "code",
   "execution_count": 10,
   "id": "3727c675-ea90-495e-a4d8-6c096aaa3b49",
   "metadata": {},
   "outputs": [
    {
     "name": "stdin",
     "output_type": "stream",
     "text": [
      "Enter the set of values as , seperated list 100,150,180\n"
     ]
    },
    {
     "name": "stdout",
     "output_type": "stream",
     "text": [
      "18,22,24\n"
     ]
    }
   ],
   "source": [
    "import math\n",
    "C=50\n",
    "H=30\n",
    "Q=[]\n",
    "D = input(\"Enter the set of values as , seperated list\")\n",
    "D=D.split(',')\n",
    "for i in D:\n",
    "    i=int(i)\n",
    "    a=math.sqrt((2*C*i)/H)\n",
    "    Q.append(str(int(a)))\n",
    "print(','.join(Q))"
   ]
  },
  {
   "cell_type": "markdown",
   "id": "80f35fd1-0f74-4838-a965-78ef13296f32",
   "metadata": {},
   "source": [
    "Question 2:\n",
    "Write a program which takes 2 digits, X,Y as input and generates a 2-dimensional array. The element value in the i-th row and j-th column of the array should be i*j.\n",
    "\n",
    "Note: i=0,1.., X-1; j=0,1,¡¬Y-1.\n",
    "\n",
    "Example\n",
    "\n",
    "Suppose the following inputs are given to the program:\n",
    "\n",
    "3,5\n",
    "\n",
    "Then, the output of the program should be:\n",
    "\n",
    "[[0, 0, 0, 0, 0], [0, 1, 2, 3, 4], [0, 2, 4, 6, 8]] \n"
   ]
  },
  {
   "cell_type": "code",
   "execution_count": 12,
   "id": "a740f8be-c38a-419b-b7c3-04149d15e114",
   "metadata": {},
   "outputs": [
    {
     "name": "stdin",
     "output_type": "stream",
     "text": [
      "Enter number of rows 3\n",
      "Enter number of columns 5\n"
     ]
    },
    {
     "name": "stdout",
     "output_type": "stream",
     "text": [
      "[[0, 0, 0, 0, 0], [0, 1, 2, 3, 4], [0, 2, 4, 6, 8]]\n"
     ]
    }
   ],
   "source": [
    "r=int(input(\"Enter number of rows\"))\n",
    "c=int(input(\"Enter number of columns\"))\n",
    "l=[[0 for cc in range (c)] for rr in range(r)]\n",
    "for rr in range(r):\n",
    "    for cc in range(c):\n",
    "        l[rr][cc]=rr*cc\n",
    "print(l)        "
   ]
  },
  {
   "cell_type": "markdown",
   "id": "d1875207-7b0c-4e1c-a015-220fd2407962",
   "metadata": {},
   "source": [
    "Question 3:\n",
    "Write a program that accepts a comma separated sequence of words as input and prints the words in a comma-separated sequence after sorting them alphabetically.\n",
    "\n",
    "Suppose the following input is supplied to the program:\n",
    "\n",
    "without,hello,bag,world\n",
    "\n",
    "Then, the output should be:\n",
    "\n",
    "bag,hello,without,world\n",
    "\n"
   ]
  },
  {
   "cell_type": "code",
   "execution_count": 15,
   "id": "65072521-c41f-4af3-ad55-183c0e2abeeb",
   "metadata": {},
   "outputs": [
    {
     "name": "stdin",
     "output_type": "stream",
     "text": [
      "Enter the set of words as , seperated list without,hello,bag,world\n"
     ]
    },
    {
     "name": "stdout",
     "output_type": "stream",
     "text": [
      "bag,hello,without,world\n"
     ]
    }
   ],
   "source": [
    "wl= input(\"Enter the set of words as , seperated list\")\n",
    "wl=wl.split(',')\n",
    "wl.sort()\n",
    "print(','.join(wl))"
   ]
  },
  {
   "cell_type": "markdown",
   "id": "964e920c-fcc2-443d-b3e9-4014ea6db386",
   "metadata": {},
   "source": [
    "\n",
    "\n",
    "Question 4:\n",
    "Write a program that accepts a sequence of whitespace separated words as input and prints the words after removing all duplicate words and sorting them alphanumerically.\n",
    "\n",
    "Suppose the following input is supplied to the program:\n",
    "\n",
    "hello world and practice makes perfect and hello world again\n",
    "\n",
    "Then, the output should be:\n",
    "\n",
    "again and hello makes perfect practice world\n"
   ]
  },
  {
   "cell_type": "code",
   "execution_count": 17,
   "id": "7b1e84b2-6bc0-4971-adb9-8eabd6639bc8",
   "metadata": {},
   "outputs": [
    {
     "name": "stdin",
     "output_type": "stream",
     "text": [
      "Enter the set of words as white space seperated list hello world and practice makes perfect and hello world again\n"
     ]
    },
    {
     "name": "stdout",
     "output_type": "stream",
     "text": [
      "again and hello makes perfect practice world\n"
     ]
    }
   ],
   "source": [
    "al= input(\"Enter the set of words as white space seperated list\")\n",
    "al=al.split(' ')\n",
    "al=list(set(al))\n",
    "al.sort()\n",
    "print(' '.join(al))"
   ]
  },
  {
   "cell_type": "markdown",
   "id": "e9387762-05ad-4309-86f5-ce677595baa1",
   "metadata": {},
   "source": [
    "\n",
    "Question 5:\n",
    "Write a program that accepts a sentence and calculate the number of letters and digits.\n",
    "\n",
    "Suppose the following input is supplied to the program:\n",
    "\n",
    "hello world! 123\n",
    "\n",
    "Then, the output should be:\n",
    "\n",
    "LETTERS 10\n",
    "\n",
    "DIGITS 3\n"
   ]
  },
  {
   "cell_type": "code",
   "execution_count": 20,
   "id": "3200f550-9fda-49a3-a8ec-04750ecfc7f3",
   "metadata": {},
   "outputs": [
    {
     "name": "stdin",
     "output_type": "stream",
     "text": [
      "Enter a sentence hello world! 123\n"
     ]
    },
    {
     "name": "stdout",
     "output_type": "stream",
     "text": [
      "LETTERS  10\n",
      "\n",
      "DIGITS  3\n"
     ]
    }
   ],
   "source": [
    "s=input(\"Enter a sentence\")\n",
    "d=a=0\n",
    "for i in s:\n",
    "    if i.isdigit():\n",
    "        d+=1\n",
    "    elif i.isalpha():\n",
    "        a+=1\n",
    "print(\"LETTERS \",a)\n",
    "print(\"\")\n",
    "print(\"DIGITS \",d)"
   ]
  },
  {
   "cell_type": "markdown",
   "id": "bca046c7-ad54-4642-b475-4ca640d04b54",
   "metadata": {},
   "source": [
    "\n",
    "Question 6:\n",
    "A website requires the users to input username and password to register. Write a program to check the validity of password input by users.\n",
    "\n",
    "Following are the criteria for checking the password:\n",
    "\n",
    "1. At least 1 letter between [a-z]\n",
    "\n",
    "2. At least 1 number between [0-9]\n",
    "\n",
    "1. At least 1 letter between [A-Z]\n",
    "\n",
    "3. At least 1 character from [$#@]\n",
    "\n",
    "4. Minimum length of transaction password: 6\n",
    "\n",
    "5. Maximum length of transaction password: 12\n",
    "\n",
    "Your program should accept a sequence of comma separated passwords and will check them according to the above criteria. Passwords that match the criteria are to be printed, each separated by a comma.\n",
    "\n",
    "Example\n",
    "\n",
    "If the following passwords are given as input to the program:\n",
    "\n",
    "ABd1234@1,a F1#,2w3E*,2We3345\n",
    "\n",
    "Then, the output of the program should be:\n",
    "\n",
    "ABd1234@1\n"
   ]
  },
  {
   "cell_type": "code",
   "execution_count": 27,
   "id": "00795e2d-7f82-470b-875b-239ff95d1365",
   "metadata": {},
   "outputs": [
    {
     "name": "stdin",
     "output_type": "stream",
     "text": [
      "Enter the set of passwords as , seperated list ABd1234@1,a F1#,2w3E*,2We3345\n"
     ]
    },
    {
     "name": "stdout",
     "output_type": "stream",
     "text": [
      "ABd1234@1\n"
     ]
    }
   ],
   "source": [
    "import re\n",
    "p= input(\"Enter the set of passwords as , seperated list\")\n",
    "p=p.split(',')\n",
    "pp=[]\n",
    "for i in p:\n",
    "    if not re.search(\"([a-z])+\",i):\n",
    "        f=-1\n",
    "        break\n",
    "    elif not re.search(\"([0-9])+\",i):\n",
    "        f=-1\n",
    "        break\n",
    "    elif not re.search(\"([A-Z])+\",i):\n",
    "        f=-1\n",
    "        break\n",
    "    elif not re.search(\"([$#@])+\",i):\n",
    "        f=-1\n",
    "        break\n",
    "    elif len(i)<6 or len(i)>12:\n",
    "        f=-1\n",
    "        break\n",
    "    else:\n",
    "        pp.append(i)\n",
    "print((\" \").join(pp))"
   ]
  },
  {
   "cell_type": "code",
   "execution_count": null,
   "id": "07d0d6ca-7e54-4cd5-9088-a7c7f088f84b",
   "metadata": {},
   "outputs": [],
   "source": []
  }
 ],
 "metadata": {
  "kernelspec": {
   "display_name": "Python 3",
   "language": "python",
   "name": "python3"
  },
  "language_info": {
   "codemirror_mode": {
    "name": "ipython",
    "version": 3
   },
   "file_extension": ".py",
   "mimetype": "text/x-python",
   "name": "python",
   "nbconvert_exporter": "python",
   "pygments_lexer": "ipython3",
   "version": "3.8.8"
  }
 },
 "nbformat": 4,
 "nbformat_minor": 5
}
