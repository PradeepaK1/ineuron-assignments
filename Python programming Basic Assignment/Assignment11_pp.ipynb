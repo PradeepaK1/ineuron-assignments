{
 "cells": [
  {
   "cell_type": "markdown",
   "id": "8a2f51d8-871f-421b-857a-74f87d5a61e2",
   "metadata": {},
   "source": [
    "1.\tWrite a Python program to find words which are greater than given length k?"
   ]
  },
  {
   "cell_type": "code",
   "execution_count": 2,
   "id": "9887ccf8-8ca8-44d6-8108-f9a0563429a8",
   "metadata": {},
   "outputs": [
    {
     "name": "stdin",
     "output_type": "stream",
     "text": [
      "Enter the string : hi how are you this is ineuron\n",
      "Enter k: 3\n"
     ]
    },
    {
     "name": "stdout",
     "output_type": "stream",
     "text": [
      "Words greater than length 3 are  ['this', 'ineuron']\n"
     ]
    }
   ],
   "source": [
    "s =  input(\"Enter the string :\")\n",
    "k = int(input(\"Enter k:\"))\n",
    "ls = []\n",
    "w = s.split(\" \")\n",
    "for ww in w:\n",
    "    if len(ww) > k:\n",
    "        ls.append(ww)\n",
    "print(\"Words greater than length\", k, \"are \", ls)"
   ]
  },
  {
   "cell_type": "markdown",
   "id": "0671147f-8dd4-463f-adaa-1300715949cc",
   "metadata": {},
   "source": [
    "2.\tWrite a Python program for removing i-th character from a string?"
   ]
  },
  {
   "cell_type": "code",
   "execution_count": 3,
   "id": "78437af4-c5dd-43c6-81e9-385ec817712b",
   "metadata": {},
   "outputs": [
    {
     "name": "stdin",
     "output_type": "stream",
     "text": [
      "Enter string ineuron\n",
      "Enter i value 4\n"
     ]
    },
    {
     "name": "stdout",
     "output_type": "stream",
     "text": [
      "ineron\n"
     ]
    }
   ],
   "source": [
    "def r(s, i):\n",
    "    for j in range(len(s)):\n",
    "        if j==i:\n",
    "            s=s.replace(s[i],\"\",1)\n",
    "    return s\n",
    "s = input(\"Enter string\")\n",
    "i = int(input(\"Enter i value\"))\n",
    "print(r(s,i-1))"
   ]
  },
  {
   "cell_type": "markdown",
   "id": "12e8f3c1-6a97-4b04-a2c8-cbdb462c29de",
   "metadata": {},
   "source": [
    "3.\tWrite a Python program to split and join a string?"
   ]
  },
  {
   "cell_type": "code",
   "execution_count": 7,
   "id": "4d46e41e-4e7b-456a-8fa5-8fdd0c4fe98d",
   "metadata": {},
   "outputs": [
    {
     "name": "stdin",
     "output_type": "stream",
     "text": [
      "enter string 1 to join hi\n",
      "enter string 2 to join .\n",
      "enter string to split on .  bat.man\n"
     ]
    },
    {
     "name": "stdout",
     "output_type": "stream",
     "text": [
      "Joined string is h.i\n",
      "Splitted string ['bat', 'man']\n"
     ]
    }
   ],
   "source": [
    "st=input(\"enter string 1 to join\")\n",
    "s1=input(\"enter string 2 to join\")\n",
    "s2=input(\"enter string to split on . \")\n",
    "print(\"Joined string is\",s1.join(st))\n",
    "print(\"Splitted string\",s2.split(\".\"))"
   ]
  },
  {
   "cell_type": "markdown",
   "id": "92e5e9bf-2f24-42e6-ac6a-f3c7980cdacf",
   "metadata": {},
   "source": [
    "4.\tWrite a Python to check if a given string is binary string or not?"
   ]
  },
  {
   "cell_type": "code",
   "execution_count": 9,
   "id": "a4161f15-b066-4875-92cb-e09d779d3c19",
   "metadata": {},
   "outputs": [
    {
     "name": "stdin",
     "output_type": "stream",
     "text": [
      "enter string 10101\n"
     ]
    },
    {
     "name": "stdout",
     "output_type": "stream",
     "text": [
      "10101  is a Binary String\n"
     ]
    }
   ],
   "source": [
    "def checkbin(ss) :\n",
    "    p = set(ss)\n",
    "    s = {'0', '1'}\n",
    "    if s == p or p == {'0'} or p == {'1'}:\n",
    "        print(ss,\" is a Binary String\")\n",
    "    else :\n",
    "        print(ss, \"is Not a Binary String\")\n",
    "s = input(\"enter string\")\n",
    "checkbin(s)"
   ]
  },
  {
   "cell_type": "code",
   "execution_count": null,
   "id": "1d39dbda-65d9-4459-ad0b-476e25550da2",
   "metadata": {},
   "outputs": [],
   "source": [
    "5.\tWrite a Python program to find uncommon words from two Strings?"
   ]
  },
  {
   "cell_type": "code",
   "execution_count": 10,
   "id": "f2db5f42-18ab-4109-a722-f75431f6e9ba",
   "metadata": {},
   "outputs": [
    {
     "name": "stdin",
     "output_type": "stream",
     "text": [
      "enter string1 Hi I am Pradeepa studying ineuron\n",
      "enter string2 Hi This is Me studying ineuron\n"
     ]
    },
    {
     "name": "stdout",
     "output_type": "stream",
     "text": [
      "['This', 'is', 'Me']\n"
     ]
    }
   ],
   "source": [
    "def fun(s, s1):\n",
    "    ans = [i for i in \"\".join(s1).split() if i not in \"\".join(s).split()]\n",
    "    return ans\n",
    "s = input(\"enter string1\")\n",
    "s1 = input(\"enter string2\")\n",
    "print(fun(s, s1))\n"
   ]
  },
  {
   "cell_type": "code",
   "execution_count": null,
   "id": "08b15168-fefb-46ff-ab1d-b5a745f8fbb7",
   "metadata": {},
   "outputs": [],
   "source": [
    "6.\tWrite a Python to find all duplicate characters in string?"
   ]
  },
  {
   "cell_type": "code",
   "execution_count": 12,
   "id": "29cae171-415a-4a36-9bd4-c7ab7dde0085",
   "metadata": {},
   "outputs": [
    {
     "name": "stdin",
     "output_type": "stream",
     "text": [
      "enter string pradeepa\n"
     ]
    },
    {
     "name": "stdout",
     "output_type": "stream",
     "text": [
      "['p', 'a', 'e']\n"
     ]
    }
   ],
   "source": [
    "s = input(\"enter string\")\n",
    "d = []\n",
    "for i in s:\n",
    "    if s.count(i) > 1:\n",
    "        if i not in d:\n",
    "            d.append(i)\n",
    "print(d)"
   ]
  },
  {
   "cell_type": "code",
   "execution_count": null,
   "id": "f98e34e9-d930-459f-8c1f-f9a324ac24c6",
   "metadata": {},
   "outputs": [],
   "source": [
    "7.\tWrite a Python Program to check if a string contains any special character?"
   ]
  },
  {
   "cell_type": "code",
   "execution_count": 15,
   "id": "f1966b54-1b76-47cd-98b8-db3002187c7c",
   "metadata": {},
   "outputs": [
    {
     "name": "stdin",
     "output_type": "stream",
     "text": [
      "enter a string shaj8989**(\n"
     ]
    },
    {
     "name": "stdout",
     "output_type": "stream",
     "text": [
      "shaj8989**(  String has special characters\n"
     ]
    }
   ],
   "source": [
    "sc = \"!@#$%^&*()-+?_=,<>/'\"\n",
    "s=input(\"enter a string\")\n",
    "if any(c in sc for c in s):\n",
    "    print(s, \" String has special characters\")\n",
    "else:\n",
    "    print(s, \" String has no special characters\")"
   ]
  },
  {
   "cell_type": "code",
   "execution_count": null,
   "id": "23ad7c8f-1586-4185-b9c4-60025aad65e9",
   "metadata": {},
   "outputs": [],
   "source": []
  }
 ],
 "metadata": {
  "kernelspec": {
   "display_name": "Python 3",
   "language": "python",
   "name": "python3"
  },
  "language_info": {
   "codemirror_mode": {
    "name": "ipython",
    "version": 3
   },
   "file_extension": ".py",
   "mimetype": "text/x-python",
   "name": "python",
   "nbconvert_exporter": "python",
   "pygments_lexer": "ipython3",
   "version": "3.8.8"
  }
 },
 "nbformat": 4,
 "nbformat_minor": 5
}
