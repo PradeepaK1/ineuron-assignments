{
 "cells": [
  {
   "cell_type": "markdown",
   "id": "c4b5448f-3366-452f-bab5-0f9f9a903907",
   "metadata": {},
   "source": [
    "1. How do you distinguish between shutil.copy() and shutil.copytree()?"
   ]
  },
  {
   "cell_type": "markdown",
   "id": "8f71ef6e-e67d-484f-bbfe-fcb7269b8af7",
   "metadata": {},
   "source": [
    "shutil is generally used for copying files and folders\n",
    "\n",
    "shutil.copy()\n",
    "\n",
    "Inside the braces will be mentioned source and destination path and the stament willcopy the file from source to destination in the mentioned path\n",
    "\n",
    "shutil.copytree()\n",
    "\n",
    "Here this statement creates a new folder as like the destination folder name and path mentioned and copy all the contents from the source path to the destination created path"
   ]
  },
  {
   "cell_type": "code",
   "execution_count": 3,
   "id": "7a001053-6083-4b12-aee6-429f9e086e19",
   "metadata": {},
   "outputs": [
    {
     "data": {
      "text/plain": [
       "'C:/Users/ptljk/Desktop/ptljkpd/tst.txt'"
      ]
     },
     "execution_count": 3,
     "metadata": {},
     "output_type": "execute_result"
    }
   ],
   "source": [
    "import shutil, os\n",
    "shutil.copy('C:/Users/ptljk/Desktop/ptljkpd/fls.txt', 'C:/Users/ptljk/Desktop/ptljkpd/tst.txt')"
   ]
  },
  {
   "cell_type": "code",
   "execution_count": 5,
   "id": "e932ecef-158b-4901-949b-cd6eb3c4547b",
   "metadata": {},
   "outputs": [
    {
     "data": {
      "text/plain": [
       "'C:/Users/ptljk/Desktop/ptljkpd/test'"
      ]
     },
     "execution_count": 5,
     "metadata": {},
     "output_type": "execute_result"
    }
   ],
   "source": [
    "shutil.copytree('C:/Users/ptljk/Desktop/ptljkpd/fls', 'C:/Users/ptljk/Desktop/ptljkpd/test')"
   ]
  },
  {
   "cell_type": "code",
   "execution_count": null,
   "id": "7a899c7c-6aea-4da9-85bc-91a9dfe02c50",
   "metadata": {},
   "outputs": [],
   "source": [
    "2. What function is used to rename files??"
   ]
  },
  {
   "cell_type": "code",
   "execution_count": null,
   "id": "e115b754-1e2f-4226-9967-1b3edba6cd9b",
   "metadata": {},
   "outputs": [],
   "source": [
    "The method rename from os module is used to rename files"
   ]
  },
  {
   "cell_type": "code",
   "execution_count": 9,
   "id": "0566aa93-85ae-4069-b838-ce4b60b62459",
   "metadata": {},
   "outputs": [],
   "source": [
    "os.rename('C:/Users/ptljk/Desktop/ptljkpd/tst.txt', 'C:/Users/ptljk/Desktop/ptljkpd/test.txt')"
   ]
  },
  {
   "cell_type": "code",
   "execution_count": null,
   "id": "d9842fcf-4695-4f62-ace1-09cde57ce405",
   "metadata": {},
   "outputs": [],
   "source": [
    "3. What is the difference between the delete functions in the send2trash and shutil modules?"
   ]
  },
  {
   "cell_type": "code",
   "execution_count": null,
   "id": "e3964826-dfab-457c-b0b7-0f6a177b19f2",
   "metadata": {},
   "outputs": [],
   "source": [
    "The send2trash functions will move a file or folder to the recycle bin\n",
    "The shutil functions will permanently delete files and folders."
   ]
  },
  {
   "cell_type": "code",
   "execution_count": 10,
   "id": "e3a4a0ed-82bf-488c-b529-a457bc72c399",
   "metadata": {},
   "outputs": [],
   "source": [
    "import send2trash\n",
    "send2trash.send2trash(\"C:/Users/ptljk/Desktop/ptljkpd/test.txt\")"
   ]
  },
  {
   "cell_type": "code",
   "execution_count": 11,
   "id": "1fd8ec54-32a7-4199-814b-b077a51e546b",
   "metadata": {},
   "outputs": [],
   "source": [
    "shutil.rmtree('C:/Users/ptljk/Desktop/ptljkpd/test')"
   ]
  },
  {
   "cell_type": "code",
   "execution_count": null,
   "id": "88905d78-01bf-4d47-969e-8c8927ac5541",
   "metadata": {},
   "outputs": [],
   "source": [
    "4.ZipFile objects have a close() method just like File objects’ close() method. What ZipFile method is equivalent to File objects’ open() method?"
   ]
  },
  {
   "cell_type": "code",
   "execution_count": null,
   "id": "79cacdd0-32c9-4619-bed6-cfe915c8dc33",
   "metadata": {},
   "outputs": [],
   "source": [
    "The similar method to open in file is 'with ZipFile' in zipfile module to read the contents of the mentioned path"
   ]
  },
  {
   "cell_type": "code",
   "execution_count": 15,
   "id": "73db9480-9550-434a-8bae-8e3f05dbef41",
   "metadata": {},
   "outputs": [
    {
     "name": "stdout",
     "output_type": "stream",
     "text": [
      "File Name                                             Modified             Size\n",
      "fls/01. Gratuity claim form.docx               2021-12-21 21:41:14        18724\n",
      "fls/10th Marksheet.pdf                         2021-12-21 18:52:38       893646\n",
      "fls/12th Marksheet.pdf                         2021-12-21 18:52:40       703477\n",
      "fls/Aqua 5.5 VR_20180827_201930.png            2021-12-21 18:40:02        65520\n",
      "fls/Degree Provisional.pdf                     2021-11-26 22:15:06       431682\n",
      "fls/Employee Application Form 2019 Ver1.1.xlsx 2021-12-21 18:35:48       271226\n",
      "fls/IT Policy(1).pdf                           2021-12-21 19:11:18      1015242\n",
      "fls/NEWDeclaration in lieu of Relieving Letter.doc 2021-12-21 18:38:54        33792\n",
      "fls/Pancard.jpeg                               2021-12-21 17:54:34       138649\n",
      "fls/passport.pdf                               2021-12-21 18:50:58       282420\n",
      "fls/Photo.jpg                                  2021-12-21 17:58:00        97997\n",
      "fls/Picture1.png                               2021-12-21 19:05:12        38243\n",
      "fls/Picture2.png                               2021-12-21 19:06:44        39802\n",
      "fls/Picture3.png                               2021-12-21 19:07:52        40742\n",
      "fls/Resignation Acknowledgement.pdf            2021-12-21 17:48:58       499833\n",
      "fls/sign.png                                   2021-12-21 18:41:20        30855\n",
      "Extracting all the files now...\n",
      "Done!\n"
     ]
    }
   ],
   "source": [
    "from zipfile import ZipFile\n",
    "file_name = \"C:/Users/ptljk/Desktop/ptljkpd/fls.zip\"\n",
    "with ZipFile(file_name, 'r') as zip:\n",
    "    zip.printdir()\n",
    "    print('Extracting all the files now...')\n",
    "    zip.extractall()\n",
    "    print('Done!')"
   ]
  },
  {
   "cell_type": "code",
   "execution_count": null,
   "id": "7184c2d6-f495-48dd-8ae3-cb1853d7e76e",
   "metadata": {},
   "outputs": [],
   "source": [
    "5. Create a programme that searches a folder tree for files with a certain file extension (such as .pdf or .jpg). Copy these files from whatever location they are in to a new folder."
   ]
  },
  {
   "cell_type": "code",
   "execution_count": 23,
   "id": "f83612d5-ec04-45b9-b2f2-f8f1920f1e22",
   "metadata": {},
   "outputs": [
    {
     "name": "stdout",
     "output_type": "stream",
     "text": [
      "location:  C:/Users/ptljk/Desktop/ptljkpd\\dunzo.txt\n",
      "location:  C:/Users/ptljk/Desktop/ptljkpd\\fls.txt\n",
      "location:  C:/Users/ptljk/Desktop/ptljkpd\\test.txt\n",
      "location:  C:/Users/ptljk/Desktop/ptljkpd\\text\\dunzo.txt\n",
      "location:  C:/Users/ptljk/Desktop/ptljkpd\\text\\fls.txt\n",
      "location:  C:/Users/ptljk/Desktop/ptljkpd\\text\\test.txt\n"
     ]
    }
   ],
   "source": [
    "for root, dirs, files in os.walk(\"C:/Users/ptljk/Desktop/ptljkpd\"): \n",
    "    for file in files: \n",
    "        if file.endswith('.txt'):\n",
    "            p=os.path.join(root,file) \n",
    "            print ('location: ',p )\n",
    "            shutil.copy(p, \"C:/Users/ptljk/Desktop/ptljkpd/test\")\n"
   ]
  },
  {
   "cell_type": "code",
   "execution_count": null,
   "id": "fece0509-b490-41d3-80a6-fcb301f4356d",
   "metadata": {},
   "outputs": [],
   "source": []
  }
 ],
 "metadata": {
  "kernelspec": {
   "display_name": "Python 3",
   "language": "python",
   "name": "python3"
  },
  "language_info": {
   "codemirror_mode": {
    "name": "ipython",
    "version": 3
   },
   "file_extension": ".py",
   "mimetype": "text/x-python",
   "name": "python",
   "nbconvert_exporter": "python",
   "pygments_lexer": "ipython3",
   "version": "3.8.8"
  }
 },
 "nbformat": 4,
 "nbformat_minor": 5
}
