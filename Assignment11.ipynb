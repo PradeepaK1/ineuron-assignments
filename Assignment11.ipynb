{
 "cells": [
  {
   "cell_type": "markdown",
   "id": "07a8512b-c0df-45c4-ad63-274430e7bb14",
   "metadata": {},
   "source": [
    "1. Create an assert statement that throws an AssertionError if the variable spam is a negative integer."
   ]
  },
  {
   "cell_type": "code",
   "execution_count": 4,
   "id": "6f1c0cf0-4438-48df-9547-286bb47aa0c6",
   "metadata": {},
   "outputs": [
    {
     "name": "stdin",
     "output_type": "stream",
     "text": [
      " -9\n"
     ]
    },
    {
     "name": "stdout",
     "output_type": "stream",
     "text": [
      "The spam variable is negative\n"
     ]
    }
   ],
   "source": [
    "spam=int(input())\n",
    "assert spam <= -1\n",
    "print('The spam variable is negative')"
   ]
  },
  {
   "cell_type": "markdown",
   "id": "ab0678f2-c2bd-4c25-9ef6-fbe675f0cefb",
   "metadata": {},
   "source": [
    "2. Write an assert statement that triggers an AssertionError if the variables eggs and bacon contain strings that are the same as each other, even if their cases are different (that is, 'hello' and 'hello' are considered the same, and 'goodbye' and 'GOODbye' are also considered the same)."
   ]
  },
  {
   "cell_type": "code",
   "execution_count": 6,
   "id": "9cf98ff6-cbd9-4984-b07b-a5a2947044e0",
   "metadata": {},
   "outputs": [
    {
     "name": "stdin",
     "output_type": "stream",
     "text": [
      "enter for eggs hi\n",
      "enter for bacon Hi\n"
     ]
    },
    {
     "ename": "AssertionError",
     "evalue": "eggs and bacon should not be the same",
     "output_type": "error",
     "traceback": [
      "\u001b[1;31m---------------------------------------------------------------------------\u001b[0m",
      "\u001b[1;31mAssertionError\u001b[0m                            Traceback (most recent call last)",
      "\u001b[1;32m<ipython-input-6-c4f6a5d2601d>\u001b[0m in \u001b[0;36m<module>\u001b[1;34m\u001b[0m\n\u001b[0;32m      1\u001b[0m \u001b[0meggs\u001b[0m\u001b[1;33m=\u001b[0m\u001b[0minput\u001b[0m\u001b[1;33m(\u001b[0m\u001b[1;34m\"enter for eggs\"\u001b[0m\u001b[1;33m)\u001b[0m\u001b[1;33m\u001b[0m\u001b[1;33m\u001b[0m\u001b[0m\n\u001b[0;32m      2\u001b[0m \u001b[0mbacon\u001b[0m\u001b[1;33m=\u001b[0m\u001b[0minput\u001b[0m\u001b[1;33m(\u001b[0m\u001b[1;34m\"enter for bacon\"\u001b[0m\u001b[1;33m)\u001b[0m\u001b[1;33m\u001b[0m\u001b[1;33m\u001b[0m\u001b[0m\n\u001b[1;32m----> 3\u001b[1;33m \u001b[1;32massert\u001b[0m \u001b[0meggs\u001b[0m\u001b[1;33m.\u001b[0m\u001b[0mlower\u001b[0m\u001b[1;33m(\u001b[0m\u001b[1;33m)\u001b[0m \u001b[1;33m!=\u001b[0m \u001b[0mbacon\u001b[0m\u001b[1;33m.\u001b[0m\u001b[0mlower\u001b[0m\u001b[1;33m(\u001b[0m\u001b[1;33m)\u001b[0m\u001b[1;33m,\u001b[0m \u001b[1;34m'eggs and bacon should not be the same'\u001b[0m\u001b[1;33m\u001b[0m\u001b[1;33m\u001b[0m\u001b[0m\n\u001b[0m",
      "\u001b[1;31mAssertionError\u001b[0m: eggs and bacon should not be the same"
     ]
    }
   ],
   "source": [
    "eggs=input(\"enter for eggs\")\n",
    "bacon=input(\"enter for bacon\")\n",
    "assert eggs.lower() != bacon.lower(), 'eggs and bacon should not be the same'"
   ]
  },
  {
   "cell_type": "markdown",
   "id": "aad63411-75f2-4c04-bcfd-671498e5de3a",
   "metadata": {},
   "source": [
    "3. Create an assert statement that throws an AssertionError every time."
   ]
  },
  {
   "cell_type": "code",
   "execution_count": 9,
   "id": "44284552-fd41-4f8f-8f5c-75710e34863d",
   "metadata": {},
   "outputs": [
    {
     "ename": "AssertionError",
     "evalue": "Triggers an AssertionError every time.",
     "output_type": "error",
     "traceback": [
      "\u001b[1;31m---------------------------------------------------------------------------\u001b[0m",
      "\u001b[1;31mAssertionError\u001b[0m                            Traceback (most recent call last)",
      "\u001b[1;32m<ipython-input-9-fa47e8eebc5b>\u001b[0m in \u001b[0;36m<module>\u001b[1;34m\u001b[0m\n\u001b[1;32m----> 1\u001b[1;33m \u001b[1;32massert\u001b[0m \u001b[1;32mFalse\u001b[0m\u001b[1;33m,\u001b[0m \u001b[1;34m'Triggers an AssertionError every time.'\u001b[0m\u001b[1;33m\u001b[0m\u001b[1;33m\u001b[0m\u001b[0m\n\u001b[0m",
      "\u001b[1;31mAssertionError\u001b[0m: Triggers an AssertionError every time."
     ]
    }
   ],
   "source": [
    "assert False, 'Triggers an AssertionError every time.'"
   ]
  },
  {
   "cell_type": "code",
   "execution_count": null,
   "id": "07606d1c-a0ec-4316-96b9-51f71f215f97",
   "metadata": {},
   "outputs": [],
   "source": [
    "4. What are the two lines that must be present in your software in order to call logging.debug()?"
   ]
  },
  {
   "cell_type": "code",
   "execution_count": 16,
   "id": "93b13ce3-7e8c-4c64-b97d-dfd0fa6310e2",
   "metadata": {},
   "outputs": [
    {
     "name": "stderr",
     "output_type": "stream",
     "text": [
      " 2022-01-23 12:34:53,190 -DEBUG - message\n"
     ]
    }
   ],
   "source": [
    "import logging\n",
    "logging.basicConfig(level=logging.DEBUG, format=' %(asctime)s -%(levelname)s - %(message)s')\n",
    "logging.debug('message')"
   ]
  },
  {
   "cell_type": "markdown",
   "id": "c0b7727a-9a62-431d-bb02-839f1097272d",
   "metadata": {},
   "source": [
    "5. What are the two lines that your program must have in order to have logging.debug() send a logging message to a file named programLog.txt?"
   ]
  },
  {
   "cell_type": "code",
   "execution_count": 18,
   "id": "77b14577-c0f3-4ba0-8fa6-276743e1e967",
   "metadata": {},
   "outputs": [],
   "source": [
    "logging.basicConfig(filename='programLog.txt', level=logging.DEBUG, format=' %(asctime)s - %(levelname)s - %(message)s')"
   ]
  },
  {
   "cell_type": "markdown",
   "id": "03fd7fea-25a4-4bb4-a9eb-00c8614c4b80",
   "metadata": {},
   "source": [
    "6. What are the five levels of logging?"
   ]
  },
  {
   "cell_type": "markdown",
   "id": "4f6e3e06-2b16-4e0a-9d7d-a60b1d41f306",
   "metadata": {},
   "source": [
    "DEBUG - State of the varible and state of events\n",
    "\n",
    "INFO - State of execution, general points\n",
    "\n",
    "WARNING - Not a serious error but an exception that has occured\n",
    "\n",
    "ERROR - When a program encounters an error this can be used\n",
    "\n",
    "CRITICAL - Fatal errors that will stop program execution or affect the system execution itself then that will be logged"
   ]
  },
  {
   "cell_type": "code",
   "execution_count": 20,
   "id": "ac5bae16-9e06-4de1-b79d-bfafc62657b7",
   "metadata": {},
   "outputs": [
    {
     "name": "stderr",
     "output_type": "stream",
     "text": [
      " 2022-01-23 12:59:54,770 -DEBUG - This is a debug log\n",
      " 2022-01-23 12:59:54,771 -INFO - This is a info log\n",
      " 2022-01-23 12:59:54,772 -WARNING - This is a warning log\n",
      " 2022-01-23 12:59:54,773 -ERROR - This is a error log\n",
      " 2022-01-23 12:59:54,774 -CRITICAL - This is a critical log\n"
     ]
    }
   ],
   "source": [
    "logging.debug('This is a debug log')\n",
    "logging.info('This is a info log') \n",
    "logging.warning('This is a warning log') \n",
    "logging.error('This is a error log') \n",
    "logging.critical('This is a critical log') "
   ]
  },
  {
   "cell_type": "markdown",
   "id": "62617256-039c-4ec1-b185-7513e06fbfd8",
   "metadata": {},
   "source": [
    "7. What line of code would you add to your software to disable all logging messages?"
   ]
  },
  {
   "cell_type": "code",
   "execution_count": 21,
   "id": "ee48e331-4302-4ceb-ad31-0526175c2c0b",
   "metadata": {},
   "outputs": [],
   "source": [
    "logging.disable(logging.DEBUG)"
   ]
  },
  {
   "cell_type": "markdown",
   "id": "0a9a8d33-70c4-4741-8fb1-e52613779d7b",
   "metadata": {},
   "source": [
    "8.Why is using logging messages better than using print() to display the same message?"
   ]
  },
  {
   "cell_type": "markdown",
   "id": "1ae55729-3d81-4e31-9aa4-1dddc3d987e6",
   "metadata": {},
   "source": [
    "Logging messages are better in so many ways\n",
    "- They provide a timestamp while logging\n",
    "- Specific levels of logging can be mentioned\n",
    "- We can disable the logs without editing on logging message codes\n",
    "\n",
    "These all features make logging messages better than print statement"
   ]
  },
  {
   "cell_type": "markdown",
   "id": "b0941ad2-d988-4312-aab1-8fb7cd608814",
   "metadata": {},
   "source": [
    "9. What are the differences between the Step Over, Step In, and Step Out buttons in the debugger?"
   ]
  },
  {
   "cell_type": "markdown",
   "id": "ddaab866-5698-4086-a5fe-de21c5f36c3c",
   "metadata": {},
   "source": [
    "Step Over: This proceeds to the next line of the program, without going into any method calls, used for finding the logic of the code and execution or missing of conditions can be checked\n",
    "\n",
    "Step In: This is same as Step Over with the addition of going into the method calls as well which comes in the way\n",
    "\n",
    "Step Out: This proceeds till a return statement is found, and used for the purpose of wrapping up the control layers"
   ]
  },
  {
   "cell_type": "markdown",
   "id": "92435b62-ed83-4289-9d4f-fb52a12f0fa3",
   "metadata": {},
   "source": [
    "10.After you click Continue, when will the debugger stop ?"
   ]
  },
  {
   "cell_type": "markdown",
   "id": "3df10b5d-2881-42dc-9a20-90f34d4a71b9",
   "metadata": {},
   "source": [
    "Enter q which will quit from the debugger "
   ]
  },
  {
   "cell_type": "markdown",
   "id": "48324ee8-816f-479c-93ac-b41c3e1f02d8",
   "metadata": {},
   "source": [
    "11. What is the concept of a breakpoint?"
   ]
  },
  {
   "cell_type": "markdown",
   "id": "9e86db06-93a6-4c52-ac7f-a826d3c78d00",
   "metadata": {},
   "source": [
    "When we start a debugger and we want to stop at a point to pause and analyse the program we use break point\n",
    "\n",
    "breakpoint can be created on right click -> set Breakpoint and while debugging the execution pauses at that line for observing purposes"
   ]
  },
  {
   "cell_type": "code",
   "execution_count": null,
   "id": "962011f5-e2ab-4049-9543-f43bd3eff8ae",
   "metadata": {},
   "outputs": [],
   "source": []
  }
 ],
 "metadata": {
  "kernelspec": {
   "display_name": "Python 3",
   "language": "python",
   "name": "python3"
  },
  "language_info": {
   "codemirror_mode": {
    "name": "ipython",
    "version": 3
   },
   "file_extension": ".py",
   "mimetype": "text/x-python",
   "name": "python",
   "nbconvert_exporter": "python",
   "pygments_lexer": "ipython3",
   "version": "3.8.8"
  }
 },
 "nbformat": 4,
 "nbformat_minor": 5
}
