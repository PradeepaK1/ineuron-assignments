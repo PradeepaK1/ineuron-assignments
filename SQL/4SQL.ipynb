{
 "cells": [
  {
   "cell_type": "markdown",
   "id": "855bed3a-8db3-4ce6-a9dd-fe06a8d5b9c7",
   "metadata": {},
   "source": [
    "Q-1. Write an SQL query to print the FIRST_NAME from Worker table after replacing ‘a’ with ‘A’."
   ]
  },
  {
   "cell_type": "markdown",
   "id": "23e19adc-d47c-4a22-8e7b-90568050ee70",
   "metadata": {},
   "source": [
    "SELECT REPLACE (FIRST_NAME, 'a', 'A') FROM Worker;"
   ]
  },
  {
   "cell_type": "markdown",
   "id": "1862d120-f1b6-42ed-acdd-b0835c241eb0",
   "metadata": {},
   "source": [
    "Q-2. Write an SQL query to print all Worker details from the Worker table order by FIRST_NAME Ascending and DEPARTMENT Descending."
   ]
  },
  {
   "cell_type": "markdown",
   "id": "a589067b-c170-477a-aa3e-289c68f37410",
   "metadata": {},
   "source": [
    "SELECT * FROM Worker ORDER BY FIRST_NAME ASC, DEPARTMENT DESC;"
   ]
  },
  {
   "cell_type": "markdown",
   "id": "cc95d373-0124-4440-9d56-d5632409ddee",
   "metadata": {},
   "source": [
    "Q-3. Write an SQL query to fetch the names of workers who earn the highest salary."
   ]
  },
  {
   "cell_type": "markdown",
   "id": "3562c477-2c4b-4c6d-bbd9-cf5658c7728d",
   "metadata": {},
   "source": [
    "SELECT name FROM Worker WHERE salary = (SELECT MAX (salary) FROM Worker);"
   ]
  }
 ],
 "metadata": {
  "kernelspec": {
   "display_name": "Python 3",
   "language": "python",
   "name": "python3"
  },
  "language_info": {
   "codemirror_mode": {
    "name": "ipython",
    "version": 3
   },
   "file_extension": ".py",
   "mimetype": "text/x-python",
   "name": "python",
   "nbconvert_exporter": "python",
   "pygments_lexer": "ipython3",
   "version": "3.8.8"
  }
 },
 "nbformat": 4,
 "nbformat_minor": 5
}
