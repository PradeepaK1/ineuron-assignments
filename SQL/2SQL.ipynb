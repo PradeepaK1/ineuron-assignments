{
 "cells": [
  {
   "cell_type": "markdown",
   "id": "4cb37ddd-1105-4ed9-871e-4838261a2b74",
   "metadata": {},
   "source": [
    "Q-1. Write an SQL query to print the first three characters of  FIRST_NAME from Worker table."
   ]
  },
  {
   "cell_type": "markdown",
   "id": "d8bea3e6-3039-4741-9d22-2d198891ad3a",
   "metadata": {},
   "source": [
    "SELECT SUBSTRING (FIRST_NAME, 1, 3) FROM Worker;"
   ]
  },
  {
   "cell_type": "markdown",
   "id": "cd99b183-2641-4a0b-aacb-7636de33e4a2",
   "metadata": {},
   "source": [
    "Q-2. Write an SQL query to find the position of the alphabet (‘a’) in the first name column ‘Amitabh’ from Worker table."
   ]
  },
  {
   "cell_type": "markdown",
   "id": "1c9e1c7b-71d2-4c42-b9f0-2fc4f6c29f53",
   "metadata": {},
   "source": [
    "SELECT POSITION ('a' IN FIRST NAME) FROM Worker WHERE FIRST_NAME = 'Amitabh';"
   ]
  },
  {
   "cell_type": "markdown",
   "id": "8e82da61-0935-4f30-a67b-3e1c3e393268",
   "metadata": {},
   "source": [
    "Q-3. Write an SQL query to print the name of employees having the highest salary in each department."
   ]
  },
  {
   "cell_type": "markdown",
   "id": "f48c445c-d726-4e5f-8af1-cfa24eb6e7e9",
   "metadata": {},
   "source": [
    "SELECT name from Worker WHERE salary = (SELECT MAX (salary) FROM Worker WHERE department = Worker.department;"
   ]
  }
 ],
 "metadata": {
  "kernelspec": {
   "display_name": "Python 3",
   "language": "python",
   "name": "python3"
  },
  "language_info": {
   "codemirror_mode": {
    "name": "ipython",
    "version": 3
   },
   "file_extension": ".py",
   "mimetype": "text/x-python",
   "name": "python",
   "nbconvert_exporter": "python",
   "pygments_lexer": "ipython3",
   "version": "3.8.8"
  }
 },
 "nbformat": 4,
 "nbformat_minor": 5
}
