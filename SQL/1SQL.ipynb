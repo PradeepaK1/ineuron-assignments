{
 "cells": [
  {
   "cell_type": "markdown",
   "id": "db95683f-d246-463d-9055-a41dec6d8633",
   "metadata": {},
   "source": [
    "Q-1. Write an SQL query to fetch “FIRST_NAME” from Worker table using the alias name as <WORKER_NAME>."
   ]
  },
  {
   "cell_type": "markdown",
   "id": "28e091fd-4159-4a44-bb1c-b6ee1a79cc2c",
   "metadata": {},
   "source": [
    "SQL> SELECT FIRST_NAME AS WORKER_NAME FROM WORKER;"
   ]
  },
  {
   "cell_type": "markdown",
   "id": "8ef33cb9-4174-4a94-b8e8-38b0d8c1cda3",
   "metadata": {},
   "source": [
    "Q-2. Write an SQL query to fetch unique values of DEPARTMENT from Worker table. "
   ]
  },
  {
   "cell_type": "markdown",
   "id": "b239c222-50c8-40f4-9326-cf0f7fa92a6b",
   "metadata": {},
   "source": [
    "SQL> SELECT DISTINCT DEPARTMENT FROM WORKER;"
   ]
  },
  {
   "cell_type": "markdown",
   "id": "9b55b3c7-14ef-4324-b3a5-90e5895fb829",
   "metadata": {},
   "source": [
    "Q-3. Write an SQL query to show the last 5 record from a table."
   ]
  },
  {
   "cell_type": "markdown",
   "id": "77c3082a-03c1-43f2-afe8-8c5c10687abf",
   "metadata": {},
   "source": [
    "SQL> SELECT * FROM WORKER ORDER BY ID DESC LIMIT 5;"
   ]
  },
  {
   "cell_type": "code",
   "execution_count": null,
   "id": "9461c29f-2f0f-415d-90f0-65f7071d9859",
   "metadata": {},
   "outputs": [],
   "source": []
  },
  {
   "cell_type": "code",
   "execution_count": null,
   "id": "b5e4327a-325c-4c75-bddd-72abd5b0f879",
   "metadata": {},
   "outputs": [],
   "source": []
  }
 ],
 "metadata": {
  "kernelspec": {
   "display_name": "Python 3",
   "language": "python",
   "name": "python3"
  },
  "language_info": {
   "codemirror_mode": {
    "name": "ipython",
    "version": 3
   },
   "file_extension": ".py",
   "mimetype": "text/x-python",
   "name": "python",
   "nbconvert_exporter": "python",
   "pygments_lexer": "ipython3",
   "version": "3.8.8"
  }
 },
 "nbformat": 4,
 "nbformat_minor": 5
}
