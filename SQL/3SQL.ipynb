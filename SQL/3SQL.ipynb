{
 "cells": [
  {
   "cell_type": "markdown",
   "id": "d1873753-f855-4050-b474-b3e138e36806",
   "metadata": {},
   "source": [
    "Q-1. Write an SQL query to print the FIRST_NAME from Worker table after removing white spaces from the right side."
   ]
  },
  {
   "cell_type": "markdown",
   "id": "0865cac2-dbe3-4829-87e4-968a530db647",
   "metadata": {},
   "source": [
    "SELECT RTRIM (FIRST_NAME) FROM Worker;"
   ]
  },
  {
   "cell_type": "markdown",
   "id": "9ce8b2df-7edf-4263-9ec7-40354fd87aa0",
   "metadata": {},
   "source": [
    "Q-2. Write an SQL query that fetches the unique values of DEPARTMENT from Worker table and prints its length."
   ]
  },
  {
   "cell_type": "markdown",
   "id": "6c6fb8bc-9b90-43ca-b24d-5e41279bec6a",
   "metadata": {},
   "source": [
    "SELECT DISTINCT (DEPARTMENT), LEN (DEPARTMENT) FROM Worker;"
   ]
  },
  {
   "cell_type": "markdown",
   "id": "6dbae158-b0e7-4d82-b67c-6229ede8bb31",
   "metadata": {},
   "source": [
    "Q-3. Write an SQL query to fetch nth max salaries from a table."
   ]
  },
  {
   "cell_type": "markdown",
   "id": "7d77152e-d22a-4b5c-b4cd-8a70d0aff85a",
   "metadata": {},
   "source": [
    "SELECT DISTINCT (salary) FROM Worker ORDER BY salary DESC LIMIT 1 OFFSET n;"
   ]
  }
 ],
 "metadata": {
  "kernelspec": {
   "display_name": "Python 3",
   "language": "python",
   "name": "python3"
  },
  "language_info": {
   "codemirror_mode": {
    "name": "ipython",
    "version": 3
   },
   "file_extension": ".py",
   "mimetype": "text/x-python",
   "name": "python",
   "nbconvert_exporter": "python",
   "pygments_lexer": "ipython3",
   "version": "3.8.8"
  }
 },
 "nbformat": 4,
 "nbformat_minor": 5
}
