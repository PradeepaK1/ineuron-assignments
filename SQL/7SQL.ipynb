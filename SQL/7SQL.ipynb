{
 "cells": [
  {
   "cell_type": "markdown",
   "id": "aba1b2e9-f28a-4629-a070-9a65f2d67154",
   "metadata": {},
   "source": [
    "Q-13. Write an SQL query to show only odd rows from a table."
   ]
  },
  {
   "cell_type": "markdown",
   "id": "d0aca9d7-13a0-4c74-8e00-af5883b66c31",
   "metadata": {},
   "source": [
    "SELECT * FROM Worker Where MOD(id,2) = 1"
   ]
  },
  {
   "cell_type": "markdown",
   "id": "a2d2e447-9aa5-49a4-b295-6dc2716067fd",
   "metadata": {},
   "source": [
    "Q-14. Write an SQL query to clone a new table from another table."
   ]
  },
  {
   "cell_type": "markdown",
   "id": "5e26b9d1-8b5d-4e05-9d84-0364a88a4e6a",
   "metadata": {},
   "source": [
    "CREATE TABLE CloneWorker (\n",
    "\n",
    "    id INT PRIMARY KEY,\n",
    "\n",
    "    FIRST_NAME VARCHAR(50),\n",
    "    \n",
    "    name VARCHAR(50),\n",
    "    \n",
    "    salary INT,\n",
    "    \n",
    "    DEPARTMENT VARCHAR(50),\n",
    "    \n",
    "    JOIN_DATE DATETIME\n",
    "\n",
    ");\n",
    "\n",
    "INSERT INTO clone SELECT * FROM Worker;"
   ]
  }
 ],
 "metadata": {
  "kernelspec": {
   "display_name": "Python 3",
   "language": "python",
   "name": "python3"
  },
  "language_info": {
   "codemirror_mode": {
    "name": "ipython",
    "version": 3
   },
   "file_extension": ".py",
   "mimetype": "text/x-python",
   "name": "python",
   "nbconvert_exporter": "python",
   "pygments_lexer": "ipython3",
   "version": "3.8.8"
  }
 },
 "nbformat": 4,
 "nbformat_minor": 5
}
