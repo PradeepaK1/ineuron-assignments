{
 "cells": [
  {
   "cell_type": "markdown",
   "id": "06722516-47d5-4347-8640-c4a1fa6b1ff9",
   "metadata": {},
   "source": [
    "Q-1. Write an SQL query to print details of the Workers who have joined in Feb’2014."
   ]
  },
  {
   "cell_type": "markdown",
   "id": "f14e7780-d305-4467-93d4-428bb0cf1297",
   "metadata": {},
   "source": [
    "SELECT * FROM Worker WHERE JOIN_DATE LIKE '%2014-02%'"
   ]
  },
  {
   "cell_type": "markdown",
   "id": "d979d5e2-aa9b-4ae7-a8eb-e1cafe5d4735",
   "metadata": {},
   "source": [
    "Q-2. Write an SQL query to fetch duplicate records having matching data in some fields of a table."
   ]
  },
  {
   "cell_type": "markdown",
   "id": "e1b3eab8-3b71-426c-923e-790a9224fa01",
   "metadata": {},
   "source": [
    "SELECT XOLUMN_NAME, COUNT (COLUMN_NAME) FROM Worker GROUP BY FIELD HAVING COUNT (COLUMN_NAME) > 1;"
   ]
  },
  {
   "cell_type": "markdown",
   "id": "86f12b5a-ce0f-4b93-8ed3-61729b825b2f",
   "metadata": {},
   "source": [
    "Q-3. How to remove duplicate rows from Employees table."
   ]
  },
  {
   "cell_type": "markdown",
   "id": "af6bff96-31ab-4821-8621-29e284dfae5e",
   "metadata": {},
   "source": [
    "DELETE Employees.* from Employees INNER JOIN Employee WHERE Employees.id > Employee.id AND Employees.FIRST_NAME = Employee.FIRST_NAME AND Employees.LAST_NAME = Employee.LAST_NAME AND Employees.COUNTRY = Employee.COUNTRY;"
   ]
  }
 ],
 "metadata": {
  "kernelspec": {
   "display_name": "Python 3",
   "language": "python",
   "name": "python3"
  },
  "language_info": {
   "codemirror_mode": {
    "name": "ipython",
    "version": 3
   },
   "file_extension": ".py",
   "mimetype": "text/x-python",
   "name": "python",
   "nbconvert_exporter": "python",
   "pygments_lexer": "ipython3",
   "version": "3.8.8"
  }
 },
 "nbformat": 4,
 "nbformat_minor": 5
}
