{
 "cells": [
  {
   "cell_type": "markdown",
   "id": "6c8aee54-77b4-4606-9ac5-481e491f9990",
   "metadata": {},
   "source": [
    "Q-19. Write an SQL query to determine the 5th highest salary without using TOP or limit method."
   ]
  },
  {
   "cell_type": "markdown",
   "id": "eb6f9a99-e0ca-407f-a3fe-f0f3491a1cd4",
   "metadata": {},
   "source": [
    "SELECT * FROM (SELECT ROW_NUMBER() OVER (ORDER BY salary DESC) AS R_NUM, FIRST_NAME, salary FROM Worker) as h WHERE R_NUM=5;"
   ]
  },
  {
   "cell_type": "markdown",
   "id": "cce3b321-5d65-4010-a15d-4f344a1fa111",
   "metadata": {},
   "source": [
    "Q-20. Write an SQL query to fetch the list of employees with the same salary."
   ]
  },
  {
   "cell_type": "markdown",
   "id": "cf9ef712-e6e5-4eeb-924c-ba89dac01594",
   "metadata": {},
   "source": [
    "SELECT * FROM Worker ORDER BY salary ASC;"
   ]
  }
 ],
 "metadata": {
  "kernelspec": {
   "display_name": "Python 3",
   "language": "python",
   "name": "python3"
  },
  "language_info": {
   "codemirror_mode": {
    "name": "ipython",
    "version": 3
   },
   "file_extension": ".py",
   "mimetype": "text/x-python",
   "name": "python",
   "nbconvert_exporter": "python",
   "pygments_lexer": "ipython3",
   "version": "3.8.8"
  }
 },
 "nbformat": 4,
 "nbformat_minor": 5
}
