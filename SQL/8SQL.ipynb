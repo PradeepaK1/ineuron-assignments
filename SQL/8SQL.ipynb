{
 "cells": [
  {
   "cell_type": "markdown",
   "id": "cfc61277-3d2e-41bb-9fe2-0507e0d9c5e1",
   "metadata": {},
   "source": [
    "Q-15. Write an SQL query to fetch intersecting records of two tables."
   ]
  },
  {
   "cell_type": "markdown",
   "id": "e6f7b5b4-9cf5-4f4b-9427-e35cbbb70463",
   "metadata": {},
   "source": [
    "SELECT COLUMN_NAMES FROM TABLE1 INTERSECT SELECT COLUMN_NAMES FROM TABLE2;"
   ]
  },
  {
   "cell_type": "markdown",
   "id": "be31697f-3f90-403c-8eaf-e0cb923715a7",
   "metadata": {},
   "source": [
    "Q-16. Write an SQL query to show records from one table that another table does not have."
   ]
  },
  {
   "cell_type": "markdown",
   "id": "4613268a-badd-4300-9420-dbb21a7473bd",
   "metadata": {},
   "source": [
    "SELECT * FROM TABLE1 EXCEPT SELECT * FROM TABLE2;"
   ]
  }
 ],
 "metadata": {
  "kernelspec": {
   "display_name": "Python 3",
   "language": "python",
   "name": "python3"
  },
  "language_info": {
   "codemirror_mode": {
    "name": "ipython",
    "version": 3
   },
   "file_extension": ".py",
   "mimetype": "text/x-python",
   "name": "python",
   "nbconvert_exporter": "python",
   "pygments_lexer": "ipython3",
   "version": "3.8.8"
  }
 },
 "nbformat": 4,
 "nbformat_minor": 5
}
