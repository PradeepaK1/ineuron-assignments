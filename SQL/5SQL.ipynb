{
 "cells": [
  {
   "cell_type": "markdown",
   "id": "a8ed5221-ee6d-4e86-9531-163233186dd9",
   "metadata": {},
   "source": [
    "Q-1. Write an SQL query to print details of workers excluding first names, “Vipul” and “Satish” from Worker table."
   ]
  },
  {
   "cell_type": "markdown",
   "id": "b66e6fa7-9b13-4927-b9bb-1d14af448903",
   "metadata": {},
   "source": [
    "SELECT * FROM Worker WHERE FIRST_NAME NOT IN ('Vipul', 'Satish');"
   ]
  },
  {
   "cell_type": "markdown",
   "id": "9554a621-3299-49a5-853e-b74b21dcdb22",
   "metadata": {},
   "source": [
    "Q-2. Write an SQL query to print details of the Workers whose FIRST_NAME ends with ‘h’ and contains six alphabets."
   ]
  },
  {
   "cell_type": "markdown",
   "id": "c5c1e114-4c5f-4b2a-889e-c123c26701d2",
   "metadata": {},
   "source": [
    "SELECT * FROM Worker WHERE FIRST_NAME LIKE '%h';"
   ]
  },
  {
   "cell_type": "markdown",
   "id": "a2867fbc-5214-4c31-9440-cce88ce0d310",
   "metadata": {},
   "source": [
    "Q-3. Write a query to validate Email of Employee."
   ]
  },
  {
   "cell_type": "markdown",
   "id": "5d3aa2e0-9e9e-4e03-b686-9294007b0268",
   "metadata": {},
   "source": [
    "SELECT * FROM Worker WHERE Email LIKE '_%@_%._%';"
   ]
  },
  {
   "cell_type": "code",
   "execution_count": null,
   "id": "59be0cdb-065d-42a9-9c6e-893b222967d2",
   "metadata": {},
   "outputs": [],
   "source": []
  },
  {
   "cell_type": "code",
   "execution_count": null,
   "id": "e63db437-18ca-40c8-9813-e519642a99fd",
   "metadata": {},
   "outputs": [],
   "source": []
  }
 ],
 "metadata": {
  "kernelspec": {
   "display_name": "Python 3",
   "language": "python",
   "name": "python3"
  },
  "language_info": {
   "codemirror_mode": {
    "name": "ipython",
    "version": 3
   },
   "file_extension": ".py",
   "mimetype": "text/x-python",
   "name": "python",
   "nbconvert_exporter": "python",
   "pygments_lexer": "ipython3",
   "version": "3.8.8"
  }
 },
 "nbformat": 4,
 "nbformat_minor": 5
}
