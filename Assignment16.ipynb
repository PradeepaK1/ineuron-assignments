{
 "cells": [
  {
   "cell_type": "markdown",
   "id": "a366e871-6597-43b9-8e82-cd40fa23ed4d",
   "metadata": {},
   "source": [
    "1.Create a list called years_list, starting with the year of your birth, and each year thereafter until the year of your fifth birthday. For example, if you were born in 1980. the list would be years_list = [1980, 1981, 1982, 1983, 1984, 1985]."
   ]
  },
  {
   "cell_type": "code",
   "execution_count": 22,
   "id": "6536f2f0-229e-44fc-bd2f-0391fd703068",
   "metadata": {},
   "outputs": [
    {
     "name": "stdout",
     "output_type": "stream",
     "text": [
      "[1999, 2000, 2001, 2002, 2003]\n"
     ]
    }
   ],
   "source": [
    "years_list=[1999,2000,2001,2002,2003]\n",
    "print(years_list)"
   ]
  },
  {
   "cell_type": "markdown",
   "id": "3f706e00-e183-4864-8971-ad92c996e85f",
   "metadata": {},
   "source": [
    "2.In which year in years_list was your third birthday? Remember, you were 0 years of age for your first year."
   ]
  },
  {
   "cell_type": "code",
   "execution_count": 23,
   "id": "33e1682f-d24d-4581-9c45-513de4cf82e0",
   "metadata": {},
   "outputs": [
    {
     "data": {
      "text/plain": [
       "2002"
      ]
     },
     "execution_count": 23,
     "metadata": {},
     "output_type": "execute_result"
    }
   ],
   "source": [
    "years_list[3]"
   ]
  },
  {
   "cell_type": "markdown",
   "id": "5b530703-a615-4305-abb1-b9bb6d1d0ecf",
   "metadata": {},
   "source": [
    "3.In the years list, which year were you the oldest?"
   ]
  },
  {
   "cell_type": "code",
   "execution_count": 24,
   "id": "cb90b74f-e7ac-4cf6-87e1-9c61578d9caa",
   "metadata": {},
   "outputs": [
    {
     "data": {
      "text/plain": [
       "2003"
      ]
     },
     "execution_count": 24,
     "metadata": {},
     "output_type": "execute_result"
    }
   ],
   "source": [
    "max(years_list)"
   ]
  },
  {
   "cell_type": "markdown",
   "id": "7277e2ef-b9d9-4625-a8be-a8b0ab2eebf5",
   "metadata": {},
   "source": [
    "4.Make a list called things with these three strings as elements: \"mozzarella\", \"cinderella\", \"salmonella\"."
   ]
  },
  {
   "cell_type": "code",
   "execution_count": 25,
   "id": "ad295831-aeb5-4df8-9a05-1d6e1306ba75",
   "metadata": {},
   "outputs": [
    {
     "name": "stdout",
     "output_type": "stream",
     "text": [
      "['mozzarella', 'cinderella', 'salmonella']\n"
     ]
    }
   ],
   "source": [
    "things=[ \"mozzarella\", \"cinderella\", \"salmonella\"]\n",
    "print(things)"
   ]
  },
  {
   "cell_type": "markdown",
   "id": "16b1ffc4-0fc0-4d3d-88cd-6bf0aecea658",
   "metadata": {},
   "source": [
    "5.Capitalize the element in things that refers to a person and then print the list. Did it change the element in the list?"
   ]
  },
  {
   "cell_type": "code",
   "execution_count": 27,
   "id": "05552ca3-25a8-4909-a97e-be6bdabfbe58",
   "metadata": {},
   "outputs": [
    {
     "name": "stdout",
     "output_type": "stream",
     "text": [
      "Mozzarella\n",
      "Cinderella\n",
      "Salmonella\n",
      "['mozzarella', 'cinderella', 'salmonella']\n",
      "No Change in list\n"
     ]
    }
   ],
   "source": [
    "for i in things:\n",
    "    print(i.capitalize())\n",
    "print (things)\n",
    "print(\"No Change in list\")"
   ]
  },
  {
   "cell_type": "markdown",
   "id": "c55f3e3c-1979-4544-aca5-eaed6a76a53e",
   "metadata": {},
   "source": [
    "6.Make a surprise list with the elements \"Groucho,\" \"Chico,\" and \"Harpo.\""
   ]
  },
  {
   "cell_type": "code",
   "execution_count": 28,
   "id": "e7748a0c-51ad-4361-9bb2-c739f8c8b353",
   "metadata": {},
   "outputs": [],
   "source": [
    "surprise = ['Groucho','Chico','Harpo']"
   ]
  },
  {
   "cell_type": "markdown",
   "id": "b7a79bd3-7321-4e36-b887-b441f82f806d",
   "metadata": {},
   "source": [
    "7.Lowercase the last element of the surprise list, reverse it, and then capitalize it."
   ]
  },
  {
   "cell_type": "code",
   "execution_count": 29,
   "id": "93e10547-d2e3-418c-8e91-e943783cd937",
   "metadata": {},
   "outputs": [
    {
     "name": "stdout",
     "output_type": "stream",
     "text": [
      "harpo\n"
     ]
    }
   ],
   "source": [
    "surprise[-1]=surprise[-1].lower()\n",
    "print(surprise[-1])"
   ]
  },
  {
   "cell_type": "code",
   "execution_count": 30,
   "id": "009898a0-8cad-4ad4-b5a2-f21546a74cd0",
   "metadata": {},
   "outputs": [
    {
     "name": "stdout",
     "output_type": "stream",
     "text": [
      "oprah\n"
     ]
    }
   ],
   "source": [
    "s=surprise[-1]\n",
    "surprise[-1]=s[::-1]\n",
    "print(surprise[-1])"
   ]
  },
  {
   "cell_type": "code",
   "execution_count": 31,
   "id": "6b29cb77-ab36-436e-8181-e6d960aac828",
   "metadata": {},
   "outputs": [
    {
     "name": "stdout",
     "output_type": "stream",
     "text": [
      "Oprah\n"
     ]
    }
   ],
   "source": [
    "surprise[-1]=surprise[-1].capitalize()\n",
    "print(surprise[-1])"
   ]
  },
  {
   "cell_type": "markdown",
   "id": "a75c5498-84cc-4408-a303-e56af0b1e9ce",
   "metadata": {},
   "source": [
    "8.Make an English-to-French dictionary called e2f and print it. Here are your starter words: dog is chien, cat is chat, and walrus is morse."
   ]
  },
  {
   "cell_type": "code",
   "execution_count": 32,
   "id": "0008dccb-22fb-4f50-b4f4-520e11f0f62d",
   "metadata": {},
   "outputs": [
    {
     "name": "stdout",
     "output_type": "stream",
     "text": [
      "{'dog': 'chien', 'cat': 'chat', 'walrus': 'morse'}\n"
     ]
    }
   ],
   "source": [
    "e2f={\"dog\" : \"chien\", \"cat\" : \"chat\", \"walrus\" : \"morse\"}\n",
    "print(e2f)"
   ]
  },
  {
   "cell_type": "markdown",
   "id": "09a28503-72fe-43b5-b8d3-2b6bfaa067b8",
   "metadata": {},
   "source": [
    "9.Write the French word for walrus in your three-word dictionary e2f."
   ]
  },
  {
   "cell_type": "code",
   "execution_count": 33,
   "id": "ff19d4a0-5e04-4dcf-a965-fcf7b242bc4d",
   "metadata": {},
   "outputs": [
    {
     "data": {
      "text/plain": [
       "'morse'"
      ]
     },
     "execution_count": 33,
     "metadata": {},
     "output_type": "execute_result"
    }
   ],
   "source": [
    "e2f['walrus']"
   ]
  },
  {
   "cell_type": "markdown",
   "id": "47aa552e-aace-4243-8c50-2fec07e6efe6",
   "metadata": {},
   "source": [
    "10.Make a French-to-English dictionary called f2e from e2f. Use the items method."
   ]
  },
  {
   "cell_type": "code",
   "execution_count": 37,
   "id": "45372d75-5aa1-4315-a4a0-419ea69d368d",
   "metadata": {},
   "outputs": [],
   "source": [
    "f2e=dict((v,k) for k,v in e2f.items())"
   ]
  },
  {
   "cell_type": "markdown",
   "id": "82ba169c-e2a5-42fe-94ec-5d9392c95216",
   "metadata": {},
   "source": [
    "11.Print the English version of the French word chien using f2e."
   ]
  },
  {
   "cell_type": "code",
   "execution_count": 38,
   "id": "0bb50190-7095-4420-b53b-179a18ca74e3",
   "metadata": {},
   "outputs": [
    {
     "data": {
      "text/plain": [
       "'dog'"
      ]
     },
     "execution_count": 38,
     "metadata": {},
     "output_type": "execute_result"
    }
   ],
   "source": [
    "f2e['chien']"
   ]
  },
  {
   "cell_type": "markdown",
   "id": "342f4100-676b-4579-ba68-21f9d4c92c63",
   "metadata": {},
   "source": [
    "12.Make and print a set of English words from the keys in e2f."
   ]
  },
  {
   "cell_type": "code",
   "execution_count": 39,
   "id": "ad53a091-ea3f-42ab-8879-72038f49b1d6",
   "metadata": {},
   "outputs": [
    {
     "data": {
      "text/plain": [
       "dict_keys(['dog', 'cat', 'walrus'])"
      ]
     },
     "execution_count": 39,
     "metadata": {},
     "output_type": "execute_result"
    }
   ],
   "source": [
    "e2f.keys()"
   ]
  },
  {
   "cell_type": "markdown",
   "id": "ef989280-fbf4-4c7e-9775-1528d9c970d7",
   "metadata": {},
   "source": [
    "13.Make a multilevel dictionary called life. Use these strings for the topmost keys: 'animals', 'plants', and 'other'. Make the 'animals' key refer to another dictionary with the keys 'cats', 'octopi', and 'emus'. Make the 'cats' key refer to a list of strings with the values 'Henri', 'Grumpy', and 'Lucy'. Make all the other keys refer to empty dictionaries."
   ]
  },
  {
   "cell_type": "code",
   "execution_count": 40,
   "id": "32069c53-053c-438a-a7cc-dee263c06934",
   "metadata": {},
   "outputs": [],
   "source": [
    "animals={ 'cats':['Henri', 'Grumpy', 'Lucy'], 'octopi':{}, 'emus':{}}  \n",
    "life={'animals':animals, 'plants':{}, 'other':{}}"
   ]
  },
  {
   "cell_type": "markdown",
   "id": "30373893-dd6b-4801-bbf8-b17f7e799636",
   "metadata": {},
   "source": [
    "14.Print the top-level keys of life."
   ]
  },
  {
   "cell_type": "code",
   "execution_count": 41,
   "id": "4ca782df-e596-4f57-9fea-9428e03b979f",
   "metadata": {},
   "outputs": [
    {
     "data": {
      "text/plain": [
       "dict_keys(['animals', 'plants', 'other'])"
      ]
     },
     "execution_count": 41,
     "metadata": {},
     "output_type": "execute_result"
    }
   ],
   "source": [
    "life.keys()"
   ]
  },
  {
   "cell_type": "code",
   "execution_count": null,
   "id": "628f270d-ede9-4a64-bd49-d31609c6253b",
   "metadata": {},
   "outputs": [],
   "source": [
    "15. Print the keys for life['animals']."
   ]
  },
  {
   "cell_type": "code",
   "execution_count": null,
   "id": "cf65ed62-a3cf-4964-8287-086f7031124f",
   "metadata": {},
   "outputs": [],
   "source": [
    "life['animals'].keys()"
   ]
  },
  {
   "cell_type": "code",
   "execution_count": null,
   "id": "001081fb-d431-4173-86f0-ed274fba92b8",
   "metadata": {},
   "outputs": [],
   "source": [
    "16. Print the values for life['animals']['cats']"
   ]
  },
  {
   "cell_type": "code",
   "execution_count": null,
   "id": "160a7b6d-3770-4b82-9a40-1a2e2d381963",
   "metadata": {},
   "outputs": [],
   "source": [
    "life['animals']['cats']"
   ]
  }
 ],
 "metadata": {
  "kernelspec": {
   "display_name": "Python 3",
   "language": "python",
   "name": "python3"
  },
  "language_info": {
   "codemirror_mode": {
    "name": "ipython",
    "version": 3
   },
   "file_extension": ".py",
   "mimetype": "text/x-python",
   "name": "python",
   "nbconvert_exporter": "python",
   "pygments_lexer": "ipython3",
   "version": "3.8.8"
  }
 },
 "nbformat": 4,
 "nbformat_minor": 5
}
