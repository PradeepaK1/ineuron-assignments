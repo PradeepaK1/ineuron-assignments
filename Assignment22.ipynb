{
 "cells": [
  {
   "cell_type": "markdown",
   "id": "d7614568-13b1-4f9b-8d7a-125e352a4423",
   "metadata": {},
   "source": [
    "1.What is the result of the code, and explain?"
   ]
  },
  {
   "cell_type": "code",
   "execution_count": 3,
   "id": "7d3ff769-67d3-4880-bbe6-e08908c3d19b",
   "metadata": {},
   "outputs": [
    {
     "name": "stdout",
     "output_type": "stream",
     "text": [
      "iNeuron\n"
     ]
    }
   ],
   "source": [
    "X = 'iNeuron'\n",
    "def func():\n",
    "    print(X)\n",
    "func()"
   ]
  },
  {
   "cell_type": "markdown",
   "id": "21715e7e-8f2d-4c6d-b0f7-105e38d443df",
   "metadata": {},
   "source": [
    "iNeuron is printed though it is not inside the function block because it is declared in the main block with global scope"
   ]
  },
  {
   "cell_type": "markdown",
   "id": "35e04897-8e67-47c7-bc09-97423fd55052",
   "metadata": {},
   "source": [
    "2.What is the result of the code, and explain?"
   ]
  },
  {
   "cell_type": "code",
   "execution_count": 4,
   "id": "7d70f388-b0f1-452b-aee5-42954f70a314",
   "metadata": {},
   "outputs": [
    {
     "name": "stdout",
     "output_type": "stream",
     "text": [
      "iNeuron\n"
     ]
    }
   ],
   "source": [
    "X = 'iNeuron'\n",
    "def func():\n",
    "    X = 'NI!'\n",
    "func()\n",
    "print(X)"
   ]
  },
  {
   "cell_type": "markdown",
   "id": "1986ed9c-6a86-4c82-8d07-c436a6b1392c",
   "metadata": {},
   "source": [
    "Here again iNeuron is printed and though X is assigned with 'NI!' inside the function block that value is not printed because that variable's scope is within that function only it will not be reflected in global scope so iNeuron is only printed"
   ]
  },
  {
   "cell_type": "markdown",
   "id": "3f5b73ff-2747-4ead-b023-76ab5e1a6970",
   "metadata": {},
   "source": [
    "3.What does this code print, and why?"
   ]
  },
  {
   "cell_type": "code",
   "execution_count": 5,
   "id": "77af1dba-fad9-4050-9b2b-b2398d52889a",
   "metadata": {},
   "outputs": [
    {
     "name": "stdout",
     "output_type": "stream",
     "text": [
      "NI\n",
      "iNeuron\n"
     ]
    }
   ],
   "source": [
    "X = 'iNeuron'\n",
    "def func():\n",
    "    X = 'NI'\n",
    "    print(X)\n",
    "func()\n",
    "print(X)"
   ]
  },
  {
   "cell_type": "markdown",
   "id": "6bd1346a-478f-4ffa-b690-7cd918c9487f",
   "metadata": {},
   "source": [
    "Here we can see both the values of X printed first X in main function block with global scope is 'iNeuron' and second X value is inside function block as 'NI'\n",
    "\n",
    "First NI is printed because we call print(X) within the function itself and as function func() is called first so 'NI' is printed\n",
    "\n",
    "Second 'iNeuron' is printed from X which has the global scope though X is assigned with NI lately but that is removed once function is over as it  is not taken over to main block"
   ]
  },
  {
   "cell_type": "markdown",
   "id": "227a95fc-8d7e-45d5-925f-567c665e9a56",
   "metadata": {},
   "source": [
    "4.What output does this code produce? Why?"
   ]
  },
  {
   "cell_type": "code",
   "execution_count": 7,
   "id": "1b69c37d-f4e2-4af4-93d8-948d533faf92",
   "metadata": {},
   "outputs": [
    {
     "name": "stdout",
     "output_type": "stream",
     "text": [
      "NI\n"
     ]
    }
   ],
   "source": [
    "X = 'iNeuron'\n",
    "def func():\n",
    "    global X\n",
    "    X = 'NI'\n",
    "func()\n",
    "print(X)"
   ]
  },
  {
   "cell_type": "markdown",
   "id": "efacb5c8-fe9e-4984-a91f-e6544d4559d4",
   "metadata": {},
   "source": [
    "Here X value is printed as the one declared inside the function though print statement is called outside the function\n",
    "\n",
    "The reason is we are making X as global in the function block, That is we are making the X variable with global scope though inside function\n",
    "\n",
    "So all the changes inside the function block also will be reflected in the main block as it has global scope"
   ]
  },
  {
   "cell_type": "markdown",
   "id": "67e96626-0775-4ef1-bbf4-b0a8c2d167cc",
   "metadata": {},
   "source": [
    "5.What about this code—what’s the output, and why?"
   ]
  },
  {
   "cell_type": "code",
   "execution_count": 10,
   "id": "05011f03-b266-4618-b7e4-807f2b5f0c34",
   "metadata": {},
   "outputs": [
    {
     "name": "stdout",
     "output_type": "stream",
     "text": [
      "NI\n"
     ]
    },
    {
     "data": {
      "text/plain": [
       "'iNeuron'"
      ]
     },
     "execution_count": 10,
     "metadata": {},
     "output_type": "execute_result"
    }
   ],
   "source": [
    "X = 'iNeuron'\n",
    "def func():\n",
    "    X = 'NI'\n",
    "    def nested():\n",
    "        print(X)\n",
    "    nested()\n",
    "func()\n",
    "X"
   ]
  },
  {
   "cell_type": "markdown",
   "id": "cc9145cb-c1b0-4616-9e43-f3dbf3bf7439",
   "metadata": {},
   "source": [
    "Here first 'NI' is printed which declared inside the func() function block and printed in nested() function block because in the program first func() is called and executed then inside that nested() function is called and executed and X value inside func() block declared X='Ni' is printed\n",
    "\n",
    "Then global scope variable X='iNeuron' is called as X so that is printed secondly"
   ]
  },
  {
   "cell_type": "markdown",
   "id": "106cfe6c-ee48-49a0-b0bf-f4386264d75a",
   "metadata": {},
   "source": [
    "6.How about this code: what is its output in Python 3, and explain?"
   ]
  },
  {
   "cell_type": "code",
   "execution_count": 11,
   "id": "dcb47efc-bd29-45bc-8e03-7aa3d84b32b0",
   "metadata": {},
   "outputs": [
    {
     "name": "stdout",
     "output_type": "stream",
     "text": [
      "Spam\n"
     ]
    }
   ],
   "source": [
    "def func():\n",
    "    X = 'NI'\n",
    "    def nested():\n",
    "        nonlocal X\n",
    "        X = 'Spam'\n",
    "    nested()\n",
    "    print(X)\n",
    "func()"
   ]
  },
  {
   "cell_type": "markdown",
   "id": "0bf0f43d-a984-4570-b417-8a1ec93a9d64",
   "metadata": {},
   "source": [
    "Here the keyword nonlocal helps the variable to bound to nearest scope\n",
    "So near to nonlocal X, X='Spam' is assigned and when printed that 'Spam' is printed"
   ]
  },
  {
   "cell_type": "code",
   "execution_count": null,
   "id": "4315d87f-3095-45fc-8396-2a278c59a405",
   "metadata": {},
   "outputs": [],
   "source": []
  }
 ],
 "metadata": {
  "kernelspec": {
   "display_name": "Python 3",
   "language": "python",
   "name": "python3"
  },
  "language_info": {
   "codemirror_mode": {
    "name": "ipython",
    "version": 3
   },
   "file_extension": ".py",
   "mimetype": "text/x-python",
   "name": "python",
   "nbconvert_exporter": "python",
   "pygments_lexer": "ipython3",
   "version": "3.8.8"
  }
 },
 "nbformat": 4,
 "nbformat_minor": 5
}
