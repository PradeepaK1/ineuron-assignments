{
 "cells": [
  {
   "cell_type": "markdown",
   "id": "e822f4df-f4bd-4838-afaa-8108055cb3b6",
   "metadata": {},
   "source": [
    "1. To what does a relative path refer?"
   ]
  },
  {
   "cell_type": "markdown",
   "id": "9c329684-ba08-4ba4-8002-da48d0c74a1e",
   "metadata": {},
   "source": [
    "Generally a path is used to identify a file or to map to a particular folder to take input or output from the mentioned file or folder\n",
    "\n",
    "There are two types of path absolute and relative path\n",
    "\n",
    "Relative path would be the remaining path which comes after our current working directory, \n",
    "\n",
    "For Example, If we are working in the admin directory\n",
    "\n",
    "then my current directory is C:/users/admin and my relative path is 'kpd/example.txt'"
   ]
  },
  {
   "cell_type": "markdown",
   "id": "7b994bca-b397-4d3a-8870-8c0f025ab7c0",
   "metadata": {},
   "source": [
    "2. What does an absolute path start with your operating system?"
   ]
  },
  {
   "cell_type": "markdown",
   "id": "968d14d8-f366-46c6-9a72-e02291299031",
   "metadata": {},
   "source": [
    "Generally a path is used to identify a file or to map to a particular folder to take input or output from the mentioned file or folder\n",
    "\n",
    "There are two types of path absolute and relative path\n",
    "\n",
    "Absolute path is the complete and exact path to a file or a folder from the directory till the file\n",
    "\n",
    "Eg. 'C:/users/admin/kpd/example.txt'\n",
    "\n",
    "Here the root folder is the c: directory corresponding to operating system directory - Hence to locate exact file path we start absolute path with the operating system directory"
   ]
  },
  {
   "cell_type": "markdown",
   "id": "089d26d8-cb37-412e-8a58-41bf5df42dc9",
   "metadata": {},
   "source": [
    "3. What do the functions os.getcwd() and os.chdir() do?"
   ]
  },
  {
   "cell_type": "markdown",
   "id": "a9555e8f-f6e7-410c-8ea0-b04c59aa33b3",
   "metadata": {},
   "source": [
    "os.getcwd(): \n",
    "    \n",
    "    cwd stands for Current Working Directory. \n",
    "    \n",
    "    This function enables us to see the current working directory\n",
    "\n",
    "os.chdir(): \n",
    "    \n",
    "    chdir stands for Change Directory\n",
    "    \n",
    "    This function enables us to set the current working directory to a path mentioned with in brackets"
   ]
  },
  {
   "cell_type": "code",
   "execution_count": 33,
   "id": "0c6c2018-1a95-4c7d-b988-102751561331",
   "metadata": {},
   "outputs": [
    {
     "name": "stdout",
     "output_type": "stream",
     "text": [
      "C:\\Users\\ptljk\n",
      "C:\\Users\\ptljk\\desktop\n"
     ]
    }
   ],
   "source": [
    "import os\n",
    "print(os.getcwd())\n",
    "os.chdir(\"C:/Users/ptljk/desktop\")\n",
    "print(os.getcwd())"
   ]
  },
  {
   "cell_type": "markdown",
   "id": "635f284b-31e8-4886-afeb-8fd310d7b04a",
   "metadata": {},
   "source": [
    "4. What are the . and .. folders?"
   ]
  },
  {
   "cell_type": "markdown",
   "id": "41c90bf5-3313-4711-a9ea-15eb7f36459e",
   "metadata": {},
   "source": [
    ".. is used to go one folder back from the current working directory, the parent directory\n",
    "\n",
    ". is used to go the current specified it moves to the mentioned folder with the relative path given"
   ]
  },
  {
   "cell_type": "code",
   "execution_count": 34,
   "id": "e6d0bfb2-fa75-4938-8faf-7726f1285219",
   "metadata": {},
   "outputs": [
    {
     "name": "stdout",
     "output_type": "stream",
     "text": [
      "C:\\Users\\ptljk\n",
      "C:\\Users\n",
      "C:\\\n",
      "C:\\Users\\ptljk\n",
      "C:\\Users\\ptljk\\desktop\n"
     ]
    }
   ],
   "source": [
    "import os\n",
    "os.chdir(\"C:/Users/ptljk\")\n",
    "print(os.getcwd())\n",
    "os.chdir(\"..\")\n",
    "print(os.getcwd())\n",
    "os.chdir(\"../..\")\n",
    "print(os.getcwd())\n",
    "os.chdir(\"C:/Users/ptljk\")\n",
    "os.chdir(\".\")\n",
    "print(os.getcwd())\n",
    "os.chdir(\"./desktop\")\n",
    "print(os.getcwd())\n",
    "os.chdir(\"C:/Users/ptljk\")"
   ]
  },
  {
   "cell_type": "markdown",
   "id": "4734fb59-b94c-4012-9c04-028d07d8c1c1",
   "metadata": {},
   "source": [
    "5. In C:\\bacon\\eggs\\spam.txt, which part is the dir name, and which part is the base name"
   ]
  },
  {
   "cell_type": "markdown",
   "id": "ba5f4fb7-afb1-45e3-a123-81083cf973ca",
   "metadata": {},
   "source": [
    "dir name: C:\\bacon\\eggs\\\n",
    "        \n",
    "base name: spam.txt"
   ]
  },
  {
   "cell_type": "markdown",
   "id": "a1481f27-3df8-4833-b72b-dae6d5c37361",
   "metadata": {},
   "source": [
    "6. What are the three “mode” arguments that can be passed to the open() function?"
   ]
  },
  {
   "cell_type": "markdown",
   "id": "98095dae-8cfc-4fab-937a-5bf8ac2e5f61",
   "metadata": {},
   "source": [
    "The three modes are\n",
    "\n",
    "'r' - read mode, where the contents of the file is read and stored for later retrieval\n",
    "\n",
    "'w' - write mode, where the contents of the file is erased and new contents are entered freshly\n",
    "\n",
    "'a' - append mode, where the existing contents are retained and new contents are added to the existing file"
   ]
  },
  {
   "cell_type": "markdown",
   "id": "88548d79-ec88-4773-8404-6f14b7096bd4",
   "metadata": {},
   "source": [
    "7. What happens if an existing file is opened in write mode?"
   ]
  },
  {
   "cell_type": "markdown",
   "id": "3b57149e-b8ee-42a3-ba8c-fad88acc936a",
   "metadata": {},
   "source": [
    "'w' - write mode\n",
    "\n",
    "If a file is opened in write mode the contents of the file is erased and new contents are entered freshly\n",
    "\n",
    "p=\"C:/users/ptljk/desktop/tst.txt'\n",
    "\n",
    "f=open(p,'w')"
   ]
  },
  {
   "cell_type": "markdown",
   "id": "1fb6a4d9-3453-4829-8db1-35188fc6002f",
   "metadata": {},
   "source": [
    "8. How do you tell the difference between read() and readlines()?"
   ]
  },
  {
   "cell_type": "markdown",
   "id": "51c1a385-fa63-4109-bf1c-f93e2d92aafa",
   "metadata": {},
   "source": [
    "read() method returns the entire content of the file as a single string variable. \n",
    "\n",
    "readlines() method returns a strings list, where each string contains a line from the file."
   ]
  },
  {
   "cell_type": "markdown",
   "id": "15960038-253e-4e62-bd6b-96428d694784",
   "metadata": {},
   "source": [
    "9. What data structure does a shelf value resemble?"
   ]
  },
  {
   "cell_type": "code",
   "execution_count": null,
   "id": "36a35a20-7588-45c8-9a28-c817bcc87f8f",
   "metadata": {},
   "outputs": [],
   "source": [
    "A shelf value resembles a dictionary value\n",
    "This contains keys and values"
   ]
  },
  {
   "cell_type": "code",
   "execution_count": 32,
   "id": "85541c36-73a6-4125-ab02-25ad4820379e",
   "metadata": {},
   "outputs": [
    {
     "name": "stdout",
     "output_type": "stream",
     "text": [
      "<shelve.DbfilenameShelf object at 0x00000143882C5250>\n"
     ]
    }
   ],
   "source": [
    "import shelve\n",
    "shfile = shelve.open(\"shelf_file\")\n",
    "l =['a',' b','c']\n",
    "shfile['list']= l\n",
    "print(shfile)\n",
    "shfile.close()"
   ]
  },
  {
   "cell_type": "code",
   "execution_count": null,
   "id": "341d8b0a-a84d-4e3a-a97d-cc422bebb1a3",
   "metadata": {},
   "outputs": [],
   "source": []
  }
 ],
 "metadata": {
  "kernelspec": {
   "display_name": "Python 3",
   "language": "python",
   "name": "python3"
  },
  "language_info": {
   "codemirror_mode": {
    "name": "ipython",
    "version": 3
   },
   "file_extension": ".py",
   "mimetype": "text/x-python",
   "name": "python",
   "nbconvert_exporter": "python",
   "pygments_lexer": "ipython3",
   "version": "3.8.8"
  }
 },
 "nbformat": 4,
 "nbformat_minor": 5
}
