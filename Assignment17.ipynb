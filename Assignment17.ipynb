{
 "cells": [
  {
   "cell_type": "markdown",
   "id": "cac450c4-9efb-404d-980f-6924521aa88b",
   "metadata": {},
   "source": [
    "1.Assign the value 7 to the variable guess_me. Then, write the conditional tests (if, else, and elif) to print the string 'too low' if guess_me is less than 7, 'too high' if greater than 7, and 'just right' if equal to 7."
   ]
  },
  {
   "cell_type": "code",
   "execution_count": 1,
   "id": "d48c3174-f26b-411e-befe-f1c566a720e2",
   "metadata": {},
   "outputs": [
    {
     "name": "stdout",
     "output_type": "stream",
     "text": [
      "just right\n"
     ]
    }
   ],
   "source": [
    "guess_me=7\n",
    "if(guess_me<7):\n",
    "    print('too low')\n",
    "elif(guess_me>7):\n",
    "    print('too high')\n",
    "else:\n",
    "    print('just right')"
   ]
  },
  {
   "cell_type": "markdown",
   "id": "9736961c-8f02-4189-aa9f-22770d2bd2ce",
   "metadata": {},
   "source": [
    "2.Assign the value 7 to the variable guess_me and the value 1 to the variable start. Write a while loop that compares start with guess_me. Print too low if start is less than guess me. If start equals guess_me, print 'found it!' and exit the loop. If start is greater than guess_me, print 'oops' and exit the loop. Increment start at the end of the loop."
   ]
  },
  {
   "cell_type": "code",
   "execution_count": 2,
   "id": "a6acc57c-8e83-4601-9033-bbe77ee3b4e0",
   "metadata": {},
   "outputs": [
    {
     "name": "stdout",
     "output_type": "stream",
     "text": [
      "too low\n"
     ]
    }
   ],
   "source": [
    "guess_me=7\n",
    "start=1\n",
    "while(start<guess_me):\n",
    "    print('too low')\n",
    "    break\n",
    "while(start==guess_me):\n",
    "    print('found it')\n",
    "    break\n",
    "while(start>guess_me):\n",
    "    print('oops')\n",
    "    start+=1"
   ]
  },
  {
   "cell_type": "markdown",
   "id": "c082148e-cc83-4654-b23b-cd40e5a0d80f",
   "metadata": {},
   "source": [
    "3.Print the following values of the list [3, 2, 1, 0] using a for loop."
   ]
  },
  {
   "cell_type": "code",
   "execution_count": 3,
   "id": "c2845356-2db8-48bc-8eba-43cf116553c9",
   "metadata": {},
   "outputs": [
    {
     "name": "stdout",
     "output_type": "stream",
     "text": [
      "3\n",
      "2\n",
      "1\n",
      "0\n"
     ]
    }
   ],
   "source": [
    "l=[3,2,1,0]\n",
    "for i in l:\n",
    "    print(i)"
   ]
  },
  {
   "cell_type": "markdown",
   "id": "3b18d458-e8dd-476b-bbee-2908fa546a3c",
   "metadata": {},
   "source": [
    "4.Use a list comprehension to make a list of the even numbers in range(10)"
   ]
  },
  {
   "cell_type": "code",
   "execution_count": 5,
   "id": "43d9a4c0-d155-43f9-b24c-316738b6ce73",
   "metadata": {},
   "outputs": [
    {
     "name": "stdout",
     "output_type": "stream",
     "text": [
      "[2, 4, 6, 8]\n"
     ]
    }
   ],
   "source": [
    "list_of_even_numbers=[]\n",
    "for i in range(10):\n",
    "    if i%2==0 and i!=0:\n",
    "        list_of_even_numbers.append(i)\n",
    "print(list_of_even_numbers)"
   ]
  },
  {
   "cell_type": "markdown",
   "id": "e93d8c50-44be-4eac-9fb9-3f30c5200898",
   "metadata": {},
   "source": [
    "5.Use a dictionary comprehension to create the dictionary squares. Use range(10) to return the keys, and use the square of each key as its value."
   ]
  },
  {
   "cell_type": "code",
   "execution_count": 10,
   "id": "636166ca-71f3-4915-be97-cc541e793555",
   "metadata": {},
   "outputs": [
    {
     "name": "stdout",
     "output_type": "stream",
     "text": [
      "{0: 0, 1: 1, 2: 4, 3: 9, 4: 16, 5: 25, 6: 36, 7: 49, 8: 64, 9: 81}\n"
     ]
    }
   ],
   "source": [
    "dictionary_squares={}\n",
    "for i in range(10):\n",
    "    j=i*i\n",
    "    dictionary_squares[i]=j\n",
    "print(dictionary_squares)"
   ]
  },
  {
   "cell_type": "markdown",
   "id": "47c0fdeb-97cf-40fd-b9fc-acd07207ee0d",
   "metadata": {},
   "source": [
    "6.Construct the set odd from the odd numbers in the range using a set comprehension (10)."
   ]
  },
  {
   "cell_type": "code",
   "execution_count": 20,
   "id": "a09ef833-4432-47c1-8f3a-f3376c7389c9",
   "metadata": {},
   "outputs": [
    {
     "name": "stdout",
     "output_type": "stream",
     "text": [
      "{1, 3, 5, 7, 9}\n"
     ]
    },
    {
     "data": {
      "text/plain": [
       "set"
      ]
     },
     "execution_count": 20,
     "metadata": {},
     "output_type": "execute_result"
    }
   ],
   "source": [
    "odd_set={}\n",
    "odd_set=set(odd_set)\n",
    "for i in range(10):\n",
    "    if i%2!=0:\n",
    "        odd_set.add(i)\n",
    "print(odd_set)\n",
    "type(odd_set)"
   ]
  },
  {
   "cell_type": "markdown",
   "id": "79eb5180-4a74-43e7-92b5-52746f2f0df5",
   "metadata": {},
   "source": [
    "7.Use a generator comprehension to return the string 'Got ' and a number for the numbers in range(10). Iterate through this by using a for loop."
   ]
  },
  {
   "cell_type": "code",
   "execution_count": 22,
   "id": "b6985f51-1a6b-4090-a68a-e5a6fc96021a",
   "metadata": {},
   "outputs": [
    {
     "name": "stdout",
     "output_type": "stream",
     "text": [
      "Got0\n",
      "Got1\n",
      "Got2\n",
      "Got3\n",
      "Got4\n",
      "Got5\n",
      "Got6\n",
      "Got7\n",
      "Got8\n",
      "Got9\n"
     ]
    }
   ],
   "source": [
    "got_gen=('Got' + str(i) for i in range(10))\n",
    "for j in got_gen:\n",
    "    print(j)"
   ]
  },
  {
   "cell_type": "markdown",
   "id": "9890f60f-55e1-47a4-ab95-740efab224b9",
   "metadata": {},
   "source": [
    "8.Define a function called good that returns the list ['Harry', 'Ron', 'Hermione']."
   ]
  },
  {
   "cell_type": "code",
   "execution_count": 24,
   "id": "8ad609b8-8b8c-47f5-a8a4-97c76f75a4c6",
   "metadata": {},
   "outputs": [
    {
     "data": {
      "text/plain": [
       "['Harry', 'Ron', 'Hermione']"
      ]
     },
     "execution_count": 24,
     "metadata": {},
     "output_type": "execute_result"
    }
   ],
   "source": [
    "def good():\n",
    "    list=['Harry', 'Ron', 'Hermione']\n",
    "    return list\n",
    "good()"
   ]
  },
  {
   "cell_type": "markdown",
   "id": "107c6242-96b7-4493-b7ce-dabbfbed54c2",
   "metadata": {},
   "source": [
    "9.Define a generator function called get_odds that returns the odd numbers from range(10). Use a for loop to find and print the third value returned."
   ]
  },
  {
   "cell_type": "code",
   "execution_count": 30,
   "id": "ab9aaeb8-b4a2-4510-84b1-2d74a852338f",
   "metadata": {},
   "outputs": [
    {
     "data": {
      "text/plain": [
       "5"
      ]
     },
     "execution_count": 30,
     "metadata": {},
     "output_type": "execute_result"
    }
   ],
   "source": [
    "def get_odds():\n",
    "    odds=(i for i in range(10) if i%2!=0)\n",
    "    c=0\n",
    "    for j in odds:\n",
    "        c+=1\n",
    "        if c==3:\n",
    "            return(j)\n",
    "get_odds()"
   ]
  },
  {
   "cell_type": "markdown",
   "id": "5a219590-4eb9-45c2-9846-315f028be48b",
   "metadata": {},
   "source": [
    "10.Define an exception called OopsException. Raise this exception to see what happens. Then write the code to catch this exception and print 'Caught an oops'."
   ]
  },
  {
   "cell_type": "code",
   "execution_count": 32,
   "id": "5ca909b7-8541-4b23-9f23-e2da82c82c96",
   "metadata": {},
   "outputs": [
    {
     "ename": "OopsException",
     "evalue": "",
     "output_type": "error",
     "traceback": [
      "\u001b[1;31m---------------------------------------------------------------------------\u001b[0m",
      "\u001b[1;31mOopsException\u001b[0m                             Traceback (most recent call last)",
      "\u001b[1;32m<ipython-input-32-6d12fc28e0b7>\u001b[0m in \u001b[0;36m<module>\u001b[1;34m\u001b[0m\n\u001b[0;32m      1\u001b[0m \u001b[1;32mclass\u001b[0m \u001b[0mOopsException\u001b[0m\u001b[1;33m(\u001b[0m\u001b[0mException\u001b[0m\u001b[1;33m)\u001b[0m\u001b[1;33m:\u001b[0m\u001b[1;33m\u001b[0m\u001b[1;33m\u001b[0m\u001b[0m\n\u001b[0;32m      2\u001b[0m     \u001b[1;32mpass\u001b[0m\u001b[1;33m\u001b[0m\u001b[1;33m\u001b[0m\u001b[0m\n\u001b[1;32m----> 3\u001b[1;33m \u001b[1;32mraise\u001b[0m \u001b[0mOopsException\u001b[0m\u001b[1;33m\u001b[0m\u001b[1;33m\u001b[0m\u001b[0m\n\u001b[0m",
      "\u001b[1;31mOopsException\u001b[0m: "
     ]
    }
   ],
   "source": [
    "class OopsException(Exception):\n",
    "    pass\n",
    "raise OopsException"
   ]
  },
  {
   "cell_type": "code",
   "execution_count": 38,
   "id": "d4040b9f-b5c2-40c3-95af-c9079e653e33",
   "metadata": {},
   "outputs": [
    {
     "name": "stdin",
     "output_type": "stream",
     "text": [
      " hi\n"
     ]
    },
    {
     "name": "stdout",
     "output_type": "stream",
     "text": [
      "Caught an oops\n"
     ]
    }
   ],
   "source": [
    "class OopsException(Exception):\n",
    "    pass\n",
    "try:\n",
    "    i=input()\n",
    "    if type(i)!='int':\n",
    "        raise OopsException\n",
    "except OopsException as e:\n",
    "    print('Caught an oops')"
   ]
  },
  {
   "cell_type": "markdown",
   "id": "6b955df9-3953-4302-b182-b380331166f1",
   "metadata": {},
   "source": [
    "11.Use zip() to make a dictionary called movies that pairs these lists: titles = ['Creature of Habit', 'Crewel Fate'] and plots = ['A nun turns into a monster', 'A haunted yarn shop'].\n"
   ]
  },
  {
   "cell_type": "code",
   "execution_count": null,
   "id": "4406d7e0-8b96-4405-9bd1-f8543ca44338",
   "metadata": {},
   "outputs": [],
   "source": [
    "titles = ['Creature of Habit', 'Crewel Fate']\n",
    "plots = ['A nun turns into a monster', 'A haunted yarn shop']\n",
    "movies={}\n",
    "for i,j in zip(titles,plots):\n",
    "    movies[i]=j\n",
    "print(movies)\n",
    "type()"
   ]
  }
 ],
 "metadata": {
  "kernelspec": {
   "display_name": "Python 3",
   "language": "python",
   "name": "python3"
  },
  "language_info": {
   "codemirror_mode": {
    "name": "ipython",
    "version": 3
   },
   "file_extension": ".py",
   "mimetype": "text/x-python",
   "name": "python",
   "nbconvert_exporter": "python",
   "pygments_lexer": "ipython3",
   "version": "3.8.8"
  }
 },
 "nbformat": 4,
 "nbformat_minor": 5
}
