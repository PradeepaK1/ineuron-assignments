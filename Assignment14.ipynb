{
 "cells": [
  {
   "cell_type": "markdown",
   "id": "a42c205e-b0f7-4a6b-ba5d-f6b6b56ec760",
   "metadata": {},
   "source": [
    "1.What does RGBA stand for?"
   ]
  },
  {
   "cell_type": "markdown",
   "id": "d8f6723e-5d20-4ec9-859b-6b1f265b7574",
   "metadata": {},
   "source": [
    "RGBA stands for  Red, Green, Blue, and Alpha (or transparency) \n",
    "\n",
    "The RGBA value gives a set of number that gives the measure of RGBA categories in a picture or color"
   ]
  },
  {
   "cell_type": "code",
   "execution_count": 1,
   "id": "61017f05-ab4f-4731-8307-781ded43511f",
   "metadata": {},
   "outputs": [
    {
     "data": {
      "text/plain": [
       "(0, 0, 255, 255)"
      ]
     },
     "execution_count": 1,
     "metadata": {},
     "output_type": "execute_result"
    }
   ],
   "source": [
    "from PIL import ImageColor\n",
    "ImageColor.getcolor('blue', 'RGBA')"
   ]
  },
  {
   "cell_type": "markdown",
   "id": "e0baba61-8b0d-49b9-a9a3-56c429ca9ef8",
   "metadata": {},
   "source": [
    "2.From the Pillow module, how do you get the RGBA value of any images?"
   ]
  },
  {
   "cell_type": "markdown",
   "id": "d397b170-de20-4aac-b865-8ad8128e0a3e",
   "metadata": {},
   "source": [
    "Using get pixel and making it iterate over the limits of width and height of the image will help us to get the list of RGBA values"
   ]
  },
  {
   "cell_type": "code",
   "execution_count": 11,
   "id": "94d445e2-a5ad-4f93-9346-e291e6f341c4",
   "metadata": {},
   "outputs": [
    {
     "name": "stdout",
     "output_type": "stream",
     "text": [
      "[26, 26, 26, 255, 26]\n"
     ]
    }
   ],
   "source": [
    "from PIL import Image\n",
    "imgobj = Image.open('sam.JPG')\n",
    "pixels = imgobj.convert('RGBA')\n",
    "lofpixels = []\n",
    "w = 150\n",
    "h = 53\n",
    "for i in range(w):\n",
    "    for j in range(h):\n",
    "        r,g,b,a = pixels.getpixel((i,j))\n",
    "        lofpixels.append(r)\n",
    "        lofpixels.append(g)\n",
    "        lofpixels.append(b)\n",
    "        lofpixels.append(a)\n",
    "print(lofpixels[0:5])"
   ]
  },
  {
   "cell_type": "markdown",
   "id": "09ada2a8-4535-44b4-926c-3cee1031fe67",
   "metadata": {},
   "source": [
    "3.What is a box tuple, and how does it work?"
   ]
  },
  {
   "cell_type": "markdown",
   "id": "2a950244-89a0-4841-b72c-3415a8b33c3a",
   "metadata": {},
   "source": [
    "Box Tuple is a set of values or arguments, that Pillow methods and functions take.\n",
    "\n",
    "It consists of 4 integer coordinates in an image \n",
    "\n",
    "For example to crop the image we use this box tuple to mention the coordinates"
   ]
  },
  {
   "cell_type": "code",
   "execution_count": 13,
   "id": "e04d077c-0d5d-4ec0-8330-17ae04995c92",
   "metadata": {},
   "outputs": [],
   "source": [
    "i = Image.open('sam.jpg')\n",
    "ii = i.crop((10, 20, 40, 30))\n",
    "ii.save('cropped.png')"
   ]
  },
  {
   "cell_type": "markdown",
   "id": "208569d1-cfd0-43ce-87f7-55187740fc0f",
   "metadata": {},
   "source": [
    "4.Use your image and load in notebook then, How can you find out the width and height of an Image object?"
   ]
  },
  {
   "cell_type": "code",
   "execution_count": 27,
   "id": "fbca9e76-809c-4771-aa2d-425045cf0ad5",
   "metadata": {},
   "outputs": [
    {
     "name": "stdout",
     "output_type": "stream",
     "text": [
      "150  x  53\n"
     ]
    },
    {
     "data": {
      "image/jpeg": "[encoded data removed]",
      "text/plain": [
       "<IPython.core.display.Image object>"
      ]
     },
     "execution_count": 27,
     "metadata": {},
     "output_type": "execute_result"
    }
   ],
   "source": [
    "from IPython.display import Image\n",
    "from PIL import Image as Img\n",
    "i=Img.open('sam.jpg') \n",
    "w = i.width\n",
    "h = i.height\n",
    "print(w,' x ',h)\n",
    "Image(filename='sam.jpg') "
   ]
  },
  {
   "cell_type": "markdown",
   "id": "75b54bbc-cffa-4554-9723-96e8558ac0e0",
   "metadata": {},
   "source": [
    "5.What method would you call to get Image object for a 100×100 image, excluding the lower-left quarter of it?"
   ]
  },
  {
   "cell_type": "code",
   "execution_count": 49,
   "id": "4d347048-75e2-43e0-acb3-9af0b44a1391",
   "metadata": {},
   "outputs": [],
   "source": [
    "from PIL import Image\n",
    "import numpy as np\n",
    "img = Image.open('use.jpg').convert('RGBA')\n",
    "img_arr = np.array(img)\n",
    "img_arr[0 : 100, 0 : 100] = (0.5, 0.5, 0.5,0.5)\n",
    "img = Image.fromarray(img_arr)\n",
    "img.show()\n"
   ]
  },
  {
   "cell_type": "markdown",
   "id": "063ea6f3-d475-4734-bb7f-e6b156c473b0",
   "metadata": {},
   "source": [
    "6.After making changes to an Image object, how could you save it as an image file?"
   ]
  },
  {
   "cell_type": "markdown",
   "id": "e012b528-3376-4c4b-be3d-68d76684625d",
   "metadata": {},
   "source": [
    ".save can be used to save the images after making changes to it"
   ]
  },
  {
   "cell_type": "code",
   "execution_count": 51,
   "id": "36a4b30e-ef21-4ce1-89c8-b7869bf91fd4",
   "metadata": {},
   "outputs": [],
   "source": [
    "im = Image.open(\"use.jpg\")\n",
    "rgb_im = im.convert('RGB')\n",
    "rgb_im.save('use1.jpg')"
   ]
  },
  {
   "cell_type": "markdown",
   "id": "4984a8dc-bc45-488b-93b2-d9e2356e142d",
   "metadata": {},
   "source": [
    "7.What module contains Pillow’s shape-drawing code?"
   ]
  },
  {
   "cell_type": "markdown",
   "id": "a8c259ae-0850-4edb-93f2-11ec5d3bca9e",
   "metadata": {},
   "source": [
    "ImageDraw module in Pillow can help in drawing shapes on the image"
   ]
  },
  {
   "cell_type": "code",
   "execution_count": 59,
   "id": "bb50cf7f-11e5-45dc-9cf9-58f67cafc4d4",
   "metadata": {},
   "outputs": [],
   "source": [
    "from PIL import Image, ImageDraw\n",
    "img = Image.open('hi.jpg')\n",
    "draw = ImageDraw.Draw(img)\n",
    "draw.rectangle(xy = (50, 50, 150, 150),\n",
    "               fill = (0, 127, 0),\n",
    "               outline = (255, 255, 255),\n",
    "               width = 5)\n",
    "img.show()"
   ]
  },
  {
   "cell_type": "markdown",
   "id": "1ac54e46-29b8-43f3-8782-934382357f25",
   "metadata": {},
   "source": [
    "8.Image objects do not have drawing methods. What kind of object does? How do you get this kind of object?"
   ]
  },
  {
   "cell_type": "markdown",
   "id": "3d7ddde2-8493-4c68-8cde-8488fd5d174c",
   "metadata": {},
   "source": [
    "Using the libraries like Image, Drawing we can create drawing drawing methods in Image Objects"
   ]
  },
  {
   "cell_type": "code",
   "execution_count": 65,
   "id": "24bb4dd1-2df1-4a09-bb2e-b0b1c7b00013",
   "metadata": {},
   "outputs": [],
   "source": [
    "from wand.image import Image\n",
    "from wand.drawing import Drawing\n",
    "from wand.color import Color\n",
    "with Drawing() as draw:\n",
    "    with Image(width = 200,\n",
    "            height = 200,\n",
    "            background = Color('green')) as img:\n",
    "        draw(img)\n",
    "        img.save(filename ='empty.gif')\n",
    "from PIL import Image, ImageDraw\n",
    "img = Image.open('empty.gif')\n",
    "img.show()\n"
   ]
  },
  {
   "cell_type": "code",
   "execution_count": null,
   "id": "1578b528-9115-44e3-888b-faa1d9c895b5",
   "metadata": {},
   "outputs": [],
   "source": []
  },
  {
   "cell_type": "code",
   "execution_count": null,
   "id": "ebf06805-9d03-45a9-ba54-acfec5fa693e",
   "metadata": {},
   "outputs": [],
   "source": []
  }
 ],
 "metadata": {
  "kernelspec": {
   "display_name": "Python 3",
   "language": "python",
   "name": "python3"
  },
  "language_info": {
   "codemirror_mode": {
    "name": "ipython",
    "version": 3
   },
   "file_extension": ".py",
   "mimetype": "text/x-python",
   "name": "python",
   "nbconvert_exporter": "python",
   "pygments_lexer": "ipython3",
   "version": "3.8.8"
  }
 },
 "nbformat": 4,
 "nbformat_minor": 5
}
