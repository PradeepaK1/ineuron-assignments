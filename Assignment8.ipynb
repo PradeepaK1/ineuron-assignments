{
 "cells": [
  {
   "cell_type": "code",
   "execution_count": null,
   "id": "02d65d8b-627f-4909-896d-e503b1f1f3b5",
   "metadata": {},
   "outputs": [],
   "source": [
    "1. Is the Python Standard Library included with PyInputPlus?\n",
    "\n",
    "PyInputPlus is not a standard python library but can be installed with this command\n",
    "\n",
    "pip install PyInputPlus, then can be imported"
   ]
  },
  {
   "cell_type": "code",
   "execution_count": null,
   "id": "1fa8dba1-9eb2-41fa-b1bb-f365ce8997ba",
   "metadata": {},
   "outputs": [],
   "source": []
  },
  {
   "cell_type": "code",
   "execution_count": null,
   "id": "fce7f8a1-cce8-44f1-9a42-6d311f709222",
   "metadata": {},
   "outputs": [],
   "source": [
    "2. Why is PyInputPlus commonly imported with import pyinputplus as pypi?\n",
    "\n",
    "There can be two reasons as it is installed using pypi with pip it can be called as pypi\n",
    "\n",
    "Also pyinputplus is so long and hence can be shortened and referred as pypi"
   ]
  },
  {
   "cell_type": "code",
   "execution_count": null,
   "id": "2d19a08a-76ec-4db6-9e7d-82330fd1c37b",
   "metadata": {},
   "outputs": [],
   "source": []
  },
  {
   "cell_type": "code",
   "execution_count": null,
   "id": "6528ac02-36a3-4341-8754-a372013d4366",
   "metadata": {},
   "outputs": [],
   "source": [
    "3.How do you distinguish between inputInt() and inputFloat()?\n",
    "\n",
    "inputInt() gets an integer input otherwise says invalid\n",
    "\n",
    "inputFloat() gets an float input otherwise says invalid\n"
   ]
  },
  {
   "cell_type": "code",
   "execution_count": null,
   "id": "0aa116ae-cf07-421a-9fba-01f0ffc745b4",
   "metadata": {},
   "outputs": [],
   "source": []
  },
  {
   "cell_type": "markdown",
   "id": "c61bb04e-ff90-4973-8a23-a7d3e4338a78",
   "metadata": {},
   "source": [
    "4.Using PyInputPlus, how do you ensure that the user enters a whole number between 0 and 99?\n",
    "\n",
    "import pyinputplus as pyin\n",
    "\n",
    "input2 = pyin.inputInt(\"Enter value between 0 to 99: \",\n",
    "                      min=0, lessThan = 99)\n",
    "\n",
    "print(\"Valid value between 0 to 99 is: \", input2)"
   ]
  },
  {
   "cell_type": "code",
   "execution_count": null,
   "id": "38792970-96de-4307-af3f-5893442575a0",
   "metadata": {},
   "outputs": [],
   "source": []
  },
  {
   "cell_type": "markdown",
   "id": "84746caf-0844-45ba-931c-8ed8b9b69fa6",
   "metadata": {},
   "source": [
    "5.What is transferred to the keyword arguments allowRegexes and blockRegexes?\n",
    "\n",
    "allowRegexes will accept certain inputs as valid ones with prior specification\n",
    "\n",
    "blockRegexes will reject certain specified inputs as invalid ones based on prior declaration"
   ]
  },
  {
   "cell_type": "code",
   "execution_count": null,
   "id": "b0cfac8b-7543-480b-90c1-c628238c2285",
   "metadata": {},
   "outputs": [],
   "source": []
  },
  {
   "cell_type": "markdown",
   "id": "50925b57-f154-4321-99dc-d128d0c785fe",
   "metadata": {},
   "source": [
    "6.If a blank input is entered three times, what does inputStr(limit=3) do?\n",
    "\n",
    "Blank values are not allowed.\n",
    "\n",
    "Blank values are not allowed.\n",
    "\n",
    "Blank values are not allowed.\n",
    "\n",
    "ValidationException: Blank values are not allowed.\n",
    "\n",
    "During handling of the above exception, another exception occurred:\n",
    "\n",
    "RetryLimitException     "
   ]
  },
  {
   "cell_type": "code",
   "execution_count": null,
   "id": "317b5912-7de8-4ab1-bfd0-e8aa3daf4434",
   "metadata": {},
   "outputs": [],
   "source": []
  },
  {
   "cell_type": "markdown",
   "id": "924e3d7b-129a-413e-9819-12ad7efe53da",
   "metadata": {},
   "source": [
    "7.If blank input is entered three times, what does inputStr(limit=3, default='hello') do?\n",
    "\n",
    "Blank values are not allowed.\n",
    "\n",
    " \n",
    "\n",
    "Blank values are not allowed.\n",
    "\n",
    " \n",
    "\n",
    "Blank values are not allowed.\n",
    "\n",
    "No exception as default value (incase of blank is taken as the input)"
   ]
  },
  {
   "cell_type": "code",
   "execution_count": null,
   "id": "640c7a71-a53f-4ec3-a4d9-6b1c224f7482",
   "metadata": {},
   "outputs": [],
   "source": []
  }
 ],
 "metadata": {
  "kernelspec": {
   "display_name": "Python 3",
   "language": "python",
   "name": "python3"
  },
  "language_info": {
   "codemirror_mode": {
    "name": "ipython",
    "version": 3
   },
   "file_extension": ".py",
   "mimetype": "text/x-python",
   "name": "python",
   "nbconvert_exporter": "python",
   "pygments_lexer": "ipython3",
   "version": "3.8.8"
  }
 },
 "nbformat": 4,
 "nbformat_minor": 5
}
