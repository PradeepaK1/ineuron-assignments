{
 "cells": [
  {
   "cell_type": "markdown",
   "id": "4469f0bf-3d13-4f18-a502-9bc5f3209518",
   "metadata": {},
   "source": [
    "1.Make a class called Thing with no contents and print it. Then, create an object called example from this class and also print it. Are the printed values the same or different?"
   ]
  },
  {
   "cell_type": "code",
   "execution_count": 11,
   "id": "7e2089f0-861a-4a0c-8202-4cc217526ac7",
   "metadata": {},
   "outputs": [
    {
     "name": "stdout",
     "output_type": "stream",
     "text": [
      "<class '__main__.Thing'>\n"
     ]
    }
   ],
   "source": [
    "class Thing:\n",
    "    pass\n",
    "print(Thing)"
   ]
  },
  {
   "cell_type": "code",
   "execution_count": 14,
   "id": "26275b1a-a7c7-474c-9759-499827218c5a",
   "metadata": {},
   "outputs": [
    {
     "name": "stdout",
     "output_type": "stream",
     "text": [
      "<__main__.Thing object at 0x0000011E874902E0>\n"
     ]
    }
   ],
   "source": [
    "class Thing:\n",
    "    pass\n",
    "example=Thing()\n",
    "print(example)"
   ]
  },
  {
   "cell_type": "code",
   "execution_count": 15,
   "id": "7bd3913c-0a7e-4db3-b317-4de3c3e512c4",
   "metadata": {},
   "outputs": [
    {
     "name": "stdout",
     "output_type": "stream",
     "text": [
      "Things is a Class and example is an object is printed\n"
     ]
    }
   ],
   "source": [
    "print(\"Things is a Class and example is an object is printed\")"
   ]
  },
  {
   "cell_type": "markdown",
   "id": "dc82a894-3d6c-46e4-8314-21498dc02ea4",
   "metadata": {},
   "source": [
    "2.Create a new class called Thing2 and add the value 'abc' to the letters class attribute. Letters should be printed."
   ]
  },
  {
   "cell_type": "code",
   "execution_count": 19,
   "id": "60b9e1d1-cd01-48fe-991b-3b0a8be80ef7",
   "metadata": {},
   "outputs": [
    {
     "name": "stdout",
     "output_type": "stream",
     "text": [
      "abc\n"
     ]
    }
   ],
   "source": [
    "class Thing2:\n",
    "    letters='abc'\n",
    "print(Thing2.letters)"
   ]
  },
  {
   "cell_type": "markdown",
   "id": "485f83cb-fd92-47cb-9fb3-1c6b4bc278dd",
   "metadata": {},
   "source": [
    "3.Make yet another class called, of course, Thing3. This time, assign the value 'xyz' to an instance (object) attribute called letters. Print letters. Do you need to make an object from the class to do this?"
   ]
  },
  {
   "cell_type": "code",
   "execution_count": 21,
   "id": "d1cd65f9-6c5e-4c05-8ac8-7bf0b18c2911",
   "metadata": {},
   "outputs": [
    {
     "name": "stdout",
     "output_type": "stream",
     "text": [
      "xyz\n",
      "Not necessary to create an object like previous itself can be done\n"
     ]
    }
   ],
   "source": [
    "class Thing2:\n",
    "    letters='xyz'\n",
    "l=Thing2()\n",
    "print(l.letters)\n",
    "print(\"Not necessary to create an object like previous itself can be done\")"
   ]
  },
  {
   "cell_type": "markdown",
   "id": "e92a281f-696f-4b49-bff4-f35166e97cb0",
   "metadata": {},
   "source": [
    "4.Create an Element class with the instance attributes name, symbol, and number. Create a class object with the values 'Hydrogen,' 'H,' and 1."
   ]
  },
  {
   "cell_type": "code",
   "execution_count": 27,
   "id": "672de36a-7142-4b96-b334-1e6a03578951",
   "metadata": {},
   "outputs": [
    {
     "name": "stdout",
     "output_type": "stream",
     "text": [
      "Hydrogen H 1\n"
     ]
    }
   ],
   "source": [
    "class Element:\n",
    "    def __init__(self,name,symbol,number):\n",
    "        self.name=name\n",
    "        self.symbol=symbol\n",
    "        self.number=number\n",
    "        print(self.name,self.symbol,self.number)\n",
    "e=Element('Hydrogen','H',1)"
   ]
  },
  {
   "cell_type": "markdown",
   "id": "30f53601-948d-4e1f-a4db-cc149610a731",
   "metadata": {},
   "source": [
    "5.Make a dictionary with these keys and values: 'name': 'Hydrogen', 'symbol': 'H', 'number': 1. Then, create an object called hydrogen from class Element using this dictionary."
   ]
  },
  {
   "cell_type": "code",
   "execution_count": 28,
   "id": "0e65bfe6-bacd-4604-afb1-0e1d18509fb1",
   "metadata": {},
   "outputs": [
    {
     "name": "stdout",
     "output_type": "stream",
     "text": [
      "Hydrogen H 1\n"
     ]
    }
   ],
   "source": [
    "dictionary={'name': 'Hydrogen', 'symbol': 'H', 'number': 1}\n",
    "obj=Element(**dictionary)"
   ]
  },
  {
   "cell_type": "markdown",
   "id": "2a7cfbfa-db8f-4781-b34b-b8a36861f90d",
   "metadata": {},
   "source": [
    "6.For the Element class, define a method called dump() that prints the values of the object’s attributes (name, symbol, and number). Create the hydrogen object from this new definition and use dump() to print its attributes."
   ]
  },
  {
   "cell_type": "code",
   "execution_count": 34,
   "id": "33be1134-37de-46a9-be22-f6488e35c8ac",
   "metadata": {},
   "outputs": [
    {
     "name": "stdout",
     "output_type": "stream",
     "text": [
      "Hydrogen H 1\n"
     ]
    }
   ],
   "source": [
    "class Element:\n",
    "    def __init__(self,name,symbol,number):\n",
    "        self.name=name\n",
    "        self.symbol=symbol\n",
    "        self.number=number\n",
    "    def dump(self):\n",
    "        print(self.name,self.symbol,self.number)\n",
    "hydrogen=Element('Hydrogen','H',1)\n",
    "hydrogen.dump()"
   ]
  },
  {
   "cell_type": "markdown",
   "id": "42912e5f-f034-4a80-854f-a2fd145c2ab6",
   "metadata": {},
   "source": [
    "7.Call print(hydrogen). In the definition of Element, change the name of method dump to __str__, create a new hydrogen object, and call print(hydrogen) again."
   ]
  },
  {
   "cell_type": "code",
   "execution_count": 36,
   "id": "d75aafd3-512f-4636-b528-d37caf1e4121",
   "metadata": {},
   "outputs": [
    {
     "name": "stdout",
     "output_type": "stream",
     "text": [
      "<__main__.Element object at 0x0000011E874DA250>\n"
     ]
    }
   ],
   "source": [
    "class Element:\n",
    "    def __init__(self,name,symbol,number):\n",
    "        self.name=name\n",
    "        self.symbol=symbol\n",
    "        self.number=number\n",
    "    def dump(self):\n",
    "        print(self.name,self.symbol,self.number)\n",
    "hydrogen=Element('Hydrogen','H',1)\n",
    "print(hydrogen)"
   ]
  },
  {
   "cell_type": "code",
   "execution_count": 41,
   "id": "b1d24bb8-5f6b-4e74-bcec-02dd723792e2",
   "metadata": {},
   "outputs": [
    {
     "name": "stdout",
     "output_type": "stream",
     "text": [
      "Hydrogen,H,1\n"
     ]
    }
   ],
   "source": [
    "class Element:\n",
    "    def __init__(self,name,symbol,number):\n",
    "        self.name=name\n",
    "        self.symbol=symbol\n",
    "        self.number=number\n",
    "    def __str__(self):\n",
    "        return \"{},{},{}\".format(self.name,self.symbol,self.number)\n",
    "hydrogen=Element('Hydrogen','H',1)\n",
    "print(hydrogen)"
   ]
  },
  {
   "cell_type": "markdown",
   "id": "8ba5adcb-3ccc-4c05-8397-b9cf800738b5",
   "metadata": {},
   "source": [
    "8.Modify Element to make the attributes name, symbol, and number private. Define a getter property for each to return its value."
   ]
  },
  {
   "cell_type": "code",
   "execution_count": 44,
   "id": "656643c1-dd24-4d87-af1a-cdcc4098e6e5",
   "metadata": {},
   "outputs": [
    {
     "name": "stdout",
     "output_type": "stream",
     "text": [
      "Hydrogen H 1\n"
     ]
    }
   ],
   "source": [
    "class Element:\n",
    "    def __init__(self,name,symbol,number):\n",
    "        self.__name__=name\n",
    "        self.__symbol__=symbol\n",
    "        self.__number__=number\n",
    "    @property\n",
    "    def name(self):\n",
    "        return self.__name__\n",
    "    @property\n",
    "    def symbol(self):\n",
    "        return self.__symbol__\n",
    "    @property\n",
    "    def number(self):\n",
    "        return self.__number__\n",
    "hydrogen=Element('Hydrogen','H',1)\n",
    "print(hydrogen.name, hydrogen.symbol,hydrogen.number)"
   ]
  },
  {
   "cell_type": "markdown",
   "id": "b13514c4-77ae-4180-bc0e-c23cdeb92fc1",
   "metadata": {},
   "source": [
    "9.Define three classes: Bear, Rabbit, and Octothorpe. For each, define only one method: eats(). This should return 'berries' (Bear), 'clover' (Rabbit), or 'campers' (Octothorpe). Create one object from each and print what it eats."
   ]
  },
  {
   "cell_type": "code",
   "execution_count": 47,
   "id": "f66f98e2-abdb-4538-b09a-caa1b0c5c319",
   "metadata": {},
   "outputs": [
    {
     "name": "stdout",
     "output_type": "stream",
     "text": [
      "berries\n",
      "clover\n",
      "campers\n"
     ]
    }
   ],
   "source": [
    "class Bear:\n",
    "    def eats():\n",
    "        return \"berries\"\n",
    "class Rabbit:\n",
    "    def eats():\n",
    "        return \"clover\"\n",
    "class Octothrope:\n",
    "    def eats():\n",
    "        return \"campers\"\n",
    "b=Bear.eats()\n",
    "r=Rabbit.eats()\n",
    "o=Octothrope.eats()\n",
    "print(b)\n",
    "print(r)\n",
    "print(o)"
   ]
  },
  {
   "cell_type": "markdown",
   "id": "42ae801d-62a3-46ec-9b0d-fec75d492ada",
   "metadata": {},
   "source": [
    "10.Define these classes: Laser, Claw, and SmartPhone. Each has only one method: does(). This returns 'disintegrate' (Laser), 'crush' (Claw), or 'ring' (SmartPhone). Then, define the class Robot that has one instance (object) of each of these. Define a does() method for the Robot that prints what its component objects do."
   ]
  },
  {
   "cell_type": "code",
   "execution_count": 49,
   "id": "e6dce7f6-c941-4c67-badc-c1725ace4862",
   "metadata": {},
   "outputs": [
    {
     "name": "stdout",
     "output_type": "stream",
     "text": [
      "disintegrate crush ring\n"
     ]
    }
   ],
   "source": [
    "class Laser:\n",
    "    def does(self):\n",
    "        return 'disintegrate'\n",
    "class Claw:\n",
    "    def does(self):\n",
    "        return 'crush'\n",
    "class SmartPhone:\n",
    "    def does(self):\n",
    "        return 'ring'\n",
    "class Robot:\n",
    "    def __init__(self,laser,claw,smartphone):\n",
    "        self.laser=laser\n",
    "        self.claw=claw\n",
    "        self.smartphone=smartphone\n",
    "    def does(self):\n",
    "        print(self.laser.does(),self.claw.does(),self.smartphone.does())\n",
    "laser=Laser()\n",
    "claw=Claw()\n",
    "smartphone=SmartPhone()\n",
    "robot=Robot(laser,claw,smartphone)\n",
    "robot.does()"
   ]
  },
  {
   "cell_type": "code",
   "execution_count": null,
   "id": "6b4daf3c-897f-45e8-b3fa-f71f538fbd64",
   "metadata": {},
   "outputs": [],
   "source": []
  }
 ],
 "metadata": {
  "kernelspec": {
   "display_name": "Python 3",
   "language": "python",
   "name": "python3"
  },
  "language_info": {
   "codemirror_mode": {
    "name": "ipython",
    "version": 3
   },
   "file_extension": ".py",
   "mimetype": "text/x-python",
   "name": "python",
   "nbconvert_exporter": "python",
   "pygments_lexer": "ipython3",
   "version": "3.8.8"
  }
 },
 "nbformat": 4,
 "nbformat_minor": 5
}
