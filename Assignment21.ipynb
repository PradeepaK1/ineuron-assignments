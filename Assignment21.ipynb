{
 "cells": [
  {
   "cell_type": "markdown",
   "id": "05f10918-f438-4f62-a8fb-5d98bc899237",
   "metadata": {},
   "source": [
    "1.Add the current date to the text file today.txt as a string."
   ]
  },
  {
   "cell_type": "code",
   "execution_count": 16,
   "id": "81ecf807-a848-450f-981d-a680c2f1932b",
   "metadata": {},
   "outputs": [
    {
     "name": "stdout",
     "output_type": "stream",
     "text": [
      "2022-02-05\n"
     ]
    }
   ],
   "source": [
    "from datetime import date\n",
    "f= \"today.txt\" \n",
    "d=date.today()\n",
    "d1=d.isoformat()\n",
    "with open(f, \"w\") as file:\n",
    "    file.write(d1)\n",
    "file1 = open(\"today.txt\",\"r+\") \n",
    "print(file1.read())"
   ]
  },
  {
   "cell_type": "markdown",
   "id": "3c77c260-ef44-4aeb-a89d-b3e10fcafbf4",
   "metadata": {},
   "source": [
    "2.Read the text file today.txt into the string today_string"
   ]
  },
  {
   "cell_type": "code",
   "execution_count": 23,
   "id": "868ddd63-6fc9-4451-9980-9808813103ae",
   "metadata": {},
   "outputs": [
    {
     "data": {
      "text/plain": [
       "'2022-02-05'"
      ]
     },
     "execution_count": 23,
     "metadata": {},
     "output_type": "execute_result"
    }
   ],
   "source": [
    "with open('today.txt','r') as file:\n",
    "    today_string=file.read()\n",
    "today_string"
   ]
  },
  {
   "cell_type": "code",
   "execution_count": null,
   "id": "59e841d0-23de-4116-957b-96dcd4fa2146",
   "metadata": {},
   "outputs": [],
   "source": [
    "3. Parse the date from today_string."
   ]
  },
  {
   "cell_type": "code",
   "execution_count": 25,
   "id": "4ddb20b5-062d-48d9-bf90-25b613427e7b",
   "metadata": {},
   "outputs": [
    {
     "data": {
      "text/plain": [
       "datetime.datetime(2022, 1, 5, 0, 2)"
      ]
     },
     "execution_count": 25,
     "metadata": {},
     "output_type": "execute_result"
    }
   ],
   "source": [
    "from datetime import datetime\n",
    "datetime.strptime(today_string,'%Y-%M-%d')"
   ]
  },
  {
   "cell_type": "code",
   "execution_count": null,
   "id": "828cef8c-3ea4-448c-8bb0-79ea42cc076b",
   "metadata": {},
   "outputs": [],
   "source": [
    "4. List the files in your current directory"
   ]
  },
  {
   "cell_type": "code",
   "execution_count": 26,
   "id": "bbd805a9-89d9-4880-978d-5e702b56e31d",
   "metadata": {},
   "outputs": [
    {
     "data": {
      "text/plain": [
       "['-1.14-windows.xml',\n",
       " '.atom',\n",
       " '.conda',\n",
       " '.condarc',\n",
       " '.continuum',\n",
       " '.ipynb_checkpoints',\n",
       " '.ipython',\n",
       " '.jupyter',\n",
       " '.keras',\n",
       " '.kivy',\n",
       " '.matplotlib',\n",
       " '.pipwin',\n",
       " '.streamlit',\n",
       " '.vscode',\n",
       " '3D Objects',\n",
       " 'Abracadabra-to-make-objects-disappear-using-opencv-in-python-master',\n",
       " 'Abstract.txt',\n",
       " 'anaconda3',\n",
       " 'AppData',\n",
       " 'Application Data',\n",
       " 'Assignment1.ipynb',\n",
       " 'Assignment10.ipynb',\n",
       " 'Assignment10_pp.ipynb',\n",
       " 'Assignment11.ipynb',\n",
       " 'Assignment11_pp.ipynb',\n",
       " 'Assignment12.ipynb',\n",
       " 'Assignment12_pp.ipynb',\n",
       " 'Assignment13.ipynb',\n",
       " 'Assignment13_pp.ipynb',\n",
       " 'Assignment14.ipynb',\n",
       " 'Assignment15.ipynb',\n",
       " 'Assignment16.ipynb',\n",
       " 'Assignment17.ipynb',\n",
       " 'Assignment18.ipynb',\n",
       " 'Assignment19.ipynb',\n",
       " 'Assignment1_pp.ipynb',\n",
       " 'Assignment2.ipynb',\n",
       " 'Assignment20.ipynb',\n",
       " 'Assignment21.ipynb',\n",
       " 'Assignment22.ipynb',\n",
       " 'Assignment23.ipynb',\n",
       " 'Assignment2_pp.ipynb',\n",
       " 'Assignment3.ipynb',\n",
       " 'Assignment3_pp.ipynb',\n",
       " 'Assignment4.ipynb',\n",
       " 'Assignment4_pp.ipynb',\n",
       " 'Assignment5.ipynb',\n",
       " 'Assignment5_pp.ipynb',\n",
       " 'Assignment6.ipynb',\n",
       " 'Assignment6_pp.ipynb',\n",
       " 'Assignment7.ipynb',\n",
       " 'Assignment7_pp.ipynb',\n",
       " 'Assignment8.ipynb',\n",
       " 'Assignment8_pp.ipynb',\n",
       " 'Assignment9.ipynb',\n",
       " 'Assignment9_pp.ipynb',\n",
       " 'beef dataset',\n",
       " 'beef1',\n",
       " 'blkchn.py',\n",
       " 'blkchn.txt',\n",
       " 'blocks.py',\n",
       " 'books.csv',\n",
       " 'books.db',\n",
       " 'bookss.db',\n",
       " 'changed2.wav',\n",
       " 'chk.py',\n",
       " 'Contacts',\n",
       " 'Cookies',\n",
       " 'cropped.png',\n",
       " 'Demo full.mp4',\n",
       " 'Desktop',\n",
       " 'Documents',\n",
       " 'Downloads',\n",
       " 'E-RECYCLER-WEBAPP-main',\n",
       " 'empty.gif',\n",
       " 'Envision-the-Titatnic-Climax-with-Matplotlib-Numpy-Pandas-master',\n",
       " 'example.mp4',\n",
       " 'EXAMPLES folder',\n",
       " 'Favorites',\n",
       " 'fls',\n",
       " 'Github Copilot helped in debugging like a autopilot in aircraft.docx',\n",
       " 'hi.jpg',\n",
       " 'ImageMagick-7.1.0-21-Q16-HDRI-x64-dll.exe',\n",
       " 'IN12 DIVA_CODERS.pptx',\n",
       " 'IN12-DIVA_CODERS-master.zip',\n",
       " 'IntelGraphicsProfiles',\n",
       " 'library-data',\n",
       " 'Links',\n",
       " 'Local Settings',\n",
       " 'Meat-Adulteration-Detection-Using-TF-and-CNN-master',\n",
       " 'MEAT-ADULTERATION-DETECTOR-USING-OPENCV-master',\n",
       " 'Music',\n",
       " 'music-carnatic',\n",
       " 'My Documents',\n",
       " 'Natural-Language-Processing---simple-simulation-master',\n",
       " 'NetHood',\n",
       " 'new.jpg',\n",
       " 'node_modules',\n",
       " 'notes1',\n",
       " 'notes2',\n",
       " 'NTUSER.DAT',\n",
       " 'ntuser.dat.LOG1',\n",
       " 'ntuser.dat.LOG2',\n",
       " 'NTUSER.DAT{1c2b59c6-c5f5-11eb-bacb-000d3a96488e}.TM.blf',\n",
       " 'NTUSER.DAT{1c2b59c6-c5f5-11eb-bacb-000d3a96488e}.TMContainer00000000000000000001.regtrans-ms',\n",
       " 'NTUSER.DAT{1c2b59c6-c5f5-11eb-bacb-000d3a96488e}.TMContainer00000000000000000002.regtrans-ms',\n",
       " 'ntuser.ini',\n",
       " 'OneDrive',\n",
       " 'package-lock.json',\n",
       " 'package.json',\n",
       " 'Pictures',\n",
       " 'pipwin',\n",
       " 'PRADEEPA K - RESUME',\n",
       " 'PRADEEPA K - RESUME.pdf',\n",
       " 'PRADEEPA K.pdf',\n",
       " 'primeng-master',\n",
       " 'PrintHood',\n",
       " 'progamLog.txt',\n",
       " 'proj.py',\n",
       " 'project.py',\n",
       " 'PycharmProjects',\n",
       " 'README.md',\n",
       " 'Recent',\n",
       " 'rock-paper-scissor-master',\n",
       " 'sam.jpg',\n",
       " 'sample.csv',\n",
       " 'SampleTestFile.wav',\n",
       " 'Saved Games',\n",
       " 'Searches',\n",
       " 'SendTo',\n",
       " 'shelf_file.bak',\n",
       " 'shelf_file.dat',\n",
       " 'shelf_file.dir',\n",
       " 'simple-blockchain-master',\n",
       " 'Start Menu',\n",
       " 'Templates',\n",
       " 'test.txt',\n",
       " 'today.txt',\n",
       " 'Tracing',\n",
       " 'tst.py',\n",
       " 'unad.2.PNG',\n",
       " 'Untitled.ipynb',\n",
       " 'Untitled1.ipynb',\n",
       " 'Untitled2.ipynb',\n",
       " 'Untitled4.ipynb',\n",
       " 'use.jpg',\n",
       " 'use1.jpg',\n",
       " 'Videos',\n",
       " 'zoo.py',\n",
       " '_netrc',\n",
       " '__pycache__']"
      ]
     },
     "execution_count": 26,
     "metadata": {},
     "output_type": "execute_result"
    }
   ],
   "source": [
    "import os\n",
    "os.listdir('.')"
   ]
  },
  {
   "cell_type": "markdown",
   "id": "48e7dd6b-3532-4c29-a098-f67663b1e8de",
   "metadata": {},
   "source": [
    "5.Create a list of all of the files in your parent directory (minimum five files should be available)."
   ]
  },
  {
   "cell_type": "code",
   "execution_count": 27,
   "id": "d79b55a1-b3f6-4722-9294-003a0cd6d230",
   "metadata": {},
   "outputs": [
    {
     "name": "stdout",
     "output_type": "stream",
     "text": [
      "['-1.14-windows.xml', '.atom', '.conda', '.condarc', '.continuum', '.ipynb_checkpoints', '.ipython', '.jupyter', '.keras', '.kivy', '.matplotlib', '.pipwin', '.streamlit', '.vscode', '3D Objects', 'Abracadabra-to-make-objects-disappear-using-opencv-in-python-master', 'Abstract.txt', 'anaconda3', 'AppData', 'Application Data', 'Assignment1.ipynb', 'Assignment10.ipynb', 'Assignment10_pp.ipynb', 'Assignment11.ipynb', 'Assignment11_pp.ipynb', 'Assignment12.ipynb', 'Assignment12_pp.ipynb', 'Assignment13.ipynb', 'Assignment13_pp.ipynb', 'Assignment14.ipynb', 'Assignment15.ipynb', 'Assignment16.ipynb', 'Assignment17.ipynb', 'Assignment18.ipynb', 'Assignment19.ipynb', 'Assignment1_pp.ipynb', 'Assignment2.ipynb', 'Assignment20.ipynb', 'Assignment21.ipynb', 'Assignment22.ipynb', 'Assignment23.ipynb', 'Assignment2_pp.ipynb', 'Assignment3.ipynb', 'Assignment3_pp.ipynb', 'Assignment4.ipynb', 'Assignment4_pp.ipynb', 'Assignment5.ipynb', 'Assignment5_pp.ipynb', 'Assignment6.ipynb', 'Assignment6_pp.ipynb', 'Assignment7.ipynb', 'Assignment7_pp.ipynb', 'Assignment8.ipynb', 'Assignment8_pp.ipynb', 'Assignment9.ipynb', 'Assignment9_pp.ipynb', 'beef dataset', 'beef1', 'blkchn.py', 'blkchn.txt', 'blocks.py', 'books.csv', 'books.db', 'bookss.db', 'changed2.wav', 'chk.py', 'Contacts', 'Cookies', 'cropped.png', 'Demo full.mp4', 'Desktop', 'Documents', 'Downloads', 'E-RECYCLER-WEBAPP-main', 'empty.gif', 'Envision-the-Titatnic-Climax-with-Matplotlib-Numpy-Pandas-master', 'example.mp4', 'EXAMPLES folder', 'Favorites', 'fls', 'Github Copilot helped in debugging like a autopilot in aircraft.docx', 'hi.jpg', 'ImageMagick-7.1.0-21-Q16-HDRI-x64-dll.exe', 'IN12 DIVA_CODERS.pptx', 'IN12-DIVA_CODERS-master.zip', 'IntelGraphicsProfiles', 'library-data', 'Links', 'Local Settings', 'Meat-Adulteration-Detection-Using-TF-and-CNN-master', 'MEAT-ADULTERATION-DETECTOR-USING-OPENCV-master', 'Music', 'music-carnatic', 'My Documents', 'Natural-Language-Processing---simple-simulation-master', 'NetHood', 'new.jpg', 'node_modules', 'notes1', 'notes2', 'NTUSER.DAT', 'ntuser.dat.LOG1', 'ntuser.dat.LOG2', 'NTUSER.DAT{1c2b59c6-c5f5-11eb-bacb-000d3a96488e}.TM.blf', 'NTUSER.DAT{1c2b59c6-c5f5-11eb-bacb-000d3a96488e}.TMContainer00000000000000000001.regtrans-ms', 'NTUSER.DAT{1c2b59c6-c5f5-11eb-bacb-000d3a96488e}.TMContainer00000000000000000002.regtrans-ms', 'ntuser.ini', 'OneDrive', 'package-lock.json', 'package.json', 'Pictures', 'pipwin', 'PRADEEPA K - RESUME', 'PRADEEPA K - RESUME.pdf', 'PRADEEPA K.pdf', 'primeng-master', 'PrintHood', 'progamLog.txt', 'proj.py', 'project.py', 'PycharmProjects', 'README.md', 'Recent', 'rock-paper-scissor-master', 'sam.jpg', 'sample.csv', 'SampleTestFile.wav', 'Saved Games', 'Searches', 'SendTo', 'shelf_file.bak', 'shelf_file.dat', 'shelf_file.dir', 'simple-blockchain-master', 'Start Menu', 'Templates', 'test.txt', 'today.txt', 'Tracing', 'tst.py', 'unad.2.PNG', 'Untitled.ipynb', 'Untitled1.ipynb', 'Untitled2.ipynb', 'Untitled4.ipynb', 'use.jpg', 'use1.jpg', 'Videos', 'zoo.py', '_netrc', '__pycache__']\n"
     ]
    }
   ],
   "source": [
    "list=os.listdir('.')\n",
    "print(list)"
   ]
  },
  {
   "cell_type": "markdown",
   "id": "2d6d588a-60e1-4baa-ba30-2cda8474f9e2",
   "metadata": {},
   "source": [
    "6.Use multiprocessing to create three separate processes. Make each one wait a random number of seconds between one and five, print the current time, and then exit."
   ]
  },
  {
   "cell_type": "code",
   "execution_count": 34,
   "id": "7f6d7be2-9659-4bb3-8282-4fd72ea5add3",
   "metadata": {},
   "outputs": [],
   "source": [
    "import multiprocessing\n",
    "from datetime import datetime\n",
    "from time import sleep\n",
    "import random\n",
    "def sec(s):\n",
    "    sleep(s)\n",
    "    print('wait for', s, 'now time is', datetime.utcnow())\n",
    "if __name__ == '__main__':\n",
    "    for i in range(3):\n",
    "        s=random.random()\n",
    "        mp=multiprocessing.Process(target=sec,args=(s,))\n",
    "        mp.start()"
   ]
  },
  {
   "cell_type": "code",
   "execution_count": 35,
   "id": "d9fee7a9-3381-4ce0-b5a2-4cb6c5e1cf53",
   "metadata": {},
   "outputs": [
    {
     "name": "stdout",
     "output_type": "stream",
     "text": [
      "wait for 0.10013545167865179 now time is 2022-02-05 07:53:36.610951\n",
      "wait for 0.22545517947739613 now time is 2022-02-05 07:53:36.737354\n",
      "wait for 0.587850253661947 now time is 2022-02-05 07:53:37.094005\n"
     ]
    }
   ],
   "source": [
    "!python file.py"
   ]
  },
  {
   "cell_type": "code",
   "execution_count": null,
   "id": "f7bf277f-ab59-4005-b11c-09ee000d0dbc",
   "metadata": {},
   "outputs": [],
   "source": [
    "7. Create a date object of your day of birth."
   ]
  },
  {
   "cell_type": "code",
   "execution_count": 36,
   "id": "35f8d7b4-0c36-447c-a541-b9bb1b1249af",
   "metadata": {},
   "outputs": [
    {
     "data": {
      "text/plain": [
       "datetime.date(1999, 11, 21)"
      ]
     },
     "execution_count": 36,
     "metadata": {},
     "output_type": "execute_result"
    }
   ],
   "source": [
    "dobj=date(1999,11,21)\n",
    "dobj"
   ]
  },
  {
   "cell_type": "code",
   "execution_count": null,
   "id": "363344cd-531f-490b-ab26-a5f332c4c3e2",
   "metadata": {},
   "outputs": [],
   "source": [
    "8. What day of the week was your day of birth?"
   ]
  },
  {
   "cell_type": "code",
   "execution_count": 42,
   "id": "6e056bbf-f7ab-4219-bc8a-3d060eb90d94",
   "metadata": {},
   "outputs": [
    {
     "data": {
      "text/plain": [
       "'Sunday'"
      ]
     },
     "execution_count": 42,
     "metadata": {},
     "output_type": "execute_result"
    }
   ],
   "source": [
    "import calendar\n",
    "da=dobj.weekday()\n",
    "calendar.day_name[da]"
   ]
  },
  {
   "cell_type": "code",
   "execution_count": null,
   "id": "c1060bd7-fa05-4cfa-b4ca-f6282812bf0a",
   "metadata": {},
   "outputs": [],
   "source": [
    "9. When will you be (or when were you) 10,000 days old?"
   ]
  },
  {
   "cell_type": "code",
   "execution_count": 43,
   "id": "8a1d9186-9664-429d-9c2c-b76b35cf784e",
   "metadata": {},
   "outputs": [
    {
     "name": "stdout",
     "output_type": "stream",
     "text": [
      "2027-04-08\n"
     ]
    }
   ],
   "source": [
    "from datetime import timedelta\n",
    "daft=dobj+timedelta(days=10000)\n",
    "print(daft)"
   ]
  },
  {
   "cell_type": "code",
   "execution_count": null,
   "id": "5f173476-e0e5-44a2-899a-be254ed746bc",
   "metadata": {},
   "outputs": [],
   "source": []
  }
 ],
 "metadata": {
  "kernelspec": {
   "display_name": "Python 3",
   "language": "python",
   "name": "python3"
  },
  "language_info": {
   "codemirror_mode": {
    "name": "ipython",
    "version": 3
   },
   "file_extension": ".py",
   "mimetype": "text/x-python",
   "name": "python",
   "nbconvert_exporter": "python",
   "pygments_lexer": "ipython3",
   "version": "3.8.8"
  }
 },
 "nbformat": 4,
 "nbformat_minor": 5
}
