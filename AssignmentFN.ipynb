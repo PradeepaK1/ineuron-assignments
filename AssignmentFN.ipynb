{
 "cells": [
  {
   "cell_type": "markdown",
   "id": "fe3dad93-2e3a-432f-8a23-3696e6ea3de5",
   "metadata": {},
   "source": [
    "Assignment - 1"
   ]
  },
  {
   "cell_type": "code",
   "execution_count": 27,
   "id": "17816d70-ac04-4f76-ab86-f390fd8117bf",
   "metadata": {},
   "outputs": [],
   "source": [
    "originalString = \"placement\"\n",
    "replaceString = \"screening\"\n",
    "#originalString = input()\n",
    "#replaceString = input()\n",
    "#To take input from user\n",
    "def functionToReplaceString(originalString,replaceString):\n",
    "    with open('example.txt', 'r+') as file :\n",
    "        con = file.read()\n",
    "    if originalString in con: \n",
    "        con = con.replace(originalString, replaceString)\n",
    "        with open('example.txt', 'w+') as file:\n",
    "            file.write(con)\n",
    "    else:\n",
    "        print(\"Enter a string from the file\")\n",
    "functionToReplaceString(originalString,replaceString)"
   ]
  },
  {
   "cell_type": "markdown",
   "id": "a9fc2349-5cef-4c2b-989c-bef31a829c19",
   "metadata": {},
   "source": [
    "Abstract Class:\n",
    "    Abstract classes in Python are used to define a blueprint to the upcoming classes it cannot be self instantiated, but other child classses can be inherited from the Abstract Class\n",
    "Example:"
   ]
  },
  {
   "cell_type": "code",
   "execution_count": 28,
   "id": "b97cdd22-6871-4a0f-b6ca-83a6554d6f61",
   "metadata": {},
   "outputs": [
    {
     "name": "stdout",
     "output_type": "stream",
     "text": [
      "Pradeepa   K  \tRs.  1000000 \n",
      "\n",
      "Prasanth   K  \tRs.  500000 \n",
      "\n"
     ]
    }
   ],
   "source": [
    "from abc import ABC, abstractmethod\n",
    "class Candidate(ABC):\n",
    "    def __init__(self, Name, Initial):\n",
    "        self.Name = Name\n",
    "        self.Initial = Initial\n",
    "    @property\n",
    "    def name(self):\n",
    "        return f\"{self.Name} {self.Initial}\"\n",
    "    @abstractmethod\n",
    "    def package(self):\n",
    "        pass\n",
    "class Intern(Candidate):\n",
    "    def __init__(self, Name, Initial, package):\n",
    "        super().__init__(Name, Initial)\n",
    "        self.package = package\n",
    "    def package(self):\n",
    "        return self.package\n",
    "class FulltimeEmployee(Candidate):\n",
    "    def __init__(self, Name, Initial, package):\n",
    "        super().__init__(Name, Initial)\n",
    "        self.package = package\n",
    "    def package(self):\n",
    "        return self.package\n",
    "class Salary:\n",
    "    def __init__(self):\n",
    "        self.Candidates = []\n",
    "    def add(self, candidate):\n",
    "        self.Candidates.append(candidate)\n",
    "    def print(self):\n",
    "        for i in self.Candidates:\n",
    "            print(i.Name,\" \",i.Initial,\" \\t\" + \"Rs. \",i.package,\"\\n\")\n",
    "\n",
    "\n",
    "salary = Salary()\n",
    "\n",
    "salary.add(FulltimeEmployee('Pradeepa', 'K', 1000000))\n",
    "salary.add(Intern('Prasanth', 'K', 500000))\n",
    "\n",
    "salary.print()"
   ]
  },
  {
   "cell_type": "markdown",
   "id": "5c316665-5757-437c-b7ec-5b3d62a06ab5",
   "metadata": {},
   "source": [
    "Multiple Inheritance:\n",
    "    Multiple inheritance in Python means that the child class inherits the characteristics of more than one parent\n",
    "    One child has many parents\n",
    "Example:"
   ]
  },
  {
   "cell_type": "code",
   "execution_count": 29,
   "id": "571b3455-9d2c-471d-9acf-e7e3e117dae7",
   "metadata": {},
   "outputs": [
    {
     "name": "stdout",
     "output_type": "stream",
     "text": [
      "Python faciliates Data Science easily\n",
      "Java faciliates Application Development easily\n",
      "Programming is fun\n"
     ]
    }
   ],
   "source": [
    "class Python():\n",
    "    def DataScience(self):\n",
    "        print(\"Python faciliates Data Science easily\")\n",
    "class Java():\n",
    "    def ApplicationDev(self):\n",
    "        print(\"Java faciliates Application Development easily\")\n",
    "class Languages(Python, Java):\n",
    "    def Programming(self):\n",
    "        print(\"Programming is fun\")\n",
    "a = Languages()\n",
    "a.DataScience()\n",
    "a.ApplicationDev()\n",
    "a.Programming()"
   ]
  },
  {
   "cell_type": "markdown",
   "id": "558cb7ec-6614-4409-b056-d470774cac2a",
   "metadata": {},
   "source": [
    "Decorators:\n",
    "    Decorators in Python are used to alter the behavior of a function by wrapping it up\n",
    "    The function is wrapped in a wrapper and modified without affecting the original definition\n",
    "Example:"
   ]
  },
  {
   "cell_type": "code",
   "execution_count": 30,
   "id": "923391dd-9d41-4c0d-8431-00a6cdbee625",
   "metadata": {},
   "outputs": [
    {
     "name": "stdout",
     "output_type": "stream",
     "text": [
      "I am outside the decorator function\n",
      "I am inside the decorator function\n",
      "I am outside the decorator function\n"
     ]
    }
   ],
   "source": [
    "def decorated(x):\n",
    "    def fun():\n",
    "        print(\"I am inside the decorator function\")\n",
    "        x()\n",
    "    return fun\n",
    "def notDecorated():\n",
    "    print(\"I am outside the decorator function\")\n",
    "    \n",
    "notDecorated()\n",
    "Decorated = decorated(notDecorated)\n",
    "Decorated()"
   ]
  },
  {
   "cell_type": "code",
   "execution_count": null,
   "id": "335b6f19-f9af-4026-9915-4154862d7406",
   "metadata": {},
   "outputs": [],
   "source": []
  }
 ],
 "metadata": {
  "kernelspec": {
   "display_name": "Python 3",
   "language": "python",
   "name": "python3"
  },
  "language_info": {
   "codemirror_mode": {
    "name": "ipython",
    "version": 3
   },
   "file_extension": ".py",
   "mimetype": "text/x-python",
   "name": "python",
   "nbconvert_exporter": "python",
   "pygments_lexer": "ipython3",
   "version": "3.8.8"
  }
 },
 "nbformat": 4,
 "nbformat_minor": 5
}
