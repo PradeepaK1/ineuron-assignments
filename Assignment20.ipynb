{
 "cells": [
  {
   "cell_type": "markdown",
   "id": "ac7911de-1f05-493d-b384-5f180635ded8",
   "metadata": {},
   "source": [
    "1.Set the variable test1 to the string 'This is a test of the emergency text system,' and save test1 to a file named test.txt."
   ]
  },
  {
   "cell_type": "code",
   "execution_count": 5,
   "id": "58e2f125-9bb4-4008-9699-19c9dffb84e2",
   "metadata": {},
   "outputs": [],
   "source": [
    "test1='This is a test of the emergency text system,'\n",
    "f=open('test.txt','w')\n",
    "with open('test.txt','w') as f:\n",
    "    f.write(test1)\n",
    "f.close()"
   ]
  },
  {
   "cell_type": "markdown",
   "id": "2bbc7d86-98cc-447b-a13e-5d555d3c9dc7",
   "metadata": {},
   "source": [
    "2.Read the contents of the file test.txt into the variable test2. Is there a difference between test 1 and test 2?"
   ]
  },
  {
   "cell_type": "code",
   "execution_count": 6,
   "id": "ed4d93b1-792f-4c26-820a-f3cef662cccd",
   "metadata": {},
   "outputs": [
    {
     "name": "stdout",
     "output_type": "stream",
     "text": [
      "This is a test of the emergency text system,\n"
     ]
    }
   ],
   "source": [
    "with open('test.txt','r+') as f:\n",
    "    test2=f.read()\n",
    "print(test2)"
   ]
  },
  {
   "cell_type": "markdown",
   "id": "70f020f2-3078-4e3d-aa53-d0bd8ad8221a",
   "metadata": {},
   "source": [
    "3.Create a CSV file called books.csv by using these lines:\n",
    "title,author,year\n",
    "The Weirdstone of Brisingamen,Alan Garner,1960\n",
    "Perdido Street Station,China Miéville,2000\n",
    "Thud!,Terry Pratchett,2005\n",
    "The Spellman Files,Lisa Lutz,2007\n",
    "Small Gods,Terry Pratchett,1992"
   ]
  },
  {
   "cell_type": "code",
   "execution_count": 8,
   "id": "afe07748-ef35-45d0-ae84-b0abbd942d34",
   "metadata": {},
   "outputs": [],
   "source": [
    "import csv\n",
    "c=['title','author','year']\n",
    "r=[['The Weirdstone of Brisingamen','Alan Garner',1960],\n",
    "['Perdido Street Station','China Miéville',2000],\n",
    "['Thud!','Terry Pratchett',2005],\n",
    "['The Spellman Files','Lisa Lutz',2007],\n",
    "['Small Gods','Terry Pratchett',1992]]\n",
    "file=\"books.csv\"\n",
    "with open(file,'w') as f:\n",
    "    csvw=csv.writer(f)\n",
    "    csvw.writerow(c)\n",
    "    csvw.writerows(r)"
   ]
  },
  {
   "cell_type": "markdown",
   "id": "b95cefd6-24bf-43ee-91c3-5b5d581b8faf",
   "metadata": {},
   "source": [
    "4.Use the sqlite3 module to create a SQLite database called books.db, and a table called books with these fields: title (text), author (text), and year (integer)."
   ]
  },
  {
   "cell_type": "code",
   "execution_count": 5,
   "id": "3cf0dc73-9201-499f-9dea-564650c0da1c",
   "metadata": {},
   "outputs": [],
   "source": [
    "import sqlite3\n",
    "conn=sqlite3.connect('books.db')\n",
    "s=conn.cursor()\n",
    "s.execute('create table books(title varchar(50),author varchar(10), year int)')\n",
    "conn.commit()"
   ]
  },
  {
   "cell_type": "markdown",
   "id": "4aecb542-fc28-439a-a8b5-09e9e8930cda",
   "metadata": {},
   "source": [
    "5.Read books.csv and insert its data into the book table."
   ]
  },
  {
   "cell_type": "code",
   "execution_count": 7,
   "id": "11c59fd9-f5e9-43c0-b827-963f0572cf2f",
   "metadata": {},
   "outputs": [],
   "source": [
    "import pandas as pd\n",
    "r=pd.read_csv('books.csv')\n",
    "r.to_sql('books',conn, if_exists='append', index=False)"
   ]
  },
  {
   "cell_type": "markdown",
   "id": "b07541c8-aec9-4bc9-a852-e72340c1cb1f",
   "metadata": {},
   "source": [
    "6.Select and print the title column from the book table in alphabetical order."
   ]
  },
  {
   "cell_type": "code",
   "execution_count": 10,
   "id": "ab3d23c0-c8c5-4a0a-b0dd-5ec7324497cd",
   "metadata": {},
   "outputs": [
    {
     "name": "stdout",
     "output_type": "stream",
     "text": [
      "[('Perdido Street Station',), ('Small Gods',), ('The Spellman Files',), ('The Weirdstone of Brisingamen',), ('Thud!',)]\n"
     ]
    }
   ],
   "source": [
    "s.execute('select title from books order by title asc')\n",
    "print(s.fetchall())"
   ]
  },
  {
   "cell_type": "markdown",
   "id": "d8c33f19-10ee-42ba-af76-156a5a41b205",
   "metadata": {},
   "source": [
    "7.From the book table, select and print all columns in the order of publication."
   ]
  },
  {
   "cell_type": "code",
   "execution_count": 11,
   "id": "566f75c0-e0c2-4e9a-ba61-3e177874bbf5",
   "metadata": {},
   "outputs": [
    {
     "name": "stdout",
     "output_type": "stream",
     "text": [
      "[('The Weirdstone of Brisingamen', 'Alan Garner', 1960), ('Small Gods', 'Terry Pratchett', 1992), ('Perdido Street Station', 'China Mi�ville', 2000), ('Thud!', 'Terry Pratchett', 2005), ('The Spellman Files', 'Lisa Lutz', 2007)]\n"
     ]
    }
   ],
   "source": [
    "s.execute('select title, author, year from books order by year')\n",
    "print(s.fetchall())"
   ]
  },
  {
   "cell_type": "markdown",
   "id": "9e87d334-6685-4cb1-97d1-e9b8b537c68e",
   "metadata": {},
   "source": [
    "8.Use the sqlalchemy module to connect to the sqlite3 database books.db that you just made in exercise 6."
   ]
  },
  {
   "cell_type": "code",
   "execution_count": 27,
   "id": "3a6c7223-c2c9-4b86-a4be-3b121fd72c40",
   "metadata": {},
   "outputs": [
    {
     "name": "stdout",
     "output_type": "stream",
     "text": [
      "('The Weirdstone of Brisingamen', 'Alan Garner', 1960)\n",
      "('Perdido Street Station', 'China Mi�ville', 2000)\n",
      "('Thud!', 'Terry Pratchett', 2005)\n",
      "('The Spellman Files', 'Lisa Lutz', 2007)\n",
      "('Small Gods', 'Terry Pratchett', 1992)\n"
     ]
    }
   ],
   "source": [
    "import sqlalchemy\n",
    "con=sqlalchemy.create_engine('sqlite:///bookss.db')\n",
    "sq='select title, author, year from books'\n",
    "rows=s.execute(sq)\n",
    "for row in rows:\n",
    "    print(row)"
   ]
  },
  {
   "cell_type": "markdown",
   "id": "155ec3e0-8e66-4953-8146-efca50bce6b9",
   "metadata": {},
   "source": [
    "9.Install the Redis server and the Python redis library (pip install redis) on your computer. Create a Redis hash called test with the fields count (1) and name ('Fester Bestertester'). Print all the fields for test."
   ]
  },
  {
   "cell_type": "code",
   "execution_count": 30,
   "id": "4d088ac3-229a-4a74-923d-c0178adec196",
   "metadata": {},
   "outputs": [
    {
     "data": {
      "text/plain": [
       "1"
      ]
     },
     "execution_count": 30,
     "metadata": {},
     "output_type": "execute_result"
    }
   ],
   "source": [
    "import redis\n",
    "conn=redis.Redis()\n",
    "conn.delete('test')"
   ]
  },
  {
   "cell_type": "code",
   "execution_count": 31,
   "id": "968315ac-b088-47fb-90b3-20fdccae79c0",
   "metadata": {},
   "outputs": [
    {
     "name": "stderr",
     "output_type": "stream",
     "text": [
      "<ipython-input-31-266d20388016>:1: DeprecationWarning: Redis.hmset() is deprecated. Use Redis.hset() instead.\n",
      "  conn.hmset('test',{'count':1,'name':'Fester Bestertester'})\n"
     ]
    },
    {
     "data": {
      "text/plain": [
       "True"
      ]
     },
     "execution_count": 31,
     "metadata": {},
     "output_type": "execute_result"
    }
   ],
   "source": [
    "conn.hmset('test',{'count':1,'name':'Fester Bestertester'})"
   ]
  },
  {
   "cell_type": "code",
   "execution_count": 32,
   "id": "436a723e-0bb4-4880-8162-afd67d66e1dd",
   "metadata": {},
   "outputs": [
    {
     "data": {
      "text/plain": [
       "{b'count': b'1', b'name': b'Fester Bestertester'}"
      ]
     },
     "execution_count": 32,
     "metadata": {},
     "output_type": "execute_result"
    }
   ],
   "source": [
    "conn.hgetall('test')"
   ]
  },
  {
   "cell_type": "markdown",
   "id": "aa6b10cc-90b5-48bb-9be6-0bc038d2e5d8",
   "metadata": {},
   "source": [
    "10.Increment the count field of test and print it."
   ]
  },
  {
   "cell_type": "code",
   "execution_count": 35,
   "id": "2d9af176-aa30-4406-937d-c100f6d189cc",
   "metadata": {},
   "outputs": [
    {
     "data": {
      "text/plain": [
       "4"
      ]
     },
     "execution_count": 35,
     "metadata": {},
     "output_type": "execute_result"
    }
   ],
   "source": [
    "conn.hincrby('test', 'count',3)"
   ]
  },
  {
   "cell_type": "code",
   "execution_count": 36,
   "id": "689f8316-bfe4-45ca-8f5a-64db9d9b928b",
   "metadata": {},
   "outputs": [
    {
     "data": {
      "text/plain": [
       "b'4'"
      ]
     },
     "execution_count": 36,
     "metadata": {},
     "output_type": "execute_result"
    }
   ],
   "source": [
    "conn.hget('test','count')"
   ]
  }
 ],
 "metadata": {
  "kernelspec": {
   "display_name": "Python 3",
   "language": "python",
   "name": "python3"
  },
  "language_info": {
   "codemirror_mode": {
    "name": "ipython",
    "version": 3
   },
   "file_extension": ".py",
   "mimetype": "text/x-python",
   "name": "python",
   "nbconvert_exporter": "python",
   "pygments_lexer": "ipython3",
   "version": "3.8.8"
  }
 },
 "nbformat": 4,
 "nbformat_minor": 5
}
