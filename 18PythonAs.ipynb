{
 "cells": [
  {
   "cell_type": "markdown",
   "id": "8f1cb7f1-0151-4493-b5b1-b5a0f425d279",
   "metadata": {},
   "source": [
    "Q1. Describe the differences between text and binary files in a single paragraph.\n",
    "\n",
    "Text files:\n",
    "\n",
    "These are used to store human readable contents in the format of rich text document or plain text document. Sentences or sequences are stored like data in sequential bytes and bits represents characters\n",
    "\n",
    "Binary Files:\n",
    "\n",
    "The are files containing data in byte sequences grouped in bits. They can represent any file like image, audio, text etc. in a same file even"
   ]
  },
  {
   "cell_type": "markdown",
   "id": "a3932a61-bec9-4d1d-8ee2-68d4f6d6b743",
   "metadata": {},
   "source": [
    "Q2. What are some scenarios where using text files will be the better option? When would you like to use binary files instead of text files?\n",
    "\n",
    "If the file is usually operated by Humans' like to spot errors or modification we can use text files\n",
    "\n",
    "If the file is more interpreted by compilers and have to hold multiple data formats then binary files can be used"
   ]
  },
  {
   "cell_type": "markdown",
   "id": "2412bad9-5a17-45ab-9f22-57669e2c059d",
   "metadata": {},
   "source": [
    "Q3. What are some of the issues with using binary operations to read and write a Python integer directly to disc?\n",
    "\n",
    "Some of the issues are we have to deal with raw data in binary operations\n",
    "\n",
    "We need to predefone how many bytes to read or write"
   ]
  },
  {
   "cell_type": "markdown",
   "id": "75f945e1-74e5-4929-83cc-54bd82a71069",
   "metadata": {},
   "source": [
    "Q4. Describe a benefit of using the with keyword instead of explicitly opening a file.\n",
    "\n",
    "Benefits while opening a file with 'with' key words are\n",
    "\n",
    "Even if some exceptions occur after opening the file, it gets automatically closed\n",
    "\n",
    "Here explicit closing of file is not needed"
   ]
  },
  {
   "cell_type": "markdown",
   "id": "3eb28119-1e0b-4d1e-8816-0cdf2e76e092",
   "metadata": {},
   "source": [
    "Q5. Does Python have the trailing newline while reading a line of text? Does Python append a newline when you write a line of text?\n",
    "\n",
    "Yes, Python have the trailing newline while reading a line of text\n",
    "\n",
    "We have to explicitly write a newline for Python to append a newline when you write a line of text"
   ]
  },
  {
   "cell_type": "markdown",
   "id": "8b2e941d-d79f-4e02-8201-c8fb055e89c6",
   "metadata": {},
   "source": [
    "Q6. What file operations enable for random-access operation?\n",
    "\n",
    "seek() and tell() are used in file operations to enable random - access operations"
   ]
  },
  {
   "cell_type": "markdown",
   "id": "6f777dff-be8c-474e-803c-eb8e2631651d",
   "metadata": {},
   "source": [
    "Q7. When do you think you'll use the struct package the most?\n",
    "\n",
    "When we have to convert a common python type to c languages we can use struct package"
   ]
  },
  {
   "cell_type": "markdown",
   "id": "66fd1bf0-3ede-49e8-a225-e181c598aabd",
   "metadata": {},
   "source": [
    "Q8. When is pickling the best option?\n",
    "\n",
    "Pickling can be used when we have to create a new binary file using python"
   ]
  },
  {
   "cell_type": "markdown",
   "id": "0107dbbb-515d-49df-a742-f8863bc4f222",
   "metadata": {},
   "source": [
    "Q9. When will it be best to use the shelve package?\n",
    "\n",
    "Shelve package is used to pickle data and treats entire file as dictionary"
   ]
  },
  {
   "cell_type": "markdown",
   "id": "e5647e11-266d-49bb-ae0c-b42dcdee57e6",
   "metadata": {},
   "source": [
    "Q10. What is a special restriction when using the shelve package, as opposed to using other data dictionaries?\n",
    "\n",
    "String data type can only be used as key in this special dictionary object, whereas any piclable Python object can be used as value"
   ]
  },
  {
   "cell_type": "code",
   "execution_count": null,
   "id": "dd1e93fd-f10f-4347-9c90-e27f41d9dafc",
   "metadata": {},
   "outputs": [],
   "source": []
  }
 ],
 "metadata": {
  "kernelspec": {
   "display_name": "Python 3",
   "language": "python",
   "name": "python3"
  },
  "language_info": {
   "codemirror_mode": {
    "name": "ipython",
    "version": 3
   },
   "file_extension": ".py",
   "mimetype": "text/x-python",
   "name": "python",
   "nbconvert_exporter": "python",
   "pygments_lexer": "ipython3",
   "version": "3.8.8"
  }
 },
 "nbformat": 4,
 "nbformat_minor": 5
}
