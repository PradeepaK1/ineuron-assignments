{
 "cells": [
  {
   "cell_type": "markdown",
   "id": "92c994ac-9aff-4124-b2d8-0ae7d32823e8",
   "metadata": {},
   "source": [
    "1. In the below elements which of them are values or an expression? eg:- values can be integer or string and expressions will be mathematical operators. * ,'hello', -87.8, - , / , +, 6 \n",
    "\n",
    "Ans: \n",
    "\n",
    "1.* = expression\n",
    "\n",
    "2. 'hello' = value\n",
    "\n",
    "3. -87.8 = value\n",
    "\n",
    "4.- = expression\n",
    "\n",
    "5. / = expression\n",
    "\n",
    "6.+ = expression\n",
    "\n",
    "7. 6 = value\n"
   ]
  },
  {
   "cell_type": "markdown",
   "id": "8d9a4a79-8db1-4cea-b3ef-786d803f5eb6",
   "metadata": {},
   "source": [
    "2. What is the difference between string and variable?\n",
    "\n",
    "Ans: \n",
    "    \n",
    "String is a character or series of character (word) which is enclosed with in single or double quotes, there can be a string variable also like for example,\n",
    "eg. 'pradeepa' ,\"ineuron\", var='data science' - here var is a variable, 'data science' is the string\n",
    "\n",
    "Variable is any element which holds the value, any string or integer or list or tuple or dict or set or nesting these things can be assigned to a variable\n",
    "and can be used for further operations \n",
    "\n",
    "Eg. a=0,b='chara', h=[1,2,3], j=tuple(h)\n",
    "\n",
    "here a,b,h,j are variables\n"
   ]
  },
  {
   "cell_type": "markdown",
   "id": "4aab46e6-44aa-4d39-9a70-37681ef61d26",
   "metadata": {},
   "source": [
    "3. Describe three different data types.\n",
    "\n",
    "Ans: \n",
    "    \n",
    "There are many data types in python like string (str), integer (int), list, dictionary (dict), tuple, set among those these three, I am going to explain\n",
    "\n",
    "\n",
    "list - enclosed with square brackets [], is similar to array data structure of various other programming languages except to the fact that it can contain multiple data types in it\n",
    "\n",
    "A list can have int, str also another list itself as an element, the indexing of list starts from 0,1,2 where 0 is the index given to first element\n",
    "\n",
    "List is a mutable data type to which deletion, appending can all be made and one can iterate over the list through loops\n",
    "\n",
    "\n",
    "tuple - enclosed with curve brackets (), is similar to list data type with one modification that tuples are immutable which prevents append function to a tuple\n",
    "\n",
    "A tuple also can have multiple data typed elements also duplicates of those, it is ordered and hence here also indexing starts from 0,1,2.. it can also be iterated through loops\n",
    "\n",
    "\n",
    "dict - enclosed with {} a dictionary has key value pair of combination {Key:Value} {'name' :'Pradeepa'}, {a: 10}\n",
    "\n",
    "A dictionary can have duplicate value but unique keys, and can be accessed with the help of key and value for operations in the program\n"
   ]
  },
  {
   "cell_type": "markdown",
   "id": "bf0c6b3e-1a6b-4e7d-bc2d-21aad5758a4f",
   "metadata": {},
   "source": [
    "4. What is an expression made up of? What do all expressions do?\n",
    "\n",
    "\n",
    "Ans: \n",
    "    \n",
    "Expression has an operator and operand with combination assigning result to a variable\n",
    "\n",
    "\n",
    "Most of the single line computation in the program is a expression\n",
    "\n",
    "All the expression try to calculate or compute the minimal output and proceed further in the code\n",
    "\n",
    "Example: a=7+3, \n",
    "\n",
    "    h=a-1 here each line is an expression where a is the variable, 7,a,1 are the operands and +,- are the operators"
   ]
  },
  {
   "cell_type": "markdown",
   "id": "931879cf-364e-414f-83a6-8c146785a823",
   "metadata": {},
   "source": [
    "5. This assignment statements, like spam = 10. What is the difference between an expression and a statement?\n",
    "\n",
    "Ans: \n",
    "    \n",
    "\n",
    "Expression involves a calculation part or computing part where any output or evaluation occurs as mostly involves with the help of operator\n",
    "\n",
    "Example: g=9+1\n",
    "\n",
    "Statement is the action we insist the program to do without any specific output or evaluation \n",
    "\n",
    "Example: print(g)"
   ]
  },
  {
   "cell_type": "markdown",
   "id": "ecdc5611-2eda-4581-9598-705a05824ba9",
   "metadata": {},
   "source": [
    "6. After running the following code, what does the variable bacon contain?\n",
    "bacon = 22\n",
    "bacon + 1\n",
    "\n",
    "Ans: \n",
    "    \n",
    "23\n",
    "\n",
    "23 will be the output as this first assigns bacon as 22 and in the next line 1 is added to 22"
   ]
  },
  {
   "cell_type": "markdown",
   "id": "da8bd015-3d55-40bc-8439-04ed4d4fe049",
   "metadata": {},
   "source": [
    "7. What should the values of the following two terms be?\n",
    "\n",
    "'spam' + 'spamspam'\n",
    "\n",
    "'spam' * 3\n",
    "\n",
    "Ans: \n",
    "\n",
    "    'spamspamspam'\n",
    "\n",
    "    Both of these produce same output, three spams as in the first expression we do string concatenation and in the second expression we do multiply (repeat) the string spam three times, producing the same output\n"
   ]
  },
  {
   "cell_type": "markdown",
   "id": "3bfcf31d-f9ff-4cc1-ae44-33b5f4704069",
   "metadata": {},
   "source": [
    "8. Why is eggs a valid variable name while 100 is invalid?\n",
    "\n",
    "Ans:\n",
    "    \n",
    "Any variable in python should start with letters (alphabets (capital or small) or under score _) \n",
    "So eggs is a valid variable\n",
    "Whereas as 100 starts with a digit its not valid to be a variable"
   ]
  },
  {
   "cell_type": "markdown",
   "id": "4d7a5579-20f2-45c0-99e4-9ee9e3cf7eb9",
   "metadata": {},
   "source": [
    "9. What three functions can be used to get the integer, floating-point number, or string version of a value?\n",
    "\n",
    "Ans:\n",
    "\n",
    "To get the integer:\n",
    "\n",
    "    a='9'\n",
    "    b=int(a)\n",
    "    type(b)\n",
    "    output: int\n",
    "    \n",
    "To get the floating point:\n",
    "\n",
    "    a=9\n",
    "    b=float(a)\n",
    "    print(type(b),b)\n",
    "    output: <class 'float'> 9.0\n"
   ]
  },
  {
   "cell_type": "markdown",
   "id": "297457d3-315f-4270-9cfa-ad452a7017b7",
   "metadata": {},
   "source": [
    "10. Why does this expression cause an error? How can you fix it?\n",
    "\n",
    "'I have eaten ' + 99 + ' burritos.'\n",
    "\n",
    "Ans: \n",
    "\n",
    "A string cannot be concatenated with an integer thats how python follows there are many alternative ways to perform the same like 99 can be converted to string or even format function can be used like below\n",
    "print(\"{}{}{}\".format('I have eaten ', 99, ' burritos'))\n",
    "output: I have eaten 99 burritos"
   ]
  },
  {
   "cell_type": "code",
   "execution_count": null,
   "id": "be11646d-180f-4297-8de4-0c04946ab4a4",
   "metadata": {},
   "outputs": [],
   "source": []
  }
 ],
 "metadata": {
  "kernelspec": {
   "display_name": "Python 3",
   "language": "python",
   "name": "python3"
  },
  "language_info": {
   "codemirror_mode": {
    "name": "ipython",
    "version": 3
   },
   "file_extension": ".py",
   "mimetype": "text/x-python",
   "name": "python",
   "nbconvert_exporter": "python",
   "pygments_lexer": "ipython3",
   "version": "3.8.8"
  }
 },
 "nbformat": 4,
 "nbformat_minor": 5
}
