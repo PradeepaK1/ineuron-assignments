{
 "cells": [
  {
   "cell_type": "raw",
   "id": "c41c8f00-c843-4101-9862-5077c61f8280",
   "metadata": {},
   "source": [
    "1. In the below elements which of them are values or an expression? eg:- values can be integer or string and expressions will be mathematical operators.\n",
    "* \n",
    "'hello'\n",
    "-87.8\n",
    "- \n",
    "/ \n",
    "+\n",
    "6 \n",
    "\n",
    "Ans: \n",
    "* = expression\n",
    "'hello' = value\n",
    "-87.8 = value\n",
    "- = expression\n",
    "/ = expression\n",
    "+ = expression\n",
    "6 = value\n"
   ]
  },
  {
   "cell_type": "raw",
   "id": "e7a99c07-86ab-4bd8-b8ba-4f4372cb82b1",
   "metadata": {},
   "source": [
    "2. What is the difference between string and variable?\n",
    "\n",
    "Ans: \n",
    "String is a character or series of character (word) which is enclosed with in single or double quotes, there can be a string variable also like for example,\n",
    "eg. 'pradeepa' ,\"ineuron\", var='data science' - here var is a variable, 'data science' is the string\n",
    "Variable is any element which holds the value, any string or integer or list or tuple or dict or set or nesting these things can be assigned to a variable\n",
    "and can be used for further operations \n",
    "Eg. a=0,b='chara', h=[1,2,3], j=tuple(h)\n",
    "here a,b,h,j are variables\n"
   ]
  },
  {
   "cell_type": "raw",
   "id": "ead70063-34ec-4a60-bb0e-fb7e95d9c643",
   "metadata": {},
   "source": [
    "3. Describe three different data types.\n",
    "\n",
    "Ans: \n",
    "There are many data types in python like string (str), integer (int), list, dictionary (dict), tuple, set among those these three, I am going to explain\n",
    "\n",
    "list - enclosed with square brackets [], is similar to array data structure of various other programming languages except to the fact that it can contain multiple data types in it\n",
    "A list can have int, str also another list itself as an element, the indexing of list starts from 0,1,2 where 0 is the index given to first element\n",
    "List is a mutable data type to which deletion, appending can all be made and one can iterate over the list through loops\n",
    "\n",
    "tuple - enclosed with curve brackets (), is similar to list data type with one modification that tuples are immutable which prevents append function to a tuple\n",
    "A tuple also can have multiple data typed elements also duplicates of those, it is ordered and hence here also indexing starts from 0,1,2.. it can also be iterated through loops\n",
    "\n",
    "dict - enclosed with {} a dictionary has key value pair of combination {Key:Value} {'name' :'Pradeepa'}, {a: 10}\n",
    "A dictionary can have duplicate value but unique keys, and can be accessed with the help of key and value for operations in the program\n"
   ]
  },
  {
   "cell_type": "raw",
   "id": "145ae041-9ab7-49fe-a789-7eeea3a59887",
   "metadata": {},
   "source": [
    "4. What is an expression made up of? What do all expressions do?\n",
    "\n",
    "Ans: \n",
    "Expression has an operator and operand with combination assigning result to a variable\n",
    "Most of the single line computation in the program is a expression\n",
    "All the expression try to calculate or compute the minimal output and proceed further in the code\n",
    "Example: a=7+3, \n",
    "    h=a-1 here each line is an expression where a is the variable, 7,a,1 are the operands and +,- are the operators"
   ]
  },
  {
   "cell_type": "raw",
   "id": "c913ee89-dd05-4c7a-aef7-8e7c05888651",
   "metadata": {},
   "source": [
    "5. This assignment statements, like spam = 10. What is the difference between an expression and a statement?\n",
    "\n",
    "Ans: \n",
    "Expression involves a calculation part or computing part where any output or evaluation occurs as mostly involves with the help of operator\n",
    "Example: g=9+1\n",
    "Statement is the action we insist the program to do without any specific output or evaluation \n",
    "Example: print(g)"
   ]
  },
  {
   "cell_type": "raw",
   "id": "1aee5e06-5f74-4c33-a881-0d17ac1fd3cd",
   "metadata": {},
   "source": [
    "6. After running the following code, what does the variable bacon contain?\n",
    "\n",
    "Ans: \n",
    "bacon = 22\n",
    "bacon + 1\n",
    "\n",
    "23\n",
    "23 will be the output as this first assigns bacon as 22 and in the next line 1 is added to 22"
   ]
  },
  {
   "cell_type": "raw",
   "id": "af70bb10-1b81-4b6a-bfbe-712543e0db4c",
   "metadata": {},
   "source": [
    "7. What should the values of the following two terms be?\n",
    "'spam' + 'spamspam'\n",
    "'spam' * 3\n",
    "\n",
    "Ans: \n",
    "'spamspamspam'\n",
    "Both of these produce same output, three spams as in the first expression we do string concatenation and in the second expression we do multiply (repeat) the string spam three times, producing the same output\n"
   ]
  },
  {
   "cell_type": "raw",
   "id": "311a3594-dba8-45a1-a797-07120a38fdbc",
   "metadata": {},
   "source": [
    "8. Why is eggs a valid variable name while 100 is invalid?\n",
    "\n",
    "Ans:\n",
    "Any variable in python should start with letters (alphabets (capital or small) or under score _) \n",
    "So eggs is a valid variable\n",
    "Whereas as 100 starts with a digit its not valid to be a variable"
   ]
  },
  {
   "cell_type": "raw",
   "id": "1a69189f-db01-4ce2-b724-7e79ac20d49e",
   "metadata": {},
   "source": [
    "9. What three functions can be used to get the integer, floating-point number, or string version of a value?\n",
    "\n",
    "Ans:\n",
    "To get the integer:\n",
    "    a='9'\n",
    "    b=int(a)\n",
    "    type(b)\n",
    "    output: int\n",
    "To get the floating point:\n",
    "    a=9\n",
    "    b=float(a)\n",
    "    print(type(b),b)\n",
    "    output: <class 'float'> 9.0\n"
   ]
  },
  {
   "cell_type": "raw",
   "id": "78dc4ea1-4383-41b2-b584-9fb0843b881e",
   "metadata": {},
   "source": [
    "10. Why does this expression cause an error? How can you fix it?\n",
    "'I have eaten ' + 99 + ' burritos.'\n",
    "\n",
    "Ans: \n",
    "A string cannot be concatenated with an integer thats how python follows there are many alternative ways to perform the same like 99 can be converted to string or even format function can be used like below\n",
    "print(\"{}{}{}\".format('I have eaten ', 99, ' burritos'))\n",
    "output: I have eaten 99 burritos"
   ]
  },
  {
   "cell_type": "code",
   "execution_count": null,
   "id": "76ea729d-7bca-48bc-9b25-4d1bded66e96",
   "metadata": {},
   "outputs": [],
   "source": []
  }
 ],
 "metadata": {
  "kernelspec": {
   "display_name": "Python 3",
   "language": "python",
   "name": "python3"
  },
  "language_info": {
   "codemirror_mode": {
    "name": "ipython",
    "version": 3
   },
   "file_extension": ".py",
   "mimetype": "text/x-python",
   "name": "python",
   "nbconvert_exporter": "python",
   "pygments_lexer": "ipython3",
   "version": "3.8.8"
  }
 },
 "nbformat": 4,
 "nbformat_minor": 5
}
