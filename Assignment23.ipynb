{
 "cells": [
  {
   "cell_type": "markdown",
   "id": "b7f2d638-de46-44f8-9827-b4d858cf6982",
   "metadata": {},
   "source": [
    "1.What is the result of the code, and why?"
   ]
  },
  {
   "cell_type": "code",
   "execution_count": 1,
   "id": "048c7562-3a96-42c9-b7e3-975b1a2ef96a",
   "metadata": {},
   "outputs": [
    {
     "name": "stdout",
     "output_type": "stream",
     "text": [
      "1 2 8\n"
     ]
    }
   ],
   "source": [
    "def func(a, b=6, c=8):\n",
    "    print(a, b, c)\n",
    "func(1, 2)"
   ]
  },
  {
   "cell_type": "markdown",
   "id": "3232b5cb-7258-4c06-984e-4256393154e4",
   "metadata": {},
   "source": [
    "Here in function func() declaration itself default values are set so b and c\n",
    "\n",
    "So while calling the function, when 1,2 are passed for c the argument default assignment while declaration is taken when one argument is missing"
   ]
  },
  {
   "cell_type": "markdown",
   "id": "ee46bdd3-0f3f-4279-bbcf-4e3f2c21b426",
   "metadata": {},
   "source": [
    "2.What is the result of this code, and why?"
   ]
  },
  {
   "cell_type": "code",
   "execution_count": 2,
   "id": "aada630c-49c8-4794-80a2-eff35a387c82",
   "metadata": {},
   "outputs": [
    {
     "name": "stdout",
     "output_type": "stream",
     "text": [
      "1 2 3\n"
     ]
    }
   ],
   "source": [
    "def func(a, b, c=5):\n",
    "    print(a, b, c)\n",
    "func(1, c=3, b=2)"
   ]
  },
  {
   "cell_type": "markdown",
   "id": "49132434-96d1-4fd8-820a-1ef065aac128",
   "metadata": {},
   "source": [
    "Here while the function call itself values are assigned to the arguments\n",
    "\n",
    "Also assignment order only will be taken while passing the argument, but while calling itself as the variable names are also mentioned\n",
    "\n",
    "So the order is for a=1, b=2, c=3 as print is given in the order a,b,c"
   ]
  },
  {
   "cell_type": "markdown",
   "id": "d88ad48f-ea92-49c0-9e5b-ba3cc99c1224",
   "metadata": {},
   "source": [
    "3.How about this code: what is its result, and why?"
   ]
  },
  {
   "cell_type": "code",
   "execution_count": 1,
   "id": "45aa68f4-a976-4f46-b736-06689aa98e77",
   "metadata": {},
   "outputs": [
    {
     "name": "stdout",
     "output_type": "stream",
     "text": [
      "1 (2, 3)\n"
     ]
    }
   ],
   "source": [
    "def func(a, *pargs):\n",
    "    print(a, pargs)\n",
    "func(1, 2, 3)"
   ]
  },
  {
   "cell_type": "markdown",
   "id": "9466118b-3079-41a5-a4d0-c592b3a861c2",
   "metadata": {},
   "source": [
    "The return type of *args, that is single * parameter is tuple\n",
    "\n",
    "So *pargs also returns a tuple "
   ]
  },
  {
   "cell_type": "markdown",
   "id": "5d12405a-dbc3-49e1-a6c3-df214e11c705",
   "metadata": {},
   "source": [
    "4.What does this code print, and why?"
   ]
  },
  {
   "cell_type": "code",
   "execution_count": 3,
   "id": "f0466af0-fef8-490b-816f-5984abbcca71",
   "metadata": {},
   "outputs": [
    {
     "name": "stdout",
     "output_type": "stream",
     "text": [
      "1 {'c': 3, 'b': 2}\n"
     ]
    }
   ],
   "source": [
    "def func(a, **kargs):\n",
    "    print(a, kargs)\n",
    "func(a=1, c=3, b=2)"
   ]
  },
  {
   "cell_type": "markdown",
   "id": "36a7a58e-44ff-4a46-8ad2-e7f364788571",
   "metadata": {},
   "source": [
    "The return type of kargs parameter that is, **kargs is dictionary \n",
    "\n",
    "So, **kargs also returns a dictionary"
   ]
  },
  {
   "cell_type": "markdown",
   "id": "c441b318-3dc0-4f15-8f43-11303e321b66",
   "metadata": {},
   "source": [
    "5.What gets printed by this, and explain?"
   ]
  },
  {
   "cell_type": "code",
   "execution_count": 4,
   "id": "74d338ba-fd31-44f9-9041-42ec2491cb65",
   "metadata": {},
   "outputs": [
    {
     "name": "stdout",
     "output_type": "stream",
     "text": [
      "1 5 6 5\n"
     ]
    }
   ],
   "source": [
    "def func(a, b, c=8, d=5): \n",
    "    print(a, b, c, d)\n",
    "func(1, *(5, 6))"
   ]
  },
  {
   "cell_type": "markdown",
   "id": "836f96e5-124b-48b7-888a-2759b54771df",
   "metadata": {},
   "source": [
    "*args will iterate over the parameters\n",
    "\n",
    "So a=1 as while calling itself assigned\n",
    "\n",
    "b=5, c=6 as *args is given so will be iterated and assigned to b and c respectively\n",
    "\n",
    "For d no value is given in the function call, so the default value while declaration d=5 is assigned and printed"
   ]
  },
  {
   "cell_type": "markdown",
   "id": "c17d071a-9e6d-4a8e-ac62-ddbbba13396a",
   "metadata": {},
   "source": [
    "6.what is the result of this, and explain?"
   ]
  },
  {
   "cell_type": "code",
   "execution_count": 5,
   "id": "dcb97a7a-f9ab-4c9d-8e47-61c1bcd1bd1e",
   "metadata": {},
   "outputs": [
    {
     "data": {
      "text/plain": [
       "(1, ['x'], {'a': 'y'})"
      ]
     },
     "execution_count": 5,
     "metadata": {},
     "output_type": "execute_result"
    }
   ],
   "source": [
    "def func(a, b, c): \n",
    "    a = 2; b[0] = 'x'; c['a'] = 'y'\n",
    "l=1; m=[1]; n={'a':0}\n",
    "func(l, m, n)\n",
    "l, m, n"
   ]
  },
  {
   "cell_type": "markdown",
   "id": "d2032d8d-106a-434d-8055-5781e7df0634",
   "metadata": {},
   "source": [
    "List and dictionary are mutable, so even after assigning l and m values once going into the function block it gets changed to the value there\n",
    "\n",
    "Hence 'x' and 'y' are printed\n",
    "\n",
    "But integer is immutable so 1 is retained and printed"
   ]
  },
  {
   "cell_type": "code",
   "execution_count": null,
   "id": "570e47c0-5589-47e9-8252-0a06049e6be3",
   "metadata": {},
   "outputs": [],
   "source": []
  }
 ],
 "metadata": {
  "kernelspec": {
   "display_name": "Python 3",
   "language": "python",
   "name": "python3"
  },
  "language_info": {
   "codemirror_mode": {
    "name": "ipython",
    "version": 3
   },
   "file_extension": ".py",
   "mimetype": "text/x-python",
   "name": "python",
   "nbconvert_exporter": "python",
   "pygments_lexer": "ipython3",
   "version": "3.8.8"
  }
 },
 "nbformat": 4,
 "nbformat_minor": 5
}
