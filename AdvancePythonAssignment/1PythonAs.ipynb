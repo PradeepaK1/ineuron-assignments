{
 "cells": [
  {
   "cell_type": "markdown",
   "id": "82600974-d52c-4d59-9332-2f7c8df20cd2",
   "metadata": {},
   "source": [
    "Q1. What is the purpose of Python's OOP?\n",
    "\n",
    "- Object Oriented Programming in Python used to implement concepts like class, object, inheritance, polymorphism, encapsulation.\n",
    "\n",
    "- The main idea is to bind data and associated functions together and provide appropriate access\n",
    "\n",
    "- Modular programming can be achieved saving time and productivity\n",
    "\n",
    "- Lesser maintenance cost for the program\n",
    "\n",
    "- Work can be partitioned as per project\n",
    "\n",
    "- Data Hiding, Abstraction is highly useful\n",
    "\n",
    "- We can eliminate redundant code and use existing classes\n",
    "\n",
    "- OOPs follows data centered approach\n",
    "\n",
    "Example"
   ]
  },
  {
   "cell_type": "code",
   "execution_count": 21,
   "id": "a4ac90b9-d0a2-42b1-8291-bfc2baf46383",
   "metadata": {},
   "outputs": [
    {
     "name": "stdout",
     "output_type": "stream",
     "text": [
      "method1\n",
      "method2 method2 from main\n"
     ]
    }
   ],
   "source": [
    "class myClass():\n",
    "    def method1(self):\n",
    "        print(\"method1\") \n",
    "    def method2(self,s):    \n",
    "        print(\"method2\" + s)    \n",
    "def main():           \n",
    "    c = myClass ()\n",
    "    c.method1()\n",
    "    c.method2(\" method2 from main\")\n",
    "if __name__== \"__main__\":\n",
    "    main()"
   ]
  },
  {
   "cell_type": "markdown",
   "id": "0bf8ef70-8b3a-4bd6-9222-d6625ba3d635",
   "metadata": {},
   "source": [
    "Q2. Where does an inheritance search look for an attribute?\n",
    "\n",
    "- First the inheritance search looks for an attribute in its instance and then moves to the class it is generated from to all super classes and listed in its class header\n",
    "\n",
    "- Hence Python looks for an attribute in the bottom to top for the lowest occurrence of an attribute name\n",
    "\n",
    "Example,"
   ]
  },
  {
   "cell_type": "code",
   "execution_count": 22,
   "id": "c023af31-1c11-41ac-ba5a-f7b08bca64c2",
   "metadata": {},
   "outputs": [
    {
     "data": {
      "text/plain": [
       "(__main__.G,\n",
       " __main__.E,\n",
       " __main__.D,\n",
       " __main__.F,\n",
       " __main__.B,\n",
       " __main__.C,\n",
       " __main__.A,\n",
       " object)"
      ]
     },
     "execution_count": 22,
     "metadata": {},
     "output_type": "execute_result"
    }
   ],
   "source": [
    "class A : pass \n",
    "class B : pass \n",
    "class C(A,object): pass\n",
    "class D: pass\n",
    "class E(D,B): pass\n",
    "class F(B,C): pass\n",
    "class G(E,F): pass\n",
    "g = G()\n",
    "G.__mro__"
   ]
  },
  {
   "cell_type": "code",
   "execution_count": 23,
   "id": "e1779b05-debb-4391-8b29-22d383fe97b9",
   "metadata": {},
   "outputs": [
    {
     "name": "stdout",
     "output_type": "stream",
     "text": [
      "G, E, D, F, B, C, A, object\n"
     ]
    }
   ],
   "source": [
    "print (', '.join(klass.__name__ for klass in G.__mro__))"
   ]
  },
  {
   "cell_type": "markdown",
   "id": "691399a9-b39d-415b-a5f7-27e0ab54a609",
   "metadata": {},
   "source": [
    "Q3. How do you distinguish between a class object and an instance object?\n",
    "\n",
    "Class:\n",
    "    - It is used as a template for creating objects\n",
    "    \n",
    "    - No memory allocation is done for creation of classes\n",
    "    \n",
    "    - One time declaration of class will suffice\n",
    "    \n",
    "    - Class is a logical entity\n",
    "Instance:\n",
    "    \n",
    "    - An object is an instance of a class\n",
    "    \n",
    "    - Objects have allocated memory every time they are created\n",
    "    \n",
    "    - An object can be created many times\n",
    "    \n",
    "    - An object is a physical entity\n",
    "\n",
    "Example,"
   ]
  },
  {
   "cell_type": "code",
   "execution_count": 24,
   "id": "ccd6a394-38d2-4bb8-a5e2-1369d5d676b1",
   "metadata": {},
   "outputs": [
    {
     "name": "stdout",
     "output_type": "stream",
     "text": [
      "My name is Pradeepa I completed B.Tech IT\n"
     ]
    }
   ],
   "source": [
    "class ex:\n",
    "    def __init__(self, a, b):\n",
    "        self.name = a\n",
    "        self.deg = b\n",
    "    def fun(s):\n",
    "        print(\"My name is \" + s.name +\" I completed \"+s.deg)\n",
    "x = ex(\"Pradeepa\", \"B.Tech IT\")\n",
    "x.fun()"
   ]
  },
  {
   "cell_type": "markdown",
   "id": "19551477-a4d5-4155-a945-1c8b5596e9c7",
   "metadata": {},
   "source": [
    "Q4. What makes the first argument in a class’s method function special?\n",
    "\n",
    "- In Python the methods are done in a way that makes the instance to which the method belongs be passed automatically but not received automatically\n",
    "\n",
    "- The first parameter or the argument of the methods is the instance the method is called on\n",
    "\n",
    "- The first argument (generally used as self) is just another object type\n",
    "\n",
    "Let's say you have a class ClassA which contains a method methodA defined as:\n",
    "\n",
    "def methodA(self, arg1, arg2): and ObjectA is an instance of this class.\n",
    "\n",
    "Now when ObjectA.methodA(arg1, arg2) is called, python internally converts it for you as:\n",
    "\n",
    "ClassA.methodA(ObjectA, arg1, arg2)\n",
    "\n",
    "The self variable refers to the object itself.\n",
    "\n",
    "Example"
   ]
  },
  {
   "cell_type": "code",
   "execution_count": 25,
   "id": "bd1d1a86-7fe6-4947-9565-4b5ec399daef",
   "metadata": {},
   "outputs": [
    {
     "name": "stdout",
     "output_type": "stream",
     "text": [
      "init added\n"
     ]
    }
   ],
   "source": [
    "class c(object):\n",
    "    def __init__(self):\n",
    "        self.field = 'init'\n",
    "    def add(self, x):\n",
    "        self.field += x\n",
    "s = c()\n",
    "s.add(' added')    \n",
    "print(s.field )"
   ]
  },
  {
   "cell_type": "markdown",
   "id": "7c5a5a3f-a875-48c4-aa7c-a6f82c36a4df",
   "metadata": {},
   "source": [
    "Q5. What is the purpose of the __init__ method?\n",
    "\n",
    "- __init__ is a reserved method in python.\n",
    "\n",
    "- It is a constructor in OOPs\n",
    "\n",
    "- This method is called when an object is created from a class and it allows the class to initialize the attributes of the class\n",
    "\n",
    "- This is used to initialize a class, This initializer method accepts self (instance) along with any arguments the class \n",
    "\n",
    "Example:"
   ]
  },
  {
   "cell_type": "code",
   "execution_count": 26,
   "id": "1d5d5711-0ba3-4640-a9cc-2e79f723391c",
   "metadata": {},
   "outputs": [
    {
     "name": "stdout",
     "output_type": "stream",
     "text": [
      "200\n"
     ]
    }
   ],
   "source": [
    "class R:\n",
    "    def __init__(self, l, b):\n",
    "        self.l = l\n",
    "        self.b = b\n",
    "    def get_area(self):\n",
    "        return self.l * self.b\n",
    "r=R(10,20)\n",
    "print(r.get_area())"
   ]
  },
  {
   "cell_type": "markdown",
   "id": "dd10cd98-509c-4d29-b89f-57c3557ea12f",
   "metadata": {},
   "source": [
    "Q6. What is the process for creating a class instance?\n",
    "\n",
    "- Once a class object is created, it becomes a singular object that encapsulates our class definition\n",
    "\n",
    "- To prevent passing around or manipulate the class object, we create individual instances of the class\n",
    "\n",
    "For Example,\n",
    "\n",
    "- List is a class object - instance is created whenever needed"
   ]
  },
  {
   "cell_type": "code",
   "execution_count": 27,
   "id": "557b7f86-6c66-4309-9699-e13c7bd4f80c",
   "metadata": {},
   "outputs": [
    {
     "data": {
      "text/plain": [
       "[1, 2, 3, -1]"
      ]
     },
     "execution_count": 27,
     "metadata": {},
     "output_type": "execute_result"
    }
   ],
   "source": [
    "a = list((1, 2, 3))\n",
    "a.append(-1)\n",
    "a"
   ]
  },
  {
   "cell_type": "code",
   "execution_count": 28,
   "id": "4029574c-62e2-434e-841e-d93a2e96c07a",
   "metadata": {},
   "outputs": [
    {
     "data": {
      "text/plain": [
       "'Emmy'"
      ]
     },
     "execution_count": 28,
     "metadata": {},
     "output_type": "execute_result"
    }
   ],
   "source": [
    "class Person:\n",
    "    def __init__(self, name):\n",
    "        self.name = name\n",
    "emmy = Person(\"Emmy\")\n",
    "emmy.name"
   ]
  },
  {
   "cell_type": "markdown",
   "id": "46f6c827-15d5-4b95-a6f5-7a836c8700aa",
   "metadata": {},
   "source": [
    "Q7. What is the process for creating a class?\n",
    "\n",
    "- First declare it is a class by defining the keyword class\n",
    "\n",
    "- Create a __init__ functioin to assign values to object properties, or other operations that are neccessary to do when the object is created\n",
    "\n",
    "- Iniate self parameter as a reference to the current instance of the class, and is used to access variables that belongs to the class\n",
    "\n",
    "- Create methods for the object, that are functions that belong to the object to do a particular operation\n",
    "\n",
    "- Create an Object to which class will be assigned and an object the particular class will be instantiated\n",
    "\n",
    "Example,"
   ]
  },
  {
   "cell_type": "code",
   "execution_count": 29,
   "id": "4fce3609-3b2f-4371-ab1a-c4bedb567586",
   "metadata": {},
   "outputs": [
    {
     "name": "stdout",
     "output_type": "stream",
     "text": [
      "Hello my name is Pradeepa\n"
     ]
    }
   ],
   "source": [
    "class Person:\n",
    "    def __init__(self, name):\n",
    "        self.name = name\n",
    "    def fun(abc):\n",
    "        print(\"Hello my name is \" + abc.name)\n",
    "p1 = Person(\"Pradeepa\")\n",
    "p1.fun() "
   ]
  },
  {
   "cell_type": "markdown",
   "id": "ef01049d-2bc6-453f-9580-76a43970a1c5",
   "metadata": {},
   "source": [
    "Q8. How would you define the superclasses of a class?\n",
    "\n",
    "- A superclass is the class from which many subclasses can be created\n",
    "\n",
    "- The subclasses or the child classes inherit the characteristics of a superclass\n",
    "\n",
    "- The super class is also called as parent class or base class\n",
    "\n",
    "- Inheritance is used to base a class to another class to build a class on an existing class\n",
    "\n",
    "Example,"
   ]
  },
  {
   "cell_type": "code",
   "execution_count": 30,
   "id": "0951e6a3-4fa1-440a-8162-5ceae086b718",
   "metadata": {},
   "outputs": [
    {
     "name": "stdout",
     "output_type": "stream",
     "text": [
      "<__main__.p object at 0x000002543C5D9580> <class '__main__.p'>\n",
      "<__main__.g object at 0x000002543C5D9850> <class '__main__.g'>\n",
      "Hi Pradeepa\n"
     ]
    }
   ],
   "source": [
    "class g:\n",
    "    def __init__(self, name):\n",
    "        self.name = name\n",
    "    def greet(self):\n",
    "        print(\"Hi \" + self.name)\n",
    "class p(g):\n",
    "    pass\n",
    "x = p(\"Pradeepa\")\n",
    "y = g(\"Pradeepa\")\n",
    "print(x, type(x))\n",
    "print(y, type(y))\n",
    "y.greet()"
   ]
  },
  {
   "cell_type": "code",
   "execution_count": null,
   "id": "871c2151-c622-45d8-91d9-c6946234618c",
   "metadata": {},
   "outputs": [],
   "source": []
  }
 ],
 "metadata": {
  "kernelspec": {
   "display_name": "Python 3",
   "language": "python",
   "name": "python3"
  },
  "language_info": {
   "codemirror_mode": {
    "name": "ipython",
    "version": 3
   },
   "file_extension": ".py",
   "mimetype": "text/x-python",
   "name": "python",
   "nbconvert_exporter": "python",
   "pygments_lexer": "ipython3",
   "version": "3.8.8"
  }
 },
 "nbformat": 4,
 "nbformat_minor": 5
}
