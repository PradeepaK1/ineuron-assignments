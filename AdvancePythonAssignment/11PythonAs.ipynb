{
 "cells": [
  {
   "cell_type": "markdown",
   "id": "1c6f7b1c-0aa7-41de-9dae-8c116ea86d2b",
   "metadata": {},
   "source": [
    "Q1. What is the concept of a metaclass?\n",
    "\n",
    "Metaclass is a definition class of a class which explains how a class behaves\n",
    "\n",
    "Cetain cases are a instance of metaclass and any instance class in python is an instance of type metaclass\n",
    "\n",
    "Example,\n",
    "\n",
    "int, str, float, list, tuple"
   ]
  },
  {
   "cell_type": "markdown",
   "id": "c952269e-7eab-4f39-8ead-3d5a22129f02",
   "metadata": {},
   "source": [
    "Q2. What is the best way to declare a class's metaclass?\n",
    "\n",
    "metaclass key word is used to declare a santas clakd"
   ]
  },
  {
   "cell_type": "markdown",
   "id": "a806e5ef-52d7-468e-9256-3189a368936a",
   "metadata": {},
   "source": [
    "class meta(type):\n",
    "    pass\n",
    "class class_meta(metaclass=meta):\n",
    "    pass\n",
    "print(type(meta))\n",
    "print(type(class_meta))"
   ]
  },
  {
   "cell_type": "markdown",
   "id": "56fce23b-c351-41d2-96da-cfb541e50e52",
   "metadata": {},
   "source": [
    "Q3. How do class decorators overlap with metaclasses for handling classes?\n",
    "\n",
    "Anything you can do with a class decorator, you can of course do with a custom metaclasses (just apply the functionality of the \"decorator function\", i.e., the one that takes a class object and modifies it, in the course of the metaclass's __new__ or __init__ that make the class object!)."
   ]
  },
  {
   "cell_type": "markdown",
   "id": "b3afcb52-52c0-48e2-8bd6-06e614938c90",
   "metadata": {},
   "source": [
    "Q4. How do class decorators overlap with metaclasses for handling instances?\n",
    "\n",
    "Ans: Anything you can do with a class decorator, you can of course do with a custom metaclass (just apply the functionality of the \"decorator function\", i.e., the one that takes a class object and modifies it, in the course of the metaclass's __new__ or __init__ that make the class object!).\n"
   ]
  },
  {
   "cell_type": "code",
   "execution_count": null,
   "id": "e3c9ef6c-13d4-453d-9f0d-5abb95dbeab2",
   "metadata": {},
   "outputs": [],
   "source": []
  }
 ],
 "metadata": {
  "kernelspec": {
   "display_name": "Python 3",
   "language": "python",
   "name": "python3"
  },
  "language_info": {
   "codemirror_mode": {
    "name": "ipython",
    "version": 3
   },
   "file_extension": ".py",
   "mimetype": "text/x-python",
   "name": "python",
   "nbconvert_exporter": "python",
   "pygments_lexer": "ipython3",
   "version": "3.8.8"
  }
 },
 "nbformat": 4,
 "nbformat_minor": 5
}
