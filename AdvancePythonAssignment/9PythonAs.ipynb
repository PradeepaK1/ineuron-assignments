{
 "cells": [
  {
   "cell_type": "markdown",
   "id": "fe4b4e64-9f9f-4fe6-ab91-6dfb3b6e6ad0",
   "metadata": {},
   "source": [
    "Q1. In Python 3.X, what are the names and functions of string object types?\n",
    "\n",
    "There are so many names and functions ofo string object types some are listed below:\n",
    "\n",
    "Example,"
   ]
  },
  {
   "cell_type": "code",
   "execution_count": 1,
   "id": "e7815dff-bcd3-419d-b303-5fd970eb3ad6",
   "metadata": {},
   "outputs": [
    {
     "name": "stdout",
     "output_type": "stream",
     "text": [
      "1\n",
      "spabcle\n",
      "SPARKLE\n",
      "True\n"
     ]
    },
    {
     "data": {
      "text/plain": [
       "['__add__',\n",
       " '__class__',\n",
       " '__contains__',\n",
       " '__delattr__',\n",
       " '__dir__',\n",
       " '__doc__',\n",
       " '__eq__',\n",
       " '__format__',\n",
       " '__ge__',\n",
       " '__getattribute__',\n",
       " '__getitem__',\n",
       " '__getnewargs__',\n",
       " '__gt__',\n",
       " '__hash__',\n",
       " '__init__',\n",
       " '__init_subclass__',\n",
       " '__iter__',\n",
       " '__le__',\n",
       " '__len__',\n",
       " '__lt__',\n",
       " '__mod__',\n",
       " '__mul__',\n",
       " '__ne__',\n",
       " '__new__',\n",
       " '__reduce__',\n",
       " '__reduce_ex__',\n",
       " '__repr__',\n",
       " '__rmod__',\n",
       " '__rmul__',\n",
       " '__setattr__',\n",
       " '__sizeof__',\n",
       " '__str__',\n",
       " '__subclasshook__',\n",
       " 'capitalize',\n",
       " 'casefold',\n",
       " 'center',\n",
       " 'count',\n",
       " 'encode',\n",
       " 'endswith',\n",
       " 'expandtabs',\n",
       " 'find',\n",
       " 'format',\n",
       " 'format_map',\n",
       " 'index',\n",
       " 'isalnum',\n",
       " 'isalpha',\n",
       " 'isascii',\n",
       " 'isdecimal',\n",
       " 'isdigit',\n",
       " 'isidentifier',\n",
       " 'islower',\n",
       " 'isnumeric',\n",
       " 'isprintable',\n",
       " 'isspace',\n",
       " 'istitle',\n",
       " 'isupper',\n",
       " 'join',\n",
       " 'ljust',\n",
       " 'lower',\n",
       " 'lstrip',\n",
       " 'maketrans',\n",
       " 'partition',\n",
       " 'replace',\n",
       " 'rfind',\n",
       " 'rindex',\n",
       " 'rjust',\n",
       " 'rpartition',\n",
       " 'rsplit',\n",
       " 'rstrip',\n",
       " 'split',\n",
       " 'splitlines',\n",
       " 'startswith',\n",
       " 'strip',\n",
       " 'swapcase',\n",
       " 'title',\n",
       " 'translate',\n",
       " 'upper',\n",
       " 'zfill']"
      ]
     },
     "execution_count": 1,
     "metadata": {},
     "output_type": "execute_result"
    }
   ],
   "source": [
    "s='sparkle'\n",
    "print(s.find('pa'))\n",
    "print(s.replace('ark','abc'))\n",
    "print(s.upper())\n",
    "print(s.isalpha())\n",
    "dir(s)"
   ]
  },
  {
   "cell_type": "markdown",
   "id": "5566f676-b689-4467-9367-bde2218ad303",
   "metadata": {},
   "source": [
    "Q2. How do the string forms in Python 3.X vary in terms of operations?\n",
    "\n",
    "Python 2 and Python3 the major variation in string operations is that, the default format of strings in Unicode whereas in Python2 we need to specifically mention Unicode value using u"
   ]
  },
  {
   "cell_type": "markdown",
   "id": "08910b82-1536-4358-ad33-631fcf5b61e8",
   "metadata": {},
   "source": [
    "Q3. In 3.X, how do you put non-ASCII Unicode characters in a string?\n",
    "\n",
    "We use unidecode() method in the unidecode library to put non-ASCII Unicode Characters in string\n",
    "\n",
    "Example,"
   ]
  },
  {
   "cell_type": "code",
   "execution_count": 4,
   "id": "1cd764ec-b041-4d57-a6ad-b62a81459988",
   "metadata": {},
   "outputs": [
    {
     "name": "stdout",
     "output_type": "stream",
     "text": [
      "ij\\shdj23\\sjfb\n",
      "78231^&%^%$()\n"
     ]
    }
   ],
   "source": [
    "from unidecode import unidecode\n",
    "print(unidecode(u'ij\\shdj23\\sjfb'))\n",
    "print(unidecode(\"78231^&%^%$()\"))"
   ]
  },
  {
   "cell_type": "markdown",
   "id": "cacabcea-020a-4674-9327-82bef0de95cb",
   "metadata": {},
   "source": [
    "Q4. In Python 3.X, what are the key differences between text-mode and binary-mode files?\n",
    "\n",
    "Text-mode:\n",
    "    \n",
    "    Text file contains textual information in the form of alphabets, digits and special characters\n",
    "    \n",
    "    In this mode the data is read and decoded its content and return as a string str\n",
    "    \n",
    "    This mode also supports universal end-of-line translation and encoding arguments\n",
    "\n",
    "Binary-mode:\n",
    "\n",
    "    Binary files contains bytes or a compiled version of a text file\n",
    "    \n",
    "    The contents is decoded as raw and unchanged as bytes object\n",
    "    \n",
    "    This takes a byte object and transfers to the file, this mode also accepts a bytearray object for the content to be written to the file"
   ]
  },
  {
   "cell_type": "markdown",
   "id": "9bfa8558-c152-4816-8697-d51b49263adb",
   "metadata": {},
   "source": [
    "Q5. How can you interpret a Unicode text file containing text encoded in a different encoding than your platform's default?\n",
    "\n",
    "We can use encode() and decode() method to interpret a Unicode text file containing text encoded in a different encoding that your platform's default encoding parameter is UTF-8"
   ]
  },
  {
   "cell_type": "markdown",
   "id": "4793c314-6439-4dc4-8d46-cbfa65a77a41",
   "metadata": {},
   "source": [
    "Q6. What is the best way to make a Unicode text file in a particular encoding format?\n",
    "\n",
    "The ways in which we can make a unicode text file in a particular encoding format are\n",
    "\n",
    "str.encode(encoding) with encoding set to UTF-8 to encode to str\n",
    "\n",
    "open(file,mode) to open a file with mode set to wb to save files in binary write mode and save in UTF-8 format\n",
    "\n",
    "file.write(data) to write data to the file\n",
    "\n",
    "Example,"
   ]
  },
  {
   "cell_type": "code",
   "execution_count": 5,
   "id": "abd17960-00e9-45da-b71b-12931c04c478",
   "metadata": {},
   "outputs": [
    {
     "name": "stdout",
     "output_type": "stream",
     "text": [
      "b'jhadja'\n",
      "b'jhadja'\n"
     ]
    }
   ],
   "source": [
    "s=u\"jhadja\"\n",
    "e1=s.encode(\"utf-8\")\n",
    "print(e1)\n",
    "f=open(\"today.txt\",\"wb\")\n",
    "f.write(e1)\n",
    "f.close()\n",
    "r=open(\"today.txt\",\"rb\")\n",
    "d=r.read()\n",
    "print(d)"
   ]
  },
  {
   "cell_type": "markdown",
   "id": "02aef208-1764-4943-9aee-d0f11f595ccb",
   "metadata": {},
   "source": [
    "Q7. What qualifies ASCII text as a form of Unicode text?\n",
    "\n",
    "Unicode represents different languages text\n",
    "\n",
    "ASCII comprises of lowercase and uppercase alphabets and digits along with that the letters of different languages comprises in Unicode text\n",
    "\n",
    "Also it covers mathematical symbols, emojis, historical symbols etc"
   ]
  },
  {
   "cell_type": "markdown",
   "id": "18b4e0a1-bdee-4b0f-9829-e7a79bd91586",
   "metadata": {},
   "source": [
    "Q8. How much of an effect does the change in string types in Python 3.X have on your code?\n",
    "\n",
    "In Python3 strings are by default as Unicode but in Python2 we have to mark u if to be stored as Unicode\n",
    "\n",
    "Unicode strings are more in options than ASCII like it can comprise of foreign languages also other than english"
   ]
  },
  {
   "cell_type": "code",
   "execution_count": null,
   "id": "ede18df7-2c65-4510-93bd-920fddc96a1e",
   "metadata": {},
   "outputs": [],
   "source": []
  }
 ],
 "metadata": {
  "kernelspec": {
   "display_name": "Python 3",
   "language": "python",
   "name": "python3"
  },
  "language_info": {
   "codemirror_mode": {
    "name": "ipython",
    "version": 3
   },
   "file_extension": ".py",
   "mimetype": "text/x-python",
   "name": "python",
   "nbconvert_exporter": "python",
   "pygments_lexer": "ipython3",
   "version": "3.8.8"
  }
 },
 "nbformat": 4,
 "nbformat_minor": 5
}
