{
 "cells": [
  {
   "cell_type": "markdown",
   "id": "f6a0a859-6f3d-4228-a98d-0185e69f817c",
   "metadata": {},
   "source": [
    "Q1. What is the relationship between classes and modules?\n",
    "\n",
    "- Class is a logical entity where objects are created which are later used\n",
    "\n",
    "- A class contains variables and functions which act on the object\n",
    "\n",
    "- Modules in python are files with .py extension\n",
    "\n",
    "- Modules can be reused which contains functions, variables and other classes\n",
    "\n",
    "Example,\n",
    "\n",
    "The relationship between classes and modules is classes can be written in separate python files and can be called inside the other files as modules\n",
    "\n",
    "Details.py:\n",
    "\n",
    "class Details:\n",
    "    \n",
    "    def __init__(self,name):\n",
    "    \n",
    "        self.name = name\n",
    "    \n",
    "    def gdetails(self):\n",
    "         \n",
    "         print(f'Person Name: {self.name}')"
   ]
  },
  {
   "cell_type": "code",
   "execution_count": 40,
   "id": "c1b4b107-34b7-4087-a8fc-9ea6cda96f80",
   "metadata": {},
   "outputs": [
    {
     "name": "stdout",
     "output_type": "stream",
     "text": [
      "Person Name: Pradeepa\n"
     ]
    }
   ],
   "source": [
    "import Details\n",
    "i=Details.Details(\"Pradeepa\")\n",
    "i.gdetails()"
   ]
  },
  {
   "cell_type": "markdown",
   "id": "649c44da-5627-4792-a936-22921e747a46",
   "metadata": {},
   "source": [
    "Q2. How do you make instances and classes?\n",
    "\n",
    "- Class is created using first the keyword called class\n",
    "\n",
    "- The name of the class is given then a classname and a semicolon is given, inside which methods and initialization are given\n",
    "\n",
    "- Instance is created by calling a class by its name and pass the arguments which its __init__ method takes\n",
    "\n",
    "Example,"
   ]
  },
  {
   "cell_type": "code",
   "execution_count": 41,
   "id": "d054e63f-ad08-4ea8-b366-d11f44a4d614",
   "metadata": {},
   "outputs": [
    {
     "name": "stdout",
     "output_type": "stream",
     "text": [
      "Pradeepa\n"
     ]
    }
   ],
   "source": [
    "#creation of class\n",
    "class Person:\n",
    "    def __init__(self,name):\n",
    "        self.name=name\n",
    "    def p(self):\n",
    "        print(self.name)\n",
    "#creation of instance\n",
    "kpd=Person(\"Pradeepa\")\n",
    "kpd.p()"
   ]
  },
  {
   "cell_type": "markdown",
   "id": "c0fc4eff-eb22-49e1-81d2-803bb952e5c9",
   "metadata": {},
   "source": [
    "Q3. Where and how should be class attributes created?\n",
    "\n",
    "- Class attributes are the parameters, arguments which are to be passed when calling class through object \n",
    "\n",
    "- These attributes are used in operation of other methods created in the class\n",
    "\n",
    "- If bike is a class - color, model, year, brand these are the attributes\n",
    "\n",
    "Example,"
   ]
  },
  {
   "cell_type": "code",
   "execution_count": 42,
   "id": "c8c08800-8552-4123-a008-818435370818",
   "metadata": {},
   "outputs": [],
   "source": [
    "class bike:\n",
    "    def __init__(self, color, model, year, brand):\n",
    "        self.color=color\n",
    "        self.model=model\n",
    "        self.year=year\n",
    "        self.brand=brand\n",
    "b=bike(\"blue\",\"fascino\",\"2020\",\"yamaha\")"
   ]
  },
  {
   "cell_type": "markdown",
   "id": "4152a3e9-0c44-4732-b355-c255a561d915",
   "metadata": {},
   "source": [
    "Q4. Where and how are instance attributes created?\n",
    "\n",
    "- Instance attributes are given when an instance of the class is called from its object\n",
    "\n",
    "- Instance attributes are not common and is with respect to only that instance call\n",
    "\n",
    "- These instance attributes are passed to the __init__ method of a class\n",
    "\n",
    "Example\n",
    "\n",
    "Here 2 instance attributes b, b1 are created"
   ]
  },
  {
   "cell_type": "code",
   "execution_count": 43,
   "id": "9c71d499-dd9e-4e09-b4d0-9af6824afb54",
   "metadata": {},
   "outputs": [],
   "source": [
    "class bike:\n",
    "    def __init__(self, color, model, year, brand):\n",
    "        self.color=color\n",
    "        self.model=model\n",
    "        self.year=year\n",
    "        self.brand=brand\n",
    "b=bike(\"blue\",\"fascino\",\"2020\",\"yamaha\")\n",
    "b1=bike(\"maroon\",\"duro\",\"2011\",\"mahindra\")"
   ]
  },
  {
   "cell_type": "markdown",
   "id": "7422b064-df38-4cac-b5a0-df14bf000fa3",
   "metadata": {},
   "source": [
    "Q5. What does the term \"self\" in a Python class mean?\n",
    "\n",
    "- In Python the methods are done in a way that makes the instance to which the method belongs be passed automatically but not received automatically\n",
    "\n",
    "- The self - first parameter or the argument of the methods is the instance the method is called on\n",
    "\n",
    "- The first argument (generally used as self) is just another object type\n",
    "\n",
    "Let's say you have a class ClassA which contains a method methodA defined as:\n",
    "\n",
    "def methodA(self, arg1, arg2): and ObjectA is an instance of this class.\n",
    "\n",
    "Now when ObjectA.methodA(arg1, arg2) is called, python internally converts it for you as:\n",
    "\n",
    "ClassA.methodA(ObjectA, arg1, arg2)\n",
    "\n",
    "The self variable refers to the object itself.\n",
    "\n",
    "Example"
   ]
  },
  {
   "cell_type": "code",
   "execution_count": 44,
   "id": "2ff5cf27-69be-4024-9ad7-3bb99c6b1558",
   "metadata": {},
   "outputs": [
    {
     "name": "stdout",
     "output_type": "stream",
     "text": [
      "init added\n"
     ]
    }
   ],
   "source": [
    "class c(object):\n",
    "    def __init__(self):\n",
    "        self.field = 'init'\n",
    "    def add(self, x):\n",
    "        self.field += x\n",
    "s = c()\n",
    "s.add(' added')    \n",
    "print(s.field )"
   ]
  },
  {
   "cell_type": "markdown",
   "id": "f23a1168-bb2b-4ef6-b4de-8c4d2f637f8c",
   "metadata": {},
   "source": [
    "Q6. How does a Python class handle operator overloading?\n",
    "\n",
    "- Operator overloading in python is simple in certain cases it uses Magic methods\n",
    "\n",
    "- In general operator overloading means using the same operator for different purposes\n",
    "\n",
    "- Like '+' operator is used to add both strings and integers\n",
    "\n",
    "- Same way '*' is also used to manipulate strings and integers\n",
    "\n",
    "- Also in Python magic methods are used to do internally\n",
    "\n",
    "- Like __add__(), __sub__(), __mul__(), __div__()"
   ]
  },
  {
   "cell_type": "code",
   "execution_count": 45,
   "id": "5f74585b-5e77-4355-b49d-33262518de13",
   "metadata": {},
   "outputs": [
    {
     "name": "stdout",
     "output_type": "stream",
     "text": [
      "6\n",
      "Hi Hi \n",
      "Hi Hi Hi Hi \n",
      "8\n"
     ]
    }
   ],
   "source": [
    "n=1\n",
    "m=\"Hi \"\n",
    "print(n.__add__(5))\n",
    "print(m+m)\n",
    "print(m*4)\n",
    "print(n.__mul__(8))"
   ]
  },
  {
   "cell_type": "markdown",
   "id": "8fd3e69e-2446-4a93-abbf-e15edc98a983",
   "metadata": {},
   "source": [
    "Q7. When do you consider allowing operator overloading of your classes?\n",
    "\n",
    "- When it is required to do the deliverables in such a way\n",
    "\n",
    "- If we want to manipulate on strings and if that can be achieved without complexity if operator overloading is done then it can be used\n",
    "\n",
    "- Same time if we want to do any arithmetic operations also we can use operator overloading simultaneously"
   ]
  },
  {
   "cell_type": "code",
   "execution_count": 46,
   "id": "3e2fd363-8f5a-493a-aff0-30af3279ddb3",
   "metadata": {},
   "outputs": [
    {
     "name": "stdout",
     "output_type": "stream",
     "text": [
      "HiHiHiHiHiHiHiHi\n",
      "HiHello\n",
      "17\n",
      "72\n"
     ]
    }
   ],
   "source": [
    "s=\"Hi\"\n",
    "s1=\"Hello\"\n",
    "n=8\n",
    "n1=9\n",
    "print(s*n)\n",
    "print(s+s1)\n",
    "print(n+n1)\n",
    "print(n*n1)"
   ]
  },
  {
   "cell_type": "markdown",
   "id": "ab7bb2a2-3191-4981-8541-c2a23889cd11",
   "metadata": {},
   "source": [
    "Q8. What is the most popular form of operator overloading?\n",
    "\n",
    "- String concatenation is the most popular form of operator overloading\n",
    "\n",
    "For example,"
   ]
  },
  {
   "cell_type": "code",
   "execution_count": 47,
   "id": "efba6a40-64f8-4cee-b4c8-42b6fd70a1f9",
   "metadata": {},
   "outputs": [
    {
     "name": "stdout",
     "output_type": "stream",
     "text": [
      "3\n",
      "Hi Hello\n"
     ]
    }
   ],
   "source": [
    "class Overloding:\n",
    "    def __init__(self,a):\n",
    "        self.a = a\n",
    "    def __add__(self,b):\n",
    "        return self.a+b.a\n",
    "obj1 = Overloding(1)\n",
    "obj2 = Overloding(2)\n",
    "obj3 = Overloding('Hi')\n",
    "obj4 = Overloding(' Hello')\n",
    "print(obj1+obj2)\n",
    "print(obj3+obj4)"
   ]
  },
  {
   "cell_type": "markdown",
   "id": "6c8af22e-1af6-42a8-94a6-e96e973e6f34",
   "metadata": {},
   "source": [
    "Q9. What are the two most important concepts to grasp in order to comprehend Python OOP code?\n",
    "\n",
    "- Classes - Collection of methods, objects, variables it is a logical entity\n",
    "\n",
    "- Objects - An object is an instance of a class and has allocation of memory\n",
    "\n",
    "- Inheritance - When a class inherits certain properties of the base class to itself is called as inheritance. It is used for code reusability\n",
    "\n",
    "- Abstraction - Hiding internal details of the code and just using it for the functionality is called as abstraction\n",
    "\n",
    "- Polymorphism - Overloading of operators is an example of Polymorphism, Same thing is used to solve different purposes is called as Polymorphism\n",
    "\n",
    "- Encapsulation -  Binding data and code as a single module is called as encapsulation"
   ]
  },
  {
   "cell_type": "code",
   "execution_count": null,
   "id": "4ed4a7f0-d02a-46e3-9076-a6fdc7ddc298",
   "metadata": {},
   "outputs": [],
   "source": []
  }
 ],
 "metadata": {
  "kernelspec": {
   "display_name": "Python 3",
   "language": "python",
   "name": "python3"
  },
  "language_info": {
   "codemirror_mode": {
    "name": "ipython",
    "version": 3
   },
   "file_extension": ".py",
   "mimetype": "text/x-python",
   "name": "python",
   "nbconvert_exporter": "python",
   "pygments_lexer": "ipython3",
   "version": "3.8.8"
  }
 },
 "nbformat": 4,
 "nbformat_minor": 5
}
