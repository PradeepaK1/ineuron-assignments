{
 "cells": [
  {
   "cell_type": "markdown",
   "id": "7d807444-86ff-4177-a401-289e0a9c9d39",
   "metadata": {},
   "source": [
    "1.What are the new features added in Python 3.8 version?\n",
    "\n",
    "Many features are added in Python 3.8 a few of them are:\n",
    "    \n",
    "    Instead of throwing plain errors, informative syntax warnings are given\n",
    "    \n",
    "    yield, return statement does not require to be enclosed in brackets\n",
    "\n",
    "    Walrus operator is used to assign and return a value in the same expression\n",
    "\n",
    "    Dict comprehensions are made in a way that logically key is computed first and value is computed second\n",
    "    \n",
    "    New library is added importlib_metadata which provides API for accessing an installed package's metadata"
   ]
  },
  {
   "cell_type": "markdown",
   "id": "2ff8d855-b0e0-4267-ba1b-e4c51cab1e80",
   "metadata": {},
   "source": [
    "2.What is monkey patching in Python?\n",
    "\n",
    "Monkey Patching means to make dynamic(run time) modifications to a class or module\n",
    "\n",
    "It gives the power to change behavior of code even at the run time\n",
    "\n",
    "Example"
   ]
  },
  {
   "cell_type": "code",
   "execution_count": 1,
   "id": "f02aea1f-0be7-4d1d-b58c-bff929780bc2",
   "metadata": {},
   "outputs": [
    {
     "name": "stdout",
     "output_type": "stream",
     "text": [
      "Executed mpatch\n"
     ]
    }
   ],
   "source": [
    "class A:\n",
    "    def fun(self):\n",
    "        print(\"Executed fun\")\n",
    "def mpatch(self):\n",
    "    print(\"Executed mpatch\")\n",
    "A.fun=mpatch\n",
    "o=A()\n",
    "o.fun()"
   ]
  },
  {
   "cell_type": "markdown",
   "id": "bd317706-702d-430b-9c64-79eef042e845",
   "metadata": {},
   "source": [
    "3.What is the difference between a shallow copy and deep copy?\n",
    "\n",
    "In shallow copy the changes made to the copied object will also change the original object, as the reference addresses point to the same location\n",
    "\n",
    "It uses the syntax copy()\n",
    "\n",
    "In deep copy the changes made to the copied object will not impact the original object as the reference addresses differ as they point to different locations\n",
    "\n",
    "It uses the syntax deepcopy()\n",
    "\n",
    "Example"
   ]
  },
  {
   "cell_type": "code",
   "execution_count": 2,
   "id": "044e9454-f7e8-498d-ac8a-25e01c83c083",
   "metadata": {},
   "outputs": [
    {
     "name": "stdout",
     "output_type": "stream",
     "text": [
      "[1, 2, 3] [1, 2, 3]\n",
      "[1, 2, 3] [1, 2, 3] [1, 2, 3]\n"
     ]
    }
   ],
   "source": [
    "from copy import deepcopy, copy\n",
    "l=[1,2,3]\n",
    "l1=deepcopy(l)\n",
    "print(l,l1)\n",
    "l2=copy(l)\n",
    "print(l,l1,l2)"
   ]
  },
  {
   "cell_type": "markdown",
   "id": "fa292cf5-5abf-4e3e-b482-5ad52bc5dd7c",
   "metadata": {},
   "source": [
    "4.What is the maximum possible length of an identifier?\n",
    "\n",
    "The maximum possible length of an identifier is 79 characters\n",
    "\n",
    "Python when combined with identifiers is case sensitive\n",
    "\n",
    "Though length of an identifier is 79 but Python offers unlimited identifiers for usage\n",
    "\n",
    "PEP-8 prevents the user from breaking the rules and includes a 79 character limit"
   ]
  },
  {
   "cell_type": "markdown",
   "id": "649a7a78-1154-4a38-a0f9-bd842ba998a1",
   "metadata": {},
   "source": [
    "5.What is generator comprehension?\n",
    "\n",
    "Generator comprehension uses round bracket unlike square bracket in list comprehension.\n",
    "\n",
    "The generator yields one item at a time and generates item only when in demand. Whereas, in a list comprehension, Python reserves memory for the whole list. Thus we can say that the generator expressions are memory efficient than the lists.\n",
    "\n",
    "Example,"
   ]
  },
  {
   "cell_type": "code",
   "execution_count": 3,
   "id": "c836a765-a4d4-4747-9917-9251ea579f7e",
   "metadata": {},
   "outputs": [
    {
     "name": "stdout",
     "output_type": "stream",
     "text": [
      "[0, 1, 2, 3, 4, 5, 6, 7, 8, 9]\n",
      "<generator object <genexpr> at 0x000002A978FC84A0>\n",
      "0\n",
      "2\n",
      "4\n",
      "6\n",
      "8\n"
     ]
    }
   ],
   "source": [
    "l = [x for x in range(10)] \n",
    "print(l)\n",
    "p = (x for x in l if x%2 == 0) \n",
    "print(p) \n",
    "for i in p:\n",
    "    print(i)"
   ]
  },
  {
   "cell_type": "code",
   "execution_count": null,
   "id": "d40cff89-749c-4bcd-a3b5-4beceeb8c1d4",
   "metadata": {},
   "outputs": [],
   "source": []
  }
 ],
 "metadata": {
  "kernelspec": {
   "display_name": "Python 3",
   "language": "python",
   "name": "python3"
  },
  "language_info": {
   "codemirror_mode": {
    "name": "ipython",
    "version": 3
   },
   "file_extension": ".py",
   "mimetype": "text/x-python",
   "name": "python",
   "nbconvert_exporter": "python",
   "pygments_lexer": "ipython3",
   "version": "3.8.8"
  }
 },
 "nbformat": 4,
 "nbformat_minor": 5
}
