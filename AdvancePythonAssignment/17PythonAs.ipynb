{
 "cells": [
  {
   "cell_type": "markdown",
   "id": "736d1c13-1b1d-45b3-a7f9-a0aac1888d8e",
   "metadata": {},
   "source": [
    "Q1. Explain the difference between greedy and non-greedy syntax with visual terms in as few words as possible. What is the bare minimum effort required to transform a greedy pattern into a non-greedy one? What characters or characters can you introduce or change?\n",
    "\n",
    "Greedy Syntax:\n",
    "\n",
    "Here the syntax will try to match as many repetition as possible of the quantified pattern\n",
    "\n",
    "Syntax: re.findall(\"pattern*\",\"string\")\n",
    "\n",
    "Non Greedy Syntax:\n",
    "\n",
    "Here it will match only a few repeting patterns as possible does not make best use of it\n",
    "\n",
    "Syntax: re.findall(\"pattern*?\",\"string\")\n",
    "\n",
    "Example,"
   ]
  },
  {
   "cell_type": "code",
   "execution_count": 5,
   "id": "9b4da80b-fd33-4862-af01-7d920c0c4ec7",
   "metadata": {},
   "outputs": [
    {
     "name": "stdout",
     "output_type": "stream",
     "text": [
      "['kp', 'kp', 'kp', 'kp']\n",
      "['k', 'k', 'k', 'k']\n"
     ]
    }
   ],
   "source": [
    "import re\n",
    "print(re.findall(\"kp*\",\"kpdkpskpdkps\"))\n",
    "print(re.findall(\"kp*?\",\"kpdkpskpdkps\"))"
   ]
  },
  {
   "cell_type": "markdown",
   "id": "eef0d233-4f30-46c1-a019-ca5a888fa802",
   "metadata": {},
   "source": [
    "Q2. When exactly does greedy versus non-greedy make a difference?  What if you're looking for a non-greedy match but the only one available is greedy?\n",
    "\n",
    "The main difference is greedy match matches as many repetitions of the quantified pattern as possible, but in non greedy match only few repetitions are matched\n",
    "\n",
    "If when looking for a non-greedy match but only available one is greedy then, we can use filters or other matching methods in regex for the pattern matching"
   ]
  },
  {
   "cell_type": "markdown",
   "id": "3fb736fc-43ab-44ad-8686-3e9a841f7141",
   "metadata": {},
   "source": [
    "Q3. In a simple match of a string, which looks only for one match and does not do any replacement, is the use of a nontagged group likely to make any practical difference?\n",
    "\n",
    "No the Non Tagged Group won't make any difference here\n",
    "\n",
    "Example,"
   ]
  },
  {
   "cell_type": "code",
   "execution_count": 6,
   "id": "c4b3122d-44b2-4023-83be-f08c09fc1e02",
   "metadata": {},
   "outputs": [
    {
     "name": "stdout",
     "output_type": "stream",
     "text": [
      "1\n",
      "1\n"
     ]
    }
   ],
   "source": [
    "import re\n",
    "n=re.compile(r'\\d')\n",
    "nn=n.search(\"Hi hello 1212 hi again!\")\n",
    "print(nn.group())\n",
    "print(nn.group())"
   ]
  },
  {
   "cell_type": "markdown",
   "id": "87e2f4cc-88be-41f0-9178-ea82348c5acf",
   "metadata": {},
   "source": [
    "Q4. Describe a scenario in which using a nontagged category would have a significant impact on the program's outcomes ?\n",
    "\n",
    "It will be useful in scenarios where the separator of value in a string is of no use and we need to capture only the values."
   ]
  },
  {
   "cell_type": "code",
   "execution_count": 7,
   "id": "b35edd71-1518-423b-90bf-d6edc9318664",
   "metadata": {},
   "outputs": [
    {
     "data": {
      "text/plain": [
       "('2892', '928')"
      ]
     },
     "execution_count": 7,
     "metadata": {},
     "output_type": "execute_result"
    }
   ],
   "source": [
    "import re\n",
    "s='2892.928'\n",
    "p=r'(\\d+)(?:.)(\\d+)'\n",
    "r=re.compile(p)\n",
    "m=r.search(s)\n",
    "m.groups()"
   ]
  },
  {
   "cell_type": "markdown",
   "id": "68194e0c-58ca-41d9-aa52-64a420c89ce5",
   "metadata": {},
   "source": [
    "Q5. Unlike a normal regex pattern, a look-ahead condition does not consume the characters it examines. Describe a situation in which this could make a difference in the results of your programme.\n",
    "\n",
    "The process to count the numbers of multiple lines or sentences in a string the positive look ahead will make a difference, so when this used we can get the correct count of line or sentences in a string"
   ]
  },
  {
   "cell_type": "markdown",
   "id": "5497c54c-114b-4749-bed6-9e0de0aef0dd",
   "metadata": {},
   "source": [
    "Q6. In standard expressions, what is the difference between positive look-ahead and negative look-ahead?\n",
    "\n",
    "Negative Look Ahead looks behind or from backwards, this allows to match a pattern if there is something before it\n",
    "\n",
    "In positive look ahead it will add a condition for what follows next "
   ]
  },
  {
   "cell_type": "markdown",
   "id": "0542d497-9391-4d7e-b931-e609a56f0275",
   "metadata": {},
   "source": [
    "Q7. What is the benefit of referring to groups by name rather than by number in a standard expression?\n",
    "\n",
    "The main benefit of referring to groups by name rather than by number in a standard expression is it keeps the code clear and comprehendable, readable"
   ]
  },
  {
   "cell_type": "markdown",
   "id": "5428d8a5-bdce-4e71-a101-a3b4a0863f02",
   "metadata": {},
   "source": [
    "Q8. Can you identify repeated items within a target string using named groups, as in \"The cow jumped over the moon\""
   ]
  },
  {
   "cell_type": "code",
   "execution_count": 8,
   "id": "e02f10d7-1edd-4215-98b6-08f40810ffc0",
   "metadata": {},
   "outputs": [
    {
     "data": {
      "text/plain": [
       "['The', 'the']"
      ]
     },
     "execution_count": 8,
     "metadata": {},
     "output_type": "execute_result"
    }
   ],
   "source": [
    "import re\n",
    "t=\"The cow jumped over the moon\"\n",
    "r=re.compile(r'(?P<w1>The)',re.I)\n",
    "r.findall(t)"
   ]
  },
  {
   "cell_type": "markdown",
   "id": "75db44eb-47c2-4ddd-8810-503f4668c887",
   "metadata": {},
   "source": [
    "Q9. When parsing a string, what is at least one thing that the Scanner interface does for you that the re.findall feature does not?\n",
    "\n",
    "re.findall() module is used to search for all occurrences that match a given pattern. In contrast, re.search() will only return the first occurrence that matches the specified pattern. re.findall() will iterate over all the lines of the file and will return all non-overlapping matches of pattern in a single step."
   ]
  },
  {
   "cell_type": "markdown",
   "id": "be5c9c88-d6b2-42cf-9c55-ad5232dde841",
   "metadata": {},
   "source": [
    "Q10. Does a scanner object have to be named scanner?\n",
    "\n",
    "No not necessary it can take any name"
   ]
  },
  {
   "cell_type": "code",
   "execution_count": null,
   "id": "1a11329c-1865-43ef-b566-4b60b94949fd",
   "metadata": {},
   "outputs": [],
   "source": []
  },
  {
   "cell_type": "code",
   "execution_count": null,
   "id": "59b5f606-63f6-434b-afee-7d2ff925329e",
   "metadata": {},
   "outputs": [],
   "source": []
  }
 ],
 "metadata": {
  "kernelspec": {
   "display_name": "Python 3",
   "language": "python",
   "name": "python3"
  },
  "language_info": {
   "codemirror_mode": {
    "name": "ipython",
    "version": 3
   },
   "file_extension": ".py",
   "mimetype": "text/x-python",
   "name": "python",
   "nbconvert_exporter": "python",
   "pygments_lexer": "ipython3",
   "version": "3.8.8"
  }
 },
 "nbformat": 4,
 "nbformat_minor": 5
}
