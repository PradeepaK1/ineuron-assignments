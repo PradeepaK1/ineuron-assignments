{
 "cells": [
  {
   "cell_type": "markdown",
   "id": "56500e2e-e7d0-4ce2-a64f-e3f8440307ee",
   "metadata": {},
   "source": [
    "Q1. Is it permissible to use several import statements to import the same module? What would the goal be? Can you think of a situation where it would be beneficial?\n",
    "\n",
    "Yes it is permissible to use several import statements to import the same module\n",
    "\n",
    "One such situation where we can use multiple imports is that when we have to import multiple functions from same module"
   ]
  },
  {
   "cell_type": "markdown",
   "id": "e18cf5c1-a81d-46c0-8f29-082ba69ec6ab",
   "metadata": {},
   "source": [
    "Q2. What are some of a module's characteristics? (Name at least one.)\n",
    "\n",
    "_ _name_ _ : On using this returns the name of the module\n",
    "\n",
    "_ _doc_ _ : On using this returns the documentation string line written in a module code\n",
    "    \n",
    "_ _file_ _ : On using this returns the name and path of the module file from which it is loaded"
   ]
  },
  {
   "cell_type": "markdown",
   "id": "237b94b4-6f7a-4dd4-86db-994d6fb18099",
   "metadata": {},
   "source": [
    "Q3. Circular importing, such as when two modules import each other, can lead to dependencies and bugs that aren't visible. How can you go about creating a program that avoids mutual importing?\n",
    "\n",
    "Circular importing in essence means importing the two modules.\n",
    "\n",
    "That is while working in fileA and that is importing a function in fileB, then this will throw a import error\n",
    "\n",
    "This is due to when we import a function from fileB, then fileB gets executed, and if in fileB if some statement imports a module in fileA then such errors occur\n",
    "\n",
    "This will result in infinite loop\n",
    "\n",
    "To avoid such situations, we can give like,\n",
    "\n",
    "_ _name_ _ == '_ _main_ _'"
   ]
  },
  {
   "cell_type": "markdown",
   "id": "e4f7bb49-81ee-41d2-b4e5-b0bfa1997ea9",
   "metadata": {},
   "source": [
    "Q4. Why is  _ _all_ _ in Python?\n",
    "\n",
    "_ _all_ _ provides list of all modules in the library"
   ]
  },
  {
   "cell_type": "markdown",
   "id": "34ccf08c-76e8-4e2b-952a-710a79a7819a",
   "metadata": {},
   "source": [
    "Q5. In what situation is it useful to refer to the _ _name_ _ attribute or the string '_ _main_ _'?\n",
    "\n",
    "Ans: During the time of execution of the code if we want to refer the module in which we are working on then we uses name attribute. In that case it will return the module in which we are working on. Suppose if that moudle is being imported from some other module then name will have the name of that moudle from where the current module has been imported. The current module in which we are working is refer to the string __main __."
   ]
  },
  {
   "cell_type": "markdown",
   "id": "cad15644-fe55-4430-8f93-9ac0ed6664ec",
   "metadata": {},
   "source": [
    "Q6. What are some of the benefits of attaching a program counter to the RPN interpreter application, which interprets an RPN script line by line?\n",
    "\n",
    "RPN - Reverse Polish Notation, is one notation to represent mathematical expressions\n",
    "\n",
    "This eliminates the need for parentheses \n",
    "\n",
    "This also reduces keystrokes, so users can complete calculations more quickly and efficiently\n",
    "\n",
    "In this notation, the operators follow their operands, hence removing the need for brackets to define evaluation priority."
   ]
  },
  {
   "cell_type": "markdown",
   "id": "842e8214-a07b-469a-866c-4e2715d52d7b",
   "metadata": {},
   "source": [
    "Q7. What are the minimum expressions or statements (or both) that you'd need to render a basic programming language like RPN primitive but complete— that is, capable of carrying out any computerised task theoretically possible?\n",
    "\n",
    "\n",
    "Two operands with an operation is the bare minimum required like\n",
    "\n",
    "2 5 +"
   ]
  },
  {
   "cell_type": "code",
   "execution_count": null,
   "id": "4eaef03d-706b-44da-b7be-f4a4caf9ad74",
   "metadata": {},
   "outputs": [],
   "source": []
  },
  {
   "cell_type": "code",
   "execution_count": null,
   "id": "76d18f82-a61a-4c26-ac21-3de34feeae29",
   "metadata": {},
   "outputs": [],
   "source": []
  }
 ],
 "metadata": {
  "kernelspec": {
   "display_name": "Python 3",
   "language": "python",
   "name": "python3"
  },
  "language_info": {
   "codemirror_mode": {
    "name": "ipython",
    "version": 3
   },
   "file_extension": ".py",
   "mimetype": "text/x-python",
   "name": "python",
   "nbconvert_exporter": "python",
   "pygments_lexer": "ipython3",
   "version": "3.8.8"
  }
 },
 "nbformat": 4,
 "nbformat_minor": 5
}
