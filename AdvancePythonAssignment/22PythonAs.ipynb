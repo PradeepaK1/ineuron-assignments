{
 "cells": [
  {
   "cell_type": "markdown",
   "id": "df0c519b-5b9b-46bc-a9b3-20d6a59e65fd",
   "metadata": {},
   "source": [
    "Q1. What are the benefits of the built-in array package, if any?\n",
    "\n",
    "There are many benefits of the built-in array package like:\n",
    "    \n",
    "    Arrays are the direct way of acccessing data from memory \n",
    "    \n",
    "    Memory allocation is in contiguous memory locations so, no chance of extra memory being allocated\n",
    "    \n",
    "    They are much more fast and efficient\n",
    "    \n",
    "    We can use many built-in methods on array like len(), append(), extend() which will make our work easier\n",
    "    \n",
    "    Type conversion is easier from array to list etc\n",
    "    \n",
    "    We can get the type code of the array as with which we can determine the elements inside array\n",
    "    \n",
    "    We can manipulate the index in arrays"
   ]
  },
  {
   "cell_type": "markdown",
   "id": "eaf540ad-7b39-4387-8864-376dd1fa0917",
   "metadata": {},
   "source": [
    "Q2. What are some of the array package's limitations?\n",
    "\n",
    "Limitations:\n",
    "    \n",
    "    The number of elements should be given and known before usage\n",
    "    \n",
    "    Arrays are static in nature so the size is fixed hence changing in runtime is tough\n",
    "    \n",
    "    The memory allocated is fixed so cannot be extended\n",
    "    \n",
    "    Wastage of memory can also happen if the elements are not fully utilized"
   ]
  },
  {
   "cell_type": "markdown",
   "id": "9f91f028-380b-4b43-bde0-50519ef64f0e",
   "metadata": {},
   "source": [
    "Q3. Describe the main differences between the array and numpy packages.\n",
    "\n",
    "Array:\n",
    "    \n",
    "    Arrays do not have any package to help with numerical calculations methods\n",
    "    \n",
    "    Arrays are single dimensional in nature\n",
    "    \n",
    "    Accessing, operations with respect to array elements are easier as we can just access elements with index\n",
    "\n",
    "Numpy:\n",
    "    \n",
    "    Numpy provides, various numerical calculations methods and libraries which make the calculations easier\n",
    "\n",
    "    Numpy can hold multi-dimensional data\n",
    "    \n",
    "    Accessing and operations on numpy elements are little complex as we have to access through row and column numbers\n",
    "    \n",
    "    These are faster in operations and render a greater performance and occupies lesser space"
   ]
  },
  {
   "cell_type": "markdown",
   "id": "fe744205-38f9-4b49-8b16-36e2dfa1d361",
   "metadata": {},
   "source": [
    "Q4. Explain the distinctions between the empty, ones, and zeros functions.\n",
    "\n",
    "Empty Function\n",
    "\n",
    "Some times an empty array is to be created which then can be filled with some other values, we can pass this array to avoid errors\n",
    "\n",
    "So this can be considered as a dummy errors which then can be manipulated\n",
    "\n",
    "Ones Function:\n",
    "    \n",
    "This function returns a array of given dimensions containing only every element as 1\n",
    "\n",
    "Zeros Function:\n",
    "    \n",
    "This function returns a array of given dimensions containing only every element as 0"
   ]
  },
  {
   "cell_type": "code",
   "execution_count": 1,
   "id": "8c67948f-945f-4db2-b2bb-f5bb777f5e7b",
   "metadata": {},
   "outputs": [
    {
     "name": "stdout",
     "output_type": "stream",
     "text": [
      "[[0. 0.]\n",
      " [0. 0.]]\n",
      "[[0. 0.]\n",
      " [0. 0.]]\n",
      "[[1. 1.]\n",
      " [1. 1.]]\n"
     ]
    }
   ],
   "source": [
    "import numpy as np \n",
    "x = np.empty([2,2]) \n",
    "print (x)\n",
    "y = np.zeros((2,2))  \n",
    "print(y)  \n",
    "z = np.ones((2,2))  \n",
    "print(z)  "
   ]
  },
  {
   "cell_type": "markdown",
   "id": "cda6a208-dbfb-462d-a555-48613cf6b026",
   "metadata": {},
   "source": [
    "Q5. In the fromfunction function, which is used to construct new arrays, what is the role of the callable argument?\n",
    "\n",
    "The role of callable argument is to execute the function over every coordinate and the resulting array\n",
    "\n",
    "The function is called with N parameters, N - is the rank of shape\n",
    "\n",
    "Each parameter represents the coordinates of the array which vary among the axis"
   ]
  },
  {
   "cell_type": "markdown",
   "id": "f717dafa-4ed5-4624-9f7b-091567928070",
   "metadata": {},
   "source": [
    "Q6. What happens when a numpy array is combined with a single-value operand (a scalar, such as an int or a floating-point value) through addition, as in the expression A + n?\n",
    "\n",
    "When a numpy array is combined with a single-value operand such as an int or a floating-point value through addition, as in the expression A + n, then all the elements inside the array will add that value in it"
   ]
  },
  {
   "cell_type": "markdown",
   "id": "7ff38780-c5b4-4597-85b9-aad299ca1053",
   "metadata": {},
   "source": [
    "Q7. Can array-to-scalar operations use combined operation-assign operators (such as += or *=)? What is the outcome?\n",
    "\n",
    "Yes it will execute provided operation on all elements of the array"
   ]
  },
  {
   "cell_type": "markdown",
   "id": "8fd2b689-f5d1-41e9-855e-0d511a73bd1e",
   "metadata": {},
   "source": [
    "Q8. Does a numpy array contain fixed-length strings? What happens if you allocate a longer string to one of these arrays?\n",
    "\n",
    "Yes, a numpy array contain fixed-length strings. The datatype of any numpy array containing string values with the maximum length of any string present in the array.\n",
    "\n",
    "Now it will be able to store new string length not more than the maximum length at the time of creation\n",
    "\n",
    "If we reassign some other value having greater length then it discards all the values exceed, the maximum length accept upto those are under limit"
   ]
  },
  {
   "cell_type": "markdown",
   "id": "83b56578-dee2-48ee-a708-b8291669ef4a",
   "metadata": {},
   "source": [
    "Q9. What happens when you combine two numpy arrays using an operation like addition (+) or multiplication (*)? What are the conditions for combining two numpy arrays?\n",
    "\n",
    "When we combine two numpy arrays using an operation like addition (+) or multiplication (*) it will simply add or multiply element to element at same position"
   ]
  },
  {
   "cell_type": "markdown",
   "id": "ebbe9a8a-d871-4919-b694-fc70910db27e",
   "metadata": {},
   "source": [
    "Q10. What is the best way to use a Boolean array to mask another array?\n",
    "\n",
    "The best way to use a Boolean array to mask another array is by using masked_where of numpy package"
   ]
  },
  {
   "cell_type": "markdown",
   "id": "a2a33729-a6b6-4de1-bf6d-ffa7dc4c68cc",
   "metadata": {},
   "source": [
    "Q11. What are three different ways to get the standard deviation of a wide collection of data using both standard Python and its packages? Sort the three of them by how quickly they execute.\n",
    "\n",
    "1.np.std\n",
    "\n",
    "2.stdev\n",
    "\n",
    "3.math package"
   ]
  },
  {
   "cell_type": "code",
   "execution_count": 3,
   "id": "ac8a2532-fe54-40fa-9738-c8c5ff292201",
   "metadata": {},
   "outputs": [
    {
     "name": "stdout",
     "output_type": "stream",
     "text": [
      "arr :  [20, 2, 7, 1, 34]\n",
      "std of arr :  12.576167937809991\n",
      "\n",
      "More precision with float32\n",
      "std of arr :  12.576168\n",
      "Standard Deviation of sample is 1.5811388300841898 \n",
      "Sample Data:  [4, 2, 5, 8, 6]\n",
      "Standard Deviation :  2.23606797749979\n"
     ]
    }
   ],
   "source": [
    "import numpy as np\n",
    "arr = [20, 2, 7, 1, 34]\n",
    "print(\"arr : \", arr) \n",
    "print(\"std of arr : \", np.std(arr))\n",
    "print (\"\\nMore precision with float32\")\n",
    "print(\"std of arr : \", np.std(arr, dtype = np.float32))\n",
    "\n",
    "import statistics\n",
    "sample = [1, 2, 3, 4, 5]\n",
    "print(\"Standard Deviation of sample is % s \"% (statistics.stdev(sample)))\n",
    "\n",
    "import math\n",
    "import sys\n",
    "def sd_calc(data):\n",
    "    n = len(data)\n",
    "    if n <= 1:\n",
    "        return 0.0\n",
    "    mean, sd = statistics.mean(data), 0.0\n",
    "    for el in data:\n",
    "        sd += (float(el) - mean)**2\n",
    "    sd = math.sqrt(sd / float(n-1))\n",
    "    return sd\n",
    "data = [4, 2, 5, 8, 6]\n",
    "print(\"Sample Data: \",data)\n",
    "print(\"Standard Deviation : \",sd_calc(data))\n"
   ]
  },
  {
   "cell_type": "markdown",
   "id": "a200b1ea-e6f8-4246-a92e-b5ec2d452129",
   "metadata": {},
   "source": [
    "Q12. What is the dimensionality of a Boolean mask-generated array?\n",
    "\n",
    "The dimensionality of a Boolean mask-generated array will be same as the dimensionality as input array"
   ]
  },
  {
   "cell_type": "code",
   "execution_count": null,
   "id": "11c5c42a-01dc-4e95-89b9-7be1a0f307a1",
   "metadata": {},
   "outputs": [],
   "source": []
  }
 ],
 "metadata": {
  "kernelspec": {
   "display_name": "Python 3",
   "language": "python",
   "name": "python3"
  },
  "language_info": {
   "codemirror_mode": {
    "name": "ipython",
    "version": 3
   },
   "file_extension": ".py",
   "mimetype": "text/x-python",
   "name": "python",
   "nbconvert_exporter": "python",
   "pygments_lexer": "ipython3",
   "version": "3.8.8"
  }
 },
 "nbformat": 4,
 "nbformat_minor": 5
}
