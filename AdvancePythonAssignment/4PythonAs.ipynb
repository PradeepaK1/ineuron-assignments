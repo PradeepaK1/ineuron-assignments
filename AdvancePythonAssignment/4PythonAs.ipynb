{
 "cells": [
  {
   "cell_type": "markdown",
   "id": "60055e87-5398-4d3b-9d80-a82314f0bccb",
   "metadata": {},
   "source": [
    "Q1. Which two operator overloading methods can you use in your classes to support iteration?\n",
    "\n",
    "Using __iter__ and __next__ methods we can implement iteration which can be used as operator overloading methods\n",
    "\n",
    "The __iter__ returns the object and is called at the start of loops\n",
    "\n",
    "The __next__ method returns the next value and is called at every loop increment, also this raises an exception where it stops when no more value exists in the range\n",
    "\n",
    "Example,"
   ]
  },
  {
   "cell_type": "code",
   "execution_count": 3,
   "id": "d61fd695-2122-4979-8760-d0ff90b28e19",
   "metadata": {},
   "outputs": [
    {
     "name": "stdout",
     "output_type": "stream",
     "text": [
      "1 2 3 4 5 "
     ]
    }
   ],
   "source": [
    "class Counter:\n",
    "    def __init__(self, i, j):\n",
    "        self.i = i\n",
    "        self.j = j\n",
    "    def __iter__(self):\n",
    "        return self\n",
    "    def __next__(self):\n",
    "        if self.i > self.j:\n",
    "            raise StopIteration\n",
    "        else:\n",
    "            self.i += 1\n",
    "            return self.i - 1 \n",
    "for i in Counter(1, 5):\n",
    "    print(i,end=\" \")"
   ]
  },
  {
   "cell_type": "markdown",
   "id": "468193f9-ee0a-4306-898e-a5a16e013df3",
   "metadata": {},
   "source": [
    "Q2. In what contexts do the two operator overloading methods manage printing?\n",
    "\n",
    "__str__ and __repr__ are used to do operator overloading which manages printing\n",
    "\n",
    "__str__ is used to enhance readability it prints the informal string representation of object, which is useful when printing the object. Whenever we are printing any object reference internally then this method is called by default\n",
    "\n",
    "__repr__ is used to print official string representation of an object, this includes all information and development\n",
    "\n",
    "Example,"
   ]
  },
  {
   "cell_type": "code",
   "execution_count": 6,
   "id": "f941d24b-afb0-4809-ab05-b7b70d8f70c8",
   "metadata": {},
   "outputs": [
    {
     "name": "stdout",
     "output_type": "stream",
     "text": [
      "10 + i20\n",
      "10,20\n"
     ]
    }
   ],
   "source": [
    "class fun:\n",
    "    def __init__(self, a, b):\n",
    "        self.a = a\n",
    "        self.b = b\n",
    "    def __repr__(self):\n",
    "        return '%s,%s' %(self.a, self.b)\n",
    "    def __str__(self):\n",
    "        return '%s + i%s' %(self.a, self.b)\n",
    "t = fun(10, 20)\n",
    "print (str(t))\n",
    "print (repr(t))"
   ]
  },
  {
   "cell_type": "markdown",
   "id": "8f8c0554-e709-4763-a1c4-e37fb8b7e0ff",
   "metadata": {},
   "source": [
    "Q3. In a class, how do you intercept slice operations?\n",
    "\n",
    "We use slice() operations in __getitem__ method\n",
    "\n",
    "This is used for intercepting slice operation\n",
    "\n",
    "The general syntax is,\n",
    "\n",
    "__getitem__(slice(start,stop,step))"
   ]
  },
  {
   "cell_type": "markdown",
   "id": "fc99178d-b2b1-430c-ac74-f81fbdcbe929",
   "metadata": {},
   "source": [
    "Q4. In a class, how do you capture in-place addition?\n",
    "\n",
    "Inplace addition is incremental addition and is done by i+=j\n",
    "\n",
    "In a class __iadd__ method is used to do this inplace addition\n",
    "\n",
    "Example,"
   ]
  },
  {
   "cell_type": "code",
   "execution_count": 9,
   "id": "67448a59-532a-476e-a3b2-5d557d148615",
   "metadata": {},
   "outputs": [
    {
     "name": "stdout",
     "output_type": "stream",
     "text": [
      "10\n"
     ]
    }
   ],
   "source": [
    "class chk:\n",
    "    def __init__(self,a):\n",
    "        self.a=a\n",
    "    def __iadd__(self,b):\n",
    "        self.a+=b.a\n",
    "        return self.a\n",
    "i=chk(8)\n",
    "j=chk(2)\n",
    "i+=j\n",
    "print(i)"
   ]
  },
  {
   "cell_type": "markdown",
   "id": "8c08cc67-e150-4d5c-ab9a-e07c19d3f58f",
   "metadata": {},
   "source": [
    "Q5. When is it appropriate to use operator overloading?\n",
    "\n",
    "When we have to change the current working nature of the operator to a different form we can use operator overloading\n",
    "\n",
    "This depends up on the context with which we carry on the operations\n",
    "\n",
    "Example,"
   ]
  },
  {
   "cell_type": "code",
   "execution_count": 10,
   "id": "54ce620e-2d04-4adc-91b3-85d60b6913db",
   "metadata": {},
   "outputs": [
    {
     "name": "stdout",
     "output_type": "stream",
     "text": [
      "10\n"
     ]
    }
   ],
   "source": [
    "class chk:\n",
    "    def __init__(self,a):\n",
    "        self.a=a\n",
    "    def __add__(self,b):\n",
    "        return self.a+b.a\n",
    "i=chk(8)\n",
    "j=chk(2)\n",
    "i+=j\n",
    "print(i)"
   ]
  },
  {
   "cell_type": "code",
   "execution_count": null,
   "id": "e383c0a9-df2d-4f93-93bb-be12abbc59b5",
   "metadata": {},
   "outputs": [],
   "source": []
  }
 ],
 "metadata": {
  "kernelspec": {
   "display_name": "Python 3",
   "language": "python",
   "name": "python3"
  },
  "language_info": {
   "codemirror_mode": {
    "name": "ipython",
    "version": 3
   },
   "file_extension": ".py",
   "mimetype": "text/x-python",
   "name": "python",
   "nbconvert_exporter": "python",
   "pygments_lexer": "ipython3",
   "version": "3.8.8"
  }
 },
 "nbformat": 4,
 "nbformat_minor": 5
}
