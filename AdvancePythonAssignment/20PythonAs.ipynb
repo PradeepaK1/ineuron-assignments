{
 "cells": [
  {
   "cell_type": "markdown",
   "id": "29179034-ab9d-4cb7-9c9d-6174440cc735",
   "metadata": {},
   "source": [
    "Q1.Compare and contrast the float and Decimal classes' benefits and drawbacks.\n",
    "\n",
    "Float:\n",
    "Is used to store point valued variables in python\n",
    "Floats are usually speed and approximate\n",
    "Floats are less pricise\n",
    "\n",
    "Decimal:\n",
    "Decimals store numerical values in Python\n",
    "Decimals are little slower\n",
    "Decimal are much more precise"
   ]
  },
  {
   "cell_type": "markdown",
   "id": "83d003ee-8ac0-44fd-afe0-b95756826cd0",
   "metadata": {},
   "source": [
    "Q2.Decimal('1.200') and Decimal('1.2') are two objects to consider. In what sense are these the same object? Are these just two ways of representing the exact same value, or do they correspond to different internal states?\n",
    "\n",
    "Both objects seems to same but internal storage representation of these objects differ as Decimal('1.200') is stored as 1.200 and Decimal('1.2') is stored as 1.2"
   ]
  },
  {
   "cell_type": "markdown",
   "id": "a6e44367-3040-4b6c-b374-6293516b5275",
   "metadata": {},
   "source": [
    "Q3.What happens if the equality of Decimal('1.200') and Decimal('1.2') is checked?\n",
    "\n",
    "Equality checks and declare they are equal as  they only differ in precision"
   ]
  },
  {
   "cell_type": "markdown",
   "id": "1825185f-280a-4d0d-b668-ece2f7e9e63f",
   "metadata": {},
   "source": [
    "Q4.Why is it preferable to start a Decimal object with a string rather than a floating-point value?\n",
    "\n",
    "Decimal can store float value with absolute precision and float is converted to Decimal\n",
    "\n",
    "Whereas when float is given as decimal, then it first has to be converted from float which might cause errors\n",
    "\n",
    "So it is preferable to start a decimal object with a string than a float"
   ]
  },
  {
   "cell_type": "markdown",
   "id": "9b3c631e-d51f-4d15-a4a2-4296b76ebf29",
   "metadata": {},
   "source": [
    "Q5.In an arithmetic phrase, how simple is it to combine Decimal objects with integers?\n",
    "\n",
    "In an arithmetic phrase, to combine Decimal objects with integers we use\n",
    "\n",
    "Decimal() function"
   ]
  },
  {
   "cell_type": "markdown",
   "id": "70e825de-fbb7-474f-86c8-e91b1d180c0f",
   "metadata": {},
   "source": [
    "Q6.Can Decimal objects and floating-point values be combined easily?\n",
    "\n",
    "No While doing addition, subtraction, or any arithmetic operations with a Decimal object, by a floating point value Errors might be generated"
   ]
  },
  {
   "cell_type": "markdown",
   "id": "d4d1f1ad-2cb1-4ca8-801f-7d62062c3da5",
   "metadata": {},
   "source": [
    "Q7.Using the Fraction class but not the Decimal class, give an example of a quantity that can be expressed with absolute precision.\n",
    "\n",
    "Using the Fraction class value of 0.5 can be represented as 1/2"
   ]
  },
  {
   "cell_type": "markdown",
   "id": "a431799d-51d3-4e83-a799-eefabd916759",
   "metadata": {},
   "source": [
    "Q8.Describe a quantity that can be accurately expressed by the Decimal or Fraction classes but not by a floating-point value.\n",
    "\n",
    "The Pi value 22/7 can be more accurate in Decimal or Fractional than in Floating point numbers as it keeps on going "
   ]
  },
  {
   "cell_type": "markdown",
   "id": "533425fe-2045-4ea3-87c8-922d1e58a688",
   "metadata": {},
   "source": [
    "Q9.Consider the following two fraction objects: Fraction(1, 2) and Fraction(1, 2). (5, 10). Is the internal state of these two objects the same? Why do you think that is?\n",
    "\n",
    "Yes, the internal state of these two objects are the same\n",
    "\n",
    "As both will be reduced to 1/2"
   ]
  },
  {
   "cell_type": "markdown",
   "id": "19a32635-131e-4e4a-808a-5199bc3a30b3",
   "metadata": {},
   "source": [
    "Q10.How do the Fraction class and the integer type (int) relate to each other? Containment or inheritance?\n",
    "\n",
    "Fraction class and the integer type (int) relate to each other by a container as they contain two ints, that is one is the numerator and the other is denominator"
   ]
  },
  {
   "cell_type": "code",
   "execution_count": null,
   "id": "88f247f6-4506-439a-8f2a-c418bde06c39",
   "metadata": {},
   "outputs": [],
   "source": []
  }
 ],
 "metadata": {
  "kernelspec": {
   "display_name": "Python 3",
   "language": "python",
   "name": "python3"
  },
  "language_info": {
   "codemirror_mode": {
    "name": "ipython",
    "version": 3
   },
   "file_extension": ".py",
   "mimetype": "text/x-python",
   "name": "python",
   "nbconvert_exporter": "python",
   "pygments_lexer": "ipython3",
   "version": "3.8.8"
  }
 },
 "nbformat": 4,
 "nbformat_minor": 5
}
