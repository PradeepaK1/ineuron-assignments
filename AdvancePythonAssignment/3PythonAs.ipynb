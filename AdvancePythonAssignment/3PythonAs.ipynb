{
 "cells": [
  {
   "cell_type": "markdown",
   "id": "44ada292-da47-45bc-9285-85b44c8f38e9",
   "metadata": {},
   "source": [
    "1.What is the concept of an abstract superclass?\n",
    "\n",
    "Abstract super classes provide blueprint or workflow for the other concrete classes.\n",
    "\n",
    "These don't have implementations in them, but have an interface and make sure that the derived classes are properly implemented\n",
    "\n",
    "A class which contains one or more abstract methods is called abstract class\n",
    "\n",
    "Example:"
   ]
  },
  {
   "cell_type": "code",
   "execution_count": 2,
   "id": "d769651b-6537-4496-815f-027b7ccb9aea",
   "metadata": {},
   "outputs": [],
   "source": [
    "from abc import ABC, abstractmethod\n",
    "class Polygon(ABC):\n",
    "    @abstractmethod\n",
    "    def noofsides(self): \n",
    "        pass\n",
    "class Triangle(Polygon):\n",
    "    def noofsides(self):\n",
    "        print(\"I have 3 sides\")\n",
    "class Pentagon(Polygon):\n",
    "    def noofsides(self):\n",
    "        print(\"I have 5 sides\")"
   ]
  },
  {
   "cell_type": "markdown",
   "id": "9700aa4c-e8fc-44b6-8962-bc2c5f69501a",
   "metadata": {},
   "source": [
    "2.What happens when a class statement's top level contains a basic assignment statement?\n",
    "\n",
    "Then it is usually treated as a class attribute or class level variable, when a class statement's top level contains a basic assignment statement\n",
    "\n",
    "But an assignment statement in the method are treated as instance attributes or local attributes\n",
    "\n",
    "Once an instance of class is created, then single copy of class attributes is maintained and shared to all instances of class\n",
    "\n",
    "Where an instance object maintains its own copy of instance variables"
   ]
  },
  {
   "cell_type": "code",
   "execution_count": 3,
   "id": "72f0d678-fd1b-467e-b713-d23dfa0daf43",
   "metadata": {},
   "outputs": [],
   "source": [
    "class A:\n",
    "    Categ = 'Human' \n",
    "    def __init__(self,name,gender):\n",
    "        self.name = name \n",
    "        self.gender = gender"
   ]
  },
  {
   "cell_type": "markdown",
   "id": "3feb95c3-c3dc-4c23-9edf-4a63597cd255",
   "metadata": {},
   "source": [
    "3.Why does a class need to manually call a superclass's __init__ method?\n",
    "\n",
    "In inheritance, child class does not inherit the __init__ method of the parent class\n",
    "\n",
    "Even though its inherited, the __init__ method overrides the parent class's __init__  method\n",
    "\n",
    "So inorder to the parent class's __init__ method, we need to manually call a superclass's __init__ method"
   ]
  },
  {
   "cell_type": "code",
   "execution_count": 6,
   "id": "98116725-20ec-4369-9d6b-b99456f01054",
   "metadata": {},
   "outputs": [
    {
     "name": "stdout",
     "output_type": "stream",
     "text": [
      "{'name': 'Pradeepa', 'age': 20, 'marks': 99}\n"
     ]
    }
   ],
   "source": [
    "class rec:\n",
    "    def __init__(self,name,age):\n",
    "        self.name = name\n",
    "        self.age = age       \n",
    "class stud(rec):\n",
    "    def __init__(self,name,age,marks):\n",
    "        super().__init__(name,age)\n",
    "        self.marks = marks\n",
    "stu1 =stud('Pradeepa',20,99)\n",
    "print(stu1.__dict__)"
   ]
  },
  {
   "cell_type": "markdown",
   "id": "bed313e1-8ea9-4cd2-85f9-df50434a30b4",
   "metadata": {},
   "source": [
    "4.How can you augment, instead of completely replacing, an inherited method?\n",
    "\n",
    "We can augment a method instead of completely replacing an inherited method by using a super() method\n",
    "\n",
    "Example,"
   ]
  },
  {
   "cell_type": "code",
   "execution_count": null,
   "id": "16a784c2-ee0a-4ef9-893a-f8b6eef59bc2",
   "metadata": {},
   "outputs": [],
   "source": [
    "class rec:\n",
    "    def __init__(self,name,age):\n",
    "        self.name = name\n",
    "        self.age = age       \n",
    "class stud(rec):\n",
    "    def __init__(self,name,age,marks):\n",
    "        super().__init__(name,age)\n",
    "        self.marks = marks\n",
    "stu1 =stud('Pradeepa',20,99)\n",
    "print(stu1.__dict__)"
   ]
  },
  {
   "cell_type": "markdown",
   "id": "593cf684-ff11-4e45-b372-f62420a556cb",
   "metadata": {},
   "source": [
    "5.How is the local scope of a class different from that of a function?\n",
    "\n",
    "Local scope means the accessibility is confined with in that function\n",
    "\n",
    "When a variable is defined inside the function then that is a local variable to that functioon\n",
    "\n",
    "The variables which are defined in the main class are known as class variables\n",
    "\n",
    "They can be accessed directly without any class name if called inside the main class by other methods in the main class\n",
    "\n",
    "If in other class is called then, classname.var should be called\n",
    "\n",
    "Example,"
   ]
  },
  {
   "cell_type": "code",
   "execution_count": 8,
   "id": "4e272c00-6c26-451f-9473-6c40b24d2231",
   "metadata": {},
   "outputs": [
    {
     "name": "stdout",
     "output_type": "stream",
     "text": [
      "Hi Pradeepa\n",
      "Not in scope\n",
      "student\n",
      "student\n"
     ]
    }
   ],
   "source": [
    "def Greet(name):\n",
    "    name = name\n",
    "    print(\"Hi \"+name)\n",
    "Greet('Pradeepa')\n",
    "try:\n",
    "    name\n",
    "except NameError:\n",
    "    print('Not in scope')\n",
    "\n",
    "class gen:\n",
    "    categ = \"student\"\n",
    "    def __init__(self):\n",
    "        pass\n",
    "print(gen.categ) \n",
    "stud = gen()\n",
    "print(stud.categ)"
   ]
  },
  {
   "cell_type": "code",
   "execution_count": null,
   "id": "55433e39-b133-4144-8f4a-33f442bce5b8",
   "metadata": {},
   "outputs": [],
   "source": []
  }
 ],
 "metadata": {
  "kernelspec": {
   "display_name": "Python 3",
   "language": "python",
   "name": "python3"
  },
  "language_info": {
   "codemirror_mode": {
    "name": "ipython",
    "version": 3
   },
   "file_extension": ".py",
   "mimetype": "text/x-python",
   "name": "python",
   "nbconvert_exporter": "python",
   "pygments_lexer": "ipython3",
   "version": "3.8.8"
  }
 },
 "nbformat": 4,
 "nbformat_minor": 5
}
