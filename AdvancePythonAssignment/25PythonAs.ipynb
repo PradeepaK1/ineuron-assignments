{
 "cells": [
  {
   "cell_type": "markdown",
   "id": "d9e29d72-09f0-4f91-b0de-09f559f5b902",
   "metadata": {},
   "source": [
    "Q1. What is the distinction between a numpy array and a pandas data frame? Is there a way to convert between the two if there is?\n",
    "\n",
    "Numpy\n",
    "\n",
    "Numpy - Ndarray gives a set of optimized methods for performing several mathematical operations and calculations on vectors.\n",
    "\n",
    "Pandas\n",
    "\n",
    "Pandas Dataframe is an in-memory 2-dimensional tabular representation of data. \n",
    "\n",
    "It is like a spreadsheet having rows and columns.\n",
    "\n",
    "Conversion : Dataframe=pandas.DataFrame(array)"
   ]
  },
  {
   "cell_type": "markdown",
   "id": "b77bdcab-8b15-45ab-8388-a41bd2471c4d",
   "metadata": {},
   "source": [
    "Q2. What can go wrong when an user enters in a stock-ticker symbol, and how do you handle it?\n",
    "\n",
    "A stock ticker reports transaction and price data for security and is updated continuously so when that is changed, values are disturbe"
   ]
  },
  {
   "cell_type": "markdown",
   "id": "5b2ff7e2-4980-4355-8a2c-17c94ae4f868",
   "metadata": {},
   "source": [
    "Q3. Identify some of the plotting techniques that are used to produce a stock-market chart.\n",
    "\n",
    "Bar Chart\n",
    "\n",
    "Line Chart, etc"
   ]
  },
  {
   "cell_type": "markdown",
   "id": "ade6cb43-6151-478e-bf90-eb84efcdd56f",
   "metadata": {},
   "source": [
    "Q4. Why is it essential to print a legend on a stock market chart?\n",
    "\n",
    "Legends are used for identification purposes, and in specific to stock market chart, it will differentiate stocks"
   ]
  },
  {
   "cell_type": "markdown",
   "id": "0c0f29fe-5849-490f-b8fb-14eec68ef931",
   "metadata": {},
   "source": [
    "Q5. What is the best way to limit the length of a pandas data frame to less than a year?\n",
    "\n",
    "The best way is the usage of start and end parameters, In start we write the date from where we start and the end date\n",
    " \n",
    "Within this span we can restrict the duration also\n",
    "\n",
    "We can use period and frequency parameter to check how much time duration and frequency"
   ]
  },
  {
   "cell_type": "markdown",
   "id": "dd7c4e68-cef6-4056-b96b-0d409740c4ea",
   "metadata": {},
   "source": [
    "Q6. What is the definition of a 180-day moving average?\n",
    "\n",
    "180 day moving average is shown as a line on charts and represents the average price over the past 180 days\n",
    "\n",
    "The moving average can give traders a sense of trend whether it is up or down\n",
    "\n",
    "It also identifies the potential support or resistance areas"
   ]
  },
  {
   "cell_type": "markdown",
   "id": "8a4e8987-3b3d-41f9-8927-0a9fa5f68e2c",
   "metadata": {},
   "source": [
    "Q7. Did the chapter's final example use \"indirect\" importing? If so, how exactly do you do it?\n",
    "\n",
    "Indirect imports mean importing at run time, and need not update the requirement everywhere\n",
    "\n",
    "Example\n",
    "\n",
    "required_modules = [\"PySocks\"]\n",
    "\n",
    "_ _import_ _()"
   ]
  },
  {
   "cell_type": "code",
   "execution_count": null,
   "id": "95764d7a-e062-4af4-a56d-1a08f712704c",
   "metadata": {},
   "outputs": [],
   "source": []
  }
 ],
 "metadata": {
  "kernelspec": {
   "display_name": "Python 3",
   "language": "python",
   "name": "python3"
  },
  "language_info": {
   "codemirror_mode": {
    "name": "ipython",
    "version": 3
   },
   "file_extension": ".py",
   "mimetype": "text/x-python",
   "name": "python",
   "nbconvert_exporter": "python",
   "pygments_lexer": "ipython3",
   "version": "3.8.8"
  }
 },
 "nbformat": 4,
 "nbformat_minor": 5
}
