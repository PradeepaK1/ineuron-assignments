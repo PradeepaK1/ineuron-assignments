{
 "cells": [
  {
   "cell_type": "markdown",
   "id": "a89bea85-92b4-4e3a-a019-b847b2f573b6",
   "metadata": {},
   "source": [
    "Q1. What is the difference between __getattr__ and __getattribute__?\n",
    "\n",
    "__getattr__\n",
    "\n",
    "The __getattr__ is used when the attribute is not found\n",
    "\n",
    "Used in cases of missing attributes\n",
    "\n",
    "The getattr() method returns the value of the named attribute of an object. If not found, it returns the default value provided to the function.\n",
    "\n",
    "__getattribute__\n",
    "\n",
    "The __getattribute__ is used before looking at the actual attributes on the object\n",
    "\n",
    "Called unconditionally to implement attribute accesses for instances of the class.\n",
    "\n",
    "Example"
   ]
  },
  {
   "cell_type": "code",
   "execution_count": 10,
   "id": "47327447-3cb7-4156-a57c-81c2d80351cc",
   "metadata": {},
   "outputs": [
    {
     "name": "stdout",
     "output_type": "stream",
     "text": [
      "kpd\n",
      "getting `j`\n"
     ]
    }
   ],
   "source": [
    "class Student:\n",
    "    name = 'kpd'\n",
    "person = Student()\n",
    "name = getattr(person, 'name')\n",
    "print(name)\n",
    "\n",
    "class chk(object):\n",
    "    def __getattribute__(self, name):\n",
    "        print( \"getting `{}`\".format(str(name)))\n",
    "        object.__getattribute__(self, name)\n",
    "f = chk()\n",
    "f.j = 10\n",
    "f.j"
   ]
  },
  {
   "cell_type": "markdown",
   "id": "92f2ced1-9464-4958-a24b-40fc6e604041",
   "metadata": {},
   "source": [
    "Q2. What is the difference between properties and descriptors?\n",
    "\n",
    "Descriptors:\n",
    "    \n",
    "There are several ways that we can tap into Python's internal mechanisms for getting and setting attribute values. The most accessible technique is to use the property function to define get, set and delete methods associated with an attribute name. The property function builds descriptors for you. A slightly less accessible, but more extensible and reusable technique is to define descriptor classes yourself. This allows you considerable flexibility. You do this by creating a class which defines get, set and delete methods, and you associate your descriptor class with an attribute name\n",
    "\n",
    "Property:\n",
    "    \n",
    "The property function gives us a handy way to implement a simple descriptor without defining a separate class. Rather than create a complete class definition, we can write getter and setter method functions, and then bind these functions to an attribute name."
   ]
  },
  {
   "cell_type": "markdown",
   "id": "1adea3ea-bf30-47ae-8665-18448c3d265f",
   "metadata": {},
   "source": [
    "Q3. What are all the key difference in functionality between getattr and getattribute, as well as properties and descriptors?"
   ]
  },
  {
   "cell_type": "markdown",
   "id": "dfe24d2b-5c07-4744-8523-2df189819365",
   "metadata": {},
   "source": [
    "__getattr__\n",
    "\n",
    "The __getattr__ is used when the attribute is not found\n",
    "\n",
    "Used in cases of missing attributes\n",
    "\n",
    "The getattr() method returns the value of the named attribute of an object. If not found, it returns the default value provided to the function.\n",
    "\n",
    "__getattribute__\n",
    "\n",
    "The __getattribute__ is used before looking at the actual attributes on the object\n",
    "\n",
    "Called unconditionally to implement attribute accesses for instances of the class.\n",
    "\n",
    "Example"
   ]
  },
  {
   "cell_type": "code",
   "execution_count": 11,
   "id": "db6d34b0-d8d1-4155-912e-a00a07081de2",
   "metadata": {},
   "outputs": [
    {
     "name": "stdout",
     "output_type": "stream",
     "text": [
      "kpd\n",
      "getting `j`\n"
     ]
    }
   ],
   "source": [
    "class Student:\n",
    "    name = 'kpd'\n",
    "person = Student()\n",
    "name = getattr(person, 'name')\n",
    "print(name)\n",
    "\n",
    "class chk(object):\n",
    "    def __getattribute__(self, name):\n",
    "        print( \"getting `{}`\".format(str(name)))\n",
    "        object.__getattribute__(self, name)\n",
    "f = chk()\n",
    "f.j = 10\n",
    "f.j"
   ]
  },
  {
   "cell_type": "markdown",
   "id": "2ab875d4-d33c-47be-be1f-49eb0bb0f16c",
   "metadata": {},
   "source": [
    "Descriptors:\n",
    "    \n",
    "There are several ways that we can tap into Python's internal mechanisms for getting and setting attribute values. The most accessible technique is to use the property function to define get, set and delete methods associated with an attribute name. The property function builds descriptors for you. A slightly less accessible, but more extensible and reusable technique is to define descriptor classes yourself. This allows you considerable flexibility. You do this by creating a class which defines get, set and delete methods, and you associate your descriptor class with an attribute name\n",
    "\n",
    "Property:\n",
    "    \n",
    "The property function gives us a handy way to implement a simple descriptor without defining a separate class. Rather than create a complete class definition, we can write getter and setter method functions, and then bind these functions to an attribute name."
   ]
  },
  {
   "cell_type": "code",
   "execution_count": null,
   "id": "970f09b4-53b1-47fb-8051-e13bb7c26540",
   "metadata": {},
   "outputs": [],
   "source": []
  }
 ],
 "metadata": {
  "kernelspec": {
   "display_name": "Python 3",
   "language": "python",
   "name": "python3"
  },
  "language_info": {
   "codemirror_mode": {
    "name": "ipython",
    "version": 3
   },
   "file_extension": ".py",
   "mimetype": "text/x-python",
   "name": "python",
   "nbconvert_exporter": "python",
   "pygments_lexer": "ipython3",
   "version": "3.8.8"
  }
 },
 "nbformat": 4,
 "nbformat_minor": 5
}
