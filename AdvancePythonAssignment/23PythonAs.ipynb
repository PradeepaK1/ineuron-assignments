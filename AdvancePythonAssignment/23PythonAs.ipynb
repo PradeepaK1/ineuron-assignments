{
 "cells": [
  {
   "cell_type": "markdown",
   "id": "dfdad6a1-287b-40e8-9e31-4dab5001e0df",
   "metadata": {},
   "source": [
    "Q1. If you have any, what are your choices for increasing the comparison between different figures on the same graph?\n",
    "\n",
    "There is a feature called subplots in Matplotlib for increasing the comparison between different figures on the same graph\n",
    "\n",
    "Subplots has a smaller axes where each axis is a plot, that exist along with the a single figure"
   ]
  },
  {
   "cell_type": "markdown",
   "id": "b329b3d5-94a7-422e-8b5a-ad1049f19e5e",
   "metadata": {},
   "source": [
    "Q2. Can you explain the benefit of compound interest over a higher rate of interest that does not compound after reading this chapter?\n",
    "\n",
    "The benefit of Compound Interest is it makes a sum of money grow at a faster rate than simple interest, as in addition to earning returns on the money we invest, we can also earn returns on those returns at the end of every compounding period which could be daily, monthly, quarterly, or annually"
   ]
  },
  {
   "cell_type": "markdown",
   "id": "57065738-d6e9-4a36-a2a7-290599c896f1",
   "metadata": {},
   "source": [
    "Q3. What is a histogram, exactly? Name a numpy method for creating such a graph.\n",
    "\n",
    "Histogram shows total values in X label for Y label \n",
    "\n",
    "X label count is done for the classes of Y is done and displayed\n",
    "\n",
    "It is created by numpy.histogram()"
   ]
  },
  {
   "cell_type": "markdown",
   "id": "d98015b7-dbca-4ff1-b03d-8e3a41cd1aaf",
   "metadata": {},
   "source": [
    "Q4. If necessary, how do you change the aspect ratios between the X and Y axes?\n",
    "\n",
    "To change the aspect ratios between the X and Y axes, we can use figure(figsize=(10,8))\n",
    "\n",
    "This can be used from the function matplot.pyplot library"
   ]
  },
  {
   "cell_type": "markdown",
   "id": "890c7ad1-f35f-4f91-9f53-5f8e1942a084",
   "metadata": {},
   "source": [
    "Q5. Compare and contrast the three types of array multiplication between two numpy arrays: dot product, outer product, and regular multiplication of two numpy arrays.\n",
    "\n",
    "Regular Multiplication\n",
    "\n",
    "In regular multiplication values of same index gets multiplied\n",
    "\n",
    "Dot product\n",
    "\n",
    "In dot product there is row wise multiplication row of one array with column of second array and etc\n",
    "\n",
    "Outer multiplication\n",
    "\n",
    "Every element of first array a1 will be multiply by every element of other array, provided columns are equal"
   ]
  },
  {
   "cell_type": "markdown",
   "id": "1b949a7b-6323-4ab7-ae0e-96a3f203ef65",
   "metadata": {},
   "source": [
    "Q6. Before you buy a home, which numpy function will you use to measure your monthly mortgage payment?\n",
    "\n",
    "np.pmt(rate, nper, pv) function we will be using in order to calculate monthly mortgage payment before you purchase a house.\n",
    "\n",
    "    rate = The periodic interest rate\n",
    "    \n",
    "    nper = The number of payment periods\n",
    "    \n",
    "    pv = The total value of the mortgage loan"
   ]
  },
  {
   "cell_type": "markdown",
   "id": "20371fe9-e3e7-4dd8-a603-d1290de7259e",
   "metadata": {},
   "source": [
    "Q7. Can string data be stored in numpy arrays? If so, list at least one restriction that applies to this data.\n",
    "\n",
    "Yes, an array can store the string. The restriction which imposed on the string data is, whenever we store the data of string dtype then the string which is having the maximum length is the limit."
   ]
  },
  {
   "cell_type": "code",
   "execution_count": null,
   "id": "3c323905-7d66-4717-ad60-63d794fb92a1",
   "metadata": {},
   "outputs": [],
   "source": []
  }
 ],
 "metadata": {
  "kernelspec": {
   "display_name": "Python 3",
   "language": "python",
   "name": "python3"
  },
  "language_info": {
   "codemirror_mode": {
    "name": "ipython",
    "version": 3
   },
   "file_extension": ".py",
   "mimetype": "text/x-python",
   "name": "python",
   "nbconvert_exporter": "python",
   "pygments_lexer": "ipython3",
   "version": "3.8.8"
  }
 },
 "nbformat": 4,
 "nbformat_minor": 5
}
