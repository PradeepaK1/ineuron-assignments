{
 "cells": [
  {
   "cell_type": "markdown",
   "id": "1ab87d3e-8c62-4b18-8b15-0ac7359d31f0",
   "metadata": {},
   "source": [
    "Q1. Does assigning a value to a string's indexed character violate Python's string immutability?\n",
    "\n",
    "Yes, assigning a value to a string's indexed character violate Python's string immutability\n",
    "\n",
    "This will raise type error\n",
    "\n",
    "Example,"
   ]
  },
  {
   "cell_type": "code",
   "execution_count": 1,
   "id": "f744d044-f75b-4742-8e80-701629b5f393",
   "metadata": {},
   "outputs": [
    {
     "ename": "TypeError",
     "evalue": "'str' object does not support item assignment",
     "output_type": "error",
     "traceback": [
      "\u001b[1;31m---------------------------------------------------------------------------\u001b[0m",
      "\u001b[1;31mTypeError\u001b[0m                                 Traceback (most recent call last)",
      "\u001b[1;32m<ipython-input-1-bf491070e42b>\u001b[0m in \u001b[0;36m<module>\u001b[1;34m\u001b[0m\n\u001b[0;32m      1\u001b[0m \u001b[0ms\u001b[0m\u001b[1;33m=\u001b[0m\u001b[1;34m\"kpd\"\u001b[0m\u001b[1;33m\u001b[0m\u001b[1;33m\u001b[0m\u001b[0m\n\u001b[1;32m----> 2\u001b[1;33m \u001b[0ms\u001b[0m\u001b[1;33m[\u001b[0m\u001b[1;36m0\u001b[0m\u001b[1;33m]\u001b[0m\u001b[1;33m=\u001b[0m\u001b[1;34m\"j\"\u001b[0m\u001b[1;33m\u001b[0m\u001b[1;33m\u001b[0m\u001b[0m\n\u001b[0m\u001b[0;32m      3\u001b[0m \u001b[0mprint\u001b[0m\u001b[1;33m(\u001b[0m\u001b[0ms\u001b[0m\u001b[1;33m)\u001b[0m\u001b[1;33m\u001b[0m\u001b[1;33m\u001b[0m\u001b[0m\n",
      "\u001b[1;31mTypeError\u001b[0m: 'str' object does not support item assignment"
     ]
    }
   ],
   "source": [
    "s=\"kpd\"\n",
    "s[0]=\"j\"\n",
    "print(s)"
   ]
  },
  {
   "cell_type": "markdown",
   "id": "b8239bc0-fa71-47ff-860d-217b0ed67a1a",
   "metadata": {},
   "source": [
    "Q2. Does using the += operator to concatenate strings violate Python's string immutability? Why or why not?\n",
    "\n",
    "No, using the += operator to concatenate strings does not violate Python's string immutability\n",
    "\n",
    "We are not changing the string literals, we are creating new variable with the modified value and reassigning it to the current variable\n",
    "\n",
    "Example,"
   ]
  },
  {
   "cell_type": "code",
   "execution_count": 2,
   "id": "93fd6638-5052-41a5-9a6b-644806979910",
   "metadata": {},
   "outputs": [
    {
     "name": "stdout",
     "output_type": "stream",
     "text": [
      "kpd\n"
     ]
    }
   ],
   "source": [
    "s='k'\n",
    "t='pd'\n",
    "s+=t\n",
    "print(s)"
   ]
  },
  {
   "cell_type": "markdown",
   "id": "d0f5529a-c219-4a70-91f8-ba7b74030724",
   "metadata": {},
   "source": [
    "Q3. In Python, how many different ways are there to index a character?\n",
    "\n",
    "There are two types of indexing a character in Python\n",
    "\n",
    "Positive Indexing:\n",
    "\n",
    "    Where the iteration is moving from front to back (left to right)\n",
    "    \n",
    "Negative Indexing:\n",
    "    \n",
    "    Where the iteration is moving from back to front (right to left)\n",
    "    \n",
    "Example,"
   ]
  },
  {
   "cell_type": "code",
   "execution_count": 4,
   "id": "e5328c6e-6635-4777-b54e-91cfc291abb8",
   "metadata": {},
   "outputs": [
    {
     "name": "stdout",
     "output_type": "stream",
     "text": [
      "p\n",
      "d\n"
     ]
    }
   ],
   "source": [
    "s='kpd'\n",
    "print(s[1])\n",
    "print(s[-1])"
   ]
  },
  {
   "cell_type": "markdown",
   "id": "7491fcd0-f283-4e25-bf79-1eaf5b2deeb0",
   "metadata": {},
   "source": [
    "Q4. What is the relationship between indexing and slicing?\n",
    "\n",
    "Indexing: \n",
    "    \n",
    "    Through this a single element can be accesed and if in mutable datatypes using indexing we can also change particular elements and access it\n",
    "    \n",
    "Slicing: \n",
    "    \n",
    "    We can access sequence of items in string or list with the specified index range\n",
    "\n",
    "Example,"
   ]
  },
  {
   "cell_type": "code",
   "execution_count": 6,
   "id": "93c35abb-5590-4732-aae4-7588f448174c",
   "metadata": {},
   "outputs": [
    {
     "name": "stdout",
     "output_type": "stream",
     "text": [
      "p\n",
      "kp\n"
     ]
    }
   ],
   "source": [
    "s=\"kpd\"\n",
    "print(s[1])\n",
    "print(s[:-1])"
   ]
  },
  {
   "cell_type": "markdown",
   "id": "e451743b-1284-46ac-b4f0-edad17185a52",
   "metadata": {},
   "source": [
    "Q5. What is an indexed character's exact data type? What is the data form of a slicing-generated substring?\n",
    "\n",
    "Indexed character's exact data type and the data form of a slicing-generated substring is also the same of a source data type\n",
    "\n",
    "If indexed or sliced from string then they data type will be string, if indexed or sliced from list then the datatype also will be list\n",
    "\n",
    "Example"
   ]
  },
  {
   "cell_type": "code",
   "execution_count": 7,
   "id": "da20d7f5-676a-49d1-9551-d2ab3b40b9fa",
   "metadata": {},
   "outputs": [
    {
     "name": "stdout",
     "output_type": "stream",
     "text": [
      "<class 'str'>\n",
      "<class 'str'>\n",
      "<class 'int'>\n",
      "<class 'list'>\n"
     ]
    }
   ],
   "source": [
    "s=\"kpd\"\n",
    "print(type(s[1]))\n",
    "print(type(s[:-1]))\n",
    "l=[1,2,3]\n",
    "print(type(l[1]))\n",
    "print(type(l[:-1]))"
   ]
  },
  {
   "cell_type": "markdown",
   "id": "cee2671e-5393-4db7-97bb-53f6e97c7c12",
   "metadata": {},
   "source": [
    "Q6. What is the relationship between string and character \"types\" in Python?\n",
    "\n",
    "Set of characters together form string\n",
    "\n",
    "String is addressed as str\n",
    "\n",
    "Single element in string is known as character\n",
    "\n",
    "There is no particular datatype of character in python"
   ]
  },
  {
   "cell_type": "markdown",
   "id": "e36afb78-ad9b-4dac-b745-b954140c02b2",
   "metadata": {},
   "source": [
    "Q7. Identify at least two operators and one method that allow you to combine one or more smaller strings to create a larger string.\n",
    "\n",
    "join() method, concatenation (+), multiplication (*) can all be used to combine one or more smaller strings to create a larger string\n",
    "\n",
    "Example,"
   ]
  },
  {
   "cell_type": "code",
   "execution_count": 9,
   "id": "1e5fcc25-d8c9-4389-bbe2-51e118f3b253",
   "metadata": {},
   "outputs": [
    {
     "name": "stdout",
     "output_type": "stream",
     "text": [
      "kpdptlj\n",
      "kpdptljkpdptljkpdptlj\n",
      "pkpdptljtkpdptljlkpdptljj\n"
     ]
    }
   ],
   "source": [
    "s=\"kpd\"\n",
    "t=\"ptlj\"\n",
    "s+=t\n",
    "print(s)\n",
    "print(s*3)\n",
    "print(s.join(t))"
   ]
  },
  {
   "cell_type": "markdown",
   "id": "5ef292c5-59e3-48f5-885b-ba71246b8a73",
   "metadata": {},
   "source": [
    "Q8. What is the benefit of first checking the target string with in or not in before using the index method to find a substring?\n",
    "\n",
    "The benefit of checking the target string with in or not in before using the index method to find a substring is we can eliminate the error of target not found if used in any operation with exception itself\n",
    "\n",
    "Example,"
   ]
  },
  {
   "cell_type": "code",
   "execution_count": 13,
   "id": "15f9bb66-9f1f-45fa-ac5e-8c8b1e851ede",
   "metadata": {},
   "outputs": [
    {
     "name": "stdout",
     "output_type": "stream",
     "text": [
      "True\n",
      "True\n",
      "False\n"
     ]
    }
   ],
   "source": [
    "s=\"kpd\"\n",
    "t=\"p\" in s\n",
    "print(t)\n",
    "u=\"o\" not in s\n",
    "print(u)\n",
    "l=\"o\" in s\n",
    "print(l)"
   ]
  },
  {
   "cell_type": "markdown",
   "id": "1fd57886-23c9-4ad1-b645-0a65f307e636",
   "metadata": {},
   "source": [
    "Q9. Which operators and built-in string methods produce simple Boolean (true/false) results?\n",
    "\n",
    "The string operators and built-in methods to produce simple boolean (True/False) are:\n",
    "\n",
    "Example,\n",
    "\n",
    "in\n",
    "\n",
    "not in\n",
    "\n",
    "str.isalpha()\n",
    "\n",
    "str.isalnum()\n",
    "\n",
    "str.isdecimal()\n",
    "\n",
    "str.isdigit()\n",
    "\n",
    "str.islower()\n",
    "\n",
    "str.isupper()\n",
    "\n",
    "str.isnumeric()\n",
    "\n",
    "str.isprintable()\n",
    "\n",
    "str.isspace()\n",
    "\n",
    "str.istitle()"
   ]
  },
  {
   "cell_type": "code",
   "execution_count": null,
   "id": "da136adb-449c-45d9-8e0b-4dcfdaafb601",
   "metadata": {},
   "outputs": [],
   "source": []
  }
 ],
 "metadata": {
  "kernelspec": {
   "display_name": "Python 3",
   "language": "python",
   "name": "python3"
  },
  "language_info": {
   "codemirror_mode": {
    "name": "ipython",
    "version": 3
   },
   "file_extension": ".py",
   "mimetype": "text/x-python",
   "name": "python",
   "nbconvert_exporter": "python",
   "pygments_lexer": "ipython3",
   "version": "3.8.8"
  }
 },
 "nbformat": 4,
 "nbformat_minor": 5
}
