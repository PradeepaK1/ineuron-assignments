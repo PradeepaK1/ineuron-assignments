{
 "cells": [
  {
   "cell_type": "markdown",
   "id": "f37efe7f-b5ed-43d0-975b-7a3de69e1324",
   "metadata": {},
   "source": [
    "Q1. What is the benefit of regular expressions?\n",
    "\n",
    "regex or regexp is called as Regular expressions can be used to match strings of text with specified sequence of strings\n",
    "\n",
    "It is used to match and extract pattern from the target with the source through regular expressions\n",
    "\n",
    "It can enhance code quality and avoid if else loops"
   ]
  },
  {
   "cell_type": "markdown",
   "id": "4310b4c9-82d7-425d-9ed9-1af8aa08be7a",
   "metadata": {},
   "source": [
    "Q2. Describe the difference between the effects of \"(ab)c+\" and \"a(bc)+.\" Which of these, if any, is the unqualified pattern \"abc+\"?\n",
    "\n",
    "Both \"(ab)c+\" and \"a(bc)+\" are valid patterns, difference is grouping of variables like in the first sequence ab is grouped and second sequence bc is grouped"
   ]
  },
  {
   "cell_type": "markdown",
   "id": "0f452f9e-d0f4-4bce-951f-7d4d27298a16",
   "metadata": {},
   "source": [
    "Q3. How much do you need to use the following sentence while using regular expressions?\n",
    "import re\n",
    "\n",
    "import re statements imports regular expressions' packages and libraries so has to be used whenever we need regular expressions"
   ]
  },
  {
   "cell_type": "markdown",
   "id": "b64301b8-3669-4edf-b7b0-df54132d09d6",
   "metadata": {},
   "source": [
    "Q4. Which characters have special significance in square brackets when expressing a range, and under what circumstances?\n",
    "\n",
    "The characters that have special significance in square brackets when expressing a range are:\n",
    "    \n",
    "    .,*,?,^,()\n",
    "    \n",
    "They don't have to be explicitly escaped by escape sequence \\ if pattern returns raw string"
   ]
  },
  {
   "cell_type": "markdown",
   "id": "3695195e-e168-468a-a94b-f5ce5e9ef5b3",
   "metadata": {},
   "source": [
    "Q5. How does compiling a regular-expression object benefit you?\n",
    "\n",
    "By combining a regular expression into pattern objects which can also be used for pattern matching\n",
    "\n",
    "It can also assist in searching a pattern again without rewriting it"
   ]
  },
  {
   "cell_type": "markdown",
   "id": "b7515332-2700-4b0d-b361-8d773f537a6b",
   "metadata": {},
   "source": [
    "Q6. What are some examples of how to use the match object returned by re.match and re.search?\n",
    "\n",
    "re.search()\n",
    "\n",
    "This searches the whole string contains multi-lines and tries to find a match of the substring in all the lines  of string\n",
    "\n",
    "re.match()\n",
    "\n",
    "This searches only the beginning of the string and return match object if found, but if a match of substring is found somewhere in the middle of the string string, it returns none"
   ]
  },
  {
   "cell_type": "code",
   "execution_count": 5,
   "id": "a6a97d2a-7131-42cc-a5f6-e7d3d8234574",
   "metadata": {},
   "outputs": [
    {
     "name": "stdout",
     "output_type": "stream",
     "text": [
      "<re.Match object; span=(10, 20), match='ptljkpd hi'>\n",
      "None\n"
     ]
    }
   ],
   "source": [
    "import re\n",
    "s='ptljkpd hi'\n",
    "s1='short mailptljkpd hi'\n",
    "print(re.search(s,s1))\n",
    "print(re.match(s,s1))"
   ]
  },
  {
   "cell_type": "markdown",
   "id": "8655e59e-b467-47d5-9ada-f264e7536193",
   "metadata": {},
   "source": [
    "Q7. What is the difference between using a vertical bar (|) as an alteration and using square brackets as a character set?\n",
    "\n",
    "When | used the patterns searches for or option if two patterns are given any one of the pattern if found also taken\n",
    "\n",
    "Using character set in square brackets searches for all the character set in the square brackets and if match is found that is returned"
   ]
  },
  {
   "cell_type": "markdown",
   "id": "f0808cd0-9086-4bdc-889b-e90dae5fec70",
   "metadata": {},
   "source": [
    "Q8. In regular-expression search patterns, why is it necessary to use the raw-string indicator (r)? In   replacement strings?\n",
    "\n",
    "In regular expressions raw strings are used for search patterns, main purpose is backslashes can be prevented from escaping"
   ]
  },
  {
   "cell_type": "code",
   "execution_count": null,
   "id": "be99e2c8-aade-4338-8385-75ee44e7c93c",
   "metadata": {},
   "outputs": [],
   "source": []
  }
 ],
 "metadata": {
  "kernelspec": {
   "display_name": "Python 3",
   "language": "python",
   "name": "python3"
  },
  "language_info": {
   "codemirror_mode": {
    "name": "ipython",
    "version": 3
   },
   "file_extension": ".py",
   "mimetype": "text/x-python",
   "name": "python",
   "nbconvert_exporter": "python",
   "pygments_lexer": "ipython3",
   "version": "3.8.8"
  }
 },
 "nbformat": 4,
 "nbformat_minor": 5
}
