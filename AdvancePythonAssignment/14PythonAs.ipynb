{
 "cells": [
  {
   "cell_type": "markdown",
   "id": "41996ef3-d2b2-44e3-bd7d-c0e74ad6f67b",
   "metadata": {},
   "source": [
    "Q1. Is an assignment operator like += only for show? Is it possible that it would lead to faster results at the runtime?\n",
    "\n",
    "i+=1 does the same operation like \n",
    "\n",
    "i=i+1\n",
    "\n",
    "The way it speeds up the process is that, in python the i value is searched twice as it first searches a then increments a seperately\n",
    "\n",
    "In the second case we keep a as it is and increment to itself without wasting a second operation\n",
    "\n",
    "So its not only for show but also makes the process faster"
   ]
  },
  {
   "cell_type": "markdown",
   "id": "3e4413a8-ee9a-4fe4-bf23-1cdc204af0a2",
   "metadata": {},
   "source": [
    "Q2. What is the smallest number of statements you'd have to write in most programming languages to replace the Python expression a, b = a + b, a?\n",
    "\n",
    "The smallest number of statements we'd have to write in most programming languages to replace the mentioned python statement is"
   ]
  },
  {
   "cell_type": "code",
   "execution_count": 1,
   "id": "e1efd2a5-9829-4bab-91e8-3c4fe9c4eb0d",
   "metadata": {},
   "outputs": [
    {
     "name": "stdout",
     "output_type": "stream",
     "text": [
      "3\n"
     ]
    }
   ],
   "source": [
    "a=1\n",
    "b=2\n",
    "a=a+b\n",
    "b=a\n",
    "print(b)"
   ]
  },
  {
   "cell_type": "markdown",
   "id": "66bc4f1f-eda7-4290-b495-49719c8e1fb1",
   "metadata": {},
   "source": [
    "Q3. In Python, what is the most effective way to set a list of 100 integers to 0?\n",
    "\n",
    "The most effective way to set a list of 100 integers to 0 is,"
   ]
  },
  {
   "cell_type": "code",
   "execution_count": 2,
   "id": "7b862de1-14f9-4c25-bd49-64bcde7585fa",
   "metadata": {},
   "outputs": [
    {
     "name": "stdout",
     "output_type": "stream",
     "text": [
      "[0, 0, 0, 0, 0, 0, 0, 0, 0, 0, 0, 0, 0, 0, 0, 0, 0, 0, 0, 0, 0, 0, 0, 0, 0, 0, 0, 0, 0, 0, 0, 0, 0, 0, 0, 0, 0, 0, 0, 0, 0, 0, 0, 0, 0, 0, 0, 0, 0, 0, 0, 0, 0, 0, 0, 0, 0, 0, 0, 0, 0, 0, 0, 0, 0, 0, 0, 0, 0, 0, 0, 0, 0, 0, 0, 0, 0, 0, 0, 0, 0, 0, 0, 0, 0, 0, 0, 0, 0, 0, 0, 0, 0, 0, 0, 0, 0, 0, 0, 0] [0, 0, 0, 0, 0, 0, 0, 0, 0, 0, 0, 0, 0, 0, 0, 0, 0, 0, 0, 0, 0, 0, 0, 0, 0, 0, 0, 0, 0, 0, 0, 0, 0, 0, 0, 0, 0, 0, 0, 0, 0, 0, 0, 0, 0, 0, 0, 0, 0, 0, 0, 0, 0, 0, 0, 0, 0, 0, 0, 0, 0, 0, 0, 0, 0, 0, 0, 0, 0, 0, 0, 0, 0, 0, 0, 0, 0, 0, 0, 0, 0, 0, 0, 0, 0, 0, 0, 0, 0, 0, 0, 0, 0, 0, 0, 0, 0, 0, 0, 0]\n"
     ]
    }
   ],
   "source": [
    "l=[0]*100\n",
    "k=[0 for i in range(100)]\n",
    "print(l,k)"
   ]
  },
  {
   "cell_type": "markdown",
   "id": "83f4596b-20ef-4d5d-8ce4-607b58701193",
   "metadata": {},
   "source": [
    "Q4. What is the most effective way to initialise a list of 99 integers that repeats the sequence 1, 2, 3? S If necessary, show step-by-step instructions on how to accomplish this."
   ]
  },
  {
   "cell_type": "code",
   "execution_count": 3,
   "id": "911095d5-0ec0-40fb-82f6-b293b0d03235",
   "metadata": {},
   "outputs": [
    {
     "name": "stdout",
     "output_type": "stream",
     "text": [
      "[1, 2, 3, 1, 2, 3, 1, 2, 3, 1, 2, 3, 1, 2, 3, 1, 2, 3, 1, 2, 3, 1, 2, 3, 1, 2, 3, 1, 2, 3, 1, 2, 3, 1, 2, 3, 1, 2, 3, 1, 2, 3, 1, 2, 3, 1, 2, 3, 1, 2, 3, 1, 2, 3, 1, 2, 3, 1, 2, 3, 1, 2, 3, 1, 2, 3, 1, 2, 3, 1, 2, 3, 1, 2, 3, 1, 2, 3, 1, 2, 3, 1, 2, 3, 1, 2, 3, 1, 2, 3, 1, 2, 3, 1, 2, 3, 1, 2, 3]\n"
     ]
    }
   ],
   "source": [
    "l=[1,2,3]*33\n",
    "print(l)"
   ]
  },
  {
   "cell_type": "markdown",
   "id": "2dc3c2d0-7683-49a9-9b06-66850c07bdd2",
   "metadata": {},
   "source": [
    "Q5. If you're using IDLE to run a Python application, explain how to print a multidimensional list as efficiently?"
   ]
  },
  {
   "cell_type": "code",
   "execution_count": 6,
   "id": "6211fb71-c4e3-440a-81bb-4a98bfead42c",
   "metadata": {},
   "outputs": [
    {
     "name": "stdout",
     "output_type": "stream",
     "text": [
      "1\n",
      "2\n",
      "3\n",
      "4\n",
      "5\n",
      "6\n"
     ]
    }
   ],
   "source": [
    "l=[[1,2],[3,4],[5,6]]\n",
    "for i in range(len(l)):\n",
    "    for j in range(len(l[i])):\n",
    "        print(l[i][j])"
   ]
  },
  {
   "cell_type": "markdown",
   "id": "894cb393-64b4-4f1e-96d8-90347ba011a5",
   "metadata": {},
   "source": [
    "Q6. Is it possible to use list comprehension with a string? If so, how can you go about doing it?\n",
    "\n",
    "Yes we can do list comprehension with strings as every element is taken to be a list element in string"
   ]
  },
  {
   "cell_type": "code",
   "execution_count": 7,
   "id": "967deb4d-dc43-4840-a498-a731f49487c2",
   "metadata": {},
   "outputs": [
    {
     "name": "stdout",
     "output_type": "stream",
     "text": [
      "k\n",
      "p\n",
      "r\n",
      "a\n",
      "d\n",
      "e\n",
      "e\n",
      "p\n",
      "a\n"
     ]
    }
   ],
   "source": [
    "l=\"kpradeepa\"\n",
    "for i in l:\n",
    "    print(i)"
   ]
  },
  {
   "cell_type": "markdown",
   "id": "4f26b526-e036-4885-969d-9ce2485d3cc2",
   "metadata": {},
   "source": [
    "Q7. From the command line, how do you get support with a user-written Python programme? Is this possible from inside IDLE?\n",
    "\n",
    "Get support with a user-written Python Programme: \n",
    "    \n",
    "    Start a command prompt (Windows) or terminal window (Linux/Mac). If the current working directory is the same as the location in which you saved the file, you can simply specify the filename as a command-line argument to the Python interpreter.\n",
    "\n",
    "Get support with a User-written Python Program from IDLE: \n",
    "    \n",
    "    You can also create script files and run them in IDLE. From the Shell window menu, select File → New File. That should open an additional editing window. Type in the code to be executed. From the menu in that window, select File → Save or File → Save As… and save the file to disk. Then select Run → Run Module. The output should appear back in the interpreter"
   ]
  },
  {
   "cell_type": "markdown",
   "id": "5d2cdd85-0a40-453d-84ea-db1484369f38",
   "metadata": {},
   "source": [
    "Q8. Functions are said to be “first-class objects” in Python but not in most other languages, such as C++ or Java. What can you do in Python with a function (callable object) that you can't do in C or C++?\n",
    "\n",
    "We can do the following with a function (callable object):\n",
    "    \n",
    "    We can create an instance of the Object type\n",
    "    \n",
    "    We can pass the functions as an argument to another function\n",
    "\n",
    "    We can also store the functions in lists or hashtables etc\n",
    "    \n",
    "    We can store the function in a variable also\n",
    "    \n",
    "    Recursive functions work in such a way a function can return another function also"
   ]
  },
  {
   "cell_type": "markdown",
   "id": "c7907585-8c64-4f1c-a3f6-e33aa0bfaddb",
   "metadata": {},
   "source": [
    "Q9. How do you distinguish between a wrapper, a wrapped feature, and a decorator?\n",
    "\n",
    "Wrapper:\n",
    "    \n",
    "    A Wrapper class \"wraps\" an object of another class. It is used to implement a design pattern that has an instance of an object and presents its own interface or behavior to that object, without changing the original class \n",
    "    \n",
    "Wrapped Feature:\n",
    "    \n",
    "    Decorators allow us to wrap another function in order to extend the behavior of the wrapped function, without permanently modifying it.\n",
    "    \n",
    "Decorator:\n",
    "    \n",
    "    Allows objects to be composed/add capabilities by wrapping them with a class with the same interface."
   ]
  },
  {
   "cell_type": "markdown",
   "id": "4b0ac953-6e46-4f08-80ab-1b9040006819",
   "metadata": {},
   "source": [
    "Q10. If a function is a generator function, what does it return?\n",
    "\n",
    "A Generator function returns a lazy iterator, which can be used like a iterator.\n",
    "\n",
    "One advantage is that these lazy iterators do not store contents in memory\n",
    "\n",
    "Example"
   ]
  },
  {
   "cell_type": "code",
   "execution_count": 8,
   "id": "bbab4a40-fb50-40cd-9371-01f7d1e4cbec",
   "metadata": {},
   "outputs": [
    {
     "name": "stdout",
     "output_type": "stream",
     "text": [
      "1\n",
      "2\n"
     ]
    }
   ],
   "source": [
    "def fun():\n",
    "    yield 1            \n",
    "    yield 2                 \n",
    "for i in fun(): \n",
    "    print(i)"
   ]
  },
  {
   "cell_type": "markdown",
   "id": "b6b78aa0-8d37-4423-92b4-db477644dbe7",
   "metadata": {},
   "source": [
    "Q11. What is the one improvement that must be made to a function in order for it to become a generator function in the Python language?\n",
    "\n",
    "The improvement that must be made to a function in order for it to become a generator function in the Python Language is the addition of yield keyword instead normal functions' return keyword"
   ]
  },
  {
   "cell_type": "markdown",
   "id": "cd0d98c2-c9c1-4da5-886e-82dfb7938902",
   "metadata": {},
   "source": [
    "Q12. Identify at least one benefit of generators.\n",
    "\n",
    "Generators can produce sequence of values\n",
    "\n",
    "It can also iterate over a sequence but does not store entire sequence in memory"
   ]
  },
  {
   "cell_type": "code",
   "execution_count": null,
   "id": "b027ff91-8d1a-4476-be9c-0a863f41831e",
   "metadata": {},
   "outputs": [],
   "source": []
  }
 ],
 "metadata": {
  "kernelspec": {
   "display_name": "Python 3",
   "language": "python",
   "name": "python3"
  },
  "language_info": {
   "codemirror_mode": {
    "name": "ipython",
    "version": 3
   },
   "file_extension": ".py",
   "mimetype": "text/x-python",
   "name": "python",
   "nbconvert_exporter": "python",
   "pygments_lexer": "ipython3",
   "version": "3.8.8"
  }
 },
 "nbformat": 4,
 "nbformat_minor": 5
}
