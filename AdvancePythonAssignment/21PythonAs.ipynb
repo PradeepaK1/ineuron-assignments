{
 "cells": [
  {
   "cell_type": "markdown",
   "id": "001ee472-9fcb-4e71-9dff-34b581d2553c",
   "metadata": {},
   "source": [
    "Q1. What is a probability distribution, exactly? If the values are meant to be random, how can you \n",
    "predict them at all?\n",
    "\n",
    "Probability Distribution exactly means how a random variable is distributed among the features in a plain\n",
    "\n",
    "It can guide us which values a random variable is most likely to take on and which values are less likely\n",
    "\n",
    "If the values are meant to be random, based on the previous data and the occurences of the random event we can predict the outcome in terms of probabilities"
   ]
  },
  {
   "cell_type": "markdown",
   "id": "47cca1dd-8e99-4331-b491-c7eaaaec410d",
   "metadata": {},
   "source": [
    "Q2. Is there a distinction between true random numbers and pseudo-random numbers, if there is \n",
    "one? Why are the latter considered “good enough”?\n",
    "\n",
    "Yes there is a  distinction between true random numbers and pseudo-random numbers as true random numbers are true physical and pseudo random numbers are generated internally by a program\n",
    "\n",
    "Latter is considered good enough because they have a uniform distribution"
   ]
  },
  {
   "cell_type": "markdown",
   "id": "0deef2e5-c777-4183-a7eb-8cfe287a753b",
   "metadata": {},
   "source": [
    "Q3. What are the two main factors that influence the behaviour of a \"normal\" probability distribution?\n",
    "\n",
    "The two main factors that influence the behaviour of a \"normal\" probability distribution are:\n",
    "    \n",
    "    Mean\n",
    "    \n",
    "    Variance"
   ]
  },
  {
   "cell_type": "markdown",
   "id": "60e82c49-14e5-4c64-a1be-5a4a7b8d6729",
   "metadata": {},
   "source": [
    "Q4. Provide a real-life example of a normal distribution.\n",
    "\n",
    "Weight Distribution is one of the real-life example of a normal distribution."
   ]
  },
  {
   "cell_type": "markdown",
   "id": "bd21a44e-5564-40f0-8cfd-6eaeebeac34d",
   "metadata": {},
   "source": [
    "Q5. In the short term, how can you expect a probability distribution to behave? What do you think will \n",
    "happen as the number of trials grows?\n",
    "\n",
    "In the short term, we expect a probability distribution to behave with respect to variance and trials like,\n",
    "\n",
    "As the number of trials grows variance will decrease"
   ]
  },
  {
   "cell_type": "markdown",
   "id": "06dc7ae9-3a7f-4d92-964d-10cf6782a632",
   "metadata": {},
   "source": [
    "Q6. What kind of object can be shuffled by using random.shuffle?\n",
    "\n",
    "The list of objects can be shuffled by using random.shuffle are:\n",
    "    \n",
    "list(list)\n",
    "\n",
    "strings(str)\n",
    "\n",
    "tuples(tuple)"
   ]
  },
  {
   "cell_type": "markdown",
   "id": "80756477-d81f-453f-9837-8ee1cc0bfcf3",
   "metadata": {},
   "source": [
    "Q7. Describe the math package's general categories of functions.\n",
    "\n",
    "The Math package's general categories of functions are:\n",
    "\n",
    "    Trigonometric functions\n",
    "    \n",
    "    Quadratic functions\n",
    "    \n",
    "    Exponential functions\n",
    "    \n",
    "    Hyperbolic functions\n",
    "    \n",
    "    Periodic functions\n",
    "    \n",
    "    Arithmetic functions\n",
    "    \n",
    "    Logarithimic functions\n",
    "    \n",
    "    Conversions to Integer"
   ]
  },
  {
   "cell_type": "markdown",
   "id": "f2d6488f-b251-480d-8fae-d1d45fd03a20",
   "metadata": {},
   "source": [
    "Q8. What is the relationship between exponentiation and logarithms?\n",
    "\n",
    "Exponentiation and Logarithms are inversely proportional to each other"
   ]
  },
  {
   "cell_type": "markdown",
   "id": "b9ee0ece-eb88-4305-adb8-e68a4129c584",
   "metadata": {},
   "source": [
    "Q9. What are the three logarithmic functions that Python supports?\n",
    "\n",
    "The Three Logarithmic Functions that Python supports are:\n",
    "\n",
    "    log2(x) - logarithmic value of x to base 2\n",
    "    \n",
    "    log10(x) - logarithmic value of x to base 10\n",
    "    \n",
    "    log1p(a) - This function is used to compute logarithm(1+a) ."
   ]
  },
  {
   "cell_type": "code",
   "execution_count": null,
   "id": "d95a30d9-184b-41c0-85b6-cf410479cd5e",
   "metadata": {},
   "outputs": [],
   "source": []
  }
 ],
 "metadata": {
  "kernelspec": {
   "display_name": "Python 3",
   "language": "python",
   "name": "python3"
  },
  "language_info": {
   "codemirror_mode": {
    "name": "ipython",
    "version": 3
   },
   "file_extension": ".py",
   "mimetype": "text/x-python",
   "name": "python",
   "nbconvert_exporter": "python",
   "pygments_lexer": "ipython3",
   "version": "3.8.8"
  }
 },
 "nbformat": 4,
 "nbformat_minor": 5
}
