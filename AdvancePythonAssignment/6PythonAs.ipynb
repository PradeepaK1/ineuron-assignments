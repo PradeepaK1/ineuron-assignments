{
 "cells": [
  {
   "cell_type": "markdown",
   "id": "5be7eff7-cd6c-4229-8c4a-f1bf09c75ace",
   "metadata": {},
   "source": [
    "Q1. Describe three applications for exception processing.\n",
    "\n",
    "Exception Processing is essential as it prevents the halting of programn and lets it continue to the next block\n",
    "\n",
    "Example,\n",
    "\n",
    "1. While Filling forms in websites if any of the requirements of the fields are missed or mismatched then we can use exceptions\n",
    "\n",
    "2. While Fetching files or details from path or database if file mot found then we can use Exceptions to continue the program to throw appropriate error message\n",
    "\n",
    "3. Checking inputs type error also we can throw appropriate exceptions"
   ]
  },
  {
   "cell_type": "markdown",
   "id": "819c0311-90eb-4414-871b-7e9484f183fb",
   "metadata": {},
   "source": [
    "Q2. What happens if you don't do something extra to treat an exception?\n",
    "\n",
    "If Exceptions are not treated or handled properly the program will be broken facing run time errors\n",
    "\n",
    "Intermitent termination of the program will crash the software\n",
    "\n",
    "User will be unaware of what's wrong with their input or the choice of operation they did\n",
    "\n",
    "Reliability of the application will reduce \n",
    "\n",
    "The progress of the tasks done so far will not be saved some times leading to wastage of time and resources"
   ]
  },
  {
   "cell_type": "markdown",
   "id": "e8747c72-b7fe-46d3-8ea4-3d4f91930410",
   "metadata": {},
   "source": [
    "Q3. What are your options for recovering from an exception in your script?\n",
    "\n",
    "We use try and except block for recovering from an exception\n",
    "\n",
    "We place the suspicious code block in try block\n",
    "\n",
    "Then place the exception statement in the except block\n",
    "\n",
    "Example,"
   ]
  },
  {
   "cell_type": "code",
   "execution_count": 2,
   "id": "4a8af9f1-b451-4738-af3e-1bfc10e5c345",
   "metadata": {},
   "outputs": [
    {
     "name": "stdout",
     "output_type": "stream",
     "text": [
      "Exception of Divide by Zero\n"
     ]
    }
   ],
   "source": [
    "a=0\n",
    "b=1\n",
    "try:\n",
    "    c=b/a\n",
    "    print(c)\n",
    "except:\n",
    "    print(\"Exception of Divide by Zero\")"
   ]
  },
  {
   "cell_type": "markdown",
   "id": "1d90cdc7-b842-4f8e-aff7-239dff7019b1",
   "metadata": {},
   "source": [
    "Q4. Describe two methods for triggering exceptions in your script.\n",
    "\n",
    "We use two methods for triggering exceptions \n",
    "\n",
    "1. raise method: This triggers an exception ifi a condition is provided and it gets satisfied or becomes True\n",
    "    \n",
    "2. assert method: Here the given condition if satisfied or True then the program execution will continue or else the exception will be raised\n",
    "    \n",
    "Example,"
   ]
  },
  {
   "cell_type": "code",
   "execution_count": 3,
   "id": "ae8ca725-e1d6-4170-80d1-10185f05ba38",
   "metadata": {},
   "outputs": [
    {
     "ename": "Exception",
     "evalue": "x Equals False",
     "output_type": "error",
     "traceback": [
      "\u001b[1;31m---------------------------------------------------------------------------\u001b[0m",
      "\u001b[1;31mException\u001b[0m                                 Traceback (most recent call last)",
      "\u001b[1;32m<ipython-input-3-c9beb6f8b18f>\u001b[0m in \u001b[0;36m<module>\u001b[1;34m\u001b[0m\n\u001b[0;32m      1\u001b[0m \u001b[0mx\u001b[0m\u001b[1;33m=\u001b[0m\u001b[1;32mFalse\u001b[0m\u001b[1;33m\u001b[0m\u001b[1;33m\u001b[0m\u001b[0m\n\u001b[1;32m----> 2\u001b[1;33m \u001b[1;32mraise\u001b[0m \u001b[0mException\u001b[0m\u001b[1;33m(\u001b[0m\u001b[1;34m\"x Equals False\"\u001b[0m\u001b[1;33m)\u001b[0m\u001b[1;33m\u001b[0m\u001b[1;33m\u001b[0m\u001b[0m\n\u001b[0m",
      "\u001b[1;31mException\u001b[0m: x Equals False"
     ]
    }
   ],
   "source": [
    "x=False\n",
    "raise Exception(\"x Equals False\")"
   ]
  },
  {
   "cell_type": "code",
   "execution_count": 4,
   "id": "1c7d74d0-e43d-420d-8545-2803f4bd5e9d",
   "metadata": {},
   "outputs": [
    {
     "ename": "AssertionError",
     "evalue": "Given input is False",
     "output_type": "error",
     "traceback": [
      "\u001b[1;31m---------------------------------------------------------------------------\u001b[0m",
      "\u001b[1;31mAssertionError\u001b[0m                            Traceback (most recent call last)",
      "\u001b[1;32m<ipython-input-4-ee25392d715a>\u001b[0m in \u001b[0;36m<module>\u001b[1;34m\u001b[0m\n\u001b[1;32m----> 1\u001b[1;33m \u001b[1;32massert\u001b[0m\u001b[1;33m(\u001b[0m\u001b[1;32mFalse\u001b[0m\u001b[1;33m)\u001b[0m\u001b[1;33m,\u001b[0m \u001b[1;34m\"Given input is False\"\u001b[0m\u001b[1;33m\u001b[0m\u001b[1;33m\u001b[0m\u001b[0m\n\u001b[0m",
      "\u001b[1;31mAssertionError\u001b[0m: Given input is False"
     ]
    }
   ],
   "source": [
    "assert(False), \"Given input is False\""
   ]
  },
  {
   "cell_type": "markdown",
   "id": "1a4e2eac-0bb8-4852-959d-035c1fad6bd6",
   "metadata": {},
   "source": [
    "Q5. Identify two methods for specifying actions to be executed at termination time, regardless of whether or not an exception exists.\n",
    "\n",
    "else and finally blocks are used to specify the actions to be executed at termination time, regardless of whether or not an exception exists"
   ]
  },
  {
   "cell_type": "code",
   "execution_count": null,
   "id": "73d39adf-4911-4ca0-af7d-2edf04ffd79d",
   "metadata": {},
   "outputs": [],
   "source": []
  }
 ],
 "metadata": {
  "kernelspec": {
   "display_name": "Python 3",
   "language": "python",
   "name": "python3"
  },
  "language_info": {
   "codemirror_mode": {
    "name": "ipython",
    "version": 3
   },
   "file_extension": ".py",
   "mimetype": "text/x-python",
   "name": "python",
   "nbconvert_exporter": "python",
   "pygments_lexer": "ipython3",
   "version": "3.8.8"
  }
 },
 "nbformat": 4,
 "nbformat_minor": 5
}
