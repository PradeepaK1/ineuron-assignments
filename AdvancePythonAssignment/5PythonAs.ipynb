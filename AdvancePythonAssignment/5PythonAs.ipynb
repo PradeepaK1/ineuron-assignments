{
 "cells": [
  {
   "cell_type": "markdown",
   "id": "74a2fbd1-94dc-4264-9488-add3569bfd41",
   "metadata": {},
   "source": [
    "Q1. What is the meaning of multiple inheritance?\n",
    "\n",
    "Inheriting the properties of multiple parent by a child class is called as multiple inheritance.\n",
    "\n",
    "Example\n",
    "\n",
    "In the below given example the properties of class a and b are inherited by class c so here multiple inheritance is done by class c from class a and b"
   ]
  },
  {
   "cell_type": "code",
   "execution_count": null,
   "id": "63993a52-b286-42d2-add0-35b0d7059fb6",
   "metadata": {},
   "outputs": [],
   "source": [
    "class a:\n",
    "    pass\n",
    "class b:\n",
    "    pass\n",
    "class c(a,b):\n",
    "    pass"
   ]
  },
  {
   "cell_type": "markdown",
   "id": "fb0f8d31-564e-4ccb-bff4-7fd1511a4189",
   "metadata": {},
   "source": [
    "Q2. What is the concept of delegation?\n",
    "\n",
    "Delegation is more like a wrapper of a main class which contains limited resources of the main class\n",
    "\n",
    "It wraps the object of a main class into a smaller object with limited access\n",
    "\n",
    "In delegation we can include another class's instance and initiate commands\n",
    "\n",
    "Example,"
   ]
  },
  {
   "cell_type": "code",
   "execution_count": 3,
   "id": "cc6dec77-7d55-4fc3-a3b3-0e790ac40c94",
   "metadata": {},
   "outputs": [
    {
     "name": "stdout",
     "output_type": "stream",
     "text": [
      "Hi\n",
      "Hi\n",
      "Hi\n",
      "hello\n"
     ]
    }
   ],
   "source": [
    "class main:\n",
    "    def s1(self):\n",
    "        print(\"Hi\")\n",
    "    def s2(self):\n",
    "        print(\"hello\")\n",
    "class dele:\n",
    "    def __init__(self,obj):\n",
    "        self.main=obj\n",
    "    def s3(self):\n",
    "        self.main.s1()\n",
    "a=main()\n",
    "b=dele(a)\n",
    "a.s1()\n",
    "b.main.s1()\n",
    "b.s3()\n",
    "b.main.s2()"
   ]
  },
  {
   "cell_type": "markdown",
   "id": "f8574dbd-c642-40f6-97bf-12a0254d1579",
   "metadata": {},
   "source": [
    "Q3. What is the concept of composition?\n",
    "\n",
    "Composition creates a Has-A Relationship\n",
    "\n",
    "It combines objects of other types and creates complex types, which means a composite class can contain an object of another class component\n",
    "\n",
    "Relationship: A composite Has-A component\n",
    "\n",
    "It differs from inheritance in the means of all the parent class members are not inherited but only required methods from a class are used by class \n",
    "instances\n",
    "\n",
    "Example,"
   ]
  },
  {
   "cell_type": "code",
   "execution_count": 4,
   "id": "931b07ce-7f66-4e16-b252-0b3acf1b8d37",
   "metadata": {},
   "outputs": [
    {
     "name": "stdout",
     "output_type": "stream",
     "text": [
      "Component class\n",
      "Composite class\n",
      "Method in composite class\n",
      "Method in component class\n"
     ]
    }
   ],
   "source": [
    "class Component:\n",
    "    def __init__(self):\n",
    "        print('Component class')\n",
    "    def m1(self):\n",
    "        print('Method in component class')\n",
    "class Composite:\n",
    "    def __init__(self):\n",
    "        self.obj1 = Component()\n",
    "        print('Composite class')\n",
    "    def m2(self):\n",
    "        print('Method in composite class')\n",
    "        self.obj1.m1()\n",
    "obj2 = Composite()\n",
    "obj2.m2()"
   ]
  },
  {
   "cell_type": "markdown",
   "id": "d7db79d7-e72f-4f15-a046-3e7f0d8da120",
   "metadata": {},
   "source": [
    "Q4. What are bound methods and how do we use them?\n",
    "\n",
    "In Bound methods a function acts like a attribute and is accessed through the instance created\n",
    "\n",
    "It will have self as its first argument\n",
    "\n",
    "Bound methods are also called as instance methods as they are bound to instances of a class\n",
    "\n",
    "Example,"
   ]
  },
  {
   "cell_type": "code",
   "execution_count": 6,
   "id": "25c3eff2-6f66-4297-a8d1-3e1cda784b9a",
   "metadata": {},
   "outputs": [
    {
     "name": "stdout",
     "output_type": "stream",
     "text": [
      "Bound Method\n",
      "Bound Method\n",
      "Direct Method\n"
     ]
    }
   ],
   "source": [
    "class a:\n",
    "    def bm(self):\n",
    "        print(\"Bound Method\")\n",
    "    @classmethod\n",
    "    def bm1(cls): \n",
    "        print(\"Bound Method\")\n",
    "    @staticmethod\n",
    "    def dm(): \n",
    "        print(\"Direct Method\")\n",
    "b = a()\n",
    "b.bm() \n",
    "b.bm1() \n",
    "a.dm() "
   ]
  },
  {
   "cell_type": "markdown",
   "id": "6def889c-6189-47e0-b469-cc8c9088380a",
   "metadata": {},
   "source": [
    "Q5. What is the purpose of pseudoprivate attributes?\n",
    "\n",
    "In order to avoid confusion by new method names which can hide definitions some where else inside the class we use Pseudoprivate attributes\n",
    "\n",
    "It prevents replacing of internal methods by names defined lower in the class section\n",
    "\n",
    "The double under score prefix prevents a method to serve its intended use only otherwise it can be mixed into other classes\n",
    "\n",
    "This is widely used in multiple inheritances\n",
    "\n",
    "It prevents subclasses from redefining the internal method names\n",
    "\n",
    "Example"
   ]
  },
  {
   "cell_type": "code",
   "execution_count": 8,
   "id": "977cf986-e742-46ab-ae3c-0fd8e07b6df9",
   "metadata": {},
   "outputs": [],
   "source": [
    "class Super:\n",
    "    def method(self): \n",
    "        pass\n",
    "class Tool:\n",
    "    def _method(self):\n",
    "        pass\n",
    "    def other(self): \n",
    "        self._method()\n",
    "class Subl(Tool,Super):\n",
    "    def actions(self):\n",
    "        self.method()\n",
    "class Sub2(Tool):\n",
    "    def __init__(self):\n",
    "        self.method = 99"
   ]
  },
  {
   "cell_type": "code",
   "execution_count": null,
   "id": "68af7552-47f7-474a-abb5-9eeebd3665cd",
   "metadata": {},
   "outputs": [],
   "source": []
  }
 ],
 "metadata": {
  "kernelspec": {
   "display_name": "Python 3",
   "language": "python",
   "name": "python3"
  },
  "language_info": {
   "codemirror_mode": {
    "name": "ipython",
    "version": 3
   },
   "file_extension": ".py",
   "mimetype": "text/x-python",
   "name": "python",
   "nbconvert_exporter": "python",
   "pygments_lexer": "ipython3",
   "version": "3.8.8"
  }
 },
 "nbformat": 4,
 "nbformat_minor": 5
}
