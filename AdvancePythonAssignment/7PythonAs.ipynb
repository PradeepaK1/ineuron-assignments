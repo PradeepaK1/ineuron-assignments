{
 "cells": [
  {
   "cell_type": "markdown",
   "id": "6871a1ef-b8e5-4fcf-9efd-7c349ca6659c",
   "metadata": {},
   "source": [
    "Q1. What is the purpose of the try statement?\n",
    "\n",
    "Purpose of try statement:\n",
    "    \n",
    "    The statements under suspicion in the program are enclosed with in the try block\n",
    "    \n",
    "    When such risky statements are enclosed with in the try block then raise an exception statement from the except block associated with the try block\n",
    "\n",
    "Example,\n",
    "\n",
    "The statement 1/0 will cause an error so we enclose it with in the try block later handled by exception statement"
   ]
  },
  {
   "cell_type": "code",
   "execution_count": 1,
   "id": "29f31536-834d-4cc0-87f3-1e9c187aed0a",
   "metadata": {},
   "outputs": [
    {
     "name": "stdout",
     "output_type": "stream",
     "text": [
      "Division by Zero\n"
     ]
    }
   ],
   "source": [
    "a=0\n",
    "b=1\n",
    "try:\n",
    "    c=b/a\n",
    "    print(c)\n",
    "except:\n",
    "    print(\"Division by Zero\")"
   ]
  },
  {
   "cell_type": "markdown",
   "id": "098bdbfc-8a70-4b44-b1ba-78e8dccfc9f0",
   "metadata": {},
   "source": [
    "Q2. What are the two most popular try statement variations?\n",
    "\n",
    "The popular usages of try statements are in the mixed combinations of the below keywords\n",
    "\n",
    "1. try... except... else...\n",
    "\n",
    "Here it is used to first enclose risky code inside the try block and if any exception found then that is handled in except block and if no exception is found then else block is executed\n",
    "\n",
    "2. try... except... else... finally... \n",
    "\n",
    "It more similar to like first risk block is kept in try block and if any error except block is executed if no error else block is executed but in both the cases finally block gets executed with out any condition\n",
    "\n",
    "Example"
   ]
  },
  {
   "cell_type": "code",
   "execution_count": 1,
   "id": "c2a4e19a-419b-48ec-80c6-b2d95079342a",
   "metadata": {},
   "outputs": [
    {
     "name": "stdout",
     "output_type": "stream",
     "text": [
      "Divide by zero\n",
      "I am always there\n"
     ]
    }
   ],
   "source": [
    "a=0\n",
    "b=1\n",
    "try:\n",
    "    c=b/a\n",
    "    d=b/2    \n",
    "except:\n",
    "    print(\"Divide by zero\")\n",
    "else:\n",
    "    print(c,d)\n",
    "finally:\n",
    "    print(\"I am always there\")"
   ]
  },
  {
   "cell_type": "markdown",
   "id": "0e121a81-b8a6-407d-9516-f82d5a8b2c31",
   "metadata": {},
   "source": [
    "Q3. What is the purpose of the raise statement?\n",
    "\n",
    "raise is used to raise a customised exception if any specific risk or error is to be handled then that exception can be raised using raise\n",
    "\n",
    "Example,"
   ]
  },
  {
   "cell_type": "code",
   "execution_count": 2,
   "id": "b5235a3d-2a61-4333-aa39-a935085d0798",
   "metadata": {},
   "outputs": [
    {
     "ename": "Exception",
     "evalue": "Type mismatch",
     "output_type": "error",
     "traceback": [
      "\u001b[1;31m---------------------------------------------------------------------------\u001b[0m",
      "\u001b[1;31mException\u001b[0m                                 Traceback (most recent call last)",
      "\u001b[1;32m<ipython-input-2-230701ad8c7b>\u001b[0m in \u001b[0;36m<module>\u001b[1;34m\u001b[0m\n\u001b[0;32m      1\u001b[0m \u001b[0mx\u001b[0m\u001b[1;33m=\u001b[0m\u001b[1;36m1\u001b[0m\u001b[1;33m\u001b[0m\u001b[1;33m\u001b[0m\u001b[0m\n\u001b[0;32m      2\u001b[0m \u001b[1;32mif\u001b[0m \u001b[0mtype\u001b[0m\u001b[1;33m(\u001b[0m\u001b[0mx\u001b[0m\u001b[1;33m)\u001b[0m\u001b[1;33m!=\u001b[0m\u001b[1;34m\"str\"\u001b[0m\u001b[1;33m:\u001b[0m\u001b[1;33m\u001b[0m\u001b[1;33m\u001b[0m\u001b[0m\n\u001b[1;32m----> 3\u001b[1;33m     \u001b[1;32mraise\u001b[0m \u001b[0mException\u001b[0m\u001b[1;33m(\u001b[0m\u001b[1;34m\"Type mismatch\"\u001b[0m\u001b[1;33m)\u001b[0m\u001b[1;33m\u001b[0m\u001b[1;33m\u001b[0m\u001b[0m\n\u001b[0m",
      "\u001b[1;31mException\u001b[0m: Type mismatch"
     ]
    }
   ],
   "source": [
    "x=1\n",
    "if type(x)!=\"str\":\n",
    "    raise Exception(\"Type mismatch\")"
   ]
  },
  {
   "cell_type": "markdown",
   "id": "9367a355-2029-42e2-baa8-b78694ad1b69",
   "metadata": {},
   "source": [
    "Q4. What does the assert statement do, and what other statement is it like?\n",
    "\n",
    "Assert is used when a boolean condition is to be tested for its true or false and when it evaluates to be false, assert error is thrown with the custom statement\n",
    "\n",
    "Example,"
   ]
  },
  {
   "cell_type": "code",
   "execution_count": 3,
   "id": "81eb8814-b16c-44f7-8d86-d9b36938a9fa",
   "metadata": {},
   "outputs": [
    {
     "ename": "AssertionError",
     "evalue": "Not equal",
     "output_type": "error",
     "traceback": [
      "\u001b[1;31m---------------------------------------------------------------------------\u001b[0m",
      "\u001b[1;31mAssertionError\u001b[0m                            Traceback (most recent call last)",
      "\u001b[1;32m<ipython-input-3-c348a803ac1a>\u001b[0m in \u001b[0;36m<module>\u001b[1;34m\u001b[0m\n\u001b[1;32m----> 1\u001b[1;33m \u001b[1;32massert\u001b[0m \u001b[1;33m(\u001b[0m\u001b[1;36m0\u001b[0m\u001b[1;33m==\u001b[0m\u001b[1;36m1\u001b[0m\u001b[1;33m)\u001b[0m\u001b[1;33m,\u001b[0m \u001b[1;34m\"Not equal\"\u001b[0m\u001b[1;33m\u001b[0m\u001b[1;33m\u001b[0m\u001b[0m\n\u001b[0m",
      "\u001b[1;31mAssertionError\u001b[0m: Not equal"
     ]
    }
   ],
   "source": [
    "assert (0==1), \"Not equal\""
   ]
  },
  {
   "cell_type": "markdown",
   "id": "cf903fb1-05ec-4970-9a14-2e33343dc6da",
   "metadata": {},
   "source": [
    "Q5. What is the purpose of the with/as argument, and what other statement is it like?\n",
    "\n",
    "with is generally used in file handling for the purpose of reading data in file. This is used to resource deallocation and closing\n",
    "\n",
    "as is used to assign alias names to the content\n",
    "\n",
    "Example,"
   ]
  },
  {
   "cell_type": "code",
   "execution_count": 4,
   "id": "863020a4-5c53-4971-ae94-e911b75ab602",
   "metadata": {},
   "outputs": [],
   "source": [
    "import pandas as pd\n",
    "with open('today.txt','w') as f:\n",
    "    f.write(\"hi\")"
   ]
  },
  {
   "cell_type": "code",
   "execution_count": null,
   "id": "1dcb4e53-4820-4bfe-ad61-123ab9a98703",
   "metadata": {},
   "outputs": [],
   "source": []
  }
 ],
 "metadata": {
  "kernelspec": {
   "display_name": "Python 3",
   "language": "python",
   "name": "python3"
  },
  "language_info": {
   "codemirror_mode": {
    "name": "ipython",
    "version": 3
   },
   "file_extension": ".py",
   "mimetype": "text/x-python",
   "name": "python",
   "nbconvert_exporter": "python",
   "pygments_lexer": "ipython3",
   "version": "3.8.8"
  }
 },
 "nbformat": 4,
 "nbformat_minor": 5
}
