{
 "cells": [
  {
   "cell_type": "markdown",
   "id": "5125c616-0ab5-4bb8-b00a-66778656de19",
   "metadata": {},
   "source": [
    "Q1. What are the two latest user-defined exception constraints in Python 3.X?\n",
    "\n",
    "The latest two user-defined exceptions constraints in Python 3.X are\n",
    "\n",
    "1. raise method: This triggers an exception ifi a condition is provided and it gets satisfied or becomes True\n",
    "\n",
    "2. assert method: Here the given condition if satisfied or True then the program execution will continue or else the exception will be raised\n",
    "\n",
    "Example,"
   ]
  },
  {
   "cell_type": "code",
   "execution_count": 1,
   "id": "7f585516-6441-4c93-bbec-fdab6772f635",
   "metadata": {},
   "outputs": [
    {
     "ename": "Exception",
     "evalue": "x Equals False",
     "output_type": "error",
     "traceback": [
      "\u001b[1;31m---------------------------------------------------------------------------\u001b[0m",
      "\u001b[1;31mException\u001b[0m                                 Traceback (most recent call last)",
      "\u001b[1;32m<ipython-input-1-c9beb6f8b18f>\u001b[0m in \u001b[0;36m<module>\u001b[1;34m\u001b[0m\n\u001b[0;32m      1\u001b[0m \u001b[0mx\u001b[0m\u001b[1;33m=\u001b[0m\u001b[1;32mFalse\u001b[0m\u001b[1;33m\u001b[0m\u001b[1;33m\u001b[0m\u001b[0m\n\u001b[1;32m----> 2\u001b[1;33m \u001b[1;32mraise\u001b[0m \u001b[0mException\u001b[0m\u001b[1;33m(\u001b[0m\u001b[1;34m\"x Equals False\"\u001b[0m\u001b[1;33m)\u001b[0m\u001b[1;33m\u001b[0m\u001b[1;33m\u001b[0m\u001b[0m\n\u001b[0m",
      "\u001b[1;31mException\u001b[0m: x Equals False"
     ]
    }
   ],
   "source": [
    "x=False\n",
    "raise Exception(\"x Equals False\")"
   ]
  },
  {
   "cell_type": "code",
   "execution_count": 2,
   "id": "3f696995-8ca1-4329-91e7-e4529df7a9c7",
   "metadata": {},
   "outputs": [
    {
     "ename": "AssertionError",
     "evalue": "Given input is False",
     "output_type": "error",
     "traceback": [
      "\u001b[1;31m---------------------------------------------------------------------------\u001b[0m",
      "\u001b[1;31mAssertionError\u001b[0m                            Traceback (most recent call last)",
      "\u001b[1;32m<ipython-input-2-ee25392d715a>\u001b[0m in \u001b[0;36m<module>\u001b[1;34m\u001b[0m\n\u001b[1;32m----> 1\u001b[1;33m \u001b[1;32massert\u001b[0m\u001b[1;33m(\u001b[0m\u001b[1;32mFalse\u001b[0m\u001b[1;33m)\u001b[0m\u001b[1;33m,\u001b[0m \u001b[1;34m\"Given input is False\"\u001b[0m\u001b[1;33m\u001b[0m\u001b[1;33m\u001b[0m\u001b[0m\n\u001b[0m",
      "\u001b[1;31mAssertionError\u001b[0m: Given input is False"
     ]
    }
   ],
   "source": [
    "assert(False), \"Given input is False\""
   ]
  },
  {
   "cell_type": "markdown",
   "id": "3a3e67a6-d1c4-4a91-b2b6-81cac10af0b0",
   "metadata": {},
   "source": [
    "Q2. How are class-based exceptions that have been raised matched to handlers?\n",
    "\n",
    "Custom class-based exceptions are created in python by creation of custom classes. \n",
    "\n",
    "After class creation it has to be called directly or also can be called from built-in exceptions\n",
    "\n",
    "This class exceptions are raised using raise statements with a custom message\n",
    "\n",
    "Example,"
   ]
  },
  {
   "cell_type": "code",
   "execution_count": 7,
   "id": "996e5511-0f9b-48c0-8da8-34550af9de0f",
   "metadata": {},
   "outputs": [
    {
     "ename": "check",
     "evalue": "i is less than or equal to 10",
     "output_type": "error",
     "traceback": [
      "\u001b[1;31m---------------------------------------------------------------------------\u001b[0m",
      "\u001b[1;31mcheck\u001b[0m                                     Traceback (most recent call last)",
      "\u001b[1;32m<ipython-input-7-d1cef219f948>\u001b[0m in \u001b[0;36m<module>\u001b[1;34m\u001b[0m\n\u001b[0;32m      3\u001b[0m         \u001b[0mself\u001b[0m\u001b[1;33m.\u001b[0m\u001b[0mm\u001b[0m\u001b[1;33m=\u001b[0m\u001b[0mm\u001b[0m\u001b[1;33m\u001b[0m\u001b[1;33m\u001b[0m\u001b[0m\n\u001b[0;32m      4\u001b[0m \u001b[0mi\u001b[0m\u001b[1;33m=\u001b[0m\u001b[1;36m1\u001b[0m\u001b[1;33m\u001b[0m\u001b[1;33m\u001b[0m\u001b[0m\n\u001b[1;32m----> 5\u001b[1;33m \u001b[1;32mif\u001b[0m \u001b[0mi\u001b[0m\u001b[1;33m<=\u001b[0m\u001b[1;36m10\u001b[0m\u001b[1;33m:\u001b[0m \u001b[1;32mraise\u001b[0m \u001b[0mcheck\u001b[0m\u001b[1;33m(\u001b[0m\u001b[1;34m\"i is less than or equal to 10\"\u001b[0m\u001b[1;33m)\u001b[0m\u001b[1;33m\u001b[0m\u001b[1;33m\u001b[0m\u001b[0m\n\u001b[0m",
      "\u001b[1;31mcheck\u001b[0m: i is less than or equal to 10"
     ]
    }
   ],
   "source": [
    "class check(Exception):\n",
    "    def __init__(self,m):\n",
    "        self.m=m\n",
    "i=1\n",
    "if i<=10: raise check(\"i is less than or equal to 10\")"
   ]
  },
  {
   "cell_type": "markdown",
   "id": "2aca8236-fbcf-4ea0-8ce0-ee5136522a22",
   "metadata": {},
   "source": [
    "Q3. Describe two methods for attaching context information to exception artefacts.\n",
    "\n",
    "The process() method of LoggerAdapter is used to attach context information to exception artefacts\n",
    "\n",
    "This passes the message and keyword arguments of the logging call, and this sends back the modified versions of this to use in the call to the logger\n",
    "\n",
    "exception() method logs a message with level error to this logger\n",
    "\n",
    "debug() method is also used to interpret the logs"
   ]
  },
  {
   "cell_type": "markdown",
   "id": "586d9f4a-546d-4161-bcaf-e16c99137e64",
   "metadata": {},
   "source": [
    "Q4. Describe two methods for specifying the text of an exception object's error message.\n",
    "\n",
    "1. raise method: This triggers an exception ifi a condition is provided and it gets satisfied or becomes True\n",
    "\n",
    "2. assert method: Here the given condition if satisfied or True then the program execution will continue or else the exception will be raised\n",
    "\n",
    "Example,"
   ]
  },
  {
   "cell_type": "code",
   "execution_count": 8,
   "id": "8a3c0ea8-663b-4e02-9c42-bcb2279b6848",
   "metadata": {},
   "outputs": [
    {
     "ename": "Exception",
     "evalue": "x Equals False",
     "output_type": "error",
     "traceback": [
      "\u001b[1;31m---------------------------------------------------------------------------\u001b[0m",
      "\u001b[1;31mException\u001b[0m                                 Traceback (most recent call last)",
      "\u001b[1;32m<ipython-input-8-c9beb6f8b18f>\u001b[0m in \u001b[0;36m<module>\u001b[1;34m\u001b[0m\n\u001b[0;32m      1\u001b[0m \u001b[0mx\u001b[0m\u001b[1;33m=\u001b[0m\u001b[1;32mFalse\u001b[0m\u001b[1;33m\u001b[0m\u001b[1;33m\u001b[0m\u001b[0m\n\u001b[1;32m----> 2\u001b[1;33m \u001b[1;32mraise\u001b[0m \u001b[0mException\u001b[0m\u001b[1;33m(\u001b[0m\u001b[1;34m\"x Equals False\"\u001b[0m\u001b[1;33m)\u001b[0m\u001b[1;33m\u001b[0m\u001b[1;33m\u001b[0m\u001b[0m\n\u001b[0m",
      "\u001b[1;31mException\u001b[0m: x Equals False"
     ]
    }
   ],
   "source": [
    "x=False\n",
    "raise Exception(\"x Equals False\")"
   ]
  },
  {
   "cell_type": "code",
   "execution_count": 9,
   "id": "09635c41-e180-4985-9840-a2c29e418824",
   "metadata": {},
   "outputs": [
    {
     "ename": "AssertionError",
     "evalue": "Given input is False",
     "output_type": "error",
     "traceback": [
      "\u001b[1;31m---------------------------------------------------------------------------\u001b[0m",
      "\u001b[1;31mAssertionError\u001b[0m                            Traceback (most recent call last)",
      "\u001b[1;32m<ipython-input-9-ee25392d715a>\u001b[0m in \u001b[0;36m<module>\u001b[1;34m\u001b[0m\n\u001b[1;32m----> 1\u001b[1;33m \u001b[1;32massert\u001b[0m\u001b[1;33m(\u001b[0m\u001b[1;32mFalse\u001b[0m\u001b[1;33m)\u001b[0m\u001b[1;33m,\u001b[0m \u001b[1;34m\"Given input is False\"\u001b[0m\u001b[1;33m\u001b[0m\u001b[1;33m\u001b[0m\u001b[0m\n\u001b[0m",
      "\u001b[1;31mAssertionError\u001b[0m: Given input is False"
     ]
    }
   ],
   "source": [
    "assert(False), \"Given input is False\""
   ]
  },
  {
   "cell_type": "markdown",
   "id": "f1a63b48-6605-4405-9c7c-623f9b227fb3",
   "metadata": {},
   "source": [
    "Q5. Why do you no longer use string-based exceptions?\n",
    "\n",
    "Plain exceptions catch all exceptions and not only system execptions, but String-based exceptions do not inherit from Exceptions, that is why we don't use string based exceptions now"
   ]
  },
  {
   "cell_type": "code",
   "execution_count": null,
   "id": "e0e268a5-dfb1-4df3-8f16-f1dbb9858d74",
   "metadata": {},
   "outputs": [],
   "source": []
  }
 ],
 "metadata": {
  "kernelspec": {
   "display_name": "Python 3",
   "language": "python",
   "name": "python3"
  },
  "language_info": {
   "codemirror_mode": {
    "name": "ipython",
    "version": 3
   },
   "file_extension": ".py",
   "mimetype": "text/x-python",
   "name": "python",
   "nbconvert_exporter": "python",
   "pygments_lexer": "ipython3",
   "version": "3.8.8"
  }
 },
 "nbformat": 4,
 "nbformat_minor": 5
}
