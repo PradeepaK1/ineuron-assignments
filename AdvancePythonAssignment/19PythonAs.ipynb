{
 "cells": [
  {
   "cell_type": "markdown",
   "id": "5eaae5a9-2f4c-475a-a48b-26b13d18b8c1",
   "metadata": {},
   "source": [
    "Q1. Define the relationship between a class and its instances. Is it a one-to-one or a one-to-many partnership, for example?\n",
    "\n",
    "All instances of the subclass are instances of the super class and the superclass may have other instances, so A class is a subset of parent class if and only if all instances are also \n",
    "\n",
    "Instance is object belonging to the class\n",
    "\n",
    "The relationship between class and instance follows one-to-many partnership\n",
    "\n",
    "Example,"
   ]
  },
  {
   "cell_type": "code",
   "execution_count": 9,
   "id": "36868fd1-c285-45da-b6e7-c09937ba9970",
   "metadata": {},
   "outputs": [
    {
     "name": "stdout",
     "output_type": "stream",
     "text": [
      "Name :  Kpd\n"
     ]
    }
   ],
   "source": [
    "class Employee:\n",
    "    def __init__(self, name):\n",
    "        self.name = name\n",
    "    def displayEmployee(self):\n",
    "        print (\"Name : \", self.name)\n",
    "emp1 = Employee(\"Kpd\")\n",
    "emp1.displayEmployee()"
   ]
  },
  {
   "cell_type": "markdown",
   "id": "d2e5fda2-ee47-44e1-b086-e10d1bc82923",
   "metadata": {},
   "source": [
    "Q2. What kind of data is held only in an instance?\n",
    "\n",
    "Data held is the instance variables created at that point of time to that specific instance object is contained by the instance objects"
   ]
  },
  {
   "cell_type": "markdown",
   "id": "33925b53-d1fd-433a-8229-5eb848009ada",
   "metadata": {},
   "source": [
    "Q3. What kind of knowledge is stored in a class?\n",
    "\n",
    "The class's data members and member functions is the knowledge stored by a class, the class has a custom data structure by the user which acts like a blu print for an object\n",
    "\n",
    "These methods of a class can be used to access the instance variables  of the instance"
   ]
  },
  {
   "cell_type": "markdown",
   "id": "0c81cb69-754b-48e7-b400-9e1413bb4a58",
   "metadata": {},
   "source": [
    "Q4. What exactly is a method, and how is it different from a regular function?\n",
    "\n",
    "The main difference between a function and a method is that, functions just do a specific task when called, they don't access the attributes of an instance of a class and even can't modify the state of the object "
   ]
  },
  {
   "cell_type": "markdown",
   "id": "f1a31d0c-a2d8-488f-8621-6ea4ee9219e9",
   "metadata": {},
   "source": [
    "Q5. Is inheritance supported in Python, and if so, what is the syntax?\n",
    "\n",
    "Yes, inheritance is supported in Python\n",
    "\n",
    "Syntax:"
   ]
  },
  {
   "cell_type": "code",
   "execution_count": 10,
   "id": "a7fb0091-9eec-43bc-9b5f-3035a2eb990a",
   "metadata": {},
   "outputs": [],
   "source": [
    "class A:\n",
    "    def __init__(self, varA):\n",
    "        self.varA=varA\n",
    "class B(A):\n",
    "    pass"
   ]
  },
  {
   "cell_type": "markdown",
   "id": "795f80f4-5acc-470d-b19c-1f82af971b83",
   "metadata": {},
   "source": [
    "Q6. How much encapsulation (making instance or class variables private) does Python support?\n",
    "\n",
    "In python the encapsulation offered is to wrap data and the methods that manipulate the data into a single capsule\n",
    "\n",
    "So Python restricts accessing variables and methods directly and can prevent editing of data by chance and only lets object varaibles change object methods"
   ]
  },
  {
   "cell_type": "markdown",
   "id": "f38e2a76-470a-43b4-9669-167f46552059",
   "metadata": {},
   "source": [
    "Q7. How do you distinguish between a class variable and an instance variable?\n",
    "\n",
    "Class Variable:\n",
    "\n",
    "Class variable is maintained by Python Virtual Machine at the class level\n",
    "\n",
    "Class variable is available to all the instance objects of that class\n",
    "\n",
    "Instance Variable:\n",
    "\n",
    "Instance variables are accessible only by the object or the instances of that class\n",
    "\n",
    "Different copies of instance variables are maintained at object or instance level"
   ]
  },
  {
   "cell_type": "markdown",
   "id": "9afe3496-3eb3-4378-ba5a-10c623782a90",
   "metadata": {},
   "source": [
    "Q8. When, if ever, can self be included in a class's method definitions?\n",
    "\n",
    "Self is included in a class's method definition when to access the instance variables of the class methods"
   ]
  },
  {
   "cell_type": "markdown",
   "id": "8229bb36-88cc-4cf0-bfcf-791e6a39d4ab",
   "metadata": {},
   "source": [
    "Q9. What is the difference between the _ _add_ _ and the _ _radd_ _ methods?\n",
    "\n",
    "_ _radd_ _() method will first do _ _add_ _() method and if it return Not Implemented, then python will check if the righthand operand implements _ _radd_ _() and if it does, then it will call _ _radd_ _() instead of raising a TypeError"
   ]
  },
  {
   "cell_type": "markdown",
   "id": "6a1e86e0-6bfa-45d2-8982-64d58725dfa8",
   "metadata": {},
   "source": [
    "Q10. When is it necessary to use a reflection method? When do you not need it, even though you support the operation in question?\n",
    "\n",
    "When we see a need for a method in the executing object or a variable in the calling object, the object should be assigned, while the method name or field name can not be determined when encoding the code, and need to be input in the form of passing string through parameters, in such cases Reflection method can be used"
   ]
  },
  {
   "cell_type": "markdown",
   "id": "f2c9ac7f-947a-4080-bfa6-2fd5421822f5",
   "metadata": {},
   "source": [
    "Q11. What is the _ _iadd_ _ method called?\n",
    "\n",
    "_ _iadd_ _ is more like an incremental operator but it increments with other variable given a, and b it adds b to a like, a+=b\n",
    "\n",
    "Example,"
   ]
  },
  {
   "cell_type": "code",
   "execution_count": 11,
   "id": "801b16c1-83a9-4596-a3d0-6ef9eead63e7",
   "metadata": {},
   "outputs": [
    {
     "name": "stdout",
     "output_type": "stream",
     "text": [
      "3\n"
     ]
    }
   ],
   "source": [
    "import operator\n",
    "print(operator.iadd(1,2))"
   ]
  },
  {
   "cell_type": "markdown",
   "id": "9ca74e81-4d04-4d39-ae98-fed90b0286ce",
   "metadata": {},
   "source": [
    "Q12. Is the _ _init_ _ method inherited by subclasses? What do you do if you need to customize its behavior within a subclass?\n",
    "\n",
    "Yes the _ _ init _ _ method is inherited by subclasses, to customize its behavioro within a subclass we can use super() method"
   ]
  },
  {
   "cell_type": "code",
   "execution_count": null,
   "id": "5bd66bd5-579b-403f-85c6-031c9a7beee7",
   "metadata": {},
   "outputs": [],
   "source": []
  },
  {
   "cell_type": "code",
   "execution_count": null,
   "id": "6350ee2b-d05e-4788-be7e-302c270cee3a",
   "metadata": {},
   "outputs": [],
   "source": []
  }
 ],
 "metadata": {
  "kernelspec": {
   "display_name": "Python 3",
   "language": "python",
   "name": "python3"
  },
  "language_info": {
   "codemirror_mode": {
    "name": "ipython",
    "version": 3
   },
   "file_extension": ".py",
   "mimetype": "text/x-python",
   "name": "python",
   "nbconvert_exporter": "python",
   "pygments_lexer": "ipython3",
   "version": "3.8.8"
  }
 },
 "nbformat": 4,
 "nbformat_minor": 5
}
