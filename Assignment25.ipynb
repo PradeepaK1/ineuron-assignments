{
 "cells": [
  {
   "cell_type": "markdown",
   "id": "8d3ebb0f-548a-4158-9757-50a8fbeaf120",
   "metadata": {},
   "source": [
    "1.What is the difference between enclosing a list comprehension in square brackets and parentheses?"
   ]
  },
  {
   "cell_type": "markdown",
   "id": "80e5878a-8ce8-4e1b-ba0a-fb89071d4b97",
   "metadata": {},
   "source": [
    "The difference between enclosing a list comprehension is square brackets and parentheses is,\n",
    "\n",
    "Enclosing in square brackets produces a list - []\n",
    "\n",
    "Enclosing in parentheses creates a generator"
   ]
  },
  {
   "cell_type": "code",
   "execution_count": 5,
   "id": "ee2f3439-b1b5-4bd5-91b0-6e305c9a4423",
   "metadata": {},
   "outputs": [
    {
     "name": "stdout",
     "output_type": "stream",
     "text": [
      "[0, 1, 2, 3, 4]   <class 'list'>\n",
      "<generator object <genexpr> at 0x000001DF5D4E8DD0>   <class 'generator'>\n"
     ]
    }
   ],
   "source": [
    "l1=[i for i in range(5)]\n",
    "l2=(i for i in range (5))\n",
    "print(l1,\" \",type(l1))\n",
    "print(l2,\" \", type(l2))"
   ]
  },
  {
   "cell_type": "markdown",
   "id": "e5f3e51c-8f12-46e1-927f-c6c53c7d451e",
   "metadata": {},
   "source": [
    "2.What is the relationship between generators and iterators?"
   ]
  },
  {
   "cell_type": "markdown",
   "id": "97115dfc-a444-4680-be7a-33c7a813288d",
   "metadata": {},
   "source": [
    "Generators:\n",
    "    \n",
    "    Generators are implemented using functions\n",
    "    \n",
    "    yield keyword is used\n",
    "    \n",
    "    Creates more clear and short code\n",
    "    \n",
    "    The local variables are stored before yield\n",
    "\n",
    "Iterators:\n",
    "    \n",
    "    Iterators are implemented using class\n",
    "    \n",
    "    Used to iterate over tuples, list, sets etc\n",
    "    \n",
    "    No local variables are used, Requires one memory location, so space is reduced \n",
    "    \n",
    "    iter(), next() keywords are used"
   ]
  },
  {
   "cell_type": "code",
   "execution_count": 7,
   "id": "c6b46d4b-d53f-4998-8bd0-0ec38a7f576e",
   "metadata": {},
   "outputs": [
    {
     "name": "stdout",
     "output_type": "stream",
     "text": [
      "Iterator -  1   1   2\n",
      "Generator -  1   4   9\n"
     ]
    }
   ],
   "source": [
    "l1=iter([1,2,3])\n",
    "print(\"Iterator - \",next(l1),\" \",next(l2),\" \",next(l1))\n",
    "def gener(n):\n",
    "    for i in range(1,n):\n",
    "        yield i*i\n",
    "i=gener(4)\n",
    "print(\"Generator - \",next(i),\" \",next(i),\" \",next(i))"
   ]
  },
  {
   "cell_type": "markdown",
   "id": "7538f143-7b64-4b63-abf6-27ce22a511b8",
   "metadata": {},
   "source": [
    "3.What are the signs that a function is a generator function?"
   ]
  },
  {
   "cell_type": "markdown",
   "id": "081b4041-4c20-4b00-befa-939ed8ce67ce",
   "metadata": {},
   "source": [
    "If yield keyword is used in a function to return a value then it can be categorized as generator function\n",
    "\n",
    "Example,"
   ]
  },
  {
   "cell_type": "code",
   "execution_count": 8,
   "id": "97722406-f7b4-4db6-9ab1-fa83d0777877",
   "metadata": {},
   "outputs": [
    {
     "name": "stdout",
     "output_type": "stream",
     "text": [
      "Generator -  1   4   9\n"
     ]
    }
   ],
   "source": [
    "def gener(n):\n",
    "    for i in range(1,n):\n",
    "        yield i*i\n",
    "i=gener(4)\n",
    "print(\"Generator - \",next(i),\" \",next(i),\" \",next(i))"
   ]
  },
  {
   "cell_type": "markdown",
   "id": "83437c70-ec65-45a5-b07d-668853d9e42f",
   "metadata": {},
   "source": [
    "4.What is the purpose of a yield statement?"
   ]
  },
  {
   "cell_type": "markdown",
   "id": "a4ad1400-488b-4d93-9441-53e3766f1783",
   "metadata": {},
   "source": [
    "yield statement is used in generator functions where instead of return its used\n",
    "\n",
    "The main purpose is return keyword terminates the function but yield keyword loops the function till the next() is called with in the given range for the generator"
   ]
  },
  {
   "cell_type": "markdown",
   "id": "a583906e-3ff5-41c0-9724-c1cdc81a7077",
   "metadata": {},
   "source": [
    "5.What is the relationship between map calls and list comprehensions? Make a comparison and contrast between the two."
   ]
  },
  {
   "cell_type": "markdown",
   "id": "2177c8da-fb08-4b9c-a892-e3c1deaf7da6",
   "metadata": {},
   "source": [
    "Map:\n",
    "    \n",
    "    map() function creates a map object, an iterator after being used\n",
    "    \n",
    "    It is generally used on  iterable like list or tuple etc\n",
    "    \n",
    "List comprehension:\n",
    "    \n",
    "    list comprehension allows us to create a list with in a given list\n",
    "    \n",
    "    Filtering is easy is list comprehension among the elements"
   ]
  },
  {
   "cell_type": "code",
   "execution_count": 9,
   "id": "bb943c7a-2e58-486d-a8e8-704de192767b",
   "metadata": {},
   "outputs": [
    {
     "name": "stdout",
     "output_type": "stream",
     "text": [
      "Map -  <map object at 0x000001DF5D45CC70>   <class 'map'>\n",
      "List Comprehension -  [1, 4, 9]   <class 'list'>\n"
     ]
    }
   ],
   "source": [
    "l=[1,2,3]\n",
    "def mapfun(n):\n",
    "    return n*n\n",
    "mapv=map(mapfun,l)\n",
    "print(\"Map - \",mapv,\" \",type(mapv))\n",
    "listc=[i*i for i in l]\n",
    "print(\"List Comprehension - \",listc,\" \",type(listc))"
   ]
  },
  {
   "cell_type": "code",
   "execution_count": null,
   "id": "53519d15-67c6-4950-a456-0a3b0153a6a3",
   "metadata": {},
   "outputs": [],
   "source": []
  }
 ],
 "metadata": {
  "kernelspec": {
   "display_name": "Python 3",
   "language": "python",
   "name": "python3"
  },
  "language_info": {
   "codemirror_mode": {
    "name": "ipython",
    "version": 3
   },
   "file_extension": ".py",
   "mimetype": "text/x-python",
   "name": "python",
   "nbconvert_exporter": "python",
   "pygments_lexer": "ipython3",
   "version": "3.8.8"
  }
 },
 "nbformat": 4,
 "nbformat_minor": 5
}
