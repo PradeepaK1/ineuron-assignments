{
 "cells": [
  {
   "cell_type": "markdown",
   "id": "b7382ddb-d48f-42f6-8d07-1cbdc6354b94",
   "metadata": {},
   "source": [
    "1.In what modes should the PdfFileReader() and PdfFileWriter() File objects will be opened?"
   ]
  },
  {
   "cell_type": "markdown",
   "id": "c173d588-4b39-49ec-a42b-7a7a195dfb8f",
   "metadata": {},
   "source": [
    "PdfFileReader() should be opened in 'rb' form which means Read Binary\n",
    "\n",
    "PdfFileWriter() should be opened in 'wb' form which means Write Binary"
   ]
  },
  {
   "cell_type": "code",
   "execution_count": 4,
   "id": "fc5d49aa-2b2e-41dc-a358-2859763cc4a3",
   "metadata": {},
   "outputs": [],
   "source": [
    "import PyPDF2\n",
    "pdfread = open('PRADEEPA K - RESUME.pdf', 'rb')\n",
    "pdfReader = PyPDF2.PdfFileReader(pdfread)\n",
    "pdfWriter = PyPDF2.PdfFileWriter()\n",
    "new=open('PRADEEPA K - RESUME.pdf','wb')\n",
    "pdfWriter.write(new)"
   ]
  },
  {
   "cell_type": "markdown",
   "id": "0a09b78c-dd9a-4a2d-80d3-327a065b8945",
   "metadata": {},
   "source": [
    "2.From a PdfFileReader object, how do you get a Page object for page 5?"
   ]
  },
  {
   "cell_type": "markdown",
   "id": "6ccf5e89-6b3c-4615-80fd-08c304295d9a",
   "metadata": {},
   "source": [
    "PdfFileReader also follows similar indexing like in list 0,1,2..\n",
    "\n",
    "So here if we want to get page object for page 5, then getPage(4) should be called as page 0 will be the first index\n",
    "\n",
    "Syntax:  pageObj = pdfReader.getPage(4)"
   ]
  },
  {
   "cell_type": "markdown",
   "id": "c6c22118-e04e-4c6c-909e-b601e8e6a808",
   "metadata": {},
   "source": [
    "3.What PdfFileReader variable stores the number of pages in the PDF document?"
   ]
  },
  {
   "cell_type": "code",
   "execution_count": null,
   "id": "ac723765-cdfb-44e7-a520-3cd08e138a93",
   "metadata": {},
   "outputs": [],
   "source": [
    "The variable numPages can be used to store the number of pages in the PDF document"
   ]
  },
  {
   "cell_type": "code",
   "execution_count": 10,
   "id": "4df5cad6-6bb9-47b2-859b-93aa617f8fd5",
   "metadata": {},
   "outputs": [
    {
     "data": {
      "text/plain": [
       "2"
      ]
     },
     "execution_count": 10,
     "metadata": {},
     "output_type": "execute_result"
    }
   ],
   "source": [
    "pdfread = open('PRADEEPA K.pdf', 'rb')\n",
    "pdfReader = PyPDF2.PdfFileReader(pdfread)\n",
    "pdfReader.numPages"
   ]
  },
  {
   "cell_type": "markdown",
   "id": "2857e934-1412-473e-8728-92f6a85086f6",
   "metadata": {},
   "source": [
    "4.If a PdfFileReader object’s PDF is encrypted with the password swordfish, what must you do before you can obtain Page objects from it?"
   ]
  },
  {
   "cell_type": "markdown",
   "id": "3abded5d-179f-4b0f-8cf7-72d1f767c065",
   "metadata": {},
   "source": [
    "If a PdfFileReader object’s PDF is encrypted with the password swordfish, we can call decrypt method \n",
    "\n",
    "Syntax:\n",
    "\n",
    "    f=PdfFileReader('PRADEEPA K.pdf')\n",
    "    \n",
    "    f.decrypt('swordfish')"
   ]
  },
  {
   "cell_type": "markdown",
   "id": "6a4dda65-e375-45c6-b3e8-94988cd956c0",
   "metadata": {},
   "source": [
    "5.What methods do you use to rotate a page?"
   ]
  },
  {
   "cell_type": "markdown",
   "id": "d884e12a-abb7-4e2a-97bb-f7a64e6e8585",
   "metadata": {},
   "source": [
    "We can use rotateClockwise() method to rotate a page"
   ]
  },
  {
   "cell_type": "code",
   "execution_count": 11,
   "id": "0c668d52-6861-44b5-8c47-fe037e026021",
   "metadata": {},
   "outputs": [],
   "source": [
    "pdfread = open('PRADEEPA K.pdf', 'rb')\n",
    "pdfReader = PyPDF2.PdfFileReader(pdfread)\n",
    "for page in range(pdfReader.numPages):\n",
    "    pageObj = pdfReader.getPage(page)\n",
    "    pageObj.rotateClockwise(270)"
   ]
  },
  {
   "cell_type": "markdown",
   "id": "c06f5e8d-ec83-4fc2-8017-aec8bb0878a1",
   "metadata": {},
   "source": [
    "6.What is the difference between a Run object and a Paragraph object?"
   ]
  },
  {
   "cell_type": "markdown",
   "id": "7f44a8a1-7485-429b-a5c2-c6cb6c1668f8",
   "metadata": {},
   "source": [
    "In a document creating object for each paragraph is done by paragraph object, this can be done by monitoring the line breaks and tabs '\\n','\\t'\n",
    "\n",
    "Whereas run object can be fitted into each paragragh itself which will fetch groups of characters inside the paragrapg itself"
   ]
  },
  {
   "cell_type": "markdown",
   "id": "ad855003-194f-4929-855e-b6d41b2611fa",
   "metadata": {},
   "source": [
    "7.How do you obtain a list of Paragraph objects for a Document object that’s stored in a variable named doc?"
   ]
  },
  {
   "cell_type": "markdown",
   "id": "36d3ae82-f05a-4281-80f2-97ed5e39f4c3",
   "metadata": {},
   "source": [
    "By calling doc.paragraphs we can obtain a list of Paragraph object for a Document object"
   ]
  },
  {
   "cell_type": "code",
   "execution_count": 20,
   "id": "90858fe0-312b-4f8b-b390-f86cf91e5e41",
   "metadata": {},
   "outputs": [
    {
     "name": "stdout",
     "output_type": "stream",
     "text": [
      "[<docx.text.paragraph.Paragraph object at 0x00000158389D4EE0>, <docx.text.paragraph.Paragraph object at 0x00000158389D4E50>, <docx.text.paragraph.Paragraph object at 0x00000158389D4EB0>]\n"
     ]
    }
   ],
   "source": [
    "from docx import Document\n",
    "doc = Document('Github Copilot helped in debugging like a autopilot in aircraft.docx')\n",
    "print(doc.paragraphs)"
   ]
  },
  {
   "cell_type": "markdown",
   "id": "4ba2afac-bf3e-4f32-8f2a-ec8a6ffa6858",
   "metadata": {},
   "source": [
    "8.What type of object has bold, underline, italic, strike, and outline variables?"
   ]
  },
  {
   "cell_type": "markdown",
   "id": "461f6865-9f1b-41ee-8314-91c0f0e5db26",
   "metadata": {},
   "source": [
    "Run's font object has bold, underline, italic, strike, and outline variables\n",
    "\n",
    "Syntax:\n",
    "\n",
    "    doc=Document()\n",
    "    \n",
    "    run=doc.add_paragraph().add_run()\n",
    "    \n",
    "    font=run.font\n",
    "    \n",
    "    font.italic\n",
    "    \n",
    "    font.strike"
   ]
  },
  {
   "cell_type": "markdown",
   "id": "bc3ed3fc-c43f-4ac3-b499-6b439975b7ba",
   "metadata": {},
   "source": [
    "9.What is the difference between False, True, and None for the bold variable?"
   ]
  },
  {
   "cell_type": "markdown",
   "id": "4c4be21c-4376-4b2c-8628-0b4de6939089",
   "metadata": {},
   "source": [
    "True will make the text bolded\n",
    "\n",
    "False will make the text not bolded\n",
    "\n",
    "None will make the run object use the style's bold setting, existing style itself"
   ]
  },
  {
   "cell_type": "code",
   "execution_count": null,
   "id": "621a7de1-84dc-40f5-a384-d0224d84ba04",
   "metadata": {},
   "outputs": [],
   "source": [
    "10. How do you create a Document object for a new Word document?"
   ]
  },
  {
   "cell_type": "code",
   "execution_count": null,
   "id": "e4f9ea8f-5f63-4277-b5ac-7ff8be9d1d2b",
   "metadata": {},
   "outputs": [],
   "source": [
    "We can create a document object like"
   ]
  },
  {
   "cell_type": "code",
   "execution_count": 26,
   "id": "5b7f3ad6-fb1f-497b-a953-bc2608e474bc",
   "metadata": {},
   "outputs": [],
   "source": [
    "import docx \n",
    "dobj=docx.Document()"
   ]
  },
  {
   "cell_type": "code",
   "execution_count": null,
   "id": "fff301a9-dac4-4d7f-959e-cc299a06d0d6",
   "metadata": {},
   "outputs": [],
   "source": [
    "11. How do you add a paragraph with the text 'Hello, there!' to a Document object stored in a variable named doc?"
   ]
  },
  {
   "cell_type": "code",
   "execution_count": 21,
   "id": "8a5324a4-0394-4c0b-badb-db0111a6dfce",
   "metadata": {},
   "outputs": [
    {
     "data": {
      "text/plain": [
       "<docx.text.paragraph.Paragraph at 0x158387ee310>"
      ]
     },
     "execution_count": 21,
     "metadata": {},
     "output_type": "execute_result"
    }
   ],
   "source": [
    "doc.add_paragraph('Hello, there!')"
   ]
  },
  {
   "cell_type": "code",
   "execution_count": null,
   "id": "891ad9b3-6891-4e70-a639-e801749f7674",
   "metadata": {},
   "outputs": [],
   "source": [
    "12. What integers represent the levels of headings available in Word documents?"
   ]
  },
  {
   "cell_type": "code",
   "execution_count": null,
   "id": "a7bb28a9-ae71-46f4-8a3c-4502820c07ad",
   "metadata": {},
   "outputs": [],
   "source": [
    "Integers 0,1,2,3,4 represents levels of headings available in Word Document"
   ]
  },
  {
   "cell_type": "code",
   "execution_count": 25,
   "id": "e6bcb013-0ee3-40c6-94f7-f69e70ab71e7",
   "metadata": {},
   "outputs": [
    {
     "data": {
      "text/plain": [
       "<docx.text.paragraph.Paragraph at 0x15838a180a0>"
      ]
     },
     "execution_count": 25,
     "metadata": {},
     "output_type": "execute_result"
    }
   ],
   "source": [
    "import docx\n",
    "doc = docx.Document()\n",
    "doc.add_heading('Heading 4', 4)"
   ]
  },
  {
   "cell_type": "code",
   "execution_count": null,
   "id": "33f9ff35-d865-4fa0-bd0d-d31dc78fadba",
   "metadata": {},
   "outputs": [],
   "source": []
  }
 ],
 "metadata": {
  "kernelspec": {
   "display_name": "Python 3",
   "language": "python",
   "name": "python3"
  },
  "language_info": {
   "codemirror_mode": {
    "name": "ipython",
    "version": 3
   },
   "file_extension": ".py",
   "mimetype": "text/x-python",
   "name": "python",
   "nbconvert_exporter": "python",
   "pygments_lexer": "ipython3",
   "version": "3.8.8"
  }
 },
 "nbformat": 4,
 "nbformat_minor": 5
}
