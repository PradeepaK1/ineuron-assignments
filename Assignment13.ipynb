{
 "cells": [
  {
   "cell_type": "markdown",
   "id": "03a06734-6acd-4213-877b-1e0741493c67",
   "metadata": {},
   "source": [
    "1.What advantages do Excel spreadsheets have over CSV spreadsheets?"
   ]
  },
  {
   "cell_type": "markdown",
   "id": "eabf95bd-394f-490d-93ac-188c97f0f385",
   "metadata": {},
   "source": [
    "Some of the advantages of Excel over CSV are:\n",
    "    \n",
    "    1. Excel has worksheets, workbook segregation whereas CSV is a text format with a series of values seperated by commas\n",
    "    \n",
    "    2. In Excel data can be both stored and operations can also be done, in CSV data does not contain any formatting, formulas, or macros\n",
    "    \n",
    "    3. For data warehousing, for Detailed standardized schema specification Excel is preferred over CSV\n",
    "    \n",
    "    4. Additional functions like import, date conversion, formulas, filters, sorting all are available in Excel than in CSV\n",
    "    \n",
    "    5. Data can be stored in the form of charts and graphs in Excel than in CSV\n"
   ]
  },
  {
   "cell_type": "markdown",
   "id": "928e53d3-affe-46b4-bb2b-056721948943",
   "metadata": {},
   "source": [
    "2.What do you pass to csv.reader() and csv.writer() to create reader and writer objects?"
   ]
  },
  {
   "cell_type": "markdown",
   "id": "17e107a1-bd90-4e31-b8ad-a9f1556f39e6",
   "metadata": {},
   "source": [
    "There is a mandatory parameter and two optional parameters to pass to csv.reader() and csv.writer to create respective objects\n",
    "\n",
    "Syntax:\n",
    "    \n",
    "    csv.reader(csvfile, dialect='excel', **fmtparams)\n",
    "    \n",
    "    csv.writer(csvfile, dialect='excel', **fmtparams)\n",
    "    \n",
    "Where,\n",
    "\n",
    "csvfile: An object that supports the iterator protocol, which in this case is usually a file object for the CSV file\n",
    "\n",
    "dialect (optional): Dialect takes many attributes like Dialect.delimiter is used as the separating character between fields. The default value is a comma (,), Dialect.quotechar is used to quote fields containing special characters. The default is the double-quote (\"), Dialect.lineterminator is used to create newlines. The default is '\\r\\n'.\n",
    "\n",
    "fmtparams (optional): Formatting parameters that will overwrite those specified in the dialect"
   ]
  },
  {
   "cell_type": "markdown",
   "id": "27b7cb53-559e-4f0f-a5f2-a0a82aee47b9",
   "metadata": {},
   "source": [
    "3.What modes do File objects for reader and writer objects need to be opened in?"
   ]
  },
  {
   "cell_type": "markdown",
   "id": "657b4fe0-90ea-49cb-b514-4a4d34d95f6d",
   "metadata": {},
   "source": [
    "There are 5 modes in which CSV file can be opened\n",
    "\n",
    "'r' - Read mode \n",
    "\n",
    "'w' - Write Mode\n",
    "\n",
    "'a' - Append Mode\n",
    "\n",
    "'r+'- Read and Write\n",
    "\n",
    "'x' - Create mode to create a new file"
   ]
  },
  {
   "cell_type": "markdown",
   "id": "4f881678-c371-4e00-962b-7c4455338201",
   "metadata": {},
   "source": [
    "4.What method takes a list argument and writes it to a CSV file?"
   ]
  },
  {
   "cell_type": "markdown",
   "id": "66789837-b13d-4e31-abbb-9811fea07820",
   "metadata": {},
   "source": [
    "writewrow() method can take a list argument and write it to a CSV"
   ]
  },
  {
   "cell_type": "code",
   "execution_count": 9,
   "id": "6fcf9441-c409-4079-b7b0-d3b788435e26",
   "metadata": {},
   "outputs": [],
   "source": [
    "import csv\n",
    "with open('sample.csv', 'w', newline='') as file:\n",
    "    writer=csv.writer(file)\n",
    "    writer.writerow(['1','Pradeepa','K'])"
   ]
  },
  {
   "cell_type": "markdown",
   "id": "75b8a02f-0c63-4e74-afa0-de926a8ccacc",
   "metadata": {},
   "source": [
    "5.What do the keyword arguments delimiter and line terminator do?"
   ]
  },
  {
   "cell_type": "markdown",
   "id": "63b302fd-9ac5-4398-8504-35227342a3a6",
   "metadata": {},
   "source": [
    "delimiter is the use of tab '\\t' where it inserts a tab space between cell contents\n",
    "\n",
    "line terminatir is use of newline '\\n' where it inserts a new line between cell rows\n",
    "\n",
    "Syntax:\n",
    "\n",
    "    csvWriter = csv.writer(csvFile, delimiter='\\t', lineterminator='\\n\\n')"
   ]
  },
  {
   "cell_type": "markdown",
   "id": "e9c1e334-62fe-49ec-8a58-582afa88cfab",
   "metadata": {},
   "source": [
    "6.What function takes a string of JSON data and returns a Python data structure?"
   ]
  },
  {
   "cell_type": "markdown",
   "id": "f4200a4d-301b-48fe-a29d-f7f3c60c5f6f",
   "metadata": {},
   "source": [
    "loads() function takes a string of JSON data and returns a Python data structure\n",
    "\n",
    "For example:"
   ]
  },
  {
   "cell_type": "code",
   "execution_count": 3,
   "id": "f52f40d1-938f-4fa0-bfd3-eea4b0aa1cea",
   "metadata": {},
   "outputs": [
    {
     "name": "stdout",
     "output_type": "stream",
     "text": [
      "Type:  <class 'str'>\n",
      "{'a': {'name': 'pradeepa', 'last name': 'k'}}\n",
      "Type:  <class 'dict'>\n"
     ]
    }
   ],
   "source": [
    "import json\n",
    "d = '{  \"a\":  { \"name\":  \"pradeepa\",  \"last name\":  \"k\"}}'\n",
    "print(\"Type: \",type(d))\n",
    "dd = json.loads(d)\n",
    "print(dd)\n",
    "print(\"Type: \", type(dd))"
   ]
  },
  {
   "cell_type": "markdown",
   "id": "8b9618dc-cf40-4e2f-95fc-0c00a865c35c",
   "metadata": {},
   "source": [
    "7.What function takes a Python data structure and returns a string of JSON data?"
   ]
  },
  {
   "cell_type": "markdown",
   "id": "1eb13639-661e-4987-982b-b8f94fb5e54e",
   "metadata": {},
   "source": [
    "dumps() function can be used to convert python data structure to a string of JSON data\n",
    "\n",
    "For example:"
   ]
  },
  {
   "cell_type": "code",
   "execution_count": 8,
   "id": "230aa182-21ce-4c5f-acab-6ae0919ae1b8",
   "metadata": {},
   "outputs": [
    {
     "name": "stdout",
     "output_type": "stream",
     "text": [
      "{\"name\": \"pradeepa\", \"last name\": \"k\"}\n"
     ]
    }
   ],
   "source": [
    "x = {\n",
    "  \"name\": \"pradeepa\",\n",
    "  \"last name\" : \"k\"\n",
    "}\n",
    "s = json.dumps(x)\n",
    "print(s)"
   ]
  },
  {
   "cell_type": "code",
   "execution_count": null,
   "id": "00685d34-6bf7-465b-b183-bbfa37353101",
   "metadata": {},
   "outputs": [],
   "source": []
  }
 ],
 "metadata": {
  "kernelspec": {
   "display_name": "Python 3",
   "language": "python",
   "name": "python3"
  },
  "language_info": {
   "codemirror_mode": {
    "name": "ipython",
    "version": 3
   },
   "file_extension": ".py",
   "mimetype": "text/x-python",
   "name": "python",
   "nbconvert_exporter": "python",
   "pygments_lexer": "ipython3",
   "version": "3.8.8"
  }
 },
 "nbformat": 4,
 "nbformat_minor": 5
}
