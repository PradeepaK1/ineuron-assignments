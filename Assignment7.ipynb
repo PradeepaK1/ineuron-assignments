{
 "cells": [
  {
   "cell_type": "markdown",
   "id": "ed5ae556-a3f5-4fa2-8125-3d0c6bc8840f",
   "metadata": {},
   "source": [
    "1.What is the name of the feature responsible for generating Regex objects?\n",
    "\n",
    "Regex objects are created into objects with the use of re.compile methods, this is primarily used to play with string such as finding string pattern or substituition of strings\n",
    "\n",
    "Like Example"
   ]
  },
  {
   "cell_type": "code",
   "execution_count": 34,
   "id": "8f4e3d93-0bdd-4067-aa55-a5169b88912d",
   "metadata": {},
   "outputs": [
    {
     "name": "stdout",
     "output_type": "stream",
     "text": [
      "['Hi', 'this', 'is', '7', 'th', 'assignment']\n"
     ]
    }
   ],
   "source": [
    "import re\n",
    "#To find alphanumeric chars\n",
    "f=re.compile('\\w+')\n",
    "print(f.findall(\"Hi this is 7 * th assignment\"))"
   ]
  },
  {
   "cell_type": "code",
   "execution_count": null,
   "id": "b06aae2a-974a-47ff-a4d5-39a15095bf2e",
   "metadata": {},
   "outputs": [],
   "source": []
  },
  {
   "cell_type": "markdown",
   "id": "fa9f365d-9955-4104-8e20-74fc4f4c4a95",
   "metadata": {},
   "source": [
    "2.Why do raw strings often appear in Regex objects?\n",
    "\n",
    "Raw string is used to capture backslashes in strings like to distinguish simple slash and slash used for an operation like '\\n', '\\t'\n",
    "\n",
    "For example"
   ]
  },
  {
   "cell_type": "code",
   "execution_count": 35,
   "id": "a9bd4c83-bcd2-4d32-a84f-d59cf80e7f15",
   "metadata": {},
   "outputs": [],
   "source": [
    "l1 = re.compile('\\\\n')\n",
    "l2 = re.compile(r'\\n')\n"
   ]
  },
  {
   "cell_type": "code",
   "execution_count": null,
   "id": "b957948b-cc80-4fc4-8210-fa825a169211",
   "metadata": {},
   "outputs": [],
   "source": []
  },
  {
   "cell_type": "markdown",
   "id": "90610b7c-316d-4c0f-9b57-44e4fd670529",
   "metadata": {},
   "source": [
    "3.What is the return value of the search() method?\n",
    "\n",
    "The return value of search method is match objects with the span value and match assignment if value is found\n",
    "\n",
    "If match not found then None is returned\n",
    "\n",
    "Example,"
   ]
  },
  {
   "cell_type": "code",
   "execution_count": 36,
   "id": "93c7d161-897a-486b-b3da-4d8e8e543c26",
   "metadata": {},
   "outputs": [
    {
     "name": "stdout",
     "output_type": "stream",
     "text": [
      "<re.Match object; span=(18, 28), match='assignment'>\n",
      "None\n"
     ]
    }
   ],
   "source": [
    "import re\n",
    "s=\"Hi this is 7 * th assignment\"\n",
    "f=re.search('assignment',s)\n",
    "g=re.search('assgnment',s)\n",
    "print(f)\n",
    "print(g)"
   ]
  },
  {
   "cell_type": "code",
   "execution_count": null,
   "id": "aaa27e11-9e1a-48e9-a129-52850f25f4dd",
   "metadata": {},
   "outputs": [],
   "source": []
  },
  {
   "cell_type": "markdown",
   "id": "2d4afa84-243f-4902-9452-492edec053d5",
   "metadata": {},
   "source": [
    "4.From a Match item, how do you get the actual strings that match the pattern?\n",
    "\n",
    "The group method gives the actual strings that match the pattern\n",
    "\n",
    "Example"
   ]
  },
  {
   "cell_type": "code",
   "execution_count": 37,
   "id": "e6d38cad-ac29-431e-abca-c093c74eeaa8",
   "metadata": {},
   "outputs": [
    {
     "name": "stdout",
     "output_type": "stream",
     "text": [
      "Hi 4\n"
     ]
    }
   ],
   "source": [
    "import re\n",
    "regex = r\"([a-zA-Z]+) (\\d+)\"\n",
    "match = re.search(regex, \"Hi 4 hello\")\n",
    "print (match.group())\n"
   ]
  },
  {
   "cell_type": "code",
   "execution_count": null,
   "id": "e59d2d3c-3f10-4a07-b5d9-4b582e3fbe6b",
   "metadata": {},
   "outputs": [],
   "source": []
  },
  {
   "cell_type": "markdown",
   "id": "87330a37-f494-4a42-ba45-700a4c3098b4",
   "metadata": {},
   "source": [
    "5.In the regex which created from the r'(\\d\\d\\d)-(\\d\\d\\d-\\d\\d\\d\\d)', what does group zero cover? Group 2? Group 1?\n",
    "\n",
    "Group 0 matches the entire specified set\n",
    "\n",
    "Group 1 matches the first specified set\n",
    "\n",
    "Group 2 matches the second specified set\n",
    "\n",
    "Example"
   ]
  },
  {
   "cell_type": "code",
   "execution_count": 38,
   "id": "6daa7636-dbd7-4a7f-a930-40a07dc397ab",
   "metadata": {},
   "outputs": [
    {
     "name": "stdout",
     "output_type": "stream",
     "text": [
      "Hi 4\n",
      "Hi\n",
      "4\n"
     ]
    }
   ],
   "source": [
    "r= r'(\\d\\d\\d)-(\\d\\d\\d-\\d\\d\\d\\d)'\n",
    "m=re.search(r,\"Hi 4 hello\")\n",
    "print(match.group(0))\n",
    "print(match.group(1))\n",
    "print(match.group(2))"
   ]
  },
  {
   "cell_type": "code",
   "execution_count": null,
   "id": "0f608b6c-3212-404d-9b87-8e3a75808c8c",
   "metadata": {},
   "outputs": [],
   "source": []
  },
  {
   "cell_type": "markdown",
   "id": "afe5bbf1-0ff8-4bb6-9233-330e85b97330",
   "metadata": {},
   "source": [
    "6.In standard expression syntax, parentheses and intervals have distinct meanings. How can you tell a regex that you want it to fit real parentheses and periods?\n",
    "\n",
    "It can be specified with additional backslashes in prior\n",
    "\n",
    "like - \\\\,\\. etc"
   ]
  },
  {
   "cell_type": "code",
   "execution_count": null,
   "id": "aa4cd56e-0d3b-4f2b-9e3c-411a6deb757c",
   "metadata": {},
   "outputs": [],
   "source": []
  },
  {
   "cell_type": "markdown",
   "id": "1102fef9-d68d-48cf-b1c3-fcfc40c6d477",
   "metadata": {},
   "source": [
    "7.The findall() method returns a string list or a list of string tuples. What causes it to return one of the two options?\n",
    "\n",
    "If group function cannot be applied to a regex then a list is returned and if it can apply group function then tuple is returned"
   ]
  },
  {
   "cell_type": "code",
   "execution_count": null,
   "id": "c204d149-acf4-4ac6-b5a8-b86f7a81c58b",
   "metadata": {},
   "outputs": [],
   "source": []
  },
  {
   "cell_type": "markdown",
   "id": "4740a0a5-3c48-41fd-96c7-194ed0305842",
   "metadata": {},
   "source": [
    "8.In standard expressions, what does the | character mean?\n",
    "\n",
    "| - follows or operation which will evaluate to true if any of the one side is true\n",
    "\n",
    "Example"
   ]
  },
  {
   "cell_type": "code",
   "execution_count": 39,
   "id": "6cfc0462-c0f5-4ebd-9606-8da074b25955",
   "metadata": {},
   "outputs": [
    {
     "data": {
      "text/plain": [
       "True"
      ]
     },
     "execution_count": 39,
     "metadata": {},
     "output_type": "execute_result"
    }
   ],
   "source": [
    "True | False"
   ]
  },
  {
   "cell_type": "code",
   "execution_count": null,
   "id": "2d4dd269-de5c-48d3-8dff-89fca756a748",
   "metadata": {},
   "outputs": [],
   "source": []
  },
  {
   "cell_type": "markdown",
   "id": "387aa40c-fc88-4f19-b481-7fcd2bdf7755",
   "metadata": {},
   "source": [
    "9.In regular expressions, what does the character stand for?\n",
    "\n",
    "for is used to specify for loop in regular expression\n",
    "\n",
    "Example"
   ]
  },
  {
   "cell_type": "code",
   "execution_count": 40,
   "id": "b86c319e-2870-4634-9a0b-6350699cf833",
   "metadata": {},
   "outputs": [
    {
     "name": "stdout",
     "output_type": "stream",
     "text": [
      "0\n",
      "1\n",
      "2\n"
     ]
    }
   ],
   "source": [
    "for i in range(3):\n",
    "    print(i)"
   ]
  },
  {
   "cell_type": "code",
   "execution_count": null,
   "id": "a252192c-da86-4272-8b52-b5b8e09c6515",
   "metadata": {},
   "outputs": [],
   "source": []
  },
  {
   "cell_type": "markdown",
   "id": "7c6e6bc7-bbe5-4259-9c0f-9683ef9d3699",
   "metadata": {},
   "source": [
    "10.In regular expressions, what is the difference between the + and * characters?\n",
    "\n",
    "+character returns empty string or matched value on a task is given\n",
    "\n",
    "*character returns will not return am empty string will only return the matched string"
   ]
  },
  {
   "cell_type": "code",
   "execution_count": null,
   "id": "635b03b7-8d8b-4003-ad73-be5ae44aaed0",
   "metadata": {},
   "outputs": [],
   "source": []
  },
  {
   "cell_type": "markdown",
   "id": "15c09faf-ccac-42d5-881f-5d2d72e4ab37",
   "metadata": {},
   "source": [
    "11.What is the difference between {4} and {4,5} in regular expression?\n",
    "\n",
    "If an exact number is given then only that many instances are checked, here only 4 instances are checked\n",
    "\n",
    "If range like {4,5} is given then it checks for 4-5 instances"
   ]
  },
  {
   "cell_type": "code",
   "execution_count": null,
   "id": "44a9fc4b-9305-4f4b-8ef2-4b0411a937b3",
   "metadata": {},
   "outputs": [],
   "source": []
  },
  {
   "cell_type": "markdown",
   "id": "d0ed93ed-a67e-4b42-8898-b362c838ecbd",
   "metadata": {},
   "source": [
    "12.What do you mean by the \\d, \\w, and \\s shorthand character classes signify in regular expressions?\n",
    "\n",
    "To match digit we use \\d\n",
    "\n",
    "To match word we use \\w\n",
    "\n",
    "To match space we use \\s"
   ]
  },
  {
   "cell_type": "code",
   "execution_count": null,
   "id": "b2d000ee-7eb6-4290-a7c7-f4c244c98359",
   "metadata": {},
   "outputs": [],
   "source": []
  },
  {
   "cell_type": "markdown",
   "id": "56b69952-6d3a-4dde-98ce-dcb500ac374d",
   "metadata": {},
   "source": [
    "13.What do means by \\D, \\W, and \\S shorthand character classes signify in regular expressions?\n",
    "\n",
    "To exclude digit we use \\D\n",
    "\n",
    "To exclude word we use \\W\n",
    "\n",
    "To exclude space we use \\S"
   ]
  },
  {
   "cell_type": "code",
   "execution_count": null,
   "id": "80a1090e-5530-440f-90f8-058ad5dbf9b8",
   "metadata": {},
   "outputs": [],
   "source": []
  },
  {
   "cell_type": "markdown",
   "id": "36693488-e8fd-4e18-b5a0-daf06d41b2d7",
   "metadata": {},
   "source": [
    "14.What is the difference between .*? and .*?\n",
    "\n",
    ".* gives one match output\n",
    "\n",
    ".*? gives multiple match output"
   ]
  },
  {
   "cell_type": "code",
   "execution_count": null,
   "id": "8eb7d2d4-710c-4c0d-87c3-b6b57ee1782f",
   "metadata": {},
   "outputs": [],
   "source": []
  },
  {
   "cell_type": "markdown",
   "id": "80ebc7cf-4512-4f77-af15-1ea9f0e22f38",
   "metadata": {},
   "source": [
    "15.What is the syntax for matching both numbers and lowercase letters with a character class?\n",
    " \n",
    "We can use [0-9a-z] or vice versa [a-z0-9]"
   ]
  },
  {
   "cell_type": "code",
   "execution_count": null,
   "id": "57d84c98-d27e-4016-8c21-309f3eaf0709",
   "metadata": {},
   "outputs": [],
   "source": []
  },
  {
   "cell_type": "markdown",
   "id": "026beaaf-e308-4b9b-a3a9-b254c286c5e1",
   "metadata": {},
   "source": [
    "16.What is the procedure for making a normal expression in regax case insensitive?\n",
    "\n",
    "We can use re.INGNORECASE along with re.compile function"
   ]
  },
  {
   "cell_type": "code",
   "execution_count": null,
   "id": "3f87d60e-f685-4322-8eb0-a3893c13223a",
   "metadata": {},
   "outputs": [],
   "source": []
  },
  {
   "cell_type": "markdown",
   "id": "344fe12b-74bf-4f7f-9e74-78ba238c0607",
   "metadata": {},
   "source": [
    "17.What does the . character normally match? What does it match if re.DOTALL is passed as 2nd argument in re.compile()?\n",
    "\n",
    "First the . character matches all the characters except newline, and if re.DOTALL is passed then it will match new line character also"
   ]
  },
  {
   "cell_type": "code",
   "execution_count": null,
   "id": "c498d62c-1f31-4449-8d6c-a188fc4947e3",
   "metadata": {},
   "outputs": [],
   "source": []
  },
  {
   "cell_type": "markdown",
   "id": "a31db0d1-8b0a-484f-90b0-71dd105bbf04",
   "metadata": {},
   "source": [
    "18.If numReg = re.compile(r'\\d+'), what will numRegex.sub('X', '11 drummers, 10 pipers, five rings, 4 hen') return?\n"
   ]
  },
  {
   "cell_type": "code",
   "execution_count": 41,
   "id": "0b94439d-4759-49b7-8c5f-91b41282da0a",
   "metadata": {},
   "outputs": [
    {
     "data": {
      "text/plain": [
       "'X drummers, X pipers, five rings, X hen'"
      ]
     },
     "execution_count": 41,
     "metadata": {},
     "output_type": "execute_result"
    }
   ],
   "source": [
    "numRegex = re.compile(r'\\d+')\n",
    "numRegex.sub('X', '11 drummers, 10 pipers, five rings, 4 hen')"
   ]
  },
  {
   "cell_type": "code",
   "execution_count": null,
   "id": "d1935aa1-3cfb-44e5-946e-1b9257c753df",
   "metadata": {},
   "outputs": [],
   "source": []
  },
  {
   "cell_type": "markdown",
   "id": "53585d14-a97b-469f-ad26-c9a3220cbd25",
   "metadata": {},
   "source": [
    "19.What does passing re.VERBOSE as the 2nd argument to re.compile() allow to do?\n",
    "\n",
    "Verbose usually make the output more interpretable, readable\n",
    "\n",
    "It adds comments and whitespaces"
   ]
  },
  {
   "cell_type": "code",
   "execution_count": null,
   "id": "51e66afe-f5c2-4741-bdd8-1604fefe2416",
   "metadata": {},
   "outputs": [],
   "source": []
  },
  {
   "cell_type": "markdown",
   "id": "d65bf556-ee44-4374-aa6b-d6d3984696fa",
   "metadata": {},
   "source": [
    "20.How would you write a regex that match a number with comma for every three digits? It must match the given following:\n",
    "\n",
    "'42'\n",
    "\n",
    "'1,234'\n",
    "\n",
    "'6,368,745'\n",
    "\n",
    "but not the following:\n",
    "\n",
    "    '12,34,567' (which has only two digits between the commas)\n",
    "\n",
    "    '-1.14-windows.xml'1234' (which lacks commas)\n"
   ]
  },
  {
   "cell_type": "code",
   "execution_count": 42,
   "id": "63d03749-ae61-4939-a59f-3224f5d92a67",
   "metadata": {},
   "outputs": [
    {
     "data": {
      "text/plain": [
       "re.compile(r'^\\d{1,3}(,\\d{3})*$', re.UNICODE)"
      ]
     },
     "execution_count": 42,
     "metadata": {},
     "output_type": "execute_result"
    }
   ],
   "source": [
    "re.compile(r'^\\d{1,3}(,\\d{3})*$') "
   ]
  },
  {
   "cell_type": "code",
   "execution_count": null,
   "id": "3d8b7e62-e683-4ee5-908c-45e5791868ad",
   "metadata": {},
   "outputs": [],
   "source": []
  },
  {
   "cell_type": "markdown",
   "id": "471d5cd1-be5a-4b2f-889b-5cbd2f1ad75b",
   "metadata": {},
   "source": [
    "21.How would you write a regex that matches the full name of someone whose last name is Watanabe? You can assume that the first name that comes before it will always be one word that begins with a capital letter. The regex must match the following:\n",
    "\n",
    "    'Haruto Watanabe'\n",
    "\n",
    "    'Alice Watanabe'\n",
    "\n",
    "    'RoboCop Watanabe'\n",
    "\n",
    "    but not the following:\n",
    "\n",
    "        'haruto Watanabe' (where the first name is not capitalized)\n",
    "\n",
    "        'Mr. Watanabe' (where the preceding word has a nonletter character)\n",
    "\n",
    "        'Watanabe' (which has no first name)\n",
    "\n",
    "        'Haruto watanabe' (where Watanabe is not capitalized)\n"
   ]
  },
  {
   "cell_type": "code",
   "execution_count": 43,
   "id": "b961ae4c-55e2-40bc-a27e-cdcf0e3db6ff",
   "metadata": {},
   "outputs": [
    {
     "data": {
      "text/plain": [
       "re.compile(r'[A-Z][a-z]*\\sWatanabe', re.UNICODE)"
      ]
     },
     "execution_count": 43,
     "metadata": {},
     "output_type": "execute_result"
    }
   ],
   "source": [
    "re.compile(r'[A-Z][a-z]*\\sWatanabe')"
   ]
  },
  {
   "cell_type": "code",
   "execution_count": null,
   "id": "cce71dad-cb08-4939-9eda-e22495a50566",
   "metadata": {},
   "outputs": [],
   "source": []
  },
  {
   "cell_type": "markdown",
   "id": "ed3caf9a-347d-4926-be02-dec2181d0edd",
   "metadata": {},
   "source": [
    "22.How would you write a regex that matches a sentence where the first word is either Alice, Bob, or Carol; the second word is either eats, pets, or throws; the third word is apples, cats, or baseballs; and the sentence ends with a period? This regex should be case-insensitive. It must match the following:\n",
    "\n",
    "'Alice eats apples.'\n",
    "\n",
    "'Bob pets cats.'\n",
    "\n",
    "'Carol throws baseballs.'\n",
    "\n",
    "'Alice throws Apples.'\n",
    "\n",
    "'BOB EATS CATS.'\n",
    "\n",
    "but not the following:\n",
    "\n",
    "'RoboCop eats apples.'\n",
    "\n",
    "'ALICE THROWS FOOTBALLS.'\n",
    "\n",
    "'Carol eats 7 cats.'"
   ]
  },
  {
   "cell_type": "code",
   "execution_count": 44,
   "id": "5586f174-033f-4084-a031-30df7895eae4",
   "metadata": {},
   "outputs": [
    {
     "data": {
      "text/plain": [
       "re.compile(r'(Alice|Bob|Carol)\\s(eats|pets|throws)\\s(apples|cats|baseballs)\\.',\n",
       "re.IGNORECASE|re.UNICODE)"
      ]
     },
     "execution_count": 44,
     "metadata": {},
     "output_type": "execute_result"
    }
   ],
   "source": [
    "re.compile(r'(Alice|Bob|Carol)\\s(eats|pets|throws)\\s(apples|cats|baseballs)\\.', re.IGNORECASE)"
   ]
  },
  {
   "cell_type": "code",
   "execution_count": null,
   "id": "cfd00967-6e43-474f-9d91-244ef274eb28",
   "metadata": {},
   "outputs": [],
   "source": []
  }
 ],
 "metadata": {
  "kernelspec": {
   "display_name": "Python 3",
   "language": "python",
   "name": "python3"
  },
  "language_info": {
   "codemirror_mode": {
    "name": "ipython",
    "version": 3
   },
   "file_extension": ".py",
   "mimetype": "text/x-python",
   "name": "python",
   "nbconvert_exporter": "python",
   "pygments_lexer": "ipython3",
   "version": "3.8.8"
  }
 },
 "nbformat": 4,
 "nbformat_minor": 5
}
