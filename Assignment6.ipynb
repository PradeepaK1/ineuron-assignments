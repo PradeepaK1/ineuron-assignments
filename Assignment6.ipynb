{
 "cells": [
  {
   "cell_type": "markdown",
   "id": "0831dbe1-3be1-44af-8858-a8469a0819d6",
   "metadata": {},
   "source": [
    "1.What are escape characters, and how do you use them?\n",
    "\n",
    "Escape characters are used as a formatting option in strings like to leave space or new line etc.\n",
    "\n",
    "For example"
   ]
  },
  {
   "cell_type": "code",
   "execution_count": 28,
   "id": "78f7287f-8518-462e-b60c-47cf9381be54",
   "metadata": {},
   "outputs": [
    {
     "name": "stdout",
     "output_type": "stream",
     "text": [
      "0 \t1 \t2 \t0 \n",
      "\n",
      "1 \n",
      "\n",
      "2 \n",
      "\n"
     ]
    }
   ],
   "source": [
    "for i in range(3):\n",
    "    print(i,'\\t',end='')\n",
    "for i in range(3):\n",
    "    print(i,'\\n')"
   ]
  },
  {
   "cell_type": "code",
   "execution_count": null,
   "id": "f05529c3-2a51-4648-97cf-38445365954e",
   "metadata": {},
   "outputs": [],
   "source": []
  },
  {
   "cell_type": "markdown",
   "id": "b86cbe34-5ef1-40d2-b4d9-ff088313db47",
   "metadata": {},
   "source": [
    "2.What do the escape characters n and t stand for?\n",
    "\n",
    "n - newline, t - tab"
   ]
  },
  {
   "cell_type": "code",
   "execution_count": null,
   "id": "2c6ed30e-cae6-4460-ae91-0224274853d3",
   "metadata": {},
   "outputs": [],
   "source": []
  },
  {
   "cell_type": "markdown",
   "id": "9f88a71e-8f22-4fee-82d7-97d147b506e1",
   "metadata": {},
   "source": [
    "3.What is the way to include backslash characters in a string?\n",
    "\n",
    "We can use \\\\ double backslash to include a backslash"
   ]
  },
  {
   "cell_type": "code",
   "execution_count": 29,
   "id": "e01c9642-2c03-4037-8197-7851b1135980",
   "metadata": {},
   "outputs": [
    {
     "name": "stdout",
     "output_type": "stream",
     "text": [
      "This is \\ backslash\n"
     ]
    }
   ],
   "source": [
    "print('This is \\\\ backslash')"
   ]
  },
  {
   "cell_type": "code",
   "execution_count": null,
   "id": "91488e4e-6691-4f0d-b9b5-6ed6b7349da5",
   "metadata": {},
   "outputs": [],
   "source": []
  },
  {
   "cell_type": "markdown",
   "id": "b91dfbdb-e7fe-46ee-b017-ae15a8fcb1f5",
   "metadata": {},
   "source": [
    "4.The string \"Howl's Moving Castle\" is a correct value. Why isn't the single quote character in the word Howl's not escaped a problem?\n",
    "\n",
    "As the whole string is enclosed with a double quotes \"\" the single quote ' is considered as one of the string in the whole string"
   ]
  },
  {
   "cell_type": "code",
   "execution_count": null,
   "id": "17f8ad71-c401-4705-9464-33dd1ba334c8",
   "metadata": {},
   "outputs": [],
   "source": []
  },
  {
   "cell_type": "markdown",
   "id": "e3ba28c3-fbeb-40a1-a34d-f01cfe0db8b0",
   "metadata": {},
   "source": [
    "5.How do you write a string of newlines if you don't want to use the n character?\n",
    "\n",
    "We can use multiple print statements to write a string of newlines without using n character"
   ]
  },
  {
   "cell_type": "code",
   "execution_count": 30,
   "id": "65cb1f5c-1045-463a-9bb9-2939b8f5f19e",
   "metadata": {},
   "outputs": [
    {
     "name": "stdout",
     "output_type": "stream",
     "text": [
      "Hi\n",
      "Hello\n",
      "Hi\n",
      "Hello\n"
     ]
    }
   ],
   "source": [
    "print('Hi\\nHello')\n",
    "print('Hi')\n",
    "print('Hello')"
   ]
  },
  {
   "cell_type": "code",
   "execution_count": null,
   "id": "a4c46e91-0303-468e-8946-ed858708b55d",
   "metadata": {},
   "outputs": [],
   "source": []
  },
  {
   "cell_type": "markdown",
   "id": "a8a5d52d-2131-4576-908b-617c1f75b971",
   "metadata": {},
   "source": [
    "6.What are the values of the given expressions?\n",
    "\n",
    "'Hello, world!'[1]\n",
    "\n",
    "'Hello, world!'[0:5]\n",
    "\n",
    "'Hello, world!'[:5]\n",
    "\n",
    "'Hello, world!'[3:]\n"
   ]
  },
  {
   "cell_type": "code",
   "execution_count": 31,
   "id": "f3a18112-f58f-4452-8a5e-acf45f167694",
   "metadata": {},
   "outputs": [
    {
     "name": "stdout",
     "output_type": "stream",
     "text": [
      "e\n",
      "Hello\n",
      "Hello\n",
      "lo, world!\n"
     ]
    }
   ],
   "source": [
    "print('Hello, world!'[1])\n",
    "print('Hello, world!'[0:5])\n",
    "print('Hello, world!'[:5])\n",
    "print('Hello, world!'[3:])"
   ]
  },
  {
   "cell_type": "code",
   "execution_count": null,
   "id": "97b1caac-c5dc-455f-af55-b76abbca3440",
   "metadata": {},
   "outputs": [],
   "source": []
  },
  {
   "cell_type": "markdown",
   "id": "8b82d973-077f-4988-80c2-acd3bc1ab2c2",
   "metadata": {},
   "source": [
    "7.What are the values of the following expressions?\n",
    "\n",
    "'Hello'.upper()\n",
    "\n",
    "'Hello'.upper().isupper()\n",
    "\n",
    "'Hello'.upper().lower()\n"
   ]
  },
  {
   "cell_type": "code",
   "execution_count": 32,
   "id": "15e77b18-860e-4f06-a174-603b749bdb7a",
   "metadata": {},
   "outputs": [
    {
     "name": "stdout",
     "output_type": "stream",
     "text": [
      "HELLO\n",
      "True\n",
      "hello\n"
     ]
    }
   ],
   "source": [
    "print('Hello'.upper())\n",
    "print('Hello'.upper().isupper())\n",
    "print('Hello'.upper().lower())"
   ]
  },
  {
   "cell_type": "code",
   "execution_count": null,
   "id": "e5571e7e-1757-41f2-8431-e9a6773c7f85",
   "metadata": {},
   "outputs": [],
   "source": []
  },
  {
   "cell_type": "markdown",
   "id": "3382cc90-a23c-4039-8518-4bc636f1df83",
   "metadata": {},
   "source": [
    "8.What are the values of the following expressions?\n",
    "\n",
    "'Remember, remember, the fifth of July.'.split()\n",
    "\n",
    "'-'.join('There can only one.'.split())\n"
   ]
  },
  {
   "cell_type": "code",
   "execution_count": 33,
   "id": "deb41956-04bc-4191-99e5-fc1e6670aff9",
   "metadata": {},
   "outputs": [
    {
     "name": "stdout",
     "output_type": "stream",
     "text": [
      "['Remember,', 'remember,', 'the', 'fifth', 'of', 'July.']\n",
      "There-can-only-one.\n"
     ]
    }
   ],
   "source": [
    "print('Remember, remember, the fifth of July.'.split())\n",
    "print('-'.join('There can only one.'.split()))"
   ]
  },
  {
   "cell_type": "code",
   "execution_count": null,
   "id": "3e248df6-35a2-44fd-ae5f-04adb30a2730",
   "metadata": {},
   "outputs": [],
   "source": []
  },
  {
   "cell_type": "markdown",
   "id": "1057ba4e-0e89-4e2c-8952-66b95748b401",
   "metadata": {},
   "source": [
    "9.What are the methods for right-justifying, left-justifying, and centering a string?\n",
    "\n",
    "rjust(), ljust(), center()"
   ]
  },
  {
   "cell_type": "code",
   "execution_count": 34,
   "id": "eb99e624-ab9a-4e4d-8cea-d2b3acff93a3",
   "metadata": {},
   "outputs": [
    {
     "name": "stdout",
     "output_type": "stream",
     "text": [
      "                                                Hi\n",
      "Hi                                                \n",
      "                        Hi                        \n"
     ]
    }
   ],
   "source": [
    "s='Hi'\n",
    "print(s.rjust(50))\n",
    "print(s.ljust(50))\n",
    "print(s.center(50))"
   ]
  },
  {
   "cell_type": "code",
   "execution_count": null,
   "id": "45c69a5a-13d1-46ff-bcf7-6ea80ba255ff",
   "metadata": {},
   "outputs": [],
   "source": []
  },
  {
   "cell_type": "markdown",
   "id": "226b0ad9-9601-46ab-8f76-49de9aa16d1a",
   "metadata": {},
   "source": [
    "10.What is the best way to remove whitespace characters from the start or end?\n",
    "\n",
    "We can use lstrip(), rstrip for start and end\n"
   ]
  },
  {
   "cell_type": "code",
   "execution_count": 35,
   "id": "ee629983-1819-493f-9aa7-24bacdb699c9",
   "metadata": {},
   "outputs": [
    {
     "name": "stdout",
     "output_type": "stream",
     "text": [
      "         Hi\n",
      "Hi        \n",
      "Hi\n",
      "Hi\n"
     ]
    }
   ],
   "source": [
    "s='         Hi'\n",
    "s1='Hi        '\n",
    "print(s)\n",
    "print(s1)\n",
    "print(s.lstrip())\n",
    "print(s1.rstrip())"
   ]
  },
  {
   "cell_type": "code",
   "execution_count": null,
   "id": "d45cf4be-a952-41d4-80bc-c3270b99413e",
   "metadata": {},
   "outputs": [],
   "source": []
  }
 ],
 "metadata": {
  "kernelspec": {
   "display_name": "Python 3",
   "language": "python",
   "name": "python3"
  },
  "language_info": {
   "codemirror_mode": {
    "name": "ipython",
    "version": 3
   },
   "file_extension": ".py",
   "mimetype": "text/x-python",
   "name": "python",
   "nbconvert_exporter": "python",
   "pygments_lexer": "ipython3",
   "version": "3.8.8"
  }
 },
 "nbformat": 4,
 "nbformat_minor": 5
}
