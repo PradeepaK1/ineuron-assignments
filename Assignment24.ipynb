{
 "cells": [
  {
   "cell_type": "markdown",
   "id": "81156ac5-9c1c-4b43-b6ef-c83dfae8842d",
   "metadata": {},
   "source": [
    "1.What is the relationship between def statements and lambda expressions ?"
   ]
  },
  {
   "cell_type": "markdown",
   "id": "0de7f025-f527-4def-8949-be3f6fecbeb8",
   "metadata": {},
   "source": [
    "def keyword is used to create a function.\n",
    "\n",
    "It is used when a function is declared  \n",
    "\n",
    "lambda function is a small function that can take many argument but has only one expression, they have no name except keyword lamda while execution so called as anonymous function"
   ]
  },
  {
   "cell_type": "code",
   "execution_count": 1,
   "id": "05d8eb3b-db1e-4a00-b1a0-aa150f45466a",
   "metadata": {},
   "outputs": [
    {
     "name": "stdout",
     "output_type": "stream",
     "text": [
      "3\n",
      "4\n"
     ]
    }
   ],
   "source": [
    "def func():\n",
    "    print(1+2)\n",
    "func()\n",
    "x = lambda a, b, c : a + b + c\n",
    "print(x(1, 1, 2))"
   ]
  },
  {
   "cell_type": "markdown",
   "id": "370a7515-2f80-4d06-bffb-6c784d0794e2",
   "metadata": {},
   "source": [
    "2.What is the benefit of lambda?"
   ]
  },
  {
   "cell_type": "markdown",
   "id": "27787dc3-b35c-49fd-9e1b-f8c5a2c1a725",
   "metadata": {},
   "source": [
    "Main benefits of lambda function are:\n",
    "\n",
    "Less code lines, one line function\n",
    "\n",
    "Fast Execution\n",
    "\n",
    "Improves code readability\n",
    "\n",
    "Improves control flow by not making the jumps extensively for smaller functions"
   ]
  },
  {
   "cell_type": "markdown",
   "id": "3e958a75-a705-4799-ac59-d213f67a55b2",
   "metadata": {},
   "source": [
    "3.Compare and contrast map, filter, and reduce."
   ]
  },
  {
   "cell_type": "markdown",
   "id": "6abf2e94-e3da-4caf-9f43-5c0403bd92f9",
   "metadata": {},
   "source": [
    "Map: map() function iterates through all items in the given iterable and executes the function we assign\n",
    "\n",
    "Filter: filter() function filters elements that match a certain condition and forms a new list with those matching elements\n",
    "\n",
    "Reduce: reduce() function reduces the item output to a single value from a list of iterable value  "
   ]
  },
  {
   "cell_type": "code",
   "execution_count": 3,
   "id": "fc83d4c2-a5df-4873-897d-020cf2fd5716",
   "metadata": {},
   "outputs": [
    {
     "name": "stdout",
     "output_type": "stream",
     "text": [
      "[2, 4]\n",
      "[2, 4, 6, 8, 10]\n",
      "15\n"
     ]
    }
   ],
   "source": [
    "from functools import reduce\n",
    "l = [1,2,3,4,5]\n",
    "filterl = list(filter(lambda x: (x%2 == 0) , l))\n",
    "print(filterl)\n",
    "mapl = list(map(lambda x: x*2, l))\n",
    "print(mapl)\n",
    "reducel = reduce((lambda x, y: x + y), l)\n",
    "print (reducel)"
   ]
  },
  {
   "cell_type": "code",
   "execution_count": null,
   "id": "b137c493-345d-4484-b698-3a45faf3d228",
   "metadata": {},
   "outputs": [],
   "source": [
    "4.What are function annotations, and how are they used?"
   ]
  },
  {
   "cell_type": "code",
   "execution_count": null,
   "id": "bb44446f-34f0-4490-ba84-42796544bacf",
   "metadata": {},
   "outputs": [],
   "source": [
    "Function annotations are used to access metadata and return the value of the function\n",
    "It is evaluated at compile time, annotations doesn't take any meaning, when interpreted by third party libraries they are executed\n",
    "Syntax:\n",
    "    def examplefunc(a: expression, b: expression = 1):\n",
    "Here a, the argument name is followed by : then expression is assigned\n",
    "Example,    "
   ]
  },
  {
   "cell_type": "code",
   "execution_count": 1,
   "id": "e7b37766-1137-4428-ab9b-f29ed871d9ae",
   "metadata": {},
   "outputs": [
    {
     "name": "stdout",
     "output_type": "stream",
     "text": [
      "{'n': 'int', 'b': 'list', 'return': 'output'}\n"
     ]
    }
   ],
   "source": [
    "def fun(n:'int', b:'list')-> 'output': \n",
    "    pass\n",
    "print(fun.__annotations__)"
   ]
  },
  {
   "cell_type": "code",
   "execution_count": 2,
   "id": "92ce4dc9-9813-4044-9b2c-1405dc2c00ec",
   "metadata": {},
   "outputs": [
    {
     "name": "stdout",
     "output_type": "stream",
     "text": [
      "Object `used` not found.\n"
     ]
    }
   ],
   "source": [
    "5. What are recursive functions, and how are they used?"
   ]
  },
  {
   "cell_type": "code",
   "execution_count": null,
   "id": "f86b5477-b499-466f-a54c-30de7d3e158c",
   "metadata": {},
   "outputs": [],
   "source": [
    "5. What are recursive functions, and how are they used"
   ]
  },
  {
   "cell_type": "code",
   "execution_count": null,
   "id": "37c3878e-ba6a-400c-838c-a7395f388116",
   "metadata": {},
   "outputs": [],
   "source": [
    "Recursive functions, calls itself again and again during execution till a reduction is done and a set criteria is met.\n",
    "\n",
    "Using return statement the reduced value is again sent as parameter to the function, and called again and again\n",
    "\n",
    "Example,"
   ]
  },
  {
   "cell_type": "code",
   "execution_count": 3,
   "id": "1c4ddc91-fa3b-475b-a8d6-b1b6ae45bad8",
   "metadata": {},
   "outputs": [
    {
     "data": {
      "text/plain": [
       "120"
      ]
     },
     "execution_count": 3,
     "metadata": {},
     "output_type": "execute_result"
    }
   ],
   "source": [
    "def fact(x):\n",
    "    if x == 1 :\n",
    "        return 1\n",
    "    else :\n",
    "        return x * fact(x-1)\n",
    "    \n",
    "fact(5)"
   ]
  },
  {
   "cell_type": "code",
   "execution_count": null,
   "id": "64fb2af6-2408-4d39-8cd2-38b78a3bed0e",
   "metadata": {},
   "outputs": [],
   "source": [
    "6. What are some general design guidelines for coding functions?"
   ]
  },
  {
   "cell_type": "code",
   "execution_count": null,
   "id": "f152d294-99a3-462b-9f5e-ac1b856c0651",
   "metadata": {},
   "outputs": [],
   "source": [
    "- Proper Indentations are to be given to enhance code readability\n",
    "- Errors and exception handling as we can prevent crashing of programs and systems\n",
    "- Code should be comprehendable, and not complex for maintenance and debugging\n",
    "- Documentation should be in parallel for all the sections\n",
    "- Modularity, object oriented programming and all should be incorporated\n",
    "- Length of functions should be precise\n",
    "- Naming of variables, functions should be in relevance"
   ]
  },
  {
   "cell_type": "code",
   "execution_count": null,
   "id": "b9cb6d55-c360-49a2-b4c8-d31e7727f081",
   "metadata": {},
   "outputs": [],
   "source": [
    "7. Name three or more ways that functions can communicate results to a caller."
   ]
  },
  {
   "cell_type": "code",
   "execution_count": null,
   "id": "e7eb091e-0dd8-4993-a67f-c292e14f7eff",
   "metadata": {},
   "outputs": [],
   "source": [
    "Function returns values like\n",
    "Single Value which is mentioned in the return braces is returned as result\n",
    "A list of values can be returned as per requirement\n",
    "A tuple can be returned\n",
    "Any function itself can be again and again called\n",
    "A dictionary can be returned\n",
    "Objects can be returned "
   ]
  },
  {
   "cell_type": "code",
   "execution_count": null,
   "id": "744df425-9940-42ab-ab17-b4519172e62d",
   "metadata": {},
   "outputs": [],
   "source": []
  }
 ],
 "metadata": {
  "kernelspec": {
   "display_name": "Python 3",
   "language": "python",
   "name": "python3"
  },
  "language_info": {
   "codemirror_mode": {
    "name": "ipython",
    "version": 3
   },
   "file_extension": ".py",
   "mimetype": "text/x-python",
   "name": "python",
   "nbconvert_exporter": "python",
   "pygments_lexer": "ipython3",
   "version": "3.8.8"
  }
 },
 "nbformat": 4,
 "nbformat_minor": 5
}
