{
 "cells": [
  {
   "cell_type": "raw",
   "id": "496c2bcc-1588-4de8-85e2-a21d7b22aa55",
   "metadata": {},
   "source": [
    "1.Create a function based on the input and output. Look at the examples, there is a pattern.\n",
    "\n",
    "Examples\n",
    "\n",
    "secret(\"p.one.two.three\") ➞ \"<p class='one two three'></p>\"\n",
    "\n",
    "secret(\"p.one\") ➞ \"<p class='one'></p>\"\n",
    "\n",
    "secret(\"p.four.five\") ➞ \"<p class='four five'></p>\""
   ]
  },
  {
   "cell_type": "code",
   "execution_count": 15,
   "id": "e0f0566f-ac18-4cc4-aeda-ebcdf66163ac",
   "metadata": {},
   "outputs": [
    {
     "name": "stdout",
     "output_type": "stream",
     "text": [
      "secret(p.one.two.three) ➞ <p class='one two three'></p>\n",
      "secret(p.one) ➞ <p class='one'></p>\n",
      "secret(p.four.five) ➞ <p class='four five'></p>\n"
     ]
    }
   ],
   "source": [
    "def secret(s):\n",
    "    t = s\n",
    "    s = s.split(\".\")\n",
    "    a = \"<{} class='{}'></{}>\".format(s[0],\" \".join(s[1:]),s[0])\n",
    "    print(\"secret({}) ➞ {}\".format(t,a))\n",
    "secret(\"p.one.two.three\")\n",
    "secret(\"p.one\")\n",
    "secret(\"p.four.five\")"
   ]
  },
  {
   "cell_type": "raw",
   "id": "f71022a2-376b-4caa-9250-c29bad200bb5",
   "metadata": {},
   "source": [
    "2.Create a function which counts how many lone 1s appear in a given number. Lone means the number doesn't appear twice or more in a row.\n",
    "\n",
    "Examples\n",
    "\n",
    "count_lone_ones(101) ➞ 2\n",
    "\n",
    "count_lone_ones(1191) ➞ 1\n",
    "\n",
    "count_lone_ones(1111) ➞ 0\n",
    "\n",
    "count_lone_ones(462) ➞ 0"
   ]
  },
  {
   "cell_type": "code",
   "execution_count": 16,
   "id": "8681d3c9-a954-40b9-9098-7237c0e0ae88",
   "metadata": {},
   "outputs": [
    {
     "name": "stdout",
     "output_type": "stream",
     "text": [
      "coint_lone_ones(101) ➞ 2\n",
      "coint_lone_ones(1191) ➞ 1\n",
      "coint_lone_ones(1111) ➞ 0\n",
      "coint_lone_ones(462) ➞ 0\n"
     ]
    }
   ],
   "source": [
    "import re\n",
    "def count_lone_ones(n):\n",
    "    p = r\"(?<!1)1(?!1)\" \n",
    "    a = re.findall(p,str(n))\n",
    "    print(\"coint_lone_ones({}) ➞ {}\".format(n,len(a)))\n",
    "count_lone_ones(101)\n",
    "count_lone_ones(1191)\n",
    "count_lone_ones(1111)\n",
    "count_lone_ones(462)"
   ]
  },
  {
   "cell_type": "raw",
   "id": "823d18b3-aff3-4fbd-818a-20519cc8c230",
   "metadata": {},
   "source": [
    "3.Write a method that accepts two integer parameters rows and cols. The output is a 2d array of numbers displayed in column-major order, meaning the numbers shown increase sequentially down each column and wrap to the top of the next column to the right once the bottom of the current column is reached.\n",
    "\n",
    "Examples\n",
    "\n",
    "printGrid(3, 6) ➞ [\n",
    "  [1, 4, 7, 10, 13, 16],\n",
    "  [2, 5, 8, 11, 14, 17],\n",
    "  [3, 6, 9, 12, 15, 18]\n",
    "]\n",
    "\n",
    "printGrid(5, 3) ➞ [\n",
    "  [1, 6, 11],\n",
    "  [2, 7, 12],\n",
    "  [3, 8, 13],\n",
    "  [4, 9, 14],\n",
    "  [5, 10, 15]\n",
    "]\n",
    "\n",
    "printGrid(4, 1) ➞ [\n",
    "  [1],\n",
    "  [2],\n",
    "  [3],\n",
    "  [4]\n",
    "]"
   ]
  },
  {
   "cell_type": "code",
   "execution_count": 17,
   "id": "7cf3c8a6-3072-4ee5-b575-173f749f7d20",
   "metadata": {},
   "outputs": [
    {
     "name": "stdout",
     "output_type": "stream",
     "text": [
      "printGrid(3, 6) ➞ [[1, 4, 7, 10, 13, 16], [2, 5, 8, 11, 14, 17], [3, 6, 9, 12, 15, 18]]\n",
      "printGrid(5, 3) ➞ [[1, 6, 11], [2, 7, 12], [3, 8, 13], [4, 9, 14], [5, 10, 15]]\n",
      "printGrid(4, 1) ➞ [[1], [2], [3], [4]]\n"
     ]
    }
   ],
   "source": [
    "def printGrid(n,m):\n",
    "    a = []\n",
    "    for i in range(n):\n",
    "        t = []\n",
    "        for j in range(m):\n",
    "            t.append(i+(n*j)+1)\n",
    "        a.append(t)\n",
    "    print(\"printGrid({}, {}) ➞ {}\".format(n,m,a))\n",
    "printGrid(3, 6)\n",
    "printGrid(5, 3)  \n",
    "printGrid(4, 1)"
   ]
  },
  {
   "cell_type": "raw",
   "id": "0b0039a9-f073-40c2-8fa2-9f2f4dd1ff57",
   "metadata": {},
   "source": [
    "4.Given a list of integers, return the smallest positive integer not present in the list.\n",
    "\n",
    "Here is a representative example. Consider the list:\n",
    "\n",
    "[-2, 6, 4, 5, 7, -1, 7, 1, 3, 6, 6, -2, 9, 10, 2, 2]\n",
    "\n",
    "After reordering, the list becomes:\n",
    "\n",
    "[-2, -2, -1, 1, 2, 2, 3, 4, 5, 6, 6, 6, 7, 7, 9, 10]\n",
    "\n",
    "from which we see that the smallest missing positive integer is 8.\n",
    "\n",
    "Examples\n",
    "\n",
    "min_miss_pos([-2, 6, 4, 5, 7, -1, 1, 3, 6, -2, 9, 10, 2, 2]) ➞ 8\n",
    "\n",
    "After sorting, list becomes [-2, -2, -1, 1, 2, 2, 3, 4, 5, 6, 6, 7, 9, 10]\n",
    "\n",
    "So the smallest missing positive integer is 8\n",
    "\n",
    "min_miss_pos([5, 9, -2, 0, 1, 3, 9, 3, 8, 9]) ➞ 2\n",
    "\n",
    "After sorting, list becomes [-2, 0, 1, 3, 3, 5, 8, 9, 9, 9]\n",
    "\n",
    "So the smallest missing positive integer is 2\n",
    "\n",
    "min_miss_pos([0, 4, 4, -1, 9, 4, 5, 2, 10, 7, 6, 3, 10, 9]) ➞ 1\n",
    "\n",
    "After sorting, list becomes [-1, 0, 2, 3, 4, 4, 4, 5, 6, 7, 9, 9, 10, 10]\n",
    "\n",
    "So the smallest missing positive integer is 1"
   ]
  },
  {
   "cell_type": "code",
   "execution_count": 18,
   "id": "96ade23f-05ab-4bd5-9d09-2fc27f71bff8",
   "metadata": {},
   "outputs": [
    {
     "name": "stdout",
     "output_type": "stream",
     "text": [
      "min_miss_pos([-2, 6, 4, 5, 7, -1, 1, 3, 6, -2, 9, 10, 2, 2]) ➞ 8\n",
      "min_miss_pos([5, 9, -2, 0, 1, 3, 9, 3, 8, 9]) ➞ 2\n",
      "min_miss_pos([0, 4, 4, -1, 9, 4, 5, 2, 10, 7, 6, 3, 10, 9]) ➞ 1\n"
     ]
    }
   ],
   "source": [
    "def min_miss_pos(l):\n",
    "    t = l.copy()\n",
    "    l = sorted(l)\n",
    "    a = -1\n",
    "    for i in range(1,max(l)+1):\n",
    "        if i not in l:\n",
    "            a = i\n",
    "            break\n",
    "    print(\"min_miss_pos({}) ➞ {}\".format(t,a))\n",
    "min_miss_pos([-2, 6, 4, 5, 7, -1, 1, 3, 6, -2, 9, 10, 2, 2])\n",
    "min_miss_pos([5, 9, -2, 0, 1, 3, 9, 3, 8, 9])\n",
    "min_miss_pos([0, 4, 4, -1, 9, 4, 5, 2, 10, 7, 6, 3, 10, 9])"
   ]
  },
  {
   "cell_type": "raw",
   "id": "21bef8d9-cffe-4bc4-a902-01597a44a71e",
   "metadata": {},
   "source": [
    "5.Google is launching a network of autonomous pizza delivery drones and wants you to create a flexible rewards system (Pizza Points™) that can be tweaked in the future. The rules are simple: if a customer has made at least N orders of at least Y price, they get a FREE pizza!\n",
    "\n",
    "Create a function that takes a dictionary of customers, a minimum number of orders and a minimum order price. Return a list of customers that are eligible for a free pizza.\n",
    "\n",
    "Examples\n",
    "\n",
    "customers = {\n",
    "  \"Batman\": [22, 30, 11, 17, 15, 52, 27, 12],\n",
    "  \"Spider-Man\": [5, 17, 30, 33, 40, 22, 26, 10, 11, 45]\n",
    "}\n",
    "\n",
    "  pizza_points(customers, 5, 20) ➞ [\"Spider-Man\"]\n",
    "\n",
    "  pizza_points(customers, 3, 10) ➞ [\"Batman\", \"Spider-Man\"]\n",
    "\n",
    "  pizza_points(customers, 5, 100) ➞ []"
   ]
  },
  {
   "cell_type": "code",
   "execution_count": 14,
   "id": "e823acb2-5e42-4429-abd3-6859ccccf2cb",
   "metadata": {},
   "outputs": [
    {
     "name": "stdout",
     "output_type": "stream",
     "text": [
      "pizza_points({'Batman': [22, 30, 11, 17, 15, 52, 27, 12], 'Spider-Man': [5, 17, 30, 33, 40, 22, 26, 10, 11, 45]}, 5, 20) ➞ ['Spider-Man']\n",
      "pizza_points({'Batman': [22, 30, 11, 17, 15, 52, 27, 12], 'Spider-Man': [5, 17, 30, 33, 40, 22, 26, 10, 11, 45]}, 3, 10) ➞ ['Batman', 'Spider-Man']\n",
      "pizza_points({'Batman': [22, 30, 11, 17, 15, 52, 27, 12], 'Spider-Man': [5, 17, 30, 33, 40, 22, 26, 10, 11, 45]}, 5, 100) ➞ []\n"
     ]
    }
   ],
   "source": [
    "def pizza_points(d,o,p):\n",
    "    a = []\n",
    "    for i in d.keys():\n",
    "        if len([o for o in d[i] if o > p]) > o:\n",
    "            a.append(i)\n",
    "    print(\"pizza_points({}, {}, {}) ➞ {}\".format(d,o,p,a))\n",
    "customers = {\n",
    "  \"Batman\": [22, 30, 11, 17, 15, 52, 27, 12],\n",
    "  \"Spider-Man\": [5, 17, 30, 33, 40, 22, 26, 10, 11, 45]\n",
    "}\n",
    "pizza_points(customers, 5, 20)\n",
    "pizza_points(customers, 3, 10)\n",
    "pizza_points(customers, 5, 100)"
   ]
  },
  {
   "cell_type": "code",
   "execution_count": null,
   "id": "594183d3-8482-4e8f-81e1-ec2a9e0401ee",
   "metadata": {},
   "outputs": [],
   "source": []
  }
 ],
 "metadata": {
  "kernelspec": {
   "display_name": "Python 3",
   "language": "python",
   "name": "python3"
  },
  "language_info": {
   "codemirror_mode": {
    "name": "ipython",
    "version": 3
   },
   "file_extension": ".py",
   "mimetype": "text/x-python",
   "name": "python",
   "nbconvert_exporter": "python",
   "pygments_lexer": "ipython3",
   "version": "3.8.8"
  }
 },
 "nbformat": 4,
 "nbformat_minor": 5
}
