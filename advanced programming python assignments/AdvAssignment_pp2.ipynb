{
 "cells": [
  {
   "cell_type": "markdown",
   "id": "b65d58b2-78f3-48fd-82cf-be3ea021dc69",
   "metadata": {},
   "source": [
    "1.Write a function that takes a positive integer num and calculates how many dots exist in a pentagonal shape around the center dot on the Nth iteration.\n",
    "\n",
    "In the image below you can see the first iteration is only a single dot. On the second, there are 6 dots. On the third, there are 16 dots, and on the fourth there are 31 dots.\n",
    "\n",
    "Return the number of dots that exist in the whole pentagon on the Nth iteration.\n",
    "\n",
    "Examples\n",
    "\n",
    "pentagonal(1) ➞ 1\n",
    "\n",
    "pentagonal(2) ➞ 6\n",
    "\n",
    "pentagonal(3) ➞ 16\n",
    "\n",
    "pentagonal(8) ➞ 141"
   ]
  },
  {
   "cell_type": "code",
   "execution_count": 3,
   "id": "74059ad0-21c0-458b-a4a1-ec47c1c3291e",
   "metadata": {},
   "outputs": [
    {
     "name": "stdout",
     "output_type": "stream",
     "text": [
      "pentagonal(1) ➞ 1\n",
      "pentagonal(2) ➞ 6\n",
      "pentagonal(3) ➞ 16\n",
      "pentagonal(8) ➞ 141\n"
     ]
    }
   ],
   "source": [
    "def pentagonal(n):\n",
    "    if n>=1:\n",
    "        print(\"pentagonal({}) ➞ {}\".format(n,((5*n**2)-(5*n)+2)//2))\n",
    "pentagonal(1)\n",
    "pentagonal(2)\n",
    "pentagonal(3)\n",
    "pentagonal(8)"
   ]
  },
  {
   "cell_type": "markdown",
   "id": "a6a63b58-b417-454e-aa0f-8d5645110f2a",
   "metadata": {},
   "source": [
    "2.Make a function that encrypts a given input with these steps:\n",
    "\n",
    "Input: \"apple\"\n",
    "\n",
    "Step 1: Reverse the input: \"elppa\"\n",
    "\n",
    "Step 2: Replace all vowels using the following chart:\n",
    "\n",
    "a => 0\n",
    "\n",
    "e => 1\n",
    "\n",
    "i => 2\n",
    "\n",
    "o => 2\n",
    "\n",
    "u => 3\n",
    "\n",
    "\"1lpp0\"\n",
    "\n",
    "Step 3: Add \"aca\" to the end of the word: \"1lpp0aca\"\n",
    "\n",
    "Output: \"1lpp0aca\"\n",
    "\n",
    "Examples\n",
    "\n",
    "encrypt(\"banana\") ➞ \"0n0n0baca\"\n",
    "\n",
    "encrypt(\"karaca\") ➞ \"0c0r0kaca\"\n",
    "\n",
    "encrypt(\"burak\") ➞ \"k0r3baca\"\n",
    "\n",
    "encrypt(\"alpaca\") ➞ \"0c0pl0aca\""
   ]
  },
  {
   "cell_type": "code",
   "execution_count": 5,
   "id": "c3900386-5f06-417c-9a3d-2507006aefcc",
   "metadata": {},
   "outputs": [
    {
     "name": "stdout",
     "output_type": "stream",
     "text": [
      "encrypt(0n0n0b) ➞ 0n0n0baca\n",
      "encrypt(0c0r0k) ➞ 0c0r0kaca\n",
      "encrypt(k0r3b) ➞ k0r3baca\n",
      "encrypt(0c0pl0) ➞ 0c0pl0aca\n"
     ]
    }
   ],
   "source": [
    "def encrypt(s):\n",
    "    v = 'aeiou'\n",
    "    enc = {'a' : '0',\n",
    "            'e' : '1',\n",
    "            'i' : '2',\n",
    "            'o' : '2',\n",
    "            'u' : '3'}\n",
    "    l = []\n",
    "    s = str(s[::-1])\n",
    "    for i in s:\n",
    "        for j in v:\n",
    "            if i == j:\n",
    "                s = s.replace(i, str(enc[i]))\n",
    "    print(\"encrypt({}) ➞ {}\".format(s,s+'aca'))\n",
    "encrypt(\"banana\")\n",
    "encrypt(\"karaca\") \n",
    "encrypt(\"burak\")\n",
    "encrypt(\"alpaca\")"
   ]
  },
  {
   "cell_type": "markdown",
   "id": "30901466-92ba-4c97-97bf-b7e80f70574f",
   "metadata": {},
   "source": [
    "3.Given the month and year as numbers, return whether that month contains a Friday 13th.(i.e You can check Python's datetime module)\n",
    "\n",
    "Examples\n",
    "\n",
    "has_friday_13(3, 2020) ➞ True\n",
    "\n",
    "has_friday_13(10, 2017) ➞ True\n",
    "\n",
    "has_friday_13(1, 1985) ➞ False"
   ]
  },
  {
   "cell_type": "code",
   "execution_count": 16,
   "id": "e3b982eb-73b7-4b62-9e24-38c960d4ca02",
   "metadata": {},
   "outputs": [
    {
     "name": "stdout",
     "output_type": "stream",
     "text": [
      "has_friday_13(3, 2020)➞ True\n",
      "has_friday_13(10, 2017)➞ True\n",
      "has_friday_13(1, 1985)➞ False\n"
     ]
    }
   ],
   "source": [
    "import datetime\n",
    "from datetime import datetime\n",
    "import calendar\n",
    "def has_friday_13(m,y):\n",
    "    d = f'{m} 13 {y}'.format()\n",
    "    dd = datetime.strptime(d, '%m %d %Y').weekday()\n",
    "    print(\"has_friday_13({}, {})➞ {}\".format(m,y,(calendar.day_name[dd]) == \"Friday\"))\n",
    "has_friday_13(3, 2020) \n",
    "has_friday_13(10, 2017) \n",
    "has_friday_13(1, 1985) "
   ]
  },
  {
   "cell_type": "markdown",
   "id": "c3827cb8-549e-4959-8bb2-cef59e4e01cb",
   "metadata": {},
   "source": [
    "4.Write a regular expression that will help us count how many bad cookies are produced every day. You must use RegEx negative lookbehind.\n",
    "\n",
    "Example\n",
    "\n",
    "lst = [\"bad cookie\", \"good cookie\", \"bad cookie\", \"good cookie\", \"good cookie\"]\n",
    "\n",
    "pattern = \"yourregularexpressionhere\"\n",
    "\n",
    "len(re.findall(pattern, \", \".join(lst))) ➞ 2"
   ]
  },
  {
   "cell_type": "code",
   "execution_count": 19,
   "id": "b18ab9f9-19ce-4831-882b-cf4f066d61d7",
   "metadata": {},
   "outputs": [
    {
     "name": "stdout",
     "output_type": "stream",
     "text": [
      "len(re.findall(pattern, ', '.join(lst))) ➞ 2\n"
     ]
    }
   ],
   "source": [
    "import re\n",
    "lst = [\"bad cookie\", \"good cookie\", \"bad cookie\", \"good cookie\", \"good cookie\"]\n",
    "pattern=\"bad\"\n",
    "print(\"len(re.findall(pattern, ', '.join(lst))) ➞ {}\".format(len(re.findall(pattern, \", \".join(lst)))))"
   ]
  },
  {
   "cell_type": "markdown",
   "id": "adb531be-27e8-4b97-b7b4-b53c12847708",
   "metadata": {},
   "source": [
    "5.Given a list of words in the singular form, return a set of those words in the plural form if they appear more than once in the list.\n",
    "\n",
    "Examples\n",
    "\n",
    "pluralize([\"cow\", \"pig\", \"cow\", \"cow\"]) ➞ { \"cows\", \"pig\" }\n",
    "\n",
    "pluralize([\"table\", \"table\", \"table\"]) ➞ { \"tables\" }\n",
    "\n",
    "pluralize([\"chair\", \"pencil\", \"arm\"]) ➞ { \"chair\", \"pencil\", \"arm\" }"
   ]
  },
  {
   "cell_type": "code",
   "execution_count": 21,
   "id": "11e95c3d-8788-4cb1-b33a-6a485d15abf3",
   "metadata": {},
   "outputs": [
    {
     "name": "stdout",
     "output_type": "stream",
     "text": [
      "pluralize(['cow', 'pig', 'cow', 'cow']) ➞ {'pig', 'cows'}\n",
      "pluralize(['table', 'table', 'table']) ➞ {'tables'}\n",
      "pluralize(['chair', 'pencil', 'arm']) ➞ {'arm', 'pencil', 'chair'}\n"
     ]
    }
   ],
   "source": [
    "def pluralize(l):\n",
    "    ll=[]\n",
    "    for i in l:\n",
    "        if l.count(i)>1:\n",
    "            ll.append(i+'s')\n",
    "        else:\n",
    "            ll.append(i)\n",
    "    print(\"pluralize({}) ➞ {}\".format(l,set(ll)))\n",
    "pluralize([\"cow\", \"pig\", \"cow\", \"cow\"]) \n",
    "pluralize([\"table\", \"table\", \"table\"])\n",
    "pluralize([\"chair\", \"pencil\", \"arm\"]) "
   ]
  },
  {
   "cell_type": "code",
   "execution_count": null,
   "id": "97ea6c83-61f5-44fa-ba3e-b461d7c0010f",
   "metadata": {},
   "outputs": [],
   "source": []
  }
 ],
 "metadata": {
  "kernelspec": {
   "display_name": "Python 3",
   "language": "python",
   "name": "python3"
  },
  "language_info": {
   "codemirror_mode": {
    "name": "ipython",
    "version": 3
   },
   "file_extension": ".py",
   "mimetype": "text/x-python",
   "name": "python",
   "nbconvert_exporter": "python",
   "pygments_lexer": "ipython3",
   "version": "3.8.8"
  }
 },
 "nbformat": 4,
 "nbformat_minor": 5
}
