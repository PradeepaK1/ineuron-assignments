{
 "cells": [
  {
   "cell_type": "markdown",
   "id": "92ae1cab-eaaf-4255-836f-1f8e1b038700",
   "metadata": {},
   "source": [
    "1.Create a function that takes a number n (integer greater than zero) as an argument, and returns 2 if n is odd and 8 if n is even.\n",
    "\n",
    "You can only use the following arithmetic operators: addition of numbers +, subtraction of numbers -, multiplication of number *, division of number /, and exponentiation **.\n",
    "\n",
    "You are not allowed to use any other methods in this challenge (i.e. no if statements, comparison operators, etc).\n",
    "\n",
    "Examples\n",
    "\n",
    "f(1) ➞ 2\n",
    "\n",
    "f(2) ➞ 8\n",
    "\n",
    "f(3) ➞ 2"
   ]
  },
  {
   "cell_type": "code",
   "execution_count": 9,
   "id": "fe5441ed-d6d7-45ef-b2a4-d0b7fa49c2e0",
   "metadata": {},
   "outputs": [
    {
     "name": "stdout",
     "output_type": "stream",
     "text": [
      "f(1) ➞ 2\n",
      "f(2) ➞ 8\n",
      "f(3) ➞ 2\n"
     ]
    }
   ],
   "source": [
    "def f(n):\n",
    "    r=[8,2]\n",
    "    print(\"f({}) ➞ {}\".format(n,r[1&n]))\n",
    "f(1)\n",
    "f(2)\n",
    "f(3)"
   ]
  },
  {
   "cell_type": "markdown",
   "id": "02e0807e-879f-48be-abfa-1fb343993e77",
   "metadata": {},
   "source": [
    "2.Create a function that returns the majority vote in a list. A majority vote is an element that occurs > N/2 times in a list (where N is the length of the list).\n",
    "\n",
    "Examples\n",
    "\n",
    "majority_vote([\"A\", \"A\", \"B\"]) ➞ \"A\"\n",
    "\n",
    "majority_vote([\"A\", \"A\", \"A\", \"B\", \"C\", \"A\"]) ➞ \"A\"\n",
    "\n",
    "majority_vote([\"A\", \"B\", \"B\", \"A\", \"C\", \"C\"]) ➞ None"
   ]
  },
  {
   "cell_type": "code",
   "execution_count": 11,
   "id": "524a3731-9c86-4617-a53f-be8f51b0d0b5",
   "metadata": {},
   "outputs": [
    {
     "name": "stdout",
     "output_type": "stream",
     "text": [
      "majority_vote(['A', 'A', 'B']) ➞ A\n",
      "majority_vote(['A', 'A', 'A', 'B', 'C', 'A']) ➞ A\n",
      "majority_vote(['A', 'B', 'B', 'A', 'C', 'C']) ➞ None\n"
     ]
    }
   ],
   "source": [
    "def majority_vote(l):\n",
    "    r=None\n",
    "    sl=set(l)\n",
    "    for i in sl:\n",
    "        if l.count(i)>(len(l)/2):\n",
    "            r=i\n",
    "    print(\"majority_vote({}) ➞ {}\".format(l,r))\n",
    "majority_vote([\"A\", \"A\", \"B\"])\n",
    "majority_vote([\"A\", \"A\", \"A\", \"B\", \"C\", \"A\"]) \n",
    "majority_vote([\"A\", \"B\", \"B\", \"A\", \"C\", \"C\"])"
   ]
  },
  {
   "cell_type": "markdown",
   "id": "be421bff-9e76-43e1-96d3-8d9eada7bca6",
   "metadata": {},
   "source": [
    "3.Create a function that takes a string txt and censors any word from a given list lst. The text removed must be replaced by the given character char.\n",
    "\n",
    "Examples\n",
    "\n",
    "censor_string(\"Today is a Wednesday!\", [\"Today\", \"a\"], \"-\") ➞ \"----- is - Wednesday!\"\n",
    "\n",
    "censor_string(\"The cow jumped over the moon.\", [\"cow\", \"over\"], \"*\"), \"The *** jumped **** the moon.\")\n",
    "\n",
    "censor_string(\"Why did the chicken cross the road?\", [\"Did\", \"chicken\", \"road\"], \"*\") ➞ \"Why *** the ******* cross the ****?\""
   ]
  },
  {
   "cell_type": "code",
   "execution_count": 2,
   "id": "bc63389e-38e0-49a2-bc4b-167d9f112d95",
   "metadata": {},
   "outputs": [
    {
     "name": "stdout",
     "output_type": "stream",
     "text": [
      "censor_string(Today is a Wednesday!, ['Today', 'a'], -) ➞ -----is-Wednesday!\n",
      "censor_string(The cow jumped over the moon., ['cow', 'over'], *) ➞ The***jumped****themoon.\n",
      "censor_string(Why did the chicken cross the road ?, ['Did', 'chicken', 'road'], *) ➞ Why***the*******crossthe****?\n"
     ]
    }
   ],
   "source": [
    "def censor_string(s1, s2, l):\n",
    "    a = []\n",
    "    for i in s1.split():\n",
    "        if i.title() in s2 or i.lower() in s2 or i.upper() in s2:\n",
    "            a.append(l*len(i))\n",
    "        else:\n",
    "            a.append(i)\n",
    "    print(\"censor_string({}, {}, {}) ➞ {}\".format(s1,s2,l, \"\".join(a)))\n",
    "censor_string(\"Today is a Wednesday!\", [\"Today\", \"a\"], \"-\")\n",
    "censor_string(\"The cow jumped over the moon.\", [\"cow\", \"over\"], \"*\")\n",
    "censor_string(\"Why did the chicken cross the road ?\", [\"Did\", \"chicken\", \"road\"], \"*\")"
   ]
  },
  {
   "cell_type": "markdown",
   "id": "1ad8ef34-ae59-43cb-a091-e2a977c2f766",
   "metadata": {},
   "source": [
    "4.In mathematics a Polydivisible Number (or magic number) is a number in a given number base with digits abcde... that has the following properties:\n",
    "\n",
    "-  Its first digit a is not 0.\n",
    "\n",
    "- The number formed by its first two digits ab is a multiple of 2.\n",
    "\n",
    "- The number formed by its first three digits abc is a multiple of 3.\n",
    "\n",
    "- The number formed by its first four digits abcd is a multiple of 4.\n",
    "\n",
    "Create a function which takes an integer n and returns True if the given number is a Polydivisible Number and False otherwise.\n",
    "\n",
    "Examples\n",
    "\n",
    "is_polydivisible(1232) ➞ True\n",
    "\n",
    "1     / 1 = 1\n",
    "\n",
    "12    / 2 = 6\n",
    "\n",
    "123   / 3 = 41\n",
    "\n",
    "1232  / 4 = 308\n",
    "\n",
    "is_polydivisible(123220 ) ➞ False\n",
    "\n",
    "1   / 1 = 1\n",
    "\n",
    "12   / 2 = 6\n",
    "\n",
    "123   / 3 = 41\n",
    "\n",
    "1232   / 4 = 308\n",
    "\n",
    "12322   / 5 = 2464.4         Not a Whole Number\n",
    "\n",
    "123220   /6 = 220536.333...  Not a Whole Number"
   ]
  },
  {
   "cell_type": "code",
   "execution_count": 11,
   "id": "d5eeccf2-5e2f-48d2-8adf-b908c5e32272",
   "metadata": {},
   "outputs": [
    {
     "name": "stdout",
     "output_type": "stream",
     "text": [
      "is_polydivisible(1232) ➞ True\n",
      "is_polydivisible(123220) ➞ False\n"
     ]
    }
   ],
   "source": [
    "def is_polydivisible(n):\n",
    "    nt = str(n)\n",
    "    for i in range(len(nt)):\n",
    "        if(int(nt[:i+1])%(i+1) == 0):\n",
    "            a=True\n",
    "        else:\n",
    "            a=False\n",
    "            break        \n",
    "    print(\"is_polydivisible({}) ➞ {}\".format(n,a))\n",
    "is_polydivisible(1232)\n",
    "is_polydivisible(123220)"
   ]
  },
  {
   "cell_type": "markdown",
   "id": "6afa9408-de6d-48be-8d9f-267bc9109a13",
   "metadata": {},
   "source": [
    "5.Create a function that takes a list of numbers and returns the sum of all prime numbers in the list.\n",
    "\n",
    "Examples\n",
    "\n",
    "sum_primes([1, 2, 3, 4, 5, 6, 7, 8, 9, 10]) ➞ 17\n",
    "\n",
    "sum_primes([2, 3, 4, 11, 20, 50, 71]) ➞ 87\n",
    "\n",
    "sum_primes([]) ➞ None"
   ]
  },
  {
   "cell_type": "code",
   "execution_count": 15,
   "id": "535a6fa0-dc44-47b3-8987-fba987a84cd4",
   "metadata": {},
   "outputs": [
    {
     "name": "stdout",
     "output_type": "stream",
     "text": [
      "sum_primes([1, 2, 3, 4, 5, 6, 7, 8, 9, 10]) ➞ 17\n",
      "sum_primes([2, 3, 4, 11, 20, 50, 71]) ➞ 87\n",
      "sum_primes([]) ➞ None\n"
     ]
    }
   ],
   "source": [
    "def sum_primes(l):\n",
    "    s = 0\n",
    "    for n in l:  \n",
    "        if n > 1:  \n",
    "            for i in range(2,n):  \n",
    "                if (n % i) == 0:  \n",
    "                    break  \n",
    "            else:  \n",
    "                s+=n\n",
    "    if s < 1:\n",
    "        print(\"sum_primes(\" + str(l) + \") ➞ \" + \"None\")\n",
    "    else:\n",
    "        print(\"sum_primes(\" + str(l) + \") ➞ \" + str(s))        \n",
    "sum_primes([1, 2, 3, 4, 5, 6, 7, 8, 9, 10])\n",
    "sum_primes([2, 3, 4, 11, 20, 50, 71])\n",
    "sum_primes([])"
   ]
  },
  {
   "cell_type": "code",
   "execution_count": null,
   "id": "3ff34b86-ce77-4c63-9261-38fde99267ea",
   "metadata": {},
   "outputs": [],
   "source": []
  }
 ],
 "metadata": {
  "kernelspec": {
   "display_name": "Python 3",
   "language": "python",
   "name": "python3"
  },
  "language_info": {
   "codemirror_mode": {
    "name": "ipython",
    "version": 3
   },
   "file_extension": ".py",
   "mimetype": "text/x-python",
   "name": "python",
   "nbconvert_exporter": "python",
   "pygments_lexer": "ipython3",
   "version": "3.8.8"
  }
 },
 "nbformat": 4,
 "nbformat_minor": 5
}
