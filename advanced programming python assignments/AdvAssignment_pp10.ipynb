{
 "cells": [
  {
   "cell_type": "markdown",
   "id": "4e36572b-a43f-4549-9415-a340ee8b7861",
   "metadata": {},
   "source": [
    "1.Create a function that takes the width, height and character and returns a picture frame as a 2D list.\n",
    "\n",
    "Examples\n",
    "\n",
    "get_frame(4, 5, \"#\") ➞ [\n",
    "  [\"####\"],\n",
    "  [\"#  #\"],\n",
    "  [\"#  #\"],\n",
    "  [\"#  #\"],\n",
    "  [\"####\"]\n",
    "]\n",
    "\n",
    "Frame is 4 characters wide and 5 characters tall.\n",
    "\n",
    "get_frame(10, 3, \"*\") ➞ [\n",
    "  [\"**********\"],\n",
    "  [\"*        *\"],\n",
    "  [\"**********\"]\n",
    "]\n",
    "\n",
    "Frame is 10 characters and wide and 3 characters tall.\n",
    "\n",
    "get_frame(2, 5, \"0\") ➞ \"invalid\"\n",
    "\n",
    "Frame's width is not more than 2."
   ]
  },
  {
   "cell_type": "code",
   "execution_count": 9,
   "id": "bfb02e20-de81-49b2-9a0e-8b3bde2b2e56",
   "metadata": {},
   "outputs": [
    {
     "name": "stdout",
     "output_type": "stream",
     "text": [
      "get_frame(4, 5, #) ➞ \n",
      "['####']\n",
      "['#  #']\n",
      "['#  #']\n",
      "['#  #']\n",
      "['####']\n",
      "\n",
      "get_frame(10, 3, *) ➞ \n",
      "['**********']\n",
      "['*        *']\n",
      "['**********']\n",
      "\n",
      "get_frame(2, 5, 0) ➞ \n",
      "invalid\n",
      "\n"
     ]
    }
   ],
   "source": [
    "def get_frame(w,h,c):\n",
    "    print(\"get_frame({}, {}, {}) ➞ \".format(w,h,c))\n",
    "    if w <= 2:\n",
    "        print(\"invalid\")\n",
    "    else:\n",
    "        l = []\n",
    "        for hh in range(h):\n",
    "            if hh == 0 or hh == h-1:\n",
    "                l.append([w*c])\n",
    "            else:\n",
    "                l.append([c+\" \"*(w-2)+c])\n",
    "        for i in l:\n",
    "            print(i)\n",
    "    print()\n",
    "get_frame(4, 5, \"#\")\n",
    "get_frame(10, 3, \"*\")\n",
    "get_frame(2, 5, \"0\")"
   ]
  },
  {
   "cell_type": "markdown",
   "id": "8840b238-c935-499f-8504-4afb61794ae3",
   "metadata": {},
   "source": [
    "2.Write three functions:\n",
    "\n",
    "  1. boolean_and\n",
    "  \n",
    "  2. boolean_or\n",
    "\n",
    "  3. boolean_xor\n",
    "\n",
    "These functions should evaluate a list of True and False values, starting from the leftmost element and evaluating pairwise.\n",
    "\n",
    "Examples\n",
    "\n",
    "boolean_and([True, True, False, True]) ➞ False\n",
    "\n",
    "[True, True, False, True] => [True, False, True] => [False, True] => False\n",
    "\n",
    "boolean_or([True, True, False, False]) ➞ True\n",
    "\n",
    "[True, True, False, True] => [True, False, False] => [True, False] => True\n",
    "\n",
    "boolean_xor([True, True, False, False]) ➞ False\n",
    "\n",
    "[True, True, False, False] => [False, False, False] => [False, False] => False"
   ]
  },
  {
   "cell_type": "code",
   "execution_count": 13,
   "id": "736a3d63-d25a-4c35-a5af-eb9830f2d495",
   "metadata": {},
   "outputs": [
    {
     "name": "stdout",
     "output_type": "stream",
     "text": [
      "boolean_and([True, True, False, True]) ➞ False\n",
      "boolean_or([True, True, False, False]) ➞ True\n",
      "boolean_xor([True, True, False, False]) ➞ False\n"
     ]
    }
   ],
   "source": [
    "def boolean_and(l):\n",
    "    lc = l.copy()\n",
    "    while len(l) != 1:\n",
    "        x = l.pop(0)\n",
    "        y = l.pop(0)\n",
    "        l.insert(0,(x and y))\n",
    "    print(\"boolean_and({}) ➞ {}\".format(lc,l[0]))\n",
    "    \n",
    "def boolean_or(l):\n",
    "    lc = l.copy()\n",
    "    while len(l) != 1:\n",
    "        x = l.pop(0)\n",
    "        y = l.pop(0)\n",
    "        l.insert(0,(x or y))\n",
    "    print(\"boolean_or({}) ➞ {}\".format(lc,l[0]))\n",
    "    \n",
    "def boolean_xor(l):\n",
    "    lc = l.copy()\n",
    "    while len(l) != 1:\n",
    "        x = l.pop(0)\n",
    "        y = l.pop(0)\n",
    "        l.insert(0,(x ^ y))\n",
    "    print(\"boolean_xor({}) ➞ {}\".format(lc,l[0]))\n",
    "    \n",
    "boolean_and([True, True, False, True])\n",
    "boolean_or([True, True, False, False])\n",
    "boolean_xor([True, True, False, False])"
   ]
  },
  {
   "cell_type": "markdown",
   "id": "39100b83-295f-4723-b0b5-c5aff6b95059",
   "metadata": {},
   "source": [
    "3.Create a function that creates a box based on dimension n.\n",
    "\n",
    "Examples\n",
    "\n",
    "make_box(5) ➞ [\n",
    "  \"#####\",\n",
    "  \"#   #\",\n",
    "  \"#   #\",\n",
    "  \"#   #\",\n",
    "  \"#####\"\n",
    "]\n",
    "\n",
    "make_box(3) ➞ [\n",
    "  \"###\",\n",
    "  \"# #\",\n",
    "  \"###\"\n",
    "]\n",
    "\n",
    "make_box(2) ➞ [\n",
    "  \"##\",\n",
    "  \"##\"\n",
    "]\n",
    "\n",
    "make_box(1) ➞ [\n",
    "  \"#\"\n",
    "]"
   ]
  },
  {
   "cell_type": "code",
   "execution_count": 14,
   "id": "9c397549-f81e-4ad0-902f-1ff67ddfef0e",
   "metadata": {},
   "outputs": [
    {
     "name": "stdout",
     "output_type": "stream",
     "text": [
      "get_frame(5) ➞ [\n",
      "#####\n",
      "#   #\n",
      "#   #\n",
      "#   #\n",
      "#####\n",
      "]\n",
      "get_frame(2) ➞ [\n",
      "##\n",
      "##\n",
      "]\n",
      "get_frame(1) ➞ [\n",
      "#\n",
      "]\n"
     ]
    }
   ],
   "source": [
    "def make_box(n):\n",
    "    print(\"get_frame({}) ➞ [\".format(n))\n",
    "    l = []\n",
    "    for i in range(n):\n",
    "        if i == 0 or i == n-1:\n",
    "            l.append('#'*n)\n",
    "        else:\n",
    "            l.append('#'+' '*(n-2)+'#')\n",
    "    for i in l:\n",
    "        print(i)\n",
    "    print(']')\n",
    "make_box(5)   \n",
    "make_box(2)\n",
    "make_box(1)"
   ]
  },
  {
   "cell_type": "markdown",
   "id": "d605e2e2-ab88-4c98-9d5e-a0919823826b",
   "metadata": {},
   "source": [
    "4.Given a common phrase, return False if any individual word in the phrase contains duplicate letters. Return True otherwise.\n",
    "\n",
    "Examples\n",
    "\n",
    "no_duplicate_letters(\"Fortune favours the bold.\") ➞ True\n",
    "\n",
    "no_duplicate_letters(\"You can lead a horse to water, but you can't make him drink.\") ➞ True\n",
    "\n",
    "no_duplicate_letters(\"Look before you leap.\") ➞ False\n",
    "\n",
    "Duplicate letters in \"Look\" and \"before\".\n",
    "\n",
    "no_duplicate_letters(\"An apple a day keeps the doctor away.\") ➞ False\n",
    "\n",
    "Duplicate letters in \"apple\", \"keeps\", \"doctor\", and \"away\"."
   ]
  },
  {
   "cell_type": "code",
   "execution_count": 17,
   "id": "da014643-d360-413d-a34c-a93671a4fd34",
   "metadata": {},
   "outputs": [
    {
     "name": "stdout",
     "output_type": "stream",
     "text": [
      "no_duplicate_letters(Fortune favours the bold.) ➞ True\n",
      "no_duplicate_letters(You can lead a horse to water, but you can't make him drink.) ➞ True\n",
      "no_duplicate_letters(Look before you leap.) ➞ False\n",
      "no_duplicate_letters(An apple a day keeps the doctor away.) ➞ False\n"
     ]
    }
   ],
   "source": [
    "def no_duplicate_letters(s):\n",
    "    a = False\n",
    "    l=list(s.split(\" \"))\n",
    "    for i in l:\n",
    "        if len(i) == len(set(i)):\n",
    "            a = True\n",
    "        else:\n",
    "            a = False\n",
    "            break\n",
    "    print(\"no_duplicate_letters({}) ➞ {}\".format(s,a))\n",
    "no_duplicate_letters(\"Fortune favours the bold.\")\n",
    "no_duplicate_letters(\"You can lead a horse to water, but you can't make him drink.\")\n",
    "no_duplicate_letters(\"Look before you leap.\")\n",
    "no_duplicate_letters(\"An apple a day keeps the doctor away.\")"
   ]
  },
  {
   "cell_type": "markdown",
   "id": "0317f5da-d062-4835-96cf-3b80ee03aa66",
   "metadata": {},
   "source": [
    "5.Write a regular expression that will match the states that voted yes to President Trump's impeachment. You must use RegEx positive lookahead.\n",
    "\n",
    "Example\n",
    "\n",
    "txt = \"Texas = no, California = yes, Florida = yes, Michigan = no\"\n",
    "\n",
    "pattern = \"yourregularexpressionhere\"\n",
    "\n",
    "re.findall(pattern, txt) ➞ [\"California\", \"Florida\"]"
   ]
  },
  {
   "cell_type": "code",
   "execution_count": 18,
   "id": "1c131701-2f14-4828-bfcb-8d1b177e4dae",
   "metadata": {},
   "outputs": [
    {
     "name": "stdout",
     "output_type": "stream",
     "text": [
      "re.findall(pattern, txt) ➞ ['California', 'Florida']\n"
     ]
    }
   ],
   "source": [
    "import re\n",
    "txt = \"Texas = no, California = yes, Florida = yes, Michigan = no\"\n",
    "pattern = r'\\w+(?=\\s=\\syes*)'\n",
    "print(\"re.findall(pattern, txt) ➞ {}\".format( re.findall(pattern,txt)))"
   ]
  },
  {
   "cell_type": "code",
   "execution_count": null,
   "id": "983999d0-2410-4611-ab57-dcb002046505",
   "metadata": {},
   "outputs": [],
   "source": []
  }
 ],
 "metadata": {
  "kernelspec": {
   "display_name": "Python 3",
   "language": "python",
   "name": "python3"
  },
  "language_info": {
   "codemirror_mode": {
    "name": "ipython",
    "version": 3
   },
   "file_extension": ".py",
   "mimetype": "text/x-python",
   "name": "python",
   "nbconvert_exporter": "python",
   "pygments_lexer": "ipython3",
   "version": "3.8.8"
  }
 },
 "nbformat": 4,
 "nbformat_minor": 5
}
