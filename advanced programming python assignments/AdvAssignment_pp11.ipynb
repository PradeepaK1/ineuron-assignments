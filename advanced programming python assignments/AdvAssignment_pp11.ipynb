{
 "cells": [
  {
   "cell_type": "markdown",
   "id": "1d1e6273-fa1d-4cfb-89e9-82f630feebe3",
   "metadata": {},
   "source": [
    "1.Create a function that takes a list and returns a new list containing only prime numbers.\n",
    "\n",
    "Examples\n",
    "\n",
    "filter_primes([7, 9, 3, 9, 10, 11, 27]) ➞ [7, 3, 11]\n",
    "\n",
    "filter_primes([10007, 1009, 1007, 27, 147, 77, 1001, 70]) ➞ [10007, 1009]\n",
    "\n",
    "filter_primes([1009, 10, 10, 10, 3, 33, 9, 4, 1, 61, 63, 69, 1087, 1091, 1093, 1097]) ➞ [1009, 3, 61, 1087, 1091, 1093, 1097]"
   ]
  },
  {
   "cell_type": "code",
   "execution_count": 3,
   "id": "f43ecc86-08f0-49fe-b956-ae21d0b26097",
   "metadata": {},
   "outputs": [
    {
     "name": "stdout",
     "output_type": "stream",
     "text": [
      "filter_primes([7, 9, 3, 9, 10, 11, 27]) ➞ [7, 3, 11]\n",
      "filter_primes([10007, 1009, 1007, 27, 147, 77, 1001, 70]) ➞ [10007, 1009]\n",
      "filter_primes([1009, 10, 10, 10, 3, 33, 9, 4, 1, 61, 63, 69, 1087, 1091, 1093, 1097]) ➞ [1009, 3, 61, 1087, 1091, 1093, 1097]\n"
     ]
    }
   ],
   "source": [
    "def filter_primes(l):\n",
    "    a=[]\n",
    "    for n in l:\n",
    "        if n > 1:\n",
    "            for i in range(2, int(n/2)+1):\n",
    "                if (n % i) == 0:\n",
    "                    break\n",
    "            else:\n",
    "                a.append(n)\n",
    "\n",
    "        else:\n",
    "            continue\n",
    "    print(\"filter_primes({}) ➞ {}\".format(l,a))\n",
    "filter_primes([7, 9, 3, 9, 10, 11, 27]) \n",
    "filter_primes([10007, 1009, 1007, 27, 147, 77, 1001, 70])\n",
    "filter_primes([1009, 10, 10, 10, 3, 33, 9, 4, 1, 61, 63, 69, 1087, 1091, 1093, 1097]) "
   ]
  },
  {
   "cell_type": "markdown",
   "id": "9be040af-b20a-4d4b-8eef-68c6ba6e0d37",
   "metadata": {},
   "source": [
    "2.Once a water balloon pops, is soaks the area around it. The ground gets drier the further away you travel from the balloon.\n",
    "\n",
    "The effect of a water balloon popping can be modeled using a list. Create a function that takes a list which takes the pre-pop state and returns the state after the balloon is popped. The pre-pop state will contain at most a single balloon, whose size is represented by the only non-zero element.\n",
    "\n",
    "Examples\n",
    "\n",
    "pop([0, 0, 0, 0, 4, 0, 0, 0, 0]) ➞ [0, 1, 2, 3, 4, 3, 2, 1, 0]\n",
    "\n",
    "pop([0, 0, 0, 3, 0, 0, 0]) ➞ [0, 1, 2, 3, 2, 1, 0]\n",
    "\n",
    "pop([0, 0, 2, 0, 0]) ➞ [0, 1, 2, 1, 0]\n",
    "\n",
    "pop([0]) ➞ [0]"
   ]
  },
  {
   "cell_type": "code",
   "execution_count": 5,
   "id": "6f4e3c57-23cc-4ea4-b6b5-121e8df694a8",
   "metadata": {},
   "outputs": [
    {
     "name": "stdout",
     "output_type": "stream",
     "text": [
      "pop([0, 0, 0, 0, 4, 0, 0, 0, 0]) ➞ [0, 1, 2, 3, 4, 3, 2, 1, 0]\n",
      "pop([0, 0, 0, 3, 0, 0, 0]) ➞ [0, 1, 2, 3, 2, 1, 0]\n",
      "pop([0, 0, 2, 0, 0]) ➞ [0, 1, 2, 1, 0]\n",
      "pop([0]) ➞ [0]\n"
     ]
    }
   ],
   "source": [
    "def pop(l):\n",
    "    n=sorted(l,reverse=True)[0]\n",
    "    a=[]\n",
    "    if n==0:\n",
    "        a.append(0)\n",
    "    else:\n",
    "        a.extend([i for i in range((len(l)-1)//2)])\n",
    "        a.append((n))\n",
    "        a.extend([((len(l)-2)//2)-x for x in range((len(l)-1)//2)])\n",
    "    print(\"pop({}) ➞ {}\".format(l,a))\n",
    "pop([0, 0, 0, 0, 4, 0, 0, 0, 0]) \n",
    "pop([0, 0, 0, 3, 0, 0, 0])\n",
    "pop([0, 0, 2, 0, 0]) \n",
    "pop([0]) "
   ]
  },
  {
   "cell_type": "markdown",
   "id": "14d8bebc-3e41-4cfe-b956-a2d91404f694",
   "metadata": {},
   "source": [
    "3.\"Loves me, loves me not\" is a traditional game in which a person plucks off all the petals of a flower one by one, saying the phrase \"Loves me\" and \"Loves me not\" when determining whether the one that they love, loves them back.\n",
    "\n",
    "Given a number of petals, return a string which repeats the phrases \"Loves me\" and \"Loves me not\" for every alternating petal, and return the last phrase in all caps. Remember to put a comma and space between phrases.\n",
    "\n",
    "Examples\n",
    "\n",
    "loves_me(3) ➞ \"Loves me, Loves me not, LOVES ME\"\n",
    "\n",
    "loves_me(6) ➞ \"Loves me, Loves me not, Loves me, Loves me not, Loves me, LOVES ME NOT\"\n",
    "\n",
    "loves_me(1) ➞ \"LOVES ME\""
   ]
  },
  {
   "cell_type": "code",
   "execution_count": 8,
   "id": "8e0bfd26-006b-4f95-8d76-4f2e5f6a7406",
   "metadata": {},
   "outputs": [
    {
     "name": "stdout",
     "output_type": "stream",
     "text": [
      "loves_me(3) ➞ Loves me, Loves me not, LOVES ME\n",
      "loves_me(6) ➞ Loves me, Loves me not, Loves me, Loves me not, Loves me, LOVES ME NOT\n",
      "loves_me(1) ➞ LOVES ME\n"
     ]
    }
   ],
   "source": [
    "def loves_me(n):\n",
    "    a=[]\n",
    "    for i in range(n):\n",
    "        if i%2==0:\n",
    "            a.append(\"Loves me\")\n",
    "        else:\n",
    "            a.append(\"Loves me not\")\n",
    "    a[-1]=a[-1].upper()\n",
    "    print(\"loves_me({}) ➞ {}\".format(n,(\", \".join(a))))\n",
    "loves_me(3) \n",
    "loves_me(6) \n",
    "loves_me(1) "
   ]
  },
  {
   "cell_type": "markdown",
   "id": "fa58598f-dcdc-428d-a6f6-fbc49b5f0dc5",
   "metadata": {},
   "source": [
    "4.Write a function that sorts each string in a list by the letter in alphabetic ascending order (a-z).\n",
    "\n",
    "Examples\n",
    "\n",
    "sort_by_letter([\"932c\", \"832u32\", \"2344b\"])\n",
    "➞ [\"2344b\", \"932c\", \"832u32\"]\n",
    "\n",
    "sort_by_letter([\"99a\", \"78b\", \"c2345\", \"11d\"])\n",
    "➞ [\"99a\", \"78b\", \"c2345\", \"11d\"]\n",
    "\n",
    "sort_by_letter([\"572z\", \"5y5\", \"304q2\"])\n",
    "➞ [\"304q2\", \"5y5\", \"572z\"]\n",
    "\n",
    "sort_by_letter([])\n",
    "➞ []"
   ]
  },
  {
   "cell_type": "code",
   "execution_count": 10,
   "id": "9084e627-d456-45bd-8f0c-7385d68ab52d",
   "metadata": {},
   "outputs": [
    {
     "name": "stdout",
     "output_type": "stream",
     "text": [
      "sort_by_letter(['932c', '832u32', '2344b'])\n",
      "➞ ['2344b', '932c', '832u32']\n",
      "sort_by_letter(['99a', '78b', 'c2345', '11d'])\n",
      "➞ ['99a', '78b', 'c2345', '11d']\n",
      "sort_by_letter(['572z', '5y5', '304q2'])\n",
      "➞ ['304q2', '5y5', '572z']\n",
      "sort_by_letter([])\n",
      "➞ []\n"
     ]
    }
   ],
   "source": [
    "def sort_by_letter(l):\n",
    "    t=[]\n",
    "    a=[]\n",
    "    for i in l:\n",
    "        for j in i:\n",
    "            if j.isalpha():\n",
    "                t.append(j)\n",
    "    t.sort()\n",
    "    for j in t:\n",
    "        for i in l:\n",
    "            if j in i:\n",
    "                a.append(i)\n",
    "    print(\"sort_by_letter({})\".format(l))\n",
    "    print(\"➞ {}\".format(a))\n",
    "sort_by_letter([\"932c\", \"832u32\", \"2344b\"])\n",
    "sort_by_letter([\"99a\", \"78b\", \"c2345\", \"11d\"])\n",
    "sort_by_letter([\"572z\", \"5y5\", \"304q2\"])\n",
    "sort_by_letter([])"
   ]
  },
  {
   "cell_type": "markdown",
   "id": "ddd38e78-4846-4368-8d0a-7451e1c246af",
   "metadata": {},
   "source": [
    "5.There are three cups on a table, at positions A, B, and C. At the start, there is a ball hidden under the cup at position B.\n",
    "\n",
    "However, I perform several swaps on the cups, which is notated as two letters. For example, if I swap the cups at positions A and B, I could notate this as AB or BA.\n",
    "\n",
    "Create a function that returns the letter position that the ball is at, once I finish swapping the cups. The swaps will be given to you as a list.\n",
    "\n",
    "Example\n",
    "\n",
    "cup_swapping([\"AB\", \"CA\", \"AB\"]) ➞ \"C\"\n",
    "\n",
    "Ball begins at position B.\n",
    "\n",
    "Cups A and B swap, so the ball is at position A.\n",
    "\n",
    "Cups C and A swap, so the ball is at position C.\n",
    "\n",
    "Cups A and B swap, but the ball is at position C, so it doesn't move."
   ]
  },
  {
   "cell_type": "code",
   "execution_count": 11,
   "id": "75b1bc3b-087f-4b09-bb9f-a0ee1b30497c",
   "metadata": {},
   "outputs": [
    {
     "name": "stdout",
     "output_type": "stream",
     "text": [
      "cup_swapping(['AB', 'CA', 'AB']) ➞ C\n"
     ]
    }
   ],
   "source": [
    "def cup_swapping(l):\n",
    "    b='B'\n",
    "    for i in l:\n",
    "        if b in i:\n",
    "            b=i.replace(b,\"\")\n",
    "    print(\"cup_swapping({}) ➞ {}\".format(l,b))\n",
    "cup_swapping([\"AB\", \"CA\", \"AB\"]) "
   ]
  },
  {
   "cell_type": "code",
   "execution_count": null,
   "id": "46b588ea-b6df-4adf-847b-f778b3e85b32",
   "metadata": {},
   "outputs": [],
   "source": []
  }
 ],
 "metadata": {
  "kernelspec": {
   "display_name": "Python 3",
   "language": "python",
   "name": "python3"
  },
  "language_info": {
   "codemirror_mode": {
    "name": "ipython",
    "version": 3
   },
   "file_extension": ".py",
   "mimetype": "text/x-python",
   "name": "python",
   "nbconvert_exporter": "python",
   "pygments_lexer": "ipython3",
   "version": "3.8.8"
  }
 },
 "nbformat": 4,
 "nbformat_minor": 5
}
