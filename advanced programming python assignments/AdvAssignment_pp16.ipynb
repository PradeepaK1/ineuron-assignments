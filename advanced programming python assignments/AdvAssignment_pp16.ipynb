{
 "cells": [
  {
   "cell_type": "markdown",
   "id": "d52d4e28-9364-47cd-a31b-43a5b92d6ffc",
   "metadata": {},
   "source": [
    "1.Rondo Form is a type of musical structure, in which there is a recurring theme/refrain, notated as A. Here are the rules for valid rondo forms:\n",
    "\n",
    "   - Rondo forms always start and end with an A section.\n",
    "   \n",
    "   - In between the A sections, there should be contrasting sections notated as B, then C, then D, etc... No letter should be skipped.\n",
    "   \n",
    "   - There shouldn't be any repeats in the sequence (such as ABBACCA).\n",
    "\n",
    "Create a function which validates whether a given string is a valid Rondo Form.\n",
    "\n",
    "Examples\n",
    "\n",
    "valid_rondo(\"ABACADAEAFAGAHAIAJA\") ➞ True\n",
    "\n",
    "valid_rondo(\"ABA\") ➞ True\n",
    "\n",
    "valid_rondo(\"ABBACCA\") ➞ False\n",
    "\n",
    "valid_rondo(\"ACAC\") ➞ False\n",
    "\n",
    "valid_rondo(\"A\") ➞ False"
   ]
  },
  {
   "cell_type": "code",
   "execution_count": 1,
   "id": "5f40cae6-5219-4941-b3f4-5ba358ceaa77",
   "metadata": {},
   "outputs": [
    {
     "name": "stdout",
     "output_type": "stream",
     "text": [
      "valid_rondo(ABACADAEAFAGAHAIAJA) ➞ True\n",
      "valid_rondo(ABA) ➞ True\n",
      "valid_rondo(ABBACCA) ➞ False\n",
      "valid_rondo(ACAC) ➞ False\n",
      "valid_rondo(A) ➞ False\n"
     ]
    }
   ],
   "source": [
    "def valid_rondo(s):\n",
    "    ss = list(s.replace('A',''))\n",
    "    a = False\n",
    "    if len(ss) == 1:\n",
    "            a= True\n",
    "    else:\n",
    "        for i in range(len(ss)-1):\n",
    "            if ord(ss[i]) < ord(ss[i+1]):\n",
    "                a= True\n",
    "            else:\n",
    "                a = False\n",
    "                break\n",
    "    print(\"valid_rondo({}) ➞ {}\".format(s,a))\n",
    "valid_rondo(\"ABACADAEAFAGAHAIAJA\")\n",
    "valid_rondo(\"ABA\")\n",
    "valid_rondo(\"ABBACCA\")\n",
    "valid_rondo(\"ACAC\")\n",
    "valid_rondo(\"A\")"
   ]
  },
  {
   "cell_type": "markdown",
   "id": "93ea5e5b-761b-4c9a-ae37-4245407d7c55",
   "metadata": {},
   "source": [
    "2.Create a function that returns the whole of the first sentence which contains a specific word. Include the full stop at the end of the sentence.\n",
    "\n",
    "Examples\n",
    "\n",
    "txt = \"I have a cat. I have a mat. Things are going swell.\"\n",
    "\n",
    "sentence_searcher(txt, \"have\") ➞ \"I have a cat.\"\n",
    "\n",
    "sentence_searcher(txt, \"MAT\") ➞ \"I have a mat.\"\n",
    "\n",
    "sentence_searcher(txt, \"things\") ➞ \"Things are going swell.\"\n",
    "\n",
    "sentence_searcher(txt, \"flat\") ➞ \"\""
   ]
  },
  {
   "cell_type": "code",
   "execution_count": 2,
   "id": "365c527a-b0ed-4954-adf5-3f5862e13e25",
   "metadata": {},
   "outputs": [
    {
     "name": "stdout",
     "output_type": "stream",
     "text": [
      "sentence_searcherI have a cat. I have a mat. Things are going swell., have ➞ I have a cat\n",
      "sentence_searcherI have a cat. I have a mat. Things are going swell., MAT ➞ I have a mat\n",
      "sentence_searcherI have a cat. I have a mat. Things are going swell., things ➞ Things are going swell.\n",
      "sentence_searcherI have a cat. I have a mat. Things are going swell., flat ➞ \"\"\n"
     ]
    }
   ],
   "source": [
    "def sentence_searcher(s, t):\n",
    "    a = '\"\"'\n",
    "    for i in s.split(\". \"):\n",
    "        if len(i.lower().replace(t.lower(),'')) != len(i):\n",
    "            a = i\n",
    "            break\n",
    "    print(\"sentence_searcher{}, {} ➞ {}\".format(s,t,a))\n",
    "txt = \"I have a cat. I have a mat. Things are going swell.\"\n",
    "sentence_searcher(txt, \"have\")\n",
    "sentence_searcher(txt, \"MAT\")\n",
    "sentence_searcher(txt, \"things\")\n",
    "sentence_searcher(txt, \"flat\")"
   ]
  },
  {
   "cell_type": "markdown",
   "id": "2c576dce-8d6a-4983-867c-bf361c850857",
   "metadata": {},
   "source": [
    "3.Given a number, find the \"round \"of each digit of the number. An integer is called \"round\" if all its digits except the leftmost (most significant) are equal to zero.\n",
    "\n",
    "    - Round numbers: 4000, 1, 9, 800, 90\n",
    "  \n",
    "    - Not round numbers: 110, 707, 222, 1001\n",
    "\n",
    "Create a function that takes a number and returns the \"round\" of each digit (except if the digit is zero) as a string. Check out the following examples for more clarification.\n",
    "\n",
    "Examples\n",
    "\n",
    "sum_round(101) ➞ \"1 100\"\n",
    "\n",
    "sum_round(1234) ➞ \"4 30 200 1000\"\n",
    "\n",
    "sum_round(54210) ➞ \"10 200 4000 50000\""
   ]
  },
  {
   "cell_type": "code",
   "execution_count": 4,
   "id": "2b745716-121e-4598-81f1-ce557193338c",
   "metadata": {},
   "outputs": [
    {
     "name": "stdout",
     "output_type": "stream",
     "text": [
      "sum_round(101) ➞ 1 100\n",
      "sum_round(1234) ➞ 4 30 200 1000\n",
      "sum_round(54210) ➞ 10 200 4000 50000\n"
     ]
    }
   ],
   "source": [
    "def sum_round(n):\n",
    "    n = str(n)\n",
    "    a = []\n",
    "    for i in range(len(n)):\n",
    "        if n[i] != '0':\n",
    "            a.append(n[i]+len(n[i+1:])*'0')\n",
    "    r=\" \".join(a[::-1])\n",
    "    print(\"sum_round({}) ➞ {}\".format(n,r))\n",
    "sum_round(101)\n",
    "sum_round(1234)\n",
    "sum_round(54210)"
   ]
  },
  {
   "cell_type": "markdown",
   "id": "8b4caf8f-76a3-4b4e-ba0d-c9152f122524",
   "metadata": {},
   "source": [
    "4.Your task, is to create N x N multiplication table, of size n provided in parameter.\n",
    "\n",
    "For example, when n is 5, the multiplication table is:\n",
    "\n",
    "- 1, 2, 3, 4, 5\n",
    "  \n",
    "- 2, 4, 6, 8, 10\n",
    "   \n",
    "- 3, 6, 9, 12, 15\n",
    "\n",
    "- 4, 8, 12, 16, 20\n",
    "\n",
    "- 5, 10, 15, 20, 25\n",
    "\n",
    "This example will result in:\n",
    "\n",
    "[[1, 2, 3, 4, 5], [2, 4, 6, 8, 10], [3, 6, 9, 12, 15], [4, 8, 12, 16, 20], [5, 10, 15, 20, 25]]\n",
    "\n",
    "Examples\n",
    "\n",
    "multiplication_table(1) ➞ [[1]]\n",
    "\n",
    "multiplication_table(3) ➞ [[1, 2, 3], [2, 4, 6], [3, 6, 9]]"
   ]
  },
  {
   "cell_type": "code",
   "execution_count": 7,
   "id": "4ba0f9ab-e9f3-4331-afc7-575d2757eab9",
   "metadata": {},
   "outputs": [
    {
     "name": "stdout",
     "output_type": "stream",
     "text": [
      "multiplication_table(5) ➞ [[1, 2, 3, 4, 5], [2, 4, 6, 8, 10], [3, 6, 9, 12, 15], [4, 8, 12, 16, 20], [5, 10, 15, 20, 25]]\n",
      "multiplication_table(1) ➞ [[1]]\n",
      "multiplication_table(3) ➞ [[1, 2, 3], [2, 4, 6], [3, 6, 9]]\n"
     ]
    }
   ],
   "source": [
    "def multiplication_table(n):\n",
    "    a =[]\n",
    "    for i in range(1,n+1):\n",
    "        t = []\n",
    "        for j in range(1,n+1):\n",
    "            t.append(i*j)\n",
    "        a.append(t)\n",
    "    print(\"multiplication_table({}) ➞ {}\".format(n,a))\n",
    "multiplication_table(5)\n",
    "multiplication_table(1)\n",
    "multiplication_table(3) "
   ]
  },
  {
   "cell_type": "markdown",
   "id": "968a3742-7bfa-404b-ad94-61fdc0cb10d0",
   "metadata": {},
   "source": [
    "5.Create a function that returns True if two lines rhyme and False otherwise. For the purposes of this exercise, two lines rhyme if the last word from each sentence contains the same vowels.\n",
    "\n",
    "Examples\n",
    "\n",
    "does_rhyme(\"Sam I am!\", \"Green eggs and ham.\") ➞ True\n",
    "\n",
    "does_rhyme(\"Sam I am!\", \"Green eggs and HAM.\") ➞ True\n",
    "\n",
    "Capitalization and punctuation should not matter.\n",
    "\n",
    "does_rhyme(\"You are off to the races\", \"a splendid day.\") ➞ False\n",
    "\n",
    "does_rhyme(\"and frequently do?\", \"you gotta move.\") ➞ False"
   ]
  },
  {
   "cell_type": "code",
   "execution_count": 10,
   "id": "4e4ce680-1ca6-4c56-afe1-7f6fde8101dd",
   "metadata": {},
   "outputs": [
    {
     "name": "stdout",
     "output_type": "stream",
     "text": [
      "does_rhyme(Sam I am!, Green eggs and ham.) ➞ True\n",
      "does_rhyme(Sam I am!, Green eggs and HAM.) ➞ True\n",
      "does_rhyme(You are off to the races, a splendid day.) ➞ False\n",
      "does_rhyme(and frequently do?, you gotta move.) ➞ False\n"
     ]
    }
   ],
   "source": [
    "def does_rhyme(s,s1):\n",
    "    v = 'aeiou'\n",
    "    a= False\n",
    "    t = [i.lower() for i in s.split(\" \")[-1] if i.lower() in v]\n",
    "    t1 = [i.lower() for i in s1.split(\" \")[-1] if i.lower() in v]\n",
    "    if t == t1:\n",
    "        a = True\n",
    "    print(\"does_rhyme({}, {}) ➞ {}\".format(s,s1,a))\n",
    "does_rhyme(\"Sam I am!\", \"Green eggs and ham.\")\n",
    "does_rhyme(\"Sam I am!\", \"Green eggs and HAM.\")\n",
    "does_rhyme(\"You are off to the races\", \"a splendid day.\")\n",
    "does_rhyme(\"and frequently do?\", \"you gotta move.\")"
   ]
  },
  {
   "cell_type": "code",
   "execution_count": null,
   "id": "b9180668-646a-454c-a1e4-206abf7eb1b7",
   "metadata": {},
   "outputs": [],
   "source": []
  },
  {
   "cell_type": "code",
   "execution_count": null,
   "id": "88b30247-cbe1-4971-a1a3-f558469ecb15",
   "metadata": {},
   "outputs": [],
   "source": []
  }
 ],
 "metadata": {
  "kernelspec": {
   "display_name": "Python 3",
   "language": "python",
   "name": "python3"
  },
  "language_info": {
   "codemirror_mode": {
    "name": "ipython",
    "version": 3
   },
   "file_extension": ".py",
   "mimetype": "text/x-python",
   "name": "python",
   "nbconvert_exporter": "python",
   "pygments_lexer": "ipython3",
   "version": "3.8.8"
  }
 },
 "nbformat": 4,
 "nbformat_minor": 5
}
