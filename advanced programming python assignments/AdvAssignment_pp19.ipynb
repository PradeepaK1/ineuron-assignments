{
 "cells": [
  {
   "cell_type": "markdown",
   "id": "117c61db-9ae0-4ce7-bf9b-2686f93ba64d",
   "metadata": {},
   "source": [
    "1.Create a checker board generator, which takes as inputs n and 2 elements to generate an n x n checkerboard with those two elements as alternating squares.\n",
    "\n",
    "Examples\n",
    "\n",
    "checker_board(2, 7, 6) ➞ [\n",
    "  [7, 6],\n",
    "  [6, 7]\n",
    "]\n",
    "\n",
    "checker_board(3, \"A\", \"B\") ➞ [\n",
    "  [\"A\", \"B\", \"A\"],\n",
    "  [\"B\", \"A\", \"B\"],\n",
    "  [\"A\", \"B\", \"A\"]\n",
    "]\n",
    "\n",
    "checker_board(4, \"c\", \"d\") ➞ [\n",
    "  [\"c\", \"d\", \"c\", \"d\"],\n",
    "  [\"d\", \"c\", \"d\", \"c\"],\n",
    "  [\"c\", \"d\", \"c\", \"d\"],\n",
    "  [\"d\", \"c\", \"d\", \"c\"]\n",
    "]\n",
    "\n",
    "checker_board(4, \"c\", \"c\") ➞ \"invalid\""
   ]
  },
  {
   "cell_type": "code",
   "execution_count": 3,
   "id": "aa0884e6-e19f-4a56-810c-a1e1afc1fbaa",
   "metadata": {},
   "outputs": [
    {
     "name": "stdout",
     "output_type": "stream",
     "text": [
      "checker_board(2, 7, 6) ➞ [[7, 6], [6, 7]]\n",
      "checker_board(3, A, B) ➞ [['A', 'B', 'A'], ['B', 'A', 'B'], ['A', 'B', 'A']]\n",
      "checker_board(4, c, d) ➞ [['c', 'd', 'c', 'd'], ['d', 'c', 'd', 'c'], ['c', 'd', 'c', 'd'], ['d', 'c', 'd', 'c']]\n",
      "checker_board(4, c, c) ➞ Invalid\n"
     ]
    }
   ],
   "source": [
    "def checker_board(n,s,t):\n",
    "    if s != t:\n",
    "        a = [s,t]\n",
    "        r = []\n",
    "        for i in range(n):\n",
    "            r.append([])\n",
    "            for j in range(n):\n",
    "                r[i].append(a[(i+j)%2])\n",
    "    else:\n",
    "        r = 'Invalid'\n",
    "    print(\"checker_board({}, {}, {}) ➞ {}\".format(n,s,t,r))\n",
    "checker_board(2, 7, 6)\n",
    "checker_board(3, \"A\", \"B\")\n",
    "checker_board(4, \"c\", \"d\")\n",
    "checker_board(4, \"c\", \"c\") "
   ]
  },
  {
   "cell_type": "markdown",
   "id": "74b5ee30-bbc1-4503-bf8f-196dceb88242",
   "metadata": {},
   "source": [
    "2.A string is an almost-palindrome if, by changing only one character, you can make it a palindrome. Create a function that returns True if a string is an almost-palindrome and False otherwise.\n",
    "\n",
    "Examples\n",
    "\n",
    "almost_palindrome(\"abcdcbg\") ➞ True\n",
    "\n",
    "Transformed to \"abcdcba\" by changing \"g\" to \"a\".\n",
    "\n",
    "almost_palindrome(\"abccia\") ➞ True\n",
    "\n",
    "Transformed to \"abccba\" by changing \"i\" to \"b\".\n",
    "\n",
    "almost_palindrome(\"abcdaaa\") ➞ False\n",
    "\n",
    "Can't be transformed to a palindrome in exactly 1 turn.\n",
    "\n",
    "almost_palindrome(\"1234312\") ➞ False"
   ]
  },
  {
   "cell_type": "code",
   "execution_count": 4,
   "id": "1451e2e9-f737-4bfb-b8a0-9f514de46f99",
   "metadata": {},
   "outputs": [
    {
     "name": "stdout",
     "output_type": "stream",
     "text": [
      "almost_palindrome(abcdcbg) ➞ True\n",
      "almost_palindrome(abccia) ➞ True\n",
      "almost_palindrome(abcdaaa) ➞ False\n",
      "almost_palindrome(1234312) ➞ False\n"
     ]
    }
   ],
   "source": [
    "def almost_palindrome(s):\n",
    "    r = s[::-1]\n",
    "    c = 0\n",
    "    for i in range(len(s)):\n",
    "        if s[i] != r[i]:\n",
    "            c +=1\n",
    "    a = True if c == 2 else False\n",
    "    print(\"almost_palindrome({}) ➞ {}\".format(s,a))\n",
    "almost_palindrome(\"abcdcbg\")\n",
    "almost_palindrome(\"abccia\")\n",
    "almost_palindrome(\"abcdaaa\")\n",
    "almost_palindrome(\"1234312\")"
   ]
  },
  {
   "cell_type": "markdown",
   "id": "d26280a5-e024-42cb-82df-20e5ff9238aa",
   "metadata": {},
   "source": [
    "3.Create a function that finds how many prime numbers there are, up to the given integer.\n",
    "\n",
    "Examples\n",
    "\n",
    "prime_numbers(10) ➞ 4\n",
    "\n",
    "2, 3, 5 and 7\n",
    "\n",
    "prime_numbers(20) ➞ 8\n",
    "\n",
    "2, 3, 5, 7, 11, 13, 17 and 19\n",
    "\n",
    "prime_numbers(30) ➞ 10\n",
    "\n",
    "2, 3, 5, 7, 11, 13, 17, 19, 23 and 29"
   ]
  },
  {
   "cell_type": "code",
   "execution_count": 5,
   "id": "9bb363cd-746b-4e9a-98cb-a62a048507bd",
   "metadata": {},
   "outputs": [
    {
     "name": "stdout",
     "output_type": "stream",
     "text": [
      "prime_numbers(10) ➞ 4\n",
      "prime_numbers(20) ➞ 8\n",
      "prime_numbers(30) ➞ 10\n"
     ]
    }
   ],
   "source": [
    "def prime_numbers(n):\n",
    "    a = 0\n",
    "    l = [2,3]\n",
    "    for i in range(1,n+1):\n",
    "        if i <= 3 and i > 0:\n",
    "            a = 2 if i==3 else 1 if i ==2 else 0\n",
    "        elif i > 3 and (((i-1)%6 == 0) or ((i+1)%6 == 0)):\n",
    "            a +=1\n",
    "            l.append(i)    \n",
    "    for j in l:\n",
    "        for k in l:\n",
    "            if j != k:\n",
    "                if j%k == 0:\n",
    "                    a -= 1\n",
    "    print(\"prime_numbers({}) ➞ {}\".format(n,a))\n",
    "prime_numbers(10)     \n",
    "prime_numbers(20)\n",
    "prime_numbers(30)"
   ]
  },
  {
   "cell_type": "markdown",
   "id": "e1f17fe6-d8ac-45dd-b253-d0fb8c86f570",
   "metadata": {},
   "source": [
    "4.If today was Monday, in two days, it would be Wednesday.\n",
    "\n",
    "Create a function that takes in a list of days as input and the number of days to increment by. Return a list of days after n number of days has passed.\n",
    "\n",
    "Examples\n",
    "\n",
    "after_n_days([\"Thursday\", \"Monday\"], 4) ➞ [\"Monday\", \"Friday\"]\n",
    "\n",
    "after_n_days([\"Sunday\", \"Sunday\", \"Sunday\"], 1) ➞ [\"Monday\", \"Monday\", \"Monday\"]\n",
    "\n",
    "after_n_days([\"Monday\", \"Tuesday\", \"Friday\"], 1) ➞ [\"Tuesday\", \"Wednesday\", \"Saturday\"]"
   ]
  },
  {
   "cell_type": "code",
   "execution_count": 6,
   "id": "2134d097-a706-4240-9e8b-90ab3ad91bef",
   "metadata": {},
   "outputs": [
    {
     "name": "stdout",
     "output_type": "stream",
     "text": [
      "after_n_days(['Thursday', 'Monday'], 4) ➞ ['Monday', 'Friday']\n",
      "after_n_days(['Sunday', 'Sunday', 'Sunday'], 1) ➞ ['Monday', 'Monday', 'Monday']\n",
      "after_n_days(['Monday', 'Tuesday', 'Friday'], 1) ➞ ['Tuesday', 'Wednesday', 'Saturday']\n"
     ]
    }
   ],
   "source": [
    "def after_n_days(l,n):\n",
    "    w = {0:'Sunday',1:'Monday',2:'Tuesday',3:'Wednesday',4:'Thursday',5:'Friday',6:'Saturday'}\n",
    "    d = list(w.keys())\n",
    "    dd = list(w.values())\n",
    "    a = []\n",
    "    for i in l:\n",
    "        a.append(w[(dd.index(i)+n)%7])\n",
    "    print(\"after_n_days({}, {}) ➞ {}\".format(l,n,a))\n",
    "after_n_days([\"Thursday\", \"Monday\"], 4)\n",
    "after_n_days([\"Sunday\", \"Sunday\", \"Sunday\"], 1)\n",
    "after_n_days([\"Monday\", \"Tuesday\", \"Friday\"], 1)"
   ]
  },
  {
   "cell_type": "markdown",
   "id": "5a7517ff-3b8a-46b0-a3d8-c57287d37680",
   "metadata": {},
   "source": [
    "5.You are in the process of creating a chat application and want to add an anonymous name feature. This anonymous name feature will create an alias that consists of two capitalized words beginning with the same letter as the users first name.\n",
    "\n",
    "Create a function that determines if the list of users is mapped to a list of anonymous names correctly.\n",
    "\n",
    "Examples\n",
    "\n",
    "is_correct_aliases([\"Adrian M.\", \"Harriet S.\", \"Mandy T.\"], [\"Amazing Artichoke\", \"Hopeful Hedgehog\", \"Marvelous Mouse\"]) ➞ True\n",
    "\n",
    "is_correct_aliases([\"Rachel F.\", \"Pam G.\", \"Fred Z.\", \"Nancy K.\"], [\"Reassuring Rat\", \"Peaceful Panda\", \"Fantastic Frog\", \"Notable Nickel\"]) ➞ True\n",
    "\n",
    "is_correct_aliases([\"Beth T.\"], [\"Brandishing Mimosa\"]) ➞ False\n",
    "\n",
    "Both words in \"Brandishing Mimosa\" should begin with a \"B\" - \"Brandishing Beaver\" would do the trick."
   ]
  },
  {
   "cell_type": "code",
   "execution_count": 8,
   "id": "a16f0f29-2c3a-42e7-aa12-ce05a4b7e125",
   "metadata": {},
   "outputs": [
    {
     "name": "stdout",
     "output_type": "stream",
     "text": [
      "is_correct_aliases(['Adrian M.', 'Harriet S.', 'Mandy T.'], ['Amazing Artichoke', 'Hopeful Hedgehog', 'Marvelous Mouse']) ➞ True\n",
      "is_correct_aliases(['Rachel F.', 'Pam G.', 'Fred Z.', 'Nancy K.'], ['Reassuring Rat', 'Peaceful Panda', 'Fantastic Frog', 'Notable Nickel']) ➞ True\n",
      "is_correct_aliases(['Beth T.'], ['Brandishing Mimosa']) ➞ False\n"
     ]
    }
   ],
   "source": [
    "def is_correct_aliases(l, ll):\n",
    "    a = False\n",
    "    if len(l) == len(ll):\n",
    "        for i in range(len(l)):\n",
    "            if l[i].split(\" \")[0][0] == ll[i].split(\" \")[0][0] == ll[i].split(\" \")[1][0]:\n",
    "                a = True\n",
    "            else:\n",
    "                a = False\n",
    "                break\n",
    "    print(\"is_correct_aliases({}, {}) ➞ {}\".format(l,ll,a))\n",
    "is_correct_aliases([\"Adrian M.\", \"Harriet S.\", \"Mandy T.\"], [\"Amazing Artichoke\", \"Hopeful Hedgehog\", \"Marvelous Mouse\"]) \n",
    "is_correct_aliases([\"Rachel F.\", \"Pam G.\", \"Fred Z.\", \"Nancy K.\"], [\"Reassuring Rat\", \"Peaceful Panda\", \"Fantastic Frog\", \"Notable Nickel\"])\n",
    "is_correct_aliases([\"Beth T.\"], [\"Brandishing Mimosa\"]) "
   ]
  },
  {
   "cell_type": "code",
   "execution_count": null,
   "id": "1a04f3b6-464c-4d3f-8011-ff28076a2bdd",
   "metadata": {},
   "outputs": [],
   "source": []
  }
 ],
 "metadata": {
  "kernelspec": {
   "display_name": "Python 3",
   "language": "python",
   "name": "python3"
  },
  "language_info": {
   "codemirror_mode": {
    "name": "ipython",
    "version": 3
   },
   "file_extension": ".py",
   "mimetype": "text/x-python",
   "name": "python",
   "nbconvert_exporter": "python",
   "pygments_lexer": "ipython3",
   "version": "3.8.8"
  }
 },
 "nbformat": 4,
 "nbformat_minor": 5
}
