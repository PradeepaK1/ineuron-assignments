{
 "cells": [
  {
   "cell_type": "markdown",
   "id": "ac8d1c9a-de83-4ecc-9fd0-2b7a09db5461",
   "metadata": {},
   "source": [
    "1.In mathematics, the Fibonacci numbers, commonly denoted Fn, form a sequence, called the Fibonacci sequence, such that each number is the sum of the two preceding ones, starting from 0 and 1:\n",
    "\n",
    "The beginning of the sequence is this:\n",
    "\n",
    "0, 1, 1, 2, 3, 5, 8, 13, 21, 34, 55, 89, 144, ...\n",
    "\n",
    "The function fastFib(num) returns the fibonacci number Fn, of the given num as an argument.\n",
    "\n",
    "Examples\n",
    "\n",
    "fib_fast(5) ➞ 5\n",
    "\n",
    "fib_fast(10) ➞ 55\n",
    "\n",
    "fib_fast(20) ➞ 6765\n",
    "\n",
    "fib_fast(50) ➞ 12586269025"
   ]
  },
  {
   "cell_type": "code",
   "execution_count": 4,
   "id": "fd9e1af6-4191-42ec-a012-6255f7309c20",
   "metadata": {},
   "outputs": [
    {
     "name": "stdout",
     "output_type": "stream",
     "text": [
      "fib_fast(5) ➞ 5\n",
      "fib_fast(10) ➞ 55\n",
      "fib_fast(20) ➞ 6765\n",
      "fib_fast(50) ➞ 12586269025\n"
     ]
    }
   ],
   "source": [
    "def fib_fast(n):\n",
    "    l = []\n",
    "    for i in range(n+1):\n",
    "        if i in [0,1]:\n",
    "            l.append(i)\n",
    "        else:\n",
    "            l.append(l[-1]+l[-2])\n",
    "    print(\"fib_fast({}) ➞ {}\".format(n,l[-1]))\n",
    "fib_fast(5)\n",
    "fib_fast(10)\n",
    "fib_fast(20)\n",
    "fib_fast(50)"
   ]
  },
  {
   "cell_type": "markdown",
   "id": "37baac77-892c-4afe-97cb-db8c66d1c0db",
   "metadata": {},
   "source": [
    "2.Create a function that takes a strings characters as ASCII and returns each characters hexadecimal value as a string.\n",
    "\n",
    "Examples\n",
    "\n",
    "convert_to_hex(\"hello world\") ➞ \"68 65 6c 6c 6f 20 77 6f 72 6c 64\"\n",
    "\n",
    "convert_to_hex(\"Big Boi\") ➞ \"42 69 67 20 42 6f 69\"\n",
    "\n",
    "convert_to_hex(\"Marty Poppinson\") ➞ \"4d 61 72 74 79 20 50 6f 70 70 69 6e 73 6f 6e\""
   ]
  },
  {
   "cell_type": "code",
   "execution_count": 4,
   "id": "5562576e-d89d-4260-a700-41e758ec1459",
   "metadata": {},
   "outputs": [
    {
     "name": "stdout",
     "output_type": "stream",
     "text": [
      "convert_to_hex(hello world) ➞ 68 65 6c 6c 6f 20 77 6f 72 6c 64\n",
      "convert_to_hex(Big Boi) ➞ 42 69 67 20 42 6f 69\n",
      "convert_to_hex(Marty Poppinson) ➞ 4d 61 72 74 79 20 50 6f 70 70 69 6e 73 6f 6e\n"
     ]
    }
   ],
   "source": [
    "def convert_to_hex(s):\n",
    "    a = []\n",
    "    for i in s:\n",
    "        a.append(hex(ord(i))[2:])\n",
    "    print(\"convert_to_hex({}) ➞ {}\".format(s, \" \".join(a)))\n",
    "convert_to_hex(\"hello world\")\n",
    "convert_to_hex(\"Big Boi\")\n",
    "convert_to_hex(\"Marty Poppinson\")"
   ]
  },
  {
   "cell_type": "markdown",
   "id": "3e021fa7-d249-46d5-8972-8af0a8fea197",
   "metadata": {},
   "source": [
    "3.Someone has attempted to censor my strings by replacing every vowel with a *, l*k* th*s. Luckily, I've been able to find the vowels that were removed.\n",
    "\n",
    "Given a censored string and a string of the censored vowels, return the original uncensored string.\n",
    "\n",
    "Example\n",
    "\n",
    "uncensor(\"Wh*r* d*d my v*w*ls g*?\", \"eeioeo\") ➞ \"Where did my vowels go?\"\n",
    "\n",
    "uncensor(\"abcd\", \"\") ➞ \"abcd\"\n",
    "\n",
    "uncensor(\"*PP*RC*S*\", \"UEAE\") ➞ \"UPPERCASE\""
   ]
  },
  {
   "cell_type": "code",
   "execution_count": 12,
   "id": "9b8ef880-b8da-447f-abdb-4fc6d4109531",
   "metadata": {},
   "outputs": [
    {
     "name": "stdout",
     "output_type": "stream",
     "text": [
      "uncensor(Wh*r* d*d my v*w*ls g*?, eeioeo) ➞ Where did my vowels go?\n",
      "uncensor(abcd, ) ➞ abcd\n",
      "uncensor(*PP*RC*S*, UEAE) ➞ UPPERCASE\n"
     ]
    }
   ],
   "source": [
    "def uncensor(s,v):\n",
    "    a=\"\"\n",
    "    c=0\n",
    "    for i in s:\n",
    "        if i==\"*\":\n",
    "            a+=v[c]\n",
    "            c+=1\n",
    "        else:\n",
    "            a+=i\n",
    "    print(\"uncensor({}, {}) ➞ {}\".format(s,v,a))\n",
    "uncensor(\"Wh*r* d*d my v*w*ls g*?\", \"eeioeo\")\n",
    "uncensor(\"abcd\", \"\")\n",
    "uncensor(\"*PP*RC*S*\", \"UEAE\")"
   ]
  },
  {
   "cell_type": "markdown",
   "id": "31a446ad-7f33-4fff-a222-e052393cf2d5",
   "metadata": {},
   "source": [
    "4.Write a function that takes an IP address and returns the domain name using PTR DNS records.\n",
    "\n",
    "Example\n",
    "\n",
    "get_domain(\"8.8.8.8\") ➞ \"dns.google\"\n",
    "\n",
    "get_domain(\"8.8.4.4\") ➞ \"dns.google\""
   ]
  },
  {
   "cell_type": "code",
   "execution_count": 14,
   "id": "e6a28629-61cd-4888-ae9f-54a91cd0319c",
   "metadata": {},
   "outputs": [
    {
     "name": "stdout",
     "output_type": "stream",
     "text": [
      "get_domain(8.8.8.8) ➞ dns.google\n",
      "get_domain(8.8.4.4) ➞ dns.google\n"
     ]
    }
   ],
   "source": [
    "import socket\n",
    "def get_domain(ip):\n",
    "    d=socket.gethostbyaddr(ip)\n",
    "    print(\"get_domain({}) ➞ {}\".format(ip,d[0]))\n",
    "get_domain(\"8.8.8.8\")\n",
    "get_domain(\"8.8.4.4\")"
   ]
  },
  {
   "cell_type": "markdown",
   "id": "d43b6b47-317c-4e94-8a76-cbbd17b04106",
   "metadata": {},
   "source": [
    "5.Create a function that takes an integer n and returns the factorial of factorials. See below examples for a better understanding:\n",
    "\n",
    "Examples\n",
    "\n",
    "fact_of_fact(4) ➞ 288\n",
    "\n",
    "4! * 3! * 2! * 1! = 288\n",
    "\n",
    "fact_of_fact(5) ➞ 34560\n",
    "\n",
    "fact_of_fact(6) ➞ 24883200"
   ]
  },
  {
   "cell_type": "code",
   "execution_count": 3,
   "id": "b421869f-95c7-449f-955b-4baf34e8eb65",
   "metadata": {},
   "outputs": [
    {
     "name": "stdout",
     "output_type": "stream",
     "text": [
      "fact_of_fact(4) ➞ 288\n",
      "fact_of_fact(5) ➞ 34560\n",
      "fact_of_fact(6) ➞ 24883200\n"
     ]
    }
   ],
   "source": [
    "def fact_of_fact(n):\n",
    "    def fact(n):\n",
    "        if n == 1:\n",
    "            return 1\n",
    "        else:\n",
    "            return n*fact(n-1)      \n",
    "    a = 1\n",
    "    for i in range(1,n+1):\n",
    "        a *= fact(i)\n",
    "    print(\"fact_of_fact({}) ➞ {}\".format(n,a))\n",
    "fact_of_fact(4)\n",
    "fact_of_fact(5)\n",
    "fact_of_fact(6)"
   ]
  },
  {
   "cell_type": "code",
   "execution_count": null,
   "id": "714c8806-2661-41f9-a6f0-6c02b1248fab",
   "metadata": {},
   "outputs": [],
   "source": []
  }
 ],
 "metadata": {
  "kernelspec": {
   "display_name": "Python 3",
   "language": "python",
   "name": "python3"
  },
  "language_info": {
   "codemirror_mode": {
    "name": "ipython",
    "version": 3
   },
   "file_extension": ".py",
   "mimetype": "text/x-python",
   "name": "python",
   "nbconvert_exporter": "python",
   "pygments_lexer": "ipython3",
   "version": "3.8.8"
  }
 },
 "nbformat": 4,
 "nbformat_minor": 5
}
