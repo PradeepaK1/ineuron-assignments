{
 "cells": [
  {
   "cell_type": "markdown",
   "id": "c3cae4eb-aa5c-48a3-8116-da83279f03f4",
   "metadata": {},
   "source": [
    "1.For this challenge, forget how to add two numbers together. The best explanation on what to do for this function is this meme:\n",
    "pav\n",
    "\n",
    "Examples\n",
    "\n",
    "meme_sum(26, 39) ➞ 515\n",
    "\n",
    "2+3 = 5, 6+9 = 15\n",
    "\n",
    "26 + 39 = 515\n",
    "\n",
    "meme_sum(122, 81) ➞ 1103\n",
    "\n",
    "1+0 = 1, 2+8 = 10, 2+1 = 3\n",
    "\n",
    "122 + 81 = 1103\n",
    "\n",
    "meme_sum(1222, 30277) ➞ 31499"
   ]
  },
  {
   "cell_type": "code",
   "execution_count": 5,
   "id": "a8533ba5-7c13-484c-9227-066fb9c3b79f",
   "metadata": {},
   "outputs": [
    {
     "name": "stdout",
     "output_type": "stream",
     "text": [
      "meme_sum26,39 ➞ 515\n",
      "meme_sum122,081 ➞ 1103\n",
      "meme_sum01222,30277 ➞ 31499\n"
     ]
    }
   ],
   "source": [
    "def meme_sum(a,b):\n",
    "    a= str(a)\n",
    "    b=str(b)\n",
    "    ans = \"\"\n",
    "    while len(a) != len(b):\n",
    "        if len(a) < len(b):\n",
    "            a =\"0\"+a\n",
    "        else:\n",
    "            b=\"0\"+b\n",
    "    for i in range(len(a)):\n",
    "        ans += str(int(a[i])+int(b[i]))\n",
    "    print(\"meme_sum{},{} ➞ {}\".format(a,b,ans))\n",
    "meme_sum(26, 39)\n",
    "meme_sum(122, 81)\n",
    "meme_sum(1222, 30277) "
   ]
  },
  {
   "cell_type": "markdown",
   "id": "89905354-fc1a-4b81-b8d4-38c818a0c52e",
   "metadata": {},
   "source": [
    "2.Given an integer, create a function that returns the next prime. If the number is prime, return the number itself.\n",
    "\n",
    "Examples\n",
    "\n",
    "next_prime(12) ➞ 13\n",
    "\n",
    "next_prime(24) ➞ 29\n",
    "\n",
    "next_prime(11) ➞ 11\n",
    "\n",
    "11 is a prime, so we return the number itself."
   ]
  },
  {
   "cell_type": "code",
   "execution_count": 6,
   "id": "b72e598f-b958-47f7-bf81-029d5d8e903e",
   "metadata": {},
   "outputs": [
    {
     "name": "stdout",
     "output_type": "stream",
     "text": [
      "next_prine(12) ➞ 13\n",
      "next_prine(24) ➞ 29\n",
      "next_prine(11) ➞ 11\n"
     ]
    }
   ],
   "source": [
    "def next_prime(n):\n",
    "    nt = n\n",
    "    while True:\n",
    "        if (n-1)%6 == 0 or (n+1)%6 ==0 :\n",
    "            t = n\n",
    "            for i in range(3,n+1):\n",
    "                if n%i == 0 and i != n:\n",
    "                    n+=1\n",
    "                    break\n",
    "            if t == n:\n",
    "                break\n",
    "        else:\n",
    "            n+= 1\n",
    "    print(\"next_prine({}) ➞ {}\".format(nt,n))\n",
    "next_prime(12)\n",
    "next_prime(24)\n",
    "next_prime(11)"
   ]
  },
  {
   "cell_type": "markdown",
   "id": "c7f9d9cd-f04a-4594-9b0e-0f6b5a538bbb",
   "metadata": {},
   "source": [
    "3.If a person traveled up a hill for 18mins at 20mph and then traveled back down the same path at 60mph then their average speed traveled was 30mph.\n",
    "\n",
    "Write a function that returns the average speed traveled given an uphill time, uphill rate and a downhill rate. Uphill time is given in minutes. Return the rate as an integer (mph). No rounding is necessary.\n",
    "\n",
    "Examples\n",
    "\n",
    "ave_spd(18, 20, 60) ➞ 30\n",
    "\n",
    "ave_spd(30, 10, 30) ➞ 15\n",
    "\n",
    "ave_spd(30, 8, 24) ➞ 12"
   ]
  },
  {
   "cell_type": "code",
   "execution_count": 11,
   "id": "2c1a3c9b-ebc5-40ae-aee0-f0e5d13ed5ae",
   "metadata": {},
   "outputs": [
    {
     "name": "stdout",
     "output_type": "stream",
     "text": [
      "ave_spd(18, 20, 60) ➞ 30\n",
      "ave_spd(30, 10, 30) ➞ 15\n",
      "ave_spd(30, 8, 24) ➞ 12\n"
     ]
    }
   ],
   "source": [
    "def ave_spd(ut,su,sd):\n",
    "    d = su*(ut/60)\n",
    "    dt = d/sd\n",
    "    a = int((2*d)/((ut/60)+dt))\n",
    "    print(\"ave_spd({}, {}, {}) ➞ {}\".format(ut, su, sd, a))\n",
    "ave_spd(18, 20, 60)\n",
    "ave_spd(30, 10, 30)\n",
    "ave_spd(30, 8, 24)"
   ]
  },
  {
   "cell_type": "markdown",
   "id": "e380606c-07fb-4e94-bf3d-c989df39c247",
   "metadata": {},
   "source": [
    "4.The Kempner Function, applied to a composite number, permits to find the smallest integer greater than zero whose factorial is exactly divided by the number.\n",
    "\n",
    "kempner(6) ➞ 3\n",
    "\n",
    "1! = 1 % 6 > 0\n",
    "2! = 2 % 6 > 0\n",
    "3! = 6 % 6 === 0\n",
    "\n",
    "kempner(10) ➞ 5\n",
    "\n",
    "1! = 1 % 10 > 0\n",
    "2! = 2 % 10 > 0\n",
    "3! = 6 % 10 > 0\n",
    "4! = 24 % 10 > 0\n",
    "5! = 120 % 10 === 0\n",
    "\n",
    "A Kempner Function applied to a prime will always return the prime itself.\n",
    "\n",
    "kempner(2) ➞ 2\n",
    "\n",
    "kempner(5) ➞ 5\n",
    "\n",
    "Given an integer n, implement a Kempner Function.\n",
    "\n",
    "Examples\n",
    "\n",
    "kempner(6) ➞ 3\n",
    "\n",
    "kempner(10) ➞ 5\n",
    "\n",
    "kempner(2) ➞ 2"
   ]
  },
  {
   "cell_type": "code",
   "execution_count": 12,
   "id": "7824ce9f-04ba-4561-88de-13dd6fc6c64b",
   "metadata": {},
   "outputs": [
    {
     "name": "stdout",
     "output_type": "stream",
     "text": [
      "kempner(2) ➞ 2\n",
      "kempner(5) ➞ 5\n",
      "kempner(6) ➞ 3\n",
      "kempner(10) ➞ 5\n"
     ]
    }
   ],
   "source": [
    "def kempner(n):\n",
    "    def fact(n):\n",
    "        if n == 1:\n",
    "            return 1\n",
    "        else:\n",
    "            return n * fact(n-1)\n",
    "    for i in range(1,n+1):\n",
    "        if fact(i)%n == 0:\n",
    "            a = i\n",
    "            break\n",
    "    print(\"kempner({}) ➞ {}\".format(n,a))\n",
    "kempner(2)\n",
    "kempner(5)\n",
    "kempner(6)\n",
    "kempner(10)"
   ]
  },
  {
   "cell_type": "markdown",
   "id": "2b016015-a20f-44dd-9d79-f81282b805ff",
   "metadata": {},
   "source": [
    "5.You work in a factory, and your job is to take items from a conveyor belt and pack them into boxes. Each box can hold a maximum of 10 kgs. Given a list containing the weight (in kg) of each item, how many boxes would you need to pack all of the items?\n",
    "\n",
    "Example\n",
    "\n",
    "boxes([2, 1, 2, 5, 4, 3, 6, 1, 1, 9, 3, 2]) ➞ 5\n",
    "\n",
    "Box 1 = [2, 1, 2, 5] (10kg)\n",
    "\n",
    "Box 2 = [4, 3] (7kg)\n",
    "\n",
    "Box 3 = [6, 1, 1] (8kg)\n",
    "\n",
    "Box 4 = [9] (9kg)\n",
    "\n",
    "Box 5 = [3, 2] (5kg)"
   ]
  },
  {
   "cell_type": "code",
   "execution_count": 14,
   "id": "9514d3b4-3ea7-4c38-80cc-5b3334dac2bd",
   "metadata": {},
   "outputs": [
    {
     "name": "stdout",
     "output_type": "stream",
     "text": [
      "boxes([2, 1, 2, 5, 4, 3, 6, 1, 1, 9, 3, 2]) ➞ 5\n"
     ]
    }
   ],
   "source": [
    "def boxes(l):\n",
    "    lt = l.copy()\n",
    "    a = []\n",
    "    t = []\n",
    "    while True:\n",
    "        if len(l) != 0:\n",
    "            if sum(t) <= 10:\n",
    "                t.append(l.pop(0))\n",
    "            else:\n",
    "                l.insert(0,t.pop())\n",
    "                a.append(t)\n",
    "                t = []\n",
    "        else:\n",
    "            a.append(t)\n",
    "            t = []\n",
    "            break\n",
    "    print(\"boxes({}) ➞ {}\".format(lt,len(a)))    \n",
    "boxes([2, 1, 2, 5, 4, 3, 6, 1, 1, 9, 3, 2])"
   ]
  },
  {
   "cell_type": "code",
   "execution_count": null,
   "id": "658c21a1-1837-46e8-a6d3-7ade80367195",
   "metadata": {},
   "outputs": [],
   "source": []
  }
 ],
 "metadata": {
  "kernelspec": {
   "display_name": "Python 3",
   "language": "python",
   "name": "python3"
  },
  "language_info": {
   "codemirror_mode": {
    "name": "ipython",
    "version": 3
   },
   "file_extension": ".py",
   "mimetype": "text/x-python",
   "name": "python",
   "nbconvert_exporter": "python",
   "pygments_lexer": "ipython3",
   "version": "3.8.8"
  }
 },
 "nbformat": 4,
 "nbformat_minor": 5
}
