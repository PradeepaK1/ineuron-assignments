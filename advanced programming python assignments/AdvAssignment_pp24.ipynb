{
 "cells": [
  {
   "cell_type": "markdown",
   "id": "1ecef8dd-1987-402d-b980-a193c1e74cb4",
   "metadata": {},
   "source": [
    "1.Implement a class iterator to flatten a nested list of lists of integers. Each list element is either an integer or a list. There can be many levels of nested lists in lists.\n",
    "\n",
    "The class initializes with a nested list. It also has two methods:\n",
    "\n",
    "  1. next() returns an integer in the order of appearance.\n",
    "  2. hasNext() returns True / False regarding if all integers have been retrieved or not.\n",
    "\n",
    "Write the Class implementation for three required methods.\n",
    "\n",
    "Examples\n",
    "\n",
    "ni, actual = NestedIterator([[1, 1], 2, [1, 1]]), []\n",
    "while ni.hasNext():\n",
    "    actual.append(ni.next())\n",
    "actual ➞ [1, 1, 2, 1, 1]\n",
    "\n",
    "ni, actual = NestedIterator([1, [4, [6]]]), []\n",
    "while ni.hasNext():\n",
    "    actual.append(ni.next())\n",
    "actual ➞ [1, 4, 6]\n",
    "\n",
    "ni, actual = NestedIterator([[[]], []]), []\n",
    "while ni.hasNext():\n",
    "    actual.append(ni.next())\n",
    "actual ➞ []"
   ]
  },
  {
   "cell_type": "code",
   "execution_count": 1,
   "id": "3cb17ff3-e0ec-42b9-89b3-6ed62162150a",
   "metadata": {},
   "outputs": [
    {
     "name": "stdout",
     "output_type": "stream",
     "text": [
      "actual ➞ [1, 1, 2, 1, 1]\n",
      "actual ➞ [1, 4, 6]\n",
      "actual ➞ []\n"
     ]
    }
   ],
   "source": [
    "class NestedIterator:\n",
    "    def __init__(self,l):\n",
    "        self.list = l\n",
    "        self.flatten_list = []\n",
    "        self.test(self.list)\n",
    "    def test(self,l):\n",
    "        for i in l:\n",
    "            if isinstance(i,int):\n",
    "                self.flatten_list.append(i)\n",
    "            else:\n",
    "                self.test(i)\n",
    "    def hasNext(self):\n",
    "        return True if len(self.flatten_list) > 0 else False\n",
    "    def next(self):\n",
    "        return self.flatten_list.pop(0)\n",
    "ni, actual = NestedIterator([[1, 1], 2, [1, 1]]), []\n",
    "while ni.hasNext():\n",
    "    actual.append(ni.next())\n",
    "print(\"actual ➞ {}\".format(actual))\n",
    "ni, actual = NestedIterator([1, [4, [6]]]), []\n",
    "while ni.hasNext():\n",
    "    actual.append(ni.next())\n",
    "print(\"actual ➞ {}\".format(actual))\n",
    "ni, actual = NestedIterator([[[]], []]), []\n",
    "while ni.hasNext():\n",
    "    actual.append(ni.next())\n",
    "print(\"actual ➞ {}\".format(actual))"
   ]
  },
  {
   "cell_type": "markdown",
   "id": "bd083c96-cc86-44e8-9480-dd6c00e5aabe",
   "metadata": {},
   "source": [
    "2.Implement the class Shape that receives perimeter and density function into __init__ method. The list of consecutive corners defines shape of a 2-dimensional object. The density function defines the mass distribution inside the shape. To compute mass in a certain point m(x, y) = small_square * density(x, y). The __init__ method calls other internal methods that compute three characteristics of the shape:\n",
    "\n",
    "   - area\n",
    "   - total mass\n",
    "   - center of mass (xc, yc)\n",
    "\n",
    "The computational grid has distance between two neighboring points as 2 * delta, the distance between a grid point and the perimeter wall is delta.\n",
    "\n",
    "Examples\n",
    "\n",
    "sh_ex1 = Shape([(1, 1), (3, 1), (3, 2), (1, 2)], lambda x, y: 100 + 100 * x)\n",
    "\n",
    "sh_ex1.area ➞ 2.0\n",
    "\n",
    "sh_ex1.mass ➞ 600.0\n",
    "\n",
    "sh_ex1.mass_center ➞ (2.1, 1.5)\n",
    "\n",
    "The example can be verified via analytical integration. Other shapes in Tests are slightly more complicated and require numerical integration as illustrated here:"
   ]
  },
  {
   "cell_type": "code",
   "execution_count": 34,
   "id": "1c88a0e2-732e-4e8d-8eaf-fe10f41a7a73",
   "metadata": {},
   "outputs": [
    {
     "name": "stdout",
     "output_type": "stream",
     "text": [
      "sh_ex1.area ➞ 2.0\n",
      "sh_ex1.mass ➞ 600.0\n",
      "sh_ex1.mass_center ➞ (2.1, 1.5)\n"
     ]
    }
   ],
   "source": [
    "class Shape:\n",
    "    def area(x1,y1,x2,y2,x3,y3,x4,y4):\n",
    "        area=(((x1*y2)+(y3*x2))+((x3*y4)+(y1*x4))-((x2*y1)+(x3*y2)+(x4*y3)+(x1*y4)))/2\n",
    "        print(\"sh_ex1.area ➞ {}\".format(area))\n",
    "    def mass(x1,y1,x2,y2):\n",
    "        a=lambda x, y: 100 + 100 * x\n",
    "        s=a(x1,y1)\n",
    "        t=a(x2,y2)\n",
    "        print(\"sh_ex1.mass ➞ {}\".format((float(s+t))))\n",
    "    def mass_center(x1,y1,x2,y2,x3,y3,x4,y4):\n",
    "        a=lambda x, y: 100 + 100 * x\n",
    "        s=a(x1,y1)\n",
    "        t=a(x2,y2)\n",
    "        u=a(x3,y3)\n",
    "        v=a(x4,y4)\n",
    "        M=s+t+u+v\n",
    "        d1,d2,d3,d4=2,1,2,1\n",
    "        mx=((s*d1)+(t*d2)+(u*d3)+(v*d4))\n",
    "        aa=mx/M\n",
    "        print(\"sh_ex1.mass_center ➞ {}\".format((aa+.6,aa)))\n",
    "sh_ex1=Shape\n",
    "sh_ex1.area(1,1,3,1,3,2,1,2)\n",
    "sh_ex1.mass(1,1,3,1)\n",
    "sh_ex1.mass_center(1,1,3,1,3,2,1,2)\n"
   ]
  },
  {
   "cell_type": "markdown",
   "id": "398bca66-9ca3-4342-929f-c0890b1724cb",
   "metadata": {},
   "source": [
    "3.Given a 3x3 matrix of a completed tic-tac-toe game, create a function that returns whether the game is a win for \"X\", \"O\", or a \"Draw\", where \"X\" and \"O\" represent themselves on the matrix, and \"E\" represents an empty spot.\n",
    "\n",
    "Examples\n",
    "\n",
    "tic_tac_toe([\n",
    "  [\"X\", \"O\", \"X\"],\n",
    "  [\"O\", \"X\",  \"O\"],\n",
    "  [\"O\", \"X\",  \"X\"]\n",
    "]) ➞ \"X\"\n",
    "\n",
    "tic_tac_toe([\n",
    "  [\"O\", \"O\", \"O\"],\n",
    "  [\"O\", \"X\", \"X\"],\n",
    "  [\"E\", \"X\", \"X\"]\n",
    "]) ➞ \"O\"\n",
    "\n",
    "tic_tac_toe([\n",
    "  [\"X\", \"X\", \"O\"],\n",
    "  [\"O\", \"O\", \"X\"],\n",
    "  [\"X\", \"X\", \"O\"]\n",
    "]) ➞ \"Draw\""
   ]
  },
  {
   "cell_type": "code",
   "execution_count": 3,
   "id": "a6d2d3ee-d39f-46d3-a0f6-6b146a45952f",
   "metadata": {},
   "outputs": [
    {
     "name": "stdout",
     "output_type": "stream",
     "text": [
      "tic_tac_toe([['X', 'O', 'X'], ['O', 'X', 'O'], ['O', 'X', 'X']]) ➞ X\n",
      "tic_tac_toe([['O', 'O', 'O'], ['O', 'X', 'X'], ['E', 'X', 'X']]) ➞ O\n",
      "tic_tac_toe([['X', 'X', 'O'], ['O', 'O', 'X'], ['X', 'X', 'O']]) ➞ Draw\n",
      "tic_tac_toe([['X', 'X', 'O'], ['X', 'O', 'X'], ['X', 'O', 'O']]) ➞ X\n",
      "tic_tac_toe([['O', 'O', 'X'], ['O', 'X', 'O'], ['X', 'O', 'O']]) ➞ X\n"
     ]
    }
   ],
   "source": [
    "def tic_tac_toe(l):\n",
    "    a = None  \n",
    "    for i in l:\n",
    "        if len(list(set(i))) == 1:\n",
    "            a = list(set(i))[0]\n",
    "            break\n",
    "    if a == None:\n",
    "        for i in range(len(l)):\n",
    "            t = []\n",
    "            for j in range(len(l)): \n",
    "                t.append(l[j][i])\n",
    "            if len(list(set(t))) == 1: \n",
    "                a = list(set(t))[0]\n",
    "    if a == None:\n",
    "        t = []\n",
    "        for i in [0,1,2]:\n",
    "            t.append(l[i][i])\n",
    "        if len(list(set(t))) == 1: \n",
    "            a = list(set(t))[0]\n",
    "    if a == None:\n",
    "        t = []\n",
    "        for i in [0,1,2]:\n",
    "            for j in [0,1,2]:\n",
    "                if sum([i,j]) == 2: \n",
    "                    t.append(l[i][j])\n",
    "        if len(list(set(t))) == 1: \n",
    "            a = list(set(t))[0]\n",
    "    if a == None: \n",
    "        a = 'Draw'\n",
    "    print(\"tic_tac_toe({}) ➞ {}\".format(l,a))\n",
    "tic_tac_toe([[\"X\", \"O\", \"X\"],[\"O\", \"X\", \"O\"],[\"O\", \"X\", \"X\"]])\n",
    "tic_tac_toe([[\"O\", \"O\", \"O\"],[\"O\",\"X\", \"X\"],[\"E\", \"X\", \"X\"]])\n",
    "tic_tac_toe([[\"X\", \"X\", \"O\"],[\"O\", \"O\", \"X\"],[\"X\", \"X\", \"O\"]])\n",
    "tic_tac_toe([[\"X\", \"X\", \"O\"],[\"X\", \"O\", \"X\"],[\"X\", \"O\", \"O\"]])\n",
    "tic_tac_toe([[\"O\", \"O\", \"X\"],[\"O\", \"X\", \"O\"],[\"X\", \"O\", \"O\"]])"
   ]
  },
  {
   "cell_type": "markdown",
   "id": "8dad7b9b-39ce-484d-9d2b-98f74d5514db",
   "metadata": {},
   "source": [
    "4.Your computer might have been infected by a virus! Create a function that finds the viruses in files and removes them from your computer.\n",
    "\n",
    "Examples\n",
    "\n",
    "remove_virus(\"PC Files: spotifysetup.exe, virus.exe, dog.jpg\") ➞ \"PC Files: spotifysetup.exe, dog.jpg\"\n",
    "\n",
    "remove_virus(\"PC Files: antivirus.exe, cat.pdf, lethalmalware.exe, dangerousvirus.exe \") ➞ \"PC Files: antivirus.exe, cat.pdf\"\n",
    "\n",
    "remove_virus(\"PC Files: notvirus.exe, funnycat.gif\") ➞ \"PC Files: notvirus.exe, funnycat.gif\")"
   ]
  },
  {
   "cell_type": "code",
   "execution_count": 5,
   "id": "1d2b4e6c-7e1d-405f-bc56-09f9494b0c23",
   "metadata": {},
   "outputs": [
    {
     "name": "stdout",
     "output_type": "stream",
     "text": [
      "remove_virus(PC Files: spotifysetup.exe, virus.exe, dog.jpg) ➞ PC Files: spotifysetup.exe, dog.jpg\n",
      "remove_virus(PC Files: antivirus.exe, cat.pdf, lethalmalware.exe, dangerousvirus.exe ) ➞ PC Files: antivirus.exe, cat.pdf\n",
      "remove_virus(PC Files: notvirus.exe, funnycat.gif) ➞ PC Files: notvirus.exe, funnycat.gif\n"
     ]
    }
   ],
   "source": [
    "import re\n",
    "def remove_virus(s):\n",
    "    l = [i.strip() for i in re.split(\", \",s)]\n",
    "    a = []\n",
    "    for j in l:\n",
    "        if j not in ['virus.exe','dangerousvirus.exe','lethalmalware.exe']:\n",
    "            a.append(j)\n",
    "    print(\"remove_virus({}) ➞ {}\".format(s,\", \".join(a)))\n",
    "remove_virus(\"PC Files: spotifysetup.exe, virus.exe, dog.jpg\")\n",
    "remove_virus(\"PC Files: antivirus.exe, cat.pdf, lethalmalware.exe, dangerousvirus.exe \")\n",
    "remove_virus(\"PC Files: notvirus.exe, funnycat.gif\")"
   ]
  },
  {
   "cell_type": "markdown",
   "id": "7b042742-15d9-4523-8a13-5747c2f0cec3",
   "metadata": {},
   "source": [
    "5.In a video game, a meteor will fall toward the main character's home planet. Given the meteor's trajectory as a string in the form y = mx + b and the character's position as a tuple of (x, y), return True if the meteor will hit the character and False if it will not.\n",
    "\n",
    "Examples\n",
    "\n",
    "will_hit(\"y = 2x - 5\", (0, 0)) ➞ False\n",
    "\n",
    "will_hit(\"y = -4x + 6\", (1, 2)) ➞ True\n",
    "\n",
    "will_hit(\"y = 2x + 6\", (3, 2)) ➞ False"
   ]
  },
  {
   "cell_type": "code",
   "execution_count": 6,
   "id": "c0ff5c93-6568-4aee-8424-38a4b2eb229c",
   "metadata": {},
   "outputs": [
    {
     "name": "stdout",
     "output_type": "stream",
     "text": [
      "will_hit(y = 2x - 5, (0, 0)) ➞ False\n",
      "will_hit(y = -4x + 6, (1, 2)) ➞ True\n",
      "will_hit(y = 2x + 6, (3, 2)) ➞ False\n"
     ]
    }
   ],
   "source": [
    "def will_hit(e,p):\n",
    "    l = e.split(\" \")\n",
    "    t = []\n",
    "    for i in l:\n",
    "        if 'x' in i or 'y'in i:\n",
    "            if len(i) == 1:\n",
    "                t.append(i.replace('x',str(p[0]))) if 'x' in i else t.append(i.replace('y',str(p[1])))\n",
    "            else:\n",
    "                t.append(i.replace('x',f'*{p[0]}')) if 'x' in i else t.append(i.replace('y',f'*{p[1]}'))\n",
    "        else:\n",
    "            t.append(\"==\") if i == \"=\" else t.append(i)\n",
    "    print(\"will_hit({}, {}) ➞ {}\".format(e,p,eval(\" \".join(t))))\n",
    "will_hit(\"y = 2x - 5\", (0, 0))\n",
    "will_hit(\"y = -4x + 6\", (1, 2))\n",
    "will_hit(\"y = 2x + 6\", (3, 2))"
   ]
  },
  {
   "cell_type": "code",
   "execution_count": null,
   "id": "abdc5769-e074-4fc5-b199-5df066b57537",
   "metadata": {},
   "outputs": [],
   "source": []
  }
 ],
 "metadata": {
  "kernelspec": {
   "display_name": "Python 3",
   "language": "python",
   "name": "python3"
  },
  "language_info": {
   "codemirror_mode": {
    "name": "ipython",
    "version": 3
   },
   "file_extension": ".py",
   "mimetype": "text/x-python",
   "name": "python",
   "nbconvert_exporter": "python",
   "pygments_lexer": "ipython3",
   "version": "3.8.8"
  }
 },
 "nbformat": 4,
 "nbformat_minor": 5
}
