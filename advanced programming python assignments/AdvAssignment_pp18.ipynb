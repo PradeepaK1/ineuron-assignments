{
 "cells": [
  {
   "cell_type": "markdown",
   "id": "a74ecc83-a29d-4b8a-9e05-94338be16360",
   "metadata": {},
   "source": [
    "1.A robot has been given a list of movement instructions. Each instruction is either left, right, up or down, followed by a distance to move. The robot starts at [0, 0]. You want to calculate where the robot will end up and return its final position as a list.\n",
    "\n",
    "To illustrate, if the robot is given the following instructions:\n",
    "\n",
    "[\"right 10\", \"up 50\", \"left 30\", \"down 10\"]\n",
    "\n",
    "It will end up 20 left and 40 up from where it started, so we return [-20, 40].\n",
    "\n",
    "Examples\n",
    "\n",
    "track_robot([\"right 10\", \"up 50\", \"left 30\", \"down 10\"]) ➞ [-20, 40]\n",
    "\n",
    "track_robot([]) ➞ [0, 0]\n",
    "\n",
    "// If there are no instructions, the robot doesn't move.\n",
    "\n",
    "track_robot([\"right 100\", \"right 100\", \"up 500\", \"up 10000\"]) ➞ [200, 10500]"
   ]
  },
  {
   "cell_type": "code",
   "execution_count": 8,
   "id": "1d630601-eb1a-46f9-904e-56bcfa1efb9b",
   "metadata": {},
   "outputs": [
    {
     "name": "stdout",
     "output_type": "stream",
     "text": [
      "track_robot(['right 10', 'up 50', 'left 30', 'down 10']) ➞ [-20, 40]\n",
      "track_robot([]) ➞ [0, 0]\n",
      "track_robot(['right 100', 'right 100', 'up 500', 'up 10000']) ➞ [200, 10500]\n"
     ]
    }
   ],
   "source": [
    "def track_robot(l):\n",
    "    a = [0,0]\n",
    "    for i in l:\n",
    "        i = i.split(\" \")\n",
    "        if i[0] in ['right','left']:\n",
    "            a[0] = a[0]-int(i[1]) if i[0] == 'left' else a[0]+int(i[1])\n",
    "        else:\n",
    "            a[1] = a[1]-int(i[1]) if i[0] == 'down' else a[1]+int(i[1])\n",
    "    print(\"track_robot({}) ➞ {}\".format(l,a))        \n",
    "track_robot([\"right 10\", \"up 50\", \"left 30\", \"down 10\"])\n",
    "track_robot([])\n",
    "track_robot([\"right 100\", \"right 100\", \"up 500\", \"up 10000\"])"
   ]
  },
  {
   "cell_type": "markdown",
   "id": "24605229-4317-4a09-854b-4b9c101e4715",
   "metadata": {},
   "source": [
    "2.Write a function that will return the longest word in a sentence. In cases where more than one word is found, return the first one.\n",
    "\n",
    "Examples\n",
    "\n",
    "find_longest(\"A thing of beauty is a joy forever.\") ➞ \"forever\"\n",
    "\n",
    "find_longest(\"Forgetfulness is by all means powerless!\") ➞ \"forgetfulness\"\n",
    "\n",
    "find_longest(\"\\\"Strengths\\\" is the longest and most commonly used word that contains only a single vowel.\") ➞ \"strengths\""
   ]
  },
  {
   "cell_type": "code",
   "execution_count": 9,
   "id": "5c4ef9fb-fd0d-4373-a268-adffdd34c988",
   "metadata": {},
   "outputs": [
    {
     "name": "stdout",
     "output_type": "stream",
     "text": [
      "find_longest(A thing of beauty is a joy forever) ➞ forever\n",
      "find_longest(Forgetfulness is by all means powerless!) ➞ forgetfulness\n",
      "find_longest(\"Strengths\" is the longest and most commonly used word that contains only a single vowel.) ➞ \"strengths\"\n"
     ]
    }
   ],
   "source": [
    "def find_longest(s):\n",
    "    l = []\n",
    "    for i in s.split(\" \"):\n",
    "        l.append(len(i))\n",
    "    r=s.split(\" \")[l.index(max(l))].lower()\n",
    "    print(\"find_longest({}) ➞ {}\".format(s,r))\n",
    "find_longest(\"A thing of beauty is a joy forever\")\n",
    "find_longest(\"Forgetfulness is by all means powerless!\")\n",
    "find_longest(\"\\\"Strengths\\\" is the longest and most commonly used word that contains only a single vowel.\")"
   ]
  },
  {
   "cell_type": "markdown",
   "id": "33d0f013-3ebc-4a6e-abab-678cd3ee1b44",
   "metadata": {},
   "source": [
    "3.Create a function to check if a candidate is qualified in an imaginary coding interview of an imaginary tech startup.\n",
    "\n",
    "The criteria for a candidate to be qualified in the coding interview is:\n",
    "\n",
    "   1. The candidate should have complete all the questions.\n",
    "   2. The maximum time given to complete the interview is 120 minutes.\n",
    "   3. The maximum time given for very easy questions is 5 minutes each.\n",
    "   4. The maximum time given for easy questions is 10 minutes each.\n",
    "   5. The maximum time given for medium questions is 15 minutes each.\n",
    "   6. The maximum time given for hard questions is 20 minutes each.\n",
    "\n",
    "If all the above conditions are satisfied, return \"qualified\", else return \"disqualified\".\n",
    "\n",
    "You will be given a list of time taken by a candidate to solve a particular question and the total time taken by the candidate to complete the interview.\n",
    "\n",
    "Given a list , in a true condition will always be in the format [very easy, very easy, easy, easy, medium, medium, hard, hard].\n",
    "\n",
    "The maximum time to complete the interview includes a buffer time of 20 minutes.\n",
    "\n",
    "Examples\n",
    "\n",
    "interview([5, 5, 10, 10, 15, 15, 20, 20], 120) ➞ \"qualified\"\n",
    "\n",
    "interview([2, 3, 8, 6, 5, 12, 10, 18], 64) ➞  \"qualified\"\n",
    "\n",
    "interview([5, 5, 10, 10, 25, 15, 20, 20], 120) ➞ \"disqualified\"\n",
    "\n",
    "Exceeded the time limit for a medium question.\n",
    "\n",
    "interview([5, 5, 10, 10, 15, 15, 20], 120) ➞ \"disqualified\"\n",
    "\n",
    "Did not complete all the questions.\n",
    "\n",
    "interview([5, 5, 10, 10, 15, 15, 20, 20], 130) ➞ \"disqualified\"\n",
    "\n",
    "Solved all the questions in their respected time limits but exceeded the total time limit of the interview."
   ]
  },
  {
   "cell_type": "code",
   "execution_count": 10,
   "id": "7679f6b1-221e-48c2-8a8e-e6d151c11bc4",
   "metadata": {},
   "outputs": [
    {
     "name": "stdout",
     "output_type": "stream",
     "text": [
      "interview([5, 5, 10, 10, 15, 15, 20, 20], 120) ➞ qualified\n",
      "interview([2, 3, 8, 6, 5, 12, 10, 18], 64) ➞ qualified\n",
      "interview([5, 5, 10, 10, 25, 15, 20, 20], 120) ➞ disqualified\n",
      "interview([5, 5, 10, 10, 15, 15, 20], 120) ➞ disqualified\n",
      "interview([5, 5, 10, 10, 15, 15, 20, 20], 130) ➞ disqualified\n"
     ]
    }
   ],
   "source": [
    "def interview(l, t):\n",
    "    a = 'qualified'\n",
    "    if t > 120 or max(l[0:2]) > 5 or max(l[2:4]) > 10 or max(l[4:6]) > 15 or max(l[6:8]) > 20 or len(l) != 8:\n",
    "            a = 'disqualified'\n",
    "    print(\"interview({}, {}) ➞ {}\".format(l,t,a))\n",
    "interview([5, 5, 10, 10, 15, 15, 20, 20], 120)\n",
    "interview([2, 3, 8, 6, 5, 12, 10, 18], 64)\n",
    "interview([5, 5, 10, 10, 25, 15, 20, 20], 120)\n",
    "interview([5, 5, 10, 10, 15, 15, 20], 120)\n",
    "interview([5, 5, 10, 10, 15, 15, 20, 20], 130)"
   ]
  },
  {
   "cell_type": "markdown",
   "id": "f559f2bf-81fd-4d28-a14b-a3c7e8658272",
   "metadata": {},
   "source": [
    "4.Write a function that divides a list into chunks of size n, where n is the length of each chunk.\n",
    "\n",
    "Examples\n",
    "\n",
    "chunkify([2, 3, 4, 5], 2) ➞ [[2, 3], [4, 5]]\n",
    "\n",
    "chunkify([2, 3, 4, 5, 6], 2) ➞ [[2, 3], [4, 5], [6]]\n",
    "\n",
    "chunkify([2, 3, 4, 5, 6, 7], 3) ➞ [[2, 3, 4], [5, 6, 7]]\n",
    "\n",
    "chunkify([2, 3, 4, 5, 6, 7], 1) ➞ [[2], [3], [4], [5], [6], [7]]\n",
    "\n",
    "chunkify([2, 3, 4, 5, 6, 7], 7) ➞ [[2, 3, 4, 5, 6, 7]]"
   ]
  },
  {
   "cell_type": "code",
   "execution_count": 11,
   "id": "71741c06-dd60-4554-8895-ba33188f92ec",
   "metadata": {},
   "outputs": [
    {
     "name": "stdout",
     "output_type": "stream",
     "text": [
      "chunkify([2, 3, 4, 5],2) ➞ [[2, 3], [4, 5]]\n",
      "chunkify([2, 3, 4, 5, 6],2) ➞ [[2, 3], [4, 5], [6]]\n",
      "chunkify([2, 3, 4, 5, 6, 7],3) ➞ [[2, 3, 4], [5, 6, 7]]\n",
      "chunkify([2, 3, 4, 5, 6, 7],1) ➞ [[2], [3], [4], [5], [6], [7]]\n",
      "chunkify([2, 3, 4, 5, 6, 7],7) ➞ [[2, 3, 4, 5, 6, 7]]\n"
     ]
    }
   ],
   "source": [
    "def chunkify(l,s):\n",
    "    a = []\n",
    "    for i in range(0,len(l),s):\n",
    "        a.append(l[i:i+s])\n",
    "    print(\"chunkify({},{}) ➞ {}\".format(l,s,a))\n",
    "chunkify([2, 3, 4, 5], 2)   \n",
    "chunkify([2, 3, 4, 5, 6], 2)\n",
    "chunkify([2, 3, 4, 5, 6, 7], 3)\n",
    "chunkify([2, 3, 4, 5, 6, 7], 1)\n",
    "chunkify([2, 3, 4, 5, 6, 7], 7)"
   ]
  },
  {
   "cell_type": "markdown",
   "id": "ce52288c-7972-4437-b01b-a7d0dbaca25d",
   "metadata": {},
   "source": [
    "5.You are given a list of strings consisting of grocery items, with prices in parentheses. Return a list of prices in float format.\n",
    "\n",
    "Examples\n",
    "\n",
    "get_prices([\"salad ($4.99)\"]) ➞ [4.99]\n",
    "\n",
    "get_prices([\n",
    "  \"artichokes ($1.99)\",\n",
    "  \"rotiserrie chicken ($5.99)\",\n",
    "  \"gum ($0.75)\"\n",
    "])\n",
    "\n",
    "➞ [1.99, 5.99, 0.75]\n",
    "\n",
    "get_prices([\n",
    "  \"ice cream ($5.99)\",\n",
    "  \"banana ($0.20)\",\n",
    "  \"sandwich ($8.50)\",\n",
    "  \"soup ($1.99)\"\n",
    "])\n",
    "\n",
    "➞ [5.99, 0.2, 8.50, 1.99]"
   ]
  },
  {
   "cell_type": "code",
   "execution_count": 1,
   "id": "818d3af4-9bd1-411c-85c0-2f11ead6a295",
   "metadata": {},
   "outputs": [
    {
     "name": "stdout",
     "output_type": "stream",
     "text": [
      "get_prices(['salad ($4.99)']) ➞ [4.99]\n",
      "get_prices(['artichokes ($1.99)', 'rotiserrie chicken ($5.99)', 'gum ($0.75)']) ➞ [1.99, 5.99, 0.75]\n",
      "get_prices(['ice cream ($5.99)', 'banana ($0.20)', 'sandwich ($8.50)', 'soup ($1.99)']) ➞ [5.99, 0.2, 8.5, 1.99]\n"
     ]
    }
   ],
   "source": [
    "def get_prices(l):\n",
    "    a = []\n",
    "    for i in l:\n",
    "        a.append(float((i.split('$')[-1]).split(')')[0]))\n",
    "    print(\"get_prices({}) ➞ {}\".format(l,a))\n",
    "get_prices([\"salad ($4.99)\"])\n",
    "get_prices([\"artichokes ($1.99)\",\"rotiserrie chicken ($5.99)\",\"gum ($0.75)\"])\n",
    "get_prices([\"ice cream ($5.99)\",\"banana ($0.20)\",\"sandwich ($8.50)\",\"soup ($1.99)\"])"
   ]
  },
  {
   "cell_type": "code",
   "execution_count": null,
   "id": "f7860e36-0097-4b47-98ff-4107eaa6433c",
   "metadata": {},
   "outputs": [],
   "source": []
  }
 ],
 "metadata": {
  "kernelspec": {
   "display_name": "Python 3",
   "language": "python",
   "name": "python3"
  },
  "language_info": {
   "codemirror_mode": {
    "name": "ipython",
    "version": 3
   },
   "file_extension": ".py",
   "mimetype": "text/x-python",
   "name": "python",
   "nbconvert_exporter": "python",
   "pygments_lexer": "ipython3",
   "version": "3.8.8"
  }
 },
 "nbformat": 4,
 "nbformat_minor": 5
}
