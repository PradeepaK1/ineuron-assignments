{
 "cells": [
  {
   "cell_type": "markdown",
   "id": "fd954fdf-fdaf-4530-b118-d0026b95255d",
   "metadata": {},
   "source": [
    "1.Given a sentence as txt, return True if any two adjacent words have this property: One word ends with a vowel, while the word immediately after begins with a vowel (a e i o u).\n",
    "\n",
    "Examples\n",
    "\n",
    "vowel_links(\"a very large appliance\") ➞ True\n",
    "\n",
    "vowel_links(\"go to edabit\") ➞ True\n",
    "\n",
    "vowel_links(\"an open fire\") ➞ False\n",
    "\n",
    "vowel_links(\"a sudden applause\") ➞ False"
   ]
  },
  {
   "cell_type": "code",
   "execution_count": 3,
   "id": "3f5156fe-819d-4cc5-b7c1-8bc656efac0c",
   "metadata": {},
   "outputs": [
    {
     "name": "stdout",
     "output_type": "stream",
     "text": [
      "vowel_links(a very large appliance) ➞ True\n",
      "vowel_links(go to edabit) ➞ True\n",
      "vowel_links(an open fire) ➞ False\n",
      "vowel_links(a sudden applause) ➞ False\n"
     ]
    }
   ],
   "source": [
    "def vowel_links(s):\n",
    "    l = s.split(\" \")\n",
    "    v = ['a','e','i','o','u']\n",
    "    a,b,c = False, False,False\n",
    "    for i in range(len(l)):\n",
    "        t = True if l[i][-1] in v else False\n",
    "        b = True if l[i][0] in v else False\n",
    "        if b == a == True:\n",
    "            c=True\n",
    "            break\n",
    "        a=t\n",
    "    print(\"vowel_links({}) ➞ {}\".format(s,c))       \n",
    "vowel_links(\"a very large appliance\")\n",
    "vowel_links(\"go to edabit\")\n",
    "vowel_links(\"an open fire\")\n",
    "vowel_links(\"a sudden applause\")"
   ]
  },
  {
   "cell_type": "markdown",
   "id": "f418c7f6-a337-442a-a5f2-10268ae251b5",
   "metadata": {},
   "source": [
    "2.You are given three inputs: a string, one letter, and a second letter.\n",
    "\n",
    "Write a function that returns True if every instance of the first letter occurs before every instance of the second letter.\n",
    "\n",
    "Examples\n",
    "\n",
    "first_before_second(\"a rabbit jumps joyfully\", \"a\", \"j\") ➞ True\n",
    "\n",
    "Every instance of \"a\" occurs before every instance of \"j\".\n",
    "\n",
    "first_before_second(\"knaves knew about waterfalls\", \"k\", \"w\") ➞  True\n",
    "\n",
    "first_before_second(\"happy birthday\", \"a\", \"y\") ➞ False\n",
    "\n",
    "The \"a\" in \"birthday\" occurs after the \"y\" in \"happy\".\n",
    "\n",
    "first_before_second(\"precarious kangaroos\", \"k\", \"a\") ➞ False"
   ]
  },
  {
   "cell_type": "code",
   "execution_count": 4,
   "id": "e527560f-62c0-40a0-b2ee-b4596de4618c",
   "metadata": {},
   "outputs": [
    {
     "name": "stdout",
     "output_type": "stream",
     "text": [
      "first_before_second(a rabbit jumps joyfully, a, j) ➞ True\n",
      "first_before_second(knaves knew about waterfalls, k, w) ➞ True\n",
      "first_before_second(happy birthday, a, y) ➞ False\n",
      "first_before_second(precarious kangaroos, k, a) ➞ False\n"
     ]
    }
   ],
   "source": [
    "def first_before_second(s,s1,s2):\n",
    "    l = s.rindex(s1)\n",
    "    f = s.index(s2)\n",
    "    a = True if l < f else False\n",
    "    print(\"first_before_second({}, {}, {}) ➞ {}\".format(s,s1,s2,a))\n",
    "first_before_second(\"a rabbit jumps joyfully\", \"a\", \"j\")\n",
    "first_before_second(\"knaves knew about waterfalls\", \"k\", \"w\")\n",
    "first_before_second(\"happy birthday\", \"a\", \"y\")\n",
    "first_before_second(\"precarious kangaroos\", \"k\", \"a\")"
   ]
  },
  {
   "cell_type": "markdown",
   "id": "eaef8b75-764a-46d2-9eb6-3a71d010dc68",
   "metadata": {},
   "source": [
    "3.Create a function that returns the characters from a list or string r on odd or even positions, depending on the specifier s. The specifier will be \"odd\" for items on odd positions (1, 3, 5, ...) and \"even\" for items on even positions (2, 4, 6, ...).\n",
    "\n",
    "Examples\n",
    "\n",
    "char_at_pos([2, 4, 6, 8, 10], \"even\") ➞ [4, 8]\n",
    "\n",
    "4 & 8 occupy the 2nd & 4th positions\n",
    "\n",
    "char_at_pos(\"EDABIT\", \"odd\") ➞ \"EAI\"\n",
    "\n",
    "\"E\", \"A\" and \"I\" occupy the 1st, 3rd and 5th positions\n",
    "\n",
    "char_at_pos([\"A\", \"R\", \"B\", \"I\", \"T\", \"R\", \"A\", \"R\", \"I\", \"L\", \"Y\"], \"odd\") ➞ [\"A\", \"B\", \"T\", \"A\", \"I\", \"Y\"]"
   ]
  },
  {
   "cell_type": "code",
   "execution_count": 10,
   "id": "e285d354-10ce-484e-95d1-b012ede7e791",
   "metadata": {},
   "outputs": [
    {
     "name": "stdout",
     "output_type": "stream",
     "text": [
      "char_at_pos[2, 4, 6, 8, 10], even ➞ [4, 8]\n",
      "char_at_posEDABIT, odd ➞ ['E', 'A', 'I']\n",
      "char_at_pos['A', 'R', 'B', 'I', 'T', 'R', 'A', 'R', 'I', 'L', 'Y'], odd ➞ ['A', 'B', 'T', 'A', 'I', 'Y']\n"
     ]
    }
   ],
   "source": [
    "def char_at_pos(l,o):\n",
    "    s = []\n",
    "    for i in range(len(l)):\n",
    "        if o == 'even' and (i+1)%2 == 0:\n",
    "            s.append(l[i])\n",
    "        elif o == 'odd' and (i+1)%2 != 0:\n",
    "            s.append(l[i])            \n",
    "    print(\"char_at_pos{}, {} ➞ {}\".format(l,o,(s)))\n",
    "char_at_pos([2, 4, 6, 8, 10], \"even\")\n",
    "char_at_pos(\"EDABIT\", \"odd\")\n",
    "char_at_pos([\"A\", \"R\", \"B\", \"I\", \"T\", \"R\", \"A\", \"R\", \"I\", \"L\", \"Y\"], \"odd\")"
   ]
  },
  {
   "cell_type": "markdown",
   "id": "f0988707-fd9b-4ff3-bbcd-1067df6b1879",
   "metadata": {},
   "source": [
    "4.Write a function that returns the greatest common divisor of all list elements. If the greatest common divisor is 1, return 1.\n",
    "\n",
    "Examples\n",
    "\n",
    "GCD([10, 20, 40]) ➞ 10\n",
    "\n",
    "GCD([1, 2, 3, 100]) ➞ 1\n",
    "\n",
    "GCD([1024, 192, 2048, 512]) ➞ 64"
   ]
  },
  {
   "cell_type": "code",
   "execution_count": 19,
   "id": "a9c84fa1-7cf2-472c-a6be-0f9bdaa6dd0b",
   "metadata": {},
   "outputs": [
    {
     "name": "stdout",
     "output_type": "stream",
     "text": [
      "GCD([10, 20, 40]) ➞ 10\n",
      "GCD([1, 2, 3, 100]) ➞ 1\n",
      "GCD([1024, 192, 2048, 512]) ➞ 64\n"
     ]
    }
   ],
   "source": [
    "def find_gcd(x, y):\n",
    "    while(y):\n",
    "        x, y = y, x % y\n",
    "    return x\n",
    "def GCD(l):\n",
    "    x=l[0]\n",
    "    y=l[1]\n",
    "    gcd=find_gcd(x,y)\n",
    "    for i in range(2,len(l)):\n",
    "        gcd=find_gcd(gcd,l[i])\n",
    "    print(\"GCD({}) ➞ {}\".format(l,gcd))\n",
    "GCD([10, 20, 40]) \n",
    "GCD([1, 2, 3, 100])\n",
    "GCD([1024, 192, 2048, 512])"
   ]
  },
  {
   "cell_type": "markdown",
   "id": "2a8a9e21-770b-4e89-92ef-2df7c37bcd57",
   "metadata": {},
   "source": [
    "5.A number/string is a palindrome if the digits/characters are the same when read both forward and backward. Examples include \"racecar\" and 12321. Given a positive number n, check if n or the binary representation of n is palindromic. Return the following:\n",
    "\n",
    "- \"Decimal only.\" if only n is a palindrome.\n",
    "\n",
    "- \"Binary only.\" if only the binary representation of n is a palindrome.\n",
    "\n",
    "- \"Decimal and binary.\" if both are palindromes.\n",
    "\n",
    "- \"Neither!\" if neither are palindromes.\n",
    "\n",
    "Examples\n",
    "\n",
    "palindrome_type(1306031) ➞ \"Decimal only.\"\n",
    "\n",
    "decimal = 1306031\n",
    "\n",
    "binary  = \"100111110110110101111\"\n",
    "\n",
    "palindrome_type(427787) ➞ \"Binary only.\"\n",
    "\n",
    "decimal = 427787\n",
    "\n",
    "binary  = \"1101000011100001011\"\n",
    "\n",
    "palindrome_type(313) ➞ \"Decimal and binary.\"\n",
    "\n",
    "decimal = 313\n",
    "\n",
    "binary  = 100111001\n",
    "\n",
    "palindrome_type(934) ➞ \"Neither!\"\n",
    "\n",
    "decimal = 934\n",
    "\n",
    "binary  = \"1110100110\""
   ]
  },
  {
   "cell_type": "code",
   "execution_count": 18,
   "id": "4743f18e-d68b-4fed-be95-fd05d5856672",
   "metadata": {},
   "outputs": [
    {
     "name": "stdout",
     "output_type": "stream",
     "text": [
      "palindrome(1306031) ➞ Decimal only.\n",
      "palindrome(427787) ➞ Neither!\n",
      "palindrome(313) ➞ Decimal and binary.\n",
      "palindrome(934) ➞ Neither!\n"
     ]
    }
   ],
   "source": [
    "def palindrome_type(n):\n",
    "    a = \"\"\n",
    "    if str(n) == str(n)[::-1] and str(bin(n)[2:]) == str(bin(n)[2:])[::-1]:\n",
    "        a = 'Decimal and binary.'\n",
    "    elif str(n) == str(n)[::-1] and str(bin(n)[2:]) != str(bin(n)[2:])[::-1]:\n",
    "        a = 'Decimal only.'\n",
    "    elif str(bin(n)[2:]) != str(bin(n)[2:])[::-1] and str(n) == str(n)[::-1]:\n",
    "        a = 'Binary only.'\n",
    "    else:\n",
    "        a = 'Neither!'\n",
    "    print(\"palindrome({}) ➞ {}\".format(n,a))\n",
    "palindrome_type(1306031)\n",
    "palindrome_type(427787)\n",
    "palindrome_type(313)\n",
    "palindrome_type(934)"
   ]
  },
  {
   "cell_type": "code",
   "execution_count": null,
   "id": "43303c5e-6fb2-4397-95d1-7e0f5d1d3db5",
   "metadata": {},
   "outputs": [],
   "source": []
  }
 ],
 "metadata": {
  "kernelspec": {
   "display_name": "Python 3",
   "language": "python",
   "name": "python3"
  },
  "language_info": {
   "codemirror_mode": {
    "name": "ipython",
    "version": 3
   },
   "file_extension": ".py",
   "mimetype": "text/x-python",
   "name": "python",
   "nbconvert_exporter": "python",
   "pygments_lexer": "ipython3",
   "version": "3.8.8"
  }
 },
 "nbformat": 4,
 "nbformat_minor": 5
}
