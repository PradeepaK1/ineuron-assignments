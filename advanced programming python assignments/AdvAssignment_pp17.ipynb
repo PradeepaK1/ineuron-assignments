{
 "cells": [
  {
   "cell_type": "markdown",
   "id": "bf9701ae-85d8-4ebb-9499-810963097887",
   "metadata": {},
   "source": [
    "1.Create a function that transposes a 2D matrix.\n",
    "\n",
    "Examples\n",
    "\n",
    "transpose_matrix([\n",
    "  [1, 1, 1],\n",
    "  [2, 2, 2],\n",
    "  [3, 3, 3]\n",
    "]) ➞ [\n",
    "  [1, 2, 3],\n",
    "  [1, 2, 3],\n",
    "  [1, 2, 3]\n",
    "]\n",
    "\n",
    "transpose_matrix([\n",
    "  [5, 5],\n",
    "  [6, 7],\n",
    "  [9, 1]\n",
    "]) ➞ [\n",
    "  [5, 6, 9],\n",
    "  [5, 7, 1]\n",
    "]"
   ]
  },
  {
   "cell_type": "code",
   "execution_count": 19,
   "id": "07e513c4-64bc-4506-8cf6-296927a1d468",
   "metadata": {},
   "outputs": [
    {
     "name": "stdout",
     "output_type": "stream",
     "text": [
      "transpose_matrix([[1, 1, 1], [2, 2, 2], [3, 3, 3]]) ➞ [[1, 2, 3], [1, 2, 3], [1, 2, 3]]\n",
      "transpose_matrix([[5, 5], [6, 7], [9, 1]]) ➞ [[5, 6, 9], [5, 7, 1]]\n"
     ]
    }
   ],
   "source": [
    "def transpose_matrix(m):\n",
    "    a = []\n",
    "    for i in range(len(m[0])):\n",
    "        t = []\n",
    "        for j in m:\n",
    "            t.append(j[i])\n",
    "        a.append(t)\n",
    "    print(\"transpose_matrix({}) ➞ {}\".format(m,a))\n",
    "transpose_matrix([[1, 1, 1],[2, 2, 2],[3, 3, 3]])\n",
    "transpose_matrix([[5, 5],[6, 7],[9, 1]])"
   ]
  },
  {
   "cell_type": "markdown",
   "id": "a2b25b32-4c0d-454d-9e90-de944b561e12",
   "metadata": {},
   "source": [
    "2.Create a function that determines whether a string is a valid hex code.\n",
    "\n",
    "A hex code must begin with a pound key # and is exactly 6 characters in length. Each character must be a digit from 0-9 or an alphabetic character from A-F. All alphabetic characters may be uppercase or lowercase.\n",
    "\n",
    "Examples\n",
    "\n",
    "is_valid_hex_code(\"#CD5C5C\") ➞ True\n",
    "\n",
    "is_valid_hex_code(\"#EAECEE\") ➞ True\n",
    "\n",
    "is_valid_hex_code(\"#eaecee\") ➞ True\n",
    "\n",
    "is_valid_hex_code(\"#CD5C58C\") ➞ False\n",
    "\n",
    "Length exceeds 6\n",
    "\n",
    "is_valid_hex_code(\"#CD5C5Z\") ➞ False\n",
    "\n",
    "Not all alphabetic characters in A-F\n",
    "\n",
    "is_valid_hex_code(\"#CD5C&C\") ➞ False\n",
    "\n",
    "Contains unacceptable character\n",
    "\n",
    "is_valid_hex_code(\"CD5C5C\") ➞ False\n",
    "\n",
    "Missing #"
   ]
  },
  {
   "cell_type": "code",
   "execution_count": 20,
   "id": "6555297a-f832-44ae-a484-1a438422c68f",
   "metadata": {},
   "outputs": [
    {
     "name": "stdout",
     "output_type": "stream",
     "text": [
      "is_valid_hex_code(#CD5C5C) ➞ True\n",
      "is_valid_hex_code(#EAECEE) ➞ True\n",
      "is_valid_hex_code(#eaecee) ➞ True\n",
      "is_valid_hex_code(#CD5C58C) ➞ False\n",
      "is_valid_hex_code(#CD5C5Z) ➞ False\n",
      "is_valid_hex_code(#CD5C&C) ➞ False\n",
      "is_valid_hex_code(CD5C5C) ➞ False\n"
     ]
    }
   ],
   "source": [
    "def is_valid_hex_code(s):\n",
    "    a = True\n",
    "    for i in s:\n",
    "        if len(s) != 7 or i.lower() not in '#abcdef0123456789':\n",
    "            a = False\n",
    "    print(\"is_valid_hex_code({}) ➞ {}\".format(s,a))\n",
    "is_valid_hex_code(\"#CD5C5C\")\n",
    "is_valid_hex_code(\"#EAECEE\")\n",
    "is_valid_hex_code(\"#eaecee\")\n",
    "is_valid_hex_code(\"#CD5C58C\")\n",
    "is_valid_hex_code(\"#CD5C5Z\")\n",
    "is_valid_hex_code(\"#CD5C&C\")\n",
    "is_valid_hex_code(\"CD5C5C\")"
   ]
  },
  {
   "cell_type": "markdown",
   "id": "1c94e033-5720-4718-b97e-24aeb8bd39bd",
   "metadata": {},
   "source": [
    "3.Given a list of math equations (given as strings), return the percentage of correct answers as a string. Round to the nearest whole number.\n",
    "\n",
    "Examples\n",
    "\n",
    "mark_maths([\"2+2=4\", \"3+2=5\", \"10-3=3\", \"5+5=10\"]) ➞ \"75%\"\n",
    "\n",
    "mark_maths([\"1-2=-2\"]), \"0%\"\n",
    "\n",
    "mark_maths([\"2+3=5\", \"4+4=9\", \"3-1=2\"]) ➞ \"67%\""
   ]
  },
  {
   "cell_type": "code",
   "execution_count": 21,
   "id": "96b9714c-5678-44a6-9a27-8647179ef676",
   "metadata": {},
   "outputs": [
    {
     "name": "stdout",
     "output_type": "stream",
     "text": [
      "mark_maths(['2+2=4', '3+2=5', '10-3=3', '5+5=10']) ➞ 75%\n",
      "mark_maths(['1-2=-2']) ➞ 0%\n",
      "mark_maths(['2+3=5', '4+4=9', '3-1=2']) ➞ 67%\n"
     ]
    }
   ],
   "source": [
    "import math\n",
    "def mark_maths(l):\n",
    "    a = []\n",
    "    for i in l:\n",
    "        i = i.split(\"=\")\n",
    "        a.append(eval(i[0]) == int(i[1])) \n",
    "    r=str(math.ceil((sum(a)/len(a))*100))\n",
    "    print(\"mark_maths({}) ➞ {}%\".format(l,r))\n",
    "mark_maths([\"2+2=4\", \"3+2=5\", \"10-3=3\", \"5+5=10\"])\n",
    "mark_maths([\"1-2=-2\"])\n",
    "mark_maths([\"2+3=5\", \"4+4=9\", \"3-1=2\"])"
   ]
  },
  {
   "cell_type": "markdown",
   "id": "2aa05808-d542-4a87-b258-594627c6457e",
   "metadata": {},
   "source": [
    "4.There are two players, Alice and Bob, each with a 3-by-3 grid. A referee tells Alice to fill out one particular row in the grid (say the second row) by putting either a 1 or a 0 in each box, such that the sum of the numbers in that row is odd. The referee tells Bob to fill out one column in the grid (say the first column) by putting either a 1 or a 0 in each box, such that the sum of the numbers in that column is even.\n",
    "\n",
    "Alice and Bob win the game if Alice’s numbers give an odd sum, Bob’s give an even sum, and (most important) they’ve each written down the same number in the one square where their row and column intersect.\n",
    "\n",
    "Examples\n",
    "\n",
    "magic_square_game([2, \"100\"], [1, \"101\"]) ➞ False\n",
    "\n",
    "magic_square_game([2, \"001\"], [1, \"101\"]) ➞ True\n",
    "\n",
    "magic_square_game([3, \"111\"], [2, \"011\"]) ➞ True\n",
    "\n",
    "magic_square_game([1, \"010\"], [3, \"101\"]) ➞ False\n",
    "\n",
    "Two lists, Alice [row, \"her choice\"], Bob [column, \"his choice\"]"
   ]
  },
  {
   "cell_type": "code",
   "execution_count": 22,
   "id": "e4b0f5c8-7fc6-4c28-b546-794150b173e2",
   "metadata": {},
   "outputs": [
    {
     "name": "stdout",
     "output_type": "stream",
     "text": [
      "magic_square_game([2, '100'], [1, '101']) ➞ False\n",
      "magic_square_game([2, '001'], [1, '101']) ➞ True\n",
      "magic_square_game([3, '111'], [2, '011']) ➞ True\n",
      "magic_square_game([1, '010'], [3, '101']) ➞ False\n"
     ]
    }
   ],
   "source": [
    "def magic_square_game(n,m):\n",
    "    a = False\n",
    "    if m[1][n[0]-1] == n[1][m[0]-1]:\n",
    "        a = True\n",
    "    print(\"magic_square_game({}, {}) ➞ {}\".format(n,m,a))\n",
    "magic_square_game([2, \"100\"], [1, \"101\"])\n",
    "magic_square_game([2, \"001\"], [1, \"101\"]) \n",
    "magic_square_game([3, \"111\"], [2, \"011\"]) \n",
    "magic_square_game([1, \"010\"], [3, \"101\"]) "
   ]
  },
  {
   "cell_type": "markdown",
   "id": "3d82cf98-1974-4929-a5f0-1134635ec8a7",
   "metadata": {},
   "source": [
    "5.From point A, an object is moving towards point B at constant velocity va (in km/hr). From point B, another object is moving towards point A at constant velocity vb (in km/hr). Knowing this and the distance between point A and B (in km), write a function that returns how much time passes until both objects meet.\n",
    "\n",
    "Format the output like this:\n",
    "\n",
    "\"2h 23min 34s\"\n",
    "\n",
    "Examples\n",
    "\n",
    "lets_meet(100, 10, 30) ➞ \"2h 30min 0s\"\n",
    "\n",
    "lets_meet(280, 70, 80) ➞ \"1h 52min 0s\"\n",
    "\n",
    "lets_meet(90, 75, 65) ➞ \"0h 38min 34s\""
   ]
  },
  {
   "cell_type": "code",
   "execution_count": 23,
   "id": "510cf45b-b107-4f18-94ac-a5f690633efa",
   "metadata": {},
   "outputs": [
    {
     "name": "stdout",
     "output_type": "stream",
     "text": [
      "lets_meet(100, 10, 30) ➞ 2h 30min 0s\n",
      "lets_meet(280, 70, 80) ➞ 1h 52min 0s\n",
      "lets_meet(90, 75, 65) ➞ 0h 38min 34s\n"
     ]
    }
   ],
   "source": [
    "import math\n",
    "def lets_meet(d,a,b):\n",
    "    t = d/(a+b)\n",
    "    h = math.floor(t) \n",
    "    m = math.floor((t-h)*60)\n",
    "    s = math.floor(((((t)-h)*60)-m)*60)\n",
    "    print(\"lets_meet({}, {}, {}) ➞ {}h {}min {}s\".format(d,a,b,h,m,s))\n",
    "lets_meet(100, 10, 30)\n",
    "lets_meet(280, 70, 80)\n",
    "lets_meet(90, 75, 65)\n",
    "\n"
   ]
  },
  {
   "cell_type": "code",
   "execution_count": null,
   "id": "e7af22d4-1671-4e20-a810-f005dc3b44ef",
   "metadata": {},
   "outputs": [],
   "source": []
  },
  {
   "cell_type": "code",
   "execution_count": null,
   "id": "4fca78d2-45c4-4037-9dca-6f047f4b321e",
   "metadata": {},
   "outputs": [],
   "source": []
  }
 ],
 "metadata": {
  "kernelspec": {
   "display_name": "Python 3",
   "language": "python",
   "name": "python3"
  },
  "language_info": {
   "codemirror_mode": {
    "name": "ipython",
    "version": 3
   },
   "file_extension": ".py",
   "mimetype": "text/x-python",
   "name": "python",
   "nbconvert_exporter": "python",
   "pygments_lexer": "ipython3",
   "version": "3.8.8"
  }
 },
 "nbformat": 4,
 "nbformat_minor": 5
}
