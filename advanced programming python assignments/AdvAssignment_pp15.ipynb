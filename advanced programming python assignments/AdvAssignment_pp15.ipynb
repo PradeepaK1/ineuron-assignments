{
 "cells": [
  {
   "cell_type": "markdown",
   "id": "9e09d045-ade9-40a7-81ff-f2187a280255",
   "metadata": {},
   "source": [
    "1.Write a function that returns True if a given name can generate an array of words.\n",
    "\n",
    "Examples\n",
    "\n",
    "anagram(\"Justin Bieber\", [\"injures\", \"ebb\", \"it\"]) ➞ True\n",
    "\n",
    "anagram(\"Natalie Portman\", [\"ornamental\", \"pita\"]) ➞ True\n",
    "\n",
    "anagram(\"Chris Pratt\", [\"chirps\", \"rat\"]) ➞ False\n",
    "\n",
    "Not all letters are used\n",
    "\n",
    "anagram(\"Jeff Goldblum\", [\"jog\", \"meld\", \"bluffs\"]) ➞ False\n",
    "\n",
    "\"s\" does not exist in the original name"
   ]
  },
  {
   "cell_type": "code",
   "execution_count": 2,
   "id": "1f6db1a2-9406-47a4-b3f9-bbd9ed86a6db",
   "metadata": {},
   "outputs": [
    {
     "name": "stdout",
     "output_type": "stream",
     "text": [
      "anagram(Justin Bieber, ['injures', 'ebb', 'it']) ➞ True\n",
      "anagram(Natalie Portman, ['ornamental', 'pita']) ➞ True\n",
      "anagram(Chris Pratt, ['chirps', 'rat']) ➞ False\n",
      "anagram(Jeff Goldblum, ['jog', 'meld', 'bluffs']) ➞ False\n"
     ]
    }
   ],
   "source": [
    "def anagram(s,l):\n",
    "    sl = list(s.lower())\n",
    "    sl.remove(\" \")\n",
    "    a = False\n",
    "    r = []\n",
    "    for i in l:\n",
    "        for j in i:\n",
    "            if j in sl:\n",
    "                sl.remove(j)\n",
    "            else:\n",
    "                r.append(j)\n",
    "    if len(sl) == 0 and len(r) == 0:\n",
    "        a = True\n",
    "    print(\"anagram({}, {}) ➞ {}\".format(s,l,a))\n",
    "anagram(\"Justin Bieber\", [\"injures\", \"ebb\", \"it\"])\n",
    "anagram(\"Natalie Portman\", [\"ornamental\", \"pita\"])\n",
    "anagram(\"Chris Pratt\", [\"chirps\", \"rat\"])\n",
    "anagram(\"Jeff Goldblum\", [\"jog\", \"meld\", \"bluffs\"])"
   ]
  },
  {
   "cell_type": "markdown",
   "id": "f9e1f6b6-a4dd-46dd-ae4f-0e71ce025f9b",
   "metadata": {},
   "source": [
    "2.Given an array of users, each defined by an object with the following properties: name, score, reputation create a function that sorts the array to form the correct leaderboard.\n",
    "\n",
    "The leaderboard takes into consideration the score of each user of course, but an emphasis is put on their reputation in the community, so to get the trueScore, you should add the reputation multiplied by 2 to the score.\n",
    "\n",
    "Once you know the trueScore of each user, sort the array according to it in descending order.\n",
    "\n",
    "Examples\n",
    "\n",
    "leaderboards([\n",
    "  { \"name\": \"a\", \"score\": 100, \"reputation\": 20 },\n",
    "  { \"name\": \"b\", \"score\": 90, \"reputation\": 40 },\n",
    "  { \"name\": \"c\", \"score\": 115, \"reputation\": 30 },\n",
    "]) ➞ [\n",
    "  { \"name\": \"c\", \"score\": 115, \"reputation\": 30 },  # trueScore = 175\n",
    "  { \"name\": \"b\", \"score\": 90, \"reputation\": 40 },   # trueScore = 170\n",
    "  { \"name\": \"a\", \"score\": 100, \"reputation\": 20 }   # trueScore = 140\n",
    "]"
   ]
  },
  {
   "cell_type": "code",
   "execution_count": 3,
   "id": "81f94df3-5349-43a7-838a-dbae28d0af2c",
   "metadata": {},
   "outputs": [
    {
     "name": "stdout",
     "output_type": "stream",
     "text": [
      "leaderboards([{'name': 'a', 'score': 100, 'reputation': 20}, {'name': 'b', 'score': 90, 'reputation': 40}, {'name': 'c', 'score': 115, 'reputation': 30}]) ➞ [{'name': 'c', 'score': 115, 'reputation': 30}, {'name': 'b', 'score': 90, 'reputation': 40}, {'name': 'a', 'score': 100, 'reputation': 20}]\n"
     ]
    }
   ],
   "source": [
    "def leaderboards(l):\n",
    "    t = {}\n",
    "    a = []\n",
    "    for i in l:\n",
    "        t[(i[\"score\"]+i[\"reputation\"]*2)] = i\n",
    "    for i in sorted(t.keys(),reverse=True):\n",
    "        a.append(t[i])\n",
    "    print(\"leaderboards({}) ➞ {}\".format(l,a))\n",
    "leaderboards([\n",
    "  { \"name\": \"a\", \"score\": 100, \"reputation\": 20 },\n",
    "  { \"name\": \"b\", \"score\": 90, \"reputation\": 40 },\n",
    "  { \"name\": \"c\", \"score\": 115, \"reputation\": 30 },\n",
    "])"
   ]
  },
  {
   "cell_type": "code",
   "execution_count": null,
   "id": "c0929339-7bfa-4f2f-84aa-61ca7ab093fe",
   "metadata": {},
   "outputs": [],
   "source": [
    "3.Create a function that, given a phrase and a number of letters guessed, returns a string with hyphens - for every letter of the phrase not guessed, and each letter guessed in place.\n",
    "\n",
    "Examples\n",
    "\n",
    "hangman(\"helicopter\", [\"o\", \"e\", \"s\"]) ➞ \"-e---o--e-\"\n",
    "\n",
    "hangman(\"tree\", [\"r\", \"t\", \"e\"]) ➞ \"tree\"\n",
    "\n",
    "hangman(\"Python rules\", [\"a\", \"n\", \"p\", \"r\", \"z\"]) ➞ \"P----n r----\"\n",
    "\n",
    "hangman(\"He\"s a very naughty boy!\", [\"e\", \"a\", \"y\"]) ➞ \"-e\"- a -e-y -a----y –y!\""
   ]
  },
  {
   "cell_type": "code",
   "execution_count": 4,
   "id": "d8036507-a599-4eb4-8a54-98e245aaa74c",
   "metadata": {},
   "outputs": [
    {
     "name": "stdout",
     "output_type": "stream",
     "text": [
      "hangman(helicopter, ['o', 'e', 's']) ➞ -e---o--e-\n",
      "hangman(tree, ['r', 't', 'e']) ➞ tree\n",
      "hangman(Python rules, ['a', 'n', 'p', 'r', 'z']) ➞ P----n r----\n",
      "hangman(He\"s a very naughty boy!, ['e', 'a', 'y']) ➞ -e\"- a -e-y -a----y --y!\n"
     ]
    }
   ],
   "source": [
    "def hangman(s,l):\n",
    "    a = \"\"\n",
    "    for i in range(len(s)):\n",
    "        if s[i].lower() in l:\n",
    "            a += s[i]\n",
    "        elif s[i] in '\"! ':\n",
    "            a += s[i]\n",
    "        else:\n",
    "            a += '-'\n",
    "    print(\"hangman({}, {}) ➞ {}\".format(s,l,a))\n",
    "hangman(\"helicopter\", [\"o\", \"e\", \"s\"])\n",
    "hangman(\"tree\", [\"r\", \"t\", \"e\"])\n",
    "hangman(\"Python rules\", [\"a\", \"n\", \"p\", \"r\", \"z\"])\n",
    "hangman(\"He\\\"s a very naughty boy!\", [\"e\", \"a\", \"y\"])"
   ]
  },
  {
   "cell_type": "code",
   "execution_count": null,
   "id": "6f856afb-244a-437f-8a20-1497458b5b4d",
   "metadata": {},
   "outputs": [],
   "source": [
    "4.The Collatz sequence is as follows:\n",
    "\n",
    "  - Start with some given integer n.\n",
    "  \n",
    "  - If it is even, the next number will be n divided by 2.\n",
    "  \n",
    "  - If it is odd, multiply it by 3 and add 1 to make the next number.\n",
    "  \n",
    "  - The sequence stops when it reaches 1.\n",
    "\n",
    "According to the Collatz conjecture, it will always reach 1. If that's true, you can construct a finite sequence following the aforementioned method for any given integer.\n",
    "\n",
    "Write a function that takes in an integer n and returns the highest integer in the corresponding Collatz sequence.\n",
    "\n",
    "Examples\n",
    "\n",
    "max_collatz(10) ➞ 16\n",
    "\n",
    "Collatz sequence: 10, 5, 16, 8, 4, 2, 1\n",
    "\n",
    "max_collatz(32) ➞ 32\n",
    "\n",
    "Collatz sequence: 32, 16, 8, 4, 2, 1\n",
    "\n",
    "max_collatz(85) ➞ 256\n",
    "\n",
    "Collatz sequence: 85, 256, 128, 64, 32, 16, 8, 4, 2, 1"
   ]
  },
  {
   "cell_type": "code",
   "execution_count": 5,
   "id": "d168fa70-cd59-4e07-891a-ae3e2fd48594",
   "metadata": {},
   "outputs": [
    {
     "name": "stdout",
     "output_type": "stream",
     "text": [
      "max_collatz(10) ➞ 16\n",
      "max_collatz(32) ➞ 32\n",
      "max_collatz(85) ➞ 256\n"
     ]
    }
   ],
   "source": [
    "def max_collatz(n):\n",
    "    a = []\n",
    "    a.append(n)\n",
    "    t = n\n",
    "    while True:\n",
    "        if t%2 == 0:\n",
    "            t /= 2\n",
    "        else:\n",
    "            t = (t*3)+1\n",
    "        a.append(int(t))\n",
    "        if t ==1:\n",
    "            break\n",
    "            \n",
    "    x= str(a)\n",
    "    print(\"max_collatz({}) ➞ {}\".format(n,max(a)))\n",
    "max_collatz(10)\n",
    "max_collatz(32)\n",
    "max_collatz(85)"
   ]
  },
  {
   "cell_type": "code",
   "execution_count": null,
   "id": "c2528b6a-ced4-4f79-a13f-35c0404eedd0",
   "metadata": {},
   "outputs": [],
   "source": [
    "5.Write a function that sorts a list of integers by their digit length in descending order, then settles ties by sorting numbers with the same digit length in ascending order.\n",
    "\n",
    "Examples\n",
    "\n",
    "digit_sort([77, 23, 5, 7, 101])\n",
    "➞ [101, 23, 77, 5, 7]\n",
    "\n",
    "digit_sort([1, 5, 9, 2, 789, 563, 444])\n",
    "➞ [444, 563, 789, 1, 2, 5, 9]\n",
    "\n",
    "digit_sort([53219, 3772, 564, 32, 1])\n",
    "➞ [53219, 3772, 564, 32, 1]"
   ]
  },
  {
   "cell_type": "code",
   "execution_count": 7,
   "id": "a7468dca-05c0-43e3-bddc-53b7155de806",
   "metadata": {},
   "outputs": [
    {
     "name": "stdout",
     "output_type": "stream",
     "text": [
      "digit_sort([77, 23, 5, 7, 101]) ➞ [101, 23, 77, 5, 7]\n",
      "digit_sort([1, 5, 9, 2, 789, 563, 444]) ➞ [444, 563, 789, 1, 2, 5, 9]\n",
      "digit_sort([53219, 3772, 564, 32, 1]) ➞ [53219, 3772, 564, 32, 1]\n"
     ]
    }
   ],
   "source": [
    "def digit_sort(l):\n",
    "    m = len(str(max(l)))\n",
    "    a = []\n",
    "    for i in range(m,0,-1):\n",
    "        t = []\n",
    "        for j in l:\n",
    "            if len(str(j)) == i:\n",
    "                t.append(j)\n",
    "        a.extend(sorted(t))\n",
    "    print(\"digit_sort({}) ➞ {}\".format(l,a))\n",
    "digit_sort([77, 23, 5, 7, 101])\n",
    "digit_sort([1, 5, 9, 2, 789, 563, 444])\n",
    "digit_sort([53219, 3772, 564, 32, 1])"
   ]
  },
  {
   "cell_type": "code",
   "execution_count": null,
   "id": "1d4e320a-d5ad-4f6a-b434-20e00babf02c",
   "metadata": {},
   "outputs": [],
   "source": []
  },
  {
   "cell_type": "code",
   "execution_count": null,
   "id": "47eaeca7-6375-44d4-b13f-16513df62497",
   "metadata": {},
   "outputs": [],
   "source": []
  }
 ],
 "metadata": {
  "kernelspec": {
   "display_name": "Python 3",
   "language": "python",
   "name": "python3"
  },
  "language_info": {
   "codemirror_mode": {
    "name": "ipython",
    "version": 3
   },
   "file_extension": ".py",
   "mimetype": "text/x-python",
   "name": "python",
   "nbconvert_exporter": "python",
   "pygments_lexer": "ipython3",
   "version": "3.8.8"
  }
 },
 "nbformat": 4,
 "nbformat_minor": 5
}
