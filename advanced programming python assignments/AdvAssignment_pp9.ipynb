{
 "cells": [
  {
   "cell_type": "markdown",
   "id": "8af9ba11-b0cb-478c-9d51-c81711fc4291",
   "metadata": {},
   "source": [
    "1.YouTube offers different playback speed options for users. This allows users to increase or decrease the speed of the video content. Given the actual duration and playback speed of the video, calculate the playback duration of the video.\n",
    "\n",
    "Examples\n",
    "\n",
    "playback_duration(\"00:30:00\", 2) ➞ \"00:15:00\"\n",
    "\n",
    "playback_duration(\"01:20:00\", 1.5) ➞ \"00:53:20\"\n",
    "\n",
    "playback_duration(\"51:20:09\", 0.5) ➞ \"102:40:18\""
   ]
  },
  {
   "cell_type": "code",
   "execution_count": 13,
   "id": "d7ec7bc9-f6c1-4645-90c7-9f33196908d8",
   "metadata": {},
   "outputs": [
    {
     "name": "stdout",
     "output_type": "stream",
     "text": [
      "playback_duration(00:30:00, 2) ➞ 00:15:00\n",
      "playback_duration(01:20:00, 1.5) ➞ 00:53:20\n",
      "playback_duration(51:20:09, 0.5) ➞ 102:40:18\n"
     ]
    }
   ],
   "source": [
    "def playback_duration(t,s):\n",
    "    tt = t.split(\":\")\n",
    "    ts = (3600*int(tt[0])+60*int(tt[1])+int(tt[2]))/s\n",
    "    th = str(int(ts/3600)) if ts > 3600 else '00'\n",
    "    tm = str(int((ts%3600)/60)) if (ts)%3600 > 60 else '00'\n",
    "    tss = str(int((ts%3600)%60)) if ((ts)%3600)%60 > 0 else '00'   \n",
    "    print(\"playback_duration({}, {}) ➞ {}\".format(t,s,(th+\":\"+tm+\":\"+tss)))\n",
    "playback_duration(\"00:30:00\", 2)\n",
    "playback_duration(\"01:20:00\", 1.5)\n",
    "playback_duration(\"51:20:09\", 0.5) "
   ]
  },
  {
   "cell_type": "markdown",
   "id": "6e121597-3253-46af-ab90-6cf012bbbbe9",
   "metadata": {},
   "source": [
    "2.We needs your help to construct a building which will be a pile of n cubes. The cube at the bottom will have a volume of n^3, the cube above will have volume of (n-1)^3 and so on until the top which will have a volume of 1^3.\n",
    "\n",
    "Given the total volume m of the building, can you find the number of cubes n required for the building?\n",
    "\n",
    "In other words, you have to return an integer n such that:\n",
    "\n",
    "n^3 + (n-1)^3 + ... + 1^3 == m\n",
    "\n",
    "Return None if there is no such number.\n",
    "\n",
    "Examples\n",
    "\n",
    "pile_of_cubes(1071225) ➞ 45\n",
    "\n",
    "pile_of_cubes(4183059834009) ➞ 2022\n",
    "\n",
    "pile_of_cubes(16) ➞ None"
   ]
  },
  {
   "cell_type": "code",
   "execution_count": 15,
   "id": "330fa061-773c-48e2-819c-d629426cc3fe",
   "metadata": {},
   "outputs": [
    {
     "name": "stdout",
     "output_type": "stream",
     "text": [
      "pile_of_cubes(1071225) ➞ 45\n",
      "pile_of_cubes(4183059834009) ➞ 2022\n",
      "pile_of_cubes(16) ➞ None\n"
     ]
    }
   ],
   "source": [
    "def pile_of_cubes(v):\n",
    "    vv = 0\n",
    "    a = 0\n",
    "    for i in range(1,v):\n",
    "        vv += pow(i,3)\n",
    "        if v <= vv:\n",
    "            a = i if v == vv else None\n",
    "            break\n",
    "    print(\"pile_of_cubes({}) ➞ {}\".format(v,a))\n",
    "pile_of_cubes(1071225)\n",
    "pile_of_cubes(4183059834009)\n",
    "pile_of_cubes(16)"
   ]
  },
  {
   "cell_type": "markdown",
   "id": "4719582c-ccd4-4b15-ae05-af06f89690b6",
   "metadata": {},
   "source": [
    "3.A fulcrum of a list is an integer such that all elements to the left of it and all elements to the right of it sum to the same value. Write a function that finds the fulcrum of a list.\n",
    "\n",
    "To illustrate:\n",
    "\n",
    "find_fulcrum([3, 1, 5, 2, 4, 6, -1]) ➞ 2\n",
    "\n",
    "// Since [3, 1, 5] and [4, 6, -1] both sum to 9\n",
    "\n",
    "Examples\n",
    "\n",
    "find_fulcrum([1, 2, 4, 9, 10, -10, -9, 3]) ➞ 4\n",
    "\n",
    "find_fulcrum([9, 1, 9]) ➞ 1\n",
    "\n",
    "find_fulcrum([7, -1, 0, -1, 1, 1, 2, 3]) ➞ 0\n",
    "\n",
    "find_fulcrum([8, 8, 8, 8]) ➞ -1"
   ]
  },
  {
   "cell_type": "code",
   "execution_count": 7,
   "id": "1dd9bbc7-0975-474c-bb51-ee5cdd0a983d",
   "metadata": {},
   "outputs": [
    {
     "name": "stdout",
     "output_type": "stream",
     "text": [
      "find_fulcrum([3, 1, 5, 2, 4, 6, -1]) ➞ 2\n",
      "find_fulcrum([1, 2, 4, 9, 10, -10, -9, 3]) ➞ 4\n",
      "find_fulcrum([9, 1, 9]) ➞ 1\n",
      "find_fulcrum([7, -1, 0, -1, 1, 1, 2, 3]) ➞ 0\n",
      "find_fulcrum([8, 8, 8, 8]) ➞ -1\n"
     ]
    }
   ],
   "source": [
    "def find_fulcrum(l):\n",
    "    a = -1\n",
    "    for i in l:\n",
    "        j =l.index(i)\n",
    "        if sum(l[:j]) == sum(l[j+1:]):\n",
    "            a = i\n",
    "            break\n",
    "    print(\"find_fulcrum({}) ➞ {}\".format(l,a))\n",
    "find_fulcrum([3, 1, 5, 2, 4, 6, -1])\n",
    "find_fulcrum([1, 2, 4, 9, 10, -10, -9, 3])\n",
    "find_fulcrum([9, 1, 9])\n",
    "find_fulcrum([7, -1, 0, -1, 1, 1, 2, 3])\n",
    "find_fulcrum([8, 8, 8, 8])"
   ]
  },
  {
   "cell_type": "markdown",
   "id": "0f16e407-878b-4c03-b249-129acbae78c3",
   "metadata": {},
   "source": [
    "4.Given a list of integers representing the color of each sock, determine how many pairs of socks with matching colors there are. For example, there are 7 socks with colors [1, 2, 1, 2, 1, 3, 2]. There is one pair of color 1 and one of color 2. There are three odd socks left, one of each color. The number of pairs is 2.\n",
    "\n",
    "Create a function that returns an integer representing the number of matching pairs of socks that are available.\n",
    "\n",
    "Examples\n",
    "\n",
    "sock_merchant([10, 20, 20, 10, 10, 30, 50, 10, 20]) ➞ 3\n",
    "\n",
    "sock_merchant([50, 20, 30, 90, 30, 20, 50, 20, 90]) ➞ 4\n",
    "\n",
    "sock_merchant([]) ➞ 0"
   ]
  },
  {
   "cell_type": "code",
   "execution_count": 16,
   "id": "f98f7150-e8f9-474b-9e36-b3d57dba628a",
   "metadata": {},
   "outputs": [
    {
     "name": "stdout",
     "output_type": "stream",
     "text": [
      "sock_merchant([10, 20, 20, 10, 10, 30, 50, 10, 20]) ➞ 3\n",
      "sock_merchant([50, 20, 30, 90, 30, 20, 50, 20, 90]) ➞ 4\n",
      "sock_merchant([]) ➞ 0\n"
     ]
    }
   ],
   "source": [
    "def sock_merchant(l):\n",
    "    p = {}\n",
    "    a = 0\n",
    "    for i in l:\n",
    "        if i in p:\n",
    "            p[i]+=1\n",
    "        else:\n",
    "            p[i]=1\n",
    "    for j in p.values():\n",
    "        a += j//2\n",
    "    print(\"sock_merchant({}) ➞ {}\".format(l,a))\n",
    "sock_merchant([10, 20, 20, 10, 10, 30, 50, 10, 20])\n",
    "sock_merchant([50, 20, 30, 90, 30, 20, 50, 20, 90])\n",
    "sock_merchant([])"
   ]
  },
  {
   "cell_type": "markdown",
   "id": "8905eaa8-125f-4170-a2bc-55f2de9fb9c7",
   "metadata": {},
   "source": [
    "5.Create a function that takes a string containing integers as well as other characters and return the sum of the negative integers only.\n",
    "\n",
    "Examples\n",
    "\n",
    "negative_sum(\"-12 13%14&-11\") ➞ -23\n",
    "\n",
    "-12 + -11 = -23\n",
    "\n",
    "negative_sum(\"22 13%14&-11-22 13 12\") ➞ -33\n",
    "\n",
    "-11 + -22 = -33"
   ]
  },
  {
   "cell_type": "code",
   "execution_count": 17,
   "id": "895c45a5-5ada-4647-ab4a-3cf3197c5bda",
   "metadata": {},
   "outputs": [
    {
     "name": "stdout",
     "output_type": "stream",
     "text": [
      "negative_sum(-12 13%14&-11) ➞ -23\n",
      "negative_sum(22 13%14&-11-22 13 12) ➞ -33\n"
     ]
    }
   ],
   "source": [
    "import re\n",
    "def negative_sum(s):\n",
    "    print(\"negative_sum({}) ➞ {}\".format(s,(sum(map(int,re.findall('-\\d+',s))))))\n",
    "negative_sum(\"-12 13%14&-11\") \n",
    "negative_sum(\"22 13%14&-11-22 13 12\")"
   ]
  },
  {
   "cell_type": "code",
   "execution_count": null,
   "id": "186dcc42-477f-42b5-b52c-855240cc5fbe",
   "metadata": {},
   "outputs": [],
   "source": []
  }
 ],
 "metadata": {
  "kernelspec": {
   "display_name": "Python 3",
   "language": "python",
   "name": "python3"
  },
  "language_info": {
   "codemirror_mode": {
    "name": "ipython",
    "version": 3
   },
   "file_extension": ".py",
   "mimetype": "text/x-python",
   "name": "python",
   "nbconvert_exporter": "python",
   "pygments_lexer": "ipython3",
   "version": "3.8.8"
  }
 },
 "nbformat": 4,
 "nbformat_minor": 5
}
