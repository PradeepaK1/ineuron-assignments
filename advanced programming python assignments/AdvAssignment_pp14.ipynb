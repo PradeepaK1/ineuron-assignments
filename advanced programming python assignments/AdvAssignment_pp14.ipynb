{
 "cells": [
  {
   "cell_type": "markdown",
   "id": "b56fbe78-43f1-49c6-897f-aed06a870d56",
   "metadata": {},
   "source": [
    "1.Given a list of numbers, create a function that removes 25% from every number in the list except the smallest number, and adds the total amount removed to the smallest number.\n",
    "\n",
    "Examples\n",
    "\n",
    "show_the_love([4, 1, 4]) ➞ [3, 3, 3]\n",
    "\n",
    "show_the_love([16, 10, 8]) ➞ [12, 7.5, 14.5]\n",
    "\n",
    "show_the_love([2, 100]) ➞ [27, 75]"
   ]
  },
  {
   "cell_type": "code",
   "execution_count": 18,
   "id": "31568a9a-2004-4810-81d3-b2a82c273d2c",
   "metadata": {},
   "outputs": [
    {
     "name": "stdout",
     "output_type": "stream",
     "text": [
      "show_the_love([4, 1, 4]) ➞ [3, 3, 3]\n",
      "show_the_love([16, 10, 8]) ➞ [12, 7.5, 14.5]\n",
      "show_the_love([2, 100]) ➞ [27, 75]\n"
     ]
    }
   ],
   "source": [
    "def show_the_love(l):\n",
    "    rl = l.copy()\n",
    "    m = 0\n",
    "    for i in range(len(rl)):\n",
    "        if rl[i] is not min(rl):\n",
    "            m += rl[i]/4\n",
    "            if((rl[i]-(rl[i]/4))-int(rl[i]-(rl[i]/4))==0):\n",
    "                rl[i] = int(rl[i]-(rl[i]/4))\n",
    "            else:\n",
    "                rl[i] =  (rl[i]-(rl[i]/4))\n",
    "    if(( m +min(rl))-int( m +min(rl))==0):\n",
    "            rl[rl.index(min(rl))] = int(m +min(rl))\n",
    "    else:\n",
    "        rl[rl.index(min(rl))] = (m +min(rl))\n",
    "    print(\"show_the_love({}) ➞ {}\".format(l,rl))\n",
    "show_the_love([4, 1, 4])\n",
    "show_the_love([16, 10, 8])\n",
    "show_the_love([2, 100])"
   ]
  },
  {
   "cell_type": "markdown",
   "id": "e8d88915-53cd-4640-9814-d73cd9e0e1be",
   "metadata": {},
   "source": [
    "2.Create a function that takes in two words as input and returns a list of three elements, in the following order:\n",
    "\n",
    " 1.Shared letters between two words.\n",
    "   \n",
    " 2.Letters unique to word 1.\n",
    "  \n",
    " 3.Letters unique to word 2.\n",
    "\n",
    "Each element should have unique letters, and have each letter be alphabetically sorted.\n",
    "\n",
    "Examples\n",
    "\n",
    "letters(\"sharp\", \"soap\") ➞ [\"aps\", \"hr\", \"o\"]\n",
    "\n",
    "letters(\"board\", \"bored\") ➞ [\"bdor\", \"a\", \"e\"]\n",
    "\n",
    "letters(\"happiness\", \"envelope\") ➞ [\"enp\", \"ahis\", \"lov\"]\n",
    "\n",
    "letters(\"kerfuffle\", \"fluffy\") ➞ [\"flu\", \"ekr\", \"y\"]\n",
    "\n",
    "Even with multiple matching letters (e.g. 3 f's), there should only exist a single \"f\" in your first element.\n",
    "\n",
    "letters(\"match\", \"ham\") ➞ [\"ahm\", \"ct\", \"\"]\n",
    "\n",
    "\"ham\" does not contain any letters that are not found already in \"match\"."
   ]
  },
  {
   "cell_type": "code",
   "execution_count": 19,
   "id": "9dcd8c49-f290-416b-be27-3f853eaa357e",
   "metadata": {},
   "outputs": [
    {
     "name": "stdout",
     "output_type": "stream",
     "text": [
      "letters(sharp,soap) ➞ ['aps', 'hr', 'o']\n",
      "letters(board,bored) ➞ ['bdor', 'a', 'e']\n",
      "letters(happiness,envelope) ➞ ['enp', 'ahis', 'lov']\n",
      "letters(kerfuffle,fluffy) ➞ ['flu', 'ekr', 'y']\n",
      "letters(match,ham) ➞ ['ahm', 'ct', '']\n"
     ]
    }
   ],
   "source": [
    "def letters(s1,s2):\n",
    "    s1d = set(s1)\n",
    "    s2d = set(s2)\n",
    "    l = []\n",
    "    l.append(''.join(sorted(s1d.intersection(s2d))))\n",
    "    l.append(''.join(sorted(s1d.difference(s2d))))\n",
    "    l.append(''.join(sorted(s2d.difference(s1d)))) \n",
    "    print(\"letters({},{}) ➞ {}\".format(s1,s2,l))\n",
    "letters(\"sharp\", \"soap\")\n",
    "letters(\"board\", \"bored\")\n",
    "letters(\"happiness\", \"envelope\")\n",
    "letters(\"kerfuffle\", \"fluffy\")\n",
    "letters(\"match\", \"ham\")"
   ]
  },
  {
   "cell_type": "markdown",
   "id": "618e3d53-fc41-4ab6-bcb1-387e9857700a",
   "metadata": {},
   "source": [
    "3.Write a function that pairs the first number in an array with the last, the second number with the second to last, etc.\n",
    "\n",
    "Examples\n",
    "\n",
    "pairs([1, 2, 3, 4, 5, 6, 7]) ➞ [[1, 7], [2, 6], [3, 5], [4, 4]]\n",
    "\n",
    "pairs([1, 2, 3, 4, 5, 6]) ➞ [[1, 6], [2, 5], [3, 4]]\n",
    "\n",
    "pairs([5, 9, 8, 1, 2]) ➞ [[5, 2], [9, 1], [8, 8]]\n",
    "\n",
    "pairs([]) ➞ []"
   ]
  },
  {
   "cell_type": "code",
   "execution_count": 20,
   "id": "ad2f9ded-1c8a-4e10-a8e1-9fbd973be20e",
   "metadata": {},
   "outputs": [
    {
     "name": "stdout",
     "output_type": "stream",
     "text": [
      "pairs([1, 2, 3, 4, 5, 6, 7]) ➞ [[1, 7], [2, 6], [3, 5], [4, 4]]\n",
      "pairs([1, 2, 3, 4, 5, 6]) ➞ [[1, 6], [2, 5], [3, 4]]\n",
      "pairs([5, 9, 8, 1, 2]) ➞ [[5, 2], [9, 1], [8, 8]]\n",
      "pairs([]) ➞ []\n"
     ]
    }
   ],
   "source": [
    "def pairs(l):\n",
    "    t = l.copy()\n",
    "    a = []\n",
    "    while True:\n",
    "        if len(l) > 0:\n",
    "            if len(l) == 1:\n",
    "                a.append([l[0],l.pop(0)])\n",
    "            else:\n",
    "                a.append([l.pop(0),l.pop(-1)])\n",
    "        else:\n",
    "            break\n",
    "    print(\"pairs({}) ➞ {}\".format(t,a))\n",
    "pairs([1, 2, 3, 4, 5, 6, 7])\n",
    "pairs([1, 2, 3, 4, 5, 6])\n",
    "pairs([5, 9, 8, 1, 2])\n",
    "pairs([])"
   ]
  },
  {
   "cell_type": "markdown",
   "id": "b2341b88-fa6b-49eb-8999-09f3143da633",
   "metadata": {},
   "source": [
    "4.Write a function that adds two numbers. The catch, however, is that the numbers will be strings.\n",
    "\n",
    "Examples\n",
    "\n",
    "add_str_nums(\"4\", \"5\") ➞ \"9\"\n",
    "\n",
    "add_str_nums(\"abcdefg\", \"3\") ➞ \"-1\"\n",
    "\n",
    "add_str_nums(\"1\", \"\") ➞ \"1\"\n",
    "\n",
    "add_str_nums(\"1874682736267235927359283579235789257\", \"32652983572985729\") ➞ \"1874682736267235927391936562808774986\""
   ]
  },
  {
   "cell_type": "code",
   "execution_count": 21,
   "id": "c4f82cd3-0b48-4380-88cc-817f273f9904",
   "metadata": {},
   "outputs": [
    {
     "name": "stdout",
     "output_type": "stream",
     "text": [
      "add_str_nums(4, 5) ➞ '9'\n",
      "add_str_nums(abcdefg, 3) ➞ '-1'\n",
      "add_str_nums(1, 0) ➞ '1'\n",
      "add_str_nums(1874682736267235927359283579235789257, 32652983572985729) ➞ '1874682736267235927391936562808774986'\n"
     ]
    }
   ],
   "source": [
    "def add_str_nums(n,n1):\n",
    "    n = n if len(n) > 0 else \"0\"\n",
    "    n1 = n1 if len(n1) > 0 else \"0\"\n",
    "    if n.isdigit() == False or n1.isdigit() == False:\n",
    "        a = -1\n",
    "    else: \n",
    "        a = int(n)+int(n1)\n",
    "    print(\"add_str_nums({}, {}) ➞ '{}'\".format(n,n1,str(a)))\n",
    "add_str_nums(\"4\", \"5\")\n",
    "add_str_nums(\"abcdefg\", \"3\")\n",
    "add_str_nums(\"1\", \"\")\n",
    "add_str_nums(\"1874682736267235927359283579235789257\", \"32652983572985729\")"
   ]
  },
  {
   "cell_type": "markdown",
   "id": "b44f0eee-f1aa-4f3c-bec5-f5052a617705",
   "metadata": {},
   "source": [
    "5.lPaeesh le pemu mnxit ehess rtnisg! Oh, sorry, that was supposed to say: Please help me unmix these strings!\n",
    "\n",
    "Somehow my strings have all become mixed up; every pair of characters has been swapped. Help me undo this so I can understand my strings again.\n",
    "\n",
    "Examples\n",
    "\n",
    "unmix(\"123456\") ➞ \"214365\"\n",
    "\n",
    "unmix(\"hTsii  s aimex dpus rtni.g\") ➞ \"This is a mixed up string.\"\n",
    "\n",
    "unmix(\"badce\") ➞ \"abcde\""
   ]
  },
  {
   "cell_type": "code",
   "execution_count": 22,
   "id": "0b2d64aa-7bbd-42ca-9e2e-f07e3294cf8f",
   "metadata": {},
   "outputs": [
    {
     "name": "stdout",
     "output_type": "stream",
     "text": [
      "unmix(123456) ➞ '214365'\n",
      "unmix(hTsii  s aimex dpus rtni.g) ➞ 'This is a mixed up string.'\n",
      "unmix(badce) ➞ 'abcde'\n"
     ]
    }
   ],
   "source": [
    "def unmix(s):\n",
    "    a = \"\"\n",
    "    for i in range(0,len(s)-1,2):\n",
    "        a += s[i+1]+s[i]\n",
    "        if (len(s)%2 != 0 and i == len(s)//2 ):\n",
    "            a += s[-1]       \n",
    "    print(\"unmix({}) ➞ '{}'\".format(s,a))\n",
    "unmix(\"123456\")\n",
    "unmix(\"hTsii  s aimex dpus rtni.g\")\n",
    "unmix(\"badce\")"
   ]
  },
  {
   "cell_type": "code",
   "execution_count": null,
   "id": "ae078a50-eb1c-4a89-9fd3-d611df81b77d",
   "metadata": {},
   "outputs": [],
   "source": []
  },
  {
   "cell_type": "code",
   "execution_count": null,
   "id": "640f1603-c4fe-4353-8314-f68394c971c7",
   "metadata": {},
   "outputs": [],
   "source": []
  }
 ],
 "metadata": {
  "kernelspec": {
   "display_name": "Python 3",
   "language": "python",
   "name": "python3"
  },
  "language_info": {
   "codemirror_mode": {
    "name": "ipython",
    "version": 3
   },
   "file_extension": ".py",
   "mimetype": "text/x-python",
   "name": "python",
   "nbconvert_exporter": "python",
   "pygments_lexer": "ipython3",
   "version": "3.8.8"
  }
 },
 "nbformat": 4,
 "nbformat_minor": 5
}
