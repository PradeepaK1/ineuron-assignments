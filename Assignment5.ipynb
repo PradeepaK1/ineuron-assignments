{
 "cells": [
  {
   "cell_type": "markdown",
   "id": "108921f2-4ce6-4687-9bcb-a260b0f6e993",
   "metadata": {},
   "source": [
    "1.What does an empty dictionary's code look like?\n",
    "\n",
    "{} - This is how we declare empty dictionary"
   ]
  },
  {
   "cell_type": "code",
   "execution_count": 9,
   "id": "e8ce3290-a70a-47c0-876c-36f6ec7584dc",
   "metadata": {},
   "outputs": [
    {
     "data": {
      "text/plain": [
       "dict"
      ]
     },
     "execution_count": 9,
     "metadata": {},
     "output_type": "execute_result"
    }
   ],
   "source": [
    "d={}\n",
    "type(d)"
   ]
  },
  {
   "cell_type": "code",
   "execution_count": null,
   "id": "19ca1d98-cf10-44b6-a8c8-88c41d3a1d92",
   "metadata": {},
   "outputs": [],
   "source": []
  },
  {
   "cell_type": "markdown",
   "id": "7acd8b9b-830b-4f52-b919-61651518efb5",
   "metadata": {},
   "source": [
    "2.What is the value of a dictionary value with the key 'foo' and the value 42?\n",
    "\n",
    "It can be framed as \n",
    "\n",
    "d={'foo':42} \n",
    "\n",
    "As dicitionary follows {key:value}"
   ]
  },
  {
   "cell_type": "markdown",
   "id": "97836342-5c4d-4193-b0ba-e178ad1f7ad5",
   "metadata": {},
   "source": [
    "3.What is the most significant distinction between a dictionary and a list?\n",
    "\n",
    "List holds a set of elements with no specific relation except indexing and it is ordered set of elements\n",
    "\n",
    "l=[1,23,4]\n",
    "\n",
    "Dictionary has key value pair relationship among its elements and is a collection of unordered elemets\n",
    "\n",
    "d={'m':1,'n':2}"
   ]
  },
  {
   "cell_type": "code",
   "execution_count": null,
   "id": "690a9692-9557-4ec6-accc-e407bdcbb838",
   "metadata": {},
   "outputs": [],
   "source": []
  },
  {
   "cell_type": "markdown",
   "id": "2b0699a1-dcd6-47b0-86a2-24d4d0ecd1bc",
   "metadata": {},
   "source": [
    "4.What happens if you try to access spam['foo'] if spam is {'bar': 100}?\n",
    "\n",
    "We will get KeyError as, there is no key named 'foo' in the dictionary"
   ]
  },
  {
   "cell_type": "code",
   "execution_count": 10,
   "id": "d00f9272-3a52-4b02-99a7-4243fe0737a2",
   "metadata": {},
   "outputs": [
    {
     "ename": "KeyError",
     "evalue": "'foo'",
     "output_type": "error",
     "traceback": [
      "\u001b[1;31m---------------------------------------------------------------------------\u001b[0m",
      "\u001b[1;31mKeyError\u001b[0m                                  Traceback (most recent call last)",
      "\u001b[1;32m<ipython-input-10-56a8e50c7ff8>\u001b[0m in \u001b[0;36m<module>\u001b[1;34m\u001b[0m\n\u001b[0;32m      1\u001b[0m \u001b[0mspam\u001b[0m \u001b[1;33m=\u001b[0m \u001b[1;33m{\u001b[0m\u001b[1;34m'bar'\u001b[0m\u001b[1;33m:\u001b[0m \u001b[1;36m100\u001b[0m\u001b[1;33m}\u001b[0m\u001b[1;33m\u001b[0m\u001b[1;33m\u001b[0m\u001b[0m\n\u001b[1;32m----> 2\u001b[1;33m \u001b[0mspam\u001b[0m\u001b[1;33m[\u001b[0m\u001b[1;34m'foo'\u001b[0m\u001b[1;33m]\u001b[0m\u001b[1;33m\u001b[0m\u001b[1;33m\u001b[0m\u001b[0m\n\u001b[0m",
      "\u001b[1;31mKeyError\u001b[0m: 'foo'"
     ]
    }
   ],
   "source": [
    "spam = {'bar': 100}\n",
    "spam['foo']"
   ]
  },
  {
   "cell_type": "code",
   "execution_count": null,
   "id": "3abea907-d29e-472c-9d84-3d4033f44879",
   "metadata": {},
   "outputs": [],
   "source": []
  },
  {
   "cell_type": "markdown",
   "id": "b3e37334-d81a-42c3-805f-6c0c07d8793b",
   "metadata": {},
   "source": [
    "5.If a dictionary is stored in spam, what is the difference between the expressions 'cat' in spam and 'cat' in spam.keys()?\n",
    "\n",
    "Both will give same output as 'cat' in d checks for key as 'cat' and if we specifically say to find 'cat' in keys it again looks for keys of the dictionary"
   ]
  },
  {
   "cell_type": "code",
   "execution_count": 11,
   "id": "89ff2267-fcee-4549-b9a2-352b9ff01774",
   "metadata": {},
   "outputs": [
    {
     "name": "stdout",
     "output_type": "stream",
     "text": [
      "True\n",
      "True\n"
     ]
    }
   ],
   "source": [
    "d={'cat':1}\n",
    "d1={1:'cat'}\n",
    "print('cat' in d)\n",
    "print('cat' in d1.values())"
   ]
  },
  {
   "cell_type": "code",
   "execution_count": null,
   "id": "ed75c952-de70-441f-89a5-f8fad73b5251",
   "metadata": {},
   "outputs": [],
   "source": []
  },
  {
   "cell_type": "markdown",
   "id": "f5946eac-ce8f-4832-bace-adb5fc1d5102",
   "metadata": {},
   "source": [
    "6.If a dictionary is stored in spam, what is the difference between the expressions 'cat' in spam and 'cat' in spam.values()?\n",
    "\n",
    "'cat' in d checks for key as 'cat' but if we specifically say to find 'cat' in values it looks for values of the dictionary"
   ]
  },
  {
   "cell_type": "code",
   "execution_count": 12,
   "id": "a7bd1408-7aca-4ae0-bf30-6f8b2ee8c145",
   "metadata": {},
   "outputs": [
    {
     "name": "stdout",
     "output_type": "stream",
     "text": [
      "True\n",
      "True\n"
     ]
    }
   ],
   "source": [
    "d={'cat':1}\n",
    "d1={1:'cat'}\n",
    "print('cat' in d)\n",
    "print('cat' in d1.values())"
   ]
  },
  {
   "cell_type": "code",
   "execution_count": null,
   "id": "6843a7a5-eabd-4ea3-a361-1383b26fb7ff",
   "metadata": {},
   "outputs": [],
   "source": []
  },
  {
   "cell_type": "code",
   "execution_count": null,
   "id": "e97304ca-338c-4fd0-bb7b-c80664a3a816",
   "metadata": {},
   "outputs": [],
   "source": [
    "7. What is a shortcut for the following code?\n",
    "\n",
    "if 'color' not in spam:\n",
    "\n",
    "    spam['color'] = 'black'\n",
    "\n",
    "We can achieve the same using formatting this into a dictionary assigning color as key and value as black"
   ]
  },
  {
   "cell_type": "code",
   "execution_count": 6,
   "id": "bbec3204-5792-41a9-ab39-aa124c4384f1",
   "metadata": {},
   "outputs": [
    {
     "name": "stdout",
     "output_type": "stream",
     "text": [
      "{'bar': 100, 'color': 'black'}\n"
     ]
    }
   ],
   "source": [
    "spam.setdefault('color','black')\n",
    "print(spam)"
   ]
  },
  {
   "cell_type": "code",
   "execution_count": null,
   "id": "eb5c8e5f-20e1-4e8f-b64f-389428b99cdd",
   "metadata": {},
   "outputs": [],
   "source": []
  },
  {
   "cell_type": "code",
   "execution_count": null,
   "id": "0e0c4fa2-b16c-48cf-8237-6b41a17b0b3e",
   "metadata": {},
   "outputs": [],
   "source": [
    "\n",
    "8. How do you \"pretty print\" dictionary values using which module and function?\n",
    "We can use pprint.pprint() which is used to format dictionary in a more visually appealing and easily readable context"
   ]
  },
  {
   "cell_type": "code",
   "execution_count": 7,
   "id": "7a099ae8-c27f-4d41-9928-290d71428b76",
   "metadata": {},
   "outputs": [
    {
     "name": "stdout",
     "output_type": "stream",
     "text": [
      "{'bar': 100, 'color': 'black'}\n"
     ]
    }
   ],
   "source": [
    "import pprint\n",
    "pprint.pprint(spam)"
   ]
  },
  {
   "cell_type": "code",
   "execution_count": null,
   "id": "0b40cf85-7227-4999-a36c-2f2ce4a23f5a",
   "metadata": {},
   "outputs": [],
   "source": []
  }
 ],
 "metadata": {
  "kernelspec": {
   "display_name": "Python 3",
   "language": "python",
   "name": "python3"
  },
  "language_info": {
   "codemirror_mode": {
    "name": "ipython",
    "version": 3
   },
   "file_extension": ".py",
   "mimetype": "text/x-python",
   "name": "python",
   "nbconvert_exporter": "python",
   "pygments_lexer": "ipython3",
   "version": "3.8.8"
  }
 },
 "nbformat": 4,
 "nbformat_minor": 5
}
