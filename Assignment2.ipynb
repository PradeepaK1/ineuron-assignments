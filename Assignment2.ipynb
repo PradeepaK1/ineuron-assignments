{
 "cells": [
  {
   "cell_type": "markdown",
   "id": "251806fb-6209-40c4-a582-b0e18d443267",
   "metadata": {},
   "source": [
    "1.What are the two values of the Boolean data type? How do you write them?\n",
    "\n",
    "Boolean data type holds two values \n",
    "\n",
    "i) True - which equals True or True, True or False, True and True \n",
    "\n",
    "ii) False - which equals False and False, True and False"
   ]
  },
  {
   "cell_type": "markdown",
   "id": "bfc397fc-4247-43e7-a123-17967cb1e37f",
   "metadata": {},
   "source": [
    "2.What are the three different types of Boolean operators?\n",
    "\n",
    "The three different types of Boolean operators are and, or, not\n",
    "\n",
    "and - 0 and 1 = 0\n",
    "\n",
    "or - 0 or 1 = 1\n",
    "\n",
    "not - not(0) =1"
   ]
  },
  {
   "cell_type": "markdown",
   "id": "8990032b-9a46-4c6e-9df0-19cca84f1dc2",
   "metadata": {},
   "source": [
    "3.Make a list of each Boolean operator's truth tables (i.e. every possible combination of Boolean values for the operator and what it evaluate ).\n",
    "\n",
    "And\n",
    "\n",
    "a b output\n",
    "\n",
    "0 0   0\n",
    "\n",
    "0 1   0\n",
    "\n",
    "1 0   0\n",
    "\n",
    "1 1   1\n",
    "\n",
    "\n",
    "Or\n",
    "\n",
    "a b output\n",
    "\n",
    "0 0   0\n",
    "\n",
    "0 1   1\n",
    "\n",
    "1 0   1\n",
    "\n",
    "1 1   1\n",
    "\n",
    "\n",
    "Not \n",
    "\n",
    "a output\n",
    "\n",
    "0   1\n",
    "\n",
    "1   0"
   ]
  },
  {
   "cell_type": "markdown",
   "id": "ba12d200-fd15-44a2-8f92-e13071386ded",
   "metadata": {},
   "source": [
    "4.What are the values of the following expressions?\n",
    "\n",
    "(5 > 4) and (3 == 5) = False\n",
    "\n",
    "not (5 > 4) = False \n",
    "\n",
    "(5 > 4) or (3 == 5) True\n",
    "\n",
    "not ((5 > 4) or (3 == 5)) = False\n",
    "\n",
    "(True and True) and (True == False) = False\n",
    "\n",
    "(not False) or (not True) = True"
   ]
  },
  {
   "cell_type": "markdown",
   "id": "6f3b3f6d-58c5-41b1-890f-12bac480500f",
   "metadata": {},
   "source": [
    "5.What are the six comparison operators?\n",
    "\n",
    "==,>=, <=, >, <,!=\n",
    "\n",
    "== : 9==9 is True\n",
    "\n",
    ">= : 9>=8 is True\n",
    "\n",
    "<= : 9<=8 is False\n",
    "\n",
    "> : 9>8 is True\n",
    "\n",
    "<: 9<8 is False\n",
    "\n",
    "!= : 9!=9=8 is True"
   ]
  },
  {
   "cell_type": "markdown",
   "id": "343f43e7-44a3-4f8f-a8d3-8cad490e8738",
   "metadata": {},
   "source": [
    "6.How do you tell the difference between the equal to and assignment operators?Describe a condition and when you would use one.\n",
    "\n",
    "= Operator:\n",
    "\n",
    "    Here we are assigning a value of any datatype to a variable and can be used any where in the code\n",
    "    \n",
    "    Eg. a=9\n",
    "    \n",
    "        h=[1,2,3]\n",
    "\n",
    "== equal to Operator:\n",
    "\n",
    "    Here we use this to compare two values to check they are same or not and it produces a boolean output as true or false\n",
    "    Eg. 0==0 is True"
   ]
  },
  {
   "cell_type": "markdown",
   "id": "d31ed1bb-9aad-43fa-8154-992c5f3adaa3",
   "metadata": {},
   "source": [
    "7.Identify the three blocks in this code:\n",
    "\n",
    "spam = 0\n",
    "\n",
    "if spam == 10:\n",
    "\n",
    "    print('eggs')\n",
    "    \n",
    "    if spam > 5:\n",
    "    \n",
    "        print('bacon')\n",
    "    \n",
    "    else:\n",
    "    \n",
    "        print('ham')\n",
    "    \n",
    "    print('spam')\n",
    "\n",
    "print('spam')\n",
    "\n",
    "First Block is to check spam variable is equal to 10 and if it is 10 then eggs is printed\n",
    "\n",
    "Inside first block there is another block lets take that as second block and that will work if spam variable is only 10 and greater than 5 then bacon is printed\n",
    "\n",
    "There is a third block which is a else block like if spam is exactly 10 but not greater than 5 then ham is printed\n",
    "\n",
    "Either if spam is equal to 10 then eggs, spam, spam is printed\n"
   ]
  },
  {
   "cell_type": "markdown",
   "id": "5b325a85-80cc-4b3e-b32e-18b3a1b4eb3a",
   "metadata": {},
   "source": [
    "8.Write code that prints Hello if 1 is stored in spam, prints Howdy if 2 is stored in spam, and prints Greetings! if anything else is stored in spam."
   ]
  },
  {
   "cell_type": "code",
   "execution_count": 1,
   "id": "5af897e1-c32c-4073-914a-04b053fb53d0",
   "metadata": {},
   "outputs": [
    {
     "name": "stdin",
     "output_type": "stream",
     "text": [
      "Enter value for spam 1\n"
     ]
    },
    {
     "name": "stdout",
     "output_type": "stream",
     "text": [
      "Hello\n"
     ]
    }
   ],
   "source": [
    "spam = int(input(\"Enter value for spam\"))\n",
    "if spam == 1:\n",
    "    print(\"Hello\")\n",
    "elif spam == 2:\n",
    "    print(\"Howdy\")\n",
    "else:\n",
    "    print(\"Greetings!\")"
   ]
  },
  {
   "cell_type": "markdown",
   "id": "5682e5a5-6969-456a-8035-8fe244a7855a",
   "metadata": {},
   "source": [
    "9.If your programme is stuck in an endless loop, what keys you’ll press?\n",
    "\n",
    "Ctrl+c"
   ]
  },
  {
   "cell_type": "markdown",
   "id": "b1ec67fa-a5e2-4c19-857b-2245b7417a18",
   "metadata": {},
   "source": [
    "10.How can you tell the difference between break and continue?\n",
    "\n",
    "Break statement will cause an abdrupt end to the loop which is running when the break condition is met\n",
    "\n",
    "Eg. s=[1,2,3]\n",
    "\n",
    "    for i in s:\n",
    "\n",
    "        if s==2:\n",
    "        \n",
    "            break\n",
    "            \n",
    "            print(s)\n",
    "    \n",
    "    Output:\n",
    "    \n",
    "    1\n",
    "\n",
    "Continue Statement will skip the current iteration in the loop and execute the next iteration until loop ends\n",
    "\n",
    "Eg. s=[1,2,3]\n",
    " \n",
    "    for i in s:\n",
    "    \n",
    "        if s==2:\n",
    "        \n",
    "            continue\n",
    "           \n",
    "            print(s)\n",
    "  \n",
    "    Output:\n",
    "        1\n",
    "        3\n"
   ]
  },
  {
   "cell_type": "markdown",
   "id": "304cc6be-9dab-4ca9-832d-d7bb9d886b02",
   "metadata": {},
   "source": [
    "11.In a for loop, what is the difference between range(10), range(0, 10), and range(0, 10, 1)?\n",
    "\n",
    "It all means the same for example if we give\n",
    "\n",
    "for i in range(0,3,1):\n",
    "\n",
    "    print(i)\n",
    "\n",
    "    or\n",
    "\n",
    "for i in range(0,3):\n",
    "\n",
    "    print(i)\n",
    "\n",
    "    or\n",
    "\n",
    "for i in range(3):\n",
    "\n",
    "    print(i)\n",
    "\n",
    "All three will give same output as \n",
    "\n",
    "0\n",
    "\n",
    "1\n",
    "\n",
    "2\n",
    "\n",
    "The declaration of loop is different with the specification of initial value of i as 0 and incrementing it to 1 for next executions differ\n",
    "\n",
    "for i in range (initial_value, end_value, increment)\n"
   ]
  },
  {
   "cell_type": "markdown",
   "id": "d1009b02-aef1-42b1-938d-cb17e1628b96",
   "metadata": {},
   "source": [
    "12.Write a short program that prints the numbers 1 to 10 using a for loop. \n",
    "Then write an equivalent program that prints the numbers 1 to 10 using a while loop."
   ]
  },
  {
   "cell_type": "code",
   "execution_count": 3,
   "id": "1d0cf99f-081d-4ec8-ad11-912eefb5a9ba",
   "metadata": {},
   "outputs": [
    {
     "name": "stdout",
     "output_type": "stream",
     "text": [
      "1\n",
      "2\n",
      "3\n",
      "4\n",
      "5\n",
      "6\n",
      "7\n",
      "8\n",
      "9\n",
      "10\n"
     ]
    }
   ],
   "source": [
    "for i in range(1,11):\n",
    "    print (i)"
   ]
  },
  {
   "cell_type": "code",
   "execution_count": 7,
   "id": "b445bcea-c849-4772-83f4-c225935a10c6",
   "metadata": {},
   "outputs": [
    {
     "name": "stdout",
     "output_type": "stream",
     "text": [
      "1\n",
      "2\n",
      "3\n",
      "4\n",
      "5\n",
      "6\n",
      "7\n",
      "8\n",
      "9\n",
      "10\n"
     ]
    }
   ],
   "source": [
    "i=1\n",
    "while i<11:\n",
    "    print(i)\n",
    "    i+=1"
   ]
  },
  {
   "cell_type": "markdown",
   "id": "2b924e01-8eb4-4191-9d31-9fd24a215c86",
   "metadata": {},
   "source": [
    "13. If you had a function named bacon() inside a module named spam, how would you call it after importing spam?\n",
    "\n",
    "import spam\n",
    "\n",
    "spam.bacon()\n"
   ]
  },
  {
   "cell_type": "code",
   "execution_count": null,
   "id": "2496f224-ec0c-43fc-9fee-ae80df033d0f",
   "metadata": {},
   "outputs": [],
   "source": []
  }
 ],
 "metadata": {
  "kernelspec": {
   "display_name": "Python 3",
   "language": "python",
   "name": "python3"
  },
  "language_info": {
   "codemirror_mode": {
    "name": "ipython",
    "version": 3
   },
   "file_extension": ".py",
   "mimetype": "text/x-python",
   "name": "python",
   "nbconvert_exporter": "python",
   "pygments_lexer": "ipython3",
   "version": "3.8.8"
  }
 },
 "nbformat": 4,
 "nbformat_minor": 5
}
